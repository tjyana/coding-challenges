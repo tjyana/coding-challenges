{
 "cells": [
  {
   "cell_type": "code",
   "execution_count": null,
   "id": "4ce60ae2",
   "metadata": {},
   "outputs": [],
   "source": [
    "import string\n",
    "# string.punctuation = all punctuation symbols\n",
    "\n",
    "text = 's;l[;asdfasf ;a; ;j;a'\n",
    "\n",
    "def punctuation(text):\n",
    "    text = ''\n",
    "    for punctuation in string.punctuation:\n",
    "        text = text.replace(punctuation, '')\n",
    "    return text\n",
    "\n",
    "punctuation(text)"
   ]
  },
  {
   "cell_type": "code",
   "execution_count": null,
   "id": "617ff769",
   "metadata": {},
   "outputs": [],
   "source": [
    "text = 's;l[;asdfasf ;a; ;j;a'\n",
    "\n",
    "for punctuation in string.punctuation:\n",
    "    text = text.replace('punctuation', '')\n",
    "print(text)"
   ]
  },
  {
   "cell_type": "code",
   "execution_count": null,
   "id": "64bfab39",
   "metadata": {},
   "outputs": [],
   "source": [
    "# infinite loop\n",
    "\n",
    "numbers = [9, 8, 7, 6, 5, 4, 3, 2, 1, 0]\n",
    "\n",
    "for number in numbers:\n",
    "    if number % 2 == 1:\n",
    "        numbers.append(0)\n",
    "    else:\n",
    "        numbers.append(number)\n",
    "        \n",
    "numbers"
   ]
  },
  {
   "cell_type": "code",
   "execution_count": null,
   "id": "bac46bfc",
   "metadata": {},
   "outputs": [],
   "source": []
  }
 ],
 "metadata": {
  "kernelspec": {
   "display_name": "Python 3 (ipykernel)",
   "language": "python",
   "name": "python3"
  },
  "language_info": {
   "codemirror_mode": {
    "name": "ipython",
    "version": 3
   },
   "file_extension": ".py",
   "mimetype": "text/x-python",
   "name": "python",
   "nbconvert_exporter": "python",
   "pygments_lexer": "ipython3",
   "version": "3.10.6"
  },
  "toc": {
   "base_numbering": 1,
   "nav_menu": {},
   "number_sections": true,
   "sideBar": true,
   "skip_h1_title": false,
   "title_cell": "Table of Contents",
   "title_sidebar": "Contents",
   "toc_cell": false,
   "toc_position": {},
   "toc_section_display": true,
   "toc_window_display": false
  }
 },
 "nbformat": 4,
 "nbformat_minor": 5
}
