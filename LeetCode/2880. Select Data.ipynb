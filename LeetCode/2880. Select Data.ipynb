{
 "cells": [
  {
   "cell_type": "code",
   "execution_count": null,
   "id": "cf587083",
   "metadata": {},
   "outputs": [],
   "source": [
    "DataFrame students\n",
    "+-------------+--------+\n",
    "| Column Name | Type   |\n",
    "+-------------+--------+\n",
    "| student_id  | int    |\n",
    "| name        | object |\n",
    "| age         | int    |\n",
    "+-------------+--------+\n",
    "\n",
    "Write a solution to select the name and age of the student with student_id = 101.\n",
    "\n",
    "The result format is in the following example.\n",
    "\n",
    " \n",
    "\n",
    "Example 1:\n",
    "Input:\n",
    "+------------+---------+-----+\n",
    "| student_id | name    | age |\n",
    "+------------+---------+-----+\n",
    "| 101        | Ulysses | 13  |\n",
    "| 53         | William | 10  |\n",
    "| 128        | Henry   | 6   |\n",
    "| 3          | Henry   | 11  |\n",
    "+------------+---------+-----+\n",
    "Output:\n",
    "+---------+-----+\n",
    "| name    | age | \n",
    "+---------+-----+\n",
    "| Ulysses | 13  |\n",
    "+---------+-----+\n",
    "Explanation:\n",
    "Student Ulysses has student_id = 101, we select the name and age."
   ]
  },
  {
   "cell_type": "code",
   "execution_count": null,
   "id": "b0ca5682",
   "metadata": {},
   "outputs": [],
   "source": [
    "import pandas as pd\n",
    "\n",
    "def selectData(students: pd.DataFrame) -> pd.DataFrame:\n",
    "    return students[students['student_id'] == 101].drop(columns='student_id')"
   ]
  },
  {
   "cell_type": "code",
   "execution_count": 5,
   "id": "d798f039",
   "metadata": {},
   "outputs": [
    {
     "name": "stdout",
     "output_type": "stream",
     "text": [
      "   student_id     name  age\n",
      "0         101  Ulysses   13\n",
      "1          53  William   10\n",
      "2         128    Henry    6\n",
      "3           3    Henry   11\n"
     ]
    }
   ],
   "source": [
    "import pandas as pd\n",
    "\n",
    "# Define the data as a list of dictionaries\n",
    "data = [\n",
    "    {\"student_id\": 101, \"name\": \"Ulysses\", \"age\": 13},\n",
    "    {\"student_id\": 53, \"name\": \"William\", \"age\": 10},\n",
    "    {\"student_id\": 128, \"name\": \"Henry\", \"age\": 6},\n",
    "    {\"student_id\": 3, \"name\": \"Henry\", \"age\": 11}\n",
    "]\n",
    "\n",
    "# Create the DataFrame\n",
    "students = pd.DataFrame(data)\n",
    "\n",
    "# Print the DataFrame\n",
    "print(students)\n"
   ]
  },
  {
   "cell_type": "code",
   "execution_count": null,
   "id": "0ded6dd0",
   "metadata": {},
   "outputs": [],
   "source": [
    "def selectData(students: pd.DataFrame) -> pd.DataFrame:\n",
    "    return students.loc[students[\"student_id\"] == 101, [\"name\", \"age\"]]\n",
    "    # OR\n",
    "    return students.loc[students[\"student_id\"] == 101, \"name\" :]\n",
    "    # OR\n",
    "    return students[students['student_id'] == 101][['name', 'age']]"
   ]
  }
 ],
 "metadata": {
  "kernelspec": {
   "display_name": "Python 3 (ipykernel)",
   "language": "python",
   "name": "python3"
  },
  "language_info": {
   "codemirror_mode": {
    "name": "ipython",
    "version": 3
   },
   "file_extension": ".py",
   "mimetype": "text/x-python",
   "name": "python",
   "nbconvert_exporter": "python",
   "pygments_lexer": "ipython3",
   "version": "3.10.6"
  },
  "toc": {
   "base_numbering": 1,
   "nav_menu": {},
   "number_sections": true,
   "sideBar": true,
   "skip_h1_title": false,
   "title_cell": "Table of Contents",
   "title_sidebar": "Contents",
   "toc_cell": false,
   "toc_position": {},
   "toc_section_display": true,
   "toc_window_display": false
  }
 },
 "nbformat": 4,
 "nbformat_minor": 5
}
