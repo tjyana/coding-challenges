{
 "cells": [
  {
   "cell_type": "code",
   "execution_count": null,
   "id": "9e82456d",
   "metadata": {},
   "outputs": [],
   "source": [
    "In this little assignment you are given a string of space separated numbers, and have to return the highest and lowest number.\n",
    "\n",
    "Examples\n",
    "high_and_low(\"1 2 3 4 5\")  # return \"5 1\"\n",
    "high_and_low(\"1 2 -3 4 5\") # return \"5 -3\"\n",
    "high_and_low(\"1 9 3 4 -5\") # return \"9 -5\"\n",
    "Notes\n",
    "All numbers are valid Int32, no need to validate them.\n",
    "There will always be at least one number in the input string.\n",
    "Output string must be two numbers separated by a single space, and highest number is first."
   ]
  },
  {
   "cell_type": "code",
   "execution_count": 27,
   "id": "127f451f",
   "metadata": {},
   "outputs": [],
   "source": [
    "def high_and_low(numbers):\n",
    "    numbers_list = numbers.split()\n",
    "    new_list = []\n",
    "    for number in numbers_list:\n",
    "        new_list.append(int(number))\n",
    "    return f'{max(new_list)} {min(new_list)}'\n"
   ]
  },
  {
   "cell_type": "code",
   "execution_count": 28,
   "id": "1cf60568",
   "metadata": {},
   "outputs": [],
   "source": [
    "numbers = \"8 3 -5 42 -1 0 0 -9 4 7 4 -4\""
   ]
  },
  {
   "cell_type": "code",
   "execution_count": 29,
   "id": "c4cf8c8e",
   "metadata": {},
   "outputs": [
    {
     "data": {
      "text/plain": [
       "[8, 3, -5, 42, -1, 0, 0, -9, 4, 7, 4, -4]"
      ]
     },
     "execution_count": 29,
     "metadata": {},
     "output_type": "execute_result"
    }
   ],
   "source": [
    "high_and_low(numbers)"
   ]
  },
  {
   "cell_type": "code",
   "execution_count": null,
   "id": "9e4655c5",
   "metadata": {},
   "outputs": [],
   "source": []
  },
  {
   "cell_type": "code",
   "execution_count": 1,
   "id": "b9edbb7f",
   "metadata": {},
   "outputs": [
    {
     "data": {
      "text/plain": [
       "['8', '3', '-5', '42', '-1', '0', '0', '-9', '4', '7', '4', '-4']"
      ]
     },
     "execution_count": 1,
     "metadata": {},
     "output_type": "execute_result"
    }
   ],
   "source": [
    "numbers_list = numbers.split()"
   ]
  },
  {
   "cell_type": "code",
   "execution_count": 26,
   "id": "b90747fa",
   "metadata": {},
   "outputs": [
    {
     "data": {
      "text/plain": [
       "[8, 3, -5, 42, -1, 0, 0, -9, 4, 7, 4, -4]"
      ]
     },
     "execution_count": 26,
     "metadata": {},
     "output_type": "execute_result"
    }
   ],
   "source": [
    "new_list = []\n",
    "for number in numbers_list:\n",
    "    new_list.append(int(number))\n",
    "new_list"
   ]
  },
  {
   "cell_type": "code",
   "execution_count": null,
   "id": "d268e34b",
   "metadata": {},
   "outputs": [],
   "source": []
  },
  {
   "cell_type": "code",
   "execution_count": null,
   "id": "7eb82388",
   "metadata": {},
   "outputs": [],
   "source": []
  },
  {
   "cell_type": "code",
   "execution_count": 34,
   "id": "2afdc402",
   "metadata": {},
   "outputs": [
    {
     "data": {
      "text/plain": [
       "'42 -9'"
      ]
     },
     "execution_count": 34,
     "metadata": {},
     "output_type": "execute_result"
    }
   ],
   "source": [
    "# refactored into list comp\n",
    "\n",
    "def high_and_low(numbers):\n",
    "    numbers_list = numbers.split()\n",
    "    [new_list.append(int(number)) for number in numbers_list]\n",
    "    return f'{max(new_list)} {min(new_list)}'\n",
    "\n",
    "high_and_low(numbers)"
   ]
  },
  {
   "cell_type": "code",
   "execution_count": null,
   "id": "199a9da0",
   "metadata": {},
   "outputs": [],
   "source": []
  },
  {
   "cell_type": "code",
   "execution_count": 35,
   "id": "3648b5ae",
   "metadata": {},
   "outputs": [
    {
     "data": {
      "text/plain": [
       "'42 -9'"
      ]
     },
     "execution_count": 35,
     "metadata": {},
     "output_type": "execute_result"
    }
   ],
   "source": [
    "# further\n",
    "\n",
    "def high_and_low(numbers):\n",
    "    [new_list.append(int(number)) for number in numbers.split()]\n",
    "    return f'{max(new_list)} {min(new_list)}'\n",
    "\n",
    "high_and_low(numbers)"
   ]
  },
  {
   "cell_type": "code",
   "execution_count": null,
   "id": "72e9236e",
   "metadata": {},
   "outputs": [],
   "source": []
  }
 ],
 "metadata": {
  "kernelspec": {
   "display_name": "Python 3 (ipykernel)",
   "language": "python",
   "name": "python3"
  },
  "language_info": {
   "codemirror_mode": {
    "name": "ipython",
    "version": 3
   },
   "file_extension": ".py",
   "mimetype": "text/x-python",
   "name": "python",
   "nbconvert_exporter": "python",
   "pygments_lexer": "ipython3",
   "version": "3.10.6"
  },
  "toc": {
   "base_numbering": 1,
   "nav_menu": {},
   "number_sections": true,
   "sideBar": true,
   "skip_h1_title": false,
   "title_cell": "Table of Contents",
   "title_sidebar": "Contents",
   "toc_cell": false,
   "toc_position": {},
   "toc_section_display": true,
   "toc_window_display": false
  }
 },
 "nbformat": 4,
 "nbformat_minor": 5
}
