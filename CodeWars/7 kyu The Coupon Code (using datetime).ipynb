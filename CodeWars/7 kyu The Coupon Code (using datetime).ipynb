{
 "cells": [
  {
   "cell_type": "code",
   "execution_count": null,
   "id": "d1c18edd",
   "metadata": {},
   "outputs": [],
   "source": [
    "Your online store likes to give out coupons for special occasions. Some customers try to cheat the system by entering invalid codes or using expired coupons.\n",
    "\n",
    "Task\n",
    "Your mission:\n",
    "Write a function called checkCoupon which verifies that a coupon code is valid and not expired.\n",
    "\n",
    "A coupon is no more valid on the day AFTER the expiration date. All dates will be passed as strings in this format: \"MONTH DATE, YEAR\".\n",
    "\n",
    "Examples:\n",
    "checkCoupon(\"123\", \"123\", \"July 9, 2015\", \"July 9, 2015\")  == True\n",
    "checkCoupon(\"123\", \"123\", \"July 9, 2015\", \"July 2, 2015\")  == False"
   ]
  },
  {
   "cell_type": "code",
   "execution_count": null,
   "id": "c3a3d855",
   "metadata": {},
   "outputs": [],
   "source": [
    "def check_coupon(entered_code, correct_code, current_date, expiration_date):\n",
    "    pass #Code here!"
   ]
  },
  {
   "cell_type": "code",
   "execution_count": 2,
   "id": "f255a96c",
   "metadata": {},
   "outputs": [
    {
     "name": "stdout",
     "output_type": "stream",
     "text": [
      "2015-07-09 00:00:00 2015-07-02 00:00:00\n"
     ]
    }
   ],
   "source": [
    "# getting the datetime format\n",
    "from datetime import datetime\n",
    "\n",
    "current_date = \"July 9, 2015\"\n",
    "expiration_date = \"July 2, 2015\"\n",
    "\n",
    "date_format = \"%B %d, %Y\"\n",
    "current_date = datetime.strptime(current_date, date_format)\n",
    "expiration_date = datetime.strptime(expiration_date, date_format)\n",
    "\n",
    "print(current_date, expiration_date)"
   ]
  },
  {
   "cell_type": "code",
   "execution_count": null,
   "id": "705347e8",
   "metadata": {},
   "outputs": [],
   "source": [
    "current_date > expiration_date"
   ]
  },
  {
   "cell_type": "code",
   "execution_count": null,
   "id": "03ddf439",
   "metadata": {},
   "outputs": [],
   "source": []
  },
  {
   "cell_type": "code",
   "execution_count": 15,
   "id": "71248e33",
   "metadata": {},
   "outputs": [],
   "source": [
    "def check_coupon(entered_code, correct_code, current_date, expiration_date):\n",
    "    date_format = \"%B %d, %Y\"\n",
    "    current_date = datetime.strptime(current_date, date_format)\n",
    "    expiration_date = datetime.strptime(expiration_date, date_format)\n",
    "    return entered_code == correct_code and current_date <= expiration_date"
   ]
  },
  {
   "cell_type": "code",
   "execution_count": 9,
   "id": "5032d276",
   "metadata": {},
   "outputs": [
    {
     "data": {
      "text/plain": [
       "True"
      ]
     },
     "execution_count": 9,
     "metadata": {},
     "output_type": "execute_result"
    }
   ],
   "source": [
    "entered_code = 123\n",
    "correct_code = 123\n",
    "current_date = \"July 1, 2015\"\n",
    "expiration_date = \"July 2, 2015\"\n",
    "\n",
    "check_coupon(entered_code, correct_code, current_date, expiration_date)"
   ]
  },
  {
   "cell_type": "code",
   "execution_count": 14,
   "id": "3566f385",
   "metadata": {},
   "outputs": [
    {
     "data": {
      "text/plain": [
       "False"
      ]
     },
     "execution_count": 14,
     "metadata": {},
     "output_type": "execute_result"
    }
   ],
   "source": [
    "current_date = \"March 5, 1998\"\n",
    "expiration_date = \"July 2, 2015\"\n",
    "\n",
    "current_date > expiration_date"
   ]
  },
  {
   "cell_type": "code",
   "execution_count": 17,
   "id": "251b0cfa",
   "metadata": {},
   "outputs": [
    {
     "data": {
      "text/plain": [
       "True"
      ]
     },
     "execution_count": 17,
     "metadata": {},
     "output_type": "execute_result"
    }
   ],
   "source": [
    "entered_code = 'a12v564'\n",
    "correct_code = 'a12v564'\n",
    "current_date = \"September 5, 2014\"\n",
    "expiration_date = \"September 25, 2014\"\n",
    "\n",
    "check_coupon(entered_code, correct_code, current_date, expiration_date)"
   ]
  },
  {
   "cell_type": "code",
   "execution_count": null,
   "id": "895bcd0d",
   "metadata": {},
   "outputs": [],
   "source": [
    "from datetime import datetime\n",
    "\n",
    "def check_coupon(entered_code, correct_code, current_date, expiration_date):\n",
    "    print(entered_code, correct_code, current_date, expiration_date)\n",
    "    date_format = \"%B %d, %Y\"\n",
    "    current_date = datetime.strptime(current_date, date_format)\n",
    "    expiration_date = datetime.strptime(expiration_date, date_format)\n",
    "    \n",
    "    return entered_code is correct_code and current_date <= expiration_date"
   ]
  },
  {
   "cell_type": "code",
   "execution_count": null,
   "id": "cd33511e",
   "metadata": {},
   "outputs": [],
   "source": [
    "# can also just import datetime and then pull out the datetime method with this datetime.datetime.striptime() syntax\n",
    "\n",
    "import datetime\n",
    "def check_coupon(entered_code, correct_code, current_date, expiration_date):\n",
    "    if entered_code is correct_code:\n",
    "        return(datetime.datetime.strptime(current_date,'%B %d, %Y') <= datetime.datetime.strptime(expiration_date,'%B %d, %Y'))\n",
    "    return False"
   ]
  },
  {
   "cell_type": "code",
   "execution_count": null,
   "id": "36e1edd4",
   "metadata": {},
   "outputs": [],
   "source": []
  }
 ],
 "metadata": {
  "kernelspec": {
   "display_name": "Python 3 (ipykernel)",
   "language": "python",
   "name": "python3"
  },
  "language_info": {
   "codemirror_mode": {
    "name": "ipython",
    "version": 3
   },
   "file_extension": ".py",
   "mimetype": "text/x-python",
   "name": "python",
   "nbconvert_exporter": "python",
   "pygments_lexer": "ipython3",
   "version": "3.10.6"
  },
  "toc": {
   "base_numbering": 1,
   "nav_menu": {},
   "number_sections": true,
   "sideBar": true,
   "skip_h1_title": false,
   "title_cell": "Table of Contents",
   "title_sidebar": "Contents",
   "toc_cell": false,
   "toc_position": {},
   "toc_section_display": true,
   "toc_window_display": false
  }
 },
 "nbformat": 4,
 "nbformat_minor": 5
}
