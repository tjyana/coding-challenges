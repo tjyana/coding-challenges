{
 "cells": [
  {
   "cell_type": "code",
   "execution_count": null,
   "id": "83c4624b",
   "metadata": {},
   "outputs": [],
   "source": [
    "Define a function that removes duplicates from an array of non negative numbers and returns it as a result.\n",
    "\n",
    "The order of the sequence has to stay the same.\n",
    "\n",
    "Examples:\n",
    "\n",
    "Input -> Output\n",
    "[1, 1, 2] -> [1, 2]\n",
    "[1, 2, 1, 1, 3, 2] -> [1, 2, 3]"
   ]
  },
  {
   "cell_type": "code",
   "execution_count": 3,
   "id": "96d2c92c",
   "metadata": {},
   "outputs": [
    {
     "data": {
      "text/plain": [
       "[1, 2, 3]"
      ]
     },
     "execution_count": 3,
     "metadata": {},
     "output_type": "execute_result"
    }
   ],
   "source": [
    "whatever = [1, 2, 1, 1, 3, 2]\n",
    "list(set(whatever))"
   ]
  },
  {
   "cell_type": "code",
   "execution_count": null,
   "id": "6ad4e845",
   "metadata": {},
   "outputs": [],
   "source": [
    "def distinct(seq):\n",
    "    result = []\n",
    "    for num in seq:\n",
    "        if num in seq\n",
    "    "
   ]
  },
  {
   "cell_type": "code",
   "execution_count": 11,
   "id": "b09bb225",
   "metadata": {},
   "outputs": [],
   "source": [
    "seq = [1, 2, 1, 1, 3, 2]\n",
    "for i in range(len(seq)):\n",
    "    for j in range(i+1):\n",
    "        pass"
   ]
  },
  {
   "cell_type": "code",
   "execution_count": 12,
   "id": "8a75c3fd",
   "metadata": {},
   "outputs": [
    {
     "data": {
      "text/plain": [
       "[]"
      ]
     },
     "execution_count": 12,
     "metadata": {},
     "output_type": "execute_result"
    }
   ],
   "source": [
    "[num for num in seq if num not in seq]"
   ]
  },
  {
   "cell_type": "code",
   "execution_count": 13,
   "id": "29073204",
   "metadata": {},
   "outputs": [
    {
     "data": {
      "text/plain": [
       "[1, 2, 3]"
      ]
     },
     "execution_count": 13,
     "metadata": {},
     "output_type": "execute_result"
    }
   ],
   "source": [
    "list(set(seq))"
   ]
  },
  {
   "cell_type": "code",
   "execution_count": null,
   "id": "7c0a0b74",
   "metadata": {},
   "outputs": [],
   "source": [
    "result = []\n",
    "for i in range(len(seq) - 1): # all indexes except last one!\n",
    "    if seq[i] == seq[i + 1]: # compare a letter and the next letter\n",
    "        result.append(seq[i])"
   ]
  },
  {
   "cell_type": "code",
   "execution_count": null,
   "id": "7536d182",
   "metadata": {},
   "outputs": [],
   "source": [
    "result = []\n",
    "seq[i] for i in range(len(seq) - 1) if seq[i] != : # all indexes except last one!\n",
    "    if seq[i] for  seq[i + 1]: # compare a letter and the next letter\n",
    "        result.append(seq[i])"
   ]
  },
  {
   "cell_type": "code",
   "execution_count": 16,
   "id": "bdf326ec",
   "metadata": {},
   "outputs": [
    {
     "data": {
      "text/plain": [
       "<function list.index(value, start=0, stop=9223372036854775807, /)>"
      ]
     },
     "execution_count": 16,
     "metadata": {},
     "output_type": "execute_result"
    }
   ],
   "source": [
    "seq.index"
   ]
  },
  {
   "cell_type": "code",
   "execution_count": 17,
   "id": "723734d2",
   "metadata": {},
   "outputs": [
    {
     "data": {
      "text/plain": [
       "[1, 2, 3]"
      ]
     },
     "execution_count": 17,
     "metadata": {},
     "output_type": "execute_result"
    }
   ],
   "source": [
    "list(dict.fromkeys(seq))"
   ]
  },
  {
   "cell_type": "code",
   "execution_count": 20,
   "id": "e4ffed43",
   "metadata": {},
   "outputs": [
    {
     "data": {
      "text/plain": [
       "{1: None, 2: None, 7: None, 3: None, 6: None, 5: None, 8: None}"
      ]
     },
     "execution_count": 20,
     "metadata": {},
     "output_type": "execute_result"
    }
   ],
   "source": [
    "seq = [1, 2, 7, 1, 1, 3, 2, 3, 6, 2, 3, 1, 5, 7, 7, 8, 5]\n",
    "dict.fromkeys(seq)"
   ]
  },
  {
   "cell_type": "code",
   "execution_count": 21,
   "id": "31e23055",
   "metadata": {},
   "outputs": [
    {
     "ename": "NameError",
     "evalue": "name 'fromkeys' is not defined",
     "output_type": "error",
     "traceback": [
      "\u001b[0;31m---------------------------------------------------------------------------\u001b[0m",
      "\u001b[0;31mNameError\u001b[0m                                 Traceback (most recent call last)",
      "Cell \u001b[0;32mIn [21], line 1\u001b[0m\n\u001b[0;32m----> 1\u001b[0m \u001b[43mfromkeys\u001b[49m(seq)\n",
      "\u001b[0;31mNameError\u001b[0m: name 'fromkeys' is not defined"
     ]
    }
   ],
   "source": [
    "fromkeys(seq)\n"
   ]
  },
  {
   "cell_type": "code",
   "execution_count": null,
   "id": "1d1db479",
   "metadata": {},
   "outputs": [],
   "source": []
  }
 ],
 "metadata": {
  "kernelspec": {
   "display_name": "Python 3 (ipykernel)",
   "language": "python",
   "name": "python3"
  },
  "language_info": {
   "codemirror_mode": {
    "name": "ipython",
    "version": 3
   },
   "file_extension": ".py",
   "mimetype": "text/x-python",
   "name": "python",
   "nbconvert_exporter": "python",
   "pygments_lexer": "ipython3",
   "version": "3.10.6"
  },
  "toc": {
   "base_numbering": 1,
   "nav_menu": {},
   "number_sections": true,
   "sideBar": true,
   "skip_h1_title": false,
   "title_cell": "Table of Contents",
   "title_sidebar": "Contents",
   "toc_cell": false,
   "toc_position": {},
   "toc_section_display": true,
   "toc_window_display": false
  }
 },
 "nbformat": 4,
 "nbformat_minor": 5
}
