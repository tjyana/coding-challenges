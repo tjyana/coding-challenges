{
 "cells": [
  {
   "cell_type": "code",
   "execution_count": null,
   "id": "c3e35b92",
   "metadata": {},
   "outputs": [],
   "source": [
    "Task\n",
    "Given a list of digits, return the smallest number that could be formed from these digits, using the digits only once (ignore duplicates).\n",
    "\n",
    "Notes:\n",
    "Only positive integers will be passed to the function (> 0 ), no negatives or zeros.\n",
    "Input >> Output Examples\n",
    "minValue ({1, 3, 1})  ==> return (13)\n",
    "Explanation:\n",
    "(13) is the minimum number could be formed from {1, 3, 1} , Without duplications\n",
    "\n",
    "minValue({5, 7, 5, 9, 7})  ==> return (579)\n",
    "Explanation:\n",
    "(579) is the minimum number could be formed from {5, 7, 5, 9, 7} , Without duplications\n",
    "\n",
    "minValue({1, 9, 3, 1, 7, 4, 6, 6, 7}) return  ==> (134679)\n",
    "Explanation:\n",
    "(134679) is the minimum number could be formed from {1, 9, 3, 1, 7, 4, 6, 6, 7} , Without duplications"
   ]
  },
  {
   "cell_type": "code",
   "execution_count": 10,
   "id": "ce9cebb2",
   "metadata": {},
   "outputs": [
    {
     "data": {
      "text/plain": [
       "[4, 5, 7]"
      ]
     },
     "execution_count": 10,
     "metadata": {},
     "output_type": "execute_result"
    }
   ],
   "source": [
    "numbers = [4, 7, 5, 7]\n",
    "\n",
    "unique = list(set(numbers))\n",
    "unique"
   ]
  },
  {
   "cell_type": "code",
   "execution_count": 42,
   "id": "aa1c1e02",
   "metadata": {},
   "outputs": [],
   "source": [
    "numbers = [1, 2, 10, 4, 7, 5, 7, 5, 3, 1]"
   ]
  },
  {
   "cell_type": "code",
   "execution_count": 43,
   "id": "2589e420",
   "metadata": {},
   "outputs": [
    {
     "data": {
      "text/plain": [
       "{1, 2, 3, 4, 5, 7, 10}"
      ]
     },
     "execution_count": 43,
     "metadata": {},
     "output_type": "execute_result"
    }
   ],
   "source": [
    "set(numbers)"
   ]
  },
  {
   "cell_type": "code",
   "execution_count": 34,
   "id": "940dbc18",
   "metadata": {},
   "outputs": [
    {
     "data": {
      "text/plain": [
       "[3, 4, 5, 7]"
      ]
     },
     "execution_count": 34,
     "metadata": {},
     "output_type": "execute_result"
    }
   ],
   "source": [
    "sorted(set(numbers))"
   ]
  },
  {
   "cell_type": "code",
   "execution_count": 24,
   "id": "fb40a745",
   "metadata": {},
   "outputs": [
    {
     "data": {
      "text/plain": [
       "3457"
      ]
     },
     "execution_count": 24,
     "metadata": {},
     "output_type": "execute_result"
    }
   ],
   "source": [
    "result = ''\n",
    "unique = list(set(numbers))\n",
    "for i in range(len(unique)):\n",
    "    result += str(unique[i])\n",
    "int(result)"
   ]
  },
  {
   "cell_type": "code",
   "execution_count": null,
   "id": "c76ebed8",
   "metadata": {},
   "outputs": [],
   "source": [
    "digits = [8, 1, 4]\n",
    "\n",
    "def min_value(digits):\n",
    "    result = ''\n",
    "    print(set(digits))\n",
    "    unique = sorted(list(set(digits)))\n",
    "    print(unique)\n",
    "    for i in range(len(unique)):\n",
    "        result += str(unique[i])\n",
    "    return int(result)\n",
    "\n",
    "min_value(digits)"
   ]
  },
  {
   "cell_type": "code",
   "execution_count": 46,
   "id": "def1bc2c",
   "metadata": {},
   "outputs": [],
   "source": [
    "def min_value(digits):\n",
    "    unique = sorted(set(digits))\n",
    "    return int(''.join([str(unique[i]) for i in range(len(unique))]))"
   ]
  },
  {
   "cell_type": "code",
   "execution_count": 47,
   "id": "bc4c1b05",
   "metadata": {},
   "outputs": [
    {
     "data": {
      "text/plain": [
       "148"
      ]
     },
     "execution_count": 47,
     "metadata": {},
     "output_type": "execute_result"
    }
   ],
   "source": [
    "min_value(digits)"
   ]
  },
  {
   "cell_type": "code",
   "execution_count": null,
   "id": "18dbd0be",
   "metadata": {},
   "outputs": [],
   "source": [
    "# others"
   ]
  },
  {
   "cell_type": "code",
   "execution_count": 44,
   "id": "63886685",
   "metadata": {},
   "outputs": [],
   "source": [
    "def min_value(digits):\n",
    "     return int(\"\".join(map(str,sorted(set(digits)))))"
   ]
  },
  {
   "cell_type": "code",
   "execution_count": 45,
   "id": "c66e8b00",
   "metadata": {},
   "outputs": [],
   "source": [
    "def min_value(digits):\n",
    "    return int(\"\".join(str(x) for x in sorted(set(digits))))"
   ]
  },
  {
   "cell_type": "code",
   "execution_count": null,
   "id": "a0ae0d96",
   "metadata": {},
   "outputs": [],
   "source": []
  }
 ],
 "metadata": {
  "kernelspec": {
   "display_name": "Python 3 (ipykernel)",
   "language": "python",
   "name": "python3"
  },
  "language_info": {
   "codemirror_mode": {
    "name": "ipython",
    "version": 3
   },
   "file_extension": ".py",
   "mimetype": "text/x-python",
   "name": "python",
   "nbconvert_exporter": "python",
   "pygments_lexer": "ipython3",
   "version": "3.10.6"
  },
  "toc": {
   "base_numbering": 1,
   "nav_menu": {},
   "number_sections": true,
   "sideBar": true,
   "skip_h1_title": false,
   "title_cell": "Table of Contents",
   "title_sidebar": "Contents",
   "toc_cell": false,
   "toc_position": {},
   "toc_section_display": true,
   "toc_window_display": false
  }
 },
 "nbformat": 4,
 "nbformat_minor": 5
}
