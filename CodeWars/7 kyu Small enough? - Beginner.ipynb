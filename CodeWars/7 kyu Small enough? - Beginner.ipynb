{
 "cells": [
  {
   "cell_type": "code",
   "execution_count": null,
   "id": "1d06f56b",
   "metadata": {},
   "outputs": [],
   "source": [
    "You will be given an array and a limit value. You must check that all values in the array are below or equal to the limit value. If they are, return true. Else, return false.\n",
    "\n",
    "You can assume all values in the array are numbers."
   ]
  },
  {
   "cell_type": "code",
   "execution_count": 9,
   "id": "cda92045",
   "metadata": {},
   "outputs": [],
   "source": [
    "def small_enough(array, limit):\n",
    "    false_count = 0\n",
    "    for number in array:\n",
    "        if number > limit:\n",
    "            false_count += 1\n",
    "    return false_count == 0\n",
    "        "
   ]
  },
  {
   "cell_type": "code",
   "execution_count": 10,
   "id": "d81334ee",
   "metadata": {},
   "outputs": [
    {
     "data": {
      "text/plain": [
       "False"
      ]
     },
     "execution_count": 10,
     "metadata": {},
     "output_type": "execute_result"
    }
   ],
   "source": [
    "array= [78, 117, 110, 99, 104, 117, 107, 115]\n",
    "limit = 100\n",
    "\n",
    "small_enough(array, limit)"
   ]
  },
  {
   "cell_type": "code",
   "execution_count": 25,
   "id": "1d9ff875",
   "metadata": {},
   "outputs": [],
   "source": [
    "def small_enough(array, limit):\n",
    "    return all(number < limit for number in array)"
   ]
  },
  {
   "cell_type": "code",
   "execution_count": 26,
   "id": "737d9c50",
   "metadata": {},
   "outputs": [
    {
     "data": {
      "text/plain": [
       "False"
      ]
     },
     "execution_count": 26,
     "metadata": {},
     "output_type": "execute_result"
    }
   ],
   "source": [
    "small_enough(array, limit)"
   ]
  },
  {
   "cell_type": "code",
   "execution_count": 15,
   "id": "6269c7f5",
   "metadata": {},
   "outputs": [],
   "source": [
    "def small_enough(array, limit):\n",
    "    return all([number for number in array if number > limit])"
   ]
  },
  {
   "cell_type": "code",
   "execution_count": 19,
   "id": "428b6ed6",
   "metadata": {},
   "outputs": [
    {
     "name": "stdout",
     "output_type": "stream",
     "text": [
      "[117, 110, 104, 117, 107, 115]\n"
     ]
    }
   ],
   "source": [
    "print(([number for number in array if number > limit]))"
   ]
  },
  {
   "cell_type": "code",
   "execution_count": 24,
   "id": "e11ffc04",
   "metadata": {},
   "outputs": [
    {
     "name": "stdout",
     "output_type": "stream",
     "text": [
      "False\n"
     ]
    }
   ],
   "source": [
    "print(all(number < limit for number in array))"
   ]
  },
  {
   "cell_type": "code",
   "execution_count": 33,
   "id": "ae76d4a2",
   "metadata": {},
   "outputs": [
    {
     "data": {
      "text/plain": [
       "[True, False, False, True, False, False, False, False]"
      ]
     },
     "execution_count": 33,
     "metadata": {},
     "output_type": "execute_result"
    }
   ],
   "source": [
    "list((number < limit for number in array))"
   ]
  },
  {
   "cell_type": "code",
   "execution_count": 34,
   "id": "c6f9c538",
   "metadata": {},
   "outputs": [
    {
     "data": {
      "text/plain": [
       "<generator object <genexpr> at 0x7f8b9d627ed0>"
      ]
     },
     "execution_count": 34,
     "metadata": {},
     "output_type": "execute_result"
    }
   ],
   "source": [
    "(number < limit for number in array)"
   ]
  },
  {
   "cell_type": "code",
   "execution_count": 36,
   "id": "a1626c2f",
   "metadata": {},
   "outputs": [
    {
     "data": {
      "text/plain": [
       "False"
      ]
     },
     "execution_count": 36,
     "metadata": {},
     "output_type": "execute_result"
    }
   ],
   "source": [
    "all(number < limit for number in array)"
   ]
  },
  {
   "cell_type": "code",
   "execution_count": 37,
   "id": "5e962083",
   "metadata": {},
   "outputs": [
    {
     "data": {
      "text/plain": [
       "[True, False, False, True, False, False, False, False]"
      ]
     },
     "execution_count": 37,
     "metadata": {},
     "output_type": "execute_result"
    }
   ],
   "source": [
    "[number < limit for number in array]"
   ]
  },
  {
   "cell_type": "code",
   "execution_count": 38,
   "id": "d3814285",
   "metadata": {},
   "outputs": [
    {
     "data": {
      "text/plain": [
       "False"
      ]
     },
     "execution_count": 38,
     "metadata": {},
     "output_type": "execute_result"
    }
   ],
   "source": [
    "all([number < limit for number in array])"
   ]
  },
  {
   "cell_type": "code",
   "execution_count": null,
   "id": "b19f1d1b",
   "metadata": {},
   "outputs": [],
   "source": []
  }
 ],
 "metadata": {
  "kernelspec": {
   "display_name": "Python 3 (ipykernel)",
   "language": "python",
   "name": "python3"
  },
  "language_info": {
   "codemirror_mode": {
    "name": "ipython",
    "version": 3
   },
   "file_extension": ".py",
   "mimetype": "text/x-python",
   "name": "python",
   "nbconvert_exporter": "python",
   "pygments_lexer": "ipython3",
   "version": "3.10.6"
  },
  "toc": {
   "base_numbering": 1,
   "nav_menu": {},
   "number_sections": true,
   "sideBar": true,
   "skip_h1_title": false,
   "title_cell": "Table of Contents",
   "title_sidebar": "Contents",
   "toc_cell": false,
   "toc_position": {},
   "toc_section_display": true,
   "toc_window_display": false
  }
 },
 "nbformat": 4,
 "nbformat_minor": 5
}
