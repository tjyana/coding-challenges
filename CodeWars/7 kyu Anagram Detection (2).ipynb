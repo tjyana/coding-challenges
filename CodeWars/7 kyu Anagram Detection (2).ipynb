{
 "cells": [
  {
   "cell_type": "code",
   "execution_count": null,
   "id": "950a8627",
   "metadata": {},
   "outputs": [],
   "source": [
    "\n"
   ]
  },
  {
   "cell_type": "code",
   "execution_count": null,
   "id": "39bbeb3d",
   "metadata": {},
   "outputs": [],
   "source": []
  },
  {
   "cell_type": "code",
   "execution_count": 12,
   "id": "220713d2",
   "metadata": {},
   "outputs": [],
   "source": [
    "# write the function is_anagram\n",
    "def is_anagram(test, original):\n",
    "    # count in dict how many letters each\n",
    "    letter_count_original = {}\n",
    "    for letter in original:\n",
    "        if letter in letter_count_original:\n",
    "            letter_count_original[letter] += 1\n",
    "        else:\n",
    "            letter_count_original[letter] = 1\n",
    "    # compare\n",
    "    letter_count_test = {}\n",
    "    for letter in test:\n",
    "        if letter in letter_count_test:\n",
    "            letter_count_test[letter] += 1\n",
    "        else:\n",
    "            letter_count_test[letter] = 1\n",
    "    \n",
    "    if letter_count_original = letter_count_test:\n",
    "        return True"
   ]
  },
  {
   "cell_type": "code",
   "execution_count": null,
   "id": "e1832a4b",
   "metadata": {},
   "outputs": [],
   "source": [
    "# Create an example dictionary\n",
    "example_dict = {\"apple\": 3, \"banana\": 5, \"orange\": 2}\n",
    "print(\"Original dictionary:\", example_dict)\n",
    "\n",
    "# Update the value for an existing key\n",
    "example_dict[\"apple\"] = example_dict[\"apple\"] + 1\n",
    "print(\"After updating 'apple':\", example_dict)\n",
    "\n",
    "# Add a new key-value pair\n",
    "example_dict[\"grape\"] = 4\n",
    "print(\"After adding 'grape':\", example_dict)\n"
   ]
  },
  {
   "cell_type": "code",
   "execution_count": 7,
   "id": "63be0bb7",
   "metadata": {},
   "outputs": [],
   "source": [
    "original = 'aabbcc'\n",
    "\n",
    "letter_count = {}\n",
    "for letter in original:\n",
    "    letter_count[letter] = 1"
   ]
  },
  {
   "cell_type": "code",
   "execution_count": 8,
   "id": "698e6e48",
   "metadata": {},
   "outputs": [
    {
     "data": {
      "text/plain": [
       "{'a': 1, 'b': 1, 'c': 1}"
      ]
     },
     "execution_count": 8,
     "metadata": {},
     "output_type": "execute_result"
    }
   ],
   "source": [
    "letter_count"
   ]
  },
  {
   "cell_type": "code",
   "execution_count": 10,
   "id": "86018dee",
   "metadata": {},
   "outputs": [],
   "source": [
    "original = 'aabbcc'\n",
    "\n",
    "letter_count = {}\n",
    "for letter in original:\n",
    "    if letter in letter_count:\n",
    "        letter_count[letter] += 1\n",
    "    else:\n",
    "        letter_count[letter] = 1"
   ]
  },
  {
   "cell_type": "code",
   "execution_count": 11,
   "id": "da2d27f4",
   "metadata": {},
   "outputs": [
    {
     "data": {
      "text/plain": [
       "{'a': 2, 'b': 2, 'c': 2}"
      ]
     },
     "execution_count": 11,
     "metadata": {},
     "output_type": "execute_result"
    }
   ],
   "source": [
    "letter_count"
   ]
  },
  {
   "cell_type": "code",
   "execution_count": 22,
   "id": "acc5801d",
   "metadata": {},
   "outputs": [],
   "source": [
    "# write the function is_anagram\n",
    "def is_anagram(test, original):\n",
    "    # count in dict how many letters each\n",
    "    letter_count_original = {}\n",
    "    for letter in original:\n",
    "        if letter in letter_count_original:\n",
    "            letter_count_original[letter] += 1\n",
    "        else:\n",
    "            letter_count_original[letter] = 1\n",
    "    print(letter_count_original)        \n",
    "    \n",
    "    # compare\n",
    "    letter_count_test = {}\n",
    "    for letter in test:\n",
    "        if letter in letter_count_test:\n",
    "            letter_count_test[letter] += 1\n",
    "        else:\n",
    "            letter_count_test[letter] = 1\n",
    "    print(letter_count_test)\n",
    "    \n",
    "    if letter_count_original == letter_count_test:\n",
    "        return True\n",
    "    else:\n",
    "        return False"
   ]
  },
  {
   "cell_type": "code",
   "execution_count": 23,
   "id": "3a8c9f87",
   "metadata": {},
   "outputs": [
    {
     "name": "stdout",
     "output_type": "stream",
     "text": [
      "{'D': 1, 'e': 2, 'a': 1, 't': 1, 'h': 1, 'C': 1, 'u': 1, 'b': 1, 'K': 1}\n",
      "{'B': 1, 'u': 1, 'c': 1, 'k': 1, 'e': 2, 't': 1, 'h': 1, 'a': 1, 'd': 1}\n"
     ]
    },
    {
     "ename": "NameError",
     "evalue": "name 'letter_count_original' is not defined",
     "output_type": "error",
     "traceback": [
      "\u001b[0;31m---------------------------------------------------------------------------\u001b[0m",
      "\u001b[0;31mNameError\u001b[0m                                 Traceback (most recent call last)",
      "Cell \u001b[0;32mIn [23], line 2\u001b[0m\n\u001b[1;32m      1\u001b[0m is_anagram(\u001b[38;5;124m\"\u001b[39m\u001b[38;5;124mBuckethead\u001b[39m\u001b[38;5;124m\"\u001b[39m, \u001b[38;5;124m\"\u001b[39m\u001b[38;5;124mDeathCubeK\u001b[39m\u001b[38;5;124m\"\u001b[39m)\n\u001b[0;32m----> 2\u001b[0m \u001b[38;5;28mprint\u001b[39m(\u001b[43mletter_count_original\u001b[49m)\n",
      "\u001b[0;31mNameError\u001b[0m: name 'letter_count_original' is not defined"
     ]
    }
   ],
   "source": [
    "is_anagram(\"Buckethead\", \"DeathCubeK\")\n",
    "print(letter_count_original)"
   ]
  },
  {
   "cell_type": "code",
   "execution_count": 26,
   "id": "3712e74f",
   "metadata": {},
   "outputs": [
    {
     "data": {
      "text/plain": [
       "['a', 'a', 'b', 'b', 'c', 'c']"
      ]
     },
     "execution_count": 26,
     "metadata": {},
     "output_type": "execute_result"
    }
   ],
   "source": [
    "sorted(original)"
   ]
  },
  {
   "cell_type": "code",
   "execution_count": 34,
   "id": "4bf69e78",
   "metadata": {},
   "outputs": [],
   "source": [
    "# write the function is_anagram\n",
    "def is_anagram(test, original):\n",
    "    # count in dict how many letters each\n",
    "    if sorted(test.lower()) == sorted(original.lower()):\n",
    "        return True\n",
    "    else:\n",
    "        return False"
   ]
  },
  {
   "cell_type": "code",
   "execution_count": 35,
   "id": "02e88ef9",
   "metadata": {},
   "outputs": [
    {
     "data": {
      "text/plain": [
       "True"
      ]
     },
     "execution_count": 35,
     "metadata": {},
     "output_type": "execute_result"
    }
   ],
   "source": [
    "is_anagram(\"Buckethead\", \"DeathCubeK\")"
   ]
  },
  {
   "cell_type": "code",
   "execution_count": null,
   "id": "19124af9",
   "metadata": {},
   "outputs": [],
   "source": []
  }
 ],
 "metadata": {
  "kernelspec": {
   "display_name": "Python 3 (ipykernel)",
   "language": "python",
   "name": "python3"
  },
  "language_info": {
   "codemirror_mode": {
    "name": "ipython",
    "version": 3
   },
   "file_extension": ".py",
   "mimetype": "text/x-python",
   "name": "python",
   "nbconvert_exporter": "python",
   "pygments_lexer": "ipython3",
   "version": "3.10.6"
  },
  "toc": {
   "base_numbering": 1,
   "nav_menu": {},
   "number_sections": true,
   "sideBar": true,
   "skip_h1_title": false,
   "title_cell": "Table of Contents",
   "title_sidebar": "Contents",
   "toc_cell": false,
   "toc_position": {},
   "toc_section_display": true,
   "toc_window_display": false
  }
 },
 "nbformat": 4,
 "nbformat_minor": 5
}
