{
 "cells": [
  {
   "cell_type": "code",
   "execution_count": null,
   "id": "dbde02f9",
   "metadata": {},
   "outputs": [],
   "source": [
    "Implement a pseudo-encryption algorithm which given a string S and an integer N concatenates all the odd-indexed characters of S with all the even-indexed characters of S, this process should be repeated N times.\n",
    "\n",
    "Examples:\n",
    "\n",
    "encrypt(\"012345\", 1)  =>  \"135024\"\n",
    "encrypt(\"012345\", 2)  =>  \"135024\"  ->  \"304152\"\n",
    "encrypt(\"012345\", 3)  =>  \"135024\"  ->  \"304152\"  ->  \"012345\"\n",
    "\n",
    "encrypt(\"01234\", 1)  =>  \"13024\"\n",
    "encrypt(\"01234\", 2)  =>  \"13024\"  ->  \"32104\"\n",
    "encrypt(\"01234\", 3)  =>  \"13024\"  ->  \"32104\"  ->  \"20314\"\n",
    "Together with the encryption function, you should also implement a decryption function which reverses the process.\n",
    "\n",
    "If the string S is an empty value or the integer N is not positive, return the first argument without changes."
   ]
  },
  {
   "cell_type": "code",
   "execution_count": null,
   "id": "aa2788d5",
   "metadata": {},
   "outputs": [],
   "source": [
    "# If the string S is an empty value or the integer N is not positive, return the first argument without changes.\n",
    "\n",
    "if encrypted_text == False or n <= 0:\n",
    "    return encrypted_text"
   ]
  },
  {
   "cell_type": "code",
   "execution_count": null,
   "id": "63561b12",
   "metadata": {},
   "outputs": [],
   "source": []
  },
  {
   "cell_type": "code",
   "execution_count": 6,
   "id": "0e0edcac",
   "metadata": {},
   "outputs": [
    {
     "data": {
      "text/plain": [
       "'135024'"
      ]
     },
     "execution_count": 6,
     "metadata": {},
     "output_type": "execute_result"
    }
   ],
   "source": [
    "encrypted_text = '012345'\n",
    "n=3\n",
    "encrypted_text[1::2] + encrypted_text[0::2]"
   ]
  },
  {
   "cell_type": "code",
   "execution_count": 7,
   "id": "4a6d81d9",
   "metadata": {},
   "outputs": [
    {
     "data": {
      "text/plain": [
       "'304152'"
      ]
     },
     "execution_count": 7,
     "metadata": {},
     "output_type": "execute_result"
    }
   ],
   "source": [
    "encrypted_text = encrypted_text[1::2] + encrypted_text[0::2]\n",
    "encrypted_text[1::2] + encrypted_text[0::2]"
   ]
  },
  {
   "cell_type": "code",
   "execution_count": 14,
   "id": "065c7250",
   "metadata": {},
   "outputs": [
    {
     "name": "stdout",
     "output_type": "stream",
     "text": [
      "0\n",
      "1\n",
      "2\n",
      "3\n",
      "4\n",
      "5\n"
     ]
    }
   ],
   "source": [
    "n = 5\n",
    "for n in range(n+1):\n",
    "    print(n)"
   ]
  },
  {
   "cell_type": "code",
   "execution_count": 34,
   "id": "a9e730c1",
   "metadata": {},
   "outputs": [
    {
     "data": {
      "text/plain": [
       "'hsi  etTi sats!'"
      ]
     },
     "execution_count": 34,
     "metadata": {},
     "output_type": "execute_result"
    }
   ],
   "source": [
    "# wrong location of loop??\n",
    "\n",
    "def encrypt(text, n):     \n",
    "    for number in range(n):\n",
    "        if text == '' or n < 0:\n",
    "            return text\n",
    "        else:\n",
    "            text = text[1::2] + text[0::2]\n",
    "        return text\n",
    "        \n",
    "encrypt(\"This is a test!\", 5)\n",
    "\n",
    "# this one only returns first iteration bc it's inside the for loop\n",
    "# need to take it out"
   ]
  },
  {
   "cell_type": "code",
   "execution_count": 36,
   "id": "002c3260",
   "metadata": {},
   "outputs": [
    {
     "name": "stdout",
     "output_type": "stream",
     "text": [
      "This is a test!\n",
      "s eT ashi tist!\n"
     ]
    }
   ],
   "source": [
    "# once we put the return statement OUTSIDE the for loop, it returns the output after all iterations\n",
    "\n",
    "def encrypt(text, n):\n",
    "    if text == '' or n < 0:\n",
    "        return text        \n",
    "    else:\n",
    "        for number in range(n):            \n",
    "            text = text[1::2] + text[0::2]\n",
    "        encrypted_text = text\n",
    "        return encrypted_text\n",
    "        \n",
    "print(encrypt(\"This is a test!\", 0))\n",
    "print(encrypt(\"This is a test!\", 2))"
   ]
  },
  {
   "cell_type": "code",
   "execution_count": 49,
   "id": "ab7652e8",
   "metadata": {},
   "outputs": [
    {
     "name": "stdout",
     "output_type": "stream",
     "text": [
      "This is a test!\n",
      "s eT ashi tist!\n",
      "325104\n",
      "135024\n"
     ]
    }
   ],
   "source": [
    "def decrypt(encrypted_text, n):\n",
    "    if encrypted_text == '' or n < 0:\n",
    "        return encrypted_text        \n",
    "    else:\n",
    "        for number in range(n):            \n",
    "            encrypted_text =  encrypted_text[1::2] + encrypted_text[0::2]\n",
    "        return encrypted_text\n",
    "\n",
    "\n",
    "    \n",
    "    \n",
    "print(decrypt(\"This is a test!\", 0)) # This is a test!\n",
    "print(decrypt(\"hsi  etTi sats!\", 1)) # This is a test!\n",
    "print(decrypt(\"135024\", 1)) # 012345\n",
    "print(decrypt(\"304152\", 2)) # 012345"
   ]
  },
  {
   "cell_type": "code",
   "execution_count": 56,
   "id": "7da64358",
   "metadata": {},
   "outputs": [
    {
     "name": "stdout",
     "output_type": "stream",
     "text": [
      "024135\n",
      "304152\n"
     ]
    }
   ],
   "source": [
    "def decrypt(encrypted_text, n):\n",
    "    if encrypted_text == '' or n < 0:\n",
    "        return encrypted_text        \n",
    "    else:\n",
    "        for number in range(n):            \n",
    "            encrypted_text = encrypted_text[-len(encrypted_text)//2:] + encrypted_text[:len(encrypted_text)//2]\n",
    "        return encrypted_text\n",
    "    \n",
    "print(decrypt(\"135024\", 1)) # 012345\n",
    "print(decrypt(\"304152\", 2)) # 012345"
   ]
  },
  {
   "cell_type": "code",
   "execution_count": 57,
   "id": "a4e11fbe",
   "metadata": {},
   "outputs": [
    {
     "data": {
      "text/plain": [
       "'024'"
      ]
     },
     "execution_count": 57,
     "metadata": {},
     "output_type": "execute_result"
    }
   ],
   "source": [
    "encrypted_text = '135024'\n",
    "encrypted_text[-len(encrypted_text)//2:]     "
   ]
  },
  {
   "cell_type": "code",
   "execution_count": 58,
   "id": "461c4c53",
   "metadata": {},
   "outputs": [
    {
     "data": {
      "text/plain": [
       "'135'"
      ]
     },
     "execution_count": 58,
     "metadata": {},
     "output_type": "execute_result"
    }
   ],
   "source": [
    "encrypted_text[:len(encrypted_text)//2]"
   ]
  },
  {
   "cell_type": "markdown",
   "id": "56b10df4",
   "metadata": {},
   "source": [
    "# did not solve"
   ]
  },
  {
   "cell_type": "markdown",
   "id": "bac7ddac",
   "metadata": {},
   "source": [
    "solutions:"
   ]
  },
  {
   "cell_type": "code",
   "execution_count": 59,
   "id": "7d28a750",
   "metadata": {},
   "outputs": [],
   "source": [
    "def decrypt(text, n):\n",
    "    if text in (\"\", None):\n",
    "        return text\n",
    "    \n",
    "    ndx = len(text) // 2\n",
    "\n",
    "    for i in range(n):\n",
    "        a = text[:ndx]\n",
    "        b = text[ndx:]\n",
    "        text = \"\".join(b[i:i+1] + a[i:i+1] for i in range(ndx + 1))\n",
    "    return text\n",
    "\n",
    "\n",
    "\n",
    "def encrypt(text, n):\n",
    "    for i in range(n):\n",
    "        text = text[1::2] + text[::2]\n",
    "    return text"
   ]
  },
  {
   "cell_type": "code",
   "execution_count": null,
   "id": "47b08f65",
   "metadata": {},
   "outputs": [],
   "source": [
    "def decrypt(s, n):\n",
    "    if not s: return s\n",
    "    o, l = len(s) // 2, list(s)\n",
    "    for _ in range(n):\n",
    "        l[1::2], l[::2] = l[:o], l[o:]\n",
    "    return ''.join(l)\n",
    "\n",
    "\n",
    "def encrypt(s, n):\n",
    "    if not s: return s\n",
    "    for _ in range(n):\n",
    "        s = s[1::2] + s[::2]\n",
    "    return s"
   ]
  }
 ],
 "metadata": {
  "kernelspec": {
   "display_name": "Python 3 (ipykernel)",
   "language": "python",
   "name": "python3"
  },
  "language_info": {
   "codemirror_mode": {
    "name": "ipython",
    "version": 3
   },
   "file_extension": ".py",
   "mimetype": "text/x-python",
   "name": "python",
   "nbconvert_exporter": "python",
   "pygments_lexer": "ipython3",
   "version": "3.10.6"
  },
  "toc": {
   "base_numbering": 1,
   "nav_menu": {},
   "number_sections": true,
   "sideBar": true,
   "skip_h1_title": false,
   "title_cell": "Table of Contents",
   "title_sidebar": "Contents",
   "toc_cell": false,
   "toc_position": {},
   "toc_section_display": true,
   "toc_window_display": false
  }
 },
 "nbformat": 4,
 "nbformat_minor": 5
}
