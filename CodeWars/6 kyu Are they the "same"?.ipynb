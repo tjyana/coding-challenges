{
 "cells": [
  {
   "cell_type": "markdown",
   "id": "05b6fc8f",
   "metadata": {},
   "source": [
    "Given two arrays a and b write a function comp(a, b) (orcompSame(a, b)) that checks whether the two arrays have the \"same\" elements, with the same multiplicities (the multiplicity of a member is the number of times it appears). \"Same\" means, here, that the elements in b are the elements in a squared, regardless of the order.\n",
    "\n",
    "Examples\n",
    "Valid arrays\n",
    "a = [121, 144, 19, 161, 19, 144, 19, 11]  \n",
    "b = [121, 14641, 20736, 361, 25921, 361, 20736, 361]\n",
    "comp(a, b) returns true because in b 121 is the square of 11, 14641 is the square of 121, 20736 the square of 144, 361 the square of 19, 25921 the square of 161, and so on. It gets obvious if we write b's elements in terms of squares:\n",
    "\n",
    "a = [121, 144, 19, 161, 19, 144, 19, 11] \n",
    "b = [11*11, 121*121, 144*144, 19*19, 161*161, 19*19, 144*144, 19*19]\n",
    "Invalid arrays\n",
    "If, for example, we change the first number to something else, comp is not returning true anymore:\n",
    "\n",
    "a = [121, 144, 19, 161, 19, 144, 19, 11]  \n",
    "b = [132, 14641, 20736, 361, 25921, 361, 20736, 361]\n",
    "comp(a,b) returns false because in b 132 is not the square of any number of a.\n",
    "\n",
    "a = [121, 144, 19, 161, 19, 144, 19, 11]  \n",
    "b = [121, 14641, 20736, 36100, 25921, 361, 20736, 361]\n",
    "comp(a,b) returns false because in b 36100 is not the square of any number of a.\n",
    "\n",
    "Remarks\n",
    "a or b might be [] or {} (all languages except R, Shell).\n",
    "a or b might be nil or null or None or nothing (except in C++, COBOL, Crystal, D, Dart, Elixir, Fortran, F#, Haskell, Nim, OCaml, Pascal, Perl, PowerShell, Prolog, PureScript, R, Racket, Rust, Shell, Swift).\n",
    "If a or b are nil (or null or None, depending on the language), the problem doesn't make sense so return false."
   ]
  },
  {
   "cell_type": "code",
   "execution_count": null,
   "id": "ab49df19",
   "metadata": {},
   "outputs": [],
   "source": [
    "def comp(a1, a2):\n",
    "    return False if a1 == None or a2 == None else {digit*digit: a1.count(digit) for digit in sorted(a1)} == {digit: a2.count(digit) for digit in sorted(a2)}"
   ]
  },
  {
   "cell_type": "code",
   "execution_count": 13,
   "id": "42698258",
   "metadata": {},
   "outputs": [],
   "source": [
    "def comp(a1, a2):\n",
    "    try:\n",
    "        return{digit*digit: a1.count(digit) for digit in sorted(a1)} == {digit: a2.count(digit) for digit in sorted(a2)}\n",
    "    except:\n",
    "        return False"
   ]
  },
  {
   "cell_type": "code",
   "execution_count": 14,
   "id": "b9399acf",
   "metadata": {},
   "outputs": [],
   "source": [
    "# true\n",
    "a1 = [121, 144, 19, 161, 19, 144, 19, 11]\n",
    "a2 = [11*11, 121*121, 144*144, 19*19, 161*161, 19*19, 144*144, 19*19]"
   ]
  },
  {
   "cell_type": "code",
   "execution_count": 16,
   "id": "085c2ba4",
   "metadata": {},
   "outputs": [
    {
     "data": {
      "text/plain": [
       "False"
      ]
     },
     "execution_count": 16,
     "metadata": {},
     "output_type": "execute_result"
    }
   ],
   "source": [
    "comp(a1, a2)"
   ]
  },
  {
   "cell_type": "code",
   "execution_count": 7,
   "id": "48d5115f",
   "metadata": {},
   "outputs": [
    {
     "data": {
      "text/plain": [
       "{121: 1, 144: 2, 19: 3, 161: 1, 11: 1}"
      ]
     },
     "execution_count": 7,
     "metadata": {},
     "output_type": "execute_result"
    }
   ],
   "source": [
    "{digit: a1.count(digit) for digit in a1}"
   ]
  },
  {
   "cell_type": "code",
   "execution_count": 11,
   "id": "b90ddbb1",
   "metadata": {},
   "outputs": [
    {
     "data": {
      "text/plain": [
       "{121: 1, 361: 3, 14641: 1, 20736: 2, 25921: 1}"
      ]
     },
     "execution_count": 11,
     "metadata": {},
     "output_type": "execute_result"
    }
   ],
   "source": [
    "{digit: a2.count(digit) for digit in sorted(a2)}"
   ]
  },
  {
   "cell_type": "code",
   "execution_count": 12,
   "id": "550ccb7b",
   "metadata": {},
   "outputs": [
    {
     "data": {
      "text/plain": [
       "True"
      ]
     },
     "execution_count": 12,
     "metadata": {},
     "output_type": "execute_result"
    }
   ],
   "source": [
    "{digit*digit: a1.count(digit) for digit in sorted(a1)} == {digit: a2.count(digit) for digit in sorted(a2)}"
   ]
  },
  {
   "cell_type": "code",
   "execution_count": null,
   "id": "75a2338b",
   "metadata": {},
   "outputs": [],
   "source": [
    "# did not need dict comp lol. list comp enough. also, try/except for the None condition\n",
    "\n",
    "def comp(array1, array2):\n",
    "    try:\n",
    "        return sorted([i ** 2 for i in array1]) == sorted(array2)\n",
    "    except:\n",
    "        return False"
   ]
  }
 ],
 "metadata": {
  "kernelspec": {
   "display_name": "Python 3 (ipykernel)",
   "language": "python",
   "name": "python3"
  },
  "language_info": {
   "codemirror_mode": {
    "name": "ipython",
    "version": 3
   },
   "file_extension": ".py",
   "mimetype": "text/x-python",
   "name": "python",
   "nbconvert_exporter": "python",
   "pygments_lexer": "ipython3",
   "version": "3.10.6"
  },
  "toc": {
   "base_numbering": 1,
   "nav_menu": {},
   "number_sections": true,
   "sideBar": true,
   "skip_h1_title": false,
   "title_cell": "Table of Contents",
   "title_sidebar": "Contents",
   "toc_cell": false,
   "toc_position": {},
   "toc_section_display": true,
   "toc_window_display": false
  }
 },
 "nbformat": 4,
 "nbformat_minor": 5
}
