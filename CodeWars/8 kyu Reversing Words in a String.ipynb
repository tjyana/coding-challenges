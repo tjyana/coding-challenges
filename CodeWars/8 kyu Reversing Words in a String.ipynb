{
 "cells": [
  {
   "cell_type": "code",
   "execution_count": null,
   "id": "fe7afeec",
   "metadata": {},
   "outputs": [],
   "source": [
    "You need to write a function that reverses the words in a given string. A word can also fit an empty string. If this is not clear enough, here are some examples:\n",
    "\n",
    "As the input may have trailing spaces, you will also need to ignore unneccesary whitespace.\n",
    "\n",
    "Example (Input --> Output)\n",
    "\n",
    "\"Hello World\" --> \"World Hello\"\n",
    "\"Hi There.\" --> \"There. Hi\"\n",
    "Happy coding!"
   ]
  },
  {
   "cell_type": "code",
   "execution_count": null,
   "id": "9a93a1c0",
   "metadata": {},
   "outputs": [],
   "source": [
    "def reverse(st):\n",
    "    return ' '.join(st.strip().split()[::-1])"
   ]
  },
  {
   "cell_type": "code",
   "execution_count": null,
   "id": "dac30719",
   "metadata": {},
   "outputs": [],
   "source": []
  },
  {
   "cell_type": "code",
   "execution_count": null,
   "id": "7f482bb5",
   "metadata": {},
   "outputs": [],
   "source": [
    "st = \"Hello World aaa\""
   ]
  },
  {
   "cell_type": "code",
   "execution_count": 26,
   "id": "b7f8a811",
   "metadata": {},
   "outputs": [
    {
     "name": "stdout",
     "output_type": "stream",
     "text": [
      "<reversed object at 0x7f717f0bfb80>\n"
     ]
    }
   ],
   "source": []
  },
  {
   "cell_type": "code",
   "execution_count": 33,
   "id": "d4830e1c",
   "metadata": {},
   "outputs": [
    {
     "data": {
      "text/plain": [
       "['Hello', 'World', 'aaa']"
      ]
     },
     "execution_count": 33,
     "metadata": {},
     "output_type": "execute_result"
    }
   ],
   "source": [
    "new = st.split()\n",
    "new"
   ]
  },
  {
   "cell_type": "code",
   "execution_count": 37,
   "id": "3e327b1a",
   "metadata": {},
   "outputs": [
    {
     "ename": "TypeError",
     "evalue": "can only join an iterable",
     "output_type": "error",
     "traceback": [
      "\u001b[0;31m---------------------------------------------------------------------------\u001b[0m",
      "\u001b[0;31mTypeError\u001b[0m                                 Traceback (most recent call last)",
      "Cell \u001b[0;32mIn [37], line 1\u001b[0m\n\u001b[0;32m----> 1\u001b[0m \u001b[38;5;124;43m'\u001b[39;49m\u001b[38;5;124;43m \u001b[39;49m\u001b[38;5;124;43m'\u001b[39;49m\u001b[38;5;241;43m.\u001b[39;49m\u001b[43mjoin\u001b[49m\u001b[43m(\u001b[49m\u001b[43mnew\u001b[49m\u001b[38;5;241;43m.\u001b[39;49m\u001b[43mreverse\u001b[49m\u001b[43m(\u001b[49m\u001b[43m)\u001b[49m\u001b[43m)\u001b[49m\n",
      "\u001b[0;31mTypeError\u001b[0m: can only join an iterable"
     ]
    }
   ],
   "source": [
    "' '.join(new.reverse())"
   ]
  },
  {
   "cell_type": "code",
   "execution_count": 36,
   "id": "2e9c44f4",
   "metadata": {},
   "outputs": [
    {
     "data": {
      "text/plain": [
       "'aaa World Hello'"
      ]
     },
     "execution_count": 36,
     "metadata": {},
     "output_type": "execute_result"
    }
   ],
   "source": [
    "' '.join(new)"
   ]
  },
  {
   "cell_type": "code",
   "execution_count": 41,
   "id": "f4b9de28",
   "metadata": {},
   "outputs": [
    {
     "data": {
      "text/plain": [
       "'aaa dlroW olleH'"
      ]
     },
     "execution_count": 41,
     "metadata": {},
     "output_type": "execute_result"
    }
   ],
   "source": [
    "st = \"Hello World aaa\"\n",
    "''.join(reversed(st))"
   ]
  },
  {
   "cell_type": "code",
   "execution_count": 42,
   "id": "bec81fcd",
   "metadata": {},
   "outputs": [
    {
     "data": {
      "text/plain": [
       "'aaa dlroW olleH'"
      ]
     },
     "execution_count": 42,
     "metadata": {},
     "output_type": "execute_result"
    }
   ],
   "source": [
    "st[::-1]"
   ]
  },
  {
   "cell_type": "code",
   "execution_count": 43,
   "id": "55e5a7e0",
   "metadata": {},
   "outputs": [
    {
     "data": {
      "text/plain": [
       "<reversed at 0x7f717ef7bee0>"
      ]
     },
     "execution_count": 43,
     "metadata": {},
     "output_type": "execute_result"
    }
   ],
   "source": [
    "reversed(st)"
   ]
  },
  {
   "cell_type": "code",
   "execution_count": 44,
   "id": "d84c5644",
   "metadata": {},
   "outputs": [
    {
     "ename": "AttributeError",
     "evalue": "'str' object has no attribute 'reverse'",
     "output_type": "error",
     "traceback": [
      "\u001b[0;31m---------------------------------------------------------------------------\u001b[0m",
      "\u001b[0;31mAttributeError\u001b[0m                            Traceback (most recent call last)",
      "Cell \u001b[0;32mIn [44], line 1\u001b[0m\n\u001b[0;32m----> 1\u001b[0m \u001b[43mst\u001b[49m\u001b[38;5;241;43m.\u001b[39;49m\u001b[43mreverse\u001b[49m()\n",
      "\u001b[0;31mAttributeError\u001b[0m: 'str' object has no attribute 'reverse'"
     ]
    }
   ],
   "source": [
    "st.reverse()"
   ]
  },
  {
   "cell_type": "code",
   "execution_count": null,
   "id": "0fa9914d",
   "metadata": {},
   "outputs": [],
   "source": []
  }
 ],
 "metadata": {
  "kernelspec": {
   "display_name": "Python 3 (ipykernel)",
   "language": "python",
   "name": "python3"
  },
  "language_info": {
   "codemirror_mode": {
    "name": "ipython",
    "version": 3
   },
   "file_extension": ".py",
   "mimetype": "text/x-python",
   "name": "python",
   "nbconvert_exporter": "python",
   "pygments_lexer": "ipython3",
   "version": "3.10.6"
  },
  "toc": {
   "base_numbering": 1,
   "nav_menu": {},
   "number_sections": true,
   "sideBar": true,
   "skip_h1_title": false,
   "title_cell": "Table of Contents",
   "title_sidebar": "Contents",
   "toc_cell": false,
   "toc_position": {},
   "toc_section_display": true,
   "toc_window_display": false
  }
 },
 "nbformat": 4,
 "nbformat_minor": 5
}
