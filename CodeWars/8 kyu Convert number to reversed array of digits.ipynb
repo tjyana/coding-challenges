{
 "cells": [
  {
   "cell_type": "code",
   "execution_count": null,
   "id": "981012cf",
   "metadata": {},
   "outputs": [],
   "source": [
    "Convert number to reversed array of digits\n",
    "Given a random non-negative number, you have to return the digits of this number within an array in reverse order.\n",
    "\n",
    "Example(Input => Output):\n",
    "35231 => [1,3,2,5,3]\n",
    "0 => [0]"
   ]
  },
  {
   "cell_type": "code",
   "execution_count": null,
   "id": "58dcaf59",
   "metadata": {},
   "outputs": [],
   "source": [
    "def digitize(n):\n",
    "    return [int(number) for number in list(str(n)[::-1])]"
   ]
  },
  {
   "cell_type": "code",
   "execution_count": 2,
   "id": "4074ed40",
   "metadata": {},
   "outputs": [
    {
     "ename": "AttributeError",
     "evalue": "'int' object has no attribute 'split'",
     "output_type": "error",
     "traceback": [
      "\u001b[0;31m---------------------------------------------------------------------------\u001b[0m",
      "\u001b[0;31mAttributeError\u001b[0m                            Traceback (most recent call last)",
      "Cell \u001b[0;32mIn [2], line 2\u001b[0m\n\u001b[1;32m      1\u001b[0m n \u001b[38;5;241m=\u001b[39m \u001b[38;5;241m35231\u001b[39m\n\u001b[0;32m----> 2\u001b[0m \u001b[43mn\u001b[49m\u001b[38;5;241;43m.\u001b[39;49m\u001b[43msplit\u001b[49m()\n",
      "\u001b[0;31mAttributeError\u001b[0m: 'int' object has no attribute 'split'"
     ]
    }
   ],
   "source": [
    "n = 35231\n",
    "n.split()"
   ]
  },
  {
   "cell_type": "code",
   "execution_count": 3,
   "id": "e82f8acd",
   "metadata": {},
   "outputs": [
    {
     "ename": "NameError",
     "evalue": "name 'split' is not defined",
     "output_type": "error",
     "traceback": [
      "\u001b[0;31m---------------------------------------------------------------------------\u001b[0m",
      "\u001b[0;31mNameError\u001b[0m                                 Traceback (most recent call last)",
      "Cell \u001b[0;32mIn [3], line 1\u001b[0m\n\u001b[0;32m----> 1\u001b[0m \u001b[43msplit\u001b[49m(n)\n",
      "\u001b[0;31mNameError\u001b[0m: name 'split' is not defined"
     ]
    }
   ],
   "source": [
    "split(n)"
   ]
  },
  {
   "cell_type": "code",
   "execution_count": 4,
   "id": "76bf8cd9",
   "metadata": {},
   "outputs": [
    {
     "data": {
      "text/plain": [
       "'35231'"
      ]
     },
     "execution_count": 4,
     "metadata": {},
     "output_type": "execute_result"
    }
   ],
   "source": [
    "str(n)"
   ]
  },
  {
   "cell_type": "code",
   "execution_count": 13,
   "id": "5b32d9e1",
   "metadata": {},
   "outputs": [
    {
     "data": {
      "text/plain": [
       "13253"
      ]
     },
     "execution_count": 13,
     "metadata": {},
     "output_type": "execute_result"
    }
   ],
   "source": [
    "int(str(n)[::-1])"
   ]
  },
  {
   "cell_type": "code",
   "execution_count": 14,
   "id": "18b5d7ee",
   "metadata": {},
   "outputs": [
    {
     "data": {
      "text/plain": [
       "'13253'"
      ]
     },
     "execution_count": 14,
     "metadata": {},
     "output_type": "execute_result"
    }
   ],
   "source": [
    "str(n)[::-1]"
   ]
  },
  {
   "cell_type": "code",
   "execution_count": 15,
   "id": "0b7df3cc",
   "metadata": {},
   "outputs": [
    {
     "data": {
      "text/plain": [
       "['1', '3', '2', '5', '3']"
      ]
     },
     "execution_count": 15,
     "metadata": {},
     "output_type": "execute_result"
    }
   ],
   "source": [
    "list(str(n)[::-1])"
   ]
  },
  {
   "cell_type": "code",
   "execution_count": 16,
   "id": "5ad2911f",
   "metadata": {},
   "outputs": [
    {
     "data": {
      "text/plain": [
       "[1, 3, 2, 5, 3]"
      ]
     },
     "execution_count": 16,
     "metadata": {},
     "output_type": "execute_result"
    }
   ],
   "source": [
    "[int(number) for number in list(str(n)[::-1])]\n"
   ]
  },
  {
   "cell_type": "code",
   "execution_count": null,
   "id": "125106d9",
   "metadata": {},
   "outputs": [],
   "source": []
  }
 ],
 "metadata": {
  "kernelspec": {
   "display_name": "Python 3 (ipykernel)",
   "language": "python",
   "name": "python3"
  },
  "language_info": {
   "codemirror_mode": {
    "name": "ipython",
    "version": 3
   },
   "file_extension": ".py",
   "mimetype": "text/x-python",
   "name": "python",
   "nbconvert_exporter": "python",
   "pygments_lexer": "ipython3",
   "version": "3.10.6"
  },
  "toc": {
   "base_numbering": 1,
   "nav_menu": {},
   "number_sections": true,
   "sideBar": true,
   "skip_h1_title": false,
   "title_cell": "Table of Contents",
   "title_sidebar": "Contents",
   "toc_cell": false,
   "toc_position": {},
   "toc_section_display": true,
   "toc_window_display": false
  }
 },
 "nbformat": 4,
 "nbformat_minor": 5
}
