{
 "cells": [
  {
   "cell_type": "markdown",
   "id": "8ce2735d",
   "metadata": {},
   "source": [
    "In a factory a printer prints labels for boxes. For one kind of boxes the printer has to use colors which, for the sake of simplicity, are named with letters from a to m.\n",
    "\n",
    "The colors used by the printer are recorded in a control string. For example a \"good\" control string would be aaabbbbhaijjjm meaning that the printer used three times color a, four times color b, one time color h then one time color a...\n",
    "\n",
    "Sometimes there are problems: lack of colors, technical malfunction and a \"bad\" control string is produced e.g. aaaxbbbbyyhwawiwjjjwwm with letters not from a to m.\n",
    "\n",
    "You have to write a function printer_error which given a string will return the error rate of the printer as a string representing a rational whose numerator is the number of errors and the denominator the length of the control string. Don't reduce this fraction to a simpler expression.\n",
    "\n",
    "The string has a length greater or equal to one and contains only letters from ato z.\n",
    "\n",
    "Examples:\n",
    "s=\"aaabbbbhaijjjm\"\n",
    "printer_error(s) => \"0/14\"\n",
    "\n",
    "s=\"aaaxbbbbyyhwawiwjjjwwm\"\n",
    "printer_error(s) => \"8/22\""
   ]
  },
  {
   "cell_type": "code",
   "execution_count": null,
   "id": "afba470b",
   "metadata": {},
   "outputs": [],
   "source": [
    "def printer_error(s):\n",
    "    # your code"
   ]
  },
  {
   "cell_type": "code",
   "execution_count": 3,
   "id": "b07c4ac4",
   "metadata": {},
   "outputs": [
    {
     "data": {
      "text/plain": [
       "'8/22'"
      ]
     },
     "execution_count": 3,
     "metadata": {},
     "output_type": "execute_result"
    }
   ],
   "source": [
    "s=\"aaaxbbbbyyhwawiwjjjwwm\"\n",
    "\n",
    "correct = 'abcdefghijklm'\n",
    "counter = 0\n",
    "for letter in s:\n",
    "    if letter not in correct:\n",
    "        counter += 1\n",
    "f'{counter}/{len(s)}'"
   ]
  },
  {
   "cell_type": "code",
   "execution_count": null,
   "id": "1133c556",
   "metadata": {},
   "outputs": [],
   "source": [
    "correct = 'abcdefghijklm'\n",
    "counter = 0\n",
    "for letter in s:\n",
    "    if letter not in correct:\n",
    "        counter += 1\n",
    "f'{counter}/{len(s)}'"
   ]
  },
  {
   "cell_type": "code",
   "execution_count": 4,
   "id": "495288bc",
   "metadata": {},
   "outputs": [],
   "source": [
    "# Others"
   ]
  },
  {
   "cell_type": "code",
   "execution_count": 5,
   "id": "8080198f",
   "metadata": {},
   "outputs": [],
   "source": [
    "from re import sub\n",
    "def printer_error(s):\n",
    "    return \"{}/{}\".format(len(sub(\"[a-m]\",'',s)),len(s))"
   ]
  },
  {
   "cell_type": "code",
   "execution_count": null,
   "id": "f6137cd1",
   "metadata": {},
   "outputs": [],
   "source": [
    "def printer_error(s):\n",
    "    return \"{}/{}\".format(len([x for x in s if x not in \"abcdefghijklm\"]), len(s))"
   ]
  }
 ],
 "metadata": {
  "kernelspec": {
   "display_name": "Python 3 (ipykernel)",
   "language": "python",
   "name": "python3"
  },
  "language_info": {
   "codemirror_mode": {
    "name": "ipython",
    "version": 3
   },
   "file_extension": ".py",
   "mimetype": "text/x-python",
   "name": "python",
   "nbconvert_exporter": "python",
   "pygments_lexer": "ipython3",
   "version": "3.10.6"
  },
  "toc": {
   "base_numbering": 1,
   "nav_menu": {},
   "number_sections": true,
   "sideBar": true,
   "skip_h1_title": false,
   "title_cell": "Table of Contents",
   "title_sidebar": "Contents",
   "toc_cell": false,
   "toc_position": {},
   "toc_section_display": true,
   "toc_window_display": false
  }
 },
 "nbformat": 4,
 "nbformat_minor": 5
}
