{
 "cells": [
  {
   "cell_type": "code",
   "execution_count": null,
   "id": "772445fb",
   "metadata": {},
   "outputs": [],
   "source": []
  },
  {
   "cell_type": "code",
   "execution_count": null,
   "id": "ebba4502",
   "metadata": {},
   "outputs": [],
   "source": []
  },
  {
   "cell_type": "code",
   "execution_count": 18,
   "id": "b591204c",
   "metadata": {},
   "outputs": [
    {
     "ename": "TypeError",
     "evalue": "str.translate() takes exactly one argument (2 given)",
     "output_type": "error",
     "traceback": [
      "\u001b[0;31m---------------------------------------------------------------------------\u001b[0m",
      "\u001b[0;31mTypeError\u001b[0m                                 Traceback (most recent call last)",
      "Cell \u001b[0;32mIn [18], line 4\u001b[0m\n\u001b[1;32m      1\u001b[0m vowels \u001b[38;5;241m=\u001b[39m [\u001b[38;5;124m'\u001b[39m\u001b[38;5;124ma\u001b[39m\u001b[38;5;124m'\u001b[39m, \u001b[38;5;124m'\u001b[39m\u001b[38;5;124me\u001b[39m\u001b[38;5;124m'\u001b[39m, \u001b[38;5;124m'\u001b[39m\u001b[38;5;124mi\u001b[39m\u001b[38;5;124m'\u001b[39m, \u001b[38;5;124m'\u001b[39m\u001b[38;5;124mo\u001b[39m\u001b[38;5;124m'\u001b[39m, \u001b[38;5;124m'\u001b[39m\u001b[38;5;124mu\u001b[39m\u001b[38;5;124m'\u001b[39m]\n\u001b[1;32m      2\u001b[0m string \u001b[38;5;241m=\u001b[39m \u001b[38;5;124m'\u001b[39m\u001b[38;5;124mhello\u001b[39m\u001b[38;5;124m'\u001b[39m\n\u001b[0;32m----> 4\u001b[0m \u001b[43mstring\u001b[49m\u001b[38;5;241;43m.\u001b[39;49m\u001b[43mtranslate\u001b[49m\u001b[43m(\u001b[49m\u001b[38;5;28;43;01mNone\u001b[39;49;00m\u001b[43m,\u001b[49m\u001b[43m \u001b[49m\u001b[38;5;124;43m'\u001b[39;49m\u001b[38;5;124;43maeiou\u001b[39;49m\u001b[38;5;124;43m'\u001b[39;49m\u001b[43m)\u001b[49m\n",
      "\u001b[0;31mTypeError\u001b[0m: str.translate() takes exactly one argument (2 given)"
     ]
    }
   ],
   "source": [
    "vowels = ['a', 'e', 'i', 'o', 'u']\n",
    "string = 'hello'\n",
    "\n",
    "string.translate(None, 'aeiou')  "
   ]
  },
  {
   "cell_type": "code",
   "execution_count": 3,
   "id": "d3928cb3",
   "metadata": {},
   "outputs": [
    {
     "ename": "TypeError",
     "evalue": "'in <string>' requires string as left operand, not list",
     "output_type": "error",
     "traceback": [
      "\u001b[0;31m---------------------------------------------------------------------------\u001b[0m",
      "\u001b[0;31mTypeError\u001b[0m                                 Traceback (most recent call last)",
      "Cell \u001b[0;32mIn [3], line 3\u001b[0m\n\u001b[1;32m      1\u001b[0m string \u001b[38;5;241m=\u001b[39m \u001b[38;5;124m'\u001b[39m\u001b[38;5;124mhello\u001b[39m\u001b[38;5;124m'\u001b[39m\n\u001b[1;32m      2\u001b[0m \u001b[38;5;28;01mfor\u001b[39;00m letter \u001b[38;5;129;01min\u001b[39;00m string:\n\u001b[0;32m----> 3\u001b[0m     \u001b[38;5;28;01mif\u001b[39;00m \u001b[43mvowels\u001b[49m\u001b[43m \u001b[49m\u001b[38;5;129;43;01min\u001b[39;49;00m\u001b[43m \u001b[49m\u001b[43mstring\u001b[49m:\n\u001b[1;32m      4\u001b[0m         final_word \u001b[38;5;241m=\u001b[39m string\u001b[38;5;241m.\u001b[39mremove(\u001b[38;5;124m'\u001b[39m\u001b[38;5;124mvowels\u001b[39m\u001b[38;5;124m'\u001b[39m)\n\u001b[1;32m      6\u001b[0m final_word\n",
      "\u001b[0;31mTypeError\u001b[0m: 'in <string>' requires string as left operand, not list"
     ]
    }
   ],
   "source": [
    "string = 'hello'\n",
    "for letter in string:\n",
    "    if vowels in string:\n",
    "        final_word = string.remove('vowels')\n",
    "        \n",
    "final_word\n"
   ]
  },
  {
   "cell_type": "code",
   "execution_count": null,
   "id": "37da01b5",
   "metadata": {},
   "outputs": [],
   "source": [
    "# in looks at if strings are in a list"
   ]
  },
  {
   "cell_type": "code",
   "execution_count": null,
   "id": "ecf5b7e8",
   "metadata": {},
   "outputs": [],
   "source": [
    "# new_str = test_str.replace('CHARACTER_TO_REMOVE', 'WHAT_TO_REPLACE_WITH')"
   ]
  },
  {
   "cell_type": "code",
   "execution_count": null,
   "id": "87dfd6c0",
   "metadata": {},
   "outputs": [],
   "source": []
  },
  {
   "cell_type": "markdown",
   "id": "7029a1da",
   "metadata": {},
   "source": [
    "## "
   ]
  },
  {
   "cell_type": "code",
   "execution_count": null,
   "id": "ee774d79",
   "metadata": {},
   "outputs": [],
   "source": [
    "string = 'hello'\n",
    "vowels = ['a', 'e', 'i', 'o', 'u']"
   ]
  },
  {
   "cell_type": "code",
   "execution_count": 25,
   "id": "857fac1f",
   "metadata": {},
   "outputs": [
    {
     "data": {
      "text/plain": [
       "'hello'"
      ]
     },
     "execution_count": 25,
     "metadata": {},
     "output_type": "execute_result"
    }
   ],
   "source": [
    "for vowel in vowels:\n",
    "    new_string = string.replace(vowel, '')\n",
    "new_string"
   ]
  },
  {
   "cell_type": "code",
   "execution_count": 23,
   "id": "e92272c9",
   "metadata": {},
   "outputs": [
    {
     "data": {
      "text/plain": [
       "'hll'"
      ]
     },
     "execution_count": 23,
     "metadata": {},
     "output_type": "execute_result"
    }
   ],
   "source": [
    "for vowel in vowels:\n",
    "    string = string.replace(vowel, '')\n",
    "string\n"
   ]
  },
  {
   "cell_type": "code",
   "execution_count": 28,
   "id": "e21a571d",
   "metadata": {},
   "outputs": [
    {
     "data": {
      "text/plain": [
       "'hll'"
      ]
     },
     "execution_count": 28,
     "metadata": {},
     "output_type": "execute_result"
    }
   ],
   "source": [
    "string.replace('a', '').replace('e', '').replace('i', '').replace('o', '').replace('u', '')\n"
   ]
  },
  {
   "cell_type": "code",
   "execution_count": null,
   "id": "38e55d0e",
   "metadata": {},
   "outputs": [],
   "source": [
    "# submitted solution\n",
    "\n",
    "def shortcut( s ):\n",
    "    return s.replace(\"a\", \"\").replace(\"e\", \"\").replace(\"i\",\"\").replace(\"o\",\"\").replace(\"u\",\"\")"
   ]
  },
  {
   "cell_type": "markdown",
   "id": "673c7eaf",
   "metadata": {},
   "source": [
    "### best solutions"
   ]
  },
  {
   "cell_type": "code",
   "execution_count": 26,
   "id": "86a7b9e1",
   "metadata": {},
   "outputs": [],
   "source": [
    "def shortcut(s):\n",
    "    return ''.join(c for c in s if c not in 'aeiou')"
   ]
  },
  {
   "cell_type": "code",
   "execution_count": 27,
   "id": "fc71374e",
   "metadata": {},
   "outputs": [],
   "source": [
    "def shortcut( s ):\n",
    "    for vowel in \"aeiou\":\n",
    "        s = s.replace(vowel, \"\")\n",
    "    return s"
   ]
  },
  {
   "cell_type": "code",
   "execution_count": null,
   "id": "acf234c6",
   "metadata": {},
   "outputs": [],
   "source": []
  }
 ],
 "metadata": {
  "kernelspec": {
   "display_name": "Python 3 (ipykernel)",
   "language": "python",
   "name": "python3"
  },
  "language_info": {
   "codemirror_mode": {
    "name": "ipython",
    "version": 3
   },
   "file_extension": ".py",
   "mimetype": "text/x-python",
   "name": "python",
   "nbconvert_exporter": "python",
   "pygments_lexer": "ipython3",
   "version": "3.10.6"
  },
  "toc": {
   "base_numbering": 1,
   "nav_menu": {},
   "number_sections": true,
   "sideBar": true,
   "skip_h1_title": false,
   "title_cell": "Table of Contents",
   "title_sidebar": "Contents",
   "toc_cell": false,
   "toc_position": {},
   "toc_section_display": true,
   "toc_window_display": false
  }
 },
 "nbformat": 4,
 "nbformat_minor": 5
}
