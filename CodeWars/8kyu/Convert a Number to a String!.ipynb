{
 "cells": [
  {
   "cell_type": "markdown",
   "id": "33c40937",
   "metadata": {},
   "source": [
    "We need a function that can transform a number (integer) into a string.\n",
    "\n",
    "What ways of achieving this do you know?\n",
    "\n",
    "Examples (input --> output):\n",
    "123  --> \"123\"\n",
    "999  --> \"999\"\n",
    "-100 --> \"-100\""
   ]
  },
  {
   "cell_type": "markdown",
   "id": "23386b03",
   "metadata": {},
   "source": [
    "4/23/2024"
   ]
  },
  {
   "cell_type": "code",
   "execution_count": 4,
   "id": "358da2f4",
   "metadata": {},
   "outputs": [
    {
     "data": {
      "text/plain": [
       "'124234'"
      ]
     },
     "execution_count": 4,
     "metadata": {},
     "output_type": "execute_result"
    }
   ],
   "source": [
    "def number_to_string(num):\n",
    "    return str(num)\n",
    "\n",
    "number_to_string(124234)"
   ]
  },
  {
   "cell_type": "code",
   "execution_count": null,
   "id": "1da13f4d",
   "metadata": {},
   "outputs": [],
   "source": []
  }
 ],
 "metadata": {
  "kernelspec": {
   "display_name": "Python 3 (ipykernel)",
   "language": "python",
   "name": "python3"
  },
  "language_info": {
   "codemirror_mode": {
    "name": "ipython",
    "version": 3
   },
   "file_extension": ".py",
   "mimetype": "text/x-python",
   "name": "python",
   "nbconvert_exporter": "python",
   "pygments_lexer": "ipython3",
   "version": "3.10.6"
  },
  "toc": {
   "base_numbering": 1,
   "nav_menu": {},
   "number_sections": true,
   "sideBar": true,
   "skip_h1_title": false,
   "title_cell": "Table of Contents",
   "title_sidebar": "Contents",
   "toc_cell": false,
   "toc_position": {},
   "toc_section_display": true,
   "toc_window_display": false
  }
 },
 "nbformat": 4,
 "nbformat_minor": 5
}
