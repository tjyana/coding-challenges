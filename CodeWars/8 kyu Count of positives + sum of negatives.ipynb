{
 "cells": [
  {
   "cell_type": "code",
   "execution_count": null,
   "id": "505daf3a",
   "metadata": {},
   "outputs": [],
   "source": [
    "Given an array of integers.\n",
    "\n",
    "Return an array, where the first element is the count of positives numbers and the second element is sum of negative numbers. 0 is neither positive nor negative.\n",
    "\n",
    "If the input is an empty array or is null, return an empty array.\n",
    "\n",
    "Example\n",
    "For input [1, 2, 3, 4, 5, 6, 7, 8, 9, 10, -11, -12, -13, -14, -15], you should return [10, -65].\n",
    "\n"
   ]
  },
  {
   "cell_type": "code",
   "execution_count": 6,
   "id": "e7a8852a",
   "metadata": {},
   "outputs": [],
   "source": [
    "def count_positives_sum_negatives(arr):\n",
    "    count = 0\n",
    "    negatives = 0\n",
    "    if arr == False:\n",
    "        return []\n",
    "    for number in arr:\n",
    "        # count positives\n",
    "        if number > 0:\n",
    "            count += 1\n",
    "        # sum of negatives\n",
    "        if number < 0:\n",
    "            negatives += number\n",
    "    return [count, negatives]"
   ]
  },
  {
   "cell_type": "code",
   "execution_count": 7,
   "id": "55a50870",
   "metadata": {},
   "outputs": [
    {
     "data": {
      "text/plain": [
       "[10, -65]"
      ]
     },
     "execution_count": 7,
     "metadata": {},
     "output_type": "execute_result"
    }
   ],
   "source": [
    "arr = [1, 2, 3, 4, 5, 6, 7, 8, 9, 10, -11, -12, -13, -14, -15]\n",
    "\n",
    "count_positives_sum_negatives(arr)"
   ]
  },
  {
   "cell_type": "code",
   "execution_count": 26,
   "id": "15a6549a",
   "metadata": {},
   "outputs": [],
   "source": [
    "# try list comp and ternary operators"
   ]
  },
  {
   "cell_type": "code",
   "execution_count": 27,
   "id": "3ec7f457",
   "metadata": {},
   "outputs": [
    {
     "data": {
      "text/plain": [
       "10"
      ]
     },
     "execution_count": 27,
     "metadata": {},
     "output_type": "execute_result"
    }
   ],
   "source": [
    "count = 0\n",
    "sum([count+1 for number in arr if number > 0])"
   ]
  },
  {
   "cell_type": "code",
   "execution_count": 28,
   "id": "256aab19",
   "metadata": {},
   "outputs": [
    {
     "data": {
      "text/plain": [
       "-65"
      ]
     },
     "execution_count": 28,
     "metadata": {},
     "output_type": "execute_result"
    }
   ],
   "source": [
    "negatives = 0\n",
    "sum([negatives+number for number in arr if number < 0])"
   ]
  },
  {
   "cell_type": "code",
   "execution_count": 29,
   "id": "9eb474d7",
   "metadata": {},
   "outputs": [],
   "source": [
    "def count_positives_sum_negatives(arr):\n",
    "    count, negatives = 0, 0\n",
    "    count = sum([count+1 for number in arr if number > 0])\n",
    "    negatives = sum([negatives+number for number in arr if number < 0])\n",
    "    return [] if arr == False else [count, negatives]"
   ]
  },
  {
   "cell_type": "code",
   "execution_count": 30,
   "id": "121ca1a9",
   "metadata": {},
   "outputs": [
    {
     "data": {
      "text/plain": [
       "[10, -65]"
      ]
     },
     "execution_count": 30,
     "metadata": {},
     "output_type": "execute_result"
    }
   ],
   "source": [
    "arr = [1, 2, 3, 4, 5, 6, 7, 8, 9, 10, -11, -12, -13, -14, -15]\n",
    "\n",
    "count_positives_sum_negatives(arr)"
   ]
  },
  {
   "cell_type": "code",
   "execution_count": 25,
   "id": "411ff521",
   "metadata": {},
   "outputs": [
    {
     "data": {
      "text/plain": [
       "1"
      ]
     },
     "execution_count": 25,
     "metadata": {},
     "output_type": "execute_result"
    }
   ],
   "source": [
    "a, b = 0, 1\n",
    "b"
   ]
  },
  {
   "cell_type": "code",
   "execution_count": 22,
   "id": "a0327763",
   "metadata": {},
   "outputs": [
    {
     "ename": "TypeError",
     "evalue": "cannot unpack non-iterable int object",
     "output_type": "error",
     "traceback": [
      "\u001b[0;31m---------------------------------------------------------------------------\u001b[0m",
      "\u001b[0;31mTypeError\u001b[0m                                 Traceback (most recent call last)",
      "Cell \u001b[0;32mIn [22], line 1\u001b[0m\n\u001b[0;32m----> 1\u001b[0m a, b \u001b[38;5;241m=\u001b[39m \u001b[38;5;241m0\u001b[39m\n\u001b[1;32m      2\u001b[0m \u001b[38;5;28mprint\u001b[39m(a)\n",
      "\u001b[0;31mTypeError\u001b[0m: cannot unpack non-iterable int object"
     ]
    }
   ],
   "source": [
    "a, b = 0\n",
    "print(a)"
   ]
  },
  {
   "cell_type": "code",
   "execution_count": 31,
   "id": "d778cc34",
   "metadata": {},
   "outputs": [
    {
     "ename": "SyntaxError",
     "evalue": "invalid syntax (3210720639.py, line 5)",
     "output_type": "error",
     "traceback": [
      "\u001b[0;36m  Cell \u001b[0;32mIn [31], line 5\u001b[0;36m\u001b[0m\n\u001b[0;31m    if arr == False return [] else [count, negatives]\u001b[0m\n\u001b[0m                    ^\u001b[0m\n\u001b[0;31mSyntaxError\u001b[0m\u001b[0;31m:\u001b[0m invalid syntax\n"
     ]
    }
   ],
   "source": []
  },
  {
   "cell_type": "code",
   "execution_count": null,
   "id": "bc0ae424",
   "metadata": {},
   "outputs": [],
   "source": []
  }
 ],
 "metadata": {
  "kernelspec": {
   "display_name": "Python 3 (ipykernel)",
   "language": "python",
   "name": "python3"
  },
  "language_info": {
   "codemirror_mode": {
    "name": "ipython",
    "version": 3
   },
   "file_extension": ".py",
   "mimetype": "text/x-python",
   "name": "python",
   "nbconvert_exporter": "python",
   "pygments_lexer": "ipython3",
   "version": "3.10.6"
  },
  "toc": {
   "base_numbering": 1,
   "nav_menu": {},
   "number_sections": true,
   "sideBar": true,
   "skip_h1_title": false,
   "title_cell": "Table of Contents",
   "title_sidebar": "Contents",
   "toc_cell": false,
   "toc_position": {},
   "toc_section_display": true,
   "toc_window_display": false
  }
 },
 "nbformat": 4,
 "nbformat_minor": 5
}
