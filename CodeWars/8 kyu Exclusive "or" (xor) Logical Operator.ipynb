{
 "cells": [
  {
   "cell_type": "markdown",
   "id": "55416294",
   "metadata": {},
   "source": [
    "Exclusive \"or\" (xor) Logical Operator\n",
    "Overview\n",
    "In some scripting languages like PHP, there exists a logical operator (e.g. &&, ||, and, or, etc.) called the \"Exclusive Or\" (hence the name of this Kata). The exclusive or evaluates two booleans. It then returns true if exactly one of the two expressions are true, false otherwise. For example:\n",
    "\n",
    "false xor false == false // since both are false\n",
    "true xor false == true // exactly one of the two expressions are true\n",
    "false xor true == true // exactly one of the two expressions are true\n",
    "true xor true == false // Both are true.  \"xor\" only returns true if EXACTLY one of the two expressions evaluate to true.\n",
    "Task\n",
    "Since we cannot define keywords in Javascript (well, at least I don't know how to do it), your task is to define a function xor(a, b) where a and b are the two expressions to be evaluated. Your xor function should have the behaviour described above, returning true if exactly one of the two expressions evaluate to true, false otherwise."
   ]
  },
  {
   "cell_type": "code",
   "execution_count": null,
   "id": "08b093ee",
   "metadata": {},
   "outputs": [],
   "source": [
    "def xor(a,b):\n",
    "    if a == True and b == True:\n",
    "        return False\n",
    "    if a == True or b == True:\n",
    "        return True\n",
    "    else: \n",
    "        return False\n",
    "    "
   ]
  },
  {
   "cell_type": "code",
   "execution_count": null,
   "id": "9be105e9",
   "metadata": {},
   "outputs": [],
   "source": [
    "a, b = True, False"
   ]
  },
  {
   "cell_type": "code",
   "execution_count": null,
   "id": "c9797e0b",
   "metadata": {},
   "outputs": [],
   "source": [
    "a, b = "
   ]
  }
 ],
 "metadata": {
  "kernelspec": {
   "display_name": "Python 3 (ipykernel)",
   "language": "python",
   "name": "python3"
  },
  "language_info": {
   "codemirror_mode": {
    "name": "ipython",
    "version": 3
   },
   "file_extension": ".py",
   "mimetype": "text/x-python",
   "name": "python",
   "nbconvert_exporter": "python",
   "pygments_lexer": "ipython3",
   "version": "3.10.6"
  },
  "toc": {
   "base_numbering": 1,
   "nav_menu": {},
   "number_sections": true,
   "sideBar": true,
   "skip_h1_title": false,
   "title_cell": "Table of Contents",
   "title_sidebar": "Contents",
   "toc_cell": false,
   "toc_position": {},
   "toc_section_display": true,
   "toc_window_display": false
  }
 },
 "nbformat": 4,
 "nbformat_minor": 5
}
