{
 "cells": [
  {
   "cell_type": "markdown",
   "id": "4edb3a53",
   "metadata": {},
   "source": [
    "Write Number in Expanded Form\n",
    "You will be given a number and you will need to return it as a string in Expanded Form. For example:\n",
    "\n",
    "`expanded_form(12) # Should return '10 + 2'\n",
    "expanded_form(42) # Should return '40 + 2'\n",
    "expanded_form(70304) # Should return '70000 + 300 + 4'`\n",
    "\n",
    "NOTE: All numbers will be whole numbers greater than 0.\n",
    "\n",
    "If you liked this kata, check out part 2!!"
   ]
  },
  {
   "cell_type": "code",
   "execution_count": null,
   "id": "97f97c9d",
   "metadata": {},
   "outputs": [],
   "source": [
    "def expanded_form(num):\n",
    "    "
   ]
  },
  {
   "cell_type": "code",
   "execution_count": 2,
   "id": "aa8e4ae3",
   "metadata": {},
   "outputs": [
    {
     "data": {
      "text/plain": [
       "'5'"
      ]
     },
     "execution_count": 2,
     "metadata": {},
     "output_type": "execute_result"
    }
   ],
   "source": [
    "num = 5124\n",
    "num_string = str(num)\n",
    "for number in num_string:\n",
    "    if number != 0:\n",
    "        "
   ]
  },
  {
   "cell_type": "code",
   "execution_count": 3,
   "id": "0935e4c5",
   "metadata": {},
   "outputs": [],
   "source": [
    "# convert to string\n",
    "# index each digit with loop?\n",
    "# convert each digit to however many 000s?\n",
    "# f-string to output f{''}? .join?\n",
    "\n",
    "# don't think i can do this one, so will gpt it lol"
   ]
  },
  {
   "cell_type": "code",
   "execution_count": null,
   "id": "a7ae4506",
   "metadata": {},
   "outputs": [],
   "source": []
  }
 ],
 "metadata": {
  "kernelspec": {
   "display_name": "Python 3 (ipykernel)",
   "language": "python",
   "name": "python3"
  },
  "language_info": {
   "codemirror_mode": {
    "name": "ipython",
    "version": 3
   },
   "file_extension": ".py",
   "mimetype": "text/x-python",
   "name": "python",
   "nbconvert_exporter": "python",
   "pygments_lexer": "ipython3",
   "version": "3.10.6"
  },
  "toc": {
   "base_numbering": 1,
   "nav_menu": {},
   "number_sections": true,
   "sideBar": true,
   "skip_h1_title": false,
   "title_cell": "Table of Contents",
   "title_sidebar": "Contents",
   "toc_cell": false,
   "toc_position": {},
   "toc_section_display": true,
   "toc_window_display": false
  }
 },
 "nbformat": 4,
 "nbformat_minor": 5
}
