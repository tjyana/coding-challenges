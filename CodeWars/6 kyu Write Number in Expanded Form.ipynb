{
 "cells": [
  {
   "cell_type": "markdown",
   "id": "4edb3a53",
   "metadata": {},
   "source": [
    "Write Number in Expanded Form\n",
    "You will be given a number and you will need to return it as a string in Expanded Form. For example:\n",
    "\n",
    "`expanded_form(12) # Should return '10 + 2'\n",
    "expanded_form(42) # Should return '40 + 2'\n",
    "expanded_form(70304) # Should return '70000 + 300 + 4'`\n",
    "\n",
    "NOTE: All numbers will be whole numbers greater than 0.\n",
    "\n",
    "If you liked this kata, check out part 2!!"
   ]
  },
  {
   "cell_type": "code",
   "execution_count": null,
   "id": "97f97c9d",
   "metadata": {},
   "outputs": [],
   "source": [
    "def expanded_form(num):\n",
    "    "
   ]
  },
  {
   "cell_type": "code",
   "execution_count": 2,
   "id": "aa8e4ae3",
   "metadata": {},
   "outputs": [
    {
     "data": {
      "text/plain": [
       "'5'"
      ]
     },
     "execution_count": 2,
     "metadata": {},
     "output_type": "execute_result"
    }
   ],
   "source": [
    "num = 5124\n",
    "num_string = str(num)\n",
    "for number in num_string:\n",
    "    if number != 0:\n",
    "        "
   ]
  },
  {
   "cell_type": "code",
   "execution_count": 3,
   "id": "0935e4c5",
   "metadata": {},
   "outputs": [],
   "source": [
    "# convert to string\n",
    "# index each digit with loop?\n",
    "# convert each digit to however many 000s?\n",
    "# f-string to output f{''}? .join?\n",
    "\n",
    "# don't think i can do this one, so will gpt it lol"
   ]
  },
  {
   "cell_type": "code",
   "execution_count": null,
   "id": "8c872154",
   "metadata": {},
   "outputs": [],
   "source": [
    "# this is where i left off on 4/29/2024"
   ]
  },
  {
   "cell_type": "code",
   "execution_count": 3,
   "id": "a7ae4506",
   "metadata": {},
   "outputs": [
    {
     "data": {
      "text/plain": [
       "['7', '0', '3', '0', '4']"
      ]
     },
     "execution_count": 3,
     "metadata": {},
     "output_type": "execute_result"
    }
   ],
   "source": [
    "num = 70304\n",
    "stringed = str(num)\n",
    "\n",
    "list(stringed)\n",
    "    "
   ]
  },
  {
   "cell_type": "code",
   "execution_count": 18,
   "id": "12f3f7a5",
   "metadata": {},
   "outputs": [
    {
     "name": "stdout",
     "output_type": "stream",
     "text": [
      "0\n",
      "1\n",
      "2\n",
      "3\n",
      "4\n"
     ]
    }
   ],
   "source": [
    "for i in range(len(list(stringed))):\n",
    "    print(i)\n",
    "    \n",
    "    # this is the numbers of zeros you need"
   ]
  },
  {
   "cell_type": "code",
   "execution_count": 7,
   "id": "376f5507",
   "metadata": {},
   "outputs": [
    {
     "name": "stdout",
     "output_type": "stream",
     "text": [
      "0 7\n",
      "1 0\n",
      "2 3\n",
      "3 0\n",
      "4 4\n"
     ]
    }
   ],
   "source": [
    "for i, j in enumerate(stringed):\n",
    "    print(i, j)"
   ]
  },
  {
   "cell_type": "code",
   "execution_count": 9,
   "id": "ab9ffc0d",
   "metadata": {},
   "outputs": [
    {
     "data": {
      "text/plain": [
       "4"
      ]
     },
     "execution_count": 9,
     "metadata": {},
     "output_type": "execute_result"
    }
   ],
   "source": [
    "len(stringed)-stringed(index(i))"
   ]
  },
  {
   "cell_type": "code",
   "execution_count": 33,
   "id": "f9e3b749",
   "metadata": {},
   "outputs": [
    {
     "name": "stdout",
     "output_type": "stream",
     "text": [
      "4\n",
      "3\n",
      "2\n",
      "1\n",
      "0\n"
     ]
    }
   ],
   "source": [
    "for i, j in enumerate(stringed, 1):\n",
    "    print(len(stringed)-i)"
   ]
  },
  {
   "cell_type": "code",
   "execution_count": 16,
   "id": "d313a48a",
   "metadata": {},
   "outputs": [
    {
     "data": {
      "text/plain": [
       "'7 + 7 + 0 + 3 + 0 + 4'"
      ]
     },
     "execution_count": 16,
     "metadata": {},
     "output_type": "execute_result"
    }
   ],
   "source": [
    "final = stringed[0]\n",
    "for digit in stringed:\n",
    "    final += ' + ' + digit\n",
    "final"
   ]
  },
  {
   "cell_type": "code",
   "execution_count": 20,
   "id": "398c020a",
   "metadata": {},
   "outputs": [
    {
     "name": "stdout",
     "output_type": "stream",
     "text": [
      "7\n",
      "0\n",
      "3\n",
      "0\n",
      "4\n",
      "70\n",
      "00\n",
      "30\n",
      "00\n",
      "40\n",
      "700\n",
      "000\n",
      "300\n",
      "000\n",
      "400\n",
      "7000\n",
      "0000\n",
      "3000\n",
      "0000\n",
      "4000\n",
      "70000\n",
      "00000\n",
      "30000\n",
      "00000\n",
      "40000\n"
     ]
    }
   ],
   "source": [
    "# for i in range(len(list(stringed))):\n",
    "#     for digit in stringed:\n",
    "#         print(digit + '0'*i)"
   ]
  },
  {
   "cell_type": "code",
   "execution_count": 23,
   "id": "fe1bfafb",
   "metadata": {},
   "outputs": [
    {
     "name": "stdout",
     "output_type": "stream",
     "text": [
      "700000\n",
      "00000\n",
      "3000\n",
      "000\n",
      "40\n"
     ]
    }
   ],
   "source": [
    "for i, digit in enumerate(stringed):\n",
    "    print(digit + '0'*(len(stringed) - i))\n",
    "    "
   ]
  },
  {
   "cell_type": "code",
   "execution_count": 46,
   "id": "63688e7b",
   "metadata": {},
   "outputs": [
    {
     "name": "stdout",
     "output_type": "stream",
     "text": [
      "70000\n",
      "0\n",
      "300\n",
      "0\n",
      "4\n"
     ]
    }
   ],
   "source": [
    "final = ''\n",
    "for i, digit in enumerate(stringed, 1):\n",
    "    print(int(digit + '0'*(len(stringed) - i)))\n",
    "    if (len(stringed) - i) == 0:\n",
    "        if int(digit + '0'*(len(stringed) - i)) == 0:\n",
    "            final = final\n",
    "        else:\n",
    "            final += digit + '0'*(len(stringed) - i)\n",
    "    else:\n",
    "        if int(digit + '0'*(len(stringed) - i)) == 0:\n",
    "            final = final   \n",
    "        else:\n",
    "            final += digit + '0'*(len(stringed) - i) + ' + '\n",
    "     \n"
   ]
  },
  {
   "cell_type": "code",
   "execution_count": 47,
   "id": "ce663f37",
   "metadata": {},
   "outputs": [
    {
     "data": {
      "text/plain": [
       "'70000 + 300 + 4'"
      ]
     },
     "execution_count": 47,
     "metadata": {},
     "output_type": "execute_result"
    }
   ],
   "source": [
    "final"
   ]
  },
  {
   "cell_type": "code",
   "execution_count": 49,
   "id": "52e3c003",
   "metadata": {},
   "outputs": [],
   "source": [
    "# almost. doesn't pass edge cases\n",
    "\n",
    "def expanded_form(num):\n",
    "    stringed = str(num)\n",
    "    final = ''\n",
    "    for i, digit in enumerate(stringed, 1):\n",
    "        print(int(digit + '0'*(len(stringed) - i)))\n",
    "        if (len(stringed) - i) == 0:\n",
    "            if int(digit + '0'*(len(stringed) - i)) == 0:\n",
    "                final = final\n",
    "            else:\n",
    "                final += digit + '0'*(len(stringed) - i)\n",
    "        else:\n",
    "            if int(digit + '0'*(len(stringed) - i)) == 0:\n",
    "                final = final   \n",
    "            else:\n",
    "                final += digit + '0'*(len(stringed) - i) + ' + '\n",
    "    return final"
   ]
  },
  {
   "cell_type": "code",
   "execution_count": 52,
   "id": "5f01ed90",
   "metadata": {},
   "outputs": [],
   "source": [
    "# passed everything\n",
    "\n",
    "def expanded_form(num):\n",
    "    stringed = str(num)\n",
    "    final = ''\n",
    "    for i, digit in enumerate(stringed, 1):\n",
    "        if int(digit + '0'*(len(stringed) - i)) == 0: # if 0 don't concactenate\n",
    "            final = final   \n",
    "        else:\n",
    "            final += digit + '0'*(len(stringed) - i) + ' + '\n",
    "    return final.strip(' + ')"
   ]
  },
  {
   "cell_type": "code",
   "execution_count": 53,
   "id": "cc45a2e2",
   "metadata": {},
   "outputs": [],
   "source": [
    "# best solution:\n",
    "# use a list and join with +. maybe better for these problems where return needs to be a formatted string\n",
    "\n",
    "def expanded_form(num):\n",
    "    num = list(str(num))\n",
    "    return ' + '.join(x + '0' * (len(num) - y - 1) for y,x in enumerate(num) if x != '0')"
   ]
  },
  {
   "cell_type": "code",
   "execution_count": null,
   "id": "b56104e2",
   "metadata": {},
   "outputs": [],
   "source": []
  }
 ],
 "metadata": {
  "kernelspec": {
   "display_name": "Python 3 (ipykernel)",
   "language": "python",
   "name": "python3"
  },
  "language_info": {
   "codemirror_mode": {
    "name": "ipython",
    "version": 3
   },
   "file_extension": ".py",
   "mimetype": "text/x-python",
   "name": "python",
   "nbconvert_exporter": "python",
   "pygments_lexer": "ipython3",
   "version": "3.10.6"
  },
  "toc": {
   "base_numbering": 1,
   "nav_menu": {},
   "number_sections": true,
   "sideBar": true,
   "skip_h1_title": false,
   "title_cell": "Table of Contents",
   "title_sidebar": "Contents",
   "toc_cell": false,
   "toc_position": {},
   "toc_section_display": true,
   "toc_window_display": false
  }
 },
 "nbformat": 4,
 "nbformat_minor": 5
}
