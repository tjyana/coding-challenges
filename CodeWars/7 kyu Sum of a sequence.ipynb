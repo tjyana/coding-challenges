{
 "cells": [
  {
   "cell_type": "code",
   "execution_count": null,
   "id": "ab886e02",
   "metadata": {},
   "outputs": [],
   "source": [
    "Your task is to write a function which returns the sum of a sequence of integers.\n",
    "\n",
    "The sequence is defined by 3 non-negative values: begin, end, step.\n",
    "\n",
    "If begin value is greater than the end, your function should return 0. If end is not the result of an integer number of steps, then don't add it to the sum. See the 4th example below.\n",
    "\n",
    "Examples\n",
    "\n",
    "2,2,2 --> 2\n",
    "2,6,2 --> 12 (2 + 4 + 6)\n",
    "1,5,1 --> 15 (1 + 2 + 3 + 4 + 5)\n",
    "1,5,3  --> 5 (1 + 4)\n",
    "This is the first kata in the series:\n",
    "\n",
    "Sum of a sequence (this kata)\n",
    "Sum of a Sequence [Hard-Core Version]"
   ]
  },
  {
   "cell_type": "code",
   "execution_count": 6,
   "id": "b213510a",
   "metadata": {},
   "outputs": [],
   "source": [
    "# submitted\n",
    "\n",
    "def sequence_sum(begin_number, end_number, step):\n",
    "    #your code here\n",
    "    if begin_number <= end_number:\n",
    "        return sum(range(begin_number, end_number+1, step))\n",
    "    else:\n",
    "        return 0"
   ]
  },
  {
   "cell_type": "code",
   "execution_count": null,
   "id": "db86318a",
   "metadata": {},
   "outputs": [],
   "source": [
    "# didn't need the conditional\n",
    "\n",
    "def sequence_sum(begin_number, end_number, step):\n",
    "        return sum(range(begin_number, end_number+1, step))"
   ]
  },
  {
   "cell_type": "code",
   "execution_count": 5,
   "id": "405aea1c",
   "metadata": {},
   "outputs": [
    {
     "data": {
      "text/plain": [
       "[2, 4]"
      ]
     },
     "execution_count": 5,
     "metadata": {},
     "output_type": "execute_result"
    }
   ],
   "source": [
    "list(range(2, 6, 2))"
   ]
  },
  {
   "cell_type": "code",
   "execution_count": 9,
   "id": "80f18dbe",
   "metadata": {},
   "outputs": [
    {
     "data": {
      "text/plain": [
       "6"
      ]
     },
     "execution_count": 9,
     "metadata": {},
     "output_type": "execute_result"
    }
   ],
   "source": [
    "sum(range(begin_number, end_number, step))"
   ]
  },
  {
   "cell_type": "code",
   "execution_count": 7,
   "id": "2541c65a",
   "metadata": {},
   "outputs": [
    {
     "data": {
      "text/plain": [
       "12"
      ]
     },
     "execution_count": 7,
     "metadata": {},
     "output_type": "execute_result"
    }
   ],
   "source": [
    "begin_number = 2\n",
    "end_number = 6\n",
    "step = 2\n",
    "\n",
    "sequence_sum(begin_number, end_number, step)"
   ]
  },
  {
   "cell_type": "code",
   "execution_count": null,
   "id": "c8c961fc",
   "metadata": {},
   "outputs": [],
   "source": []
  }
 ],
 "metadata": {
  "kernelspec": {
   "display_name": "Python 3 (ipykernel)",
   "language": "python",
   "name": "python3"
  },
  "language_info": {
   "codemirror_mode": {
    "name": "ipython",
    "version": 3
   },
   "file_extension": ".py",
   "mimetype": "text/x-python",
   "name": "python",
   "nbconvert_exporter": "python",
   "pygments_lexer": "ipython3",
   "version": "3.10.6"
  },
  "toc": {
   "base_numbering": 1,
   "nav_menu": {},
   "number_sections": true,
   "sideBar": true,
   "skip_h1_title": false,
   "title_cell": "Table of Contents",
   "title_sidebar": "Contents",
   "toc_cell": false,
   "toc_position": {},
   "toc_section_display": true,
   "toc_window_display": false
  }
 },
 "nbformat": 4,
 "nbformat_minor": 5
}
