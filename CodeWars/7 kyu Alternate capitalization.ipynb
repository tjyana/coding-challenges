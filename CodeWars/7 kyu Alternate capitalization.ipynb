{
 "cells": [
  {
   "cell_type": "markdown",
   "id": "d89022fa",
   "metadata": {},
   "source": [
    "Given a string, capitalize the letters that occupy even indexes and odd indexes separately, and return as shown below. Index 0 will be considered even.\n",
    "\n",
    "For example, capitalize(\"abcdef\") = ['AbCdEf', 'aBcDeF']. See test cases for more examples.\n",
    "\n",
    "The input will be a lowercase string with no spaces.\n",
    "\n",
    "Good luck!"
   ]
  },
  {
   "cell_type": "code",
   "execution_count": null,
   "id": "87f99324",
   "metadata": {},
   "outputs": [],
   "source": [
    "def capitalize(s):\n",
    "    pass"
   ]
  },
  {
   "cell_type": "code",
   "execution_count": 4,
   "id": "46a8416f",
   "metadata": {},
   "outputs": [
    {
     "data": {
      "text/plain": [
       "100"
      ]
     },
     "execution_count": 4,
     "metadata": {},
     "output_type": "execute_result"
    }
   ],
   "source": [
    "s = 'asfasdfasf'\n",
    "\n",
    "even = []\n",
    "odd = []\n",
    "for letter in s:\n",
    "    for i in range(len(s)):\n",
    "        if i % 2 == 0:\n",
    "            even.append(s[i].upper())\n",
    "        if i % 2 != 0:\n",
    "            even.append(s[i])\n",
    "            \n",
    "len(even)"
   ]
  },
  {
   "cell_type": "code",
   "execution_count": 8,
   "id": "371f0475",
   "metadata": {},
   "outputs": [
    {
     "data": {
      "text/plain": [
       "'AsFaSdFaSf'"
      ]
     },
     "execution_count": 8,
     "metadata": {},
     "output_type": "execute_result"
    }
   ],
   "source": [
    "even = []\n",
    "for i in range(len(s)):\n",
    "    if i % 2 == 0:\n",
    "        even.append(s[i].upper())\n",
    "    if i % 2 != 0:\n",
    "        even.append(s[i])\n",
    "        \n",
    "''.join(even)"
   ]
  },
  {
   "cell_type": "code",
   "execution_count": 10,
   "id": "64ced30e",
   "metadata": {},
   "outputs": [
    {
     "data": {
      "text/plain": [
       "'AsFaSdFaSf'"
      ]
     },
     "execution_count": 10,
     "metadata": {},
     "output_type": "execute_result"
    }
   ],
   "source": [
    "even = ''\n",
    "for i in range(len(s)):\n",
    "    if i % 2 == 0:\n",
    "        even += s[i].upper()\n",
    "    if i % 2 != 0:\n",
    "        even += s[i]\n",
    "even"
   ]
  },
  {
   "cell_type": "code",
   "execution_count": 19,
   "id": "62232e90",
   "metadata": {},
   "outputs": [],
   "source": [
    "def capitalize(s):\n",
    "    return [''.join([s[i].upper() if i % 2 == 0 else s[i] for i in range(len(s))]), ''.join([s[i].upper() if i % 2 != 0 else s[i] for i in range(len(s))])]"
   ]
  },
  {
   "cell_type": "code",
   "execution_count": 18,
   "id": "ca6dab1b",
   "metadata": {},
   "outputs": [
    {
     "data": {
      "text/plain": [
       "'aSfAsDfAsF'"
      ]
     },
     "execution_count": 18,
     "metadata": {},
     "output_type": "execute_result"
    }
   ],
   "source": [
    "''.join([s[i].upper() if i % 2 != 0 else s[i] for i in range(len(s))])"
   ]
  },
  {
   "cell_type": "code",
   "execution_count": 30,
   "id": "ecbdd6de",
   "metadata": {},
   "outputs": [],
   "source": [
    "# refactor\n",
    "\n",
    "def capitalize(s):\n",
    "    odd = ''.join([c.upper() if i % 2 else c for i, c in enumerate(s)])\n",
    "    return [odd.swapcase(), odd]"
   ]
  },
  {
   "cell_type": "code",
   "execution_count": 31,
   "id": "eaf70f8c",
   "metadata": {},
   "outputs": [
    {
     "data": {
      "text/plain": [
       "['AsFaSdFaSf', 'aSfAsDfAsF']"
      ]
     },
     "execution_count": 31,
     "metadata": {},
     "output_type": "execute_result"
    }
   ],
   "source": [
    "capitalize(s)"
   ]
  },
  {
   "cell_type": "code",
   "execution_count": 27,
   "id": "5398842a",
   "metadata": {},
   "outputs": [],
   "source": [
    "s = 'asfasdfasf'\n",
    "odd = ''.join([s[i].upper() if i % 2 else s[i] for i in range(len(s))])\n",
    "even = odd.swapcase()"
   ]
  },
  {
   "cell_type": "code",
   "execution_count": 26,
   "id": "9f9a9e67",
   "metadata": {},
   "outputs": [
    {
     "data": {
      "text/plain": [
       "('aSfAsDfAsF', 'AsFaSdFaSf')"
      ]
     },
     "execution_count": 26,
     "metadata": {},
     "output_type": "execute_result"
    }
   ],
   "source": [
    "even, odd"
   ]
  },
  {
   "cell_type": "code",
   "execution_count": null,
   "id": "efe5131c",
   "metadata": {},
   "outputs": [],
   "source": []
  }
 ],
 "metadata": {
  "kernelspec": {
   "display_name": "Python 3 (ipykernel)",
   "language": "python",
   "name": "python3"
  },
  "language_info": {
   "codemirror_mode": {
    "name": "ipython",
    "version": 3
   },
   "file_extension": ".py",
   "mimetype": "text/x-python",
   "name": "python",
   "nbconvert_exporter": "python",
   "pygments_lexer": "ipython3",
   "version": "3.10.6"
  },
  "toc": {
   "base_numbering": 1,
   "nav_menu": {},
   "number_sections": true,
   "sideBar": true,
   "skip_h1_title": false,
   "title_cell": "Table of Contents",
   "title_sidebar": "Contents",
   "toc_cell": false,
   "toc_position": {},
   "toc_section_display": true,
   "toc_window_display": false
  }
 },
 "nbformat": 4,
 "nbformat_minor": 5
}
