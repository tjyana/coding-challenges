{
 "cells": [
  {
   "cell_type": "code",
   "execution_count": null,
   "id": "e36ad73c",
   "metadata": {},
   "outputs": [],
   "source": [
    "Create a method that takes as input a name, city, and state to welcome a person. Note that name will be an array consisting of one or more values that should be joined together with one space between each, and the length of the name array in test cases will vary.\n",
    "\n",
    "Example:\n",
    "\n",
    "['John', 'Smith'], 'Phoenix', 'Arizona'\n",
    "This example will return the string Hello, John Smith! Welcome to Phoenix, Arizona!"
   ]
  },
  {
   "cell_type": "code",
   "execution_count": 3,
   "id": "aadecc3d",
   "metadata": {},
   "outputs": [],
   "source": [
    "def say_hello(name, city, state):\n",
    "    return f\"Hello, {' '.join(name)}! Welcome to {city}, {state}!\""
   ]
  },
  {
   "cell_type": "code",
   "execution_count": 4,
   "id": "5c001057",
   "metadata": {},
   "outputs": [],
   "source": [
    "def say_hello(name, city, state):\n",
    "    return \"Hello, {}! Welcome to {}, {}!\".format(' '.join(name), city, state)"
   ]
  },
  {
   "cell_type": "code",
   "execution_count": null,
   "id": "bc369d40",
   "metadata": {},
   "outputs": [],
   "source": []
  }
 ],
 "metadata": {
  "kernelspec": {
   "display_name": "Python 3 (ipykernel)",
   "language": "python",
   "name": "python3"
  },
  "language_info": {
   "codemirror_mode": {
    "name": "ipython",
    "version": 3
   },
   "file_extension": ".py",
   "mimetype": "text/x-python",
   "name": "python",
   "nbconvert_exporter": "python",
   "pygments_lexer": "ipython3",
   "version": "3.10.6"
  },
  "toc": {
   "base_numbering": 1,
   "nav_menu": {},
   "number_sections": true,
   "sideBar": true,
   "skip_h1_title": false,
   "title_cell": "Table of Contents",
   "title_sidebar": "Contents",
   "toc_cell": false,
   "toc_position": {},
   "toc_section_display": true,
   "toc_window_display": false
  }
 },
 "nbformat": 4,
 "nbformat_minor": 5
}
