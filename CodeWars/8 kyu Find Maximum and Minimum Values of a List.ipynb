{
 "cells": [
  {
   "cell_type": "code",
   "execution_count": null,
   "id": "df1993a0",
   "metadata": {},
   "outputs": [],
   "source": [
    "Your task is to make two functions ( max and min, or maximum and minimum, etc., depending on the language ) that receive a list of integers as input, and return the largest and lowest number in that list, respectively.\n",
    "\n",
    "Examples (Input -> Output)\n",
    "* [4,6,2,1,9,63,-134,566]         -> max = 566, min = -134\n",
    "* [-52, 56, 30, 29, -54, 0, -110] -> min = -110, max = 56\n",
    "* [42, 54, 65, 87, 0]             -> min = 0, max = 87\n",
    "* [5]                             -> min = 5, max = 5\n",
    "Notes\n",
    "You may consider that there will not be any empty arrays/vectors.\n"
   ]
  },
  {
   "cell_type": "code",
   "execution_count": 5,
   "id": "096b90f5",
   "metadata": {},
   "outputs": [],
   "source": [
    "def minimum(arr):\n",
    "    #your code here...\n",
    "    tracker = arr[0] # set the tracker to first number in array\n",
    "    for number in arr:\n",
    "        if number < tracker:\n",
    "            tracker = number\n",
    "        else: \n",
    "            tracker = tracker\n",
    "    return tracker"
   ]
  },
  {
   "cell_type": "code",
   "execution_count": 6,
   "id": "38a17e5c",
   "metadata": {},
   "outputs": [
    {
     "data": {
      "text/plain": [
       "-134"
      ]
     },
     "execution_count": 6,
     "metadata": {},
     "output_type": "execute_result"
    }
   ],
   "source": [
    "minimum([4,6,2,1,9,63,-134,566] )"
   ]
  },
  {
   "cell_type": "markdown",
   "id": "1f3aa4d3",
   "metadata": {},
   "source": []
  },
  {
   "cell_type": "code",
   "execution_count": null,
   "id": "97973ae1",
   "metadata": {},
   "outputs": [],
   "source": []
  }
 ],
 "metadata": {
  "kernelspec": {
   "display_name": "Python 3 (ipykernel)",
   "language": "python",
   "name": "python3"
  },
  "language_info": {
   "codemirror_mode": {
    "name": "ipython",
    "version": 3
   },
   "file_extension": ".py",
   "mimetype": "text/x-python",
   "name": "python",
   "nbconvert_exporter": "python",
   "pygments_lexer": "ipython3",
   "version": "3.10.6"
  },
  "toc": {
   "base_numbering": 1,
   "nav_menu": {},
   "number_sections": true,
   "sideBar": true,
   "skip_h1_title": false,
   "title_cell": "Table of Contents",
   "title_sidebar": "Contents",
   "toc_cell": false,
   "toc_position": {},
   "toc_section_display": true,
   "toc_window_display": false
  }
 },
 "nbformat": 4,
 "nbformat_minor": 5
}
