{
 "cells": [
  {
   "cell_type": "markdown",
   "id": "549fa1c4",
   "metadata": {},
   "source": [
    "Given a lowercase string that has alphabetic characters only and no spaces, return the highest value of consonant substrings. Consonants are any letters of the alphabet except \"aeiou\".\n",
    "\n",
    "We shall assign the following values: a = 1, b = 2, c = 3, .... z = 26.\n",
    "\n",
    "For example, for the word \"zodiacs\", let's cross out the vowels. We get: \"z o d ia c\"\n",
    "\n",
    "\"zodiac\" -> 26\n",
    "The consonant substrings are: \"z\", \"d\" and \"c\" with values \"z\" = 26, \"di\" = 4 and \"c\" = 3. The highest is 26.\n",
    "\n",
    "\"strength\" -> 57\n",
    "The consonant substrings are: \"str\" and \"ngth\" with values \"str\" = 19 + 20 + 18 = 57 and \"ngth\" = 14 + 7 + 20 + 8 = 49. The highest is 57.\n",
    "\n",
    "For C: do not mutate input.\n",
    "\n",
    "More examples in test cases. Good luck!"
   ]
  },
  {
   "cell_type": "code",
   "execution_count": 2,
   "id": "a54b6fcf",
   "metadata": {},
   "outputs": [
    {
     "data": {
      "text/plain": [
       "1"
      ]
     },
     "execution_count": 2,
     "metadata": {},
     "output_type": "execute_result"
    }
   ],
   "source": [
    "ord('a')-96"
   ]
  },
  {
   "cell_type": "code",
   "execution_count": 3,
   "id": "8c9d6600",
   "metadata": {},
   "outputs": [
    {
     "ename": "TypeError",
     "evalue": "must be str or None, not list",
     "output_type": "error",
     "traceback": [
      "\u001b[0;31m---------------------------------------------------------------------------\u001b[0m",
      "\u001b[0;31mTypeError\u001b[0m                                 Traceback (most recent call last)",
      "Cell \u001b[0;32mIn [3], line 2\u001b[0m\n\u001b[1;32m      1\u001b[0m vowels \u001b[38;5;241m=\u001b[39m [\u001b[38;5;124m'\u001b[39m\u001b[38;5;124ma\u001b[39m\u001b[38;5;124m'\u001b[39m, \u001b[38;5;124m'\u001b[39m\u001b[38;5;124me\u001b[39m\u001b[38;5;124m'\u001b[39m, \u001b[38;5;124m'\u001b[39m\u001b[38;5;124mi\u001b[39m\u001b[38;5;124m'\u001b[39m, \u001b[38;5;124m'\u001b[39m\u001b[38;5;124mo\u001b[39m\u001b[38;5;124m'\u001b[39m, \u001b[38;5;124m'\u001b[39m\u001b[38;5;124mu\u001b[39m\u001b[38;5;124m'\u001b[39m]\n\u001b[0;32m----> 2\u001b[0m \u001b[38;5;124;43m\"\u001b[39;49m\u001b[38;5;124;43mchruschtschov\u001b[39;49m\u001b[38;5;124;43m\"\u001b[39;49m\u001b[38;5;241;43m.\u001b[39;49m\u001b[43msplit\u001b[49m\u001b[43m(\u001b[49m\u001b[43mvowels\u001b[49m\u001b[43m)\u001b[49m\n",
      "\u001b[0;31mTypeError\u001b[0m: must be str or None, not list"
     ]
    }
   ],
   "source": [
    "vowels = ['a', 'e', 'i', 'o', 'u']\n"
   ]
  },
  {
   "cell_type": "code",
   "execution_count": 15,
   "id": "a6b20625",
   "metadata": {},
   "outputs": [
    {
     "data": {
      "text/plain": [
       "['chr', 'schtsch', '', '', 'v']"
      ]
     },
     "execution_count": 15,
     "metadata": {},
     "output_type": "execute_result"
    }
   ],
   "source": [
    "text = \"chruschtschaaov\"\n",
    "\n",
    "part = ''\n",
    "fragments = []\n",
    "for letter in text:\n",
    "    if letter in vowels:\n",
    "        fragments.append(part)\n",
    "        part = ''\n",
    "    else:\n",
    "        part += letter\n",
    "fragments.append(part)\n",
    "\n",
    "fragments        "
   ]
  },
  {
   "cell_type": "code",
   "execution_count": 23,
   "id": "afda258a",
   "metadata": {},
   "outputs": [
    {
     "data": {
      "text/plain": [
       "[29, 80, 0, 0, 22]"
      ]
     },
     "execution_count": 23,
     "metadata": {},
     "output_type": "execute_result"
    }
   ],
   "source": [
    "allscores = []\n",
    "for fragment in fragments:\n",
    "    score = 0\n",
    "    for char in fragment:\n",
    "        score += ord(char)-96\n",
    "    allscores.append(score)\n",
    "\n",
    "allscores"
   ]
  },
  {
   "cell_type": "code",
   "execution_count": null,
   "id": "2314db01",
   "metadata": {},
   "outputs": [],
   "source": []
  },
  {
   "cell_type": "code",
   "execution_count": 14,
   "id": "8ed8bc2c",
   "metadata": {},
   "outputs": [
    {
     "data": {
      "text/plain": [
       "['c', 'h', 'r', 's', 'c', 'h', 't', 's', 'c', 'h', 'v']"
      ]
     },
     "execution_count": 14,
     "metadata": {},
     "output_type": "execute_result"
    }
   ],
   "source": [
    "[letter for letter in text if letter.isalpha() and letter not in vowels]"
   ]
  },
  {
   "cell_type": "code",
   "execution_count": 24,
   "id": "eb569cb8",
   "metadata": {},
   "outputs": [],
   "source": [
    "def solve(text):\n",
    "    # separating it into consonant chunks\n",
    "    vowels = ['a', 'e', 'i', 'o', 'u']\n",
    "    part = ''\n",
    "    fragments = []\n",
    "    for letter in text:\n",
    "        if letter in vowels:\n",
    "            fragments.append(part)\n",
    "            part = ''\n",
    "        else:\n",
    "            part += letter\n",
    "    fragments.append(part)\n",
    "    \n",
    "    # getting scores\n",
    "    allscores = []\n",
    "    for fragment in fragments:\n",
    "        score = 0\n",
    "        for char in fragment:\n",
    "            score += ord(char)-96\n",
    "        allscores.append(score)\n",
    "        \n",
    "    return max(allscores)"
   ]
  },
  {
   "cell_type": "code",
   "execution_count": null,
   "id": "d7347a08",
   "metadata": {},
   "outputs": [],
   "source": []
  }
 ],
 "metadata": {
  "kernelspec": {
   "display_name": "Python 3 (ipykernel)",
   "language": "python",
   "name": "python3"
  },
  "language_info": {
   "codemirror_mode": {
    "name": "ipython",
    "version": 3
   },
   "file_extension": ".py",
   "mimetype": "text/x-python",
   "name": "python",
   "nbconvert_exporter": "python",
   "pygments_lexer": "ipython3",
   "version": "3.10.6"
  },
  "toc": {
   "base_numbering": 1,
   "nav_menu": {},
   "number_sections": true,
   "sideBar": true,
   "skip_h1_title": false,
   "title_cell": "Table of Contents",
   "title_sidebar": "Contents",
   "toc_cell": false,
   "toc_position": {},
   "toc_section_display": true,
   "toc_window_display": false
  }
 },
 "nbformat": 4,
 "nbformat_minor": 5
}
