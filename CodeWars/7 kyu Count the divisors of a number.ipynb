{
 "cells": [
  {
   "cell_type": "code",
   "execution_count": null,
   "id": "6809d620",
   "metadata": {},
   "outputs": [],
   "source": [
    "Count the number of divisors of a positive integer n.\n",
    "\n",
    "Random tests go up to n = 500000.\n",
    "\n",
    "Examples (input --> output)\n",
    "4 --> 3 // we have 3 divisors - 1, 2 and 4\n",
    "5 --> 2 // we have 2 divisors - 1 and 5\n",
    "12 --> 6 // we have 6 divisors - 1, 2, 3, 4, 6 and 12\n",
    "30 --> 8 // we have 8 divisors - 1, 2, 3, 5, 6, 10, 15 and 30\n",
    "Note you should only return a number, the count of divisors. The numbers between parentheses are shown only for you to see which numbers are counted in each case."
   ]
  },
  {
   "cell_type": "code",
   "execution_count": 26,
   "id": "eeedfef0",
   "metadata": {},
   "outputs": [],
   "source": [
    "def divisors(n):\n",
    "    counter = 0\n",
    "    for i in range(n+1):\n",
    "        if i > 0: \n",
    "            if n%i == 0:\n",
    "                counter += 1\n",
    "    return counter"
   ]
  },
  {
   "cell_type": "code",
   "execution_count": 25,
   "id": "837e217b",
   "metadata": {},
   "outputs": [
    {
     "data": {
      "text/plain": [
       "3"
      ]
     },
     "execution_count": 25,
     "metadata": {},
     "output_type": "execute_result"
    }
   ],
   "source": [
    "n = 4\n",
    "\n",
    "counter = 0\n",
    "for i in range(n+1):\n",
    "    if i > 0: \n",
    "        if n%i == 0:\n",
    "            counter += 1\n",
    "\n",
    "\n",
    "counter"
   ]
  },
  {
   "cell_type": "code",
   "execution_count": 6,
   "id": "6fe849cb",
   "metadata": {},
   "outputs": [
    {
     "data": {
      "text/plain": [
       "0"
      ]
     },
     "execution_count": 6,
     "metadata": {},
     "output_type": "execute_result"
    }
   ],
   "source": [
    "4%1"
   ]
  },
  {
   "cell_type": "code",
   "execution_count": 7,
   "id": "d7108418",
   "metadata": {},
   "outputs": [
    {
     "data": {
      "text/plain": [
       "0"
      ]
     },
     "execution_count": 7,
     "metadata": {},
     "output_type": "execute_result"
    }
   ],
   "source": [
    "4%2"
   ]
  },
  {
   "cell_type": "code",
   "execution_count": 8,
   "id": "5494e738",
   "metadata": {},
   "outputs": [
    {
     "data": {
      "text/plain": [
       "range(0, 5)"
      ]
     },
     "execution_count": 8,
     "metadata": {},
     "output_type": "execute_result"
    }
   ],
   "source": [
    "range(n+1)"
   ]
  },
  {
   "cell_type": "code",
   "execution_count": 29,
   "id": "0a3f5874",
   "metadata": {},
   "outputs": [
    {
     "data": {
      "text/plain": [
       "6"
      ]
     },
     "execution_count": 29,
     "metadata": {},
     "output_type": "execute_result"
    }
   ],
   "source": [
    "divisors(12)"
   ]
  },
  {
   "cell_type": "code",
   "execution_count": null,
   "id": "33ca9d92",
   "metadata": {},
   "outputs": [],
   "source": [
    "# list comp?\n",
    "\n",
    "def divisors(n):\n",
    "    [n%i for i in range(n+1) if i>0]\n",
    "    counter = 0\n",
    "    for i in range(n+1):\n",
    "        if i > 0: \n",
    "            if n%i == 0:\n",
    "                counter += 1"
   ]
  },
  {
   "cell_type": "code",
   "execution_count": 31,
   "id": "4fc60a20",
   "metadata": {},
   "outputs": [],
   "source": [
    "# list comp?\n",
    "\n",
    "\n",
    "n = 4\n",
    "\n",
    "def divisors(n):\n",
    "    [n%i for i in range(n+1) if i>0]\n",
    "    counter = 0\n",
    "    for i in range(n+1):\n",
    "        if i > 0: \n",
    "            if n%i == 0:\n",
    "                counter += 1\n",
    "    return counter\n",
    "\n",
    "# nope couldn't do it"
   ]
  },
  {
   "cell_type": "code",
   "execution_count": 32,
   "id": "a84205dd",
   "metadata": {},
   "outputs": [
    {
     "data": {
      "text/plain": [
       "[0, 0, 1, 0]"
      ]
     },
     "execution_count": 32,
     "metadata": {},
     "output_type": "execute_result"
    }
   ],
   "source": [
    "[n%i for i in range(n+1) if i>0]"
   ]
  },
  {
   "cell_type": "code",
   "execution_count": null,
   "id": "86926f9d",
   "metadata": {},
   "outputs": [],
   "source": [
    "# other solutions\n",
    "\n",
    "ef divisors(n):\n",
    "    return  len([l_div for l_div in range(1, n + 1) if n % l_div == 0]);"
   ]
  }
 ],
 "metadata": {
  "kernelspec": {
   "display_name": "Python 3 (ipykernel)",
   "language": "python",
   "name": "python3"
  },
  "language_info": {
   "codemirror_mode": {
    "name": "ipython",
    "version": 3
   },
   "file_extension": ".py",
   "mimetype": "text/x-python",
   "name": "python",
   "nbconvert_exporter": "python",
   "pygments_lexer": "ipython3",
   "version": "3.10.6"
  },
  "toc": {
   "base_numbering": 1,
   "nav_menu": {},
   "number_sections": true,
   "sideBar": true,
   "skip_h1_title": false,
   "title_cell": "Table of Contents",
   "title_sidebar": "Contents",
   "toc_cell": false,
   "toc_position": {},
   "toc_section_display": true,
   "toc_window_display": false
  }
 },
 "nbformat": 4,
 "nbformat_minor": 5
}
