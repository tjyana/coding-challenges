{
 "cells": [
  {
   "cell_type": "code",
   "execution_count": null,
   "id": "2eacb7bb",
   "metadata": {},
   "outputs": [],
   "source": [
    "Inspired by the development team at Vooza, write the function that\n",
    "\n",
    "accepts the name of a programmer, and\n",
    "returns the number of lightsabers owned by that person.\n",
    "The only person who owns lightsabers is Zach, by the way. He owns 18, which is an awesome number of lightsabers. Anyone else owns 0.\n",
    "\n",
    "Note: your function should have a default parameter.\n",
    "\n",
    "For example(Input --> Output):\n",
    "\n",
    "\"anyone else\" --> 0\n",
    "\"Zach\" --> 18"
   ]
  },
  {
   "cell_type": "code",
   "execution_count": null,
   "id": "a5ec51e5",
   "metadata": {},
   "outputs": [],
   "source": [
    "def how_many_light_sabers_do_you_own(name):\n",
    "    return 18 if name == Zach"
   ]
  },
  {
   "cell_type": "code",
   "execution_count": 13,
   "id": "c082ac06",
   "metadata": {},
   "outputs": [],
   "source": [
    "def how_many_light_sabers_do_you_own(name=''):\n",
    "    if name == 'Zach':\n",
    "        return 18\n",
    "    else: \n",
    "        return 0"
   ]
  },
  {
   "cell_type": "code",
   "execution_count": 15,
   "id": "0d2d5571",
   "metadata": {},
   "outputs": [
    {
     "data": {
      "text/plain": [
       "0"
      ]
     },
     "execution_count": 15,
     "metadata": {},
     "output_type": "execute_result"
    }
   ],
   "source": [
    "how_many_light_sabers_do_you_own()"
   ]
  },
  {
   "cell_type": "code",
   "execution_count": null,
   "id": "cc5878ce",
   "metadata": {},
   "outputs": [],
   "source": [
    "def how_many_light_sabers_do_you_own(name=''):\n",
    "    return 18 if name == 'Zach' else 0"
   ]
  }
 ],
 "metadata": {
  "kernelspec": {
   "display_name": "Python 3 (ipykernel)",
   "language": "python",
   "name": "python3"
  },
  "language_info": {
   "codemirror_mode": {
    "name": "ipython",
    "version": 3
   },
   "file_extension": ".py",
   "mimetype": "text/x-python",
   "name": "python",
   "nbconvert_exporter": "python",
   "pygments_lexer": "ipython3",
   "version": "3.10.6"
  },
  "toc": {
   "base_numbering": 1,
   "nav_menu": {},
   "number_sections": true,
   "sideBar": true,
   "skip_h1_title": false,
   "title_cell": "Table of Contents",
   "title_sidebar": "Contents",
   "toc_cell": false,
   "toc_position": {},
   "toc_section_display": true,
   "toc_window_display": false
  }
 },
 "nbformat": 4,
 "nbformat_minor": 5
}
