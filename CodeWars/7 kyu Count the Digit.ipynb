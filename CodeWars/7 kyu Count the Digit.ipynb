{
 "cells": [
  {
   "cell_type": "markdown",
   "id": "842ec87b",
   "metadata": {},
   "source": [
    "Take an integer n (n >= 0) and a digit d (0 <= d <= 9) as an integer.\n",
    "\n",
    "Square all numbers k (0 <= k <= n) between 0 and n.\n",
    "\n",
    "Count the numbers of digits d used in the writing of all the k**2.\n",
    "\n",
    "Implement the function taking n and d as parameters and returning this count.\n",
    "\n",
    "Examples:\n",
    "```python \n",
    "n = 10, d = 1 \n",
    "the k*k are 0, 1, 4, 9, 16, 25, 36, 49, 64, 81, 100\n",
    "We are using the digit 1 in: 1, 16, 81, 100. The total count is then 4.\n",
    "\n",
    "The function, when given n = 25 and d = 1 as argument, should return 11 since\n",
    "the k*k that contain the digit 1 are:\n",
    "1, 16, 81, 100, 121, 144, 169, 196, 361, 441.\n",
    "So there are 11 digits 1 for the squares of numbers between 0 and 25.\n",
    "```\n",
    "Note that 121 has twice the digit 1."
   ]
  },
  {
   "cell_type": "markdown",
   "id": "79cc3141",
   "metadata": {},
   "source": [
    "1. get all the squares (simple for loop?) > output as a list might be easier\n",
    "    - first create a list? iterable that the loop can iterate over. range?\n",
    "2. count number of d\n",
    "    - turn squares into string\n",
    "    - use `in` function?"
   ]
  },
  {
   "cell_type": "code",
   "execution_count": 8,
   "id": "378067a9",
   "metadata": {},
   "outputs": [
    {
     "data": {
      "text/plain": [
       "[0, 1, 4, 9, 16, 25, 36, 49, 64, 81]"
      ]
     },
     "execution_count": 8,
     "metadata": {},
     "output_type": "execute_result"
    }
   ],
   "source": [
    "def nb_dig(n, d):\n",
    "    squares = []\n",
    "    for number in range(n):\n",
    "        squares.append(number**2)\n",
    "    return squares    \n",
    "\n",
    "nb_dig(10, 2)"
   ]
  },
  {
   "cell_type": "code",
   "execution_count": 14,
   "id": "68e22657",
   "metadata": {},
   "outputs": [
    {
     "data": {
      "text/plain": [
       "'0149162536496481'"
      ]
     },
     "execution_count": 14,
     "metadata": {},
     "output_type": "execute_result"
    }
   ],
   "source": [
    "def nb_dig(n, d):\n",
    "    squares = []\n",
    "    for number in range(n):\n",
    "        squares.append(str(number**2))\n",
    "    return ''.join(squares)\n",
    "\n",
    "nb_dig(10, 2)"
   ]
  },
  {
   "cell_type": "code",
   "execution_count": 23,
   "id": "c09ce7b5",
   "metadata": {},
   "outputs": [
    {
     "data": {
      "text/plain": [
       "1"
      ]
     },
     "execution_count": 23,
     "metadata": {},
     "output_type": "execute_result"
    }
   ],
   "source": [
    "# final solution\n",
    "\n",
    "def nb_dig(n, d):\n",
    "    squares = []\n",
    "    for number in range(n+1):\n",
    "        squares.append(str(number**2))\n",
    "    squares_string = ''.join(squares)\n",
    "    return squares_string.count(str(d))\n",
    "\n",
    "nb_dig(10, 2)"
   ]
  },
  {
   "cell_type": "code",
   "execution_count": 22,
   "id": "5cfd75c9",
   "metadata": {},
   "outputs": [],
   "source": [
    "# don't forget to adjust the range(n) to n+1 or whatever is necessary"
   ]
  },
  {
   "cell_type": "markdown",
   "id": "b29730b8",
   "metadata": {},
   "source": [
    "### other solutions"
   ]
  },
  {
   "cell_type": "code",
   "execution_count": null,
   "id": "393250ba",
   "metadata": {},
   "outputs": [],
   "source": [
    "def nb_dig(n, d):\n",
    "    return sum(str(i*i).count(str(d)) for i in range(n+1))\n"
   ]
  },
  {
   "cell_type": "code",
   "execution_count": null,
   "id": "d55a5170",
   "metadata": {},
   "outputs": [],
   "source": [
    "def nb_dig(n, d):\n",
    "    \n",
    "    tot_occur = 0; # set counter\n",
    "    \n",
    "    for i in range(n+1): \n",
    "        #print(i**2)\n",
    "        tot_occur += str(i**2).count(str(d)) # within each string, count number of d. then update counter\n",
    "        \n",
    "    return tot_occur"
   ]
  }
 ],
 "metadata": {
  "kernelspec": {
   "display_name": "Python 3 (ipykernel)",
   "language": "python",
   "name": "python3"
  },
  "language_info": {
   "codemirror_mode": {
    "name": "ipython",
    "version": 3
   },
   "file_extension": ".py",
   "mimetype": "text/x-python",
   "name": "python",
   "nbconvert_exporter": "python",
   "pygments_lexer": "ipython3",
   "version": "3.10.6"
  },
  "toc": {
   "base_numbering": 1,
   "nav_menu": {},
   "number_sections": true,
   "sideBar": true,
   "skip_h1_title": false,
   "title_cell": "Table of Contents",
   "title_sidebar": "Contents",
   "toc_cell": false,
   "toc_position": {},
   "toc_section_display": true,
   "toc_window_display": false
  }
 },
 "nbformat": 4,
 "nbformat_minor": 5
}
