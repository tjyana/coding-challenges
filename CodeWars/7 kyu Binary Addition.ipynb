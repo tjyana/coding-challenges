{
 "cells": [
  {
   "cell_type": "code",
   "execution_count": null,
   "id": "09fc4459",
   "metadata": {},
   "outputs": [],
   "source": [
    "Implement a function that adds two numbers together and returns their sum in binary. The conversion can be done before, or after the addition.\n",
    "\n",
    "The binary number returned should be a string.\n",
    "\n",
    "Examples:(Input1, Input2 --> Output (explanation)))\n",
    "\n",
    "1, 1 --> \"10\" (1 + 1 = 2 in decimal or 10 in binary)\n",
    "5, 9 --> \"1110\" (5 + 9 = 14 in decimal or 1110 in binary)"
   ]
  },
  {
   "cell_type": "code",
   "execution_count": 1,
   "id": "e894bf75",
   "metadata": {},
   "outputs": [
    {
     "ename": "SyntaxError",
     "evalue": "incomplete input (1989906223.py, line 2)",
     "output_type": "error",
     "traceback": [
      "\u001b[0;36m  Cell \u001b[0;32mIn [1], line 2\u001b[0;36m\u001b[0m\n\u001b[0;31m    #your code here\u001b[0m\n\u001b[0m                   ^\u001b[0m\n\u001b[0;31mSyntaxError\u001b[0m\u001b[0;31m:\u001b[0m incomplete input\n"
     ]
    }
   ],
   "source": [
    "def add_binary(a,b):\n",
    "    #your code here"
   ]
  },
  {
   "cell_type": "code",
   "execution_count": 2,
   "id": "5106d890",
   "metadata": {},
   "outputs": [
    {
     "ename": "NameError",
     "evalue": "name 's' is not defined",
     "output_type": "error",
     "traceback": [
      "\u001b[0;31m---------------------------------------------------------------------------\u001b[0m",
      "\u001b[0;31mNameError\u001b[0m                                 Traceback (most recent call last)",
      "Cell \u001b[0;32mIn [2], line 1\u001b[0m\n\u001b[0;32m----> 1\u001b[0m s \u001b[38;5;241m=\u001b[39m \u001b[43ms\u001b[49m \u001b[38;5;241m*\u001b[39m \u001b[38;5;241m2\u001b[39m \u001b[38;5;241m+\u001b[39m digit\n",
      "\u001b[0;31mNameError\u001b[0m: name 's' is not defined"
     ]
    }
   ],
   "source": [
    "s = s * 2 + digit"
   ]
  },
  {
   "cell_type": "code",
   "execution_count": 3,
   "id": "fdd225d4",
   "metadata": {},
   "outputs": [],
   "source": [
    "def add_binary(a,b):\n",
    "    return bin(a+b)[2:]"
   ]
  },
  {
   "cell_type": "code",
   "execution_count": 4,
   "id": "a9313e93",
   "metadata": {},
   "outputs": [
    {
     "data": {
      "text/plain": [
       "'0b111'"
      ]
     },
     "execution_count": 4,
     "metadata": {},
     "output_type": "execute_result"
    }
   ],
   "source": [
    "bin(7)"
   ]
  },
  {
   "cell_type": "code",
   "execution_count": 5,
   "id": "a9e78608",
   "metadata": {},
   "outputs": [
    {
     "data": {
      "text/plain": [
       "'111'"
      ]
     },
     "execution_count": 5,
     "metadata": {},
     "output_type": "execute_result"
    }
   ],
   "source": [
    "bin(7)[2:]"
   ]
  },
  {
   "cell_type": "code",
   "execution_count": 6,
   "id": "3fe71ec1",
   "metadata": {},
   "outputs": [
    {
     "data": {
      "text/plain": [
       "'111'"
      ]
     },
     "execution_count": 6,
     "metadata": {},
     "output_type": "execute_result"
    }
   ],
   "source": [
    "\n",
    "a = 2\n",
    "b = 5\n",
    "'{0:b}'.format(a + b)"
   ]
  },
  {
   "cell_type": "code",
   "execution_count": 8,
   "id": "53a7f2ca",
   "metadata": {},
   "outputs": [
    {
     "data": {
      "text/plain": [
       "'1101001'"
      ]
     },
     "execution_count": 8,
     "metadata": {},
     "output_type": "execute_result"
    }
   ],
   "source": [
    "a = 100\n",
    "b = 5\n",
    "\n",
    "'{0:b}'.format(a + b)"
   ]
  },
  {
   "cell_type": "code",
   "execution_count": 9,
   "id": "d91b6c07",
   "metadata": {},
   "outputs": [
    {
     "data": {
      "text/plain": [
       "'101'"
      ]
     },
     "execution_count": 9,
     "metadata": {},
     "output_type": "execute_result"
    }
   ],
   "source": [
    "a = 100\n",
    "b = 5\n",
    "\n",
    "'{0:b}'.format(b)"
   ]
  },
  {
   "cell_type": "code",
   "execution_count": 10,
   "id": "807abed9",
   "metadata": {},
   "outputs": [
    {
     "data": {
      "text/plain": [
       "'1100100'"
      ]
     },
     "execution_count": 10,
     "metadata": {},
     "output_type": "execute_result"
    }
   ],
   "source": [
    "a = 100\n",
    "\n",
    "\n",
    "'{0:b}'.format(a)"
   ]
  },
  {
   "cell_type": "code",
   "execution_count": 14,
   "id": "059791fa",
   "metadata": {},
   "outputs": [
    {
     "data": {
      "text/plain": [
       "'5'"
      ]
     },
     "execution_count": 14,
     "metadata": {},
     "output_type": "execute_result"
    }
   ],
   "source": [
    "a = 5\n",
    "\n",
    "\n",
    "'{0:}'.format(a)"
   ]
  },
  {
   "cell_type": "code",
   "execution_count": 13,
   "id": "e10a4288",
   "metadata": {},
   "outputs": [
    {
     "data": {
      "text/plain": [
       "'111'"
      ]
     },
     "execution_count": 13,
     "metadata": {},
     "output_type": "execute_result"
    }
   ],
   "source": [
    "a = 7\n",
    "\n",
    "\n",
    "'{:b}'.format(a)"
   ]
  },
  {
   "cell_type": "code",
   "execution_count": 20,
   "id": "40d6a9b8",
   "metadata": {},
   "outputs": [
    {
     "data": {
      "text/plain": [
       "'111'"
      ]
     },
     "execution_count": 20,
     "metadata": {},
     "output_type": "execute_result"
    }
   ],
   "source": [
    "a = 7\n",
    "b = 0\n",
    "\n",
    "\n",
    "'{:b}'.format(a+b)"
   ]
  },
  {
   "cell_type": "code",
   "execution_count": null,
   "id": "1737767a",
   "metadata": {},
   "outputs": [],
   "source": []
  }
 ],
 "metadata": {
  "kernelspec": {
   "display_name": "Python 3 (ipykernel)",
   "language": "python",
   "name": "python3"
  },
  "language_info": {
   "codemirror_mode": {
    "name": "ipython",
    "version": 3
   },
   "file_extension": ".py",
   "mimetype": "text/x-python",
   "name": "python",
   "nbconvert_exporter": "python",
   "pygments_lexer": "ipython3",
   "version": "3.10.6"
  },
  "toc": {
   "base_numbering": 1,
   "nav_menu": {},
   "number_sections": true,
   "sideBar": true,
   "skip_h1_title": false,
   "title_cell": "Table of Contents",
   "title_sidebar": "Contents",
   "toc_cell": false,
   "toc_position": {},
   "toc_section_display": true,
   "toc_window_display": false
  }
 },
 "nbformat": 4,
 "nbformat_minor": 5
}
