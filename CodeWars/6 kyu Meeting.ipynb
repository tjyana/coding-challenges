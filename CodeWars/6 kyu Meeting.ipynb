{
 "cells": [
  {
   "cell_type": "markdown",
   "id": "7398854b",
   "metadata": {},
   "source": [
    "John has invited some friends. His list is:\n",
    "\n",
    "s = \"Fred:Corwill;Wilfred:Corwill;Barney:Tornbull;Betty:Tornbull;Bjon:Tornbull;Raphael:Corwill;Alfred:Corwill\";\n",
    "Could you make a program that\n",
    "\n",
    "makes this string uppercase\n",
    "gives it sorted in alphabetical order by last name.\n",
    "When the last names are the same, sort them by first name. Last name and first name of a guest come in the result between parentheses separated by a comma.\n",
    "\n",
    "So the result of function meeting(s) will be:\n",
    "\n",
    "\"(CORWILL, ALFRED)(CORWILL, FRED)(CORWILL, RAPHAEL)(CORWILL, WILFRED)(TORNBULL, BARNEY)(TORNBULL, BETTY)(TORNBULL, BJON)\"\n",
    "It can happen that in two distinct families with the same family name two people have the same first name too.\n",
    "\n",
    "Notes\n",
    "You can see another examples in the \"Sample tests\"."
   ]
  },
  {
   "cell_type": "code",
   "execution_count": 33,
   "id": "510c3976",
   "metadata": {},
   "outputs": [],
   "source": [
    "def meeting(s):\n",
    "    names = []\n",
    "    result = ''\n",
    "    for name in s.upper().split(';'):\n",
    "        a, b = name.split(':')\n",
    "        names.append(f'{b}, {a}')\n",
    "    print(sorted(names))\n",
    "    for name in sorted(names):\n",
    "        result += f'({name})'\n",
    "    return result.upper()"
   ]
  },
  {
   "cell_type": "code",
   "execution_count": 34,
   "id": "ddb1019a",
   "metadata": {},
   "outputs": [
    {
     "name": "stdout",
     "output_type": "stream",
     "text": [
      "['CORWILL, ALFRED', 'CORWILL, FRED', 'CORWILL, RAPHAEL', 'CORWILL, WILFRED', 'TORNBULL, BARNEY', 'TORNBULL, BETTY', 'TORNBULL, BJON']\n"
     ]
    },
    {
     "data": {
      "text/plain": [
       "'(CORWILL, ALFRED)(CORWILL, FRED)(CORWILL, RAPHAEL)(CORWILL, WILFRED)(TORNBULL, BARNEY)(TORNBULL, BETTY)(TORNBULL, BJON)'"
      ]
     },
     "execution_count": 34,
     "metadata": {},
     "output_type": "execute_result"
    }
   ],
   "source": [
    "s = \"Fred:Corwill;Wilfred:Corwill;Barney:Tornbull;Betty:Tornbull;Bjon:Tornbull;Raphael:Corwill;Alfred:Corwill\";\n",
    "meeting(s)"
   ]
  },
  {
   "cell_type": "code",
   "execution_count": 35,
   "id": "0c7227b9",
   "metadata": {},
   "outputs": [
    {
     "name": "stdout",
     "output_type": "stream",
     "text": [
      "['ARNO, ANN', 'BELL, JOHN', 'CORNWELL, ALEX', 'DORNY, ABBA', 'KERN, LEWIS', 'KORN, ALEX', 'META, GRACE', 'SCHWARZ, VICTORIA', 'STAN, MADISON', 'STAN, MEGAN', 'WAHL, ALEXIS']\n"
     ]
    },
    {
     "data": {
      "text/plain": [
       "'(ARNO, ANN)(BELL, JOHN)(CORNWELL, ALEX)(DORNY, ABBA)(KERN, LEWIS)(KORN, ALEX)(META, GRACE)(SCHWARZ, VICTORIA)(STAN, MADISON)(STAN, MEGAN)(WAHL, ALEXIS)'"
      ]
     },
     "execution_count": 35,
     "metadata": {},
     "output_type": "execute_result"
    }
   ],
   "source": [
    "s = 'Alexis:Wahl;John:Bell;Victoria:Schwarz;Abba:Dorny;Grace:Meta;Ann:Arno;Madison:STAN;Alex:Cornwell;Lewis:Kern;Megan:Stan;Alex:Korn'\n",
    "\n",
    "meeting(s)"
   ]
  },
  {
   "cell_type": "code",
   "execution_count": 20,
   "id": "b08ec567",
   "metadata": {
    "scrolled": true
   },
   "outputs": [],
   "source": [
    "names = []\n",
    "for name in s.split(';'):\n",
    "    a, b = name.split(':')\n",
    "    names.append(f'{b}, {a}')"
   ]
  },
  {
   "cell_type": "code",
   "execution_count": 21,
   "id": "d2ff1ca2",
   "metadata": {},
   "outputs": [
    {
     "data": {
      "text/plain": [
       "['Corwill, Alfred',\n",
       " 'Corwill, Fred',\n",
       " 'Corwill, Raphael',\n",
       " 'Corwill, Wilfred',\n",
       " 'Tornbull, Barney',\n",
       " 'Tornbull, Betty',\n",
       " 'Tornbull, Bjon']"
      ]
     },
     "execution_count": 21,
     "metadata": {},
     "output_type": "execute_result"
    }
   ],
   "source": [
    "sorted(names)"
   ]
  },
  {
   "cell_type": "code",
   "execution_count": 23,
   "id": "52d24fc3",
   "metadata": {},
   "outputs": [
    {
     "data": {
      "text/plain": [
       "'(Corwill, Alfred)(Corwill, Fred)(Corwill, Raphael)(Corwill, Wilfred)(Tornbull, Barney)(Tornbull, Betty)(Tornbull, Bjon)'"
      ]
     },
     "execution_count": 23,
     "metadata": {},
     "output_type": "execute_result"
    }
   ],
   "source": [
    "result = ''\n",
    "for name in sorted(names):\n",
    "    result += f'({name})'\n",
    "    \n",
    "result"
   ]
  },
  {
   "cell_type": "code",
   "execution_count": null,
   "id": "6b82ea66",
   "metadata": {},
   "outputs": [],
   "source": []
  }
 ],
 "metadata": {
  "kernelspec": {
   "display_name": "Python 3 (ipykernel)",
   "language": "python",
   "name": "python3"
  },
  "language_info": {
   "codemirror_mode": {
    "name": "ipython",
    "version": 3
   },
   "file_extension": ".py",
   "mimetype": "text/x-python",
   "name": "python",
   "nbconvert_exporter": "python",
   "pygments_lexer": "ipython3",
   "version": "3.10.6"
  },
  "toc": {
   "base_numbering": 1,
   "nav_menu": {},
   "number_sections": true,
   "sideBar": true,
   "skip_h1_title": false,
   "title_cell": "Table of Contents",
   "title_sidebar": "Contents",
   "toc_cell": false,
   "toc_position": {},
   "toc_section_display": true,
   "toc_window_display": false
  }
 },
 "nbformat": 4,
 "nbformat_minor": 5
}
