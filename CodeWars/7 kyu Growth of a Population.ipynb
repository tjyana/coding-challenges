{
 "cells": [
  {
   "cell_type": "markdown",
   "id": "34e72ca9",
   "metadata": {},
   "source": [
    "In a small town the population is p0 = 1000 at the beginning of a year. The population regularly increases by 2 percent per year and moreover 50 new inhabitants per year come to live in the town. How many years does the town need to see its population greater than or equal to p = 1200 inhabitants?\n",
    "\n",
    "`At the end of the first year there will be: \n",
    "1000 + 1000 * 0.02 + 50 => 1070 inhabitants\n",
    "\n",
    "At the end of the 2nd year there will be: \n",
    "1070 + 1070 * 0.02 + 50 => 1141 inhabitants (** number of inhabitants is an integer **)\n",
    "\n",
    "At the end of the 3rd year there will be:\n",
    "1141 + 1141 * 0.02 + 50 => 1213\n",
    "\n",
    "It will need 3 entire years.`\n",
    "More generally given parameters:\n",
    "\n",
    "`p0, percent, aug (inhabitants coming or leaving each year), p (population to equal or surpass)`\n",
    "\n",
    "the function nb_year should return n number of entire years needed to get a population greater or equal to p.\n",
    "\n",
    "aug is an integer, percent a positive or null floating number, p0 and p are positive integers (> 0)\n",
    "\n",
    "`Examples:\n",
    "nb_year(1500, 5, 100, 5000) -> 15\n",
    "nb_year(1500000, 2.5, 10000, 2000000) -> 10`\n",
    "Note:\n",
    "Don't forget to convert the percent parameter as a percentage in the body of your function: if the parameter percent is 2 you have to convert it to 0.02.\n",
    "\n",
    "There are no fractions of people. At the end of each year, the population count is an integer: 252.8 people round down to 252 persons."
   ]
  },
  {
   "cell_type": "code",
   "execution_count": 28,
   "id": "be692409",
   "metadata": {},
   "outputs": [
    {
     "data": {
      "text/plain": [
       "3"
      ]
     },
     "execution_count": 28,
     "metadata": {},
     "output_type": "execute_result"
    }
   ],
   "source": [
    "def nb_year(p0, percent, aug, p):\n",
    "    for n in range(100):\n",
    "        p0 = p0 + (p0 * percent/100) + aug\n",
    "        if p0 >= p:\n",
    "            return n+1\n",
    "        \n",
    "nb_year(1000, 2, 50, 1200)\n",
    "# nb_year(1500, 5, 100, 5000)"
   ]
  },
  {
   "cell_type": "code",
   "execution_count": 33,
   "id": "ecae29a2",
   "metadata": {},
   "outputs": [
    {
     "data": {
      "text/plain": [
       "3"
      ]
     },
     "execution_count": 33,
     "metadata": {},
     "output_type": "execute_result"
    }
   ],
   "source": [
    "# first answer\n",
    "# only passes a few tests\n",
    "\n",
    "def nb_year(p0, percent, aug, p):\n",
    "    for n in range(100):\n",
    "        if (p0 * ((1 + percent/100) ** n)) + aug * n >= p:\n",
    "            return n\n",
    "\n",
    "nb_year(1000, 2, 50, 1200)"
   ]
  },
  {
   "cell_type": "code",
   "execution_count": 16,
   "id": "1a18ac14",
   "metadata": {},
   "outputs": [],
   "source": [
    "# final solution\n",
    "# int needed\n",
    "\n",
    "def nb_year(p0, percent, aug, p):\n",
    "    for n in range(1000):\n",
    "        p0 = int(p0)\n",
    "        p0 = p0 + (p0 * percent/100) + aug\n",
    "        if p0 >= p:\n",
    "            return n+1\n"
   ]
  },
  {
   "cell_type": "markdown",
   "id": "c8fbb57c",
   "metadata": {},
   "source": [
    "### ChatGPT solutions"
   ]
  },
  {
   "cell_type": "code",
   "execution_count": 20,
   "id": "48b9af1c",
   "metadata": {},
   "outputs": [
    {
     "data": {
      "text/plain": [
       "15"
      ]
     },
     "execution_count": 20,
     "metadata": {},
     "output_type": "execute_result"
    }
   ],
   "source": [
    "def nb_year(p0, percent, aug, p):\n",
    "    population = p0\n",
    "    for n in range(100):\n",
    "        population = population * (1 + percent / 100) + aug\n",
    "        if population >= p:\n",
    "            return n + 1  # Add 1 to account for the initial year\n",
    "    return \"Population will not reach or exceed the target\"\n",
    "\n",
    "# # Example usage:\n",
    "# p0 = 1000  # Initial population\n",
    "# percent = 2  # Growth rate (in percentage)\n",
    "# aug = 50  # Annual increase\n",
    "# p = 1200  # Target population\n",
    "\n",
    "nb_year(1500, 5, 100, 5000)\n"
   ]
  },
  {
   "cell_type": "code",
   "execution_count": 21,
   "id": "6a148612",
   "metadata": {},
   "outputs": [
    {
     "data": {
      "text/plain": [
       "15"
      ]
     },
     "execution_count": 21,
     "metadata": {},
     "output_type": "execute_result"
    }
   ],
   "source": [
    "def nb_year(p0, percent, aug, p):\n",
    "    population = p0\n",
    "    years = 0\n",
    "    while population < p:\n",
    "        population = population * (1 + percent / 100) + aug\n",
    "        years += 1\n",
    "    return years\n",
    "\n",
    "nb_year(1500, 5, 100, 5000)"
   ]
  },
  {
   "cell_type": "code",
   "execution_count": null,
   "id": "bafe286a",
   "metadata": {},
   "outputs": [],
   "source": []
  }
 ],
 "metadata": {
  "kernelspec": {
   "display_name": "Python 3 (ipykernel)",
   "language": "python",
   "name": "python3"
  },
  "language_info": {
   "codemirror_mode": {
    "name": "ipython",
    "version": 3
   },
   "file_extension": ".py",
   "mimetype": "text/x-python",
   "name": "python",
   "nbconvert_exporter": "python",
   "pygments_lexer": "ipython3",
   "version": "3.10.6"
  },
  "toc": {
   "base_numbering": 1,
   "nav_menu": {},
   "number_sections": true,
   "sideBar": true,
   "skip_h1_title": false,
   "title_cell": "Table of Contents",
   "title_sidebar": "Contents",
   "toc_cell": false,
   "toc_position": {},
   "toc_section_display": true,
   "toc_window_display": false
  }
 },
 "nbformat": 4,
 "nbformat_minor": 5
}
