{
 "cells": [
  {
   "cell_type": "code",
   "execution_count": 3,
   "id": "767970b7",
   "metadata": {},
   "outputs": [],
   "source": [
    "def reverse_long_words(string):\n",
    "    word_list = string.split()\n",
    "    final = []\n",
    "    for word in word_list:\n",
    "        if len(word) >= 5:\n",
    "            final.append(word[::-1])\n",
    "        else:\n",
    "            final.append(word)\n",
    "    return ' '.join(final)"
   ]
  },
  {
   "cell_type": "code",
   "execution_count": 4,
   "id": "4c8dd99b",
   "metadata": {},
   "outputs": [
    {
     "data": {
      "text/plain": [
       "'Hey wollef Le nogaW inmula'"
      ]
     },
     "execution_count": 4,
     "metadata": {},
     "output_type": "execute_result"
    }
   ],
   "source": [
    "string = \"Hey fellow Le Wagon alumni\"\n",
    "reverse_long_words(string)"
   ]
  },
  {
   "cell_type": "code",
   "execution_count": 5,
   "id": "cf1a2826",
   "metadata": {},
   "outputs": [
    {
     "ename": "SyntaxError",
     "evalue": "invalid syntax (3218282809.py, line 1)",
     "output_type": "error",
     "traceback": [
      "\u001b[0;36m  Cell \u001b[0;32mIn [5], line 1\u001b[0;36m\u001b[0m\n\u001b[0;31m    [word[::-1] for word in word_list if len(word) >= 5 else word]\u001b[0m\n\u001b[0m                                                        ^\u001b[0m\n\u001b[0;31mSyntaxError\u001b[0m\u001b[0;31m:\u001b[0m invalid syntax\n"
     ]
    }
   ],
   "source": [
    "[word[::-1] for word in word_list if len(word) >= 5 else word]"
   ]
  },
  {
   "cell_type": "code",
   "execution_count": 8,
   "id": "5b3da827",
   "metadata": {},
   "outputs": [
    {
     "data": {
      "text/plain": [
       "['Hey', 'wollef', 'Le', 'nogaW', 'inmula']"
      ]
     },
     "execution_count": 8,
     "metadata": {},
     "output_type": "execute_result"
    }
   ],
   "source": [
    "word_list = string.split()\n",
    "[word[::-1] if len(word) >= 5 else word for word in word_list]"
   ]
  },
  {
   "cell_type": "code",
   "execution_count": 9,
   "id": "5c278639",
   "metadata": {},
   "outputs": [],
   "source": [
    "def reverse_long_words(string):\n",
    "    return ' '.join(word[::-1] if len(word) >= 5 else word for word in string.split())"
   ]
  },
  {
   "cell_type": "code",
   "execution_count": 10,
   "id": "db9c736d",
   "metadata": {},
   "outputs": [
    {
     "data": {
      "text/plain": [
       "'Hey wollef Le nogaW inmula'"
      ]
     },
     "execution_count": 10,
     "metadata": {},
     "output_type": "execute_result"
    }
   ],
   "source": [
    "string = \"Hey fellow Le Wagon alumni\"\n",
    "reverse_long_words(string)"
   ]
  },
  {
   "cell_type": "code",
   "execution_count": 11,
   "id": "cb28df73",
   "metadata": {},
   "outputs": [],
   "source": [
    "def reverse_long_words(sentence: str) -> str:\n",
    "    final = [] # initialize empty list to compile words into\n",
    "    word_list = sentence.split() # split sentence into list of individual words\n",
    "    for word in word_list: # loop through each word in the list of individual words\n",
    "        if len(word) >= 5: # if word has five or more letters\n",
    "            final.append(word[::-1]) # reverse word with indexing, and append to final list\n",
    "        else: # for all other cases\n",
    "            final.append(word) # append word as-is to final list\n",
    "    return ' '.join(final) # join the final list of words with a space in between"
   ]
  },
  {
   "cell_type": "code",
   "execution_count": 12,
   "id": "434d5315",
   "metadata": {},
   "outputs": [
    {
     "data": {
      "text/plain": [
       "'Hey wollef Le nogaW inmula'"
      ]
     },
     "execution_count": 12,
     "metadata": {},
     "output_type": "execute_result"
    }
   ],
   "source": [
    "string = \"Hey fellow Le Wagon alumni\"\n",
    "reverse_long_words(string)"
   ]
  },
  {
   "cell_type": "code",
   "execution_count": null,
   "id": "894ef9a2",
   "metadata": {},
   "outputs": [],
   "source": []
  }
 ],
 "metadata": {
  "kernelspec": {
   "display_name": "Python 3 (ipykernel)",
   "language": "python",
   "name": "python3"
  },
  "language_info": {
   "codemirror_mode": {
    "name": "ipython",
    "version": 3
   },
   "file_extension": ".py",
   "mimetype": "text/x-python",
   "name": "python",
   "nbconvert_exporter": "python",
   "pygments_lexer": "ipython3",
   "version": "3.10.6"
  },
  "toc": {
   "base_numbering": 1,
   "nav_menu": {},
   "number_sections": true,
   "sideBar": true,
   "skip_h1_title": false,
   "title_cell": "Table of Contents",
   "title_sidebar": "Contents",
   "toc_cell": false,
   "toc_position": {},
   "toc_section_display": true,
   "toc_window_display": false
  }
 },
 "nbformat": 4,
 "nbformat_minor": 5
}
