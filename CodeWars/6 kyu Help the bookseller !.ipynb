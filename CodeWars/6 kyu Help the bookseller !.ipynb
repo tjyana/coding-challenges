{
 "cells": [
  {
   "cell_type": "code",
   "execution_count": null,
   "id": "a41d87df",
   "metadata": {},
   "outputs": [],
   "source": [
    "A bookseller has lots of books classified in 26 categories labeled A, B, C, ..., Z. Each book has a code of at least 3 characters. The 1st character of a code is a capital letter which defines the book category.\n",
    "\n",
    "In the bookseller's stocklist each code is followed by a space and by a positive integer, which indicates the quantity of books of this code in stock.\n",
    "\n",
    "Task\n",
    "You will receive the bookseller's stocklist and a list of categories. Your task is to find the total number of books in the bookseller's stocklist, with the category codes in the list of categories. Note: the codes are in the same order in both lists.\n",
    "\n",
    "Return the result as a string described in the example below, or as a list of pairs (Haskell/Clojure/Racket/Prolog).\n",
    "\n",
    "If any of the input lists is empty, return an empty string, or an empty array/list (Clojure/Racket/Prolog).\n",
    "\n",
    "Example\n",
    "# the bookseller's stocklist:\n",
    "\"ABART 20\", \"CDXEF 50\", \"BKWRK 25\", \"BTSQZ 89\", \"DRTYM 60\"\n",
    "\n",
    "# list of categories: \n",
    "\"A\", \"B\", \"C\", \"W\"\n",
    "\n",
    "# result:\n",
    "\"(A : 20) - (B : 114) - (C : 50) - (W : 0)\"\n",
    "Explanation:\n",
    "\n",
    "category A: 20 books (ABART)\n",
    "category B: 114 books = 25 (BKWRK) + 89 (BTSQZ)\n",
    "category C: 50 books (CDXEF)\n",
    "category W: 0 books"
   ]
  },
  {
   "cell_type": "code",
   "execution_count": null,
   "id": "dce72698",
   "metadata": {},
   "outputs": [],
   "source": [
    "def stock_list(stocklist, categories):\n",
    "    # your code here\n",
    "    \n",
    "    return \"\""
   ]
  },
  {
   "cell_type": "code",
   "execution_count": 8,
   "id": "a22c8c99",
   "metadata": {},
   "outputs": [],
   "source": [
    "stocklist = [\"ABART 20\", \"CDXEF 50\", \"BKWRK 25\", \"BTSQZ 89\", \"DRTYM 60\"]\n",
    "categories = [\"A\", \"B\", \"C\", \"W\"]"
   ]
  },
  {
   "cell_type": "code",
   "execution_count": null,
   "id": "f32ec74c",
   "metadata": {},
   "outputs": [],
   "source": [
    "stock_categories = {}\n",
    "for item in stocklist:\n",
    "    stock_categories = {item[0] "
   ]
  },
  {
   "cell_type": "code",
   "execution_count": 3,
   "id": "bcd99f8d",
   "metadata": {},
   "outputs": [
    {
     "data": {
      "text/plain": [
       "'D - R - T - Y - M -   - 6 - 0'"
      ]
     },
     "execution_count": 3,
     "metadata": {},
     "output_type": "execute_result"
    }
   ],
   "source": [
    "stock_categories = []\n",
    "for item in stocklist:\n",
    "    stock_categories = ' - '.join(item)\n",
    "stock_categories"
   ]
  },
  {
   "cell_type": "code",
   "execution_count": null,
   "id": "a6c212cc",
   "metadata": {},
   "outputs": [],
   "source": []
  },
  {
   "cell_type": "code",
   "execution_count": 23,
   "id": "38248da6",
   "metadata": {},
   "outputs": [],
   "source": [
    "def stock_list(stocklist, categories):\n",
    "    for item in stocklist:\n",
    "        print(item)\n",
    "        return stock_categories.append(' - '.join(item))"
   ]
  },
  {
   "cell_type": "code",
   "execution_count": 24,
   "id": "53899030",
   "metadata": {},
   "outputs": [
    {
     "name": "stdout",
     "output_type": "stream",
     "text": [
      "ABART 20\n"
     ]
    }
   ],
   "source": [
    "stock_list(stocklist, categories)"
   ]
  },
  {
   "cell_type": "code",
   "execution_count": 39,
   "id": "9ff5f79b",
   "metadata": {},
   "outputs": [],
   "source": [
    "stocklist = [\"ABART 20\", \"CDXEF 50\", \"BKWRK 25\", \"BTSQZ 89\", \"DRTYM 60\"]\n",
    "stock_categories = []\n",
    "for item in stocklist:\n",
    "    code = item[0] \n",
    "    number = item[-2:]\n",
    "    stock_categories.append(code + ' : ' + number) \n",
    "\n"
   ]
  },
  {
   "cell_type": "code",
   "execution_count": 40,
   "id": "97113f98",
   "metadata": {},
   "outputs": [
    {
     "data": {
      "text/plain": [
       "['A : 20', 'C : 50', 'B : 25', 'B : 89', 'D : 60']"
      ]
     },
     "execution_count": 40,
     "metadata": {},
     "output_type": "execute_result"
    }
   ],
   "source": [
    "stock_categories"
   ]
  },
  {
   "cell_type": "code",
   "execution_count": null,
   "id": "bb1121ce",
   "metadata": {},
   "outputs": [],
   "source": []
  }
 ],
 "metadata": {
  "kernelspec": {
   "display_name": "Python 3 (ipykernel)",
   "language": "python",
   "name": "python3"
  },
  "language_info": {
   "codemirror_mode": {
    "name": "ipython",
    "version": 3
   },
   "file_extension": ".py",
   "mimetype": "text/x-python",
   "name": "python",
   "nbconvert_exporter": "python",
   "pygments_lexer": "ipython3",
   "version": "3.10.6"
  },
  "toc": {
   "base_numbering": 1,
   "nav_menu": {},
   "number_sections": true,
   "sideBar": true,
   "skip_h1_title": false,
   "title_cell": "Table of Contents",
   "title_sidebar": "Contents",
   "toc_cell": false,
   "toc_position": {},
   "toc_section_display": true,
   "toc_window_display": false
  }
 },
 "nbformat": 4,
 "nbformat_minor": 5
}
