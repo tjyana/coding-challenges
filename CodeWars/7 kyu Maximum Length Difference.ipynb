{
 "cells": [
  {
   "cell_type": "markdown",
   "id": "58cfe16d",
   "metadata": {},
   "source": [
    "You are given two arrays a1 and a2 of strings. Each string is composed with letters from a to z. Let x be any string in the first array and y be any string in the second array.\n",
    "\n",
    "Find max(abs(length(x) − length(y)))\n",
    "\n",
    "If a1 and/or a2 are empty return -1 in each language except in Haskell (F#) where you will return Nothing (None).\n",
    "\n",
    "Example:\n",
    "a1 = [\"hoqq\", \"bbllkw\", \"oox\", \"ejjuyyy\", \"plmiis\", \"xxxzgpsssa\", \"xxwwkktt\", \"znnnnfqknaz\", \"qqquuhii\", \"dvvvwz\"]\n",
    "a2 = [\"cccooommaaqqoxii\", \"gggqaffhhh\", \"tttoowwwmmww\"]\n",
    "mxdiflg(a1, a2) --> 13\n",
    "Bash note:\n",
    "input : 2 strings with substrings separated by ,\n",
    "output: number as a string"
   ]
  },
  {
   "cell_type": "code",
   "execution_count": 17,
   "id": "17dfc2f0",
   "metadata": {},
   "outputs": [],
   "source": [
    "def mxdiflg(a1, a2):\n",
    "    if a1 == []:\n",
    "        return -1\n",
    "    if a2 == []:\n",
    "        return -1\n",
    "    else:\n",
    "        shortest1 = len(sorted(a1, key=len)[0])\n",
    "        longest1 = len(sorted(a1, key=len)[-1])\n",
    "        shortest2 = len(sorted(a2, key=len)[0])\n",
    "        longest2 = len(sorted(a2, key=len)[-1])\n",
    "        return max(abs(longest2 - shortest1), abs(longest1 - shortest2))"
   ]
  },
  {
   "cell_type": "code",
   "execution_count": null,
   "id": "8468c7d4",
   "metadata": {},
   "outputs": [],
   "source": [
    "longest1 = sorted(a1, key=len)[0]\n",
    "shortest2 = ''\n",
    "for word in a1:\n",
    "    if word > longest:\n",
    "        longest = word\n",
    "    if word < shortest:\n",
    "        shortest = word\n",
    "for word in a2:\n",
    "    if word > longest:\n",
    "        longest = word\n",
    "    if word < shortest:\n",
    "        shortest = word\n"
   ]
  },
  {
   "cell_type": "code",
   "execution_count": 1,
   "id": "699094e1",
   "metadata": {},
   "outputs": [],
   "source": [
    "a1 = [\"hoqq\", \"bbllkw\", \"oox\", \"ejjuyyy\", \"plmiis\", \"xxxzgpsssa\", \"xxwwkktt\", \"znnnnfqknaz\", \"qqquuhii\", \"dvvvwz\"]\n",
    "a2 = [\"cccooommaaqqoxii\", \"gggqaffhhh\", \"tttoowwwmmww\"]"
   ]
  },
  {
   "cell_type": "code",
   "execution_count": 6,
   "id": "b6e85c6b",
   "metadata": {},
   "outputs": [
    {
     "data": {
      "text/plain": [
       "['oox',\n",
       " 'hoqq',\n",
       " 'bbllkw',\n",
       " 'plmiis',\n",
       " 'dvvvwz',\n",
       " 'ejjuyyy',\n",
       " 'xxwwkktt',\n",
       " 'qqquuhii',\n",
       " 'xxxzgpsssa',\n",
       " 'znnnnfqknaz']"
      ]
     },
     "execution_count": 6,
     "metadata": {},
     "output_type": "execute_result"
    }
   ],
   "source": [
    "(sorted(a1, key=len))"
   ]
  },
  {
   "cell_type": "code",
   "execution_count": 11,
   "id": "d2d3bac6",
   "metadata": {},
   "outputs": [],
   "source": [
    "shortest1 = len(sorted(a1, key=len)[0])\n",
    "longest1 = len(sorted(a1, key=len)[-1])\n",
    "shortest2 = len(sorted(a2, key=len)[0])\n",
    "longest2 = len(sorted(a2, key=len)[-1])"
   ]
  },
  {
   "cell_type": "code",
   "execution_count": null,
   "id": "e616d8f9",
   "metadata": {},
   "outputs": [],
   "source": [
    "a1 = [\"hoqq\", \"bbllkw\", \"oox\", \"ejjuyyy\", \"plmiis\", \"xxxzgpsssa\", \"xxwwkktt\", \"znnnnfqknaz\", \"qqquuhii\", \"dvvvwz\"]\n",
    "a2 = [\"cccooommaaqqox\", \"gggqaffhhh\", \"tttoowwwmmww\"]"
   ]
  },
  {
   "cell_type": "code",
   "execution_count": 20,
   "id": "e83b8804",
   "metadata": {},
   "outputs": [],
   "source": [
    "a1 = []\n"
   ]
  },
  {
   "cell_type": "code",
   "execution_count": 21,
   "id": "72b36b5c",
   "metadata": {},
   "outputs": [
    {
     "data": {
      "text/plain": [
       "-1"
      ]
     },
     "execution_count": 21,
     "metadata": {},
     "output_type": "execute_result"
    }
   ],
   "source": [
    "mxdiflg(a1, a2)"
   ]
  },
  {
   "cell_type": "code",
   "execution_count": null,
   "id": "c2c37297",
   "metadata": {},
   "outputs": [],
   "source": []
  }
 ],
 "metadata": {
  "kernelspec": {
   "display_name": "Python 3 (ipykernel)",
   "language": "python",
   "name": "python3"
  },
  "language_info": {
   "codemirror_mode": {
    "name": "ipython",
    "version": 3
   },
   "file_extension": ".py",
   "mimetype": "text/x-python",
   "name": "python",
   "nbconvert_exporter": "python",
   "pygments_lexer": "ipython3",
   "version": "3.10.6"
  },
  "toc": {
   "base_numbering": 1,
   "nav_menu": {},
   "number_sections": true,
   "sideBar": true,
   "skip_h1_title": false,
   "title_cell": "Table of Contents",
   "title_sidebar": "Contents",
   "toc_cell": false,
   "toc_position": {},
   "toc_section_display": true,
   "toc_window_display": false
  }
 },
 "nbformat": 4,
 "nbformat_minor": 5
}
