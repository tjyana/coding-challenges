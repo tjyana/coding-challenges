{
 "cells": [
  {
   "cell_type": "code",
   "execution_count": null,
   "id": "7c9da093",
   "metadata": {},
   "outputs": [],
   "source": [
    "Summation\n",
    "Write a program that finds the summation of every number from 1 to num. The number will always be a positive integer greater than 0. Your function only needs to return the result, what is shown between parentheses in the example below is how you reach that result and it's not part of it, see the sample tests.\n",
    "\n",
    "For example (Input -> Output):\n",
    "\n",
    "2 -> 3 (1 + 2)\n",
    "8 -> 36 (1 + 2 + 3 + 4 + 5 + 6 + 7 + 8)"
   ]
  },
  {
   "cell_type": "code",
   "execution_count": null,
   "id": "2dcbda8e",
   "metadata": {},
   "outputs": [],
   "source": [
    "def summation(num):\n",
    "    total = 0\n",
    "    "
   ]
  },
  {
   "cell_type": "code",
   "execution_count": 2,
   "id": "0048d5f0",
   "metadata": {},
   "outputs": [
    {
     "name": "stdout",
     "output_type": "stream",
     "text": [
      "range(0, 5)\n"
     ]
    }
   ],
   "source": [
    "print(range(5))"
   ]
  },
  {
   "cell_type": "code",
   "execution_count": 9,
   "id": "f428decc",
   "metadata": {},
   "outputs": [
    {
     "data": {
      "text/plain": [
       "15"
      ]
     },
     "execution_count": 9,
     "metadata": {},
     "output_type": "execute_result"
    }
   ],
   "source": [
    "num = 5\n",
    "numbers = []\n",
    "for i in range(num+1):\n",
    "    numbers.append(i)\n",
    "sum(numbers)"
   ]
  },
  {
   "cell_type": "code",
   "execution_count": null,
   "id": "614b7b44",
   "metadata": {},
   "outputs": [],
   "source": [
    "def summation(num):\n",
    "    numbers = []\n",
    "    for i in range(num+1):\n",
    "        numbers.append(i)\n",
    "    return sum(numbers)"
   ]
  },
  {
   "cell_type": "code",
   "execution_count": null,
   "id": "9a6bf95e",
   "metadata": {},
   "outputs": [],
   "source": []
  },
  {
   "cell_type": "code",
   "execution_count": null,
   "id": "943842b3",
   "metadata": {},
   "outputs": [],
   "source": [
    "# more efficient solutions\n",
    "def summation(num):\n",
    "    return sum(range(1,num+1))\n",
    "\n",
    "def summation(num):\n",
    "    return sum(range(num + 1))"
   ]
  },
  {
   "cell_type": "code",
   "execution_count": null,
   "id": "d0fdf9de",
   "metadata": {},
   "outputs": [],
   "source": [
    "def summation(num):\n",
    "    return (1+num) * num / 2"
   ]
  }
 ],
 "metadata": {
  "kernelspec": {
   "display_name": "Python 3 (ipykernel)",
   "language": "python",
   "name": "python3"
  },
  "language_info": {
   "codemirror_mode": {
    "name": "ipython",
    "version": 3
   },
   "file_extension": ".py",
   "mimetype": "text/x-python",
   "name": "python",
   "nbconvert_exporter": "python",
   "pygments_lexer": "ipython3",
   "version": "3.10.6"
  },
  "toc": {
   "base_numbering": 1,
   "nav_menu": {},
   "number_sections": true,
   "sideBar": true,
   "skip_h1_title": false,
   "title_cell": "Table of Contents",
   "title_sidebar": "Contents",
   "toc_cell": false,
   "toc_position": {},
   "toc_section_display": true,
   "toc_window_display": false
  }
 },
 "nbformat": 4,
 "nbformat_minor": 5
}
