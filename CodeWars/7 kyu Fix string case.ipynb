{
 "cells": [
  {
   "cell_type": "code",
   "execution_count": null,
   "id": "e22eee37",
   "metadata": {},
   "outputs": [],
   "source": [
    "In this Kata, you will be given a string that may have mixed uppercase and lowercase letters and your task is to convert that string to either lowercase only or uppercase only based on:\n",
    "\n",
    "make as few changes as possible.\n",
    "if the string contains equal number of uppercase and lowercase letters, convert the string to lowercase.\n",
    "For example:\n",
    "\n",
    "solve(\"coDe\") = \"code\". Lowercase characters > uppercase. Change only the \"D\" to lowercase.\n",
    "solve(\"CODe\") = \"CODE\". Uppercase characters > lowecase. Change only the \"e\" to uppercase.\n",
    "solve(\"coDE\") = \"code\". Upper == lowercase. Change all to lowercase.\n",
    "More examples in test cases. Good luck!\n",
    "\n",
    "Please also try:\n",
    "\n",
    "Simple time difference\n",
    "\n",
    "Simple remove duplicates"
   ]
  },
  {
   "cell_type": "code",
   "execution_count": 8,
   "id": "1f6935ab",
   "metadata": {},
   "outputs": [],
   "source": [
    "def solve(s):\n",
    "    upper = sum(1 for letter in s if letter.isupper())\n",
    "    lower = sum(1 for letter in s if letter.islower())\n",
    "    return s.lower() if lower >= upper else s.upper()"
   ]
  },
  {
   "cell_type": "code",
   "execution_count": 2,
   "id": "8c366ff7",
   "metadata": {},
   "outputs": [
    {
     "ename": "SyntaxError",
     "evalue": "invalid syntax (847342732.py, line 4)",
     "output_type": "error",
     "traceback": [
      "\u001b[0;36m  Cell \u001b[0;32mIn [2], line 4\u001b[0;36m\u001b[0m\n\u001b[0;31m    upper += 1 if letter.isupper() else lower += 1\u001b[0m\n\u001b[0m                                              ^\u001b[0m\n\u001b[0;31mSyntaxError\u001b[0m\u001b[0;31m:\u001b[0m invalid syntax\n"
     ]
    }
   ],
   "source": [
    "upper = 0\n",
    "lower = 0\n",
    "for letter in s:\n",
    "    upper += 1 if letter.isupper() else lower += 1    "
   ]
  },
  {
   "cell_type": "code",
   "execution_count": 7,
   "id": "4349e898",
   "metadata": {},
   "outputs": [
    {
     "ename": "SyntaxError",
     "evalue": "'return' outside function (4232784961.py, line 5)",
     "output_type": "error",
     "traceback": [
      "\u001b[0;36m  Cell \u001b[0;32mIn [7], line 5\u001b[0;36m\u001b[0m\n\u001b[0;31m    return s.lower()\u001b[0m\n\u001b[0m    ^\u001b[0m\n\u001b[0;31mSyntaxError\u001b[0m\u001b[0;31m:\u001b[0m 'return' outside function\n"
     ]
    }
   ],
   "source": [
    "s = 'cOdE'\n",
    "upper = sum(1 for letter in s if letter.isupper())\n",
    "lower = sum(1 for letter in s if letter.islower())\n",
    "return s.lower() if lower >= upper else s.upper()\n",
    "if upper > lower:\n",
    "    return s.upper()"
   ]
  },
  {
   "cell_type": "code",
   "execution_count": 9,
   "id": "716c0930",
   "metadata": {},
   "outputs": [
    {
     "data": {
      "text/plain": [
       "'code'"
      ]
     },
     "execution_count": 9,
     "metadata": {},
     "output_type": "execute_result"
    }
   ],
   "source": [
    "solve(s)"
   ]
  },
  {
   "cell_type": "code",
   "execution_count": null,
   "id": "30635f39",
   "metadata": {},
   "outputs": [],
   "source": []
  }
 ],
 "metadata": {
  "kernelspec": {
   "display_name": "Python 3 (ipykernel)",
   "language": "python",
   "name": "python3"
  },
  "language_info": {
   "codemirror_mode": {
    "name": "ipython",
    "version": 3
   },
   "file_extension": ".py",
   "mimetype": "text/x-python",
   "name": "python",
   "nbconvert_exporter": "python",
   "pygments_lexer": "ipython3",
   "version": "3.10.6"
  },
  "toc": {
   "base_numbering": 1,
   "nav_menu": {},
   "number_sections": true,
   "sideBar": true,
   "skip_h1_title": false,
   "title_cell": "Table of Contents",
   "title_sidebar": "Contents",
   "toc_cell": false,
   "toc_position": {},
   "toc_section_display": true,
   "toc_window_display": false
  }
 },
 "nbformat": 4,
 "nbformat_minor": 5
}
