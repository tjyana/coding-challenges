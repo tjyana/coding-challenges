{
 "cells": [
  {
   "cell_type": "markdown",
   "id": "50c1dedd",
   "metadata": {},
   "source": [
    "The number \n",
    "89\n",
    "89 is the first integer with more than one digit that fulfills the property partially introduced in the title of this kata. What's the use of saying \"Eureka\"? Because this sum gives the same number: \n",
    "89\n",
    "=\n",
    "8\n",
    "1\n",
    "+\n",
    "9\n",
    "2\n",
    "89=8 \n",
    "1\n",
    " +9 \n",
    "2\n",
    " \n",
    "\n",
    "The next number in having this property is \n",
    "135\n",
    "135:\n",
    "\n",
    "See this property again: \n",
    "135\n",
    "=\n",
    "1\n",
    "1\n",
    "+\n",
    "3\n",
    "2\n",
    "+\n",
    "5\n",
    "3\n",
    "135=1 \n",
    "1\n",
    " +3 \n",
    "2\n",
    " +5 \n",
    "3\n",
    " \n",
    "\n",
    "Task\n",
    "We need a function to collect these numbers, that may receive two integers \n",
    "𝑎\n",
    "a, \n",
    "𝑏\n",
    "b that defines the range \n",
    "[\n",
    "𝑎\n",
    ",\n",
    "𝑏\n",
    "]\n",
    "[a,b] (inclusive) and outputs a list of the sorted numbers in the range that fulfills the property described above.\n",
    "\n",
    "Examples\n",
    "Let's see some cases (input -> output):\n",
    "\n",
    "1, 10  --> [1, 2, 3, 4, 5, 6, 7, 8, 9]\n",
    "1, 100 --> [1, 2, 3, 4, 5, 6, 7, 8, 9, 89]\n",
    "If there are no numbers of this kind in the range \n",
    "[\n",
    "𝑎\n",
    ",\n",
    "𝑏\n",
    "]\n",
    "[a,b] the function should output an empty list.\n",
    "\n",
    "90, 100 --> []\n",
    "Enjoy it!!"
   ]
  },
  {
   "cell_type": "code",
   "execution_count": null,
   "id": "e531979e",
   "metadata": {},
   "outputs": [],
   "source": [
    "def sum_dig_pow(a, b): # range(a, b + 1) will be studied by the function\n",
    "    # your code here\n",
    "    return []"
   ]
  },
  {
   "cell_type": "code",
   "execution_count": 13,
   "id": "88067e92",
   "metadata": {},
   "outputs": [
    {
     "name": "stdout",
     "output_type": "stream",
     "text": [
      "89\n"
     ]
    }
   ],
   "source": [
    "# to get the sum\n",
    "\n",
    "\n",
    "number = 89\n",
    "stringnum = str(number)\n",
    "total = 0\n",
    "for i in range(len(stringnum)):\n",
    "    total += int(stringnum[i]) ** (i+1)\n",
    "print(total)"
   ]
  },
  {
   "cell_type": "code",
   "execution_count": 2,
   "id": "d62e1f49",
   "metadata": {},
   "outputs": [
    {
     "data": {
      "text/plain": [
       "4"
      ]
     },
     "execution_count": 2,
     "metadata": {},
     "output_type": "execute_result"
    }
   ],
   "source": [
    "len(str(1124))"
   ]
  },
  {
   "cell_type": "code",
   "execution_count": 17,
   "id": "1ece21b1",
   "metadata": {},
   "outputs": [
    {
     "name": "stdout",
     "output_type": "stream",
     "text": [
      "[]\n"
     ]
    }
   ],
   "source": [
    "# to loop through and check sums\n",
    "a, b = 90, 100\n",
    "\n",
    "\n",
    "final = []\n",
    "for number in range(a, b+1):\n",
    "    stringnum = str(number)\n",
    "    total = 0\n",
    "    for i in range(len(stringnum)):\n",
    "        total += int(stringnum[i]) ** (i+1)\n",
    "    if total == number:\n",
    "        final.append(number)\n",
    "        \n",
    "print(final)"
   ]
  },
  {
   "cell_type": "code",
   "execution_count": null,
   "id": "29071100",
   "metadata": {},
   "outputs": [],
   "source": [
    "def sum_dig_pow(a, b): # range(a, b + 1) will be studied by the function\n",
    "    final = []\n",
    "    for number in range(a, b+1):\n",
    "        stringnum = str(number)\n",
    "        total = 0\n",
    "        for i in range(len(stringnum)):\n",
    "            total += int(stringnum[i]) ** (i+1)\n",
    "        if total == number:\n",
    "            final.append(number)\n",
    "    return final"
   ]
  },
  {
   "cell_type": "markdown",
   "id": "91efd85f",
   "metadata": {},
   "source": [
    "## refactoring"
   ]
  },
  {
   "cell_type": "code",
   "execution_count": null,
   "id": "52983dbe",
   "metadata": {},
   "outputs": [],
   "source": [
    "# refactor\n",
    "\n",
    "def sum_dig_pow(a, b): # range(a, b + 1) will be studied by the function\n",
    "    final = []\n",
    "    for number in range(a, b+1):\n",
    "        stringnum = str(number)\n",
    "        total = 0\n",
    "        for i in range(len(stringnum)):\n",
    "            total += int(stringnum[i]) ** (i+1)\n",
    "        if total == number:\n",
    "            final.append(number)\n",
    "    return final\n",
    "\n"
   ]
  },
  {
   "cell_type": "code",
   "execution_count": 30,
   "id": "752df663",
   "metadata": {},
   "outputs": [
    {
     "data": {
      "text/plain": [
       "89"
      ]
     },
     "execution_count": 30,
     "metadata": {},
     "output_type": "execute_result"
    }
   ],
   "source": [
    "number=89\n",
    "sum([(int(str(number)[i]) ** (i+1)) for i in range(len(str(number)))])"
   ]
  },
  {
   "cell_type": "code",
   "execution_count": 33,
   "id": "bcfd6d62",
   "metadata": {},
   "outputs": [
    {
     "data": {
      "text/plain": [
       "[1, 2, 3, 4, 5, 6, 7, 8, 9, 89]"
      ]
     },
     "execution_count": 33,
     "metadata": {},
     "output_type": "execute_result"
    }
   ],
   "source": [
    "a, b = 1, 100\n",
    "\n",
    "[number for number in range(a, b+1) if sum([(int(str(number)[i]) ** (i+1)) for i in range(len(str(number)))]) == number]"
   ]
  },
  {
   "cell_type": "code",
   "execution_count": null,
   "id": "e56022fa",
   "metadata": {},
   "outputs": [],
   "source": [
    "# ugly 1 line list comp\n",
    "\n",
    "def sum_dig_pow(a, b):\n",
    "    return [number for number in range(a, b+1) if sum([(int(str(number)[i]) ** (i+1)) for i in range(len(str(number)))]) == number]\n"
   ]
  },
  {
   "cell_type": "code",
   "execution_count": 52,
   "id": "9840a9ed",
   "metadata": {},
   "outputs": [
    {
     "name": "stdout",
     "output_type": "stream",
     "text": [
      "8\n",
      "9\n",
      "(2, '9')\n"
     ]
    }
   ],
   "source": [
    "number = 89\n",
    "\n",
    "for i, digit in enumerate(str(number), 1):\n",
    "    print(digit)\n",
    "    \n",
    "i, digit = enumerate(str(number), 1)\n",
    "print(digit)"
   ]
  },
  {
   "cell_type": "code",
   "execution_count": 62,
   "id": "f9a319f6",
   "metadata": {},
   "outputs": [
    {
     "data": {
      "text/plain": [
       "[1, 2, 3, 4, 5, 6, 7, 8, 9, 89]"
      ]
     },
     "execution_count": 62,
     "metadata": {},
     "output_type": "execute_result"
    }
   ],
   "source": [
    "# using enumerate. cleaner\n",
    "\n",
    "number = 89\n",
    "[number for number in range(a, b+1) if sum([(int(digit) ** i) for i, digit in enumerate(str(number), 1)]) == number]"
   ]
  },
  {
   "cell_type": "markdown",
   "id": "287f3e1b",
   "metadata": {},
   "source": [
    "#### separate it into 2 functions for best pracs"
   ]
  },
  {
   "cell_type": "code",
   "execution_count": 64,
   "id": "a663fed4",
   "metadata": {},
   "outputs": [
    {
     "data": {
      "text/plain": [
       "89"
      ]
     },
     "execution_count": 64,
     "metadata": {},
     "output_type": "execute_result"
    }
   ],
   "source": [
    "def sum_pow(number):\n",
    "    return sum([(int(digit) ** i) for i, digit in enumerate(str(number), 1)])\n",
    "\n",
    "number = 89\n",
    "sum_pow(number)"
   ]
  },
  {
   "cell_type": "code",
   "execution_count": 65,
   "id": "2aaa5fcd",
   "metadata": {},
   "outputs": [
    {
     "data": {
      "text/plain": [
       "[1, 2, 3, 4, 5, 6, 7, 8, 9, 89]"
      ]
     },
     "execution_count": 65,
     "metadata": {},
     "output_type": "execute_result"
    }
   ],
   "source": [
    "def sum_dig_pow(a, b):\n",
    "    return [number for number in range(a, b+1) if number == sum_pow(number)]\n",
    "\n",
    "sum_dig_pow(1, 100)"
   ]
  },
  {
   "cell_type": "code",
   "execution_count": null,
   "id": "d9084c8f",
   "metadata": {},
   "outputs": [],
   "source": []
  }
 ],
 "metadata": {
  "kernelspec": {
   "display_name": "Python 3 (ipykernel)",
   "language": "python",
   "name": "python3"
  },
  "language_info": {
   "codemirror_mode": {
    "name": "ipython",
    "version": 3
   },
   "file_extension": ".py",
   "mimetype": "text/x-python",
   "name": "python",
   "nbconvert_exporter": "python",
   "pygments_lexer": "ipython3",
   "version": "3.10.6"
  },
  "toc": {
   "base_numbering": 1,
   "nav_menu": {},
   "number_sections": true,
   "sideBar": true,
   "skip_h1_title": false,
   "title_cell": "Table of Contents",
   "title_sidebar": "Contents",
   "toc_cell": false,
   "toc_position": {},
   "toc_section_display": true,
   "toc_window_display": false
  }
 },
 "nbformat": 4,
 "nbformat_minor": 5
}
