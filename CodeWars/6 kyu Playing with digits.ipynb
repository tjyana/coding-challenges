{
 "cells": [
  {
   "cell_type": "code",
   "execution_count": null,
   "id": "6ad6b77c",
   "metadata": {},
   "outputs": [],
   "source": [
    "Some numbers have funny properties. For example:\n",
    "\n",
    "89 --> 8¹ + 9² = 89 * 1\n",
    "695 --> 6² + 9³ + 5⁴= 1390 = 695 * 2\n",
    "46288 --> 4³ + 6⁴+ 2⁵ + 8⁶ + 8⁷ = 2360688 = 46288 * 51\n",
    "Given two positive integers n and p, we want to find a positive integer k, if it exists, such that the sum of the digits of n raised to consecutive powers starting from p is equal to k * n.\n",
    "\n",
    "If it is the case we will return k, if not return -1.\n",
    "\n",
    "Note: n and p will always be strictly positive integers.\n",
    "\n",
    "Examples:\n",
    "n = 89; p = 1 ---> 1 since 8¹ + 9² = 89 = 89 * 1\n",
    "\n",
    "n = 92; p = 1 ---> -1 since there is no k such that 9¹ + 2² equals 92 * k\n",
    "\n",
    "n = 695; p = 2 ---> 2 since 6² + 9³ + 5⁴= 1390 = 695 * 2\n",
    "\n",
    "n = 46288; p = 3 ---> 51 since 4³ + 6⁴+ 2⁵ + 8⁶ + 8⁷ = 2360688 = 46288 * 51\n"
   ]
  },
  {
   "cell_type": "code",
   "execution_count": 11,
   "id": "50b5658e",
   "metadata": {},
   "outputs": [],
   "source": [
    "def dig_pow(n, p):\n",
    "    total = 0\n",
    "    for i, number in enumerate(str(n), p):\n",
    "        total += int(number) ** i\n",
    "    return total/n if total%n == 0 else -1"
   ]
  },
  {
   "cell_type": "code",
   "execution_count": null,
   "id": "f8f141af",
   "metadata": {},
   "outputs": [],
   "source": [
    "def dig_pow(n, p):\n",
    "    total = sum([int(number) ** i for i, number in enumerate(str(n), p)]\n",
    "    return total/n if total%n == 0 else -1"
   ]
  },
  {
   "cell_type": "code",
   "execution_count": 12,
   "id": "3156143b",
   "metadata": {},
   "outputs": [],
   "source": [
    "n = 46288\n",
    "p = 3"
   ]
  },
  {
   "cell_type": "code",
   "execution_count": 13,
   "id": "8c5bb4c0",
   "metadata": {},
   "outputs": [
    {
     "data": {
      "text/plain": [
       "51.0"
      ]
     },
     "execution_count": 13,
     "metadata": {},
     "output_type": "execute_result"
    }
   ],
   "source": [
    "dig_pow(n, p)"
   ]
  },
  {
   "cell_type": "code",
   "execution_count": 7,
   "id": "4ca3bfe4",
   "metadata": {},
   "outputs": [
    {
     "data": {
      "text/plain": [
       "2360688"
      ]
     },
     "execution_count": 7,
     "metadata": {},
     "output_type": "execute_result"
    }
   ],
   "source": [
    "\n",
    "\n",
    "total = 0\n",
    "for i, number in enumerate(str(n), p):\n",
    "    total += int(number) ** i\n",
    "total"
   ]
  },
  {
   "cell_type": "code",
   "execution_count": null,
   "id": "f72c171d",
   "metadata": {},
   "outputs": [],
   "source": []
  }
 ],
 "metadata": {
  "kernelspec": {
   "display_name": "Python 3 (ipykernel)",
   "language": "python",
   "name": "python3"
  },
  "language_info": {
   "codemirror_mode": {
    "name": "ipython",
    "version": 3
   },
   "file_extension": ".py",
   "mimetype": "text/x-python",
   "name": "python",
   "nbconvert_exporter": "python",
   "pygments_lexer": "ipython3",
   "version": "3.10.6"
  },
  "toc": {
   "base_numbering": 1,
   "nav_menu": {},
   "number_sections": true,
   "sideBar": true,
   "skip_h1_title": false,
   "title_cell": "Table of Contents",
   "title_sidebar": "Contents",
   "toc_cell": false,
   "toc_position": {},
   "toc_section_display": true,
   "toc_window_display": false
  }
 },
 "nbformat": 4,
 "nbformat_minor": 5
}
