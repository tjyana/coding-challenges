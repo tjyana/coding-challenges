{
 "cells": [
  {
   "cell_type": "code",
   "execution_count": null,
   "id": "e2b6fcc8",
   "metadata": {},
   "outputs": [],
   "source": [
    "Create a function that accepts a list/array and a number n, and returns a list/array of the first n elements from the list/array.\n",
    "\n",
    "If you need help, here's a reference:\n",
    "\n",
    "https://docs.python.org/3/library/stdtypes.html#sequence-types-list-tuple-rang"
   ]
  },
  {
   "cell_type": "code",
   "execution_count": null,
   "id": "891b803a",
   "metadata": {},
   "outputs": [],
   "source": [
    "def take(arr,n):\n",
    "    return arr[0:n]"
   ]
  },
  {
   "cell_type": "code",
   "execution_count": null,
   "id": "ccb2c573",
   "metadata": {},
   "outputs": [],
   "source": []
  }
 ],
 "metadata": {
  "kernelspec": {
   "display_name": "Python 3 (ipykernel)",
   "language": "python",
   "name": "python3"
  },
  "language_info": {
   "codemirror_mode": {
    "name": "ipython",
    "version": 3
   },
   "file_extension": ".py",
   "mimetype": "text/x-python",
   "name": "python",
   "nbconvert_exporter": "python",
   "pygments_lexer": "ipython3",
   "version": "3.10.6"
  },
  "toc": {
   "base_numbering": 1,
   "nav_menu": {},
   "number_sections": true,
   "sideBar": true,
   "skip_h1_title": false,
   "title_cell": "Table of Contents",
   "title_sidebar": "Contents",
   "toc_cell": false,
   "toc_position": {},
   "toc_section_display": true,
   "toc_window_display": false
  }
 },
 "nbformat": 4,
 "nbformat_minor": 5
}
