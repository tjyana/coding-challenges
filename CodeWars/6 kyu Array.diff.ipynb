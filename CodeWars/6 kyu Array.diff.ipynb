{
 "cells": [
  {
   "cell_type": "code",
   "execution_count": null,
   "id": "07739e80",
   "metadata": {},
   "outputs": [],
   "source": [
    "Your goal in this kata is to implement a difference function, which subtracts one list from another and returns the result.\n",
    "\n",
    "It should remove all values from list a, which are present in list b keeping their order.\n",
    "\n",
    "array_diff([1,2],[1]) == [2]\n",
    "If a value is present in b, all of its occurrences must be removed from the other:\n",
    "\n",
    "array_diff([1,2,2,2,3],[2]) == [1,3]"
   ]
  },
  {
   "cell_type": "code",
   "execution_count": null,
   "id": "2bc985ca",
   "metadata": {},
   "outputs": [],
   "source": [
    "def array_diff(a, b):\n",
    "    seta = list(set(a))\n",
    "    for number in b:\n",
    "        if number in seta:\n",
    "            return seta.remove(number)\n",
    "\n"
   ]
  },
  {
   "cell_type": "code",
   "execution_count": 40,
   "id": "f71447d6",
   "metadata": {},
   "outputs": [
    {
     "data": {
      "text/plain": [
       "[1, 2, 3, 4, 5, 6]"
      ]
     },
     "execution_count": 40,
     "metadata": {},
     "output_type": "execute_result"
    }
   ],
   "source": [
    "a = [1,2,2,2,3, 4, 5, 6, 6]\n",
    "seta = list(set(a))\n",
    "seta"
   ]
  },
  {
   "cell_type": "code",
   "execution_count": 41,
   "id": "4d113749",
   "metadata": {},
   "outputs": [
    {
     "data": {
      "text/plain": [
       "[2, 3]"
      ]
     },
     "execution_count": 41,
     "metadata": {},
     "output_type": "execute_result"
    }
   ],
   "source": [
    "b = [2, 3]\n",
    "setb = list(set(b))\n",
    "setb"
   ]
  },
  {
   "cell_type": "code",
   "execution_count": 39,
   "id": "cfaf80e8",
   "metadata": {},
   "outputs": [
    {
     "ename": "TypeError",
     "evalue": "'NoneType' object is not iterable",
     "output_type": "error",
     "traceback": [
      "\u001b[0;31m---------------------------------------------------------------------------\u001b[0m",
      "\u001b[0;31mTypeError\u001b[0m                                 Traceback (most recent call last)",
      "Cell \u001b[0;32mIn [39], line 1\u001b[0m\n\u001b[0;32m----> 1\u001b[0m \u001b[38;5;28;01mfor\u001b[39;00m number \u001b[38;5;129;01min\u001b[39;00m seta:\n\u001b[1;32m      2\u001b[0m     \u001b[38;5;28;01mfor\u001b[39;00m check \u001b[38;5;129;01min\u001b[39;00m setb:\n\u001b[1;32m      3\u001b[0m         \u001b[38;5;28;01mif\u001b[39;00m check \u001b[38;5;241m==\u001b[39m number:\n",
      "\u001b[0;31mTypeError\u001b[0m: 'NoneType' object is not iterable"
     ]
    }
   ],
   "source": [
    "for number in seta:\n",
    "    for check in setb:\n",
    "        if check == number:\n",
    "            seta = seta.remove(check)\n",
    "            \n",
    "seta"
   ]
  },
  {
   "cell_type": "code",
   "execution_count": 21,
   "id": "672f6ffa",
   "metadata": {},
   "outputs": [
    {
     "data": {
      "text/plain": [
       "{1, 3, 4, 5, 6}"
      ]
     },
     "execution_count": 21,
     "metadata": {},
     "output_type": "execute_result"
    }
   ],
   "source": [
    "seta"
   ]
  },
  {
   "cell_type": "code",
   "execution_count": null,
   "id": "c23a1ebe",
   "metadata": {},
   "outputs": [],
   "source": []
  },
  {
   "cell_type": "code",
   "execution_count": 20,
   "id": "82f7050d",
   "metadata": {},
   "outputs": [],
   "source": [
    "seta.remove(2)"
   ]
  },
  {
   "cell_type": "code",
   "execution_count": 18,
   "id": "6f1bea34",
   "metadata": {},
   "outputs": [
    {
     "data": {
      "text/plain": [
       "[1, 3, 4, 5, 6]"
      ]
     },
     "execution_count": 18,
     "metadata": {},
     "output_type": "execute_result"
    }
   ],
   "source": [
    "lista"
   ]
  },
  {
   "cell_type": "code",
   "execution_count": 11,
   "id": "b80be9b0",
   "metadata": {},
   "outputs": [],
   "source": [
    "lista = list(seta)"
   ]
  },
  {
   "cell_type": "code",
   "execution_count": 56,
   "id": "dc0deaae",
   "metadata": {},
   "outputs": [
    {
     "ename": "AttributeError",
     "evalue": "'NoneType' object has no attribute 'remove'",
     "output_type": "error",
     "traceback": [
      "\u001b[0;31m---------------------------------------------------------------------------\u001b[0m",
      "\u001b[0;31mAttributeError\u001b[0m                            Traceback (most recent call last)",
      "Cell \u001b[0;32mIn [56], line 7\u001b[0m\n\u001b[1;32m      5\u001b[0m \u001b[38;5;28;01mfor\u001b[39;00m number \u001b[38;5;129;01min\u001b[39;00m seta:\n\u001b[1;32m      6\u001b[0m     \u001b[38;5;28;01mfor\u001b[39;00m getridof \u001b[38;5;129;01min\u001b[39;00m setb:\n\u001b[0;32m----> 7\u001b[0m         seta \u001b[38;5;241m=\u001b[39m \u001b[43mseta\u001b[49m\u001b[38;5;241;43m.\u001b[39;49m\u001b[43mremove\u001b[49m(getridof)\n\u001b[1;32m      9\u001b[0m \u001b[38;5;28mprint\u001b[39m(seta)\n",
      "\u001b[0;31mAttributeError\u001b[0m: 'NoneType' object has no attribute 'remove'"
     ]
    }
   ],
   "source": []
  },
  {
   "cell_type": "code",
   "execution_count": 72,
   "id": "2864f227",
   "metadata": {},
   "outputs": [
    {
     "name": "stdout",
     "output_type": "stream",
     "text": [
      "None\n",
      "[1, 3, 4, 5, 6]\n",
      "None\n",
      "[1, 4, 5, 6]\n",
      "None\n",
      "[1, 5, 6]\n",
      "None\n",
      "[1, 6]\n"
     ]
    }
   ],
   "source": [
    "a = [1,2,2,2,3, 4, 5, 6, 6]\n",
    "\n",
    "\n",
    "b = [2, 3, 4, 5]\n",
    "\n",
    "for number in b:\n",
    "    if number in seta:\n",
    "        seta.remove(number)\n",
    "    print(seta)"
   ]
  },
  {
   "cell_type": "code",
   "execution_count": 77,
   "id": "1eb7d068",
   "metadata": {},
   "outputs": [
    {
     "data": {
      "text/plain": [
       "[1, 2, 3, 4, 5, 6]"
      ]
     },
     "execution_count": 77,
     "metadata": {},
     "output_type": "execute_result"
    }
   ],
   "source": [
    "a = [1,2,2,2,3, 4, 5, 6, 6]\n",
    "seta = list(set(a))\n",
    "seta"
   ]
  },
  {
   "cell_type": "code",
   "execution_count": 78,
   "id": "f11cb7d6",
   "metadata": {},
   "outputs": [
    {
     "name": "stdout",
     "output_type": "stream",
     "text": [
      "None\n"
     ]
    }
   ],
   "source": [
    "print(seta.remove(3))"
   ]
  },
  {
   "cell_type": "code",
   "execution_count": 84,
   "id": "cb525926",
   "metadata": {},
   "outputs": [
    {
     "data": {
      "text/plain": [
       "[1, 6, 6]"
      ]
     },
     "execution_count": 84,
     "metadata": {},
     "output_type": "execute_result"
    }
   ],
   "source": [
    "a = [1,2,2,2,3, 4, 5, 6, 6]\n",
    "\n",
    "b = [2, 3, 4, 5]\n",
    "\n",
    "final = []\n",
    "for number in a:\n",
    "    if number not in b:\n",
    "        final.append(number)\n",
    "final\n",
    "    \n"
   ]
  },
  {
   "cell_type": "code",
   "execution_count": 85,
   "id": "382929fe",
   "metadata": {},
   "outputs": [
    {
     "data": {
      "text/plain": [
       "[1, 6, 6]"
      ]
     },
     "execution_count": 85,
     "metadata": {},
     "output_type": "execute_result"
    }
   ],
   "source": [
    "[number for number in a if number not in b]"
   ]
  },
  {
   "cell_type": "markdown",
   "id": "444374ce",
   "metadata": {},
   "source": [
    "moral of the story: \n",
    "instead of removing stuff, build a new list instead"
   ]
  }
 ],
 "metadata": {
  "kernelspec": {
   "display_name": "Python 3 (ipykernel)",
   "language": "python",
   "name": "python3"
  },
  "language_info": {
   "codemirror_mode": {
    "name": "ipython",
    "version": 3
   },
   "file_extension": ".py",
   "mimetype": "text/x-python",
   "name": "python",
   "nbconvert_exporter": "python",
   "pygments_lexer": "ipython3",
   "version": "3.10.6"
  },
  "toc": {
   "base_numbering": 1,
   "nav_menu": {},
   "number_sections": true,
   "sideBar": true,
   "skip_h1_title": false,
   "title_cell": "Table of Contents",
   "title_sidebar": "Contents",
   "toc_cell": false,
   "toc_position": {},
   "toc_section_display": true,
   "toc_window_display": false
  }
 },
 "nbformat": 4,
 "nbformat_minor": 5
}
