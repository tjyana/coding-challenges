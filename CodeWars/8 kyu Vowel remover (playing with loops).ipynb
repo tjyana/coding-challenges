{
 "cells": [
  {
   "cell_type": "code",
   "execution_count": null,
   "id": "e0b60241",
   "metadata": {},
   "outputs": [],
   "source": []
  },
  {
   "cell_type": "code",
   "execution_count": null,
   "id": "c67a90ec",
   "metadata": {},
   "outputs": [],
   "source": []
  },
  {
   "cell_type": "code",
   "execution_count": 18,
   "id": "d09493fd",
   "metadata": {},
   "outputs": [
    {
     "ename": "TypeError",
     "evalue": "str.translate() takes exactly one argument (2 given)",
     "output_type": "error",
     "traceback": [
      "\u001b[0;31m---------------------------------------------------------------------------\u001b[0m",
      "\u001b[0;31mTypeError\u001b[0m                                 Traceback (most recent call last)",
      "Cell \u001b[0;32mIn [18], line 4\u001b[0m\n\u001b[1;32m      1\u001b[0m vowels \u001b[38;5;241m=\u001b[39m [\u001b[38;5;124m'\u001b[39m\u001b[38;5;124ma\u001b[39m\u001b[38;5;124m'\u001b[39m, \u001b[38;5;124m'\u001b[39m\u001b[38;5;124me\u001b[39m\u001b[38;5;124m'\u001b[39m, \u001b[38;5;124m'\u001b[39m\u001b[38;5;124mi\u001b[39m\u001b[38;5;124m'\u001b[39m, \u001b[38;5;124m'\u001b[39m\u001b[38;5;124mo\u001b[39m\u001b[38;5;124m'\u001b[39m, \u001b[38;5;124m'\u001b[39m\u001b[38;5;124mu\u001b[39m\u001b[38;5;124m'\u001b[39m]\n\u001b[1;32m      2\u001b[0m string \u001b[38;5;241m=\u001b[39m \u001b[38;5;124m'\u001b[39m\u001b[38;5;124mhello\u001b[39m\u001b[38;5;124m'\u001b[39m\n\u001b[0;32m----> 4\u001b[0m \u001b[43mstring\u001b[49m\u001b[38;5;241;43m.\u001b[39;49m\u001b[43mtranslate\u001b[49m\u001b[43m(\u001b[49m\u001b[38;5;28;43;01mNone\u001b[39;49;00m\u001b[43m,\u001b[49m\u001b[43m \u001b[49m\u001b[38;5;124;43m'\u001b[39;49m\u001b[38;5;124;43maeiou\u001b[39;49m\u001b[38;5;124;43m'\u001b[39;49m\u001b[43m)\u001b[49m\n",
      "\u001b[0;31mTypeError\u001b[0m: str.translate() takes exactly one argument (2 given)"
     ]
    }
   ],
   "source": [
    "vowels = ['a', 'e', 'i', 'o', 'u']\n",
    "string = 'hello'\n",
    "\n",
    "string.translate(None, 'aeiou')  "
   ]
  },
  {
   "cell_type": "code",
   "execution_count": 3,
   "id": "209e4223",
   "metadata": {},
   "outputs": [
    {
     "ename": "TypeError",
     "evalue": "'in <string>' requires string as left operand, not list",
     "output_type": "error",
     "traceback": [
      "\u001b[0;31m---------------------------------------------------------------------------\u001b[0m",
      "\u001b[0;31mTypeError\u001b[0m                                 Traceback (most recent call last)",
      "Cell \u001b[0;32mIn [3], line 3\u001b[0m\n\u001b[1;32m      1\u001b[0m string \u001b[38;5;241m=\u001b[39m \u001b[38;5;124m'\u001b[39m\u001b[38;5;124mhello\u001b[39m\u001b[38;5;124m'\u001b[39m\n\u001b[1;32m      2\u001b[0m \u001b[38;5;28;01mfor\u001b[39;00m letter \u001b[38;5;129;01min\u001b[39;00m string:\n\u001b[0;32m----> 3\u001b[0m     \u001b[38;5;28;01mif\u001b[39;00m \u001b[43mvowels\u001b[49m\u001b[43m \u001b[49m\u001b[38;5;129;43;01min\u001b[39;49;00m\u001b[43m \u001b[49m\u001b[43mstring\u001b[49m:\n\u001b[1;32m      4\u001b[0m         final_word \u001b[38;5;241m=\u001b[39m string\u001b[38;5;241m.\u001b[39mremove(\u001b[38;5;124m'\u001b[39m\u001b[38;5;124mvowels\u001b[39m\u001b[38;5;124m'\u001b[39m)\n\u001b[1;32m      6\u001b[0m final_word\n",
      "\u001b[0;31mTypeError\u001b[0m: 'in <string>' requires string as left operand, not list"
     ]
    }
   ],
   "source": [
    "string = 'hello'\n",
    "for letter in string:\n",
    "    if vowels in string:\n",
    "        final_word = string.remove('vowels')\n",
    "        \n",
    "final_word\n"
   ]
  },
  {
   "cell_type": "code",
   "execution_count": null,
   "id": "b974149d",
   "metadata": {},
   "outputs": [],
   "source": [
    "# in looks at if strings are in a list"
   ]
  },
  {
   "cell_type": "code",
   "execution_count": null,
   "id": "62b09e53",
   "metadata": {},
   "outputs": [],
   "source": [
    "# new_str = test_str.replace('CHARACTER_TO_REMOVE', 'WHAT_TO_REPLACE_WITH')"
   ]
  },
  {
   "cell_type": "code",
   "execution_count": 62,
   "id": "1fc4ddc6",
   "metadata": {},
   "outputs": [
    {
     "data": {
      "text/plain": [
       "['h', 'e', 'l', 'l', 'o']"
      ]
     },
     "execution_count": 62,
     "metadata": {},
     "output_type": "execute_result"
    }
   ],
   "source": [
    "string = 'hello'\n",
    "vowels = ['a', 'e', 'i', 'o', 'u']\n",
    "\n",
    "new = list(string)\n",
    "\n",
    "new\n",
    "# ''.join(new)"
   ]
  },
  {
   "cell_type": "code",
   "execution_count": null,
   "id": "535b3914",
   "metadata": {},
   "outputs": [],
   "source": [
    "new.remove('o')\n",
    "new"
   ]
  },
  {
   "cell_type": "code",
   "execution_count": null,
   "id": "b3cef070",
   "metadata": {},
   "outputs": [],
   "source": []
  },
  {
   "cell_type": "code",
   "execution_count": 65,
   "id": "028056e6",
   "metadata": {},
   "outputs": [
    {
     "name": "stdout",
     "output_type": "stream",
     "text": [
      "hello a\n",
      "hello e\n",
      "hllo i\n",
      "hello o\n",
      "hell u\n"
     ]
    }
   ],
   "source": [
    "string = 'hello'\n",
    "vowels = ['a', 'e', 'i', 'o', 'u']\n",
    "\n",
    "for vowel in vowels:\n",
    "    print(new_string, vowel)\n",
    "    new_string = string.replace(vowel, '')\n",
    "# new_string\n"
   ]
  },
  {
   "cell_type": "markdown",
   "id": "40be627a",
   "metadata": {},
   "source": [
    "## re-assigning to original variable vs new variable is giving a different output??"
   ]
  },
  {
   "cell_type": "code",
   "execution_count": 35,
   "id": "89aa77f3",
   "metadata": {},
   "outputs": [],
   "source": [
    "string = 'hello'\n",
    "vowels = ['a', 'e', 'i', 'o', 'u']"
   ]
  },
  {
   "cell_type": "code",
   "execution_count": 45,
   "id": "5fbcf5cb",
   "metadata": {},
   "outputs": [
    {
     "name": "stdout",
     "output_type": "stream",
     "text": [
      "hello a\n",
      "hello e\n",
      "hllo i\n",
      "hello o\n",
      "hell u\n"
     ]
    }
   ],
   "source": [
    "string = 'hello'\n",
    "vowels = ['a', 'e', 'i', 'o', 'u']\n",
    "\n",
    "for vowel in vowels:\n",
    "    print(new_string, vowel)\n",
    "    new_string = string.replace(vowel, '')\n",
    "# new_string"
   ]
  },
  {
   "cell_type": "code",
   "execution_count": 46,
   "id": "67f02544",
   "metadata": {},
   "outputs": [
    {
     "name": "stdout",
     "output_type": "stream",
     "text": [
      "hello a\n",
      "hllo e\n",
      "hello i\n",
      "hell o\n",
      "hello u\n"
     ]
    }
   ],
   "source": [
    "string = 'hello'\n",
    "vowels = ['a', 'e', 'i', 'o', 'u']\n",
    "\n",
    "for vowel in vowels:\n",
    "    new_string = string.replace(vowel, '')\n",
    "    print(new_string, vowel)\n",
    "\n",
    "# new_string"
   ]
  },
  {
   "cell_type": "code",
   "execution_count": 44,
   "id": "28a8ac79",
   "metadata": {},
   "outputs": [
    {
     "name": "stdout",
     "output_type": "stream",
     "text": [
      "hello a\n",
      "hello e\n",
      "hllo i\n",
      "hllo o\n",
      "hll u\n"
     ]
    }
   ],
   "source": [
    "string = 'hello'\n",
    "vowels = ['a', 'e', 'i', 'o', 'u']\n",
    "\n",
    "for vowel in vowels:\n",
    "    print(string, vowel)\n",
    "    string = string.replace(vowel, '')\n",
    "# string"
   ]
  },
  {
   "cell_type": "code",
   "execution_count": 43,
   "id": "1ba06360",
   "metadata": {},
   "outputs": [
    {
     "name": "stdout",
     "output_type": "stream",
     "text": [
      "hello a\n",
      "hllo e\n",
      "hllo i\n",
      "hll o\n",
      "hll u\n"
     ]
    }
   ],
   "source": [
    "string = 'hello'\n",
    "vowels = ['a', 'e', 'i', 'o', 'u']\n",
    "\n",
    "for vowel in vowels:\n",
    "    string = string.replace(vowel, '')\n",
    "    print(string, vowel)\n",
    "# string"
   ]
  },
  {
   "cell_type": "code",
   "execution_count": 28,
   "id": "8c27cb84",
   "metadata": {},
   "outputs": [
    {
     "data": {
      "text/plain": [
       "'hll'"
      ]
     },
     "execution_count": 28,
     "metadata": {},
     "output_type": "execute_result"
    }
   ],
   "source": [
    "string.replace('a', '').replace('e', '').replace('i', '').replace('o', '').replace('u', '')\n"
   ]
  },
  {
   "cell_type": "code",
   "execution_count": null,
   "id": "bccf9ac0",
   "metadata": {},
   "outputs": [],
   "source": [
    "# submitted solution\n",
    "\n",
    "def shortcut( s ):\n",
    "    return s.replace(\"a\", \"\").replace(\"e\", \"\").replace(\"i\",\"\").replace(\"o\",\"\").replace(\"u\",\"\")"
   ]
  },
  {
   "cell_type": "markdown",
   "id": "a4be5b09",
   "metadata": {},
   "source": [
    "### best solutions"
   ]
  },
  {
   "cell_type": "code",
   "execution_count": 26,
   "id": "ff9f81b8",
   "metadata": {},
   "outputs": [],
   "source": [
    "def shortcut(s):\n",
    "    return ''.join(c for c in s if c not in 'aeiou')"
   ]
  },
  {
   "cell_type": "code",
   "execution_count": 27,
   "id": "3e49b08d",
   "metadata": {},
   "outputs": [],
   "source": [
    "def shortcut( s ):\n",
    "    for vowel in \"aeiou\":\n",
    "        s = s.replace(vowel, \"\")\n",
    "    return s"
   ]
  },
  {
   "cell_type": "code",
   "execution_count": null,
   "id": "d56e8c1b",
   "metadata": {},
   "outputs": [],
   "source": []
  }
 ],
 "metadata": {
  "kernelspec": {
   "display_name": "Python 3 (ipykernel)",
   "language": "python",
   "name": "python3"
  },
  "language_info": {
   "codemirror_mode": {
    "name": "ipython",
    "version": 3
   },
   "file_extension": ".py",
   "mimetype": "text/x-python",
   "name": "python",
   "nbconvert_exporter": "python",
   "pygments_lexer": "ipython3",
   "version": "3.10.6"
  },
  "toc": {
   "base_numbering": 1,
   "nav_menu": {},
   "number_sections": true,
   "sideBar": true,
   "skip_h1_title": false,
   "title_cell": "Table of Contents",
   "title_sidebar": "Contents",
   "toc_cell": false,
   "toc_position": {},
   "toc_section_display": true,
   "toc_window_display": false
  }
 },
 "nbformat": 4,
 "nbformat_minor": 5
}
