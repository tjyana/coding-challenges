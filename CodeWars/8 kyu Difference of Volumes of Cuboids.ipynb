{
 "cells": [
  {
   "cell_type": "code",
   "execution_count": null,
   "id": "a88475ce",
   "metadata": {},
   "outputs": [],
   "source": [
    "In this simple exercise, you will create a program that will take two lists of integers, a and b. Each list will consist of 3 positive integers above 0, representing the dimensions of cuboids a and b. You must find the difference of the cuboids' volumes regardless of which is bigger.\n",
    "\n",
    "For example, if the parameters passed are ([2, 2, 3], [5, 4, 1]), the volume of a is 12 and the volume of b is 20. Therefore, the function should return 8.\n",
    "\n",
    "Your function will be tested with pre-made examples as well as random ones.\n",
    "\n",
    "If you can, try writing it in one line of code."
   ]
  },
  {
   "cell_type": "code",
   "execution_count": null,
   "id": "1e55a985",
   "metadata": {},
   "outputs": [],
   "source": []
  },
  {
   "cell_type": "code",
   "execution_count": null,
   "id": "2bdbef38",
   "metadata": {},
   "outputs": [],
   "source": [
    "import numpy as np\n",
    "\n",
    "def find_difference(a, b):\n",
    "    return abs(np.prod(a) - np.prod(b))"
   ]
  },
  {
   "cell_type": "code",
   "execution_count": 1,
   "id": "e0453430",
   "metadata": {},
   "outputs": [],
   "source": [
    "# can also import differently\n",
    "\n",
    "from numpy import prod\n",
    "\n",
    "def find_difference(a, b):\n",
    "    return abs(prod(a) - prod(b))"
   ]
  },
  {
   "cell_type": "code",
   "execution_count": null,
   "id": "326ad256",
   "metadata": {},
   "outputs": [],
   "source": []
  }
 ],
 "metadata": {
  "kernelspec": {
   "display_name": "Python 3 (ipykernel)",
   "language": "python",
   "name": "python3"
  },
  "language_info": {
   "codemirror_mode": {
    "name": "ipython",
    "version": 3
   },
   "file_extension": ".py",
   "mimetype": "text/x-python",
   "name": "python",
   "nbconvert_exporter": "python",
   "pygments_lexer": "ipython3",
   "version": "3.10.6"
  },
  "toc": {
   "base_numbering": 1,
   "nav_menu": {},
   "number_sections": true,
   "sideBar": true,
   "skip_h1_title": false,
   "title_cell": "Table of Contents",
   "title_sidebar": "Contents",
   "toc_cell": false,
   "toc_position": {},
   "toc_section_display": true,
   "toc_window_display": false
  }
 },
 "nbformat": 4,
 "nbformat_minor": 5
}
