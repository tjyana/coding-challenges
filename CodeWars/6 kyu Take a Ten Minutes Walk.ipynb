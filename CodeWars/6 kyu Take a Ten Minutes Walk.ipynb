{
 "cells": [
  {
   "cell_type": "markdown",
   "id": "c07c297b",
   "metadata": {},
   "source": [
    "You live in the city of Cartesia where all roads are laid out in a perfect grid. You arrived ten minutes too early to an appointment, so you decided to take the opportunity to go for a short walk. The city provides its citizens with a Walk Generating App on their phones -- everytime you press the button it sends you an array of one-letter strings representing directions to walk (eg. ['n', 's', 'w', 'e']). You always walk only a single block for each letter (direction) and you know it takes you one minute to traverse one city block, so create a function that will return true if the walk the app gives you will take you exactly ten minutes (you don't want to be early or late!) and will, of course, return you to your starting point. Return false otherwise.\n",
    "\n",
    "Note: you will always receive a valid array containing a random assortment of direction letters ('n', 's', 'e', or 'w' only). It will never give you an empty array (that's not a walk, that's standing still!)."
   ]
  },
  {
   "cell_type": "code",
   "execution_count": 8,
   "id": "314499c0",
   "metadata": {},
   "outputs": [],
   "source": [
    "def is_valid_walk(walk):\n",
    "    x, y = 0, 0\n",
    "    movement = {\n",
    "        'n': (0, 1), \n",
    "        's': (0, -1), \n",
    "        'w': (-1, 0), \n",
    "        'e': (1, 0)\n",
    "    }\n",
    "    \n",
    "    for direction in walk:\n",
    "        dx, dy = movement[direction]\n",
    "        x += dx\n",
    "        y += dy\n",
    "    if (x, y) == (0, 0) and len(walk) == 10:\n",
    "        return True \n",
    "\n"
   ]
  },
  {
   "cell_type": "code",
   "execution_count": 7,
   "id": "3e545228",
   "metadata": {},
   "outputs": [
    {
     "name": "stdout",
     "output_type": "stream",
     "text": [
      "0 1\n",
      "0 1\n",
      "0 -1\n",
      "0 0\n",
      "-1 0\n",
      "-1 0\n",
      "1 0\n",
      "0 0\n",
      "0 0\n"
     ]
    }
   ],
   "source": [
    "walk = ['n', 's', 'w', 'e']\n",
    "\n",
    "x, y = 0, 0\n",
    "movement = {\n",
    "    'n': (0, 1), \n",
    "    's': (0, -1), \n",
    "    'w': (-1, 0), \n",
    "    'e': (1, 0)\n",
    "}\n",
    "\n",
    "for direction in walk:\n",
    "    dx, dy = movement[direction]\n",
    "    print(dx, dy)\n",
    "    x += dx\n",
    "    y += dy\n",
    "    print(x, y)\n",
    "print(x, y)"
   ]
  },
  {
   "cell_type": "code",
   "execution_count": 10,
   "id": "0cc17205",
   "metadata": {},
   "outputs": [
    {
     "data": {
      "text/plain": [
       "False"
      ]
     },
     "execution_count": 10,
     "metadata": {},
     "output_type": "execute_result"
    }
   ],
   "source": [
    "dx, dy = 1, -1\n",
    "x += dx\n",
    "y += dy\n",
    "(x, y) == (0, 0)"
   ]
  },
  {
   "cell_type": "code",
   "execution_count": 11,
   "id": "ef741991",
   "metadata": {},
   "outputs": [
    {
     "data": {
      "text/plain": [
       "4"
      ]
     },
     "execution_count": 11,
     "metadata": {},
     "output_type": "execute_result"
    }
   ],
   "source": [
    "len(walk)"
   ]
  },
  {
   "cell_type": "code",
   "execution_count": 12,
   "id": "c928433a",
   "metadata": {},
   "outputs": [],
   "source": [
    "# to keep track\n",
    "\n",
    "def is_valid_walk(walk):\n",
    "    x, y = 0, 0\n",
    "    movement = {\n",
    "        'n': (0, 1), \n",
    "        's': (0, -1), \n",
    "        'w': (-1, 0), \n",
    "        'e': (1, 0)\n",
    "    }\n",
    "    \n",
    "    for direction in walk:\n",
    "        dx, dy = movement[direction]\n",
    "        x += dx\n",
    "        y += dy\n",
    "    return True if (x, y) == (0, 0) and len(walk) == 10 else False\n",
    "\n"
   ]
  },
  {
   "cell_type": "code",
   "execution_count": 13,
   "id": "7be2b16f",
   "metadata": {},
   "outputs": [
    {
     "data": {
      "text/plain": [
       "False"
      ]
     },
     "execution_count": 13,
     "metadata": {},
     "output_type": "execute_result"
    }
   ],
   "source": [
    "walk = ['w','e','w','e','w','e','w','e','w','e','w','e']\n",
    "\n",
    "is_valid_walk(walk)"
   ]
  },
  {
   "cell_type": "code",
   "execution_count": null,
   "id": "0bee8f33",
   "metadata": {},
   "outputs": [],
   "source": []
  },
  {
   "cell_type": "code",
   "execution_count": null,
   "id": "bb882b42",
   "metadata": {},
   "outputs": [],
   "source": []
  },
  {
   "cell_type": "code",
   "execution_count": 14,
   "id": "c82510bf",
   "metadata": {},
   "outputs": [],
   "source": [
    "# logical\n",
    "\n",
    "def isValidWalk(walk):\n",
    "    return len(walk) == 10 and walk.count('n') == walk.count('s') and walk.count('e') == walk.count('w')"
   ]
  },
  {
   "cell_type": "code",
   "execution_count": null,
   "id": "1b92021f",
   "metadata": {},
   "outputs": [],
   "source": []
  },
  {
   "cell_type": "code",
   "execution_count": 15,
   "id": "f48a8416",
   "metadata": {},
   "outputs": [],
   "source": [
    "# no need for dict\n",
    "\n",
    "def isValidWalk(walk):\n",
    "    if len(walk) != 10:\n",
    "        return False\n",
    "\n",
    "    x, y = 0, 0\n",
    "\n",
    "    for direction in walk:\n",
    "        if direction == 'n':\n",
    "            y += 1\n",
    "        elif direction == 's':\n",
    "            y -= 1\n",
    "        elif direction == 'e':\n",
    "            x += 1\n",
    "        elif direction == 'w':\n",
    "            x -= 1\n",
    "        else:\n",
    "            return False\n",
    "\n",
    "    return x == 0 and y == 0"
   ]
  },
  {
   "cell_type": "code",
   "execution_count": null,
   "id": "9cc32261",
   "metadata": {},
   "outputs": [],
   "source": []
  }
 ],
 "metadata": {
  "kernelspec": {
   "display_name": "Python 3 (ipykernel)",
   "language": "python",
   "name": "python3"
  },
  "language_info": {
   "codemirror_mode": {
    "name": "ipython",
    "version": 3
   },
   "file_extension": ".py",
   "mimetype": "text/x-python",
   "name": "python",
   "nbconvert_exporter": "python",
   "pygments_lexer": "ipython3",
   "version": "3.10.6"
  },
  "toc": {
   "base_numbering": 1,
   "nav_menu": {},
   "number_sections": true,
   "sideBar": true,
   "skip_h1_title": false,
   "title_cell": "Table of Contents",
   "title_sidebar": "Contents",
   "toc_cell": false,
   "toc_position": {},
   "toc_section_display": true,
   "toc_window_display": false
  }
 },
 "nbformat": 4,
 "nbformat_minor": 5
}
