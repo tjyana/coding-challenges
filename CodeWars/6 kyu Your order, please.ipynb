{
 "cells": [
  {
   "cell_type": "code",
   "execution_count": null,
   "id": "3ccf2ac4",
   "metadata": {},
   "outputs": [],
   "source": [
    "Your task is to sort a given string. Each word in the string will contain a single number. This number is the position the word should have in the result.\n",
    "\n",
    "Note: Numbers can be from 1 to 9. So 1 will be the first word (not 0).\n",
    "\n",
    "If the input string is empty, return an empty string. The words in the input String will only contain valid consecutive numbers.\n",
    "\n",
    "Examples\n",
    "\"is2 Thi1s T4est 3a\"  -->  \"Thi1s is2 3a T4est\"\n",
    "\"4of Fo1r pe6ople g3ood th5e the2\"  -->  \"Fo1r the2 g3ood 4of th5e pe6ople\"\n",
    "\"\"  -->  \"\""
   ]
  },
  {
   "cell_type": "code",
   "execution_count": null,
   "id": "29c057f5",
   "metadata": {},
   "outputs": [],
   "source": [
    "def order(sentence):\n",
    "  # code here\n",
    "  return"
   ]
  },
  {
   "cell_type": "code",
   "execution_count": 2,
   "id": "0851982a",
   "metadata": {},
   "outputs": [],
   "source": [
    "sentence = \"4of Fo1r pe6ople g3ood th5e the2\"\n",
    "words = sentence.split()"
   ]
  },
  {
   "cell_type": "code",
   "execution_count": null,
   "id": "79adcd1f",
   "metadata": {},
   "outputs": [],
   "source": [
    "for word in words:\n",
    "    for letter in word:\n",
    "        print(letter.isalpha())"
   ]
  },
  {
   "cell_type": "code",
   "execution_count": null,
   "id": "821158ef",
   "metadata": {},
   "outputs": [],
   "source": [
    "for word in words:\n",
    "    if letter in word"
   ]
  },
  {
   "cell_type": "code",
   "execution_count": null,
   "id": "fd35ff44",
   "metadata": {},
   "outputs": [],
   "source": [
    "create dict with \n",
    "1: Fo1r, 2: the2, etc"
   ]
  },
  {
   "cell_type": "code",
   "execution_count": 9,
   "id": "889eee4d",
   "metadata": {},
   "outputs": [],
   "source": [
    "if word in words == True:\n",
    "    print('word')"
   ]
  },
  {
   "cell_type": "code",
   "execution_count": null,
   "id": "29ceaf0c",
   "metadata": {},
   "outputs": [],
   "source": [
    "sentence = \"4of Fo1r pe6ople g3ood th5e the2\"\n",
    "words = sentence.split()\n",
    "numbers = {}\n",
    "for word in words:\n",
    "    for letter in word:\n",
    "        for i in range(len(words)):\n",
    "            if letter.isdigit() == i:\n",
    "                numbers.key = i\n",
    "                numbers[i] = word"
   ]
  },
  {
   "cell_type": "code",
   "execution_count": null,
   "id": "f04b0047",
   "metadata": {},
   "outputs": [],
   "source": []
  },
  {
   "cell_type": "code",
   "execution_count": null,
   "id": "9721eb22",
   "metadata": {},
   "outputs": [],
   "source": []
  }
 ],
 "metadata": {
  "kernelspec": {
   "display_name": "Python 3 (ipykernel)",
   "language": "python",
   "name": "python3"
  },
  "language_info": {
   "codemirror_mode": {
    "name": "ipython",
    "version": 3
   },
   "file_extension": ".py",
   "mimetype": "text/x-python",
   "name": "python",
   "nbconvert_exporter": "python",
   "pygments_lexer": "ipython3",
   "version": "3.10.6"
  },
  "toc": {
   "base_numbering": 1,
   "nav_menu": {},
   "number_sections": true,
   "sideBar": true,
   "skip_h1_title": false,
   "title_cell": "Table of Contents",
   "title_sidebar": "Contents",
   "toc_cell": false,
   "toc_position": {},
   "toc_section_display": true,
   "toc_window_display": false
  }
 },
 "nbformat": 4,
 "nbformat_minor": 5
}
