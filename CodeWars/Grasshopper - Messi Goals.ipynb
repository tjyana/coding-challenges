{
 "cells": [
  {
   "cell_type": "code",
   "execution_count": null,
   "id": "5c1fbad0",
   "metadata": {},
   "outputs": [],
   "source": [
    "Messi's Goal Total\n",
    "Use variables to find the sum of the goals Messi scored in 3 competitions\n",
    "\n",
    "Information\n",
    "Messi goal scoring statistics:\n",
    "\n",
    "Competition\tGoals\n",
    "La Liga\t43\n",
    "Champions League\t10\n",
    "Copa del Rey\t5\n",
    "Task\n",
    "Create these three variables and store the appropriate values using the table above:\n",
    "la_liga_goals\n",
    "champions_league_goals\n",
    "copa_del_rey_goals\n",
    "Create a fourth variable named total_goals that stores the sum of all of Messi's goals for this year."
   ]
  },
  {
   "cell_type": "code",
   "execution_count": 1,
   "id": "c97cb8a0",
   "metadata": {},
   "outputs": [],
   "source": [
    "la_liga_goals = 43\n",
    "champions_league_goals = 10\n",
    "copa_del_rey_goals = 5\n",
    "\n",
    "total_goals = la_liga_goals + champions_league_goals + copa_del_rey_goals"
   ]
  },
  {
   "cell_type": "code",
   "execution_count": null,
   "id": "293b5e33",
   "metadata": {},
   "outputs": [],
   "source": []
  }
 ],
 "metadata": {
  "kernelspec": {
   "display_name": "Python 3 (ipykernel)",
   "language": "python",
   "name": "python3"
  },
  "language_info": {
   "codemirror_mode": {
    "name": "ipython",
    "version": 3
   },
   "file_extension": ".py",
   "mimetype": "text/x-python",
   "name": "python",
   "nbconvert_exporter": "python",
   "pygments_lexer": "ipython3",
   "version": "3.10.6"
  },
  "toc": {
   "base_numbering": 1,
   "nav_menu": {},
   "number_sections": true,
   "sideBar": true,
   "skip_h1_title": false,
   "title_cell": "Table of Contents",
   "title_sidebar": "Contents",
   "toc_cell": false,
   "toc_position": {},
   "toc_section_display": true,
   "toc_window_display": false
  }
 },
 "nbformat": 4,
 "nbformat_minor": 5
}
