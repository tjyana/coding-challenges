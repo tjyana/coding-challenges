{
 "cells": [
  {
   "cell_type": "markdown",
   "id": "157714b4",
   "metadata": {},
   "source": [
    "The main idea is to count all the occurring characters in a string. If you have a string like aba, then the result should be {'a': 2, 'b': 1}.\n",
    "\n",
    "What if the string is empty? Then the result should be empty object literal, {}."
   ]
  },
  {
   "cell_type": "code",
   "execution_count": null,
   "id": "4b08bdad",
   "metadata": {},
   "outputs": [],
   "source": [
    "def count(s):\n",
    "    # The function code should be here\n",
    "    return {}"
   ]
  },
  {
   "cell_type": "code",
   "execution_count": 2,
   "id": "6f1e764c",
   "metadata": {},
   "outputs": [],
   "source": [
    "string = 'asdjfeicuzxck'\n",
    "result = {}\n",
    "count = 0"
   ]
  },
  {
   "cell_type": "code",
   "execution_count": null,
   "id": "4d209bb8",
   "metadata": {},
   "outputs": [],
   "source": [
    "for letter in string:\n",
    "    if \n",
    "    result.append(letter: )"
   ]
  },
  {
   "cell_type": "code",
   "execution_count": 3,
   "id": "535ba29a",
   "metadata": {},
   "outputs": [
    {
     "data": {
      "text/plain": [
       "['a', 's', 'd', 'j', 'f', 'e', 'i', 'c', 'u', 'z', 'x', 'c', 'k']"
      ]
     },
     "execution_count": 3,
     "metadata": {},
     "output_type": "execute_result"
    }
   ],
   "source": [
    "# first: count each letter\n",
    "list(string)"
   ]
  },
  {
   "cell_type": "code",
   "execution_count": 15,
   "id": "ae54e968",
   "metadata": {},
   "outputs": [
    {
     "ename": "AttributeError",
     "evalue": "'dict' object has no attribute 'append'",
     "output_type": "error",
     "traceback": [
      "\u001b[0;31m---------------------------------------------------------------------------\u001b[0m",
      "\u001b[0;31mAttributeError\u001b[0m                            Traceback (most recent call last)",
      "Cell \u001b[0;32mIn [15], line 4\u001b[0m\n\u001b[1;32m      2\u001b[0m \u001b[38;5;28;01mfor\u001b[39;00m letter \u001b[38;5;129;01min\u001b[39;00m string:\n\u001b[1;32m      3\u001b[0m     value \u001b[38;5;241m=\u001b[39m string\u001b[38;5;241m.\u001b[39mcount(letter)\n\u001b[0;32m----> 4\u001b[0m     \u001b[43mresult\u001b[49m\u001b[38;5;241;43m.\u001b[39;49m\u001b[43mappend\u001b[49m({letter: value})\n",
      "\u001b[0;31mAttributeError\u001b[0m: 'dict' object has no attribute 'append'"
     ]
    }
   ],
   "source": [
    "result = {}\n",
    "for letter in string:\n",
    "    value = string.count(letter)\n",
    "    result.append({letter: value})\n",
    "    \n"
   ]
  },
  {
   "cell_type": "code",
   "execution_count": 8,
   "id": "341f603a",
   "metadata": {},
   "outputs": [
    {
     "data": {
      "text/plain": [
       "['asdjfeicuzxck']"
      ]
     },
     "execution_count": 8,
     "metadata": {},
     "output_type": "execute_result"
    }
   ],
   "source": [
    "string.split()"
   ]
  },
  {
   "cell_type": "code",
   "execution_count": 21,
   "id": "c274687e",
   "metadata": {},
   "outputs": [
    {
     "data": {
      "text/plain": [
       "[{'a': 1},\n",
       " {'s': 1},\n",
       " {'d': 1},\n",
       " {'j': 1},\n",
       " {'f': 1},\n",
       " {'e': 1},\n",
       " {'i': 1},\n",
       " {'c': 2},\n",
       " {'u': 1},\n",
       " {'z': 1},\n",
       " {'x': 1},\n",
       " {'c': 2},\n",
       " {'k': 1}]"
      ]
     },
     "execution_count": 21,
     "metadata": {},
     "output_type": "execute_result"
    }
   ],
   "source": [
    "result = []\n",
    "for letter in string:\n",
    "    value = string.count(letter)\n",
    "    result.append({letter: value})\n",
    "result    "
   ]
  },
  {
   "cell_type": "code",
   "execution_count": 22,
   "id": "e984f321",
   "metadata": {},
   "outputs": [],
   "source": [
    "result = {}\n",
    "for letter in string:\n",
    "    value = string.count(letter)\n",
    "    result[letter] = value\n",
    "    "
   ]
  },
  {
   "cell_type": "code",
   "execution_count": 23,
   "id": "39303a5a",
   "metadata": {},
   "outputs": [
    {
     "data": {
      "text/plain": [
       "{'a': 1,\n",
       " 's': 1,\n",
       " 'd': 1,\n",
       " 'j': 1,\n",
       " 'f': 1,\n",
       " 'e': 1,\n",
       " 'i': 1,\n",
       " 'c': 2,\n",
       " 'u': 1,\n",
       " 'z': 1,\n",
       " 'x': 1,\n",
       " 'k': 1}"
      ]
     },
     "execution_count": 23,
     "metadata": {},
     "output_type": "execute_result"
    }
   ],
   "source": [
    "result"
   ]
  },
  {
   "cell_type": "code",
   "execution_count": 28,
   "id": "37e7cf88",
   "metadata": {},
   "outputs": [
    {
     "data": {
      "text/plain": [
       "{'a': 1,\n",
       " 's': 1,\n",
       " 'd': 1,\n",
       " 'j': 1,\n",
       " 'f': 1,\n",
       " 'e': 1,\n",
       " 'i': 1,\n",
       " 'c': 2,\n",
       " 'u': 1,\n",
       " 'z': 1,\n",
       " 'x': 1,\n",
       " 'k': 1}"
      ]
     },
     "execution_count": 28,
     "metadata": {},
     "output_type": "execute_result"
    }
   ],
   "source": [
    "{letter: string.count(letter) for letter in string}"
   ]
  },
  {
   "cell_type": "code",
   "execution_count": 29,
   "id": "2fcf7665",
   "metadata": {},
   "outputs": [],
   "source": [
    "# submitted solution"
   ]
  },
  {
   "cell_type": "code",
   "execution_count": null,
   "id": "1495bea8",
   "metadata": {},
   "outputs": [],
   "source": [
    "# submitted\n",
    "\n",
    "def count(s):\n",
    "    result = {}\n",
    "    for letter in s:\n",
    "        value = s.count(letter)\n",
    "        result[letter] = value\n",
    "    return result"
   ]
  },
  {
   "cell_type": "code",
   "execution_count": 31,
   "id": "a25db8ad",
   "metadata": {},
   "outputs": [
    {
     "data": {
      "text/plain": [
       "{'a': 1,\n",
       " 's': 1,\n",
       " 'd': 1,\n",
       " 'j': 1,\n",
       " 'f': 1,\n",
       " 'e': 1,\n",
       " 'i': 1,\n",
       " 'c': 2,\n",
       " 'u': 1,\n",
       " 'z': 1,\n",
       " 'x': 1,\n",
       " 'k': 1}"
      ]
     },
     "execution_count": 31,
     "metadata": {},
     "output_type": "execute_result"
    }
   ],
   "source": [
    "# dict comprehension\n",
    "\n",
    "s = 'aew7hdxkdajhahweqh9w'\n",
    "\n",
    "def count(s):\n",
    "    return {letter: string.count(letter) for letter in string}\n",
    "\n",
    "count(s)"
   ]
  },
  {
   "cell_type": "code",
   "execution_count": null,
   "id": "bbafef7e",
   "metadata": {},
   "outputs": [],
   "source": []
  }
 ],
 "metadata": {
  "kernelspec": {
   "display_name": "Python 3 (ipykernel)",
   "language": "python",
   "name": "python3"
  },
  "language_info": {
   "codemirror_mode": {
    "name": "ipython",
    "version": 3
   },
   "file_extension": ".py",
   "mimetype": "text/x-python",
   "name": "python",
   "nbconvert_exporter": "python",
   "pygments_lexer": "ipython3",
   "version": "3.10.6"
  },
  "toc": {
   "base_numbering": 1,
   "nav_menu": {},
   "number_sections": true,
   "sideBar": true,
   "skip_h1_title": false,
   "title_cell": "Table of Contents",
   "title_sidebar": "Contents",
   "toc_cell": false,
   "toc_position": {},
   "toc_section_display": true,
   "toc_window_display": false
  }
 },
 "nbformat": 4,
 "nbformat_minor": 5
}
