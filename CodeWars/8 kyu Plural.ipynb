{
 "cells": [
  {
   "cell_type": "markdown",
   "id": "72446b58",
   "metadata": {},
   "source": [
    "We need a simple function that determines if a plural is needed or not. It should take a number, and return true if a plural should be used with that number or false if not. This would be useful when printing out a string such as 5 minutes, 14 apples, or 1 sun.\n",
    "\n",
    "You only need to worry about english grammar rules for this kata, where anything that isn't singular (one of something), it is plural (not one of something).\n",
    "\n",
    "All values will be positive integers or floats, or zero."
   ]
  },
  {
   "cell_type": "code",
   "execution_count": 3,
   "id": "a1452490",
   "metadata": {},
   "outputs": [],
   "source": [
    "def plural(n):\n",
    "    return n != 1 "
   ]
  },
  {
   "cell_type": "code",
   "execution_count": 2,
   "id": "75feded9",
   "metadata": {},
   "outputs": [
    {
     "data": {
      "text/plain": [
       "'aslkdjfadfs'"
      ]
     },
     "execution_count": 2,
     "metadata": {},
     "output_type": "execute_result"
    }
   ],
   "source": [
    "plural('aslkdjfadf')"
   ]
  },
  {
   "cell_type": "code",
   "execution_count": null,
   "id": "56a93918",
   "metadata": {},
   "outputs": [],
   "source": []
  }
 ],
 "metadata": {
  "kernelspec": {
   "display_name": "Python 3 (ipykernel)",
   "language": "python",
   "name": "python3"
  },
  "language_info": {
   "codemirror_mode": {
    "name": "ipython",
    "version": 3
   },
   "file_extension": ".py",
   "mimetype": "text/x-python",
   "name": "python",
   "nbconvert_exporter": "python",
   "pygments_lexer": "ipython3",
   "version": "3.10.6"
  },
  "toc": {
   "base_numbering": 1,
   "nav_menu": {},
   "number_sections": true,
   "sideBar": true,
   "skip_h1_title": false,
   "title_cell": "Table of Contents",
   "title_sidebar": "Contents",
   "toc_cell": false,
   "toc_position": {},
   "toc_section_display": true,
   "toc_window_display": false
  }
 },
 "nbformat": 4,
 "nbformat_minor": 5
}
