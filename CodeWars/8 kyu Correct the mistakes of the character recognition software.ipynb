{
 "cells": [
  {
   "cell_type": "code",
   "execution_count": null,
   "id": "00d7e2c6",
   "metadata": {},
   "outputs": [],
   "source": [
    "Character recognition software is widely used to digitise printed texts. Thus the texts can be edited, searched and stored on a computer.\n",
    "\n",
    "When documents (especially pretty old ones written with a typewriter), are digitised character recognition softwares often make mistakes.\n",
    "\n",
    "Your task is correct the errors in the digitised text. You only have to handle the following mistakes:\n",
    "\n",
    "S is misinterpreted as 5\n",
    "O is misinterpreted as 0\n",
    "I is misinterpreted as 1\n",
    "The test cases contain numbers only by mistake."
   ]
  },
  {
   "cell_type": "code",
   "execution_count": null,
   "id": "1e394256",
   "metadata": {},
   "outputs": [],
   "source": []
  },
  {
   "cell_type": "code",
   "execution_count": 3,
   "id": "258b5122",
   "metadata": {},
   "outputs": [],
   "source": [
    "def correct(s):\n",
    "    mapping = {'5': 'S', '0': 'O', '1': 'I'}\n",
    "    for i in s:\n",
    "        if i in mapping.key\n",
    "    return ''.join([mapping[i] for i in s])"
   ]
  },
  {
   "cell_type": "code",
   "execution_count": null,
   "id": "65087e87",
   "metadata": {},
   "outputs": [],
   "source": [
    "mapping = {'5': 'S', '0': 'O', '1': 'I'}\n",
    "result = ''\n",
    "if i in s == mapping.keys:\n",
    "        "
   ]
  },
  {
   "cell_type": "code",
   "execution_count": 15,
   "id": "01f2f995",
   "metadata": {},
   "outputs": [
    {
     "data": {
      "text/plain": [
       "dict_keys(['5', '0', '1'])"
      ]
     },
     "execution_count": 15,
     "metadata": {},
     "output_type": "execute_result"
    }
   ],
   "source": [
    "mapping.keys()"
   ]
  },
  {
   "cell_type": "markdown",
   "id": "ed4a559e",
   "metadata": {},
   "source": [
    "mapping.keys"
   ]
  },
  {
   "cell_type": "code",
   "execution_count": 20,
   "id": "3fd07e24",
   "metadata": {},
   "outputs": [
    {
     "ename": "TypeError",
     "evalue": "replace() argument 1 must be str, not dict_keys",
     "output_type": "error",
     "traceback": [
      "\u001b[0;31m---------------------------------------------------------------------------\u001b[0m",
      "\u001b[0;31mTypeError\u001b[0m                                 Traceback (most recent call last)",
      "Cell \u001b[0;32mIn [20], line 2\u001b[0m\n\u001b[1;32m      1\u001b[0m s \u001b[38;5;241m=\u001b[39m \u001b[38;5;124m'\u001b[39m\u001b[38;5;124maaa501\u001b[39m\u001b[38;5;124m'\u001b[39m\n\u001b[0;32m----> 2\u001b[0m \u001b[43ms\u001b[49m\u001b[38;5;241;43m.\u001b[39;49m\u001b[43mreplace\u001b[49m\u001b[43m(\u001b[49m\u001b[43mmapping\u001b[49m\u001b[38;5;241;43m.\u001b[39;49m\u001b[43mkeys\u001b[49m\u001b[43m(\u001b[49m\u001b[43m)\u001b[49m\u001b[43m,\u001b[49m\u001b[43m \u001b[49m\u001b[43mmapping\u001b[49m\u001b[38;5;241;43m.\u001b[39;49m\u001b[43mvalues\u001b[49m\u001b[43m(\u001b[49m\u001b[43m)\u001b[49m\u001b[43m)\u001b[49m\n",
      "\u001b[0;31mTypeError\u001b[0m: replace() argument 1 must be str, not dict_keys"
     ]
    }
   ],
   "source": [
    "s = 'aaa501'\n",
    "mapping = {'5': 'S', '0': 'O', '1': 'I'}\n",
    "s.replace(mapping.keys(), mapping.values())"
   ]
  },
  {
   "cell_type": "code",
   "execution_count": 21,
   "id": "043b1ea6",
   "metadata": {},
   "outputs": [
    {
     "data": {
      "text/plain": [
       "<function dict.get(key, default=None, /)>"
      ]
     },
     "execution_count": 21,
     "metadata": {},
     "output_type": "execute_result"
    }
   ],
   "source": [
    "mapping.get"
   ]
  },
  {
   "cell_type": "code",
   "execution_count": 23,
   "id": "7acc8d9b",
   "metadata": {},
   "outputs": [
    {
     "data": {
      "text/plain": [
       "'aaaSOI'"
      ]
     },
     "execution_count": 23,
     "metadata": {},
     "output_type": "execute_result"
    }
   ],
   "source": [
    "''.join([mapping.get(letter, letter) for letter in s])"
   ]
  },
  {
   "cell_type": "code",
   "execution_count": 30,
   "id": "5b722024",
   "metadata": {},
   "outputs": [
    {
     "data": {
      "text/plain": [
       "'aaaSOI'"
      ]
     },
     "execution_count": 30,
     "metadata": {},
     "output_type": "execute_result"
    }
   ],
   "source": [
    "def correct(s):\n",
    "    mapping = {'5': 'S', '0': 'O', '1': 'I'}\n",
    "    return ''.join([mapping.get(letter, letter) for letter in s])\n",
    "\n",
    "correct(s)"
   ]
  },
  {
   "cell_type": "code",
   "execution_count": 32,
   "id": "c6f53d53",
   "metadata": {},
   "outputs": [
    {
     "data": {
      "text/plain": [
       "'aaa501'"
      ]
     },
     "execution_count": 32,
     "metadata": {},
     "output_type": "execute_result"
    }
   ],
   "source": [
    "def correct(s):\n",
    "    mapping = {'5': 'S', '0': 'O', '1': 'I'}\n",
    "    return s.translate(mapping)\n",
    "\n",
    "correct(s)"
   ]
  },
  {
   "cell_type": "code",
   "execution_count": 29,
   "id": "951f2bad",
   "metadata": {},
   "outputs": [
    {
     "data": {
      "text/plain": [
       "'aaa501'"
      ]
     },
     "execution_count": 29,
     "metadata": {},
     "output_type": "execute_result"
    }
   ],
   "source": [
    "correct(s)"
   ]
  },
  {
   "cell_type": "code",
   "execution_count": null,
   "id": "e88853fc",
   "metadata": {},
   "outputs": [],
   "source": []
  },
  {
   "cell_type": "code",
   "execution_count": null,
   "id": "496eb26f",
   "metadata": {},
   "outputs": [],
   "source": []
  }
 ],
 "metadata": {
  "kernelspec": {
   "display_name": "Python 3 (ipykernel)",
   "language": "python",
   "name": "python3"
  },
  "language_info": {
   "codemirror_mode": {
    "name": "ipython",
    "version": 3
   },
   "file_extension": ".py",
   "mimetype": "text/x-python",
   "name": "python",
   "nbconvert_exporter": "python",
   "pygments_lexer": "ipython3",
   "version": "3.10.6"
  },
  "toc": {
   "base_numbering": 1,
   "nav_menu": {},
   "number_sections": true,
   "sideBar": true,
   "skip_h1_title": false,
   "title_cell": "Table of Contents",
   "title_sidebar": "Contents",
   "toc_cell": false,
   "toc_position": {},
   "toc_section_display": true,
   "toc_window_display": false
  }
 },
 "nbformat": 4,
 "nbformat_minor": 5
}
