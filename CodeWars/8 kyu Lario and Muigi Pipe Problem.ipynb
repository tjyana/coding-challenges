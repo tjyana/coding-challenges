{
 "cells": [
  {
   "cell_type": "code",
   "execution_count": null,
   "id": "b4b0e03a",
   "metadata": {},
   "outputs": [],
   "source": [
    "Issue\n",
    "Looks like some hoodlum plumber and his brother has been running around and damaging your stages again.\n",
    "\n",
    "The pipes connecting your level's stages together need to be fixed before you receive any more complaints.\n",
    "\n",
    "The pipes are correct when each pipe after the first is 1 more than the previous one.\n",
    "\n",
    "Task\n",
    "Given a list of unique numbers sorted in ascending order, return a new list so that the values increment by 1 for each index from the minimum value up to the maximum value (both included).\n",
    "\n",
    "Example\n",
    "Input:  1,3,5,6,7,8 Output: 1,2,3,4,5,6,7,8"
   ]
  },
  {
   "cell_type": "code",
   "execution_count": null,
   "id": "fa2a4c98",
   "metadata": {},
   "outputs": [],
   "source": [
    "def pipe_fix(nums):\n",
    "    return list(range(nums[0], nums[-1]+1, 1))"
   ]
  },
  {
   "cell_type": "code",
   "execution_count": 1,
   "id": "05f80ca7",
   "metadata": {},
   "outputs": [
    {
     "data": {
      "text/plain": [
       "12"
      ]
     },
     "execution_count": 1,
     "metadata": {},
     "output_type": "execute_result"
    }
   ],
   "source": [
    "nums = [1, 2, 3, 12]\n",
    "nums[-1]"
   ]
  },
  {
   "cell_type": "code",
   "execution_count": null,
   "id": "3fab0058",
   "metadata": {},
   "outputs": [],
   "source": []
  }
 ],
 "metadata": {
  "kernelspec": {
   "display_name": "Python 3 (ipykernel)",
   "language": "python",
   "name": "python3"
  },
  "language_info": {
   "codemirror_mode": {
    "name": "ipython",
    "version": 3
   },
   "file_extension": ".py",
   "mimetype": "text/x-python",
   "name": "python",
   "nbconvert_exporter": "python",
   "pygments_lexer": "ipython3",
   "version": "3.10.6"
  },
  "toc": {
   "base_numbering": 1,
   "nav_menu": {},
   "number_sections": true,
   "sideBar": true,
   "skip_h1_title": false,
   "title_cell": "Table of Contents",
   "title_sidebar": "Contents",
   "toc_cell": false,
   "toc_position": {},
   "toc_section_display": true,
   "toc_window_display": false
  }
 },
 "nbformat": 4,
 "nbformat_minor": 5
}
