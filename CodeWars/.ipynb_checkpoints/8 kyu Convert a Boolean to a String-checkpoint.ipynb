{
 "cells": [
  {
   "cell_type": "code",
   "execution_count": null,
   "id": "d363f466",
   "metadata": {},
   "outputs": [],
   "source": [
    "Implement a function which convert the given boolean value into its string representation.\n",
    "\n",
    "Note: Only valid inputs will be given."
   ]
  },
  {
   "cell_type": "code",
   "execution_count": null,
   "id": "da73e459",
   "metadata": {},
   "outputs": [],
   "source": [
    "def boolean_to_string(b):\n",
    "    return f'{b}'"
   ]
  },
  {
   "cell_type": "code",
   "execution_count": 16,
   "id": "2a7d2d79",
   "metadata": {},
   "outputs": [
    {
     "data": {
      "text/plain": [
       "'True'"
      ]
     },
     "execution_count": 16,
     "metadata": {},
     "output_type": "execute_result"
    }
   ],
   "source": []
  },
  {
   "cell_type": "code",
   "execution_count": 15,
   "id": "62ffce46",
   "metadata": {},
   "outputs": [
    {
     "data": {
      "text/plain": [
       "'3134234'"
      ]
     },
     "execution_count": 15,
     "metadata": {},
     "output_type": "execute_result"
    }
   ],
   "source": [
    "bad = 0 == 0\n",
    "bada = 3134234\n",
    "f'{bada}'"
   ]
  },
  {
   "cell_type": "code",
   "execution_count": 8,
   "id": "d7f59a9c",
   "metadata": {},
   "outputs": [
    {
     "data": {
      "text/plain": [
       "True"
      ]
     },
     "execution_count": 8,
     "metadata": {},
     "output_type": "execute_result"
    }
   ],
   "source": [
    "b"
   ]
  },
  {
   "cell_type": "code",
   "execution_count": 17,
   "id": "4a68b98f",
   "metadata": {},
   "outputs": [
    {
     "data": {
      "text/plain": [
       "'True'"
      ]
     },
     "execution_count": 17,
     "metadata": {},
     "output_type": "execute_result"
    }
   ],
   "source": [
    "# other solution\n",
    "\n",
    "str(b)"
   ]
  },
  {
   "cell_type": "code",
   "execution_count": null,
   "id": "b9219397",
   "metadata": {},
   "outputs": [],
   "source": []
  }
 ],
 "metadata": {
  "kernelspec": {
   "display_name": "Python 3 (ipykernel)",
   "language": "python",
   "name": "python3"
  },
  "language_info": {
   "codemirror_mode": {
    "name": "ipython",
    "version": 3
   },
   "file_extension": ".py",
   "mimetype": "text/x-python",
   "name": "python",
   "nbconvert_exporter": "python",
   "pygments_lexer": "ipython3",
   "version": "3.10.6"
  },
  "toc": {
   "base_numbering": 1,
   "nav_menu": {},
   "number_sections": true,
   "sideBar": true,
   "skip_h1_title": false,
   "title_cell": "Table of Contents",
   "title_sidebar": "Contents",
   "toc_cell": false,
   "toc_position": {},
   "toc_section_display": true,
   "toc_window_display": false
  }
 },
 "nbformat": 4,
 "nbformat_minor": 5
}
