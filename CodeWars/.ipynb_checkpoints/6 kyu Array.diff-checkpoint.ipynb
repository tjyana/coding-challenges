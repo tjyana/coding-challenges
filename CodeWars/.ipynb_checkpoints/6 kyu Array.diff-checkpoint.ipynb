{
 "cells": [
  {
   "cell_type": "code",
   "execution_count": null,
   "id": "a1cd18de",
   "metadata": {},
   "outputs": [],
   "source": [
    "Your goal in this kata is to implement a difference function, which subtracts one list from another and returns the result.\n",
    "\n",
    "It should remove all values from list a, which are present in list b keeping their order.\n",
    "\n",
    "array_diff([1,2],[1]) == [2]\n",
    "If a value is present in b, all of its occurrences must be removed from the other:\n",
    "\n",
    "array_diff([1,2,2,2,3],[2]) == [1,3]"
   ]
  },
  {
   "cell_type": "code",
   "execution_count": null,
   "id": "768cbe01",
   "metadata": {},
   "outputs": [],
   "source": [
    "def array_diff(a, b):\n",
    "    return []\n",
    "\n"
   ]
  },
  {
   "cell_type": "code",
   "execution_count": 7,
   "id": "50656709",
   "metadata": {},
   "outputs": [],
   "source": [
    "a = [1,2,2,2,3, 4, 5, 6, 6]\n",
    "seta = set(a)"
   ]
  },
  {
   "cell_type": "code",
   "execution_count": 6,
   "id": "d0ec9e9b",
   "metadata": {},
   "outputs": [],
   "source": [
    "b = [2, 3]\n",
    "setb = set(b)"
   ]
  },
  {
   "cell_type": "code",
   "execution_count": 8,
   "id": "68c93244",
   "metadata": {},
   "outputs": [
    {
     "name": "stdout",
     "output_type": "stream",
     "text": [
      "1\n",
      "2\n",
      "3\n",
      "4\n",
      "5\n",
      "6\n"
     ]
    }
   ],
   "source": [
    "result = []\n",
    "for number in seta:\n",
    "    for check in setb:\n",
    "        if check == number:\n",
    "            "
   ]
  },
  {
   "cell_type": "code",
   "execution_count": null,
   "id": "608b09d9",
   "metadata": {},
   "outputs": [],
   "source": []
  },
  {
   "cell_type": "code",
   "execution_count": 20,
   "id": "c47844f1",
   "metadata": {},
   "outputs": [],
   "source": [
    "seta.remove(2)"
   ]
  },
  {
   "cell_type": "code",
   "execution_count": 18,
   "id": "e15b3162",
   "metadata": {},
   "outputs": [
    {
     "data": {
      "text/plain": [
       "[1, 3, 4, 5, 6]"
      ]
     },
     "execution_count": 18,
     "metadata": {},
     "output_type": "execute_result"
    }
   ],
   "source": [
    "lista"
   ]
  },
  {
   "cell_type": "code",
   "execution_count": 11,
   "id": "96a7a047",
   "metadata": {},
   "outputs": [],
   "source": [
    "lista = list(seta)"
   ]
  },
  {
   "cell_type": "code",
   "execution_count": null,
   "id": "0a81f506",
   "metadata": {},
   "outputs": [],
   "source": []
  }
 ],
 "metadata": {
  "kernelspec": {
   "display_name": "Python 3 (ipykernel)",
   "language": "python",
   "name": "python3"
  },
  "language_info": {
   "codemirror_mode": {
    "name": "ipython",
    "version": 3
   },
   "file_extension": ".py",
   "mimetype": "text/x-python",
   "name": "python",
   "nbconvert_exporter": "python",
   "pygments_lexer": "ipython3",
   "version": "3.10.6"
  },
  "toc": {
   "base_numbering": 1,
   "nav_menu": {},
   "number_sections": true,
   "sideBar": true,
   "skip_h1_title": false,
   "title_cell": "Table of Contents",
   "title_sidebar": "Contents",
   "toc_cell": false,
   "toc_position": {},
   "toc_section_display": true,
   "toc_window_display": false
  }
 },
 "nbformat": 4,
 "nbformat_minor": 5
}
