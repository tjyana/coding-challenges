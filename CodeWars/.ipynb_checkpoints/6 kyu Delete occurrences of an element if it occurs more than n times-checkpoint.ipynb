{
 "cells": [
  {
   "cell_type": "code",
   "execution_count": null,
   "id": "268cb5e3",
   "metadata": {},
   "outputs": [],
   "source": [
    "Enough is enough!\n",
    "Alice and Bob were on a holiday. Both of them took many pictures of the places they've been, and now they want to show Charlie their entire collection. However, Charlie doesn't like these sessions, since the motif usually repeats. He isn't fond of seeing the Eiffel tower 40 times.\n",
    "He tells them that he will only sit for the session if they show the same motif at most N times. Luckily, Alice and Bob are able to encode the motif as a number. Can you help them to remove numbers such that their list contains each number only up to N times, without changing the order?\n",
    "\n",
    "Task\n",
    "Given a list and a number, create a new list that contains each number of list at most N times, without reordering.\n",
    "For example if the input number is 2, and the input list is [1,2,3,1,2,1,2,3], you take [1,2,3,1,2], drop the next [1,2] since this would lead to 1 and 2 being in the result 3 times, and then take 3, which leads to [1,2,3,1,2,3].\n",
    "With list [20,37,20,21] and number 1, the result would be [20,37,21]."
   ]
  },
  {
   "cell_type": "code",
   "execution_count": null,
   "id": "70012134",
   "metadata": {},
   "outputs": [],
   "source": [
    "def delete_nth(order,max_e):\n",
    "    final_list = []\n",
    "    counts = {}\n",
    "    for number in order:\n",
    "        counts.get(number)\n",
    "        # if count of the number is > max_e\n",
    "        # final_list.append(number)\n",
    "        # else: don't do anything\n",
    "    return final_list"
   ]
  },
  {
   "cell_type": "code",
   "execution_count": null,
   "id": "7ee1fe0e",
   "metadata": {},
   "outputs": [],
   "source": [
    "# iterate through each unique number and count? nested loops?"
   ]
  },
  {
   "cell_type": "code",
   "execution_count": 14,
   "id": "632e320a",
   "metadata": {},
   "outputs": [
    {
     "data": {
      "text/plain": [
       "4"
      ]
     },
     "execution_count": 14,
     "metadata": {},
     "output_type": "execute_result"
    }
   ],
   "source": [
    "order = [20, 37, 20, 21, 20, 20]\n",
    "target = 20\n",
    "\n",
    "def count_numbers(order, target):\n",
    "    count = 0\n",
    "    for number in order:\n",
    "        if number == target:\n",
    "            count += 1\n",
    "    return count\n",
    "\n",
    "count_numbers(order, target)"
   ]
  },
  {
   "cell_type": "code",
   "execution_count": null,
   "id": "ea4dd961",
   "metadata": {},
   "outputs": [],
   "source": [
    "counts = {}\n",
    "for number in order:\n",
    "    counts.get(number)\n",
    "        final_list.append(number)\n",
    "        counts[number] = counts.get(number, 0) + 1"
   ]
  },
  {
   "cell_type": "code",
   "execution_count": 21,
   "id": "f482f93a",
   "metadata": {},
   "outputs": [
    {
     "name": "stdout",
     "output_type": "stream",
     "text": [
      "20\n",
      "1\n",
      "[20]\n",
      "{20: 1}\n",
      "37\n",
      "1\n",
      "[20, 37]\n",
      "{20: 1, 37: 1}\n",
      "20\n",
      "2\n",
      "[20, 37, 20]\n",
      "{20: 2, 37: 1}\n",
      "21\n",
      "1\n",
      "[20, 37, 20, 21]\n",
      "{20: 2, 37: 1, 21: 1}\n",
      "20\n",
      "2\n",
      "[20, 37, 20, 21]\n",
      "{20: 2, 37: 1, 21: 1}\n",
      "20\n",
      "2\n",
      "[20, 37, 20, 21]\n",
      "{20: 2, 37: 1, 21: 1}\n"
     ]
    },
    {
     "data": {
      "text/plain": [
       "[20, 37, 20, 21]"
      ]
     },
     "execution_count": 21,
     "metadata": {},
     "output_type": "execute_result"
    }
   ],
   "source": [
    "order = [20, 37, 20, 21, 20, 20]\n",
    "\n",
    "def delete_nth(order, max_e):\n",
    "    final_list = [] # initialize the final list which will be the final output\n",
    "    counts = {} # initialize dict that will keep count of each number\n",
    "    for number in order: # for each number: \n",
    "        if counts.get(number, 0) < max_e: # if the count of that number is less than max_e:\n",
    "            # it will be added to the final list\n",
    "            final_list.append(number) # the list is re-created here. the number is added to the list\n",
    "            # the count for that number will be updated by plus 1\n",
    "            counts[number] = counts.get(number, 0) + 1 # creating the dict to count. \n",
    "            # count of that number is increased by 1, and assigned to the value of the key (number)\n",
    "        print(number)\n",
    "        print(counts.get(number, 0))\n",
    "        print(final_list)\n",
    "        print(counts)\n",
    "    return final_list\n",
    "\n",
    "max_e = 2\n",
    "delete_nth(order, max_e)"
   ]
  },
  {
   "cell_type": "code",
   "execution_count": null,
   "id": "3eadc639",
   "metadata": {},
   "outputs": [],
   "source": [
    "# other solutions\n",
    "\n",
    "def delete_nth(order,max_e):\n",
    "    ans = []\n",
    "    for o in order:\n",
    "        if ans.count(o) < max_e: ans.append(o)\n",
    "    return ans"
   ]
  },
  {
   "cell_type": "code",
   "execution_count": null,
   "id": "13d11eb6",
   "metadata": {},
   "outputs": [],
   "source": [
    "# slightly cleaner dict count method\n",
    "\n",
    "def delete_nth(order, max_e):\n",
    "    d = {}\n",
    "    res = []\n",
    "    for item in order:\n",
    "      n = d.get(item, 0) # initialize a counter, kind of? it doesn't reset each time? or nah?\n",
    "      if n < max_e:\n",
    "        res.append(item)\n",
    "        d[item] = n+1 \n",
    "    return res"
   ]
  }
 ],
 "metadata": {
  "kernelspec": {
   "display_name": "Python 3 (ipykernel)",
   "language": "python",
   "name": "python3"
  },
  "language_info": {
   "codemirror_mode": {
    "name": "ipython",
    "version": 3
   },
   "file_extension": ".py",
   "mimetype": "text/x-python",
   "name": "python",
   "nbconvert_exporter": "python",
   "pygments_lexer": "ipython3",
   "version": "3.10.6"
  },
  "toc": {
   "base_numbering": 1,
   "nav_menu": {},
   "number_sections": true,
   "sideBar": true,
   "skip_h1_title": false,
   "title_cell": "Table of Contents",
   "title_sidebar": "Contents",
   "toc_cell": false,
   "toc_position": {},
   "toc_section_display": true,
   "toc_window_display": false
  }
 },
 "nbformat": 4,
 "nbformat_minor": 5
}
