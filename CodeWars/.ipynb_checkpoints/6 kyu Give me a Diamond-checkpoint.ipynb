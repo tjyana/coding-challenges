{
 "cells": [
  {
   "cell_type": "markdown",
   "id": "1eef88ef",
   "metadata": {},
   "source": [
    "Jamie is a programmer, and James' girlfriend. She likes diamonds, and wants a diamond string from James. Since James doesn't know how to make this happen, he needs your help.\n",
    "\n",
    "Task\n",
    "You need to return a string that looks like a diamond shape when printed on the screen, using asterisk (*) characters. Trailing spaces should be removed, and every line must be terminated with a newline character (\\n).\n",
    "\n",
    "Return null/nil/None/... if the input is an even number or negative, as it is not possible to print a diamond of even or negative size.\n",
    "\n",
    "Examples\n",
    "A size 3 diamond:\n",
    "\n",
    " *\n",
    "***\n",
    " *\n",
    "...which would appear as a string of \" *\\n***\\n *\\n\"\n",
    "\n",
    "A size 5 diamond:\n",
    "\n",
    "  *\n",
    " ***\n",
    "*****\n",
    " ***\n",
    "  *\n",
    "...that is:\n",
    "\n",
    "\"  *\\n ***\\n*****\\n ***\\n  *\\n\""
   ]
  },
  {
   "cell_type": "code",
   "execution_count": null,
   "id": "45a62fb2",
   "metadata": {},
   "outputs": [],
   "source": [
    "def diamond(n):\n",
    "    # Make some diamonds!\n",
    "    return \"*\""
   ]
  },
  {
   "cell_type": "code",
   "execution_count": 48,
   "id": "9c5d3ad1",
   "metadata": {},
   "outputs": [
    {
     "name": "stdout",
     "output_type": "stream",
     "text": [
      "*\n",
      "4\n",
      "***\n",
      "3\n",
      "*****\n",
      "2\n",
      "*******\n",
      "1\n",
      "*********\n",
      "0\n",
      "*******\n",
      "*****\n",
      "***\n",
      "*\n",
      "\n"
     ]
    }
   ],
   "source": [
    "n = 9\n",
    "\n",
    "for i in range(1, n+1, 2):\n",
    "    print('*' * i)\n",
    "    print((n//2+1)-i//2-1)\n",
    "for i in reversed(range(-1, n, 2)):\n",
    "    print('*' * i)"
   ]
  },
  {
   "cell_type": "code",
   "execution_count": 71,
   "id": "9e0f2d8f",
   "metadata": {},
   "outputs": [
    {
     "name": "stdout",
     "output_type": "stream",
     "text": [
      "['    *']\n",
      "['    *', '   ***']\n",
      "['    *', '   ***', '  *****']\n",
      "['    *', '   ***', '  *****', ' *******']\n",
      "['    *', '   ***', '  *****', ' *******', '*********']\n",
      "[' *******']\n",
      "[' *******', '  *****']\n",
      "[' *******', '  *****', '   ***']\n",
      "[' *******', '  *****', '   ***', '    *']\n",
      "[' *******', '  *****', '   ***', '    *', '     ']\n"
     ]
    },
    {
     "data": {
      "text/plain": [
       "'    *\\n    ***\\n   *****\\n  *******\\n *********\\n *******\\n   *****\\n    ***\\n     *\\n      '"
      ]
     },
     "execution_count": 71,
     "metadata": {},
     "output_type": "execute_result"
    }
   ],
   "source": [
    "n = 9\n",
    "\n",
    "def diamond(n):\n",
    "    firsthalf = []\n",
    "    secondhalf = []\n",
    "    for i in range(1, n+1, 2):\n",
    "        firsthalf.append(' '*((n//2+1)-i//2-1) + '*' * i)\n",
    "        print(firsthalf)\n",
    "    for i in reversed(range(-1, n, 2)):\n",
    "        secondhalf.append(' '*((n//2+1)-i//2-1) + '*' * i)\n",
    "        print(secondhalf)\n",
    "    return '\\n '.join(firsthalf) + '\\n' + '\\n '.join(secondhalf)\n",
    "\n",
    "diamond(n)"
   ]
  },
  {
   "cell_type": "code",
   "execution_count": 31,
   "id": "7a51da1d",
   "metadata": {},
   "outputs": [
    {
     "data": {
      "text/plain": [
       "4"
      ]
     },
     "execution_count": 31,
     "metadata": {},
     "output_type": "execute_result"
    }
   ],
   "source": [
    "n = 9\n",
    "n//2 \n",
    "\n"
   ]
  },
  {
   "cell_type": "code",
   "execution_count": 30,
   "id": "cde1d6d4",
   "metadata": {},
   "outputs": [
    {
     "data": {
      "text/plain": [
       "range(-1, 9, 2)"
      ]
     },
     "execution_count": 30,
     "metadata": {},
     "output_type": "execute_result"
    }
   ],
   "source": [
    "spaces = range(-1, n, 2)\n",
    "spaces"
   ]
  },
  {
   "cell_type": "code",
   "execution_count": 67,
   "id": "c7423102",
   "metadata": {},
   "outputs": [
    {
     "data": {
      "text/plain": [
       "'asdfas\\n asdfasd\\n asdfsad\\n asdf\\n'"
      ]
     },
     "execution_count": 67,
     "metadata": {},
     "output_type": "execute_result"
    }
   ],
   "source": [
    "nums = ['asdfas', 'asdfasd', 'asdfsad', 'asdf']\n",
    "'\\n '.join(nums) + '\\n'"
   ]
  },
  {
   "cell_type": "code",
   "execution_count": 75,
   "id": "0595b9a4",
   "metadata": {},
   "outputs": [
    {
     "data": {
      "text/plain": [
       "'    *\\n    ***\\n   *****\\n  *******\\n *********\\n *******\\n   *****\\n    ***\\n     *'"
      ]
     },
     "execution_count": 75,
     "metadata": {},
     "output_type": "execute_result"
    }
   ],
   "source": [
    "def diamond(n):\n",
    "    firsthalf = [(' '*((n//2+1)-i//2-1) + '*' * i) for i in range(1, n+1, 2)]\n",
    "    secondhalf = [(' '*((n//2+1)-i//2-1) + '*' * i) for i in reversed(range(-1, n, 2))]\n",
    "    return '\\n '.join(firsthalf) + '\\n' + '\\n '.join(secondhalf).rstrip()\n",
    "\n",
    "diamond(n)"
   ]
  },
  {
   "cell_type": "code",
   "execution_count": 87,
   "id": "c703db58",
   "metadata": {},
   "outputs": [
    {
     "data": {
      "text/plain": [
       "'*\\n'"
      ]
     },
     "execution_count": 87,
     "metadata": {},
     "output_type": "execute_result"
    }
   ],
   "source": [
    "def diamond(n):\n",
    "    if n > 1 and n%2 == 1:\n",
    "        firsthalf = [(' '*((n//2+1)-i//2-1) + '*' * i) for i in range(1, n+1, 2)]\n",
    "        secondhalf = [(' '*((n//2+1)-i//2-1) + '*' * i) for i in reversed(range(-1, n, 2))]\n",
    "        return '\\n'.join(firsthalf) + '\\n' + '\\n'.join(secondhalf).rstrip() + '\\n'\n",
    "    if n == 1:\n",
    "        firsthalf = [(' '*((n//2+1)-i//2-1) + '*' * i) for i in range(1, n+1, 2)]\n",
    "        secondhalf = [(' '*((n//2+1)-i//2-1) + '*' * i) for i in reversed(range(-1, n, 2))]\n",
    "        return '\\n'.join(firsthalf) + '\\n' + '\\n'.join(secondhalf).rstrip()\n",
    "\n",
    "diamond(1)"
   ]
  },
  {
   "cell_type": "code",
   "execution_count": null,
   "id": "31fa9ef0",
   "metadata": {},
   "outputs": [],
   "source": []
  }
 ],
 "metadata": {
  "kernelspec": {
   "display_name": "Python 3 (ipykernel)",
   "language": "python",
   "name": "python3"
  },
  "language_info": {
   "codemirror_mode": {
    "name": "ipython",
    "version": 3
   },
   "file_extension": ".py",
   "mimetype": "text/x-python",
   "name": "python",
   "nbconvert_exporter": "python",
   "pygments_lexer": "ipython3",
   "version": "3.10.6"
  },
  "toc": {
   "base_numbering": 1,
   "nav_menu": {},
   "number_sections": true,
   "sideBar": true,
   "skip_h1_title": false,
   "title_cell": "Table of Contents",
   "title_sidebar": "Contents",
   "toc_cell": false,
   "toc_position": {},
   "toc_section_display": true,
   "toc_window_display": false
  }
 },
 "nbformat": 4,
 "nbformat_minor": 5
}
