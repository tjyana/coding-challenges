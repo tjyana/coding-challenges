{
 "cells": [
  {
   "cell_type": "code",
   "execution_count": null,
   "id": "30ae296e",
   "metadata": {},
   "outputs": [],
   "source": [
    "This function should test if the factor is a factor of base.\n",
    "\n",
    "Return true if it is a factor or false if it is not.\n",
    "\n",
    "About factors\n",
    "Factors are numbers you can multiply together to get another number.\n",
    "\n",
    "2 and 3 are factors of 6 because: 2 * 3 = 6\n",
    "\n",
    "You can find a factor by dividing numbers. If the remainder is 0 then the number is a factor.\n",
    "You can use the mod operator (%) in most languages to check for a remainder\n",
    "For example 2 is not a factor of 7 because: 7 % 2 = 1\n",
    "\n",
    "Note: base is a non-negative number, factor is a positive number."
   ]
  },
  {
   "cell_type": "code",
   "execution_count": null,
   "id": "e32de6c7",
   "metadata": {},
   "outputs": [],
   "source": []
  },
  {
   "cell_type": "code",
   "execution_count": null,
   "id": "1380e3d9",
   "metadata": {},
   "outputs": [],
   "source": [
    "def check_for_factor(base, factor):\n",
    "    return base % factor == 0"
   ]
  }
 ],
 "metadata": {
  "kernelspec": {
   "display_name": "Python 3 (ipykernel)",
   "language": "python",
   "name": "python3"
  },
  "language_info": {
   "codemirror_mode": {
    "name": "ipython",
    "version": 3
   },
   "file_extension": ".py",
   "mimetype": "text/x-python",
   "name": "python",
   "nbconvert_exporter": "python",
   "pygments_lexer": "ipython3",
   "version": "3.10.6"
  },
  "toc": {
   "base_numbering": 1,
   "nav_menu": {},
   "number_sections": true,
   "sideBar": true,
   "skip_h1_title": false,
   "title_cell": "Table of Contents",
   "title_sidebar": "Contents",
   "toc_cell": false,
   "toc_position": {},
   "toc_section_display": true,
   "toc_window_display": false
  }
 },
 "nbformat": 4,
 "nbformat_minor": 5
}
