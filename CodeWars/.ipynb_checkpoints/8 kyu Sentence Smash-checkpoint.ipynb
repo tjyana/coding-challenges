{
 "cells": [
  {
   "cell_type": "code",
   "execution_count": null,
   "id": "a1d781d1",
   "metadata": {},
   "outputs": [],
   "source": [
    "Sentence Smash\n",
    "Write a function that takes an array of words and smashes them together into a sentence and returns the sentence. You can ignore any need to sanitize words or add punctuation, but you should add spaces between each word. Be careful, there shouldn't be a space at the beginning or the end of the sentence!\n",
    "\n",
    "Example\n",
    "['hello', 'world', 'this', 'is', 'great']  =>  'hello world this is great'"
   ]
  },
  {
   "cell_type": "code",
   "execution_count": null,
   "id": "44b1f2b1",
   "metadata": {},
   "outputs": [],
   "source": [
    "def smash(words):\n",
    "    return \" \".join(words)"
   ]
  }
 ],
 "metadata": {
  "kernelspec": {
   "display_name": "Python 3 (ipykernel)",
   "language": "python",
   "name": "python3"
  },
  "language_info": {
   "codemirror_mode": {
    "name": "ipython",
    "version": 3
   },
   "file_extension": ".py",
   "mimetype": "text/x-python",
   "name": "python",
   "nbconvert_exporter": "python",
   "pygments_lexer": "ipython3",
   "version": "3.10.6"
  },
  "toc": {
   "base_numbering": 1,
   "nav_menu": {},
   "number_sections": true,
   "sideBar": true,
   "skip_h1_title": false,
   "title_cell": "Table of Contents",
   "title_sidebar": "Contents",
   "toc_cell": false,
   "toc_position": {},
   "toc_section_display": true,
   "toc_window_display": false
  }
 },
 "nbformat": 4,
 "nbformat_minor": 5
}
