{
 "cells": [
  {
   "cell_type": "code",
   "execution_count": null,
   "id": "3c269f44",
   "metadata": {},
   "outputs": [],
   "source": [
    "Your goal is to return multiplication table for number that is always an integer from 1 to 10.\n",
    "\n",
    "For example, a multiplication table (string) for number == 5 looks like below:\n",
    "\n",
    "1 * 5 = 5\n",
    "2 * 5 = 10\n",
    "3 * 5 = 15\n",
    "4 * 5 = 20\n",
    "5 * 5 = 25\n",
    "6 * 5 = 30\n",
    "7 * 5 = 35\n",
    "8 * 5 = 40\n",
    "9 * 5 = 45\n",
    "10 * 5 = 50\n",
    "P. S. You can use \\n in string to jump to the next line.\n",
    "\n",
    "Note: newlines should be added between rows, but there should be no trailing newline at the end. If you're unsure about the format, look at the sample tests."
   ]
  },
  {
   "cell_type": "code",
   "execution_count": 24,
   "id": "0c6ca009",
   "metadata": {},
   "outputs": [],
   "source": [
    "def multi_table(number):\n",
    "    for i in range(1, 11):\n",
    "        return '\\n'.join(f'{i} * {number} = {i*number}')\n",
    "    "
   ]
  },
  {
   "cell_type": "code",
   "execution_count": 25,
   "id": "4cc9a82e",
   "metadata": {},
   "outputs": [
    {
     "data": {
      "text/plain": [
       "'1\\n \\n*\\n \\n4\\n \\n=\\n \\n4'"
      ]
     },
     "execution_count": 25,
     "metadata": {},
     "output_type": "execute_result"
    }
   ],
   "source": [
    "multi_table(4)"
   ]
  },
  {
   "cell_type": "code",
   "execution_count": 5,
   "id": "b38f041d",
   "metadata": {},
   "outputs": [
    {
     "name": "stdout",
     "output_type": "stream",
     "text": [
      "1 * 5 = 5\n",
      "2 * 5 = 10\n",
      "3 * 5 = 15\n",
      "4 * 5 = 20\n",
      "5 * 5 = 25\n",
      "6 * 5 = 30\n",
      "7 * 5 = 35\n",
      "8 * 5 = 40\n",
      "9 * 5 = 45\n",
      "10 * 5 = 50\n"
     ]
    }
   ],
   "source": [
    "number = 5\n",
    "\n",
    "for i in range(1, 11):\n",
    "    print(f'{i} * {number} = {i*number}' for i in range(1, 11))"
   ]
  },
  {
   "cell_type": "code",
   "execution_count": 2,
   "id": "648042de",
   "metadata": {},
   "outputs": [
    {
     "data": {
      "text/plain": [
       "[1, 2, 3, 4, 5, 6, 7, 8, 9]"
      ]
     },
     "execution_count": 2,
     "metadata": {},
     "output_type": "execute_result"
    }
   ],
   "source": [
    "list(range(1, 10))"
   ]
  },
  {
   "cell_type": "code",
   "execution_count": 22,
   "id": "c0502e8e",
   "metadata": {},
   "outputs": [
    {
     "data": {
      "text/plain": [
       "'1 * 5 = 5\\n2 * 5 = 10\\n3 * 5 = 15\\n4 * 5 = 20\\n5 * 5 = 25\\n6 * 5 = 30\\n7 * 5 = 35\\n8 * 5 = 40\\n9 * 5 = 45\\n10 * 5 = 50'"
      ]
     },
     "execution_count": 22,
     "metadata": {},
     "output_type": "execute_result"
    }
   ],
   "source": [
    "'\\n'.join(f'{i} * {number} = {i*number}' for i in range(1, 11))\n",
    "# the fake list comprehension thing\n",
    "# for every number in 1 to 10\n",
    "    # fit the f string format\n",
    "    # and then join that string to the others with \\n as delimiter"
   ]
  },
  {
   "cell_type": "code",
   "execution_count": 31,
   "id": "89a211c6",
   "metadata": {},
   "outputs": [
    {
     "data": {
      "text/plain": [
       "'1\\n \\n*\\n \\n4\\n \\n=\\n \\n4'"
      ]
     },
     "execution_count": 31,
     "metadata": {},
     "output_type": "execute_result"
    }
   ],
   "source": [
    "# this one is wrong because:\n",
    "# 1. return statement is inside for loop. it iterates once, outputs the first result, and stops.\n",
    "# 2. you're mashing all the elements in the f string together via .join?\n",
    "\n",
    "def multi_table(number):\n",
    "    for i in range(1, 11):\n",
    "        return '\\n'.join(f'{i} * {number} = {i*number}')\n",
    "    \n",
    "multi_table(4)"
   ]
  },
  {
   "cell_type": "code",
   "execution_count": null,
   "id": "5e3215c4",
   "metadata": {},
   "outputs": [],
   "source": []
  },
  {
   "cell_type": "code",
   "execution_count": 44,
   "id": "610fc08b",
   "metadata": {},
   "outputs": [
    {
     "data": {
      "text/plain": [
       "['1 * 4 = 4',\n",
       " '2 * 4 = 8',\n",
       " '3 * 4 = 12',\n",
       " '4 * 4 = 16',\n",
       " '5 * 4 = 20',\n",
       " '6 * 4 = 24',\n",
       " '7 * 4 = 28',\n",
       " '8 * 4 = 32',\n",
       " '9 * 4 = 36',\n",
       " '10 * 4 = 40']"
      ]
     },
     "execution_count": 44,
     "metadata": {},
     "output_type": "execute_result"
    }
   ],
   "source": [
    "# to correct it, you can do .append and output a list\n",
    "\n",
    "def multi_table(number):\n",
    "    result = []\n",
    "    for i in range(1, 11):\n",
    "        result.append(f'{i} * {number} = {i*number}')\n",
    "    return result\n",
    "\n",
    "multi_table(4)"
   ]
  },
  {
   "cell_type": "code",
   "execution_count": 46,
   "id": "434740a3",
   "metadata": {},
   "outputs": [
    {
     "data": {
      "text/plain": [
       "'1 * 4 = 4\\n2 * 4 = 8\\n3 * 4 = 12\\n4 * 4 = 16\\n5 * 4 = 20\\n6 * 4 = 24\\n7 * 4 = 28\\n8 * 4 = 32\\n9 * 4 = 36\\n10 * 4 = 40'"
      ]
     },
     "execution_count": 46,
     "metadata": {},
     "output_type": "execute_result"
    }
   ],
   "source": [
    "list_result = multi_table(4)\n",
    "\n",
    "'\\n'.join(list_result)"
   ]
  },
  {
   "cell_type": "code",
   "execution_count": 26,
   "id": "161ac19e",
   "metadata": {},
   "outputs": [],
   "source": [
    "def multi_table(number):\n",
    "    return '\\n'.join(f'{i} * {number} = {i*number}' for i in range(1, 11))"
   ]
  },
  {
   "cell_type": "code",
   "execution_count": 27,
   "id": "353688e9",
   "metadata": {},
   "outputs": [
    {
     "data": {
      "text/plain": [
       "'1 * 4 = 4\\n2 * 4 = 8\\n3 * 4 = 12\\n4 * 4 = 16\\n5 * 4 = 20\\n6 * 4 = 24\\n7 * 4 = 28\\n8 * 4 = 32\\n9 * 4 = 36\\n10 * 4 = 40'"
      ]
     },
     "execution_count": 27,
     "metadata": {},
     "output_type": "execute_result"
    }
   ],
   "source": [
    "multi_table(4)"
   ]
  },
  {
   "cell_type": "code",
   "execution_count": null,
   "id": "869dd05e",
   "metadata": {},
   "outputs": [],
   "source": []
  }
 ],
 "metadata": {
  "kernelspec": {
   "display_name": "Python 3 (ipykernel)",
   "language": "python",
   "name": "python3"
  },
  "language_info": {
   "codemirror_mode": {
    "name": "ipython",
    "version": 3
   },
   "file_extension": ".py",
   "mimetype": "text/x-python",
   "name": "python",
   "nbconvert_exporter": "python",
   "pygments_lexer": "ipython3",
   "version": "3.10.6"
  },
  "toc": {
   "base_numbering": 1,
   "nav_menu": {},
   "number_sections": true,
   "sideBar": true,
   "skip_h1_title": false,
   "title_cell": "Table of Contents",
   "title_sidebar": "Contents",
   "toc_cell": false,
   "toc_position": {},
   "toc_section_display": true,
   "toc_window_display": false
  }
 },
 "nbformat": 4,
 "nbformat_minor": 5
}
