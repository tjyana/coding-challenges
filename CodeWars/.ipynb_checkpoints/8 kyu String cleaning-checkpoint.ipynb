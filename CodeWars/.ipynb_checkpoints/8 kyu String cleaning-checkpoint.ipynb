{
 "cells": [
  {
   "cell_type": "markdown",
   "id": "0129d11d",
   "metadata": {},
   "source": [
    "Your boss decided to save money by purchasing some cut-rate optical character recognition software for scanning in the text of old novels to your database. At first it seems to capture words okay, but you quickly notice that it throws in a lot of numbers at random places in the text.\n",
    "\n",
    "Examples (input -> output)\n",
    "'! !'                 -> '! !'\n",
    "'123456789'           -> ''\n",
    "'This looks5 grea8t!' -> 'This looks great!'\n",
    "Your harried co-workers are looking to you for a solution to take this garbled text and remove all of the numbers. Your program will take in a string and clean out all numeric characters, and return a string with spacing and special characters ~#$%^&!@*():;\"'.,? all intact."
   ]
  },
  {
   "cell_type": "code",
   "execution_count": 7,
   "id": "3f51a149",
   "metadata": {},
   "outputs": [],
   "source": [
    "def string_clean(s):\n",
    "    return ''.join(letter for letter in s if letter.isdigit() == False)"
   ]
  },
  {
   "cell_type": "code",
   "execution_count": 8,
   "id": "6a8b87f6",
   "metadata": {},
   "outputs": [
    {
     "data": {
      "text/plain": [
       "'This looks great!'"
      ]
     },
     "execution_count": 8,
     "metadata": {},
     "output_type": "execute_result"
    }
   ],
   "source": [
    "string_clean('This looks5 grea8t!')"
   ]
  },
  {
   "cell_type": "code",
   "execution_count": null,
   "id": "387627f9",
   "metadata": {},
   "outputs": [],
   "source": [
    "# don't forget you can do \n",
    "# if not"
   ]
  },
  {
   "cell_type": "code",
   "execution_count": null,
   "id": "34352612",
   "metadata": {},
   "outputs": [],
   "source": [
    "def string_clean(s):\n",
    "    return ''.join(x for x in s if not x.isdigit())"
   ]
  },
  {
   "cell_type": "code",
   "execution_count": null,
   "id": "bf1fdbae",
   "metadata": {},
   "outputs": [],
   "source": []
  }
 ],
 "metadata": {
  "kernelspec": {
   "display_name": "Python 3 (ipykernel)",
   "language": "python",
   "name": "python3"
  },
  "language_info": {
   "codemirror_mode": {
    "name": "ipython",
    "version": 3
   },
   "file_extension": ".py",
   "mimetype": "text/x-python",
   "name": "python",
   "nbconvert_exporter": "python",
   "pygments_lexer": "ipython3",
   "version": "3.10.6"
  },
  "toc": {
   "base_numbering": 1,
   "nav_menu": {},
   "number_sections": true,
   "sideBar": true,
   "skip_h1_title": false,
   "title_cell": "Table of Contents",
   "title_sidebar": "Contents",
   "toc_cell": false,
   "toc_position": {},
   "toc_section_display": true,
   "toc_window_display": false
  }
 },
 "nbformat": 4,
 "nbformat_minor": 5
}
