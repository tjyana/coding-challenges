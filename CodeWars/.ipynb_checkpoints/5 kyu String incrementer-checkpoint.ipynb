{
 "cells": [
  {
   "cell_type": "code",
   "execution_count": null,
   "id": "b8670be9",
   "metadata": {},
   "outputs": [],
   "source": [
    "Your job is to write a function which increments a string, to create a new string.\n",
    "\n",
    "If the string already ends with a number, the number should be incremented by 1.\n",
    "If the string does not end with a number. the number 1 should be appended to the new string.\n",
    "Examples:\n",
    "\n",
    "foo -> foo1\n",
    "\n",
    "foobar23 -> foobar24\n",
    "\n",
    "foo0042 -> foo0043\n",
    "\n",
    "foo9 -> foo10\n",
    "\n",
    "foo099 -> foo100\n",
    "\n",
    "Attention: If the number has leading zeros the amount of digits should be considered."
   ]
  },
  {
   "cell_type": "code",
   "execution_count": null,
   "id": "e577f896",
   "metadata": {},
   "outputs": [],
   "source": []
  },
  {
   "cell_type": "code",
   "execution_count": null,
   "id": "11118400",
   "metadata": {},
   "outputs": [],
   "source": [
    "def increment_string(strng):\n",
    "    return strng"
   ]
  },
  {
   "cell_type": "code",
   "execution_count": 11,
   "id": "8f5ed3b8",
   "metadata": {},
   "outputs": [
    {
     "name": "stdout",
     "output_type": "stream",
     "text": [
      "foobar1\n"
     ]
    }
   ],
   "source": [
    "\n",
    "string='foobar'\n",
    "if string[-1].isdigit() == False:\n",
    "    print(string + '1')"
   ]
  },
  {
   "cell_type": "code",
   "execution_count": 20,
   "id": "987a7151",
   "metadata": {},
   "outputs": [
    {
     "data": {
      "text/plain": [
       "[8, 7, 6, 5, 4, 3, 2, 1, 0]"
      ]
     },
     "execution_count": 20,
     "metadata": {},
     "output_type": "execute_result"
    }
   ],
   "source": [
    "string = 'foobar23'\n",
    "\n",
    "\n",
    "n = len(string)\n",
    "list(range(n,-1,-1))"
   ]
  },
  {
   "cell_type": "code",
   "execution_count": 23,
   "id": "99ba7da0",
   "metadata": {},
   "outputs": [
    {
     "name": "stdout",
     "output_type": "stream",
     "text": [
      "7\n",
      "3\n",
      "6\n",
      "2\n",
      "5\n",
      "r\n",
      "4\n",
      "a\n",
      "3\n",
      "b\n",
      "2\n",
      "o\n",
      "1\n",
      "o\n",
      "0\n",
      "f\n"
     ]
    }
   ],
   "source": [
    "for i in list(range(n-1,-1,-1)):\n",
    "    print(i)\n",
    "    print(string[i])"
   ]
  },
  {
   "cell_type": "code",
   "execution_count": 19,
   "id": "859c17b3",
   "metadata": {},
   "outputs": [
    {
     "data": {
      "text/plain": [
       "'f'"
      ]
     },
     "execution_count": 19,
     "metadata": {},
     "output_type": "execute_result"
    }
   ],
   "source": [
    "for i in list(range(n-1,-1,-1)):\n",
    "    while string[i].isdigit():\n",
    "        "
   ]
  },
  {
   "cell_type": "code",
   "execution_count": 24,
   "id": "fad3145c",
   "metadata": {},
   "outputs": [
    {
     "data": {
      "text/plain": [
       "'foobar23'"
      ]
     },
     "execution_count": 24,
     "metadata": {},
     "output_type": "execute_result"
    }
   ],
   "source": [
    "string"
   ]
  },
  {
   "cell_type": "code",
   "execution_count": 18,
   "id": "b34cf823",
   "metadata": {},
   "outputs": [
    {
     "ename": "IndexError",
     "evalue": "string index out of range",
     "output_type": "error",
     "traceback": [
      "\u001b[0;31m---------------------------------------------------------------------------\u001b[0m",
      "\u001b[0;31mIndexError\u001b[0m                                Traceback (most recent call last)",
      "Cell \u001b[0;32mIn [18], line 1\u001b[0m\n\u001b[0;32m----> 1\u001b[0m \u001b[43mstring\u001b[49m\u001b[43m[\u001b[49m\u001b[38;5;241;43m6\u001b[39;49m\u001b[43m]\u001b[49m\n",
      "\u001b[0;31mIndexError\u001b[0m: string index out of range"
     ]
    }
   ],
   "source": [
    "string[6]"
   ]
  },
  {
   "cell_type": "code",
   "execution_count": null,
   "id": "55bded1e",
   "metadata": {},
   "outputs": [],
   "source": [
    "# solution"
   ]
  },
  {
   "cell_type": "code",
   "execution_count": null,
   "id": "f0f0e49f",
   "metadata": {},
   "outputs": [],
   "source": [
    "def increment_string(strng):\n",
    "    head = strng.rstrip('0123456789') # strips the tail part with the digits, resulting in the string portion\n",
    "    tail = strng[len(head):] # returns the digits part, by indexing strng from head onwards\n",
    "    if tail == \"\": return strng+\"1\" # deals with the case where there is no number at the end of the string\n",
    "    return head + str(int(tail) + 1).zfill(len(tail)) # head + the incremented number. zfill handles any leading zeros "
   ]
  }
 ],
 "metadata": {
  "kernelspec": {
   "display_name": "Python 3 (ipykernel)",
   "language": "python",
   "name": "python3"
  },
  "language_info": {
   "codemirror_mode": {
    "name": "ipython",
    "version": 3
   },
   "file_extension": ".py",
   "mimetype": "text/x-python",
   "name": "python",
   "nbconvert_exporter": "python",
   "pygments_lexer": "ipython3",
   "version": "3.10.6"
  },
  "toc": {
   "base_numbering": 1,
   "nav_menu": {},
   "number_sections": true,
   "sideBar": true,
   "skip_h1_title": false,
   "title_cell": "Table of Contents",
   "title_sidebar": "Contents",
   "toc_cell": false,
   "toc_position": {},
   "toc_section_display": true,
   "toc_window_display": false
  }
 },
 "nbformat": 4,
 "nbformat_minor": 5
}
