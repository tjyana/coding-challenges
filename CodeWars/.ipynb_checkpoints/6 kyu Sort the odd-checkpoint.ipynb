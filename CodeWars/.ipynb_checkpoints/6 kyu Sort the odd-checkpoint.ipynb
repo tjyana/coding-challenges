{
 "cells": [
  {
   "cell_type": "markdown",
   "id": "1839feec",
   "metadata": {},
   "source": [
    "Task\n",
    "You will be given an array of numbers. You have to sort the odd numbers in ascending order while leaving the even numbers at their original positions.\n",
    "\n",
    "Examples\n",
    "[7, 1]  =>  [1, 7]\n",
    "[5, 8, 6, 3, 4]  =>  [3, 8, 6, 5, 4]\n",
    "[9, 8, 7, 6, 5, 4, 3, 2, 1, 0]  =>  [1, 8, 3, 6, 5, 4, 7, 2, 9, 0]"
   ]
  },
  {
   "cell_type": "code",
   "execution_count": null,
   "id": "ebf64d7a",
   "metadata": {},
   "outputs": [],
   "source": [
    "# evens stay in place\n",
    "# odds get rearranged\n",
    "# enumerate so you have the indexes? do you need indexes? probably, to keep spots\n",
    "# > find odds w/ % 2 conditional... \n",
    "# > sort? how?\n",
    "    # separate into two lists and insert back? "
   ]
  },
  {
   "cell_type": "code",
   "execution_count": null,
   "id": "3e4aa7db",
   "metadata": {},
   "outputs": [],
   "source": [
    "[5, 8, 6, 3, 4]"
   ]
  },
  {
   "cell_type": "code",
   "execution_count": null,
   "id": "f0c128ae",
   "metadata": {},
   "outputs": [],
   "source": [
    "def sort_array(source_array):\n",
    "    pass"
   ]
  },
  {
   "cell_type": "code",
   "execution_count": 19,
   "id": "95cc32e4",
   "metadata": {},
   "outputs": [],
   "source": [
    "numbers = [9, 8, 7, 6, 5, 4, 3, 2, 1, 0]"
   ]
  },
  {
   "cell_type": "code",
   "execution_count": 20,
   "id": "9d63e448",
   "metadata": {},
   "outputs": [
    {
     "data": {
      "text/plain": [
       "[(0, 9), (2, 7), (4, 5), (6, 3), (8, 1)]"
      ]
     },
     "execution_count": 20,
     "metadata": {},
     "output_type": "execute_result"
    }
   ],
   "source": [
    "\n",
    "# odds, evens = [], []\n",
    "# for i, number in enumerate(numbers):\n",
    "#     if number % 2 == 1:\n",
    "#         odds.append((i, number))\n",
    "#     else:\n",
    "#         evens.append((i, number))\n",
    "        \n",
    "# odds"
   ]
  },
  {
   "cell_type": "code",
   "execution_count": 10,
   "id": "0c2ddf05",
   "metadata": {},
   "outputs": [
    {
     "data": {
      "text/plain": [
       "[(1, 8), (3, 6), (5, 4), (7, 2), (9, 0)]"
      ]
     },
     "execution_count": 10,
     "metadata": {},
     "output_type": "execute_result"
    }
   ],
   "source": []
  },
  {
   "cell_type": "code",
   "execution_count": 11,
   "id": "73002f4e",
   "metadata": {
    "scrolled": true
   },
   "outputs": [
    {
     "data": {
      "text/plain": [
       "[(0, 9), (2, 7), (4, 5), (6, 3), (8, 1)]"
      ]
     },
     "execution_count": 11,
     "metadata": {},
     "output_type": "execute_result"
    }
   ],
   "source": []
  },
  {
   "cell_type": "code",
   "execution_count": 18,
   "id": "00ef3274",
   "metadata": {
    "scrolled": true
   },
   "outputs": [
    {
     "ename": "KeyboardInterrupt",
     "evalue": "",
     "output_type": "error",
     "traceback": [
      "\u001b[0;31m---------------------------------------------------------------------------\u001b[0m",
      "\u001b[0;31mKeyboardInterrupt\u001b[0m                         Traceback (most recent call last)",
      "Cell \u001b[0;32mIn [18], line 1\u001b[0m\n\u001b[0;32m----> 1\u001b[0m [\u001b[38;5;241m0\u001b[39m \u001b[38;5;28;01mfor\u001b[39;00m number \u001b[38;5;129;01min\u001b[39;00m numbers \u001b[38;5;28;01mif\u001b[39;00m number \u001b[38;5;241m%\u001b[39m \u001b[38;5;241m2\u001b[39m \u001b[38;5;241m==\u001b[39m \u001b[38;5;241m1\u001b[39m]\n",
      "Cell \u001b[0;32mIn [18], line 1\u001b[0m, in \u001b[0;36m<listcomp>\u001b[0;34m(.0)\u001b[0m\n\u001b[0;32m----> 1\u001b[0m [\u001b[38;5;241m0\u001b[39m \u001b[38;5;28;01mfor\u001b[39;00m number \u001b[38;5;129;01min\u001b[39;00m numbers \u001b[38;5;28;01mif\u001b[39;00m number \u001b[38;5;241m%\u001b[39m \u001b[38;5;241m2\u001b[39m \u001b[38;5;241m==\u001b[39m \u001b[38;5;241m1\u001b[39m]\n",
      "\u001b[0;31mKeyboardInterrupt\u001b[0m: "
     ]
    }
   ],
   "source": [
    "numbers = [9, 8, 7, 6, 5, 4, 3, 2, 1, 0]\n",
    "[0 for number in numbers if number % 2 == 1]"
   ]
  },
  {
   "cell_type": "code",
   "execution_count": 39,
   "id": "46e1d3ab",
   "metadata": {},
   "outputs": [
    {
     "data": {
      "text/plain": [
       "['meh', 8, 'meh', 6, 'meh', 4, 'meh', 2, 'meh', 0]"
      ]
     },
     "execution_count": 39,
     "metadata": {},
     "output_type": "execute_result"
    }
   ],
   "source": [
    "numbers = [9, 8, 7, 6, 5, 4, 3, 2, 1, 0]\n",
    "\n",
    "\n",
    "newlist, odds = [], []\n",
    "for number in numbers:\n",
    "    if number % 2 == 1:\n",
    "        newlist.append('meh')\n",
    "        odds.append(number)\n",
    "    else:\n",
    "        newlist.append(number)\n",
    "        \n",
    "newlist"
   ]
  },
  {
   "cell_type": "code",
   "execution_count": 40,
   "id": "b4f9f096",
   "metadata": {},
   "outputs": [
    {
     "data": {
      "text/plain": [
       "[1, 3, 5, 7, 9]"
      ]
     },
     "execution_count": 40,
     "metadata": {},
     "output_type": "execute_result"
    }
   ],
   "source": [
    "odds = sorted(odds)\n",
    "odds"
   ]
  },
  {
   "cell_type": "code",
   "execution_count": 42,
   "id": "04dda4ff",
   "metadata": {},
   "outputs": [
    {
     "data": {
      "text/plain": [
       "[1, 8, 3, 6, 5, 4, 7, 2, 9, 0]"
      ]
     },
     "execution_count": 42,
     "metadata": {},
     "output_type": "execute_result"
    }
   ],
   "source": [
    "for i in range(len(newlist)):\n",
    "    if newlist[i] == 'meh':\n",
    "        newlist[i] = odds.pop(0)\n",
    "        \n",
    "newlist"
   ]
  },
  {
   "cell_type": "code",
   "execution_count": 33,
   "id": "2b468fa3",
   "metadata": {},
   "outputs": [
    {
     "data": {
      "text/plain": [
       "['meh',\n",
       " 8,\n",
       " 'meh',\n",
       " 6,\n",
       " 'meh',\n",
       " 4,\n",
       " 'meh',\n",
       " 2,\n",
       " 'meh',\n",
       " 0,\n",
       " [9, 7, 5, 3, 1],\n",
       " [9, 7, 5, 3, 1],\n",
       " [9, 7, 5, 3, 1],\n",
       " [9, 7, 5, 3, 1],\n",
       " [9, 7, 5, 3, 1]]"
      ]
     },
     "execution_count": 33,
     "metadata": {},
     "output_type": "execute_result"
    }
   ],
   "source": [
    "def sort_array(numbers):\n",
    "    newlist, odds = [], []\n",
    "    for number in numbers:\n",
    "        if number % 2 == 1:\n",
    "            newlist.append('meh')\n",
    "            odds.append(number)\n",
    "        else:\n",
    "            newlist.append(number)\n",
    "    odds = sorted(odds)\n",
    "    for i in range(len(newlist)):\n",
    "        if newlist[i] == 'meh':\n",
    "            newlist[i] = odds.pop(0)\n",
    "    return newlist"
   ]
  },
  {
   "cell_type": "code",
   "execution_count": null,
   "id": "ef43c47e",
   "metadata": {},
   "outputs": [],
   "source": [
    "def sort_array(numbers):\n",
    "    newlist, odds = [], []\n",
    "    for number in numbers:\n",
    "        if number % 2 == 1:\n",
    "            newlist.append('meh')\n",
    "            odds.append(number)\n",
    "        else:\n",
    "            newlist.append(number)\n",
    "    odds = sorted(odds)\n",
    "    for i in range(len(newlist)):\n",
    "        if newlist[i] == 'meh':\n",
    "            newlist[i] = odds.pop(0)\n",
    "    return newlist"
   ]
  },
  {
   "cell_type": "code",
   "execution_count": 67,
   "id": "76f5c29c",
   "metadata": {},
   "outputs": [],
   "source": [
    "def separate_odds(numbers):\n",
    "    newlist, odds = [], []\n",
    "    for number in numbers:\n",
    "        if number % 2 == 1:\n",
    "            newlist.append('meh')\n",
    "            odds.append(number)\n",
    "        else:\n",
    "            newlist.append(number)\n",
    "    return newlist, odds\n",
    "\n",
    "def sort_odds(odds):\n",
    "    sorted_odds = sorted(odds)\n",
    "    return sorted_odds\n",
    "\n",
    "def combine_lists(newlist, sorted_odds):\n",
    "    for i in range(len(newlist)):\n",
    "        if newlist[i] == 'meh':\n",
    "            newlist[i] = sorted_odds.pop(0)\n",
    "    return newlist\n",
    "\n",
    "def sort_array(numbers):\n",
    "    newlist, odds = separate_odds(numbers)\n",
    "    sorted_odds = sort_odds(odds)\n",
    "    newlist = combine_lists(newlist, sorted_odds)\n",
    "    return newlist\n"
   ]
  },
  {
   "cell_type": "code",
   "execution_count": null,
   "id": "294f528f",
   "metadata": {},
   "outputs": [],
   "source": []
  },
  {
   "cell_type": "code",
   "execution_count": 68,
   "id": "1e5c7b8e",
   "metadata": {},
   "outputs": [
    {
     "data": {
      "text/plain": [
       "[1, 8, 3, 6, 5, 4, 7, 2, 9, 0]"
      ]
     },
     "execution_count": 68,
     "metadata": {},
     "output_type": "execute_result"
    }
   ],
   "source": [
    "numbers = [9, 8, 7, 6, 5, 4, 3, 2, 1, 0]\n",
    "\n",
    "sort_array(numbers)"
   ]
  },
  {
   "cell_type": "code",
   "execution_count": 58,
   "id": "d6f96511",
   "metadata": {},
   "outputs": [
    {
     "name": "stdout",
     "output_type": "stream",
     "text": [
      "[9, 7, 5, 3, 1]\n",
      "['meh', 8, 'meh', 6, 'meh', 4, 'meh', 2, 'meh', 0]\n"
     ]
    },
    {
     "data": {
      "text/plain": [
       "(['meh', 8, 'meh', 6, 'meh', 4, 'meh', 2, 'meh', 0], [9, 7, 5, 3, 1])"
      ]
     },
     "execution_count": 58,
     "metadata": {},
     "output_type": "execute_result"
    }
   ],
   "source": [
    "numbers = [9, 8, 7, 6, 5, 4, 3, 2, 1, 0]\n",
    "\n",
    "def separate_odds(numbers):\n",
    "    newlist, odds = [], []\n",
    "    for number in numbers:\n",
    "        if number % 2 == 1:\n",
    "            newlist.append('meh')\n",
    "            odds.append(number)\n",
    "        else:\n",
    "            newlist.append(number)\n",
    "    print(odds)\n",
    "    print(newlist)\n",
    "    return newlist, odds\n",
    "\n",
    "separate_odds(numbers)"
   ]
  },
  {
   "cell_type": "code",
   "execution_count": 62,
   "id": "08284b66",
   "metadata": {},
   "outputs": [
    {
     "data": {
      "text/plain": [
       "[]"
      ]
     },
     "execution_count": 62,
     "metadata": {},
     "output_type": "execute_result"
    }
   ],
   "source": [
    "odds\n"
   ]
  },
  {
   "cell_type": "code",
   "execution_count": 63,
   "id": "0c38852a",
   "metadata": {},
   "outputs": [
    {
     "name": "stdout",
     "output_type": "stream",
     "text": [
      "[1, 8, 3, 5, 6, 2, 7]\n"
     ]
    }
   ],
   "source": [
    "def separate_odds(numbers):\n",
    "    newlist, odds = [], []\n",
    "    for number in numbers:\n",
    "        if number % 2 == 1:\n",
    "            newlist.append('meh')\n",
    "            odds.append(number)\n",
    "        else:\n",
    "            newlist.append(number)\n",
    "    return newlist, odds\n",
    "\n",
    "def sort_odds(odds):\n",
    "    return sorted(odds)\n",
    "\n",
    "def combine_lists(newlist, odds):\n",
    "    for i in range(len(newlist)):\n",
    "        if newlist[i] == 'meh':\n",
    "            newlist[i] = odds.pop(0)\n",
    "    return newlist\n",
    "\n",
    "def orchestrate(numbers):\n",
    "    newlist, odds = separate_odds(numbers)  # Step 1: Separate odds and create placeholders\n",
    "    sorted_odds = sort_odds(odds)          # Step 2: Sort the odd numbers\n",
    "    result = combine_lists(newlist, sorted_odds)  # Step 3: Combine the lists\n",
    "    return result\n",
    "\n",
    "# Example usage\n",
    "numbers = [5, 8, 3, 7, 6, 2, 1]\n",
    "result = orchestrate(numbers)\n",
    "print(result)\n"
   ]
  },
  {
   "cell_type": "code",
   "execution_count": null,
   "id": "dbbbd357",
   "metadata": {},
   "outputs": [],
   "source": [
    "def myfunc(numbers):\n",
    "    for number in numbers: \n",
    "        if number%2 == 1:\n",
    "            "
   ]
  },
  {
   "cell_type": "code",
   "execution_count": null,
   "id": "430e1d0d",
   "metadata": {},
   "outputs": [],
   "source": [
    "sorted(numbers, key=myfunc)"
   ]
  },
  {
   "cell_type": "code",
   "execution_count": null,
   "id": "7b32d3af",
   "metadata": {},
   "outputs": [],
   "source": [
    "# best solution\n",
    "# just do it within the original array\n",
    "\n",
    "def sort_array(arr):\n",
    "  odds = sorted((x for x in arr if x%2 != 0), reverse=True)\n",
    "  return [x if x%2==0 else odds.pop() for x in arr]"
   ]
  }
 ],
 "metadata": {
  "kernelspec": {
   "display_name": "Python 3 (ipykernel)",
   "language": "python",
   "name": "python3"
  },
  "language_info": {
   "codemirror_mode": {
    "name": "ipython",
    "version": 3
   },
   "file_extension": ".py",
   "mimetype": "text/x-python",
   "name": "python",
   "nbconvert_exporter": "python",
   "pygments_lexer": "ipython3",
   "version": "3.10.6"
  },
  "toc": {
   "base_numbering": 1,
   "nav_menu": {},
   "number_sections": true,
   "sideBar": true,
   "skip_h1_title": false,
   "title_cell": "Table of Contents",
   "title_sidebar": "Contents",
   "toc_cell": false,
   "toc_position": {},
   "toc_section_display": true,
   "toc_window_display": false
  }
 },
 "nbformat": 4,
 "nbformat_minor": 5
}
