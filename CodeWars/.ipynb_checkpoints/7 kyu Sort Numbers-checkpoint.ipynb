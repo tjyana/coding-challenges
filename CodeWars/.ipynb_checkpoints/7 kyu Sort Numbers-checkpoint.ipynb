{
 "cells": [
  {
   "cell_type": "code",
   "execution_count": null,
   "id": "e7c74344",
   "metadata": {},
   "outputs": [],
   "source": [
    "Finish the solution so that it sorts the passed in array of numbers. If the function passes in an empty array or null/nil value then it should return an empty array.\n",
    "\n",
    "For example:\n",
    "\n",
    "solution([1,2,3,10,5]) # should return [1,2,3,5,10]\n",
    "solution(None) # should return []"
   ]
  },
  {
   "cell_type": "code",
   "execution_count": 1,
   "id": "c9acebb7",
   "metadata": {},
   "outputs": [],
   "source": []
  },
  {
   "cell_type": "code",
   "execution_count": 7,
   "id": "d0f2df1e",
   "metadata": {},
   "outputs": [],
   "source": [
    "numbers = None"
   ]
  },
  {
   "cell_type": "code",
   "execution_count": 8,
   "id": "bdcc9f14",
   "metadata": {},
   "outputs": [
    {
     "ename": "TypeError",
     "evalue": "'NoneType' object is not iterable",
     "output_type": "error",
     "traceback": [
      "\u001b[0;31m---------------------------------------------------------------------------\u001b[0m",
      "\u001b[0;31mTypeError\u001b[0m                                 Traceback (most recent call last)",
      "Cell \u001b[0;32mIn [8], line 1\u001b[0m\n\u001b[0;32m----> 1\u001b[0m \u001b[38;5;28;43msorted\u001b[39;49m\u001b[43m(\u001b[49m\u001b[43mnumbers\u001b[49m\u001b[43m)\u001b[49m\n",
      "\u001b[0;31mTypeError\u001b[0m: 'NoneType' object is not iterable"
     ]
    }
   ],
   "source": [
    "sorted(numbers)"
   ]
  },
  {
   "cell_type": "code",
   "execution_count": null,
   "id": "fdad9424",
   "metadata": {},
   "outputs": [],
   "source": [
    "# submitted solution\n",
    "\n",
    "def solution(nums):\n",
    "    if nums == None:\n",
    "        return []\n",
    "    else: \n",
    "        return sorted(nums)"
   ]
  },
  {
   "cell_type": "code",
   "execution_count": null,
   "id": "acca77a1",
   "metadata": {},
   "outputs": [],
   "source": []
  },
  {
   "cell_type": "code",
   "execution_count": null,
   "id": "7857d6b6",
   "metadata": {},
   "outputs": [],
   "source": [
    "# others:\n",
    "def solution(nums):\n",
    "    if nums == None:\n",
    "        return []\n",
    "    else:\n",
    "        for i in range(len(nums) - 1):\n",
    "            for j in range(len(nums) - 1):\n",
    "                if nums[j] > nums[j + 1]:\n",
    "                    nums[j],nums[j + 1] = nums[j + 1],nums[j]\n",
    "        return nums"
   ]
  }
 ],
 "metadata": {
  "kernelspec": {
   "display_name": "Python 3 (ipykernel)",
   "language": "python",
   "name": "python3"
  },
  "language_info": {
   "codemirror_mode": {
    "name": "ipython",
    "version": 3
   },
   "file_extension": ".py",
   "mimetype": "text/x-python",
   "name": "python",
   "nbconvert_exporter": "python",
   "pygments_lexer": "ipython3",
   "version": "3.10.6"
  },
  "toc": {
   "base_numbering": 1,
   "nav_menu": {},
   "number_sections": true,
   "sideBar": true,
   "skip_h1_title": false,
   "title_cell": "Table of Contents",
   "title_sidebar": "Contents",
   "toc_cell": false,
   "toc_position": {},
   "toc_section_display": true,
   "toc_window_display": false
  }
 },
 "nbformat": 4,
 "nbformat_minor": 5
}
