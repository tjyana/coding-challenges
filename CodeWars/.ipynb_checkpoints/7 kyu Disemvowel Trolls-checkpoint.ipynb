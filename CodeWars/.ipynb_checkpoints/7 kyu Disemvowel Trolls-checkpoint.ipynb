{
 "cells": [
  {
   "cell_type": "code",
   "execution_count": null,
   "id": "e35cb91f",
   "metadata": {},
   "outputs": [],
   "source": [
    "Trolls are attacking your comment section!\n",
    "\n",
    "A common way to deal with this situation is to remove all of the vowels from the trolls' comments, neutralizing the threat.\n",
    "\n",
    "Your task is to write a function that takes a string and return a new string with all vowels removed.\n",
    "\n",
    "For example, the string \"This website is for losers LOL!\" would become \"Ths wbst s fr lsrs LL!\".\n",
    "\n",
    "Note: for this kata y isn't considered a vowel."
   ]
  },
  {
   "cell_type": "code",
   "execution_count": null,
   "id": "94e92342",
   "metadata": {},
   "outputs": [],
   "source": []
  },
  {
   "cell_type": "code",
   "execution_count": 16,
   "id": "2353d20e",
   "metadata": {},
   "outputs": [],
   "source": [
    "def disemvowel(string_):\n",
    "    result = []\n",
    "    vowels = ['a', 'e', 'i', 'o', 'u', 'A', 'E', 'I', 'O', 'U']\n",
    "    for letter in string_:\n",
    "        if letter not in vowels:\n",
    "            result.append(letter)\n",
    "    string_ = ''.join(result)\n",
    "    return string_"
   ]
  },
  {
   "cell_type": "code",
   "execution_count": 7,
   "id": "744ff373",
   "metadata": {},
   "outputs": [
    {
     "name": "stdout",
     "output_type": "stream",
     "text": [
      "None\n"
     ]
    }
   ],
   "source": [
    "word = 'aabbedidodud'\n",
    "\n",
    "result = []\n",
    "vowels = ['a', 'e', 'i', 'o', 'u']\n",
    "for vowel in vowels:\n",
    "    list(word).remove(vowel)\n",
    "    list(word)\n",
    "print(string)"
   ]
  },
  {
   "cell_type": "code",
   "execution_count": 12,
   "id": "ed667eb1",
   "metadata": {},
   "outputs": [],
   "source": [
    "listed = list(word)"
   ]
  },
  {
   "cell_type": "code",
   "execution_count": 13,
   "id": "ef9e4540",
   "metadata": {},
   "outputs": [
    {
     "data": {
      "text/plain": [
       "['a', 'b', 'b', 'e', 'd', 'i', 'd', 'o', 'd', 'u', 'd']"
      ]
     },
     "execution_count": 13,
     "metadata": {},
     "output_type": "execute_result"
    }
   ],
   "source": [
    "listed.remove('a')\n",
    "listed"
   ]
  },
  {
   "cell_type": "code",
   "execution_count": 14,
   "id": "45631ec2",
   "metadata": {},
   "outputs": [],
   "source": [
    "for letter in word:\n",
    "    if letter not in vowels:\n",
    "        result.append(letter)"
   ]
  },
  {
   "cell_type": "code",
   "execution_count": 15,
   "id": "391288d4",
   "metadata": {},
   "outputs": [
    {
     "data": {
      "text/plain": [
       "['b', 'b', 'd', 'd', 'd', 'd']"
      ]
     },
     "execution_count": 15,
     "metadata": {},
     "output_type": "execute_result"
    }
   ],
   "source": [
    "result"
   ]
  },
  {
   "cell_type": "code",
   "execution_count": null,
   "id": "7d931927",
   "metadata": {},
   "outputs": [],
   "source": [
    "def disemvowel(string_):\n",
    "    vowels = ['a', 'e', 'i', 'o', 'u', 'A', 'E', 'I', 'O', 'U']\n",
    "    return ''.join([letter for letter in string_ if letter not in vowels])"
   ]
  },
  {
   "cell_type": "code",
   "execution_count": 17,
   "id": "bc90755f",
   "metadata": {},
   "outputs": [],
   "source": [
    "# others"
   ]
  },
  {
   "cell_type": "code",
   "execution_count": 18,
   "id": "36b7a0e6",
   "metadata": {},
   "outputs": [],
   "source": [
    "def disemvowel(s):\n",
    "    for i in \"aeiouAEIOU\":\n",
    "        s = s.replace(i,'')\n",
    "    return s"
   ]
  },
  {
   "cell_type": "code",
   "execution_count": null,
   "id": "26b557b1",
   "metadata": {},
   "outputs": [],
   "source": [
    "def disemvowel(string):\n",
    "    return \"\".join(c for c in string if c.lower() not in \"aeiou\")"
   ]
  }
 ],
 "metadata": {
  "kernelspec": {
   "display_name": "Python 3 (ipykernel)",
   "language": "python",
   "name": "python3"
  },
  "language_info": {
   "codemirror_mode": {
    "name": "ipython",
    "version": 3
   },
   "file_extension": ".py",
   "mimetype": "text/x-python",
   "name": "python",
   "nbconvert_exporter": "python",
   "pygments_lexer": "ipython3",
   "version": "3.10.6"
  },
  "toc": {
   "base_numbering": 1,
   "nav_menu": {},
   "number_sections": true,
   "sideBar": true,
   "skip_h1_title": false,
   "title_cell": "Table of Contents",
   "title_sidebar": "Contents",
   "toc_cell": false,
   "toc_position": {},
   "toc_section_display": true,
   "toc_window_display": false
  }
 },
 "nbformat": 4,
 "nbformat_minor": 5
}
