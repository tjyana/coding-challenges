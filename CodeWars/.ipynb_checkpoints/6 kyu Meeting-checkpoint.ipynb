{
 "cells": [
  {
   "cell_type": "markdown",
   "id": "75457e1a",
   "metadata": {},
   "source": [
    "John has invited some friends. His list is:\n",
    "\n",
    "s = \"Fred:Corwill;Wilfred:Corwill;Barney:Tornbull;Betty:Tornbull;Bjon:Tornbull;Raphael:Corwill;Alfred:Corwill\";\n",
    "Could you make a program that\n",
    "\n",
    "makes this string uppercase\n",
    "gives it sorted in alphabetical order by last name.\n",
    "When the last names are the same, sort them by first name. Last name and first name of a guest come in the result between parentheses separated by a comma.\n",
    "\n",
    "So the result of function meeting(s) will be:\n",
    "\n",
    "\"(CORWILL, ALFRED)(CORWILL, FRED)(CORWILL, RAPHAEL)(CORWILL, WILFRED)(TORNBULL, BARNEY)(TORNBULL, BETTY)(TORNBULL, BJON)\"\n",
    "It can happen that in two distinct families with the same family name two people have the same first name too.\n",
    "\n",
    "Notes\n",
    "You can see another examples in the \"Sample tests\"."
   ]
  },
  {
   "cell_type": "code",
   "execution_count": null,
   "id": "20a5770d",
   "metadata": {},
   "outputs": [],
   "source": [
    "def meeting(s):\n",
    "    pass"
   ]
  },
  {
   "cell_type": "code",
   "execution_count": 1,
   "id": "69c3e596",
   "metadata": {},
   "outputs": [],
   "source": [
    "s = \"Fred:Corwill;Wilfred:Corwill;Barney:Tornbull;Betty:Tornbull;Bjon:Tornbull;Raphael:Corwill;Alfred:Corwill\";"
   ]
  },
  {
   "cell_type": "code",
   "execution_count": null,
   "id": "85b0f73f",
   "metadata": {},
   "outputs": [],
   "source": []
  }
 ],
 "metadata": {
  "kernelspec": {
   "display_name": "Python 3 (ipykernel)",
   "language": "python",
   "name": "python3"
  },
  "language_info": {
   "codemirror_mode": {
    "name": "ipython",
    "version": 3
   },
   "file_extension": ".py",
   "mimetype": "text/x-python",
   "name": "python",
   "nbconvert_exporter": "python",
   "pygments_lexer": "ipython3",
   "version": "3.10.6"
  },
  "toc": {
   "base_numbering": 1,
   "nav_menu": {},
   "number_sections": true,
   "sideBar": true,
   "skip_h1_title": false,
   "title_cell": "Table of Contents",
   "title_sidebar": "Contents",
   "toc_cell": false,
   "toc_position": {},
   "toc_section_display": true,
   "toc_window_display": false
  }
 },
 "nbformat": 4,
 "nbformat_minor": 5
}
