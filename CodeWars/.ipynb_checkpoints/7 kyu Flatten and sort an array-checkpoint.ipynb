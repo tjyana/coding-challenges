{
 "cells": [
  {
   "cell_type": "markdown",
   "id": "6ab635cf",
   "metadata": {},
   "source": [
    "Challenge:\n",
    "\n",
    "Given a two-dimensional array of integers, return the flattened version of the array with all the integers in the sorted (ascending) order.\n",
    "\n",
    "Example:\n",
    "\n",
    "Given [[3, 2, 1], [4, 6, 5], [], [9, 7, 8]], your function should return [1, 2, 3, 4, 5, 6, 7, 8, 9]."
   ]
  },
  {
   "cell_type": "code",
   "execution_count": null,
   "id": "48386410",
   "metadata": {},
   "outputs": [],
   "source": [
    "def flatten_and_sort(array):\n",
    "    return sorted([digit for arr in array for digit in arr])"
   ]
  },
  {
   "cell_type": "code",
   "execution_count": 1,
   "id": "a6887e9a",
   "metadata": {},
   "outputs": [
    {
     "data": {
      "text/plain": [
       "[[], [3, 2, 1], [4, 6, 5], [9, 7, 8]]"
      ]
     },
     "execution_count": 1,
     "metadata": {},
     "output_type": "execute_result"
    }
   ],
   "source": [
    "array = [[3, 2, 1], [4, 6, 5], [], [9, 7, 8]]\n",
    "\n",
    "sorted(arr)"
   ]
  },
  {
   "cell_type": "code",
   "execution_count": 5,
   "id": "01498e54",
   "metadata": {},
   "outputs": [
    {
     "name": "stdout",
     "output_type": "stream",
     "text": [
      "None\n",
      "None\n",
      "None\n",
      "None\n"
     ]
    }
   ],
   "source": [
    "for arr in array:\n",
    "    print(sorted(arr))"
   ]
  },
  {
   "cell_type": "code",
   "execution_count": 6,
   "id": "0ed7745b",
   "metadata": {},
   "outputs": [
    {
     "data": {
      "text/plain": [
       "[[1, 2, 3], [4, 5, 6], [], [7, 8, 9]]"
      ]
     },
     "execution_count": 6,
     "metadata": {},
     "output_type": "execute_result"
    }
   ],
   "source": [
    "[sorted(arr) for arr in array]"
   ]
  },
  {
   "cell_type": "code",
   "execution_count": 12,
   "id": "b74329fc",
   "metadata": {},
   "outputs": [
    {
     "data": {
      "text/plain": [
       "[[1, 2, 3], [7, 8, 9], [], [4, 5, 6]]"
      ]
     },
     "execution_count": 12,
     "metadata": {},
     "output_type": "execute_result"
    }
   ],
   "source": [
    "result = []\n",
    "for arr in array:\n",
    "    result.insert(1, arr)\n",
    "    \n",
    "result"
   ]
  },
  {
   "cell_type": "code",
   "execution_count": 17,
   "id": "874beb7b",
   "metadata": {},
   "outputs": [
    {
     "data": {
      "text/plain": [
       "[[3, 2, 1], [4, 6, 5], [], [9, 7, 8]]"
      ]
     },
     "execution_count": 17,
     "metadata": {},
     "output_type": "execute_result"
    }
   ],
   "source": [
    "array = [[3, 2, 1], [4, 6, 5], [], [9, 7, 8]]\n",
    "[*rest] = array\n",
    "rest"
   ]
  },
  {
   "cell_type": "code",
   "execution_count": 18,
   "id": "7df62dbd",
   "metadata": {},
   "outputs": [],
   "source": [
    "array = [[3, 2, 1], [4, 6, 5], [], [9, 7, 8]]\n",
    "unpack = []\n",
    "for arr in array:\n",
    "    for digit in arr:\n",
    "        unpack.append(digit)"
   ]
  },
  {
   "cell_type": "code",
   "execution_count": 20,
   "id": "90fd263b",
   "metadata": {},
   "outputs": [
    {
     "data": {
      "text/plain": [
       "[1, 2, 3, 4, 5, 6, 7, 8, 9]"
      ]
     },
     "execution_count": 20,
     "metadata": {},
     "output_type": "execute_result"
    }
   ],
   "source": [
    "sorted(unpack)"
   ]
  },
  {
   "cell_type": "code",
   "execution_count": 22,
   "id": "7fef7cef",
   "metadata": {},
   "outputs": [
    {
     "data": {
      "text/plain": [
       "[[3, 2, 1], [4, 6, 5], [], [9, 7, 8]]"
      ]
     },
     "execution_count": 22,
     "metadata": {},
     "output_type": "execute_result"
    }
   ],
   "source": [
    "[[digit for digit in arr] for arr in array]\n"
   ]
  },
  {
   "cell_type": "code",
   "execution_count": 25,
   "id": "e787fe7b",
   "metadata": {},
   "outputs": [
    {
     "data": {
      "text/plain": [
       "[1, 2, 3, 4, 5, 6, 7, 8, 9]"
      ]
     },
     "execution_count": 25,
     "metadata": {},
     "output_type": "execute_result"
    }
   ],
   "source": [
    "sorted([digit for arr in array for digit in arr])"
   ]
  },
  {
   "cell_type": "code",
   "execution_count": null,
   "id": "27684ce6",
   "metadata": {},
   "outputs": [],
   "source": []
  }
 ],
 "metadata": {
  "kernelspec": {
   "display_name": "Python 3 (ipykernel)",
   "language": "python",
   "name": "python3"
  },
  "language_info": {
   "codemirror_mode": {
    "name": "ipython",
    "version": 3
   },
   "file_extension": ".py",
   "mimetype": "text/x-python",
   "name": "python",
   "nbconvert_exporter": "python",
   "pygments_lexer": "ipython3",
   "version": "3.10.6"
  },
  "toc": {
   "base_numbering": 1,
   "nav_menu": {},
   "number_sections": true,
   "sideBar": true,
   "skip_h1_title": false,
   "title_cell": "Table of Contents",
   "title_sidebar": "Contents",
   "toc_cell": false,
   "toc_position": {},
   "toc_section_display": true,
   "toc_window_display": false
  }
 },
 "nbformat": 4,
 "nbformat_minor": 5
}
