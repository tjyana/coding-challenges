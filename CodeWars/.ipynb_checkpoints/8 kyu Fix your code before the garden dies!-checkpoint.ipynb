{
 "cells": [
  {
   "cell_type": "code",
   "execution_count": null,
   "id": "475f0077",
   "metadata": {},
   "outputs": [],
   "source": [
    "You have an award-winning garden and every day the plants need exactly 40mm of water. You created a great piece of JavaScript to calculate the amount of water your plants will need when you have taken into consideration the amount of rain water that is forecast for the day. Your jealous neighbour hacked your computer and filled your code with bugs.\n",
    "\n",
    "Your task is to debug the code before your plants die!\n",
    "\n"
   ]
  },
  {
   "cell_type": "code",
   "execution_count": 2,
   "id": "e1122a8a",
   "metadata": {},
   "outputs": [
    {
     "ename": "IndentationError",
     "evalue": "unindent does not match any outer indentation level (<tokenize>, line 4)",
     "output_type": "error",
     "traceback": [
      "\u001b[0;36m  File \u001b[0;32m<tokenize>:4\u001b[0;36m\u001b[0m\n\u001b[0;31m    if else:\u001b[0m\n\u001b[0m    ^\u001b[0m\n\u001b[0;31mIndentationError\u001b[0m\u001b[0;31m:\u001b[0m unindent does not match any outer indentation level\n"
     ]
    }
   ],
   "source": [
    "def rain_amount(mm)\n",
    "if (rain_amount = 40):\n",
    "         return \"You need to give your plant \" + {rain_amount - 40} + \" mm of water\"\n",
    "    if else:\n",
    "         return \"Your plant has had more than enough water for todaya!\""
   ]
  },
  {
   "cell_type": "code",
   "execution_count": 5,
   "id": "2e8c47ef",
   "metadata": {},
   "outputs": [],
   "source": [
    "def rain_amount(mm):\n",
    "    if mm < 40:\n",
    "         return f\"You need to give your plant \" + f\"{40-mm}\" + \"mm of water\"\n",
    "    else:\n",
    "        return \"Your plant has had more than enough water for today!\""
   ]
  },
  {
   "cell_type": "code",
   "execution_count": null,
   "id": "4c02fbf4",
   "metadata": {},
   "outputs": [],
   "source": []
  }
 ],
 "metadata": {
  "kernelspec": {
   "display_name": "Python 3 (ipykernel)",
   "language": "python",
   "name": "python3"
  },
  "language_info": {
   "codemirror_mode": {
    "name": "ipython",
    "version": 3
   },
   "file_extension": ".py",
   "mimetype": "text/x-python",
   "name": "python",
   "nbconvert_exporter": "python",
   "pygments_lexer": "ipython3",
   "version": "3.10.6"
  },
  "toc": {
   "base_numbering": 1,
   "nav_menu": {},
   "number_sections": true,
   "sideBar": true,
   "skip_h1_title": false,
   "title_cell": "Table of Contents",
   "title_sidebar": "Contents",
   "toc_cell": false,
   "toc_position": {},
   "toc_section_display": true,
   "toc_window_display": false
  }
 },
 "nbformat": 4,
 "nbformat_minor": 5
}
