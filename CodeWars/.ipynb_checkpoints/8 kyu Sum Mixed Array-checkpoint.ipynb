{
 "cells": [
  {
   "cell_type": "markdown",
   "id": "3d8abc83",
   "metadata": {},
   "source": [
    "Given an array of integers as strings and numbers, return the sum of the array values as if all were numbers.\n",
    "\n",
    "Return your answer as a number.\n",
    "\n"
   ]
  },
  {
   "cell_type": "code",
   "execution_count": 1,
   "id": "85ed14d4",
   "metadata": {},
   "outputs": [
    {
     "ename": "SyntaxError",
     "evalue": "incomplete input (599450431.py, line 2)",
     "output_type": "error",
     "traceback": [
      "\u001b[0;36m  Cell \u001b[0;32mIn [1], line 2\u001b[0;36m\u001b[0m\n\u001b[0;31m    \u001b[0m\n\u001b[0m    ^\u001b[0m\n\u001b[0;31mSyntaxError\u001b[0m\u001b[0;31m:\u001b[0m incomplete input\n"
     ]
    }
   ],
   "source": [
    "def sum_mix(arr):\n",
    "    "
   ]
  },
  {
   "cell_type": "markdown",
   "id": "00d3f846",
   "metadata": {},
   "source": [
    "### Solution"
   ]
  },
  {
   "cell_type": "code",
   "execution_count": 17,
   "id": "9ff8810e",
   "metadata": {},
   "outputs": [
    {
     "data": {
      "text/plain": [
       "25491"
      ]
     },
     "execution_count": 17,
     "metadata": {},
     "output_type": "execute_result"
    }
   ],
   "source": [
    "arr = ['12243', 13, 1111, '12124']\n",
    "\n",
    "\n",
    "def int_mix(arr):\n",
    "    arr_int = []\n",
    "    for value in arr:\n",
    "        arr_int.append(int(value))\n",
    "    return sum(arr_int)\n",
    "    \n",
    "int_mix(arr)"
   ]
  },
  {
   "cell_type": "markdown",
   "id": "d14e0848",
   "metadata": {},
   "source": [
    "#### work"
   ]
  },
  {
   "cell_type": "code",
   "execution_count": 16,
   "id": "fcea1fd4",
   "metadata": {},
   "outputs": [
    {
     "data": {
      "text/plain": [
       "[12243, 13, 1111, 12124]"
      ]
     },
     "execution_count": 16,
     "metadata": {},
     "output_type": "execute_result"
    }
   ],
   "source": [
    "arr = ['12243', 13, 1111, '12124']\n",
    "arr_int = []\n",
    "for value in arr:        \n",
    "    arr_int.append(int(value)) # remember that append changes the list but doesn't print it out...lol\n",
    "    \n",
    "arr_int"
   ]
  },
  {
   "cell_type": "markdown",
   "id": "b717df0a",
   "metadata": {},
   "source": [
    "## more efficient solution:"
   ]
  },
  {
   "cell_type": "code",
   "execution_count": null,
   "id": "21f10347",
   "metadata": {},
   "outputs": [],
   "source": [
    "def sum_mix(arr):\n",
    "    return sum(map(int, arr))"
   ]
  },
  {
   "cell_type": "markdown",
   "id": "b9c3292f",
   "metadata": {},
   "source": [
    "# DONE"
   ]
  },
  {
   "cell_type": "code",
   "execution_count": null,
   "id": "49a76bc6",
   "metadata": {},
   "outputs": [],
   "source": []
  }
 ],
 "metadata": {
  "kernelspec": {
   "display_name": "Python 3 (ipykernel)",
   "language": "python",
   "name": "python3"
  },
  "language_info": {
   "codemirror_mode": {
    "name": "ipython",
    "version": 3
   },
   "file_extension": ".py",
   "mimetype": "text/x-python",
   "name": "python",
   "nbconvert_exporter": "python",
   "pygments_lexer": "ipython3",
   "version": "3.10.6"
  },
  "toc": {
   "base_numbering": 1,
   "nav_menu": {},
   "number_sections": true,
   "sideBar": true,
   "skip_h1_title": false,
   "title_cell": "Table of Contents",
   "title_sidebar": "Contents",
   "toc_cell": false,
   "toc_position": {},
   "toc_section_display": true,
   "toc_window_display": false
  }
 },
 "nbformat": 4,
 "nbformat_minor": 5
}
