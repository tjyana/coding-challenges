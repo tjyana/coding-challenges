{
 "cells": [
  {
   "cell_type": "markdown",
   "id": "2d6b0b22",
   "metadata": {},
   "source": [
    "Task\n",
    "Your task is to write a function which returns the n-th term of the following series, which is the sum of the first n terms of the sequence (n is the input parameter).\n",
    "\n",
    "\n",
    "You will need to figure out the rule of the series to complete this.\n",
    "\n",
    "Rules\n",
    "You need to round the answer to 2 decimal places and return it as String.\n",
    "\n",
    "If the given value is 0 then it should return \"0.00\".\n",
    "\n",
    "You will only be given Natural Numbers as arguments.\n",
    "\n",
    "Examples (Input --> Output)\n",
    "n\n",
    "1 --> 1 --> \"1.00\"\n",
    "2 --> 1 + 1/4 --> \"1.25\"\n",
    "5 --> 1 + 1/4 + 1/7 + 1/10 + 1/13 --> \"1.57\""
   ]
  },
  {
   "cell_type": "code",
   "execution_count": null,
   "id": "31ce487d",
   "metadata": {},
   "outputs": [],
   "source": [
    "def series_sum(n):\n",
    "    return list(range(1, 3*n, 3*n))"
   ]
  },
  {
   "cell_type": "code",
   "execution_count": 9,
   "id": "2bf58104",
   "metadata": {},
   "outputs": [
    {
     "data": {
      "text/plain": [
       "[1, 4, 7]"
      ]
     },
     "execution_count": 9,
     "metadata": {},
     "output_type": "execute_result"
    }
   ],
   "source": [
    "n = 10\n",
    "list(range(1, n, 3))"
   ]
  },
  {
   "cell_type": "code",
   "execution_count": null,
   "id": "34c6d006",
   "metadata": {},
   "outputs": [],
   "source": [
    "[1/n for n in range(1, )]"
   ]
  },
  {
   "cell_type": "code",
   "execution_count": 13,
   "id": "a50680f7",
   "metadata": {},
   "outputs": [
    {
     "data": {
      "text/plain": [
       "1.942989417989418"
      ]
     },
     "execution_count": 13,
     "metadata": {},
     "output_type": "execute_result"
    }
   ],
   "source": []
  },
  {
   "cell_type": "code",
   "execution_count": 17,
   "id": "c528af60",
   "metadata": {},
   "outputs": [
    {
     "data": {
      "text/plain": [
       "1.25"
      ]
     },
     "execution_count": 17,
     "metadata": {},
     "output_type": "execute_result"
    }
   ],
   "source": [
    "n = 2\n",
    "sum(1/(i*3+1) for i in range(n))"
   ]
  },
  {
   "cell_type": "code",
   "execution_count": null,
   "id": "afcf60ee",
   "metadata": {},
   "outputs": [],
   "source": [
    "def series_sum(n):\n",
    "    return f'{sum(1/(i*3+1) for i in range(n)):.2f}'"
   ]
  }
 ],
 "metadata": {
  "kernelspec": {
   "display_name": "Python 3 (ipykernel)",
   "language": "python",
   "name": "python3"
  },
  "language_info": {
   "codemirror_mode": {
    "name": "ipython",
    "version": 3
   },
   "file_extension": ".py",
   "mimetype": "text/x-python",
   "name": "python",
   "nbconvert_exporter": "python",
   "pygments_lexer": "ipython3",
   "version": "3.10.6"
  },
  "toc": {
   "base_numbering": 1,
   "nav_menu": {},
   "number_sections": true,
   "sideBar": true,
   "skip_h1_title": false,
   "title_cell": "Table of Contents",
   "title_sidebar": "Contents",
   "toc_cell": false,
   "toc_position": {},
   "toc_section_display": true,
   "toc_window_display": false
  }
 },
 "nbformat": 4,
 "nbformat_minor": 5
}
