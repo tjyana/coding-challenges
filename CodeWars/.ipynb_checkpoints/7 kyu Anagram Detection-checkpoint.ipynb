{
 "cells": [
  {
   "cell_type": "markdown",
   "id": "f5cd1423",
   "metadata": {},
   "source": [
    "An anagram is the result of rearranging the letters of a word to produce a new word (see wikipedia).\n",
    "\n",
    "Note: anagrams are case insensitive\n",
    "\n",
    "Complete the function to return true if the two arguments given are anagrams of each other; return false otherwise.\n",
    "\n",
    "Examples:\n",
    "\n",
    "\"foefet\" is an anagram of \"toffee\"\n",
    "\n",
    "\"Buckethead\" is an anagram of \"DeathCubeK\""
   ]
  },
  {
   "cell_type": "code",
   "execution_count": 10,
   "id": "c9442450",
   "metadata": {},
   "outputs": [
    {
     "data": {
      "text/plain": [
       "True"
      ]
     },
     "execution_count": 10,
     "metadata": {},
     "output_type": "execute_result"
    }
   ],
   "source": [
    "def is_anagram(test, original):\n",
    "    return ''.join(sorted(test.lower())) == ''.join(sorted(original.lower()))\n",
    "\n",
    "test = 'wawawawa'\n",
    "original = 'awawawaw'\n",
    "\n",
    "is_anagram(test, original)"
   ]
  },
  {
   "cell_type": "markdown",
   "id": "2cb2ed96",
   "metadata": {},
   "source": [
    "~count number of letters in each and compare~\n",
    "sort letters and compare"
   ]
  },
  {
   "cell_type": "code",
   "execution_count": 3,
   "id": "1c80da3a",
   "metadata": {},
   "outputs": [
    {
     "data": {
      "text/plain": [
       "'wooosd'"
      ]
     },
     "execution_count": 3,
     "metadata": {},
     "output_type": "execute_result"
    }
   ],
   "source": [
    "# make sure everything is lowercase\n",
    "test = 'WOOOSD'\n",
    "test.lower()"
   ]
  },
  {
   "cell_type": "code",
   "execution_count": 12,
   "id": "32a38e44",
   "metadata": {},
   "outputs": [
    {
     "data": {
      "text/plain": [
       "'aaaawwww'"
      ]
     },
     "execution_count": 12,
     "metadata": {},
     "output_type": "execute_result"
    }
   ],
   "source": [
    "# main function to sort:\n",
    "''.join(sorted(test.lower()))"
   ]
  },
  {
   "cell_type": "code",
   "execution_count": 11,
   "id": "6342a73e",
   "metadata": {},
   "outputs": [
    {
     "data": {
      "text/plain": [
       "['a', 'a', 'a', 'a', 'w', 'w', 'w', 'w']"
      ]
     },
     "execution_count": 11,
     "metadata": {},
     "output_type": "execute_result"
    }
   ],
   "source": [
    "sorted(test.lower())"
   ]
  },
  {
   "cell_type": "code",
   "execution_count": null,
   "id": "27f275b2",
   "metadata": {},
   "outputs": [],
   "source": []
  }
 ],
 "metadata": {
  "kernelspec": {
   "display_name": "Python 3 (ipykernel)",
   "language": "python",
   "name": "python3"
  },
  "language_info": {
   "codemirror_mode": {
    "name": "ipython",
    "version": 3
   },
   "file_extension": ".py",
   "mimetype": "text/x-python",
   "name": "python",
   "nbconvert_exporter": "python",
   "pygments_lexer": "ipython3",
   "version": "3.10.6"
  },
  "toc": {
   "base_numbering": 1,
   "nav_menu": {},
   "number_sections": true,
   "sideBar": true,
   "skip_h1_title": false,
   "title_cell": "Table of Contents",
   "title_sidebar": "Contents",
   "toc_cell": false,
   "toc_position": {},
   "toc_section_display": true,
   "toc_window_display": false
  }
 },
 "nbformat": 4,
 "nbformat_minor": 5
}
