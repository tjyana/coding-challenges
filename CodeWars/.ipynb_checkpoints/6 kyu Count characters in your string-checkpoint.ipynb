{
 "cells": [
  {
   "cell_type": "markdown",
   "id": "d0e07ee6",
   "metadata": {},
   "source": [
    "The main idea is to count all the occurring characters in a string. If you have a string like aba, then the result should be {'a': 2, 'b': 1}.\n",
    "\n",
    "What if the string is empty? Then the result should be empty object literal, {}."
   ]
  },
  {
   "cell_type": "code",
   "execution_count": null,
   "id": "15bd819d",
   "metadata": {},
   "outputs": [],
   "source": [
    "def count(s):\n",
    "    # The function code should be here\n",
    "    return {}"
   ]
  },
  {
   "cell_type": "code",
   "execution_count": 2,
   "id": "ad6bd9ba",
   "metadata": {},
   "outputs": [],
   "source": [
    "string = 'asdjfeicuzxck'\n",
    "result = {}\n",
    "count = 0"
   ]
  },
  {
   "cell_type": "code",
   "execution_count": null,
   "id": "8f06c299",
   "metadata": {},
   "outputs": [],
   "source": [
    "for letter in string:\n",
    "    if \n",
    "    result.append(letter: )"
   ]
  },
  {
   "cell_type": "code",
   "execution_count": 3,
   "id": "10c2f27e",
   "metadata": {},
   "outputs": [
    {
     "data": {
      "text/plain": [
       "['a', 's', 'd', 'j', 'f', 'e', 'i', 'c', 'u', 'z', 'x', 'c', 'k']"
      ]
     },
     "execution_count": 3,
     "metadata": {},
     "output_type": "execute_result"
    }
   ],
   "source": [
    "# first: count each letter\n",
    "list(string)"
   ]
  },
  {
   "cell_type": "code",
   "execution_count": 4,
   "id": "107ca9c7",
   "metadata": {},
   "outputs": [
    {
     "data": {
      "text/plain": [
       "['a', 'c', 'c', 'd', 'e', 'f', 'i', 'j', 'k', 's', 'u', 'x', 'z']"
      ]
     },
     "execution_count": 4,
     "metadata": {},
     "output_type": "execute_result"
    }
   ],
   "source": [
    "sorted(string)"
   ]
  },
  {
   "cell_type": "code",
   "execution_count": 7,
   "id": "24d63e2a",
   "metadata": {},
   "outputs": [
    {
     "ename": "NameError",
     "evalue": "name 'split' is not defined",
     "output_type": "error",
     "traceback": [
      "\u001b[0;31m---------------------------------------------------------------------------\u001b[0m",
      "\u001b[0;31mNameError\u001b[0m                                 Traceback (most recent call last)",
      "Cell \u001b[0;32mIn [7], line 1\u001b[0m\n\u001b[0;32m----> 1\u001b[0m \u001b[43msplit\u001b[49m(string)\n",
      "\u001b[0;31mNameError\u001b[0m: name 'split' is not defined"
     ]
    }
   ],
   "source": [
    "split(string)"
   ]
  },
  {
   "cell_type": "code",
   "execution_count": null,
   "id": "b3aee97f",
   "metadata": {},
   "outputs": [],
   "source": []
  }
 ],
 "metadata": {
  "kernelspec": {
   "display_name": "Python 3 (ipykernel)",
   "language": "python",
   "name": "python3"
  },
  "language_info": {
   "codemirror_mode": {
    "name": "ipython",
    "version": 3
   },
   "file_extension": ".py",
   "mimetype": "text/x-python",
   "name": "python",
   "nbconvert_exporter": "python",
   "pygments_lexer": "ipython3",
   "version": "3.10.6"
  },
  "toc": {
   "base_numbering": 1,
   "nav_menu": {},
   "number_sections": true,
   "sideBar": true,
   "skip_h1_title": false,
   "title_cell": "Table of Contents",
   "title_sidebar": "Contents",
   "toc_cell": false,
   "toc_position": {},
   "toc_section_display": true,
   "toc_window_display": false
  }
 },
 "nbformat": 4,
 "nbformat_minor": 5
}
