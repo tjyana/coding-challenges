{
 "cells": [
  {
   "cell_type": "code",
   "execution_count": null,
   "id": "2835058c",
   "metadata": {},
   "outputs": [],
   "source": [
    "Description:\n",
    "Remove an exclamation mark from the end of a string. For a beginner kata, you can assume that the input data is always a string, no need to verify it.\n",
    "\n",
    "Examples\n",
    "\"Hi!\"     ---> \"Hi\"\n",
    "\"Hi!!!\"   ---> \"Hi!!\"\n",
    "\"!Hi\"     ---> \"!Hi\"\n",
    "\"!Hi!\"    ---> \"!Hi\"\n",
    "\"Hi! Hi!\" ---> \"Hi! Hi\"\n",
    "\"Hi\"      ---> \"Hi\""
   ]
  },
  {
   "cell_type": "code",
   "execution_count": 9,
   "id": "4eab86d2",
   "metadata": {},
   "outputs": [],
   "source": [
    "def remove(s):\n",
    "    if s[-1] == '!':\n",
    "        final = s[-1].replace('!', '')\n",
    "        return final"
   ]
  },
  {
   "cell_type": "code",
   "execution_count": 10,
   "id": "8713fc43",
   "metadata": {},
   "outputs": [
    {
     "data": {
      "text/plain": [
       "''"
      ]
     },
     "execution_count": 10,
     "metadata": {},
     "output_type": "execute_result"
    }
   ],
   "source": [
    "remove('hi!')"
   ]
  },
  {
   "cell_type": "code",
   "execution_count": 12,
   "id": "5a91921d",
   "metadata": {},
   "outputs": [
    {
     "data": {
      "text/plain": [
       "'!'"
      ]
     },
     "execution_count": 12,
     "metadata": {},
     "output_type": "execute_result"
    }
   ],
   "source": [
    "s='asdfasdf!!'\n",
    "s[-1]"
   ]
  },
  {
   "cell_type": "code",
   "execution_count": 13,
   "id": "528ae0b3",
   "metadata": {},
   "outputs": [
    {
     "data": {
      "text/plain": [
       "''"
      ]
     },
     "execution_count": 13,
     "metadata": {},
     "output_type": "execute_result"
    }
   ],
   "source": [
    "s[-1].replace('!', '')"
   ]
  },
  {
   "cell_type": "code",
   "execution_count": 21,
   "id": "214edffe",
   "metadata": {},
   "outputs": [
    {
     "data": {
      "text/plain": [
       "'asdfasdf!'"
      ]
     },
     "execution_count": 21,
     "metadata": {},
     "output_type": "execute_result"
    }
   ],
   "source": [
    "result = list(s)\n",
    "result[-1] = ''\n",
    "return ''.join(result)"
   ]
  },
  {
   "cell_type": "code",
   "execution_count": null,
   "id": "b79fecb1",
   "metadata": {},
   "outputs": [],
   "source": [
    "def remove(s):\n",
    "    print(s)\n",
    "    if s == '':\n",
    "        return s\n",
    "    if s[-1] == '!':\n",
    "        result = list(s)\n",
    "        result[-1] = ''\n",
    "        return ''.join(result)\n",
    "    else: \n",
    "        return s"
   ]
  },
  {
   "cell_type": "code",
   "execution_count": null,
   "id": "7382992f",
   "metadata": {},
   "outputs": [],
   "source": [
    "# efficient\n",
    "def remove(s):\n",
    "    return s[:-1] if s.endswith('!') else s\n",
    "\n",
    "# use slicing lol"
   ]
  }
 ],
 "metadata": {
  "kernelspec": {
   "display_name": "Python 3 (ipykernel)",
   "language": "python",
   "name": "python3"
  },
  "language_info": {
   "codemirror_mode": {
    "name": "ipython",
    "version": 3
   },
   "file_extension": ".py",
   "mimetype": "text/x-python",
   "name": "python",
   "nbconvert_exporter": "python",
   "pygments_lexer": "ipython3",
   "version": "3.10.6"
  },
  "toc": {
   "base_numbering": 1,
   "nav_menu": {},
   "number_sections": true,
   "sideBar": true,
   "skip_h1_title": false,
   "title_cell": "Table of Contents",
   "title_sidebar": "Contents",
   "toc_cell": false,
   "toc_position": {},
   "toc_section_display": true,
   "toc_window_display": false
  }
 },
 "nbformat": 4,
 "nbformat_minor": 5
}
