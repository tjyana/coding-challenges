{
 "cells": [
  {
   "cell_type": "code",
   "execution_count": null,
   "id": "516d674f",
   "metadata": {},
   "outputs": [],
   "source": [
    "Given two numbers and an arithmetic operator (the name of it, as a string), return the result of the two numbers having that operator used on them.\n",
    "\n",
    "a and b will both be positive integers, and a will always be the first number in the operation, and b always the second.\n",
    "\n",
    "The four operators are \"add\", \"subtract\", \"divide\", \"multiply\".\n",
    "\n",
    "A few examples:(Input1, Input2, Input3 --> Output)\n",
    "\n",
    "5, 2, \"add\"      --> 7\n",
    "5, 2, \"subtract\" --> 3\n",
    "5, 2, \"multiply\" --> 10\n",
    "5, 2, \"divide\"   --> 2.5\n",
    "Try to do it without using if statements!"
   ]
  },
  {
   "cell_type": "code",
   "execution_count": null,
   "id": "69e0c30c",
   "metadata": {},
   "outputs": [],
   "source": [
    "def arithmetic(a, b, operator):\n",
    "    math = {'add': +,\n",
    "           'subtract': -,\n",
    "           'multiply': *,\n",
    "           'divide': /}\n",
    "    \n",
    "    calculation = f'{a} {math} {b}'\n",
    "    return int(calculation)"
   ]
  },
  {
   "cell_type": "code",
   "execution_count": 8,
   "id": "81a61d9f",
   "metadata": {},
   "outputs": [
    {
     "name": "stdout",
     "output_type": "stream",
     "text": [
      "add\n"
     ]
    }
   ],
   "source": [
    "math = {'add': '+', 'subtract': '-', 'multiply': '*', 'divide': '/'}\n",
    "\n",
    "operator = 'add'\n",
    "print(operator.translate(math))"
   ]
  },
  {
   "cell_type": "code",
   "execution_count": null,
   "id": "9b9ca14d",
   "metadata": {},
   "outputs": [],
   "source": [
    "math = str.maketrans('add': '+', 'subtract': '-', 'multiply': '*', 'divide': '/'}\n",
    "\n",
    "operator = 'add'\n",
    "print(operator.translate(math))"
   ]
  },
  {
   "cell_type": "code",
   "execution_count": null,
   "id": "f1c62b98",
   "metadata": {},
   "outputs": [],
   "source": [
    "# thought i could do a dictionary, map/translate it to the operator, add it all to a f string,convert that f string to a working operation"
   ]
  },
  {
   "cell_type": "code",
   "execution_count": null,
   "id": "4dd3d9fe",
   "metadata": {},
   "outputs": [],
   "source": [
    "# chatgpt\n",
    "\n",
    "import operator\n",
    "\n",
    "def arithmetic(a, b, operator_str):\n",
    "    operations = {\n",
    "        'add': operator.add,\n",
    "        'subtract': operator.sub,\n",
    "        'multiply': operator.mul,\n",
    "        'divide': operator.truediv\n",
    "    }\n",
    "    \n",
    "    if operator_str not in operations:\n",
    "        raise ValueError(f\"Unsupported operator: {operator_str}\")\n",
    "    \n",
    "    result = operations[operator_str](a, b)\n",
    "    return int(result) if result.is_integer() else result\n"
   ]
  },
  {
   "cell_type": "code",
   "execution_count": 9,
   "id": "52a9419f",
   "metadata": {},
   "outputs": [],
   "source": [
    "# modified\n",
    "\n",
    "import operator\n",
    "\n",
    "def arithmetic(a, b, operator_str):\n",
    "    operations = {\n",
    "        'add': operator.add,\n",
    "        'subtract': operator.sub,\n",
    "        'multiply': operator.mul,\n",
    "        'divide': operator.truediv\n",
    "    }\n",
    "\n",
    "    \n",
    "    result = operations[operator_str](a, b)\n",
    "    return result\n"
   ]
  },
  {
   "cell_type": "code",
   "execution_count": 11,
   "id": "7f9f661d",
   "metadata": {},
   "outputs": [
    {
     "data": {
      "text/plain": [
       "3"
      ]
     },
     "execution_count": 11,
     "metadata": {},
     "output_type": "execute_result"
    }
   ],
   "source": [
    "arithmetic(1, 2, \"add\")"
   ]
  },
  {
   "cell_type": "code",
   "execution_count": null,
   "id": "634d2f0b",
   "metadata": {},
   "outputs": [],
   "source": [
    "# much better solutions"
   ]
  },
  {
   "cell_type": "code",
   "execution_count": null,
   "id": "f35fcef3",
   "metadata": {},
   "outputs": [],
   "source": [
    "def arithmetic(a, b, operator):\n",
    "    return {\n",
    "        'add': a + b,\n",
    "        'subtract': a - b,\n",
    "        'multiply': a * b,\n",
    "        'divide': a / b,\n",
    "    }[operator]\n",
    "\n",
    "# defines the dictionary, but with formula for each case, and operator as key\n",
    "# simply uses indexing to call the appropriate formula"
   ]
  },
  {
   "cell_type": "code",
   "execution_count": null,
   "id": "e1d4baed",
   "metadata": {},
   "outputs": [],
   "source": [
    "# elementary, with if statements\n",
    "\n",
    "def arithmetic(a, b, operator):\n",
    "    if operator == \"add\":\n",
    "        return a + b\n",
    "    elif operator == \"subtract\":\n",
    "        return a - b\n",
    "    elif operator == \"multiply\":\n",
    "        return a * b\n",
    "    elif operator == \"divide\":\n",
    "        return a / (b * 1.0)"
   ]
  },
  {
   "cell_type": "code",
   "execution_count": null,
   "id": "bc16b385",
   "metadata": {},
   "outputs": [],
   "source": []
  },
  {
   "cell_type": "code",
   "execution_count": null,
   "id": "28cb1092",
   "metadata": {},
   "outputs": [],
   "source": []
  },
  {
   "cell_type": "code",
   "execution_count": null,
   "id": "66fa5bed",
   "metadata": {},
   "outputs": [],
   "source": [
    "# lambda is an an anonymous function\n",
    "\n",
    "# take notes: https://www.geeksforgeeks.org/python-lambda-anonymous-functions-filter-map-reduce/"
   ]
  },
  {
   "cell_type": "code",
   "execution_count": null,
   "id": "daa5af49",
   "metadata": {},
   "outputs": [],
   "source": []
  }
 ],
 "metadata": {
  "kernelspec": {
   "display_name": "Python 3 (ipykernel)",
   "language": "python",
   "name": "python3"
  },
  "language_info": {
   "codemirror_mode": {
    "name": "ipython",
    "version": 3
   },
   "file_extension": ".py",
   "mimetype": "text/x-python",
   "name": "python",
   "nbconvert_exporter": "python",
   "pygments_lexer": "ipython3",
   "version": "3.10.6"
  },
  "toc": {
   "base_numbering": 1,
   "nav_menu": {},
   "number_sections": true,
   "sideBar": true,
   "skip_h1_title": false,
   "title_cell": "Table of Contents",
   "title_sidebar": "Contents",
   "toc_cell": false,
   "toc_position": {},
   "toc_section_display": true,
   "toc_window_display": false
  }
 },
 "nbformat": 4,
 "nbformat_minor": 5
}
