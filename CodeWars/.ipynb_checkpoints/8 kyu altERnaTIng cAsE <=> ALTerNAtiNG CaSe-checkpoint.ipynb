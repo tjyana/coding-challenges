{
 "cells": [
  {
   "cell_type": "code",
   "execution_count": null,
   "id": "e61b1701",
   "metadata": {},
   "outputs": [],
   "source": [
    "altERnaTIng cAsE <=> ALTerNAtiNG CaSe\n",
    "Define String.prototype.toAlternatingCase (or a similar function/method such as to_alternating_case/toAlternatingCase/ToAlternatingCase in your selected language; see the initial solution for details) such that each lowercase letter becomes uppercase and each uppercase letter becomes lowercase. For example:\n",
    "\n",
    "\"hello world\".toAlternatingCase() === \"HELLO WORLD\"\n",
    "\"HELLO WORLD\".toAlternatingCase() === \"hello world\"\n",
    "\"hello WORLD\".toAlternatingCase() === \"HELLO world\"\n",
    "\"HeLLo WoRLD\".toAlternatingCase() === \"hEllO wOrld\"\n",
    "\"12345\".toAlternatingCase()       === \"12345\"                   // Non-alphabetical characters are unaffected\n",
    "\"1a2b3c4d5e\".toAlternatingCase()  === \"1A2B3C4D5E\"\n",
    "\"String.prototype.toAlternatingCase\".toAlternatingCase() === \"sTRING.PROTOTYPE.TOaLTERNATINGcASE\"\n",
    "As usual, your function/method should be pure, i.e. it should not mutate the original string."
   ]
  },
  {
   "cell_type": "code",
   "execution_count": null,
   "id": "945a8c15",
   "metadata": {},
   "outputs": [],
   "source": []
  },
  {
   "cell_type": "code",
   "execution_count": 18,
   "id": "4149340e",
   "metadata": {},
   "outputs": [],
   "source": [
    "def to_alternating_case(string):\n",
    "    final_string = ''\n",
    "    for letter in string:\n",
    "        if letter.islower():\n",
    "            final_string += letter.upper()\n",
    "        elif letter.isupper():\n",
    "            final_string += letter.lower()\n",
    "        else: \n",
    "            final_string += letter\n",
    "    return final_string"
   ]
  },
  {
   "cell_type": "code",
   "execution_count": 19,
   "id": "cf7fae04",
   "metadata": {},
   "outputs": [
    {
     "data": {
      "text/plain": [
       "'AAAAaaaa'"
      ]
     },
     "execution_count": 19,
     "metadata": {},
     "output_type": "execute_result"
    }
   ],
   "source": [
    "to_alternating_case(whatever)"
   ]
  },
  {
   "cell_type": "code",
   "execution_count": null,
   "id": "ef0e3ae9",
   "metadata": {},
   "outputs": [],
   "source": []
  },
  {
   "cell_type": "code",
   "execution_count": 8,
   "id": "8cef18fc",
   "metadata": {},
   "outputs": [
    {
     "data": {
      "text/plain": [
       "'AAAAAAAA'"
      ]
     },
     "execution_count": 8,
     "metadata": {},
     "output_type": "execute_result"
    }
   ],
   "source": [
    "whatever = 'aaaaAAAA'\n",
    "whatever.upper()"
   ]
  },
  {
   "cell_type": "code",
   "execution_count": 20,
   "id": "9a835945",
   "metadata": {},
   "outputs": [],
   "source": [
    "# PLACEMENT OF RETURN STATEMENT"
   ]
  },
  {
   "cell_type": "code",
   "execution_count": null,
   "id": "b0288b01",
   "metadata": {},
   "outputs": [],
   "source": []
  }
 ],
 "metadata": {
  "kernelspec": {
   "display_name": "Python 3 (ipykernel)",
   "language": "python",
   "name": "python3"
  },
  "language_info": {
   "codemirror_mode": {
    "name": "ipython",
    "version": 3
   },
   "file_extension": ".py",
   "mimetype": "text/x-python",
   "name": "python",
   "nbconvert_exporter": "python",
   "pygments_lexer": "ipython3",
   "version": "3.10.6"
  },
  "toc": {
   "base_numbering": 1,
   "nav_menu": {},
   "number_sections": true,
   "sideBar": true,
   "skip_h1_title": false,
   "title_cell": "Table of Contents",
   "title_sidebar": "Contents",
   "toc_cell": false,
   "toc_position": {},
   "toc_section_display": true,
   "toc_window_display": false
  }
 },
 "nbformat": 4,
 "nbformat_minor": 5
}
