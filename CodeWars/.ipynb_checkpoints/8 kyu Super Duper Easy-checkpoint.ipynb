{
 "cells": [
  {
   "cell_type": "markdown",
   "id": "827dcd14",
   "metadata": {},
   "source": [
    "Make a function that returns the value multiplied by 50 and increased by 6. If the value entered is a string it should return \"Error\"."
   ]
  },
  {
   "cell_type": "code",
   "execution_count": 11,
   "id": "062ec3f9",
   "metadata": {},
   "outputs": [],
   "source": [
    "def problem(a):\n",
    "    #Easy Points ^_^\n",
    "    if isinstance(a, str):\n",
    "        return 'Error'\n",
    "    else:\n",
    "        return a*50 + 6\n",
    "        "
   ]
  },
  {
   "cell_type": "code",
   "execution_count": 12,
   "id": "def30c28",
   "metadata": {},
   "outputs": [
    {
     "data": {
      "text/plain": [
       "'Error'"
      ]
     },
     "execution_count": 12,
     "metadata": {},
     "output_type": "execute_result"
    }
   ],
   "source": [
    "a = 'a string'\n",
    "problem(a)"
   ]
  },
  {
   "cell_type": "code",
   "execution_count": 13,
   "id": "8616f4cd",
   "metadata": {},
   "outputs": [
    {
     "data": {
      "text/plain": [
       "206"
      ]
     },
     "execution_count": 13,
     "metadata": {},
     "output_type": "execute_result"
    }
   ],
   "source": [
    "a = 4\n",
    "problem(a)"
   ]
  },
  {
   "cell_type": "code",
   "execution_count": 17,
   "id": "6f56a97c",
   "metadata": {},
   "outputs": [
    {
     "data": {
      "text/plain": [
       "206"
      ]
     },
     "execution_count": 17,
     "metadata": {},
     "output_type": "execute_result"
    }
   ],
   "source": [
    "# making it ternary\n",
    "\n",
    "def problem(a):\n",
    "    #Easy Points ^_^\n",
    "    return 'Error' if isinstance(a, str) else a*50 + 6\n",
    "        \n",
    "problem(a)"
   ]
  },
  {
   "cell_type": "code",
   "execution_count": 18,
   "id": "364720df",
   "metadata": {},
   "outputs": [
    {
     "data": {
      "text/plain": [
       "200"
      ]
     },
     "execution_count": 18,
     "metadata": {},
     "output_type": "execute_result"
    }
   ],
   "source": [
    "def check_type(a):\n",
    "    if type(a) == str:\n",
    "        return 'error'\n",
    "    else:\n",
    "        return a*50\n",
    "\n",
    "check_type(a)"
   ]
  },
  {
   "cell_type": "code",
   "execution_count": null,
   "id": "db9cefb7",
   "metadata": {},
   "outputs": [],
   "source": []
  }
 ],
 "metadata": {
  "kernelspec": {
   "display_name": "Python 3 (ipykernel)",
   "language": "python",
   "name": "python3"
  },
  "language_info": {
   "codemirror_mode": {
    "name": "ipython",
    "version": 3
   },
   "file_extension": ".py",
   "mimetype": "text/x-python",
   "name": "python",
   "nbconvert_exporter": "python",
   "pygments_lexer": "ipython3",
   "version": "3.10.6"
  },
  "toc": {
   "base_numbering": 1,
   "nav_menu": {},
   "number_sections": true,
   "sideBar": true,
   "skip_h1_title": false,
   "title_cell": "Table of Contents",
   "title_sidebar": "Contents",
   "toc_cell": false,
   "toc_position": {},
   "toc_section_display": true,
   "toc_window_display": false
  }
 },
 "nbformat": 4,
 "nbformat_minor": 5
}
