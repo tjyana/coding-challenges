{
 "cells": [
  {
   "cell_type": "code",
   "execution_count": null,
   "id": "6b197d2b",
   "metadata": {},
   "outputs": [],
   "source": []
  },
  {
   "cell_type": "code",
   "execution_count": 1,
   "id": "93b7ac06",
   "metadata": {},
   "outputs": [
    {
     "ename": "SyntaxError",
     "evalue": "invalid syntax (1964198846.py, line 1)",
     "output_type": "error",
     "traceback": [
      "\u001b[0;36m  Cell \u001b[0;32mIn [1], line 1\u001b[0;36m\u001b[0m\n\u001b[0;31m    Write a function that accepts two integers and returns the remainder of dividing the larger value by the smaller value.\u001b[0m\n\u001b[0m          ^\u001b[0m\n\u001b[0;31mSyntaxError\u001b[0m\u001b[0;31m:\u001b[0m invalid syntax\n"
     ]
    }
   ],
   "source": [
    "Write a function that accepts two integers and returns the remainder of dividing the larger value by the smaller value.\n",
    "\n",
    "Division by zero should return an empty value.\n",
    "\n",
    "Examples:\n",
    "n = 17\n",
    "m = 5\n",
    "result = 2 (remainder of `17 / 5`)\n",
    "\n",
    "n = 13\n",
    "m = 72\n",
    "result = 7 (remainder of `72 / 13`)\n",
    "\n",
    "n = 0\n",
    "m = -1\n",
    "result = 0 (remainder of `0 / -1`)\n",
    "\n",
    "n = 0\n",
    "m = 1\n",
    "result - division by zero (refer to the specifications on how to handle this in your language)"
   ]
  },
  {
   "cell_type": "code",
   "execution_count": null,
   "id": "3041bc35",
   "metadata": {},
   "outputs": [],
   "source": [
    "def remainder(a,b):\n",
    "    #your code here"
   ]
  },
  {
   "cell_type": "code",
   "execution_count": 2,
   "id": "9155b038",
   "metadata": {},
   "outputs": [],
   "source": [
    "def remainder(a,b):\n",
    "    if a != 0 and b != 0:\n",
    "        return max(a, b)%min(a, b)"
   ]
  },
  {
   "cell_type": "code",
   "execution_count": null,
   "id": "b21e81a2",
   "metadata": {},
   "outputs": [],
   "source": []
  }
 ],
 "metadata": {
  "kernelspec": {
   "display_name": "Python 3 (ipykernel)",
   "language": "python",
   "name": "python3"
  },
  "language_info": {
   "codemirror_mode": {
    "name": "ipython",
    "version": 3
   },
   "file_extension": ".py",
   "mimetype": "text/x-python",
   "name": "python",
   "nbconvert_exporter": "python",
   "pygments_lexer": "ipython3",
   "version": "3.10.6"
  },
  "toc": {
   "base_numbering": 1,
   "nav_menu": {},
   "number_sections": true,
   "sideBar": true,
   "skip_h1_title": false,
   "title_cell": "Table of Contents",
   "title_sidebar": "Contents",
   "toc_cell": false,
   "toc_position": {},
   "toc_section_display": true,
   "toc_window_display": false
  }
 },
 "nbformat": 4,
 "nbformat_minor": 5
}
