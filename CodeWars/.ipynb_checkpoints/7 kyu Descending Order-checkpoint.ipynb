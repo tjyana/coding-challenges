{
 "cells": [
  {
   "cell_type": "code",
   "execution_count": null,
   "id": "201685dc",
   "metadata": {},
   "outputs": [],
   "source": [
    "Your task is to make a function that can take any non-negative integer as an argument and return it with its digits in descending order. Essentially, rearrange the digits to create the highest possible number.\n",
    "\n",
    "Examples:\n",
    "Input: 42145 Output: 54421\n",
    "\n",
    "Input: 145263 Output: 654321\n",
    "\n",
    "Input: 123456789 Output: 987654321"
   ]
  },
  {
   "cell_type": "code",
   "execution_count": 1,
   "id": "491e92dc",
   "metadata": {},
   "outputs": [
    {
     "ename": "SyntaxError",
     "evalue": "incomplete input (3596178880.py, line 2)",
     "output_type": "error",
     "traceback": [
      "\u001b[0;36m  Cell \u001b[0;32mIn [1], line 2\u001b[0;36m\u001b[0m\n\u001b[0;31m    # Bust a move right here\u001b[0m\n\u001b[0m                            ^\u001b[0m\n\u001b[0;31mSyntaxError\u001b[0m\u001b[0;31m:\u001b[0m incomplete input\n"
     ]
    }
   ],
   "source": [
    "def descending_order(num):\n",
    "    # Bust a move right here"
   ]
  },
  {
   "cell_type": "code",
   "execution_count": null,
   "id": "770a0321",
   "metadata": {},
   "outputs": [],
   "source": [
    "sort\n",
    "reverse\n",
    "join"
   ]
  },
  {
   "cell_type": "code",
   "execution_count": 8,
   "id": "5eb10e85",
   "metadata": {},
   "outputs": [
    {
     "data": {
      "text/plain": [
       "885332221"
      ]
     },
     "execution_count": 8,
     "metadata": {},
     "output_type": "execute_result"
    }
   ],
   "source": [
    "# original solution\n",
    "\n",
    "num = 238235812\n",
    "int(''.join(sorted(list(str((num))))[::-1]))"
   ]
  },
  {
   "cell_type": "code",
   "execution_count": 10,
   "id": "c81e0358",
   "metadata": {},
   "outputs": [
    {
     "data": {
      "text/plain": [
       "['2', '2', '3', '3', '3', '4', '4', '4']"
      ]
     },
     "execution_count": 10,
     "metadata": {},
     "output_type": "execute_result"
    }
   ],
   "source": [
    "num = '34234234'\n",
    "sorted(num)"
   ]
  },
  {
   "cell_type": "code",
   "execution_count": null,
   "id": "6184f731",
   "metadata": {},
   "outputs": [],
   "source": [
    "# refactored. didn't need list() since sorted() does it for you\n",
    "\n",
    "int(''.join(sorted(str(num))[::-1]))"
   ]
  },
  {
   "cell_type": "code",
   "execution_count": null,
   "id": "ae5f3501",
   "metadata": {},
   "outputs": [],
   "source": []
  },
  {
   "cell_type": "code",
   "execution_count": null,
   "id": "01369391",
   "metadata": {},
   "outputs": [],
   "source": []
  },
  {
   "cell_type": "code",
   "execution_count": null,
   "id": "94a7f542",
   "metadata": {},
   "outputs": [],
   "source": [
    "# integers are not iterable"
   ]
  }
 ],
 "metadata": {
  "kernelspec": {
   "display_name": "Python 3 (ipykernel)",
   "language": "python",
   "name": "python3"
  },
  "language_info": {
   "codemirror_mode": {
    "name": "ipython",
    "version": 3
   },
   "file_extension": ".py",
   "mimetype": "text/x-python",
   "name": "python",
   "nbconvert_exporter": "python",
   "pygments_lexer": "ipython3",
   "version": "3.10.6"
  },
  "toc": {
   "base_numbering": 1,
   "nav_menu": {},
   "number_sections": true,
   "sideBar": true,
   "skip_h1_title": false,
   "title_cell": "Table of Contents",
   "title_sidebar": "Contents",
   "toc_cell": false,
   "toc_position": {},
   "toc_section_display": true,
   "toc_window_display": false
  }
 },
 "nbformat": 4,
 "nbformat_minor": 5
}
