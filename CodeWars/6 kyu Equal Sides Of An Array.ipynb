{
 "cells": [
  {
   "cell_type": "code",
   "execution_count": null,
   "id": "c58ffd69",
   "metadata": {},
   "outputs": [],
   "source": [
    "You are going to be given an array of integers. Your job is to take that array and find an index N where the sum of the integers to the left of N is equal to the sum of the integers to the right of N. If there is no index that would make this happen, return -1.\n",
    "\n",
    "For example:\n",
    "Let's say you are given the array {1,2,3,4,3,2,1}:\n",
    "Your function will return the index 3, because at the 3rd position of the array, the sum of left side of the index ({1,2,3}) and the sum of the right side of the index ({3,2,1}) both equal 6.\n",
    "\n",
    "Let's look at another one.\n",
    "You are given the array {1,100,50,-51,1,1}:\n",
    "Your function will return the index 1, because at the 1st position of the array, the sum of left side of the index ({1}) and the sum of the right side of the index ({50,-51,1,1}) both equal 1.\n",
    "\n",
    "Last one:\n",
    "You are given the array {20,10,-80,10,10,15,35}\n",
    "At index 0 the left side is {}\n",
    "The right side is {10,-80,10,10,15,35}\n",
    "They both are equal to 0 when added. (Empty arrays are equal to 0 in this problem)\n",
    "Index 0 is the place where the left side and right side are equal.\n",
    "\n",
    "Note: Please remember that in most languages the index of an array starts at 0.\n",
    "\n",
    "Input\n",
    "An integer array of length 0 < arr < 1000. The numbers in the array can be any integer positive or negative.\n",
    "\n",
    "Output\n",
    "The lowest index N where the side to the left of N is equal to the side to the right of N. If you do not find an index that fits these rules, then you will return -1.\n",
    "\n",
    "Note\n",
    "If you are given an array with multiple answers, return the lowest correct index."
   ]
  },
  {
   "cell_type": "code",
   "execution_count": 30,
   "id": "3ef8e1ca",
   "metadata": {},
   "outputs": [],
   "source": [
    "def find_even_index(arr):\n",
    "    left_side = 0\n",
    "    right_side = 0\n",
    "    for i in range(len(example_arr)):\n",
    "        left_side += example_arr[i]\n",
    "#         print(i)\n",
    "#         print(left_side)\n",
    "        right_side += total - (left_side+example_arr[i])\n",
    "#         print(right_side)\n",
    "        if left_side == right_side:\n",
    "            return i\n",
    "        else: return -1"
   ]
  },
  {
   "cell_type": "code",
   "execution_count": 31,
   "id": "55bc4614",
   "metadata": {},
   "outputs": [
    {
     "data": {
      "text/plain": [
       "-1"
      ]
     },
     "execution_count": 31,
     "metadata": {},
     "output_type": "execute_result"
    }
   ],
   "source": [
    "example_arr = [1,2,3,4,3,2,1]\n",
    "find_even_index(example_arr)"
   ]
  },
  {
   "cell_type": "code",
   "execution_count": 29,
   "id": "a3aa9b77",
   "metadata": {},
   "outputs": [
    {
     "data": {
      "text/plain": [
       "-1"
      ]
     },
     "execution_count": 29,
     "metadata": {},
     "output_type": "execute_result"
    }
   ],
   "source": [
    "def find_even_index(arr):\n",
    "    left_side = 0\n",
    "    right_side = 0\n",
    "    reversed = arr[::-1]\n",
    "    for i in range(len(example_arr)):\n",
    "        left_side += example_arr[i]\n",
    "#         print(i)\n",
    "#         print(left_side)\n",
    "        right_side += total - (left_side+example_arr[-i])\n",
    "#         print(right_side)\n",
    "        if left_side == right_side:\n",
    "            return i\n",
    "        else: return -1"
   ]
  },
  {
   "cell_type": "code",
   "execution_count": 11,
   "id": "6363a958",
   "metadata": {},
   "outputs": [
    {
     "name": "stdout",
     "output_type": "stream",
     "text": [
      "20\n",
      "30\n",
      "-50\n",
      "-40\n",
      "-30\n",
      "-15\n",
      "20\n",
      "35\n",
      "50\n",
      "60\n",
      "70\n",
      "-10\n",
      "0\n",
      "20\n"
     ]
    }
   ],
   "source": [
    "# get sums for each side AT EACH INDEX\n",
    "# compare each side"
   ]
  },
  {
   "cell_type": "code",
   "execution_count": 18,
   "id": "99ade74c",
   "metadata": {},
   "outputs": [
    {
     "name": "stdout",
     "output_type": "stream",
     "text": [
      "0\n",
      "20\n",
      "-20\n",
      "1\n",
      "30\n",
      "-65\n",
      "2\n",
      "-50\n",
      "-10\n",
      "3\n",
      "-40\n",
      "40\n",
      "4\n",
      "-30\n",
      "80\n",
      "5\n",
      "-15\n",
      "195\n",
      "6\n",
      "20\n",
      "185\n"
     ]
    }
   ],
   "source": [
    "total = sum(example_arr)\n",
    "\n",
    "left_side = 0\n",
    "right_side = 0\n",
    "\n",
    "for i in range(len(example_arr)):\n",
    "    left_side += example_arr[i]\n",
    "    print(i)\n",
    "    print(left_side)\n",
    "    right_side += total - (left_side+example_arr[-i])\n",
    "    print(right_side)\n",
    "    if left_side == right_side:\n",
    "        return i"
   ]
  },
  {
   "cell_type": "code",
   "execution_count": null,
   "id": "15f01673",
   "metadata": {},
   "outputs": [],
   "source": []
  }
 ],
 "metadata": {
  "kernelspec": {
   "display_name": "Python 3 (ipykernel)",
   "language": "python",
   "name": "python3"
  },
  "language_info": {
   "codemirror_mode": {
    "name": "ipython",
    "version": 3
   },
   "file_extension": ".py",
   "mimetype": "text/x-python",
   "name": "python",
   "nbconvert_exporter": "python",
   "pygments_lexer": "ipython3",
   "version": "3.10.6"
  },
  "toc": {
   "base_numbering": 1,
   "nav_menu": {},
   "number_sections": true,
   "sideBar": true,
   "skip_h1_title": false,
   "title_cell": "Table of Contents",
   "title_sidebar": "Contents",
   "toc_cell": false,
   "toc_position": {},
   "toc_section_display": true,
   "toc_window_display": false
  }
 },
 "nbformat": 4,
 "nbformat_minor": 5
}
