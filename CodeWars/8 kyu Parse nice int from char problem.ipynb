{
 "cells": [
  {
   "cell_type": "code",
   "execution_count": null,
   "id": "fa03a1f7",
   "metadata": {},
   "outputs": [],
   "source": [
    "You ask a small girl,\"How old are you?\" She always says, \"x years old\", where x is a random number between 0 and 9.\n",
    "\n",
    "Write a program that returns the girl's age (0-9) as an integer.\n",
    "\n",
    "Assume the test input string is always a valid string. For example, the test input may be \"1 year old\" or \"5 years old\". The first character in the string is always a number."
   ]
  },
  {
   "cell_type": "code",
   "execution_count": 1,
   "id": "277c4713",
   "metadata": {},
   "outputs": [],
   "source": [
    "def get_age(age):\n",
    "    return int(age[0])"
   ]
  },
  {
   "cell_type": "code",
   "execution_count": 2,
   "id": "96603003",
   "metadata": {},
   "outputs": [
    {
     "data": {
      "text/plain": [
       "8"
      ]
     },
     "execution_count": 2,
     "metadata": {},
     "output_type": "execute_result"
    }
   ],
   "source": [
    "get_age('8 years old')"
   ]
  },
  {
   "cell_type": "code",
   "execution_count": 5,
   "id": "72b8f94c",
   "metadata": {},
   "outputs": [
    {
     "name": "stdout",
     "output_type": "stream",
     "text": [
      "8\n"
     ]
    }
   ],
   "source": [
    "age='8 years old'\n",
    "\n",
    "for letter in age:\n",
    "    if letter.isdigit():\n",
    "        print(letter)"
   ]
  },
  {
   "cell_type": "code",
   "execution_count": null,
   "id": "b4367efe",
   "metadata": {},
   "outputs": [],
   "source": []
  }
 ],
 "metadata": {
  "kernelspec": {
   "display_name": "Python 3 (ipykernel)",
   "language": "python",
   "name": "python3"
  },
  "language_info": {
   "codemirror_mode": {
    "name": "ipython",
    "version": 3
   },
   "file_extension": ".py",
   "mimetype": "text/x-python",
   "name": "python",
   "nbconvert_exporter": "python",
   "pygments_lexer": "ipython3",
   "version": "3.10.6"
  },
  "toc": {
   "base_numbering": 1,
   "nav_menu": {},
   "number_sections": true,
   "sideBar": true,
   "skip_h1_title": false,
   "title_cell": "Table of Contents",
   "title_sidebar": "Contents",
   "toc_cell": false,
   "toc_position": {},
   "toc_section_display": true,
   "toc_window_display": false
  }
 },
 "nbformat": 4,
 "nbformat_minor": 5
}
