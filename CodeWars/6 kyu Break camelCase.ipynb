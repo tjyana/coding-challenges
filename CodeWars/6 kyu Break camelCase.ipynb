{
 "cells": [
  {
   "cell_type": "code",
   "execution_count": null,
   "id": "258cfe89",
   "metadata": {},
   "outputs": [],
   "source": [
    "Complete the solution so that the function will break up camel casing, using a space between words.\n",
    "\n",
    "Example\n",
    "\"camelCasing\"  =>  \"camel Casing\"\n",
    "\"identifier\"   =>  \"identifier\"\n",
    "\"\"             =>  \"\""
   ]
  },
  {
   "cell_type": "code",
   "execution_count": 1,
   "id": "4fd821b8",
   "metadata": {},
   "outputs": [],
   "source": [
    "def solution(s):\n",
    "    pass"
   ]
  },
  {
   "cell_type": "code",
   "execution_count": 14,
   "id": "41b19341",
   "metadata": {},
   "outputs": [
    {
     "data": {
      "text/plain": [
       "'g'"
      ]
     },
     "execution_count": 14,
     "metadata": {},
     "output_type": "execute_result"
    }
   ],
   "source": [
    "s = \"camelCasing\"\n",
    "\n",
    "accumulator = ''\n",
    "for i in range(len(s)-1): # everything except last letter!! \n",
    "    if s[i+1].isupper() == True:\n",
    "        accumulator = ' '.join(s[i+1])\n",
    "    else:\n",
    "        accumulator = ''.join(s[i+1])\n",
    "\n",
    "(' '.join(s(i+1)) for i in range(len(s)-1) if s[i+1].isupper() == True else ''.join(s(i+1)))"
   ]
  },
  {
   "cell_type": "code",
   "execution_count": 9,
   "id": "5e7ce0c7",
   "metadata": {},
   "outputs": [],
   "source": [
    "s = \"camelCasing\"\n",
    "\n"
   ]
  },
  {
   "cell_type": "code",
   "execution_count": 12,
   "id": "71a30a96",
   "metadata": {},
   "outputs": [
    {
     "data": {
      "text/plain": [
       "'c a m e l C a s i n g'"
      ]
     },
     "execution_count": 12,
     "metadata": {},
     "output_type": "execute_result"
    }
   ],
   "source": [
    "' '.join(s)"
   ]
  },
  {
   "cell_type": "code",
   "execution_count": 20,
   "id": "94ede1dc",
   "metadata": {},
   "outputs": [
    {
     "ename": "IndentationError",
     "evalue": "unexpected indent (639430717.py, line 2)",
     "output_type": "error",
     "traceback": [
      "\u001b[0;36m  Cell \u001b[0;32mIn [20], line 2\u001b[0;36m\u001b[0m\n\u001b[0;31m    else ''.join(s(i+1))\u001b[0m\n\u001b[0m    ^\u001b[0m\n\u001b[0;31mIndentationError\u001b[0m\u001b[0;31m:\u001b[0m unexpected indent\n"
     ]
    }
   ],
   "source": [
    "(' '.join(s[i+1]) for i in range(len(s)-1) if s[i+1].isupper())\n",
    "    else ''.join(s(i+1))"
   ]
  },
  {
   "cell_type": "code",
   "execution_count": 31,
   "id": "e9389600",
   "metadata": {},
   "outputs": [
    {
     "data": {
      "text/plain": [
       "'camel Casing'"
      ]
     },
     "execution_count": 31,
     "metadata": {},
     "output_type": "execute_result"
    }
   ],
   "source": [
    "accumulator = []\n",
    "for i in range(len(s)):\n",
    "    if s[i].isupper():\n",
    "        accumulator.append(f' {s[i]}')\n",
    "    else:\n",
    "        accumulator.append(s[i])\n",
    "''.join(accumulator)"
   ]
  },
  {
   "cell_type": "code",
   "execution_count": 24,
   "id": "6540b9cf",
   "metadata": {},
   "outputs": [
    {
     "data": {
      "text/plain": [
       "'camel Casing Aaas As'"
      ]
     },
     "execution_count": 24,
     "metadata": {},
     "output_type": "execute_result"
    }
   ],
   "source": [
    "def solution(s):\n",
    "    accumulator = []\n",
    "    for i in range(len(s)):\n",
    "        if s[i].isupper():\n",
    "            accumulator.append(f' {s[i]}')\n",
    "        else:\n",
    "            accumulator.append(s[i])\n",
    "    return ''.join(accumulator)\n",
    "    \n",
    "solution('camelCasingAaasAs')"
   ]
  },
  {
   "cell_type": "code",
   "execution_count": 33,
   "id": "bcd21398",
   "metadata": {},
   "outputs": [
    {
     "data": {
      "text/plain": [
       "'camel Casing'"
      ]
     },
     "execution_count": 33,
     "metadata": {},
     "output_type": "execute_result"
    }
   ],
   "source": [
    "def solution(s):\n",
    "    accumulator = ''\n",
    "    for i in range(len(s)):\n",
    "        if s[i].isupper():\n",
    "            accumulator += ' ' +s[i]\n",
    "        else:\n",
    "            accumulator += s[i]\n",
    "    return accumulator\n",
    "\n",
    "solution(s)"
   ]
  },
  {
   "cell_type": "code",
   "execution_count": 38,
   "id": "67c58458",
   "metadata": {},
   "outputs": [
    {
     "data": {
      "text/plain": [
       "['c', 'a', 'm', 'e', 'l', ' C', 'a', 's', 'i', 'n', 'g']"
      ]
     },
     "execution_count": 38,
     "metadata": {},
     "output_type": "execute_result"
    }
   ],
   "source": [
    "list(' ' + c if c.isupper() else c for c in s)"
   ]
  },
  {
   "cell_type": "code",
   "execution_count": 36,
   "id": "a0121767",
   "metadata": {},
   "outputs": [
    {
     "ename": "SyntaxError",
     "evalue": "invalid syntax (779587392.py, line 1)",
     "output_type": "error",
     "traceback": [
      "\u001b[0;36m  Cell \u001b[0;32mIn [36], line 1\u001b[0;36m\u001b[0m\n\u001b[0;31m    ''.join[i for i in s if i.isupper() else i for i in s]\u001b[0m\n\u001b[0m              ^\u001b[0m\n\u001b[0;31mSyntaxError\u001b[0m\u001b[0;31m:\u001b[0m invalid syntax\n"
     ]
    }
   ],
   "source": []
  },
  {
   "cell_type": "markdown",
   "id": "a743ceb6",
   "metadata": {},
   "source": [
    "Solutions:"
   ]
  },
  {
   "cell_type": "code",
   "execution_count": 25,
   "id": "cd61abb5",
   "metadata": {},
   "outputs": [],
   "source": [
    "def solution(s):\n",
    "    return ''.join(' ' + c if c.isupper() else c for c in s)"
   ]
  },
  {
   "cell_type": "code",
   "execution_count": 26,
   "id": "270a3b03",
   "metadata": {},
   "outputs": [],
   "source": [
    "def solution(s):\n",
    "    newStr = \"\"\n",
    "    for letter in s:\n",
    "        if letter.isupper():\n",
    "            newStr += \" \"\n",
    "        newStr += letter\n",
    "    return newStr"
   ]
  },
  {
   "cell_type": "code",
   "execution_count": null,
   "id": "c3fd9e07",
   "metadata": {},
   "outputs": [],
   "source": []
  }
 ],
 "metadata": {
  "kernelspec": {
   "display_name": "Python 3 (ipykernel)",
   "language": "python",
   "name": "python3"
  },
  "language_info": {
   "codemirror_mode": {
    "name": "ipython",
    "version": 3
   },
   "file_extension": ".py",
   "mimetype": "text/x-python",
   "name": "python",
   "nbconvert_exporter": "python",
   "pygments_lexer": "ipython3",
   "version": "3.10.6"
  },
  "toc": {
   "base_numbering": 1,
   "nav_menu": {},
   "number_sections": true,
   "sideBar": true,
   "skip_h1_title": false,
   "title_cell": "Table of Contents",
   "title_sidebar": "Contents",
   "toc_cell": false,
   "toc_position": {},
   "toc_section_display": true,
   "toc_window_display": false
  }
 },
 "nbformat": 4,
 "nbformat_minor": 5
}
