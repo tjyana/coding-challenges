{
 "cells": [
  {
   "cell_type": "markdown",
   "id": "c7fbf09b",
   "metadata": {},
   "source": [
    "Description\n",
    "We need a function that can transform a string into a number. What ways of achieving this do you know?\n",
    "\n",
    "Note: Don't worry, all inputs will be strings, and every string is a perfectly valid representation of an integral number.\n",
    "\n",
    "Examples\n",
    "\"1234\" --> 1234\n",
    "\"605\"  --> 605\n",
    "\"1405\" --> 1405\n",
    "\"-7\" --> -7"
   ]
  },
  {
   "cell_type": "markdown",
   "id": "58554a98",
   "metadata": {},
   "source": [
    "Examples\n",
    "`\"1234\" --> 1234\n",
    "\"605\"  --> 605\n",
    "\"1405\" --> 1405\n",
    "\"-7\" --> -7`"
   ]
  },
  {
   "cell_type": "markdown",
   "id": "2805ceaa",
   "metadata": {},
   "source": [
    "4/23/2024"
   ]
  },
  {
   "cell_type": "code",
   "execution_count": 3,
   "id": "180dc15d",
   "metadata": {},
   "outputs": [
    {
     "data": {
      "text/plain": [
       "134234"
      ]
     },
     "execution_count": 3,
     "metadata": {},
     "output_type": "execute_result"
    }
   ],
   "source": [
    "def string_to_number(s):\n",
    "    return int(s)\n",
    "\n",
    "string_to_number('134234')"
   ]
  },
  {
   "cell_type": "code",
   "execution_count": null,
   "id": "bd3a52b9",
   "metadata": {},
   "outputs": [],
   "source": []
  }
 ],
 "metadata": {
  "kernelspec": {
   "display_name": "Python 3 (ipykernel)",
   "language": "python",
   "name": "python3"
  },
  "language_info": {
   "codemirror_mode": {
    "name": "ipython",
    "version": 3
   },
   "file_extension": ".py",
   "mimetype": "text/x-python",
   "name": "python",
   "nbconvert_exporter": "python",
   "pygments_lexer": "ipython3",
   "version": "3.10.6"
  },
  "toc": {
   "base_numbering": 1,
   "nav_menu": {},
   "number_sections": true,
   "sideBar": true,
   "skip_h1_title": false,
   "title_cell": "Table of Contents",
   "title_sidebar": "Contents",
   "toc_cell": false,
   "toc_position": {},
   "toc_section_display": true,
   "toc_window_display": false
  }
 },
 "nbformat": 4,
 "nbformat_minor": 5
}
