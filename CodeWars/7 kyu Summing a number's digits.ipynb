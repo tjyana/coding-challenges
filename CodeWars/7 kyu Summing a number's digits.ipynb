{
 "cells": [
  {
   "cell_type": "code",
   "execution_count": null,
   "id": "ba3f2697",
   "metadata": {},
   "outputs": [],
   "source": [
    "Write a function named sumDigits which takes a number as input and returns the sum of the absolute value of each of the number's decimal digits.\n",
    "\n",
    "For example: (Input --> Output)\n",
    "\n",
    "10 --> 1\n",
    "99 --> 18\n",
    "-32 --> 5\n",
    "Let's assume that all numbers in the input will be integer values."
   ]
  },
  {
   "cell_type": "code",
   "execution_count": 20,
   "id": "c0932ec7",
   "metadata": {},
   "outputs": [],
   "source": [
    "def sum_digits(number):\n",
    "    return sum([int(digit) for digit in list(str(abs(number)))])"
   ]
  },
  {
   "cell_type": "code",
   "execution_count": 15,
   "id": "13b0b260",
   "metadata": {},
   "outputs": [
    {
     "ename": "TypeError",
     "evalue": "'int' object is not iterable",
     "output_type": "error",
     "traceback": [
      "\u001b[0;31m---------------------------------------------------------------------------\u001b[0m",
      "\u001b[0;31mTypeError\u001b[0m                                 Traceback (most recent call last)",
      "Cell \u001b[0;32mIn [15], line 2\u001b[0m\n\u001b[1;32m      1\u001b[0m number \u001b[38;5;241m=\u001b[39m \u001b[38;5;241m23423\u001b[39m\n\u001b[0;32m----> 2\u001b[0m [digit \u001b[38;5;28;01mfor\u001b[39;00m digit \u001b[38;5;129;01min\u001b[39;00m number]\n",
      "\u001b[0;31mTypeError\u001b[0m: 'int' object is not iterable"
     ]
    }
   ],
   "source": [
    "number = 23423"
   ]
  },
  {
   "cell_type": "code",
   "execution_count": 13,
   "id": "812b1ff5",
   "metadata": {},
   "outputs": [
    {
     "data": {
      "text/plain": [
       "['2', '3', '4', '2', '3']"
      ]
     },
     "execution_count": 13,
     "metadata": {},
     "output_type": "execute_result"
    }
   ],
   "source": [
    "[number for number in numbers]"
   ]
  },
  {
   "cell_type": "code",
   "execution_count": 8,
   "id": "e0d0d62e",
   "metadata": {},
   "outputs": [],
   "source": [
    "numbers = list(str(number))"
   ]
  },
  {
   "cell_type": "code",
   "execution_count": 9,
   "id": "6b9b64f6",
   "metadata": {},
   "outputs": [
    {
     "data": {
      "text/plain": [
       "14"
      ]
     },
     "execution_count": 9,
     "metadata": {},
     "output_type": "execute_result"
    }
   ],
   "source": [
    "total = 0\n",
    "for digit in numbers:\n",
    "    total += int(digit)\n",
    "    \n",
    "\n",
    "total"
   ]
  },
  {
   "cell_type": "code",
   "execution_count": 19,
   "id": "7c7e553e",
   "metadata": {},
   "outputs": [
    {
     "data": {
      "text/plain": [
       "14"
      ]
     },
     "execution_count": 19,
     "metadata": {},
     "output_type": "execute_result"
    }
   ],
   "source": [
    "sum([int(digit) for digit in list(str(number))])"
   ]
  },
  {
   "cell_type": "code",
   "execution_count": null,
   "id": "f6c3ec02",
   "metadata": {},
   "outputs": [],
   "source": [
    "# didn't need the list(). just needed to be an interable\n",
    "\n",
    "def sum_digits(number):\n",
    "    return sum([int(digit) for digit in str(abs(number))])"
   ]
  }
 ],
 "metadata": {
  "kernelspec": {
   "display_name": "Python 3 (ipykernel)",
   "language": "python",
   "name": "python3"
  },
  "language_info": {
   "codemirror_mode": {
    "name": "ipython",
    "version": 3
   },
   "file_extension": ".py",
   "mimetype": "text/x-python",
   "name": "python",
   "nbconvert_exporter": "python",
   "pygments_lexer": "ipython3",
   "version": "3.10.6"
  },
  "toc": {
   "base_numbering": 1,
   "nav_menu": {},
   "number_sections": true,
   "sideBar": true,
   "skip_h1_title": false,
   "title_cell": "Table of Contents",
   "title_sidebar": "Contents",
   "toc_cell": false,
   "toc_position": {},
   "toc_section_display": true,
   "toc_window_display": false
  }
 },
 "nbformat": 4,
 "nbformat_minor": 5
}
