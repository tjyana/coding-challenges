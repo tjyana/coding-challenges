{
 "cells": [
  {
   "cell_type": "markdown",
   "id": "8a2d9d10",
   "metadata": {},
   "source": [
    "Mr. Scrooge has a sum of money 'P' that he wants to invest. Before he does, he wants to know how many years 'Y' this sum 'P' has to be kept in the bank in order for it to amount to a desired sum of money 'D'.\n",
    "\n",
    "The sum is kept for 'Y' years in the bank where interest 'I' is paid yearly. After paying taxes 'T' for the year the new sum is re-invested.\n",
    "\n",
    "Note to Tax: not the invested principal is taxed, but only the year's accrued interest\n",
    "\n",
    "Example:"
   ]
  },
  {
   "cell_type": "markdown",
   "id": "426068d8",
   "metadata": {},
   "source": [
    "```python\n",
    "Let P be the Principal = 1000.00      \n",
    "  Let I be the Interest Rate = 0.05      \n",
    "  Let T be the Tax Rate = 0.18      \n",
    "  Let D be the Desired Sum = 1100.00\n",
    "\n",
    "\n",
    "After 1st Year -->\n",
    "  P = 1041.00\n",
    "After 2nd Year -->\n",
    "  P = 1083.86\n",
    "After 3rd Year -->\n",
    "  P = 1128.30\n",
    "```"
   ]
  },
  {
   "cell_type": "markdown",
   "id": "b180cbce",
   "metadata": {},
   "source": [
    "Thus Mr. Scrooge has to wait for 3 years for the initial principal to amount to the desired sum.\n",
    "\n",
    "Your task is to complete the method provided and return the number of years 'Y' as a whole in order for Mr. Scrooge to get the desired sum.\n",
    "\n",
    "Assumption: Assume that Desired Principal 'D' is always greater than the initial principal. However it is best to take into consideration that if Desired Principal 'D' is equal to Principal 'P' this should return 0 Years."
   ]
  },
  {
   "cell_type": "code",
   "execution_count": null,
   "id": "22652887",
   "metadata": {},
   "outputs": [],
   "source": []
  }
 ],
 "metadata": {
  "kernelspec": {
   "display_name": "Python 3 (ipykernel)",
   "language": "python",
   "name": "python3"
  },
  "language_info": {
   "codemirror_mode": {
    "name": "ipython",
    "version": 3
   },
   "file_extension": ".py",
   "mimetype": "text/x-python",
   "name": "python",
   "nbconvert_exporter": "python",
   "pygments_lexer": "ipython3",
   "version": "3.10.6"
  },
  "toc": {
   "base_numbering": 1,
   "nav_menu": {},
   "number_sections": true,
   "sideBar": true,
   "skip_h1_title": false,
   "title_cell": "Table of Contents",
   "title_sidebar": "Contents",
   "toc_cell": false,
   "toc_position": {},
   "toc_section_display": true,
   "toc_window_display": false
  }
 },
 "nbformat": 4,
 "nbformat_minor": 5
}
