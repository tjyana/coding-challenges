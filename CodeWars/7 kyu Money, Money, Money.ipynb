{
 "cells": [
  {
   "cell_type": "markdown",
   "id": "8a2d9d10",
   "metadata": {},
   "source": [
    "Mr. Scrooge has a sum of money 'P' that he wants to invest. Before he does, he wants to know how many years 'Y' this sum 'P' has to be kept in the bank in order for it to amount to a desired sum of money 'D'.\n",
    "\n",
    "The sum is kept for 'Y' years in the bank where interest 'I' is paid yearly. After paying taxes 'T' for the year the new sum is re-invested.\n",
    "\n",
    "Note to Tax: not the invested principal is taxed, but only the year's accrued interest\n",
    "\n",
    "Example:"
   ]
  },
  {
   "cell_type": "markdown",
   "id": "426068d8",
   "metadata": {},
   "source": [
    "```python\n",
    "Let P be the Principal = 1000.00      \n",
    "  Let I be the Interest Rate = 0.05      \n",
    "  Let T be the Tax Rate = 0.18      \n",
    "  Let D be the Desired Sum = 1100.00\n",
    "\n",
    "\n",
    "After 1st Year -->\n",
    "  P = 1041.00\n",
    "After 2nd Year -->\n",
    "  P = 1083.86\n",
    "After 3rd Year -->\n",
    "  P = 1128.30\n",
    "```"
   ]
  },
  {
   "cell_type": "markdown",
   "id": "b180cbce",
   "metadata": {},
   "source": [
    "Thus Mr. Scrooge has to wait for 3 years for the initial principal to amount to the desired sum.\n",
    "\n",
    "Your task is to complete the method provided and return the number of years 'Y' as a whole in order for Mr. Scrooge to get the desired sum.\n",
    "\n",
    "Assumption: Assume that Desired Principal 'D' is always greater than the initial principal. However it is best to take into consideration that if Desired Principal 'D' is equal to Principal 'P' this should return 0 Years."
   ]
  },
  {
   "cell_type": "markdown",
   "id": "302e9b09",
   "metadata": {},
   "source": [
    "P = starting out amount\n",
    "I = interest rate\n",
    "T = subtracted rate\n",
    "D = desired goal\n",
    "\n",
    "Y = final output. how many years it takes to get desired amount\n",
    "\n",
    "D = P * ((1 + I) ** Y) * (1-T)"
   ]
  },
  {
   "cell_type": "code",
   "execution_count": 1,
   "id": "aa5b2935",
   "metadata": {},
   "outputs": [
    {
     "data": {
      "text/plain": [
       "50.0"
      ]
     },
     "execution_count": 1,
     "metadata": {},
     "output_type": "execute_result"
    }
   ],
   "source": [
    "1000 * 0.05"
   ]
  },
  {
   "cell_type": "code",
   "execution_count": 2,
   "id": "ff579088",
   "metadata": {},
   "outputs": [
    {
     "data": {
      "text/plain": [
       "9.0"
      ]
     },
     "execution_count": 2,
     "metadata": {},
     "output_type": "execute_result"
    }
   ],
   "source": [
    "1000 * 0.05 * .18"
   ]
  },
  {
   "cell_type": "code",
   "execution_count": null,
   "id": "a8715e80",
   "metadata": {},
   "outputs": [],
   "source": [
    "years = 0\n",
    "if principal == desired:\n",
    "    return 0\n",
    "while principal < desired:\n",
    "    principal = principal * (1 + interest) - principal * interest * tax\n",
    "    years += 1"
   ]
  },
  {
   "cell_type": "code",
   "execution_count": 6,
   "id": "498ba4cb",
   "metadata": {},
   "outputs": [],
   "source": [
    "def calculate_years(principal, interest, tax, desired):\n",
    "    years = 0\n",
    "    if principal == desired:\n",
    "        return 0\n",
    "    while principal < desired:\n",
    "        principal = principal * (1 + interest) - principal * interest * tax\n",
    "        years += 1\n",
    "    return years\n",
    "\n"
   ]
  },
  {
   "cell_type": "code",
   "execution_count": 7,
   "id": "a1a00516",
   "metadata": {},
   "outputs": [
    {
     "data": {
      "text/plain": [
       "3"
      ]
     },
     "execution_count": 7,
     "metadata": {},
     "output_type": "execute_result"
    }
   ],
   "source": [
    "principal = 1000\n",
    "interest = 0.05\n",
    "tax = 0.18\n",
    "desired = 1100\n",
    "years = 2\n",
    "\n",
    "calculate_years(principal, interest, tax, desired)"
   ]
  },
  {
   "cell_type": "code",
   "execution_count": 7,
   "id": "18c0ffb3",
   "metadata": {},
   "outputs": [
    {
     "ename": "TypeError",
     "evalue": "'int' object is not iterable",
     "output_type": "error",
     "traceback": [
      "\u001b[0;31m---------------------------------------------------------------------------\u001b[0m",
      "\u001b[0;31mTypeError\u001b[0m                                 Traceback (most recent call last)",
      "Cell \u001b[0;32mIn [7], line 14\u001b[0m\n\u001b[1;32m     11\u001b[0m desired \u001b[38;5;241m=\u001b[39m \u001b[38;5;241m1100\u001b[39m\n\u001b[1;32m     12\u001b[0m years \u001b[38;5;241m=\u001b[39m \u001b[38;5;241m2\u001b[39m\n\u001b[0;32m---> 14\u001b[0m \u001b[43mcalculate_years\u001b[49m\u001b[43m(\u001b[49m\u001b[43mprincipal\u001b[49m\u001b[43m,\u001b[49m\u001b[43m \u001b[49m\u001b[43minterest\u001b[49m\u001b[43m,\u001b[49m\u001b[43m \u001b[49m\u001b[43mtax\u001b[49m\u001b[43m,\u001b[49m\u001b[43m \u001b[49m\u001b[43mdesired\u001b[49m\u001b[43m)\u001b[49m\n",
      "Cell \u001b[0;32mIn [7], line 2\u001b[0m, in \u001b[0;36mcalculate_years\u001b[0;34m(principal, interest, tax, desired)\u001b[0m\n\u001b[1;32m      1\u001b[0m \u001b[38;5;28;01mdef\u001b[39;00m \u001b[38;5;21mcalculate_years\u001b[39m(principal, interest, tax, desired):\n\u001b[0;32m----> 2\u001b[0m     \u001b[38;5;28;01mfor\u001b[39;00m year \u001b[38;5;129;01min\u001b[39;00m years:\n\u001b[1;32m      3\u001b[0m         earned \u001b[38;5;241m=\u001b[39m principal \u001b[38;5;241m*\u001b[39m (\u001b[38;5;241m1\u001b[39m\u001b[38;5;241m+\u001b[39minterest) \n\u001b[1;32m      4\u001b[0m         taxed \u001b[38;5;241m=\u001b[39m (principal \u001b[38;5;241m*\u001b[39m interest \u001b[38;5;241m*\u001b[39m tax)\n",
      "\u001b[0;31mTypeError\u001b[0m: 'int' object is not iterable"
     ]
    }
   ],
   "source": [
    "\n",
    "\n",
    "\n",
    "def calculate_years(principal, interest, tax, desired):\n",
    "    for year in years:\n",
    "        earned = principal * (1+interest) \n",
    "        taxed = (principal * interest * tax)\n",
    "        principal = earned - taxed\n",
    "    return principal\n",
    "\n",
    "principal = 1000\n",
    "interest = 0.05\n",
    "tax = 0.18\n",
    "desired = 1100\n",
    "years = 2\n",
    "\n",
    "calculate_years(principal, interest, tax, desired)"
   ]
  },
  {
   "cell_type": "code",
   "execution_count": null,
   "id": "22652887",
   "metadata": {},
   "outputs": [],
   "source": [
    "\n",
    "    \n",
    "    raise NotImplementedError(\"TODO: calculate_years\")\n",
    "    \n",
    "    return Y"
   ]
  }
 ],
 "metadata": {
  "kernelspec": {
   "display_name": "Python 3 (ipykernel)",
   "language": "python",
   "name": "python3"
  },
  "language_info": {
   "codemirror_mode": {
    "name": "ipython",
    "version": 3
   },
   "file_extension": ".py",
   "mimetype": "text/x-python",
   "name": "python",
   "nbconvert_exporter": "python",
   "pygments_lexer": "ipython3",
   "version": "3.10.6"
  },
  "toc": {
   "base_numbering": 1,
   "nav_menu": {},
   "number_sections": true,
   "sideBar": true,
   "skip_h1_title": false,
   "title_cell": "Table of Contents",
   "title_sidebar": "Contents",
   "toc_cell": false,
   "toc_position": {},
   "toc_section_display": true,
   "toc_window_display": false
  }
 },
 "nbformat": 4,
 "nbformat_minor": 5
}
