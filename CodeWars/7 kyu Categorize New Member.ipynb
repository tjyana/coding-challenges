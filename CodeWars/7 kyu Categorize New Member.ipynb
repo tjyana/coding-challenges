{
 "cells": [
  {
   "cell_type": "markdown",
   "id": "026e9841",
   "metadata": {},
   "source": [
    "The Western Suburbs Croquet Club has two categories of membership, Senior and Open. They would like your help with an application form that will tell prospective members which category they will be placed.\n",
    "\n",
    "To be a senior, a member must be at least 55 years old and have a handicap greater than 7. In this croquet club, handicaps range from -2 to +26; the better the player the lower the handicap.\n",
    "\n",
    "Input\n",
    "Input will consist of a list of pairs. Each pair contains information for a single potential member. Information consists of an integer for the person's age and an integer for the person's handicap.\n",
    "\n",
    "Output\n",
    "Output will consist of a list of string values (in Haskell and C: Open or Senior) stating whether the respective member is to be placed in the senior or open category.\n",
    "\n",
    "Example\n",
    "input =  [[18, 20], [45, 2], [61, 12], [37, 6], [21, 21], [78, 9]]\n",
    "output = [\"Open\", \"Open\", \"Senior\", \"Open\", \"Open\", \"Senior\"]"
   ]
  },
  {
   "cell_type": "code",
   "execution_count": null,
   "id": "b542dc71",
   "metadata": {},
   "outputs": [],
   "source": [
    "def open_or_senior(data):\n",
    "    return [\"Senior\" if (person[0]>54 and person[1]>7) else \"Open\" for person in data]"
   ]
  },
  {
   "cell_type": "code",
   "execution_count": 5,
   "id": "c11d9d8d",
   "metadata": {},
   "outputs": [],
   "source": [
    "def what(data):\n",
    "    \n"
   ]
  },
  {
   "cell_type": "code",
   "execution_count": 6,
   "id": "0cf203f9",
   "metadata": {},
   "outputs": [
    {
     "data": {
      "text/plain": [
       "'Open'"
      ]
     },
     "execution_count": 6,
     "metadata": {},
     "output_type": "execute_result"
    }
   ],
   "source": [
    "what([19, 20])"
   ]
  },
  {
   "cell_type": "code",
   "execution_count": 7,
   "id": "5ab85afb",
   "metadata": {},
   "outputs": [],
   "source": [
    "# could have also unpacked it with variable assignment\n",
    "\n",
    "def open_or_senior(data):\n",
    "    return [\"Senior\" if (a>54 and b>7) else \"Open\" for (a, b) in data]"
   ]
  },
  {
   "cell_type": "code",
   "execution_count": null,
   "id": "a10576f5",
   "metadata": {},
   "outputs": [],
   "source": []
  }
 ],
 "metadata": {
  "kernelspec": {
   "display_name": "Python 3 (ipykernel)",
   "language": "python",
   "name": "python3"
  },
  "language_info": {
   "codemirror_mode": {
    "name": "ipython",
    "version": 3
   },
   "file_extension": ".py",
   "mimetype": "text/x-python",
   "name": "python",
   "nbconvert_exporter": "python",
   "pygments_lexer": "ipython3",
   "version": "3.10.6"
  },
  "toc": {
   "base_numbering": 1,
   "nav_menu": {},
   "number_sections": true,
   "sideBar": true,
   "skip_h1_title": false,
   "title_cell": "Table of Contents",
   "title_sidebar": "Contents",
   "toc_cell": false,
   "toc_position": {},
   "toc_section_display": true,
   "toc_window_display": false
  }
 },
 "nbformat": 4,
 "nbformat_minor": 5
}
