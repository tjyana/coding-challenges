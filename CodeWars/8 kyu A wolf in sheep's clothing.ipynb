{
 "cells": [
  {
   "cell_type": "code",
   "execution_count": null,
   "id": "1ec86634",
   "metadata": {},
   "outputs": [],
   "source": [
    "Wolves have been reintroduced to Great Britain. You are a sheep farmer, and are now plagued by wolves which pretend to be sheep. Fortunately, you are good at spotting them.\n",
    "\n",
    "Warn the sheep in front of the wolf that it is about to be eaten. Remember that you are standing at the front of the queue which is at the end of the array:\n",
    "\n",
    "[sheep, sheep, sheep, sheep, sheep, wolf, sheep, sheep]      (YOU ARE HERE AT THE FRONT OF THE QUEUE)\n",
    "   7      6      5      4      3            2      1\n",
    "If the wolf is the closest animal to you, return \"Pls go away and stop eating my sheep\". Otherwise, return \"Oi! Sheep number N! You are about to be eaten by a wolf!\" where N is the sheep's position in the queue.\n",
    "\n",
    "Note: there will always be exactly one wolf in the array.\n",
    "\n",
    "Examples\n",
    "Input: [\"sheep\", \"sheep\", \"sheep\", \"wolf\", \"sheep\"]\n",
    "Output: \"Oi! Sheep number 1! You are about to be eaten by a wolf!\"\n",
    "\n",
    "Input: [\"sheep\", \"sheep\", \"wolf\"]\n",
    "Output: \"Pls go away and stop eating my sheep\""
   ]
  },
  {
   "cell_type": "code",
   "execution_count": 13,
   "id": "83225102",
   "metadata": {},
   "outputs": [],
   "source": [
    "# submitted\n",
    "\n",
    "def warn_the_sheep(queue):\n",
    "    for i, j in enumerate(reversed(queue), 1):\n",
    "        if j == 'wolf':\n",
    "            if i-1 == False: return \"Pls go away and stop eating my sheep\"\n",
    "            else: return f\"Oi! Sheep number {i-1}! You are about to be eaten by a wolf!\""
   ]
  },
  {
   "cell_type": "code",
   "execution_count": 4,
   "id": "ce99ba5c",
   "metadata": {},
   "outputs": [],
   "source": [
    "eaten = 0\n",
    "goaway = \"Pls go away and stop eating my sheep\"\n",
    "warn = f\"Oi! Sheep number {i}! You are about to be eaten by a wolf!\"\n",
    "\n",
    "queue = ['sheep', 'sheep', 'sheep', 'sheep', 'sheep', 'wolf', 'sheep', 'sheep']"
   ]
  },
  {
   "cell_type": "code",
   "execution_count": 12,
   "id": "e3fd5d1d",
   "metadata": {},
   "outputs": [
    {
     "ename": "SyntaxError",
     "evalue": "'return' outside function (1817122354.py, line 4)",
     "output_type": "error",
     "traceback": [
      "\u001b[0;36m  Cell \u001b[0;32mIn [12], line 4\u001b[0;36m\u001b[0m\n\u001b[0;31m    if i-1 == False: return \"Pls go away and stop eating my sheep\"\u001b[0m\n\u001b[0m                     ^\u001b[0m\n\u001b[0;31mSyntaxError\u001b[0m\u001b[0;31m:\u001b[0m 'return' outside function\n"
     ]
    }
   ],
   "source": [
    "\n",
    "\n",
    "for i, j in enumerate(reversed(queue), 1):\n",
    "    print(i, j)\n",
    "    if j == 'wolf':\n",
    "        if i-1 == False: return \"Pls go away and stop eating my sheep\"\n",
    "        else: return f\"Oi! Sheep number {i-1}! You are about to be eaten by a wolf!\"\n",
    "    "
   ]
  },
  {
   "cell_type": "code",
   "execution_count": 14,
   "id": "6e12c12d",
   "metadata": {},
   "outputs": [
    {
     "data": {
      "text/plain": [
       "'Oi! Sheep number 2! You are about to be eaten by a wolf!'"
      ]
     },
     "execution_count": 14,
     "metadata": {},
     "output_type": "execute_result"
    }
   ],
   "source": [
    "queue = ['sheep', 'sheep', 'sheep', 'sheep', 'sheep', 'wolf', 'sheep', 'sheep']\n",
    "warn_the_sheep(queue)"
   ]
  },
  {
   "cell_type": "code",
   "execution_count": null,
   "id": "a801b597",
   "metadata": {},
   "outputs": [],
   "source": [
    "# efficient logical solution\n",
    "\n",
    "def warn_the_sheep(queue):\n",
    "    n = len(queue) - queue.index('wolf') - 1\n",
    "    return f'Oi! Sheep number {n}! You are about to be eaten by a wolf!' if n else 'Pls go away and stop eating my sheep'\n",
    "\n",
    "# get the index position of the sheep that needs to be warned (bc you don't need index position of wolf technically)\n",
    "    # which is going to be length of queue minus index of the wolf minus 1 bc of exclusiveness\n",
    "# and just apply if else\n",
    "# no reversal required\n",
    "\n"
   ]
  },
  {
   "cell_type": "code",
   "execution_count": 15,
   "id": "2791da02",
   "metadata": {},
   "outputs": [
    {
     "data": {
      "text/plain": [
       "2"
      ]
     },
     "execution_count": 15,
     "metadata": {},
     "output_type": "execute_result"
    }
   ],
   "source": [
    "# another way might have been to use this, which would have returned position of sheep:\n",
    "queue = ['sheep', 'sheep', 'sheep', 'sheep', 'sheep', 'wolf', 'sheep', 'sheep']\n",
    "queue[::-1].index(\"wolf\")\n",
    "\n",
    "# reverses queue as needed and then gets index of wolf, which is 1 off so it ends up being the sheep"
   ]
  },
  {
   "cell_type": "code",
   "execution_count": null,
   "id": "8e865803",
   "metadata": {},
   "outputs": [],
   "source": []
  }
 ],
 "metadata": {
  "kernelspec": {
   "display_name": "Python 3 (ipykernel)",
   "language": "python",
   "name": "python3"
  },
  "language_info": {
   "codemirror_mode": {
    "name": "ipython",
    "version": 3
   },
   "file_extension": ".py",
   "mimetype": "text/x-python",
   "name": "python",
   "nbconvert_exporter": "python",
   "pygments_lexer": "ipython3",
   "version": "3.10.6"
  },
  "toc": {
   "base_numbering": 1,
   "nav_menu": {},
   "number_sections": true,
   "sideBar": true,
   "skip_h1_title": false,
   "title_cell": "Table of Contents",
   "title_sidebar": "Contents",
   "toc_cell": false,
   "toc_position": {},
   "toc_section_display": true,
   "toc_window_display": false
  }
 },
 "nbformat": 4,
 "nbformat_minor": 5
}
