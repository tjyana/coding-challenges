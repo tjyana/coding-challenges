{
 "cells": [
  {
   "cell_type": "code",
   "execution_count": null,
   "id": "83d6b9de",
   "metadata": {},
   "outputs": [],
   "source": [
    "Acknowledgments:\n",
    "I thank yvonne-liu for the idea and for the example tests :)\n",
    "\n",
    "Description:\n",
    "Encrypt this!\n",
    "\n",
    "You want to create secret messages which can be deciphered by the Decipher this! kata. Here are the conditions:\n",
    "\n",
    "Your message is a string containing space separated words.\n",
    "You need to encrypt each word in the message using the following rules:\n",
    "The first letter must be converted to its ASCII code.\n",
    "The second letter must be switched with the last letter\n",
    "Keepin' it simple: There are no special characters in the input.\n",
    "Examples:\n",
    "encrypt_this(\"Hello\") == \"72olle\"\n",
    "encrypt_this(\"good\") == \"103doo\"\n",
    "encrypt_this(\"hello world\") == \"104olle 119drlo\""
   ]
  },
  {
   "cell_type": "code",
   "execution_count": 22,
   "id": "d79df009",
   "metadata": {},
   "outputs": [],
   "source": [
    "def encrypt_this(text):\n",
    "    result = []\n",
    "    for word in text.split():    \n",
    "        if len(word) == 1:\n",
    "            result.append(ord(word))\n",
    "        elif len(word) ==2:\n",
    "            result.append(str(ord(word[0])) + word[1])                \n",
    "        else:    \n",
    "            result.append(str(ord(word[0])) + word[-1] + word[2:-1] + word[1])\n",
    "    return result        "
   ]
  },
  {
   "cell_type": "code",
   "execution_count": 36,
   "id": "4d4c5a26",
   "metadata": {},
   "outputs": [],
   "source": [
    "def encrypt_this(text):\n",
    "    result = []\n",
    "    for word in text.split():    \n",
    "        if len(word) == 1:\n",
    "            result.append(f'{ord(word[0])}')\n",
    "        elif len(word) ==2:\n",
    "            result.append(f'{ord(word[0])}{word[-1]}')                \n",
    "        else:    \n",
    "            result.append(f'{ord(word[0])}{word[-1]}{word[2:-1]}{word[1]}')\n",
    "    return ' '.join(result)"
   ]
  },
  {
   "cell_type": "code",
   "execution_count": 37,
   "id": "9d278942",
   "metadata": {},
   "outputs": [
    {
     "data": {
      "text/plain": [
       "'104olle 119drlo 97 98 97s 97s'"
      ]
     },
     "execution_count": 37,
     "metadata": {},
     "output_type": "execute_result"
    }
   ],
   "source": [
    "text = \"hello world a b as as\"\n",
    "encrypt_this(text)"
   ]
  },
  {
   "cell_type": "code",
   "execution_count": 17,
   "id": "92c1d0ec",
   "metadata": {},
   "outputs": [
    {
     "data": {
      "text/plain": [
       "'97gcdefb'"
      ]
     },
     "execution_count": 17,
     "metadata": {},
     "output_type": "execute_result"
    }
   ],
   "source": [
    "\n",
    "str(ord(word[0])) + word[-1] + word[2:-1] + word[1]"
   ]
  },
  {
   "cell_type": "code",
   "execution_count": 14,
   "id": "8b1865b8",
   "metadata": {},
   "outputs": [
    {
     "data": {
      "text/plain": [
       "['hello', 'world']"
      ]
     },
     "execution_count": 14,
     "metadata": {},
     "output_type": "execute_result"
    }
   ],
   "source": [
    "text = \"hello world\"\n",
    "text.split()"
   ]
  },
  {
   "cell_type": "code",
   "execution_count": null,
   "id": "ea639c8b",
   "metadata": {},
   "outputs": [],
   "source": []
  }
 ],
 "metadata": {
  "kernelspec": {
   "display_name": "Python 3 (ipykernel)",
   "language": "python",
   "name": "python3"
  },
  "language_info": {
   "codemirror_mode": {
    "name": "ipython",
    "version": 3
   },
   "file_extension": ".py",
   "mimetype": "text/x-python",
   "name": "python",
   "nbconvert_exporter": "python",
   "pygments_lexer": "ipython3",
   "version": "3.10.6"
  },
  "toc": {
   "base_numbering": 1,
   "nav_menu": {},
   "number_sections": true,
   "sideBar": true,
   "skip_h1_title": false,
   "title_cell": "Table of Contents",
   "title_sidebar": "Contents",
   "toc_cell": false,
   "toc_position": {},
   "toc_section_display": true,
   "toc_window_display": false
  }
 },
 "nbformat": 4,
 "nbformat_minor": 5
}
