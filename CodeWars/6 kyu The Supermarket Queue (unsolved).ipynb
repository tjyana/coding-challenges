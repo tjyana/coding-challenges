{
 "cells": [
  {
   "cell_type": "code",
   "execution_count": null,
   "id": "31a612ba",
   "metadata": {},
   "outputs": [],
   "source": [
    "There is a queue for the self-checkout tills at the supermarket. Your task is write a function to calculate the total time required for all the customers to check out!\n",
    "\n",
    "input\n",
    "customers: an array of positive integers representing the queue. Each integer represents a customer, and its value is the amount of time they require to check out.\n",
    "n: a positive integer, the number of checkout tills.\n",
    "output\n",
    "The function should return an integer, the total time required.\n",
    "\n",
    "Important\n",
    "Please look at the examples and clarifications below, to ensure you understand the task correctly :)\n",
    "\n",
    "Examples\n",
    "queue_time([5,3,4], 1)\n",
    "# should return 12\n",
    "# because when n=1, the total time is just the sum of the times\n",
    "\n",
    "queue_time([10,2,3,3], 2)\n",
    "# should return 10\n",
    "# because here n=2 and the 2nd, 3rd, and 4th people in the \n",
    "# queue finish before the 1st person has finished.\n",
    "\n",
    "queue_time([2,3,10], 2)\n",
    "# should return 12\n",
    "\n",
    "Clarifications\n",
    "There is only ONE queue serving many tills, and\n",
    "The order of the queue NEVER changes, and\n",
    "The front person in the queue (i.e. the first element in the array/list) proceeds to a till as soon as it becomes free.\n",
    "N.B. You should assume that all the test input will be valid, as specified above.\n",
    "\n",
    "P.S. The situation in this kata can be likened to the more-computer-science-related idea of a thread pool, with relation to running multiple processes at the same time: https://en.wikipedia.org/wiki/Thread_pool"
   ]
  },
  {
   "cell_type": "code",
   "execution_count": null,
   "id": "00e060c3",
   "metadata": {},
   "outputs": [],
   "source": [
    "def queue_time(customers, n):\n",
    "    pass # TODO\n"
   ]
  },
  {
   "cell_type": "code",
   "execution_count": null,
   "id": "7cc71c73",
   "metadata": {},
   "outputs": [],
   "source": [
    "for till in range(n):\n",
    "    till"
   ]
  },
  {
   "cell_type": "code",
   "execution_count": 6,
   "id": "c8cb1db8",
   "metadata": {},
   "outputs": [
    {
     "name": "stdout",
     "output_type": "stream",
     "text": [
      "0\n",
      "1\n",
      "2\n",
      "3\n",
      "4\n"
     ]
    }
   ],
   "source": [
    "n = 5\n",
    "for i in range(n):\n",
    "    print(i)"
   ]
  },
  {
   "cell_type": "code",
   "execution_count": 7,
   "id": "7589e94c",
   "metadata": {},
   "outputs": [
    {
     "data": {
      "text/plain": [
       "[0, 1, 2, 3, 4]"
      ]
     },
     "execution_count": 7,
     "metadata": {},
     "output_type": "execute_result"
    }
   ],
   "source": [
    "list(range(n))"
   ]
  },
  {
   "cell_type": "code",
   "execution_count": 8,
   "id": "37248a24",
   "metadata": {},
   "outputs": [
    {
     "ename": "TypeError",
     "evalue": "'int' object is not subscriptable",
     "output_type": "error",
     "traceback": [
      "\u001b[0;31m---------------------------------------------------------------------------\u001b[0m",
      "\u001b[0;31mTypeError\u001b[0m                                 Traceback (most recent call last)",
      "Cell \u001b[0;32mIn [8], line 2\u001b[0m\n\u001b[1;32m      1\u001b[0m \u001b[38;5;28;01mfor\u001b[39;00m i \u001b[38;5;129;01min\u001b[39;00m \u001b[38;5;28mlist\u001b[39m(\u001b[38;5;28mrange\u001b[39m(n)):\n\u001b[0;32m----> 2\u001b[0m     \u001b[38;5;28mprint\u001b[39m(\u001b[43mn\u001b[49m\u001b[43m[\u001b[49m\u001b[43mi\u001b[49m\u001b[43m]\u001b[49m)\n",
      "\u001b[0;31mTypeError\u001b[0m: 'int' object is not subscriptable"
     ]
    }
   ],
   "source": [
    "for i in list(range(n)):\n",
    "    print(n[i])"
   ]
  },
  {
   "cell_type": "code",
   "execution_count": null,
   "id": "5b723ffc",
   "metadata": {},
   "outputs": [],
   "source": [
    "# set up a variable to track the time "
   ]
  }
 ],
 "metadata": {
  "kernelspec": {
   "display_name": "Python 3 (ipykernel)",
   "language": "python",
   "name": "python3"
  },
  "language_info": {
   "codemirror_mode": {
    "name": "ipython",
    "version": 3
   },
   "file_extension": ".py",
   "mimetype": "text/x-python",
   "name": "python",
   "nbconvert_exporter": "python",
   "pygments_lexer": "ipython3",
   "version": "3.10.6"
  },
  "toc": {
   "base_numbering": 1,
   "nav_menu": {},
   "number_sections": true,
   "sideBar": true,
   "skip_h1_title": false,
   "title_cell": "Table of Contents",
   "title_sidebar": "Contents",
   "toc_cell": false,
   "toc_position": {},
   "toc_section_display": true,
   "toc_window_display": false
  }
 },
 "nbformat": 4,
 "nbformat_minor": 5
}
