{
 "cells": [
  {
   "cell_type": "code",
   "execution_count": null,
   "id": "6de7a5e6",
   "metadata": {},
   "outputs": [],
   "source": [
    "Create a function that returns the name of the winner in a fight between two fighters.\n",
    "\n",
    "Each fighter takes turns attacking the other and whoever kills the other first is victorious. Death is defined as having health <= 0.\n",
    "\n",
    "Each fighter will be a Fighter object/instance. See the Fighter class below in your chosen language.\n",
    "\n",
    "Both health and damagePerAttack (damage_per_attack for python) will be integers larger than 0. You can mutate the Fighter objects.\n",
    "\n",
    "Your function also receives a third argument, a string, with the name of the fighter that attacks first.\n",
    "\n",
    "Example:\n",
    "  declare_winner(Fighter(\"Lew\", 10, 2), Fighter(\"Harry\", 5, 4), \"Lew\") => \"Lew\"\n",
    "  \n",
    "  Lew attacks Harry; Harry now has 3 health.\n",
    "  Harry attacks Lew; Lew now has 6 health.\n",
    "  Lew attacks Harry; Harry now has 1 health.\n",
    "  Harry attacks Lew; Lew now has 2 health.\n",
    "  Lew attacks Harry: Harry now has -1 health and is dead. Lew wins.\n",
    "class Fighter(object):\n",
    "    def __init__(self, name, health, damage_per_attack):\n",
    "        self.name = name\n",
    "        self.health = health\n",
    "        self.damage_per_attack = damage_per_attack\n",
    "        \n",
    "    def __str__(self): return \"Fighter({}, {}, {})\".format(self.name, self.health, self.damage_per_attack)\n",
    "    __repr__=__str__"
   ]
  },
  {
   "cell_type": "markdown",
   "id": "53b1eb01",
   "metadata": {},
   "source": [
    "### whaaat the fffff. totally lost on this one\n"
   ]
  },
  {
   "cell_type": "code",
   "execution_count": 1,
   "id": "28ae5507",
   "metadata": {},
   "outputs": [],
   "source": [
    "# solutions"
   ]
  },
  {
   "cell_type": "code",
   "execution_count": 2,
   "id": "29189fd7",
   "metadata": {},
   "outputs": [],
   "source": [
    "def declare_winner(fighter1, fighter2, first_attacker):\n",
    "    cur, opp = (fighter1, fighter2) if first_attacker == fighter1.name else (fighter2, fighter1)\n",
    "    while cur.health > 0:        \n",
    "        opp.health -= cur.damage_per_attack\n",
    "        cur, opp = opp, cur\n",
    "    return opp.name"
   ]
  },
  {
   "cell_type": "code",
   "execution_count": null,
   "id": "cd08b695",
   "metadata": {},
   "outputs": [],
   "source": [
    "def declare_winner(fighter1, fighter2, first_attacker):\n",
    "    # Code your solution here\n",
    "    if(fighter1.name == first_attacker):\n",
    "        winner = fight(fighter1,fighter2)\n",
    "    elif(fighter2.name == first_attacker):\n",
    "        winner = fight(fighter2,fighter1)\n",
    "    return winner.name\n",
    "    \n",
    "def fight(attacker,defender):\n",
    "    print('defender: ' + defender.name + ' current health: ' + str(defender.health))\n",
    "    print('attacker: ' + attacker.name + ' attacks for: ' + str(attacker.damage_per_attack))\n",
    "\n",
    "    defender.health = defender.health - attacker.damage_per_attack\n",
    "    print(defender.name + ' health after being attacked is: ' + str(defender.health))\n",
    "    \n",
    "    if(defender.health <= 0):\n",
    "        print('\\r\\n')\n",
    "        print(defender.name + ' has been defeated')\n",
    "        print(attacker.name + ' is the winner!')\n",
    "        return attacker\n",
    "    else:\n",
    "        print('\\r\\n')\n",
    "        return fight(defender,attacker)"
   ]
  },
  {
   "cell_type": "code",
   "execution_count": null,
   "id": "7128d180",
   "metadata": {},
   "outputs": [],
   "source": [
    "from math import ceil\n",
    "from operator import attrgetter\n",
    "\n",
    "\n",
    "def declare_winner(fighter1, fighter2, first_attacker):\n",
    "    fighter1.turns = ceil(fighter1.health / float(fighter2.damage_per_attack))\n",
    "    fighter2.turns = ceil(fighter2.health / float(fighter1.damage_per_attack))\n",
    "    if fighter1.turns == fighter2.turns:\n",
    "        return first_attacker\n",
    "    return max(fighter1, fighter2, key=attrgetter('turns')).name"
   ]
  }
 ],
 "metadata": {
  "kernelspec": {
   "display_name": "Python 3 (ipykernel)",
   "language": "python",
   "name": "python3"
  },
  "language_info": {
   "codemirror_mode": {
    "name": "ipython",
    "version": 3
   },
   "file_extension": ".py",
   "mimetype": "text/x-python",
   "name": "python",
   "nbconvert_exporter": "python",
   "pygments_lexer": "ipython3",
   "version": "3.10.6"
  },
  "toc": {
   "base_numbering": 1,
   "nav_menu": {},
   "number_sections": true,
   "sideBar": true,
   "skip_h1_title": false,
   "title_cell": "Table of Contents",
   "title_sidebar": "Contents",
   "toc_cell": false,
   "toc_position": {},
   "toc_section_display": true,
   "toc_window_display": false
  }
 },
 "nbformat": 4,
 "nbformat_minor": 5
}
