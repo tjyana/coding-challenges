{
 "cells": [
  {
   "cell_type": "code",
   "execution_count": null,
   "id": "23b78a96",
   "metadata": {},
   "outputs": [],
   "source": [
    "The Story:\n",
    "Bob is working as a bus driver. However, he has become extremely popular amongst the city's residents. With so many passengers wanting to get aboard his bus, he sometimes has to face the problem of not enough space left on the bus! He wants you to write a simple program telling him if he will be able to fit all the passengers.\n",
    "\n",
    "Task Overview:\n",
    "You have to write a function that accepts three parameters:\n",
    "\n",
    "cap is the amount of people the bus can hold excluding the driver.\n",
    "on is the number of people on the bus excluding the driver.\n",
    "wait is the number of people waiting to get on to the bus excluding the driver.\n",
    "If there is enough space, return 0, and if there isn't, return the number of passengers he can't take.\n",
    "\n",
    "Usage Examples:\n",
    "cap = 10, on = 5, wait = 5 --> 0 # He can fit all 5 passengers\n",
    "cap = 100, on = 60, wait = 50 --> 10 # He can't fit 10 of the 50 waiting"
   ]
  },
  {
   "cell_type": "code",
   "execution_count": null,
   "id": "71b12580",
   "metadata": {},
   "outputs": [],
   "source": [
    "def enough(cap, on, wait):\n",
    "    # Your code here\n",
    "    if cap <= on+wait:\n",
    "        return cap-on-wait\n",
    "    else:\n",
    "        return 0"
   ]
  },
  {
   "cell_type": "code",
   "execution_count": null,
   "id": "4c367963",
   "metadata": {},
   "outputs": [],
   "source": [
    "# better solution\n",
    "\n",
    "def enough(cap, on, wait):\n",
    "    return max(0, wait - (cap - on))"
   ]
  }
 ],
 "metadata": {
  "kernelspec": {
   "display_name": "Python 3 (ipykernel)",
   "language": "python",
   "name": "python3"
  },
  "language_info": {
   "codemirror_mode": {
    "name": "ipython",
    "version": 3
   },
   "file_extension": ".py",
   "mimetype": "text/x-python",
   "name": "python",
   "nbconvert_exporter": "python",
   "pygments_lexer": "ipython3",
   "version": "3.10.6"
  },
  "toc": {
   "base_numbering": 1,
   "nav_menu": {},
   "number_sections": true,
   "sideBar": true,
   "skip_h1_title": false,
   "title_cell": "Table of Contents",
   "title_sidebar": "Contents",
   "toc_cell": false,
   "toc_position": {},
   "toc_section_display": true,
   "toc_window_display": false
  }
 },
 "nbformat": 4,
 "nbformat_minor": 5
}
