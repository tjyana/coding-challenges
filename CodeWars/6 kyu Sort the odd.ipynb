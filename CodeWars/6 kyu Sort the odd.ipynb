{
 "cells": [
  {
   "cell_type": "markdown",
   "id": "3858eb48",
   "metadata": {},
   "source": [
    "Task\n",
    "You will be given an array of numbers. You have to sort the odd numbers in ascending order while leaving the even numbers at their original positions.\n",
    "\n",
    "Examples\n",
    "[7, 1]  =>  [1, 7]\n",
    "[5, 8, 6, 3, 4]  =>  [3, 8, 6, 5, 4]\n",
    "[9, 8, 7, 6, 5, 4, 3, 2, 1, 0]  =>  [1, 8, 3, 6, 5, 4, 7, 2, 9, 0]"
   ]
  },
  {
   "cell_type": "code",
   "execution_count": null,
   "id": "a9427fa2",
   "metadata": {},
   "outputs": [],
   "source": [
    "# evens stay in place\n",
    "# odds get rearranged\n",
    "# enumerate so you have the indexes? do you need indexes? probably, to keep spots\n",
    "# > find odds w/ % 2 conditional... \n",
    "# > sort? how?\n",
    "    # separate into two lists and insert back? "
   ]
  },
  {
   "cell_type": "code",
   "execution_count": null,
   "id": "eb713112",
   "metadata": {},
   "outputs": [],
   "source": [
    "[5, 8, 6, 3, 4]"
   ]
  },
  {
   "cell_type": "code",
   "execution_count": null,
   "id": "5e004290",
   "metadata": {},
   "outputs": [],
   "source": [
    "def sort_array(source_array):\n",
    "    pass"
   ]
  },
  {
   "cell_type": "code",
   "execution_count": 19,
   "id": "af0c1070",
   "metadata": {},
   "outputs": [],
   "source": [
    "numbers = [9, 8, 7, 6, 5, 4, 3, 2, 1, 0]"
   ]
  },
  {
   "cell_type": "code",
   "execution_count": 70,
   "id": "c7f1d189",
   "metadata": {},
   "outputs": [
    {
     "data": {
      "text/plain": [
       "[(0, 9), (2, 7), (4, 5), (6, 3), (8, 1)]"
      ]
     },
     "execution_count": 70,
     "metadata": {},
     "output_type": "execute_result"
    }
   ],
   "source": [
    "\n",
    "odds, evens = [], []\n",
    "for i, number in enumerate(numbers):\n",
    "    if number % 2 == 1:\n",
    "        odds.append((i, number))\n",
    "    else:\n",
    "        evens.append((i, number))\n",
    "        \n",
    "odds"
   ]
  },
  {
   "cell_type": "code",
   "execution_count": 72,
   "id": "81d3e455",
   "metadata": {},
   "outputs": [
    {
     "name": "stderr",
     "output_type": "stream",
     "text": [
      "IOPub data rate exceeded.\n",
      "The notebook server will temporarily stop sending output\n",
      "to the client in order to avoid crashing it.\n",
      "To change this limit, set the config variable\n",
      "`--NotebookApp.iopub_data_rate_limit`.\n",
      "\n",
      "Current values:\n",
      "NotebookApp.iopub_data_rate_limit=1000000.0 (bytes/sec)\n",
      "NotebookApp.rate_limit_window=3.0 (secs)\n",
      "\n"
     ]
    },
    {
     "ename": "KeyboardInterrupt",
     "evalue": "",
     "output_type": "error",
     "traceback": [
      "\u001b[0;31m---------------------------------------------------------------------------\u001b[0m",
      "\u001b[0;31mKeyboardInterrupt\u001b[0m                         Traceback (most recent call last)",
      "Cell \u001b[0;32mIn [72], line 11\u001b[0m\n\u001b[1;32m      9\u001b[0m     \u001b[38;5;28;01melse\u001b[39;00m:\n\u001b[1;32m     10\u001b[0m         numbers\u001b[38;5;241m.\u001b[39mappend(number)\n\u001b[0;32m---> 11\u001b[0m         \u001b[38;5;28;43mprint\u001b[39;49m\u001b[43m(\u001b[49m\u001b[43mnumbers\u001b[49m\u001b[43m)\u001b[49m\n\u001b[1;32m     13\u001b[0m numbers\n",
      "\u001b[0;31mKeyboardInterrupt\u001b[0m: "
     ]
    }
   ],
   "source": [
    "# infinite loop\n",
    "\n",
    "numbers = [9, 8, 7, 6, 5, 4, 3, 2, 1, 0]\n",
    "\n",
    "for number in numbers:\n",
    "    if number % 2 == 1:\n",
    "        numbers.append(0)\n",
    "    else:\n",
    "        numbers.append(number)\n",
    "        \n",
    "numbers"
   ]
  },
  {
   "cell_type": "code",
   "execution_count": 73,
   "id": "e8fe2607",
   "metadata": {
    "scrolled": true
   },
   "outputs": [
    {
     "data": {
      "text/plain": [
       "[0, 8, 0, 6, 0, 4, 0, 2, 0, 0]"
      ]
     },
     "execution_count": 73,
     "metadata": {},
     "output_type": "execute_result"
    }
   ],
   "source": [
    "numbers = [9, 8, 7, 6, 5, 4, 3, 2, 1, 0]\n",
    "[0 if number%2 == 1 else number for number in numbers]"
   ]
  },
  {
   "cell_type": "code",
   "execution_count": 71,
   "id": "27b235e6",
   "metadata": {
    "scrolled": true
   },
   "outputs": [
    {
     "data": {
      "text/plain": [
       "[0, 0, 0, 0, 0]"
      ]
     },
     "execution_count": 71,
     "metadata": {},
     "output_type": "execute_result"
    }
   ],
   "source": [
    "numbers = [9, 8, 7, 6, 5, 4, 3, 2, 1, 0]\n",
    "[0 for number in numbers if number % 2 == 1]"
   ]
  },
  {
   "cell_type": "code",
   "execution_count": 69,
   "id": "d85b1057",
   "metadata": {},
   "outputs": [
    {
     "data": {
      "text/plain": [
       "['meh', 8, 'meh', 6, 'meh', 4, 'meh', 2, 'meh', 0]"
      ]
     },
     "execution_count": 69,
     "metadata": {},
     "output_type": "execute_result"
    }
   ],
   "source": [
    "numbers = [9, 8, 7, 6, 5, 4, 3, 2, 1, 0]\n",
    "\n",
    "\n",
    "newlist, odds = [], []\n",
    "for number in numbers:\n",
    "    if number % 2 == 1:\n",
    "        newlist.append('meh')\n",
    "        odds.append(number)\n",
    "    else:\n",
    "        newlist.append(number)\n",
    "        \n",
    "newlist"
   ]
  },
  {
   "cell_type": "code",
   "execution_count": 40,
   "id": "7ebf312d",
   "metadata": {},
   "outputs": [
    {
     "data": {
      "text/plain": [
       "[1, 3, 5, 7, 9]"
      ]
     },
     "execution_count": 40,
     "metadata": {},
     "output_type": "execute_result"
    }
   ],
   "source": [
    "odds = sorted(odds)\n",
    "odds"
   ]
  },
  {
   "cell_type": "code",
   "execution_count": 42,
   "id": "1608b6b7",
   "metadata": {},
   "outputs": [
    {
     "data": {
      "text/plain": [
       "[1, 8, 3, 6, 5, 4, 7, 2, 9, 0]"
      ]
     },
     "execution_count": 42,
     "metadata": {},
     "output_type": "execute_result"
    }
   ],
   "source": [
    "for i in range(len(newlist)):\n",
    "    if newlist[i] == 'meh':\n",
    "        newlist[i] = odds.pop(0)\n",
    "        \n",
    "newlist"
   ]
  },
  {
   "cell_type": "code",
   "execution_count": 33,
   "id": "d37abb15",
   "metadata": {},
   "outputs": [
    {
     "data": {
      "text/plain": [
       "['meh',\n",
       " 8,\n",
       " 'meh',\n",
       " 6,\n",
       " 'meh',\n",
       " 4,\n",
       " 'meh',\n",
       " 2,\n",
       " 'meh',\n",
       " 0,\n",
       " [9, 7, 5, 3, 1],\n",
       " [9, 7, 5, 3, 1],\n",
       " [9, 7, 5, 3, 1],\n",
       " [9, 7, 5, 3, 1],\n",
       " [9, 7, 5, 3, 1]]"
      ]
     },
     "execution_count": 33,
     "metadata": {},
     "output_type": "execute_result"
    }
   ],
   "source": [
    "def sort_array(numbers):\n",
    "    newlist, odds = [], []\n",
    "    for number in numbers:\n",
    "        if number % 2 == 1:\n",
    "            newlist.append('meh')\n",
    "            odds.append(number)\n",
    "        else:\n",
    "            newlist.append(number)\n",
    "    odds = sorted(odds)\n",
    "    for i in range(len(newlist)):\n",
    "        if newlist[i] == 'meh':\n",
    "            newlist[i] = odds.pop(0)\n",
    "    return newlist"
   ]
  },
  {
   "cell_type": "code",
   "execution_count": null,
   "id": "d5ea24a7",
   "metadata": {},
   "outputs": [],
   "source": [
    "# first solution\n",
    "\n",
    "def sort_array(numbers):\n",
    "    newlist, odds = [], []\n",
    "    for number in numbers:\n",
    "        if number % 2 == 1:\n",
    "            newlist.append('meh')\n",
    "            odds.append(number)\n",
    "        else:\n",
    "            newlist.append(number)\n",
    "    odds = sorted(odds)\n",
    "    for i in range(len(newlist)):\n",
    "        if newlist[i] == 'meh':\n",
    "            newlist[i] = odds.pop(0)\n",
    "    return newlist"
   ]
  },
  {
   "cell_type": "code",
   "execution_count": null,
   "id": "bd078b16",
   "metadata": {},
   "outputs": [],
   "source": [
    "# refactored\n",
    "\n",
    "def sort_array(numbers):\n",
    "    newlist, odds = [], []\n",
    "    for number in numbers:\n",
    "        if number % 2 == 1:\n",
    "            newlist.append('meh')\n",
    "            odds.append(number)\n",
    "        else:\n",
    "            newlist.append(number)\n",
    "    odds = sorted(odds)\n",
    "    for i in range(len(newlist)):\n",
    "        if newlist[i] == 'meh':\n",
    "            newlist[i] = odds.pop(0)\n",
    "    return newlist"
   ]
  },
  {
   "cell_type": "code",
   "execution_count": 67,
   "id": "c5060886",
   "metadata": {},
   "outputs": [],
   "source": [
    "# \n",
    "\n",
    "def separate_odds(numbers):\n",
    "    newlist, odds = [], []\n",
    "    for number in numbers:\n",
    "        if number % 2 == 1:\n",
    "            newlist.append('meh')\n",
    "            odds.append(number)\n",
    "        else:\n",
    "            newlist.append(number)\n",
    "    return newlist, odds\n",
    "\n",
    "def sort_odds(odds):\n",
    "    sorted_odds = sorted(odds)\n",
    "    return sorted_odds\n",
    "\n",
    "def combine_lists(newlist, sorted_odds):\n",
    "    for i in range(len(newlist)):\n",
    "        if newlist[i] == 'meh':\n",
    "            newlist[i] = sorted_odds.pop(0)\n",
    "    return newlist\n",
    "\n",
    "def sort_array(numbers):\n",
    "    newlist, odds = separate_odds(numbers)\n",
    "    sorted_odds = sort_odds(odds)\n",
    "    newlist = combine_lists(newlist, sorted_odds)\n",
    "    return newlist\n"
   ]
  },
  {
   "cell_type": "code",
   "execution_count": null,
   "id": "6d0e2ace",
   "metadata": {},
   "outputs": [],
   "source": []
  },
  {
   "cell_type": "code",
   "execution_count": 68,
   "id": "ab99c5ce",
   "metadata": {},
   "outputs": [
    {
     "data": {
      "text/plain": [
       "[1, 8, 3, 6, 5, 4, 7, 2, 9, 0]"
      ]
     },
     "execution_count": 68,
     "metadata": {},
     "output_type": "execute_result"
    }
   ],
   "source": [
    "numbers = [9, 8, 7, 6, 5, 4, 3, 2, 1, 0]\n",
    "\n",
    "sort_array(numbers)"
   ]
  },
  {
   "cell_type": "code",
   "execution_count": 58,
   "id": "166cfb06",
   "metadata": {},
   "outputs": [
    {
     "name": "stdout",
     "output_type": "stream",
     "text": [
      "[9, 7, 5, 3, 1]\n",
      "['meh', 8, 'meh', 6, 'meh', 4, 'meh', 2, 'meh', 0]\n"
     ]
    },
    {
     "data": {
      "text/plain": [
       "(['meh', 8, 'meh', 6, 'meh', 4, 'meh', 2, 'meh', 0], [9, 7, 5, 3, 1])"
      ]
     },
     "execution_count": 58,
     "metadata": {},
     "output_type": "execute_result"
    }
   ],
   "source": [
    "numbers = [9, 8, 7, 6, 5, 4, 3, 2, 1, 0]\n",
    "\n",
    "def separate_odds(numbers):\n",
    "    newlist, odds = [], []\n",
    "    for number in numbers:\n",
    "        if number % 2 == 1:\n",
    "            newlist.append('meh')\n",
    "            odds.append(number)\n",
    "        else:\n",
    "            newlist.append(number)\n",
    "    print(odds)\n",
    "    print(newlist)\n",
    "    return newlist, odds\n",
    "\n",
    "separate_odds(numbers)"
   ]
  },
  {
   "cell_type": "code",
   "execution_count": 62,
   "id": "9e5f1297",
   "metadata": {},
   "outputs": [
    {
     "data": {
      "text/plain": [
       "[]"
      ]
     },
     "execution_count": 62,
     "metadata": {},
     "output_type": "execute_result"
    }
   ],
   "source": [
    "odds\n"
   ]
  },
  {
   "cell_type": "code",
   "execution_count": 63,
   "id": "227a4319",
   "metadata": {},
   "outputs": [
    {
     "name": "stdout",
     "output_type": "stream",
     "text": [
      "[1, 8, 3, 5, 6, 2, 7]\n"
     ]
    }
   ],
   "source": [
    "# chatgpt example\n",
    "\n",
    "def separate_odds(numbers):\n",
    "    newlist, odds = [], []\n",
    "    for number in numbers:\n",
    "        if number % 2 == 1:\n",
    "            newlist.append('meh')\n",
    "            odds.append(number)\n",
    "        else:\n",
    "            newlist.append(number)\n",
    "    return newlist, odds\n",
    "\n",
    "def sort_odds(odds):\n",
    "    return sorted(odds)\n",
    "\n",
    "def combine_lists(newlist, odds):\n",
    "    for i in range(len(newlist)):\n",
    "        if newlist[i] == 'meh':\n",
    "            newlist[i] = odds.pop(0)\n",
    "    return newlist\n",
    "\n",
    "def orchestrate(numbers):\n",
    "    newlist, odds = separate_odds(numbers)  # Step 1: Separate odds and create placeholders\n",
    "    sorted_odds = sort_odds(odds)          # Step 2: Sort the odd numbers\n",
    "    result = combine_lists(newlist, sorted_odds)  # Step 3: Combine the lists\n",
    "    return result\n",
    "\n",
    "# Example usage\n",
    "numbers = [5, 8, 3, 7, 6, 2, 1]\n",
    "result = orchestrate(numbers)\n",
    "print(result)\n"
   ]
  },
  {
   "cell_type": "code",
   "execution_count": null,
   "id": "5f63abe4",
   "metadata": {},
   "outputs": [],
   "source": [
    "def myfunc(numbers):\n",
    "    for number in numbers: \n",
    "        if number%2 == 1:\n",
    "            "
   ]
  },
  {
   "cell_type": "code",
   "execution_count": null,
   "id": "62fc642f",
   "metadata": {},
   "outputs": [],
   "source": [
    "sorted(numbers, key=myfunc)"
   ]
  },
  {
   "cell_type": "code",
   "execution_count": null,
   "id": "c2a7648b",
   "metadata": {},
   "outputs": [],
   "source": [
    "# best solution\n",
    "# just do it within the original array\n",
    "\n",
    "def sort_array(arr):\n",
    "  odds = sorted((x for x in arr if x%2 != 0), reverse=True)\n",
    "  return [x if x%2==0 else odds.pop() for x in arr]"
   ]
  }
 ],
 "metadata": {
  "kernelspec": {
   "display_name": "Python 3 (ipykernel)",
   "language": "python",
   "name": "python3"
  },
  "language_info": {
   "codemirror_mode": {
    "name": "ipython",
    "version": 3
   },
   "file_extension": ".py",
   "mimetype": "text/x-python",
   "name": "python",
   "nbconvert_exporter": "python",
   "pygments_lexer": "ipython3",
   "version": "3.10.6"
  },
  "toc": {
   "base_numbering": 1,
   "nav_menu": {},
   "number_sections": true,
   "sideBar": true,
   "skip_h1_title": false,
   "title_cell": "Table of Contents",
   "title_sidebar": "Contents",
   "toc_cell": false,
   "toc_position": {},
   "toc_section_display": true,
   "toc_window_display": false
  }
 },
 "nbformat": 4,
 "nbformat_minor": 5
}
