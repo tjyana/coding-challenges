{
 "cells": [
  {
   "cell_type": "code",
   "execution_count": 1,
   "id": "bc49a822",
   "metadata": {},
   "outputs": [
    {
     "ename": "SyntaxError",
     "evalue": "invalid syntax (2403512237.py, line 1)",
     "output_type": "error",
     "traceback": [
      "\u001b[0;36m  Cell \u001b[0;32mIn [1], line 1\u001b[0;36m\u001b[0m\n\u001b[0;31m    Write a function that takes an array of strings as an argument and returns a sorted array containing the same strings, ordered from shortest to longest.\u001b[0m\n\u001b[0m          ^\u001b[0m\n\u001b[0;31mSyntaxError\u001b[0m\u001b[0;31m:\u001b[0m invalid syntax\n"
     ]
    }
   ],
   "source": [
    "Write a function that takes an array of strings as an argument and returns a sorted array containing the same strings, ordered from shortest to longest.\n",
    "\n",
    "For example, if this array were passed as an argument:\n",
    "\n",
    "[\"Telescopes\", \"Glasses\", \"Eyes\", \"Monocles\"]\n",
    "\n",
    "Your function would return the following array:\n",
    "\n",
    "[\"Eyes\", \"Glasses\", \"Monocles\", \"Telescopes\"]\n",
    "\n",
    "All of the strings in the array passed to your function will be different lengths, so you will not have to decide how to order multiple strings of the same length."
   ]
  },
  {
   "cell_type": "code",
   "execution_count": 2,
   "id": "b7e55184",
   "metadata": {},
   "outputs": [],
   "source": [
    "# best solution\n",
    "\n",
    "def sort_by_length(arr):\n",
    "    return sorted(arr, key=len)"
   ]
  },
  {
   "cell_type": "code",
   "execution_count": 9,
   "id": "d5c4ff07",
   "metadata": {},
   "outputs": [],
   "source": [
    "arr = [\"Telescopes\", \"Glasses\", \"Eyes\", \"Monocles\", \"Applebottom\"]"
   ]
  },
  {
   "cell_type": "code",
   "execution_count": 10,
   "id": "45539de3",
   "metadata": {},
   "outputs": [
    {
     "ename": "TypeError",
     "evalue": "'int' object is not iterable",
     "output_type": "error",
     "traceback": [
      "\u001b[0;31m---------------------------------------------------------------------------\u001b[0m",
      "\u001b[0;31mTypeError\u001b[0m                                 Traceback (most recent call last)",
      "Cell \u001b[0;32mIn [10], line 2\u001b[0m\n\u001b[1;32m      1\u001b[0m \u001b[38;5;28;01mfor\u001b[39;00m word \u001b[38;5;129;01min\u001b[39;00m arr:\n\u001b[0;32m----> 2\u001b[0m     \u001b[38;5;28;43msorted\u001b[39;49m\u001b[43m(\u001b[49m\u001b[38;5;28;43mlen\u001b[39;49m\u001b[43m(\u001b[49m\u001b[43mword\u001b[49m\u001b[43m)\u001b[49m\u001b[43m)\u001b[49m\n",
      "\u001b[0;31mTypeError\u001b[0m: 'int' object is not iterable"
     ]
    }
   ],
   "source": [
    "for word in arr:\n",
    "    sorted(len(word))"
   ]
  },
  {
   "cell_type": "code",
   "execution_count": 20,
   "id": "a302ac00",
   "metadata": {},
   "outputs": [
    {
     "name": "stdout",
     "output_type": "stream",
     "text": [
      "['Eyes', 'Glasses', 'Monocles', 'Telescopes', 'Applebottom']\n",
      "['Telescopes', 'Glasses', 'Eyes', 'Monocles', 'Applebottom']\n"
     ]
    }
   ],
   "source": [
    "arr = [\"Telescopes\", \"Glasses\", \"Eyes\", \"Monocles\", \"Applebottom\"]\n",
    "print(sorted(arr, key=len))\n",
    "print(arr)"
   ]
  },
  {
   "cell_type": "code",
   "execution_count": 16,
   "id": "0bcb5379",
   "metadata": {},
   "outputs": [
    {
     "data": {
      "text/plain": [
       "['Eyes', 'Glasses', 'Monocles', 'Telescopes', 'Applebottom']"
      ]
     },
     "execution_count": 16,
     "metadata": {},
     "output_type": "execute_result"
    }
   ],
   "source": [
    "arr.sort(key=len)\n",
    "arr"
   ]
  },
  {
   "cell_type": "code",
   "execution_count": 18,
   "id": "32b12843",
   "metadata": {},
   "outputs": [
    {
     "data": {
      "text/plain": [
       "[' ',\n",
       " ' ',\n",
       " 'a',\n",
       " 'a',\n",
       " 'a',\n",
       " 'a',\n",
       " 'a',\n",
       " 'a',\n",
       " 'd',\n",
       " 'd',\n",
       " 'd',\n",
       " 'f',\n",
       " 'f',\n",
       " 'j',\n",
       " 'k',\n",
       " 'l',\n",
       " 's',\n",
       " 's',\n",
       " 's',\n",
       " 's',\n",
       " 's',\n",
       " 's']"
      ]
     },
     "execution_count": 18,
     "metadata": {},
     "output_type": "execute_result"
    }
   ],
   "source": [
    "sorted('alskjs asd asdasfasdfa')"
   ]
  },
  {
   "cell_type": "code",
   "execution_count": null,
   "id": "ad2ab125",
   "metadata": {},
   "outputs": [],
   "source": [
    "# fun solution\n",
    "# create a dict where they assign the word to dict[LENGTH OF WORD]\n",
    "# eg. telescopes -> dict[10] -> {10: 'telescopes'}\n",
    "# and then sort the keys, and list comp the values to get it back into list form\n",
    "\n",
    "def sort_by_length(arr):\n",
    "    words={}\n",
    "    for word in arr:\n",
    "        words[int(len(word))]=word\n",
    "    return [words[key] for key in sorted(words.keys())]"
   ]
  }
 ],
 "metadata": {
  "kernelspec": {
   "display_name": "Python 3 (ipykernel)",
   "language": "python",
   "name": "python3"
  },
  "language_info": {
   "codemirror_mode": {
    "name": "ipython",
    "version": 3
   },
   "file_extension": ".py",
   "mimetype": "text/x-python",
   "name": "python",
   "nbconvert_exporter": "python",
   "pygments_lexer": "ipython3",
   "version": "3.10.6"
  },
  "toc": {
   "base_numbering": 1,
   "nav_menu": {},
   "number_sections": true,
   "sideBar": true,
   "skip_h1_title": false,
   "title_cell": "Table of Contents",
   "title_sidebar": "Contents",
   "toc_cell": false,
   "toc_position": {},
   "toc_section_display": true,
   "toc_window_display": false
  }
 },
 "nbformat": 4,
 "nbformat_minor": 5
}
