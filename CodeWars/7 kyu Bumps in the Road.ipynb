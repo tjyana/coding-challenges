{
 "cells": [
  {
   "cell_type": "markdown",
   "id": "5e851ae1",
   "metadata": {},
   "source": [
    "Your car is old, it breaks easily. The shock absorbers are gone and you think it can handle about 15 more bumps before it dies totally.\n",
    "\n",
    "Unfortunately for you, your drive is very bumpy! Given a string showing either flat road (_) or bumps (n). If you are able to reach home safely by encountering 15 bumps or less, return Woohoo!, otherwise return Car Dead"
   ]
  },
  {
   "cell_type": "code",
   "execution_count": null,
   "id": "3cb669a8",
   "metadata": {},
   "outputs": [],
   "source": [
    "def bumps(road):\n",
    "    bump = 0\n",
    "    for part in road:\n",
    "        if part == 'n':\n",
    "            bump += 1\n",
    "            \n",
    "    return 'Car Dead' if bump > 15 \n",
    "    \n",
    "    if bump > 15:\n",
    "        return 'Car Dead'\n",
    "    else: \n",
    "        return 'Woohoo!'"
   ]
  },
  {
   "cell_type": "code",
   "execution_count": null,
   "id": "9fe880fa",
   "metadata": {},
   "outputs": [],
   "source": [
    "def bumps(road):\n",
    "    return 'Car '"
   ]
  }
 ],
 "metadata": {
  "kernelspec": {
   "display_name": "Python 3 (ipykernel)",
   "language": "python",
   "name": "python3"
  },
  "language_info": {
   "codemirror_mode": {
    "name": "ipython",
    "version": 3
   },
   "file_extension": ".py",
   "mimetype": "text/x-python",
   "name": "python",
   "nbconvert_exporter": "python",
   "pygments_lexer": "ipython3",
   "version": "3.10.6"
  },
  "toc": {
   "base_numbering": 1,
   "nav_menu": {},
   "number_sections": true,
   "sideBar": true,
   "skip_h1_title": false,
   "title_cell": "Table of Contents",
   "title_sidebar": "Contents",
   "toc_cell": false,
   "toc_position": {},
   "toc_section_display": true,
   "toc_window_display": false
  }
 },
 "nbformat": 4,
 "nbformat_minor": 5
}
