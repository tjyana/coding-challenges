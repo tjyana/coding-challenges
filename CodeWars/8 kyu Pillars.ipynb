{
 "cells": [
  {
   "cell_type": "markdown",
   "id": "35b93d0d",
   "metadata": {},
   "source": [
    "There are pillars near the road. The distance between the pillars is the same and the width of the pillars is the same. Your function accepts three arguments:\n",
    "\n",
    "number of pillars (≥ 1);\n",
    "distance between pillars (10 - 30 meters);\n",
    "width of the pillar (10 - 50 centimeters).\n",
    "Calculate the distance between the first and the last pillar in centimeters (without the width of the first and last pillar)."
   ]
  },
  {
   "cell_type": "code",
   "execution_count": null,
   "id": "16f448be",
   "metadata": {},
   "outputs": [],
   "source": [
    "def pillars(num_pill, dist, width):\n",
    "    if num_pill > 2:\n",
    "        total_width = (num_pill - 2) * width\n",
    "        total_distance = (num_pill - 1) * dist * 100\n",
    "        return total_width + total_distance\n",
    "    if num_pill == 2: \n",
    "        return dist * 100\n",
    "    else: \n",
    "        return 0"
   ]
  },
  {
   "cell_type": "code",
   "execution_count": null,
   "id": "6c43e802",
   "metadata": {},
   "outputs": [],
   "source": []
  }
 ],
 "metadata": {
  "kernelspec": {
   "display_name": "Python 3 (ipykernel)",
   "language": "python",
   "name": "python3"
  },
  "language_info": {
   "codemirror_mode": {
    "name": "ipython",
    "version": 3
   },
   "file_extension": ".py",
   "mimetype": "text/x-python",
   "name": "python",
   "nbconvert_exporter": "python",
   "pygments_lexer": "ipython3",
   "version": "3.10.6"
  },
  "toc": {
   "base_numbering": 1,
   "nav_menu": {},
   "number_sections": true,
   "sideBar": true,
   "skip_h1_title": false,
   "title_cell": "Table of Contents",
   "title_sidebar": "Contents",
   "toc_cell": false,
   "toc_position": {},
   "toc_section_display": true,
   "toc_window_display": false
  }
 },
 "nbformat": 4,
 "nbformat_minor": 5
}
