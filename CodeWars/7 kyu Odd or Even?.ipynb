{
 "cells": [
  {
   "cell_type": "code",
   "execution_count": null,
   "id": "befeb8a3",
   "metadata": {},
   "outputs": [],
   "source": [
    "Given a list of integers, determine whether the sum of its elements is odd or even.\n",
    "\n",
    "Give your answer as a string matching \"odd\" or \"even\".\n",
    "\n",
    "If the input array is empty consider it as: [0] (array with a zero).\n",
    "\n",
    "Examples:\n",
    "Input: [0]\n",
    "Output: \"even\"\n",
    "\n",
    "Input: [0, 1, 4]\n",
    "Output: \"odd\"\n",
    "\n",
    "Input: [0, -1, -5]\n",
    "Output: \"even\"\n",
    "Have fun!"
   ]
  },
  {
   "cell_type": "code",
   "execution_count": 5,
   "id": "944ac91e",
   "metadata": {},
   "outputs": [],
   "source": [
    "# submitted\n",
    "\n",
    "def odd_or_even(arr):\n",
    "    return 'even' if sum(arr) % 2 == 0 else 'odd'"
   ]
  },
  {
   "cell_type": "code",
   "execution_count": null,
   "id": "240067e2",
   "metadata": {},
   "outputs": [],
   "source": [
    "if sum(arr) % 2 == 0 return true else return odd"
   ]
  },
  {
   "cell_type": "code",
   "execution_count": 6,
   "id": "0cfb5080",
   "metadata": {},
   "outputs": [
    {
     "data": {
      "text/plain": [
       "'even'"
      ]
     },
     "execution_count": 6,
     "metadata": {},
     "output_type": "execute_result"
    }
   ],
   "source": [
    "odd_or_even([0, -1, -5])"
   ]
  },
  {
   "cell_type": "code",
   "execution_count": null,
   "id": "eb9f4022",
   "metadata": {},
   "outputs": [],
   "source": []
  }
 ],
 "metadata": {
  "kernelspec": {
   "display_name": "Python 3 (ipykernel)",
   "language": "python",
   "name": "python3"
  },
  "language_info": {
   "codemirror_mode": {
    "name": "ipython",
    "version": 3
   },
   "file_extension": ".py",
   "mimetype": "text/x-python",
   "name": "python",
   "nbconvert_exporter": "python",
   "pygments_lexer": "ipython3",
   "version": "3.10.6"
  },
  "toc": {
   "base_numbering": 1,
   "nav_menu": {},
   "number_sections": true,
   "sideBar": true,
   "skip_h1_title": false,
   "title_cell": "Table of Contents",
   "title_sidebar": "Contents",
   "toc_cell": false,
   "toc_position": {},
   "toc_section_display": true,
   "toc_window_display": false
  }
 },
 "nbformat": 4,
 "nbformat_minor": 5
}
