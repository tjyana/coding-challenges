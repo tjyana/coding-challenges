{
 "cells": [
  {
   "cell_type": "code",
   "execution_count": null,
   "id": "474d6851",
   "metadata": {},
   "outputs": [],
   "source": [
    "Write a function that returns a string in which firstname is swapped with last name.\n",
    "\n",
    "Example(Input --> Output)\n",
    "\n",
    "\"john McClane\" --> \"McClane john\"\n"
   ]
  },
  {
   "cell_type": "code",
   "execution_count": null,
   "id": "022a032b",
   "metadata": {},
   "outputs": [],
   "source": [
    "def name_shuffler(str_):\n",
    "    first, last = str_.split()\n",
    "    return f'{last} {first}'"
   ]
  },
  {
   "cell_type": "code",
   "execution_count": 2,
   "id": "02f5769a",
   "metadata": {},
   "outputs": [
    {
     "data": {
      "text/plain": [
       "['bob', 'bogdanovic']"
      ]
     },
     "execution_count": 2,
     "metadata": {},
     "output_type": "execute_result"
    }
   ],
   "source": [
    "str_ = 'bob bogdanovic'\n",
    "str_.split()"
   ]
  },
  {
   "cell_type": "code",
   "execution_count": 4,
   "id": "bfdb29cc",
   "metadata": {},
   "outputs": [
    {
     "data": {
      "text/plain": [
       "'bob'"
      ]
     },
     "execution_count": 4,
     "metadata": {},
     "output_type": "execute_result"
    }
   ],
   "source": [
    "first, last = str_.split()\n",
    "first"
   ]
  },
  {
   "cell_type": "code",
   "execution_count": null,
   "id": "b50933a9",
   "metadata": {},
   "outputs": [],
   "source": [
    "f'{last} {first}'"
   ]
  }
 ],
 "metadata": {
  "kernelspec": {
   "display_name": "Python 3 (ipykernel)",
   "language": "python",
   "name": "python3"
  },
  "language_info": {
   "codemirror_mode": {
    "name": "ipython",
    "version": 3
   },
   "file_extension": ".py",
   "mimetype": "text/x-python",
   "name": "python",
   "nbconvert_exporter": "python",
   "pygments_lexer": "ipython3",
   "version": "3.10.6"
  },
  "toc": {
   "base_numbering": 1,
   "nav_menu": {},
   "number_sections": true,
   "sideBar": true,
   "skip_h1_title": false,
   "title_cell": "Table of Contents",
   "title_sidebar": "Contents",
   "toc_cell": false,
   "toc_position": {},
   "toc_section_display": true,
   "toc_window_display": false
  }
 },
 "nbformat": 4,
 "nbformat_minor": 5
}
