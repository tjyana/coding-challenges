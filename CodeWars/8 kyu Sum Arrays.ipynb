{
 "cells": [
  {
   "cell_type": "markdown",
   "id": "84355e50",
   "metadata": {},
   "source": [
    "Write a function that takes an array of numbers and returns the sum of the numbers. The numbers can be negative or non-integer. If the array does not contain any numbers then you should return 0.\n",
    "\n",
    "Examples\n",
    "Input: [1, 5.2, 4, 0, -1]\n",
    "Output: 9.2\n",
    "\n",
    "Input: []\n",
    "Output: 0\n",
    "\n",
    "Input: [-2.398]\n",
    "Output: -2.398\n",
    "\n",
    "Assumptions\n",
    "You can assume that you are only given numbers.\n",
    "You cannot assume the size of the array.\n",
    "You can assume that you do get an array and if the array is empty, return 0.\n",
    "What We're Testing\n",
    "We're testing basic loops and math operations. This is for beginners who are just learning loops and math operations.\n",
    "Advanced users may find this extremely easy and can easily write this in one line."
   ]
  },
  {
   "cell_type": "code",
   "execution_count": null,
   "id": "959347f3",
   "metadata": {},
   "outputs": [],
   "source": [
    "def sum_array(a):\n",
    "    return sum(a)"
   ]
  }
 ],
 "metadata": {
  "kernelspec": {
   "display_name": "Python 3 (ipykernel)",
   "language": "python",
   "name": "python3"
  },
  "language_info": {
   "codemirror_mode": {
    "name": "ipython",
    "version": 3
   },
   "file_extension": ".py",
   "mimetype": "text/x-python",
   "name": "python",
   "nbconvert_exporter": "python",
   "pygments_lexer": "ipython3",
   "version": "3.10.6"
  },
  "toc": {
   "base_numbering": 1,
   "nav_menu": {},
   "number_sections": true,
   "sideBar": true,
   "skip_h1_title": false,
   "title_cell": "Table of Contents",
   "title_sidebar": "Contents",
   "toc_cell": false,
   "toc_position": {},
   "toc_section_display": true,
   "toc_window_display": false
  }
 },
 "nbformat": 4,
 "nbformat_minor": 5
}
