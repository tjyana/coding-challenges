{
 "cells": [
  {
   "cell_type": "code",
   "execution_count": null,
   "id": "b283f4e6",
   "metadata": {},
   "outputs": [],
   "source": [
    "Given a sequence of numbers, find the largest pair sum in the sequence.\n",
    "\n",
    "For example\n",
    "\n",
    "[10, 14, 2, 23, 19] -->  42 (= 23 + 19)\n",
    "[99, 2, 2, 23, 19]  --> 122 (= 99 + 23)\n",
    "Input sequence contains minimum two elements and every element is an integer.\n",
    "\n"
   ]
  },
  {
   "cell_type": "code",
   "execution_count": null,
   "id": "8fd66af2",
   "metadata": {},
   "outputs": [],
   "source": [
    "def largest_pair_sum(numbers): \n",
    "    return numbers.pop(numbers.index(max(numbers))) + numbers.pop(numbers.index(max(numbers)))\n",
    "    "
   ]
  },
  {
   "cell_type": "code",
   "execution_count": 8,
   "id": "00783f78",
   "metadata": {},
   "outputs": [
    {
     "data": {
      "text/plain": [
       "42"
      ]
     },
     "execution_count": 8,
     "metadata": {},
     "output_type": "execute_result"
    }
   ],
   "source": [
    "numbers = [10, 14, 2, 23, 19]\n",
    "return numbers.pop(numbers.index(max(numbers)))+numbers.pop(numbers.index(max(numbers)))"
   ]
  },
  {
   "cell_type": "code",
   "execution_count": 7,
   "id": "8379269b",
   "metadata": {},
   "outputs": [
    {
     "data": {
      "text/plain": [
       "19"
      ]
     },
     "execution_count": 7,
     "metadata": {},
     "output_type": "execute_result"
    }
   ],
   "source": [
    "numbers.pop(numbers.index(max(numbers)))"
   ]
  },
  {
   "cell_type": "code",
   "execution_count": null,
   "id": "9d6f8fa6",
   "metadata": {},
   "outputs": [],
   "source": [
    "# sort, slice, and add\n",
    "def largest_pair_sum(numbers): \n",
    "    return sum(sorted(numbers)[-2:])"
   ]
  },
  {
   "cell_type": "code",
   "execution_count": null,
   "id": "ba641331",
   "metadata": {},
   "outputs": [],
   "source": [
    "# simple\n",
    "\n",
    "def largest_pair_sum(numbers): \n",
    "    # your code here\n",
    "    max1 = max(numbers)\n",
    "    numbers.remove(max1)\n",
    "    max2 = max(numbers)\n",
    "    return max1 + max2"
   ]
  }
 ],
 "metadata": {
  "kernelspec": {
   "display_name": "Python 3 (ipykernel)",
   "language": "python",
   "name": "python3"
  },
  "language_info": {
   "codemirror_mode": {
    "name": "ipython",
    "version": 3
   },
   "file_extension": ".py",
   "mimetype": "text/x-python",
   "name": "python",
   "nbconvert_exporter": "python",
   "pygments_lexer": "ipython3",
   "version": "3.10.6"
  },
  "toc": {
   "base_numbering": 1,
   "nav_menu": {},
   "number_sections": true,
   "sideBar": true,
   "skip_h1_title": false,
   "title_cell": "Table of Contents",
   "title_sidebar": "Contents",
   "toc_cell": false,
   "toc_position": {},
   "toc_section_display": true,
   "toc_window_display": false
  }
 },
 "nbformat": 4,
 "nbformat_minor": 5
}
