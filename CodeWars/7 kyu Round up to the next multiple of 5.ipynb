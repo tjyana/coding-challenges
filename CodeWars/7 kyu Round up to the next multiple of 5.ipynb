{
 "cells": [
  {
   "cell_type": "code",
   "execution_count": null,
   "id": "d3fc93de",
   "metadata": {},
   "outputs": [],
   "source": [
    "Given an integer as input, can you round it to the next (meaning, \"greater than or equal\") multiple of 5?\n",
    "\n",
    "Examples:\n",
    "\n",
    "input:    output:\n",
    "0    ->   0\n",
    "2    ->   5\n",
    "3    ->   5\n",
    "12   ->   15\n",
    "21   ->   25\n",
    "30   ->   30\n",
    "-2   ->   0\n",
    "-5   ->   -5\n",
    "etc.\n",
    "Input may be any positive or negative integer (including 0).\n",
    "\n",
    "You can assume that all inputs are valid integers."
   ]
  },
  {
   "cell_type": "code",
   "execution_count": 23,
   "id": "d823b14a",
   "metadata": {},
   "outputs": [
    {
     "data": {
      "text/plain": [
       "-10"
      ]
     },
     "execution_count": 23,
     "metadata": {},
     "output_type": "execute_result"
    }
   ],
   "source": [
    "# submitted solution\n",
    "\n",
    "def round_to_next5(n):\n",
    "    if n%5 == 0:\n",
    "        return n\n",
    "    else:\n",
    "        return (n//5 + 1) * 5\n",
    "    \n",
    "round_to_next5(-10)"
   ]
  },
  {
   "cell_type": "code",
   "execution_count": 6,
   "id": "aaf63aa2",
   "metadata": {},
   "outputs": [],
   "source": [
    "fives = list(range(-10000, 10000, 5))"
   ]
  },
  {
   "cell_type": "code",
   "execution_count": 7,
   "id": "9f63868e",
   "metadata": {},
   "outputs": [
    {
     "data": {
      "text/plain": [
       "-10000"
      ]
     },
     "execution_count": 7,
     "metadata": {},
     "output_type": "execute_result"
    }
   ],
   "source": [
    "min(fives)"
   ]
  },
  {
   "cell_type": "code",
   "execution_count": 18,
   "id": "6616f2ad",
   "metadata": {},
   "outputs": [
    {
     "data": {
      "text/plain": [
       "-105"
      ]
     },
     "execution_count": 18,
     "metadata": {},
     "output_type": "execute_result"
    }
   ],
   "source": [
    "n = -105\n",
    "fives = list(range(-10000, 10000, 5))\n",
    "min(fives, key=lambda x: abs(x-n))"
   ]
  },
  {
   "cell_type": "code",
   "execution_count": 19,
   "id": "de9925cc",
   "metadata": {},
   "outputs": [
    {
     "data": {
      "text/plain": [
       "-21"
      ]
     },
     "execution_count": 19,
     "metadata": {},
     "output_type": "execute_result"
    }
   ],
   "source": [
    "n//5"
   ]
  },
  {
   "cell_type": "code",
   "execution_count": 27,
   "id": "01861e0a",
   "metadata": {},
   "outputs": [
    {
     "data": {
      "text/plain": [
       "1"
      ]
     },
     "execution_count": 27,
     "metadata": {},
     "output_type": "execute_result"
    }
   ],
   "source": [
    "11%5"
   ]
  },
  {
   "cell_type": "markdown",
   "id": "a6334d5b",
   "metadata": {},
   "source": [
    "### other solutions"
   ]
  },
  {
   "cell_type": "code",
   "execution_count": 24,
   "id": "779df4bd",
   "metadata": {},
   "outputs": [],
   "source": [
    "def round_to_next5(n):\n",
    "    return n + (5 - n) % 5 \n",
    "\n",
    "# remainder is taken\n",
    "# then it's converted to the difference between  target value and original value\n",
    "# and added back to original value, resulting in target value"
   ]
  },
  {
   "cell_type": "code",
   "execution_count": null,
   "id": "49906124",
   "metadata": {},
   "outputs": [],
   "source": [
    "def round_to_next5(n):\n",
    "    while n%5!=0: # while loop saying: as long as remainder is not 0, keep adding 1\n",
    "        n+=1\n",
    "    return n"
   ]
  }
 ],
 "metadata": {
  "kernelspec": {
   "display_name": "Python 3 (ipykernel)",
   "language": "python",
   "name": "python3"
  },
  "language_info": {
   "codemirror_mode": {
    "name": "ipython",
    "version": 3
   },
   "file_extension": ".py",
   "mimetype": "text/x-python",
   "name": "python",
   "nbconvert_exporter": "python",
   "pygments_lexer": "ipython3",
   "version": "3.10.6"
  },
  "toc": {
   "base_numbering": 1,
   "nav_menu": {},
   "number_sections": true,
   "sideBar": true,
   "skip_h1_title": false,
   "title_cell": "Table of Contents",
   "title_sidebar": "Contents",
   "toc_cell": false,
   "toc_position": {},
   "toc_section_display": true,
   "toc_window_display": false
  }
 },
 "nbformat": 4,
 "nbformat_minor": 5
}
