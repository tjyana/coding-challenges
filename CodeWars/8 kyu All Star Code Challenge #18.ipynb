{
 "cells": [
  {
   "cell_type": "code",
   "execution_count": null,
   "id": "689f068d",
   "metadata": {},
   "outputs": [],
   "source": [
    "Create a function that accepts a string and a single character, and returns an integer of the count of occurrences the 2nd argument is found in the first one.\n",
    "\n",
    "If no occurrences can be found, a count of 0 should be returned.\n",
    "\n",
    "(\"Hello\", \"o\")  ==>  1\n",
    "(\"Hello\", \"l\")  ==>  2\n",
    "(\"\", \"z\")       ==>  0\n",
    "str_count(\"Hello\", 'o'); // returns 1\n",
    "str_count(\"Hello\", 'l'); // returns 2\n",
    "str_count(\"\", 'z'); // returns 0\n",
    "Notes\n",
    "The first argument can be an empty string\n",
    "In languages with no distinct character data type, the second argument will be a string of length 1"
   ]
  },
  {
   "cell_type": "code",
   "execution_count": 2,
   "id": "94d7a303",
   "metadata": {},
   "outputs": [],
   "source": [
    "def str_count(strng, letter):\n",
    "    counter = 0\n",
    "    for target in strng:\n",
    "        if letter == target:\n",
    "            counter += 1\n",
    "    return counter"
   ]
  },
  {
   "cell_type": "code",
   "execution_count": null,
   "id": "070de075",
   "metadata": {},
   "outputs": [],
   "source": [
    "# using a counter. accumulator pattern\n"
   ]
  },
  {
   "cell_type": "code",
   "execution_count": 3,
   "id": "d846fe55",
   "metadata": {},
   "outputs": [
    {
     "data": {
      "text/plain": [
       "5"
      ]
     },
     "execution_count": 3,
     "metadata": {},
     "output_type": "execute_result"
    }
   ],
   "source": [
    "# or using the count() method lmao\n",
    "\n",
    "strng = 'helllooooo'\n",
    "strng.count('o')"
   ]
  },
  {
   "cell_type": "code",
   "execution_count": null,
   "id": "4e0d68af",
   "metadata": {},
   "outputs": [],
   "source": []
  }
 ],
 "metadata": {
  "kernelspec": {
   "display_name": "Python 3 (ipykernel)",
   "language": "python",
   "name": "python3"
  },
  "language_info": {
   "codemirror_mode": {
    "name": "ipython",
    "version": 3
   },
   "file_extension": ".py",
   "mimetype": "text/x-python",
   "name": "python",
   "nbconvert_exporter": "python",
   "pygments_lexer": "ipython3",
   "version": "3.10.6"
  },
  "toc": {
   "base_numbering": 1,
   "nav_menu": {},
   "number_sections": true,
   "sideBar": true,
   "skip_h1_title": false,
   "title_cell": "Table of Contents",
   "title_sidebar": "Contents",
   "toc_cell": false,
   "toc_position": {},
   "toc_section_display": true,
   "toc_window_display": false
  }
 },
 "nbformat": 4,
 "nbformat_minor": 5
}
