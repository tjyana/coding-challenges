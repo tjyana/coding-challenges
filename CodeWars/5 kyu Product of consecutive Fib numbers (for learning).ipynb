{
 "cells": [
  {
   "cell_type": "code",
   "execution_count": null,
   "id": "87f566d8",
   "metadata": {},
   "outputs": [],
   "source": [
    "The Fibonacci numbers are the numbers in the following integer sequence (Fn):\n",
    "\n",
    "0, 1, 1, 2, 3, 5, 8, 13, 21, 34, 55, 89, 144, 233, ...\n",
    "\n",
    "such as\n",
    "\n",
    "F(n) = F(n-1) + F(n-2) with F(0) = 0 and F(1) = 1.\n",
    "\n",
    "Given a number, say prod (for product), we search two Fibonacci numbers F(n) and F(n+1) verifying\n",
    "\n",
    "F(n) * F(n+1) = prod.\n",
    "\n",
    "Your function productFib takes an integer (prod) and returns an array:\n",
    "\n",
    "[F(n), F(n+1), true] or {F(n), F(n+1), 1} or (F(n), F(n+1), True)\n",
    "depending on the language if F(n) * F(n+1) = prod.\n",
    "\n",
    "If you don't find two consecutive F(n) verifying F(n) * F(n+1) = prodyou will return\n",
    "\n",
    "[F(n), F(n+1), false] or {F(n), F(n+1), 0} or (F(n), F(n+1), False)\n",
    "F(n) being the smallest one such as F(n) * F(n+1) > prod.\n",
    "\n",
    "Some Examples of Return:\n",
    "(depend on the language)\n",
    "\n",
    "productFib(714) # should return (21, 34, true), \n",
    "                # since F(8) = 21, F(9) = 34 and 714 = 21 * 34\n",
    "\n",
    "productFib(800) # should return (34, 55, false), \n",
    "                # since F(8) = 21, F(9) = 34, F(10) = 55 and 21 * 34 < 800 < 34 * 55\n",
    "-----\n",
    "productFib(714) # should return [21, 34, true], \n",
    "productFib(800) # should return [34, 55, false], \n",
    "-----\n",
    "productFib(714) # should return {21, 34, 1}, \n",
    "productFib(800) # should return {34, 55, 0},        \n",
    "-----\n",
    "productFib(714) # should return {21, 34, true}, \n",
    "productFib(800) # should return {34, 55, false}, \n",
    "Note:\n",
    "You can see examples for your language in \"Sample Tests\"."
   ]
  },
  {
   "cell_type": "code",
   "execution_count": null,
   "id": "0450975a",
   "metadata": {},
   "outputs": [],
   "source": [
    "def product_fib(_prod):\n",
    "    pass"
   ]
  },
  {
   "cell_type": "code",
   "execution_count": 6,
   "id": "99c24480",
   "metadata": {},
   "outputs": [
    {
     "data": {
      "text/plain": [
       "55"
      ]
     },
     "execution_count": 6,
     "metadata": {},
     "output_type": "execute_result"
    }
   ],
   "source": [
    "def fibo(n):\n",
    "    a, b = 0, 1\n",
    "    for i in range(n):\n",
    "        a, b = b, a+b\n",
    "    return a\n",
    "\n",
    "fibo(10)\n"
   ]
  },
  {
   "cell_type": "code",
   "execution_count": 8,
   "id": "69fd187e",
   "metadata": {},
   "outputs": [
    {
     "data": {
      "text/plain": [
       "False"
      ]
     },
     "execution_count": 8,
     "metadata": {},
     "output_type": "execute_result"
    }
   ],
   "source": [
    "# recursive?\n",
    "n = 21\n",
    "714 == fibo(n) * fibo(n+1)"
   ]
  },
  {
   "cell_type": "code",
   "execution_count": 15,
   "id": "e1a165f7",
   "metadata": {
    "scrolled": true
   },
   "outputs": [
    {
     "data": {
      "text/plain": [
       "[(0, 0),\n",
       " (1, 1),\n",
       " (2, 1),\n",
       " (3, 2),\n",
       " (4, 3),\n",
       " (5, 5),\n",
       " (6, 8),\n",
       " (7, 13),\n",
       " (8, 21),\n",
       " (9, 34)]"
      ]
     },
     "execution_count": 15,
     "metadata": {},
     "output_type": "execute_result"
    }
   ],
   "source": [
    "# do i need to enumerate? the list comp might be handy tho\n",
    "enumerate([fibo(i) for i in range(10)])"
   ]
  },
  {
   "cell_type": "markdown",
   "id": "4f7bc8dd",
   "metadata": {},
   "source": [
    "product = fib(n) * fib(n+1)\n",
    "how do i check for this"
   ]
  },
  {
   "cell_type": "code",
   "execution_count": 24,
   "id": "b5eab967",
   "metadata": {},
   "outputs": [
    {
     "ename": "SyntaxError",
     "evalue": "'return' outside function (4212308531.py, line 5)",
     "output_type": "error",
     "traceback": [
      "\u001b[0;36m  Cell \u001b[0;32mIn [24], line 5\u001b[0;36m\u001b[0m\n\u001b[0;31m    return [number, fibs[i+1]]\u001b[0m\n\u001b[0m    ^\u001b[0m\n\u001b[0;31mSyntaxError\u001b[0m\u001b[0;31m:\u001b[0m 'return' outside function\n"
     ]
    }
   ],
   "source": [
    "prod = 714\n",
    "\n",
    "\n"
   ]
  },
  {
   "cell_type": "code",
   "execution_count": 25,
   "id": "9210580c",
   "metadata": {},
   "outputs": [],
   "source": [
    "# what i would have turned in if it was a coding test\n",
    "\n",
    "def product_fib(prod):\n",
    "    fibs = list(enumerate([fibo(i) for i in range(10)]))\n",
    "    for i, number in fibs:\n",
    "        if number * fibs[i+1] == prod:\n",
    "            return [number, fibs[i+1]]"
   ]
  },
  {
   "cell_type": "code",
   "execution_count": 26,
   "id": "c0c2d65f",
   "metadata": {},
   "outputs": [
    {
     "ename": "IndexError",
     "evalue": "list index out of range",
     "output_type": "error",
     "traceback": [
      "\u001b[0;31m---------------------------------------------------------------------------\u001b[0m",
      "\u001b[0;31mIndexError\u001b[0m                                Traceback (most recent call last)",
      "Cell \u001b[0;32mIn [26], line 1\u001b[0m\n\u001b[0;32m----> 1\u001b[0m \u001b[43mproduct_fib\u001b[49m\u001b[43m(\u001b[49m\u001b[38;5;241;43m714\u001b[39;49m\u001b[43m)\u001b[49m\n",
      "Cell \u001b[0;32mIn [25], line 4\u001b[0m, in \u001b[0;36mproduct_fib\u001b[0;34m(prod)\u001b[0m\n\u001b[1;32m      2\u001b[0m fibs \u001b[38;5;241m=\u001b[39m \u001b[38;5;28mlist\u001b[39m(\u001b[38;5;28menumerate\u001b[39m([fibo(i) \u001b[38;5;28;01mfor\u001b[39;00m i \u001b[38;5;129;01min\u001b[39;00m \u001b[38;5;28mrange\u001b[39m(\u001b[38;5;241m10\u001b[39m)]))\n\u001b[1;32m      3\u001b[0m \u001b[38;5;28;01mfor\u001b[39;00m i, number \u001b[38;5;129;01min\u001b[39;00m fibs:\n\u001b[0;32m----> 4\u001b[0m     \u001b[38;5;28;01mif\u001b[39;00m number \u001b[38;5;241m*\u001b[39m \u001b[43mfibs\u001b[49m\u001b[43m[\u001b[49m\u001b[43mi\u001b[49m\u001b[38;5;241;43m+\u001b[39;49m\u001b[38;5;241;43m1\u001b[39;49m\u001b[43m]\u001b[49m \u001b[38;5;241m==\u001b[39m prod:\n\u001b[1;32m      5\u001b[0m         \u001b[38;5;28;01mreturn\u001b[39;00m [number, fibs[i\u001b[38;5;241m+\u001b[39m\u001b[38;5;241m1\u001b[39m]]\n",
      "\u001b[0;31mIndexError\u001b[0m: list index out of range"
     ]
    }
   ],
   "source": [
    "product_fib(714)"
   ]
  },
  {
   "cell_type": "code",
   "execution_count": null,
   "id": "3fff4dd4",
   "metadata": {},
   "outputs": [],
   "source": [
    "# solution\n",
    "\n",
    "def productFib(prod):\n",
    "    a, b = 0, 1\n",
    "    while prod > a * b:\n",
    "        a, b = b, a + b\n",
    "    return [a, b, prod == a * b]\n",
    "\n",
    "# so... my thought process wasn't bad. \n",
    "# iterate through until number * next-number == product. thought about using while but decided against\n",
    "# necessary knowledge is fibonacci sequence. "
   ]
  }
 ],
 "metadata": {
  "kernelspec": {
   "display_name": "Python 3 (ipykernel)",
   "language": "python",
   "name": "python3"
  },
  "language_info": {
   "codemirror_mode": {
    "name": "ipython",
    "version": 3
   },
   "file_extension": ".py",
   "mimetype": "text/x-python",
   "name": "python",
   "nbconvert_exporter": "python",
   "pygments_lexer": "ipython3",
   "version": "3.10.6"
  },
  "toc": {
   "base_numbering": 1,
   "nav_menu": {},
   "number_sections": true,
   "sideBar": true,
   "skip_h1_title": false,
   "title_cell": "Table of Contents",
   "title_sidebar": "Contents",
   "toc_cell": false,
   "toc_position": {},
   "toc_section_display": true,
   "toc_window_display": false
  }
 },
 "nbformat": 4,
 "nbformat_minor": 5
}
