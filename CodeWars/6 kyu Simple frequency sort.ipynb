{
 "cells": [
  {
   "cell_type": "markdown",
   "id": "6777b18d",
   "metadata": {},
   "source": [
    "In this kata, you will sort elements in an array by decreasing frequency of elements. If two elements have the same frequency, sort them by increasing value.\n",
    "\n",
    "solve([2,3,5,3,7,9,5,3,7]) = [3,3,3,5,5,7,7,2,9]\n",
    "-- We sort by highest frequency to lowest frequency.\n",
    "-- If two elements have same frequency, we sort by increasing value.\n",
    "More examples in test cases.\n",
    "\n",
    "Good luck!\n",
    "\n",
    "Please also try Simple time difference"
   ]
  },
  {
   "cell_type": "code",
   "execution_count": 1,
   "id": "663f1687",
   "metadata": {},
   "outputs": [],
   "source": [
    "arr = [2,3,5,3,7,9,5,3,7]"
   ]
  },
  {
   "cell_type": "code",
   "execution_count": null,
   "id": "4bef279a",
   "metadata": {},
   "outputs": [],
   "source": [
    "def solve(arr):\n",
    "    "
   ]
  },
  {
   "cell_type": "code",
   "execution_count": 4,
   "id": "544b445d",
   "metadata": {},
   "outputs": [
    {
     "data": {
      "text/plain": [
       "[2, 3, 3, 3, 5, 5, 7, 7, 9]"
      ]
     },
     "execution_count": 4,
     "metadata": {},
     "output_type": "execute_result"
    }
   ],
   "source": [
    "sorted(arr)"
   ]
  },
  {
   "cell_type": "code",
   "execution_count": 3,
   "id": "d266fdca",
   "metadata": {},
   "outputs": [
    {
     "data": {
      "text/plain": [
       "{2, 3, 5, 7, 9}"
      ]
     },
     "execution_count": 3,
     "metadata": {},
     "output_type": "execute_result"
    }
   ],
   "source": [
    "set(arr)"
   ]
  },
  {
   "cell_type": "code",
   "execution_count": 7,
   "id": "83405355",
   "metadata": {},
   "outputs": [
    {
     "data": {
      "text/plain": [
       "3"
      ]
     },
     "execution_count": 7,
     "metadata": {},
     "output_type": "execute_result"
    }
   ],
   "source": [
    "arr.count(3)"
   ]
  },
  {
   "cell_type": "code",
   "execution_count": 9,
   "id": "58ff9f79",
   "metadata": {},
   "outputs": [
    {
     "data": {
      "text/plain": [
       "<function __main__.<lambda>(x)>"
      ]
     },
     "execution_count": 9,
     "metadata": {},
     "output_type": "execute_result"
    }
   ],
   "source": [
    "lambda x: (-arr.count(x), x)"
   ]
  },
  {
   "cell_type": "code",
   "execution_count": null,
   "id": "07d56e3e",
   "metadata": {},
   "outputs": [],
   "source": []
  }
 ],
 "metadata": {
  "kernelspec": {
   "display_name": "Python 3 (ipykernel)",
   "language": "python",
   "name": "python3"
  },
  "language_info": {
   "codemirror_mode": {
    "name": "ipython",
    "version": 3
   },
   "file_extension": ".py",
   "mimetype": "text/x-python",
   "name": "python",
   "nbconvert_exporter": "python",
   "pygments_lexer": "ipython3",
   "version": "3.10.6"
  },
  "toc": {
   "base_numbering": 1,
   "nav_menu": {},
   "number_sections": true,
   "sideBar": true,
   "skip_h1_title": false,
   "title_cell": "Table of Contents",
   "title_sidebar": "Contents",
   "toc_cell": false,
   "toc_position": {},
   "toc_section_display": true,
   "toc_window_display": false
  }
 },
 "nbformat": 4,
 "nbformat_minor": 5
}
