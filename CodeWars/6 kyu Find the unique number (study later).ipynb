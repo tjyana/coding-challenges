{
 "cells": [
  {
   "cell_type": "code",
   "execution_count": null,
   "id": "28849a8a",
   "metadata": {},
   "outputs": [],
   "source": [
    "There is an array with some numbers. All numbers are equal except for one. Try to find it!\n",
    "\n",
    "find_uniq([ 1, 1, 1, 2, 1, 1 ]) == 2\n",
    "find_uniq([ 0, 0, 0.55, 0, 0 ]) == 0.55\n",
    "It’s guaranteed that array contains at least 3 numbers.\n",
    "\n",
    "The tests contain some very huge arrays, so think about performance.\n",
    "\n",
    "This is the first kata in series:\n",
    "\n",
    "Find the unique number (this kata)\n",
    "Find the unique string\n",
    "Find The Unique\n"
   ]
  },
  {
   "cell_type": "code",
   "execution_count": null,
   "id": "b82857e3",
   "metadata": {},
   "outputs": [],
   "source": []
  },
  {
   "cell_type": "code",
   "execution_count": 2,
   "id": "e71433d8",
   "metadata": {},
   "outputs": [],
   "source": [
    "# passes for all but first item unique\n",
    "\n",
    "\n",
    "def find_uniq(arr):\n",
    "    for number in arr:\n",
    "        number = arr[0]\n",
    "        for i in range(len(arr)):\n",
    "            if number != arr[i]:\n",
    "                return arr[i]"
   ]
  },
  {
   "cell_type": "code",
   "execution_count": 3,
   "id": "7df83831",
   "metadata": {},
   "outputs": [
    {
     "ename": "SyntaxError",
     "evalue": "'return' outside function (2729281184.py, line 5)",
     "output_type": "error",
     "traceback": [
      "\u001b[0;36m  Cell \u001b[0;32mIn [3], line 5\u001b[0;36m\u001b[0m\n\u001b[0;31m    return arr[i]\u001b[0m\n\u001b[0m    ^\u001b[0m\n\u001b[0;31mSyntaxError\u001b[0m\u001b[0;31m:\u001b[0m 'return' outside function\n"
     ]
    }
   ],
   "source": [
    "for number in arr:\n",
    "    number = arr[0]\n",
    "    for i in range(len(arr)):\n",
    "        if number != arr[i]:\n",
    "            return arr[i]"
   ]
  },
  {
   "cell_type": "code",
   "execution_count": 4,
   "id": "52f2b6cf",
   "metadata": {},
   "outputs": [
    {
     "data": {
      "text/plain": [
       "2"
      ]
     },
     "execution_count": 4,
     "metadata": {},
     "output_type": "execute_result"
    }
   ],
   "source": [
    "find_uniq([ 1, 1, 1, 2, 1, 1 ])"
   ]
  },
  {
   "cell_type": "code",
   "execution_count": null,
   "id": "3e04666b",
   "metadata": {},
   "outputs": [],
   "source": [
    "# passes for all but last item unique\n",
    "\n",
    "def find_uniq(arr):\n",
    "    for number in arr:\n",
    "        number = arr[0]\n",
    "        for i in range(len(arr)):\n",
    "            if number != arr[i]:\n",
    "                if arr[i] == arr[i+1]:\n",
    "                    return number\n",
    "                else:\n",
    "                    return arr[i]"
   ]
  },
  {
   "cell_type": "code",
   "execution_count": null,
   "id": "431a1d0a",
   "metadata": {},
   "outputs": [],
   "source": []
  },
  {
   "cell_type": "code",
   "execution_count": 5,
   "id": "cb840384",
   "metadata": {},
   "outputs": [],
   "source": [
    "# solutions"
   ]
  },
  {
   "cell_type": "code",
   "execution_count": 6,
   "id": "57bdaf9d",
   "metadata": {},
   "outputs": [],
   "source": [
    "def find_uniq(arr):\n",
    "    a, b = set(arr)\n",
    "    return a if arr.count(a) == 1 else b"
   ]
  },
  {
   "cell_type": "code",
   "execution_count": 7,
   "id": "14b8f572",
   "metadata": {},
   "outputs": [],
   "source": [
    "def find_uniq(arr):\n",
    "    s = set(arr)\n",
    "    for e in s:\n",
    "        if arr.count(e) == 1:\n",
    "            return e"
   ]
  },
  {
   "cell_type": "code",
   "execution_count": 8,
   "id": "40497533",
   "metadata": {},
   "outputs": [],
   "source": [
    "def find_uniq(arr):\n",
    "    a = sorted(arr)\n",
    "    return a[0] if a[0] != a[1] else a[-1]"
   ]
  },
  {
   "cell_type": "code",
   "execution_count": 9,
   "id": "c90e83f7",
   "metadata": {},
   "outputs": [],
   "source": [
    "def find_uniq(arr):\n",
    "    if arr[0] != arr[1]:\n",
    "        if arr[0] != arr[2]:\n",
    "            return arr[0]\n",
    "        else:\n",
    "            return arr[1]           \n",
    "    else:\n",
    "        for i in arr[2:]:\n",
    "            if i != arr[0]:\n",
    "                return i"
   ]
  },
  {
   "cell_type": "code",
   "execution_count": 10,
   "id": "0bbfdf46",
   "metadata": {},
   "outputs": [],
   "source": [
    "from collections import Counter\n",
    "\n",
    "def find_uniq(a):\n",
    "    return Counter(a).most_common()[-1][0]"
   ]
  },
  {
   "cell_type": "code",
   "execution_count": null,
   "id": "38c809e0",
   "metadata": {},
   "outputs": [],
   "source": []
  }
 ],
 "metadata": {
  "kernelspec": {
   "display_name": "Python 3 (ipykernel)",
   "language": "python",
   "name": "python3"
  },
  "language_info": {
   "codemirror_mode": {
    "name": "ipython",
    "version": 3
   },
   "file_extension": ".py",
   "mimetype": "text/x-python",
   "name": "python",
   "nbconvert_exporter": "python",
   "pygments_lexer": "ipython3",
   "version": "3.10.6"
  },
  "toc": {
   "base_numbering": 1,
   "nav_menu": {},
   "number_sections": true,
   "sideBar": true,
   "skip_h1_title": false,
   "title_cell": "Table of Contents",
   "title_sidebar": "Contents",
   "toc_cell": false,
   "toc_position": {},
   "toc_section_display": true,
   "toc_window_display": false
  }
 },
 "nbformat": 4,
 "nbformat_minor": 5
}
