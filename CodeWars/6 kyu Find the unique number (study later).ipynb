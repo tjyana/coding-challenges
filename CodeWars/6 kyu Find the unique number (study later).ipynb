{
 "cells": [
  {
   "cell_type": "code",
   "execution_count": null,
   "id": "9c5792af",
   "metadata": {},
   "outputs": [],
   "source": [
    "There is an array with some numbers. All numbers are equal except for one. Try to find it!\n",
    "\n",
    "find_uniq([ 1, 1, 1, 2, 1, 1 ]) == 2\n",
    "find_uniq([ 0, 0, 0.55, 0, 0 ]) == 0.55\n",
    "It’s guaranteed that array contains at least 3 numbers.\n",
    "\n",
    "The tests contain some very huge arrays, so think about performance.\n",
    "\n",
    "This is the first kata in series:\n",
    "\n",
    "Find the unique number (this kata)\n",
    "Find the unique string\n",
    "Find The Unique\n"
   ]
  },
  {
   "cell_type": "code",
   "execution_count": null,
   "id": "a74b9477",
   "metadata": {},
   "outputs": [],
   "source": []
  },
  {
   "cell_type": "code",
   "execution_count": 2,
   "id": "edd50cf8",
   "metadata": {},
   "outputs": [],
   "source": [
    "# passes for all but first item unique\n",
    "\n",
    "\n",
    "def find_uniq(arr):\n",
    "    for number in arr:\n",
    "        number = arr[0]\n",
    "        for i in range(len(arr)):\n",
    "            if number != arr[i]:\n",
    "                return arr[i]"
   ]
  },
  {
   "cell_type": "code",
   "execution_count": 3,
   "id": "19199f79",
   "metadata": {},
   "outputs": [
    {
     "ename": "SyntaxError",
     "evalue": "'return' outside function (2729281184.py, line 5)",
     "output_type": "error",
     "traceback": [
      "\u001b[0;36m  Cell \u001b[0;32mIn [3], line 5\u001b[0;36m\u001b[0m\n\u001b[0;31m    return arr[i]\u001b[0m\n\u001b[0m    ^\u001b[0m\n\u001b[0;31mSyntaxError\u001b[0m\u001b[0;31m:\u001b[0m 'return' outside function\n"
     ]
    }
   ],
   "source": [
    "for number in arr:\n",
    "    number = arr[0]\n",
    "    for i in range(len(arr)):\n",
    "        if number != arr[i]:\n",
    "            return arr[i]"
   ]
  },
  {
   "cell_type": "code",
   "execution_count": 4,
   "id": "02a3b3c0",
   "metadata": {},
   "outputs": [
    {
     "data": {
      "text/plain": [
       "2"
      ]
     },
     "execution_count": 4,
     "metadata": {},
     "output_type": "execute_result"
    }
   ],
   "source": [
    "find_uniq([ 1, 1, 1, 2, 1, 1 ])"
   ]
  },
  {
   "cell_type": "code",
   "execution_count": null,
   "id": "3a4c488c",
   "metadata": {},
   "outputs": [],
   "source": [
    "# passes for all but last item unique\n",
    "\n",
    "def find_uniq(arr):\n",
    "    for number in arr:\n",
    "        number = arr[0]\n",
    "        for i in range(len(arr)):\n",
    "            if number != arr[i]:\n",
    "                if arr[i] == arr[i+1]:\n",
    "                    return number\n",
    "                else:\n",
    "                    return arr[i]"
   ]
  },
  {
   "cell_type": "code",
   "execution_count": 12,
   "id": "2fd5cd7a",
   "metadata": {},
   "outputs": [],
   "source": [
    "arr = [ 1, 1, 1, 2, 1, 1 ]"
   ]
  },
  {
   "cell_type": "code",
   "execution_count": 5,
   "id": "3254defc",
   "metadata": {},
   "outputs": [],
   "source": [
    "# solutions"
   ]
  },
  {
   "cell_type": "code",
   "execution_count": null,
   "id": "81ab792e",
   "metadata": {},
   "outputs": [],
   "source": [
    "def find_uniq(arr):\n",
    "    a, b = set(arr) # returns unique values in array, assigns them to a and b\n",
    "    return a if arr.count(a) == 1 else b # counts occurences of a, returns a if count is 1, otherwise returns b"
   ]
  },
  {
   "cell_type": "code",
   "execution_count": 13,
   "id": "0f01b63c",
   "metadata": {},
   "outputs": [
    {
     "data": {
      "text/plain": [
       "{1, 2}"
      ]
     },
     "execution_count": 13,
     "metadata": {},
     "output_type": "execute_result"
    }
   ],
   "source": [
    "set(arr)"
   ]
  },
  {
   "cell_type": "code",
   "execution_count": 14,
   "id": "7071cd4f",
   "metadata": {},
   "outputs": [
    {
     "ename": "NameError",
     "evalue": "name 'a' is not defined",
     "output_type": "error",
     "traceback": [
      "\u001b[0;31m---------------------------------------------------------------------------\u001b[0m",
      "\u001b[0;31mNameError\u001b[0m                                 Traceback (most recent call last)",
      "Cell \u001b[0;32mIn [14], line 1\u001b[0m\n\u001b[0;32m----> 1\u001b[0m arr\u001b[38;5;241m.\u001b[39mcount(\u001b[43ma\u001b[49m)\n",
      "\u001b[0;31mNameError\u001b[0m: name 'a' is not defined"
     ]
    }
   ],
   "source": []
  },
  {
   "cell_type": "code",
   "execution_count": null,
   "id": "e7173aee",
   "metadata": {},
   "outputs": [],
   "source": []
  },
  {
   "cell_type": "code",
   "execution_count": 6,
   "id": "bb63f173",
   "metadata": {},
   "outputs": [],
   "source": []
  },
  {
   "cell_type": "code",
   "execution_count": 7,
   "id": "8b8b2985",
   "metadata": {},
   "outputs": [],
   "source": [
    "def find_uniq(arr):\n",
    "    s = set(arr)\n",
    "    for e in s:\n",
    "        if arr.count(e) == 1:\n",
    "            return e"
   ]
  },
  {
   "cell_type": "code",
   "execution_count": 8,
   "id": "b821daef",
   "metadata": {},
   "outputs": [],
   "source": [
    "def find_uniq(arr):\n",
    "    a = sorted(arr)\n",
    "    return a[0] if a[0] != a[1] else a[-1]"
   ]
  },
  {
   "cell_type": "code",
   "execution_count": 9,
   "id": "68b90532",
   "metadata": {},
   "outputs": [],
   "source": [
    "def find_uniq(arr):\n",
    "    if arr[0] != arr[1]:\n",
    "        if arr[0] != arr[2]:\n",
    "            return arr[0]\n",
    "        else:\n",
    "            return arr[1]           \n",
    "    else:\n",
    "        for i in arr[2:]:\n",
    "            if i != arr[0]:\n",
    "                return i"
   ]
  },
  {
   "cell_type": "code",
   "execution_count": 10,
   "id": "baadc244",
   "metadata": {},
   "outputs": [],
   "source": [
    "from collections import Counter\n",
    "\n",
    "def find_uniq(a):\n",
    "    return Counter(a).most_common()[-1][0]"
   ]
  },
  {
   "cell_type": "code",
   "execution_count": 11,
   "id": "c8617114",
   "metadata": {},
   "outputs": [],
   "source": [
    "def find_uniq(arr):\n",
    "    return [x for x in set(arr) if arr.count(x) == 1][0]"
   ]
  },
  {
   "cell_type": "code",
   "execution_count": null,
   "id": "d9548577",
   "metadata": {},
   "outputs": [],
   "source": [
    "def find_uniq(arr):\n",
    "        return min(set(arr),key=arr.count)"
   ]
  }
 ],
 "metadata": {
  "kernelspec": {
   "display_name": "Python 3 (ipykernel)",
   "language": "python",
   "name": "python3"
  },
  "language_info": {
   "codemirror_mode": {
    "name": "ipython",
    "version": 3
   },
   "file_extension": ".py",
   "mimetype": "text/x-python",
   "name": "python",
   "nbconvert_exporter": "python",
   "pygments_lexer": "ipython3",
   "version": "3.10.6"
  },
  "toc": {
   "base_numbering": 1,
   "nav_menu": {},
   "number_sections": true,
   "sideBar": true,
   "skip_h1_title": false,
   "title_cell": "Table of Contents",
   "title_sidebar": "Contents",
   "toc_cell": false,
   "toc_position": {},
   "toc_section_display": true,
   "toc_window_display": false
  }
 },
 "nbformat": 4,
 "nbformat_minor": 5
}
