{
 "cells": [
  {
   "cell_type": "code",
   "execution_count": null,
   "id": "5c3c5724",
   "metadata": {},
   "outputs": [],
   "source": [
    "You are given two interior angles (in degrees) of a triangle.\n",
    "\n",
    "Write a function to return the 3rd.\n",
    "\n",
    "Note: only positive integers will be tested.\n",
    "\n",
    "https://en.wikipedia.org/wiki/Triangle"
   ]
  },
  {
   "cell_type": "code",
   "execution_count": null,
   "id": "f91261a2",
   "metadata": {},
   "outputs": [],
   "source": [
    "def other_angle(a, b):\n",
    "    return 180 - (a+b)"
   ]
  }
 ],
 "metadata": {
  "kernelspec": {
   "display_name": "Python 3 (ipykernel)",
   "language": "python",
   "name": "python3"
  },
  "language_info": {
   "codemirror_mode": {
    "name": "ipython",
    "version": 3
   },
   "file_extension": ".py",
   "mimetype": "text/x-python",
   "name": "python",
   "nbconvert_exporter": "python",
   "pygments_lexer": "ipython3",
   "version": "3.10.6"
  },
  "toc": {
   "base_numbering": 1,
   "nav_menu": {},
   "number_sections": true,
   "sideBar": true,
   "skip_h1_title": false,
   "title_cell": "Table of Contents",
   "title_sidebar": "Contents",
   "toc_cell": false,
   "toc_position": {},
   "toc_section_display": true,
   "toc_window_display": false
  }
 },
 "nbformat": 4,
 "nbformat_minor": 5
}
