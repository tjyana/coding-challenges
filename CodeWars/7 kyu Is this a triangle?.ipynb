{
 "cells": [
  {
   "cell_type": "markdown",
   "id": "f867a549",
   "metadata": {},
   "source": [
    "Implement a function that accepts 3 integer values a, b, c. The function should return true if a triangle can be built with the sides of given length and false in any other case.\n",
    "\n",
    "(In this case, all triangles must have surface greater than 0 to be accepted).\n",
    "\n",
    "Examples:\n",
    "\n",
    "Input -> Output\n",
    "1,2,2 -> true\n",
    "4,2,3 -> true\n",
    "2,2,2 -> true\n",
    "1,2,3 -> false\n",
    "-5,1,3 -> false\n",
    "0,2,3 -> false\n",
    "1,2,9 -> false "
   ]
  },
  {
   "cell_type": "code",
   "execution_count": 1,
   "id": "76c0850c",
   "metadata": {},
   "outputs": [],
   "source": [
    "def is_triangle(a, b, c):\n",
    "    return max(a, b, c) <= sum(numbers) - numbers[numbers.index(max([a, b, c]))]"
   ]
  },
  {
   "cell_type": "code",
   "execution_count": 28,
   "id": "c61e6c00",
   "metadata": {},
   "outputs": [
    {
     "data": {
      "text/plain": [
       "7"
      ]
     },
     "execution_count": 28,
     "metadata": {},
     "output_type": "execute_result"
    }
   ],
   "source": [
    "a, b, c = 7, 5, 2\n",
    "\n",
    "max(a, b, c)"
   ]
  },
  {
   "cell_type": "code",
   "execution_count": 29,
   "id": "8673e72d",
   "metadata": {},
   "outputs": [
    {
     "data": {
      "text/plain": [
       "0"
      ]
     },
     "execution_count": 29,
     "metadata": {},
     "output_type": "execute_result"
    }
   ],
   "source": [
    "numbers = [a, b, c]\n",
    "numbers.index(max([a, b, c]))"
   ]
  },
  {
   "cell_type": "code",
   "execution_count": 37,
   "id": "a30822c5",
   "metadata": {},
   "outputs": [
    {
     "data": {
      "text/plain": [
       "True"
      ]
     },
     "execution_count": 37,
     "metadata": {},
     "output_type": "execute_result"
    }
   ],
   "source": [
    "max(a, b, c) <= sum(numbers) - numbers[numbers.index(max([a, b, c]))]"
   ]
  },
  {
   "cell_type": "code",
   "execution_count": 34,
   "id": "e6cd0397",
   "metadata": {},
   "outputs": [
    {
     "data": {
      "text/plain": [
       "7"
      ]
     },
     "execution_count": 34,
     "metadata": {},
     "output_type": "execute_result"
    }
   ],
   "source": [
    "max(a, b, c)"
   ]
  },
  {
   "cell_type": "code",
   "execution_count": 35,
   "id": "9e5aef6c",
   "metadata": {},
   "outputs": [
    {
     "data": {
      "text/plain": [
       "7"
      ]
     },
     "execution_count": 35,
     "metadata": {},
     "output_type": "execute_result"
    }
   ],
   "source": [
    "sum(numbers) - numbers[0]"
   ]
  },
  {
   "cell_type": "code",
   "execution_count": null,
   "id": "9ec7251a",
   "metadata": {},
   "outputs": [],
   "source": []
  }
 ],
 "metadata": {
  "kernelspec": {
   "display_name": "Python 3 (ipykernel)",
   "language": "python",
   "name": "python3"
  },
  "language_info": {
   "codemirror_mode": {
    "name": "ipython",
    "version": 3
   },
   "file_extension": ".py",
   "mimetype": "text/x-python",
   "name": "python",
   "nbconvert_exporter": "python",
   "pygments_lexer": "ipython3",
   "version": "3.10.6"
  },
  "toc": {
   "base_numbering": 1,
   "nav_menu": {},
   "number_sections": true,
   "sideBar": true,
   "skip_h1_title": false,
   "title_cell": "Table of Contents",
   "title_sidebar": "Contents",
   "toc_cell": false,
   "toc_position": {},
   "toc_section_display": true,
   "toc_window_display": false
  }
 },
 "nbformat": 4,
 "nbformat_minor": 5
}
