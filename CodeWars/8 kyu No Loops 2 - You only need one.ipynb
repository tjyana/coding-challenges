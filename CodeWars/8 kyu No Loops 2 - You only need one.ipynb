{
 "cells": [
  {
   "cell_type": "code",
   "execution_count": null,
   "id": "d560f50a",
   "metadata": {},
   "outputs": [],
   "source": [
    "*** No Loops Allowed ***\n",
    "\n",
    "You will be given an array a and a value x. All you need to do is check whether the provided array contains the value, without using a loop.\n",
    "\n",
    "Array can contain numbers or strings. x can be either. Return true if the array contains the value, false if not. With strings you will need to account for case.\n",
    "\n",
    "Looking for more, loop-restrained fun? Check out the other kata in the series:\n",
    "\n",
    "No Loops 1 - Small enough?"
   ]
  },
  {
   "cell_type": "code",
   "execution_count": 1,
   "id": "7219a586",
   "metadata": {},
   "outputs": [],
   "source": [
    "def check(a, x): \n",
    "    if x in a:\n",
    "        return True\n",
    "    else:\n",
    "        return False"
   ]
  },
  {
   "cell_type": "code",
   "execution_count": null,
   "id": "5f4bb6fb",
   "metadata": {},
   "outputs": [],
   "source": [
    "# clever\n",
    "\n",
    "def check(a, x): \n",
    "    return x in a"
   ]
  }
 ],
 "metadata": {
  "kernelspec": {
   "display_name": "Python 3 (ipykernel)",
   "language": "python",
   "name": "python3"
  },
  "language_info": {
   "codemirror_mode": {
    "name": "ipython",
    "version": 3
   },
   "file_extension": ".py",
   "mimetype": "text/x-python",
   "name": "python",
   "nbconvert_exporter": "python",
   "pygments_lexer": "ipython3",
   "version": "3.10.6"
  },
  "toc": {
   "base_numbering": 1,
   "nav_menu": {},
   "number_sections": true,
   "sideBar": true,
   "skip_h1_title": false,
   "title_cell": "Table of Contents",
   "title_sidebar": "Contents",
   "toc_cell": false,
   "toc_position": {},
   "toc_section_display": true,
   "toc_window_display": false
  }
 },
 "nbformat": 4,
 "nbformat_minor": 5
}
