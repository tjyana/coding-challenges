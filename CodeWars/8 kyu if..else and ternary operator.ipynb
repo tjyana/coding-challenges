{
 "cells": [
  {
   "cell_type": "code",
   "execution_count": null,
   "id": "b081f37e",
   "metadata": {},
   "outputs": [],
   "source": [
    "Task:\n",
    "Complete function saleHotdogs/SaleHotDogs/sale_hotdogs, function accepts 1 parameter:n, n is the number of hotdogs a customer will buy, different numbers have different prices (refer to the following table), return how much money will the customer spend to buy that number of hotdogs.\n",
    "\n",
    "number of hotdogs\tprice per unit (cents)\n",
    "n < 5\t100\n",
    "n >= 5 and n < 10\t95\n",
    "n >= 10\t90\n",
    "You can use if..else or ternary operator to complete it."
   ]
  },
  {
   "cell_type": "code",
   "execution_count": null,
   "id": "9a626053",
   "metadata": {},
   "outputs": [],
   "source": []
  },
  {
   "cell_type": "code",
   "execution_count": null,
   "id": "cc0decb2",
   "metadata": {},
   "outputs": [],
   "source": []
  },
  {
   "cell_type": "code",
   "execution_count": 3,
   "id": "5f4d37f7",
   "metadata": {},
   "outputs": [
    {
     "data": {
      "text/plain": [
       "475"
      ]
     },
     "execution_count": 3,
     "metadata": {},
     "output_type": "execute_result"
    }
   ],
   "source": [
    "def sale_hotdogs(n):\n",
    "    return n*100 if n < 5 else n*95 if 5 <= n < 10 else n*90 \n",
    "\n",
    "sale_hotdogs(5)"
   ]
  },
  {
   "cell_type": "code",
   "execution_count": null,
   "id": "a313e986",
   "metadata": {},
   "outputs": [],
   "source": []
  }
 ],
 "metadata": {
  "kernelspec": {
   "display_name": "Python 3 (ipykernel)",
   "language": "python",
   "name": "python3"
  },
  "language_info": {
   "codemirror_mode": {
    "name": "ipython",
    "version": 3
   },
   "file_extension": ".py",
   "mimetype": "text/x-python",
   "name": "python",
   "nbconvert_exporter": "python",
   "pygments_lexer": "ipython3",
   "version": "3.10.6"
  },
  "toc": {
   "base_numbering": 1,
   "nav_menu": {},
   "number_sections": true,
   "sideBar": true,
   "skip_h1_title": false,
   "title_cell": "Table of Contents",
   "title_sidebar": "Contents",
   "toc_cell": false,
   "toc_position": {},
   "toc_section_display": true,
   "toc_window_display": false
  }
 },
 "nbformat": 4,
 "nbformat_minor": 5
}
