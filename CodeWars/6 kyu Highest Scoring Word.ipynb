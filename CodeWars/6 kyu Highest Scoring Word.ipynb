{
 "cells": [
  {
   "cell_type": "code",
   "execution_count": null,
   "id": "86d5e18c",
   "metadata": {},
   "outputs": [],
   "source": [
    "Given a string of words, you need to find the highest scoring word.\n",
    "\n",
    "Each letter of a word scores points according to its position in the alphabet: a = 1, b = 2, c = 3 etc.\n",
    "\n",
    "For example, the score of abad is 8 (1 + 2 + 1 + 4).\n",
    "\n",
    "You need to return the highest scoring word as a string.\n",
    "\n",
    "If two words score the same, return the word that appears earliest in the original string.\n",
    "\n",
    "All letters will be lowercase and all inputs will be valid."
   ]
  },
  {
   "cell_type": "code",
   "execution_count": 1,
   "id": "ef2e7c8f",
   "metadata": {},
   "outputs": [],
   "source": [
    "# move on after first pomodoro"
   ]
  },
  {
   "cell_type": "code",
   "execution_count": 2,
   "id": "05bd0541",
   "metadata": {},
   "outputs": [
    {
     "ename": "SyntaxError",
     "evalue": "incomplete input (667506998.py, line 3)",
     "output_type": "error",
     "traceback": [
      "\u001b[0;36m  Cell \u001b[0;32mIn [2], line 3\u001b[0;36m\u001b[0m\n\u001b[0;31m    \u001b[0m\n\u001b[0m    ^\u001b[0m\n\u001b[0;31mSyntaxError\u001b[0m\u001b[0;31m:\u001b[0m incomplete input\n"
     ]
    }
   ],
   "source": [
    "def high(x):\n",
    "    # Code here\n",
    "    "
   ]
  },
  {
   "cell_type": "code",
   "execution_count": 25,
   "id": "1931c6aa",
   "metadata": {},
   "outputs": [
    {
     "data": {
      "text/plain": [
       "'abcdefghijklmnopqrstuvwxyz'"
      ]
     },
     "execution_count": 25,
     "metadata": {},
     "output_type": "execute_result"
    }
   ],
   "source": [
    "import string\n",
    "alphabet = string.ascii_lowercase\n",
    "alphabet"
   ]
  },
  {
   "cell_type": "code",
   "execution_count": 9,
   "id": "290d9023",
   "metadata": {},
   "outputs": [
    {
     "data": {
      "text/plain": [
       "['a',\n",
       " 'b',\n",
       " 'c',\n",
       " 'd',\n",
       " 'e',\n",
       " 'f',\n",
       " 'g',\n",
       " 'h',\n",
       " 'i',\n",
       " 'j',\n",
       " 'k',\n",
       " 'l',\n",
       " 'm',\n",
       " 'n',\n",
       " 'o',\n",
       " 'p',\n",
       " 'q',\n",
       " 'r',\n",
       " 's',\n",
       " 't',\n",
       " 'u',\n",
       " 'v',\n",
       " 'w',\n",
       " 'x',\n",
       " 'y',\n",
       " 'z']"
      ]
     },
     "execution_count": 9,
     "metadata": {},
     "output_type": "execute_result"
    }
   ],
   "source": [
    "list(alphabet)"
   ]
  },
  {
   "cell_type": "code",
   "execution_count": 29,
   "id": "d06f0756",
   "metadata": {},
   "outputs": [
    {
     "ename": "ValueError",
     "evalue": "too many values to unpack (expected 2)",
     "output_type": "error",
     "traceback": [
      "\u001b[0;31m---------------------------------------------------------------------------\u001b[0m",
      "\u001b[0;31mValueError\u001b[0m                                Traceback (most recent call last)",
      "Cell \u001b[0;32mIn [29], line 6\u001b[0m\n\u001b[1;32m      4\u001b[0m     values \u001b[38;5;241m=\u001b[39m \u001b[38;5;28mrange\u001b[39m(\u001b[38;5;241m1\u001b[39m, \u001b[38;5;241m27\u001b[39m)\n\u001b[1;32m      5\u001b[0m     \u001b[38;5;66;03m# assign the point values using index. maybe create a dict?\u001b[39;00m\n\u001b[0;32m----> 6\u001b[0m     \u001b[38;5;28;01mfor\u001b[39;00m key, value \u001b[38;5;129;01min\u001b[39;00m keys, values:\n\u001b[1;32m      7\u001b[0m         dicts[key] \u001b[38;5;241m=\u001b[39m value\n\u001b[1;32m      8\u001b[0m \u001b[38;5;28mprint\u001b[39m(\u001b[38;5;28mdict\u001b[39m)\n",
      "\u001b[0;31mValueError\u001b[0m: too many values to unpack (expected 2)"
     ]
    }
   ],
   "source": [
    "for letter in alphabet:\n",
    "    scores = {}\n",
    "    keys = alphabet\n",
    "    values = range(1, 27)\n",
    "    # assign the point values using index. maybe create a dict?\n",
    "    for key, value in keys, values:\n",
    "        dicts[key] = value\n",
    "print(dict)"
   ]
  },
  {
   "cell_type": "code",
   "execution_count": 3,
   "id": "cd43372f",
   "metadata": {},
   "outputs": [
    {
     "name": "stdout",
     "output_type": "stream",
     "text": [
      "{'a': 1, 'b': 2, 'c': 3, 'd': 4, 'e': 5, 'f': 6, 'g': 7, 'h': 8, 'i': 9, 'j': 10, 'k': 11, 'l': 12, 'm': 13, 'n': 14, 'o': 15, 'p': 16, 'q': 17, 'r': 18, 's': 19, 't': 20, 'u': 21, 'v': 22, 'w': 23, 'x': 24, 'y': 25, 'z': 26}\n"
     ]
    }
   ],
   "source": [
    "keys = alphabet\n",
    "values = range(1, 27)\n",
    "result = dict(zip(keys, values))\n",
    "print(result)"
   ]
  },
  {
   "cell_type": "code",
   "execution_count": 2,
   "id": "b2a992be",
   "metadata": {},
   "outputs": [
    {
     "name": "stdout",
     "output_type": "stream",
     "text": [
      "{'a': 1, 'b': 2, 'c': 3, 'd': 4, 'e': 5, 'f': 6, 'g': 7, 'h': 8, 'i': 9, 'j': 10, 'k': 11, 'l': 12, 'm': 13, 'n': 14, 'o': 15, 'p': 16, 'q': 17, 'r': 18, 's': 19, 't': 20, 'u': 21, 'v': 22, 'w': 23, 'x': 24, 'y': 25, 'z': 26}\n"
     ]
    }
   ],
   "source": [
    "import string\n",
    "alphabet = string.ascii_lowercase\n",
    "keys = alphabet\n",
    "values = range(1, 27)\n",
    "scores = dict(zip(keys, values))\n",
    "print(result)"
   ]
  },
  {
   "cell_type": "code",
   "execution_count": 37,
   "id": "33a117c6",
   "metadata": {},
   "outputs": [
    {
     "data": {
      "text/plain": [
       "\"['word', 'blah', 'aaa']\""
      ]
     },
     "execution_count": 37,
     "metadata": {},
     "output_type": "execute_result"
    }
   ],
   "source": [
    "words = ['word', 'blah', 'aaa']\n",
    "for word in words:\n",
    "    list(word)\n",
    "str(words)"
   ]
  },
  {
   "cell_type": "code",
   "execution_count": 34,
   "id": "53c717dc",
   "metadata": {},
   "outputs": [
    {
     "name": "stdout",
     "output_type": "stream",
     "text": [
      "[None, None, 23, 15, 18, 4, None, None, None, None, 2, 12, 1, 8, None, None, None, None, 1, 1, 1, None, None]\n",
      "<map object at 0x7f95422028c0>\n",
      "(<built-in method get of dict object at 0x7f95615cb980>, \"['word', 'blah', 'aaa']\")\n",
      "[None, None, 23, 15, 18, 4, None, None, None, None, 2, 12, 1, 8, None, None, None, None, 1, 1, 1, None, None]\n",
      "<map object at 0x7f95422028c0>\n",
      "(<built-in method get of dict object at 0x7f95615cb980>, \"['word', 'blah', 'aaa']\")\n",
      "[None, None, 23, 15, 18, 4, None, None, None, None, 2, 12, 1, 8, None, None, None, None, 1, 1, 1, None, None]\n",
      "<map object at 0x7f95422028c0>\n",
      "(<built-in method get of dict object at 0x7f95615cb980>, \"['word', 'blah', 'aaa']\")\n"
     ]
    }
   ],
   "source": [
    "for word in words:\n",
    "    print(list(map(scores.get, str(words))))\n",
    "    print(map(scores.get, str(words)))\n",
    "    print((scores.get, str(words)))"
   ]
  },
  {
   "cell_type": "code",
   "execution_count": 15,
   "id": "1be5afdc",
   "metadata": {},
   "outputs": [
    {
     "data": {
      "text/plain": [
       "['T',\n",
       " 'C',\n",
       " 'A',\n",
       " 'G',\n",
       " 'G',\n",
       " 'T',\n",
       " 'A',\n",
       " 'G',\n",
       " 'T',\n",
       " 'C',\n",
       " 'A',\n",
       " 'C',\n",
       " 'A',\n",
       " 'T',\n",
       " 'A',\n",
       " 'T',\n",
       " 'G',\n",
       " 'G',\n",
       " 'G',\n",
       " 'G']"
      ]
     },
     "execution_count": 15,
     "metadata": {},
     "output_type": "execute_result"
    }
   ],
   "source": [
    "# examples\n",
    "dna = 'AGTCCATCAGTGTATACCCC'\n",
    "rna = {'A':'T', 'C':'G', 'G':'C', 'T':'A'}\n",
    "list(map(rna.get, dna))"
   ]
  },
  {
   "cell_type": "code",
   "execution_count": 40,
   "id": "1433c224",
   "metadata": {},
   "outputs": [
    {
     "data": {
      "text/plain": [
       "[13,\n",
       " 1,\n",
       " 14,\n",
       " None,\n",
       " 9,\n",
       " None,\n",
       " 14,\n",
       " 5,\n",
       " 5,\n",
       " 4,\n",
       " None,\n",
       " 1,\n",
       " None,\n",
       " 20,\n",
       " 1,\n",
       " 24,\n",
       " 9,\n",
       " None,\n",
       " 21,\n",
       " 16,\n",
       " None,\n",
       " 20,\n",
       " 15,\n",
       " None,\n",
       " 21,\n",
       " 2,\n",
       " 21,\n",
       " 4]"
      ]
     },
     "execution_count": 40,
     "metadata": {},
     "output_type": "execute_result"
    }
   ],
   "source": [
    "import string\n",
    "keys = string.ascii_lowercase\n",
    "values = range(1, 27)\n",
    "scores = dict(zip(keys, values))\n",
    "\n",
    "words = 'man i need a taxi up to ubud'\n",
    "list(map(scores.get, words))"
   ]
  },
  {
   "cell_type": "markdown",
   "id": "8e4f86f1",
   "metadata": {},
   "source": [
    "# solutions"
   ]
  },
  {
   "cell_type": "code",
   "execution_count": 43,
   "id": "ad015e09",
   "metadata": {},
   "outputs": [],
   "source": [
    "def high(x):\n",
    "    words=x.split(' ') # split the string of words, turns it into a list of words\n",
    "    word_list = [] # empty list for later\n",
    "    for word in words:\n",
    "        scores = [sum([ord(letter) - 96 for letter in word])]\n",
    "        # score calculation function for each word\n",
    "        # ord(char) - 96: calculates score for each letter\n",
    "        # ...for letter in word: does the score calculation for each letter in word\n",
    "        # []: since it's a list comp\n",
    "        # sum(): adds up all the scores for that word\n",
    "        # the loop does it for all the words\n",
    "        list.append(scores) # creates a list of scores for all the words \n",
    "    return words[word_list.index(max(word_list))] \n",
    "        # max(word_list): returns biggest score in the list\n",
    "        # word_list.index(): returns the index of the biggest score in the list\n",
    "        # words[index of biggest score]: returns the word with the biggest score in the list\n"
   ]
  },
  {
   "cell_type": "code",
   "execution_count": null,
   "id": "49518ce5",
   "metadata": {},
   "outputs": [],
   "source": []
  },
  {
   "cell_type": "code",
   "execution_count": null,
   "id": "e7d47ec7",
   "metadata": {},
   "outputs": [],
   "source": []
  },
  {
   "cell_type": "code",
   "execution_count": 13,
   "id": "3119b082",
   "metadata": {},
   "outputs": [],
   "source": [
    "# LESSONS\n",
    "# don't override dict with your own variable lol\n",
    "# range syntax is: range(start, end). not range(start:end)\n",
    "# create dictionary with zip()\n",
    "# ord() method"
   ]
  },
  {
   "cell_type": "code",
   "execution_count": null,
   "id": "78459b53",
   "metadata": {},
   "outputs": [],
   "source": []
  },
  {
   "cell_type": "code",
   "execution_count": null,
   "id": "a51b2ede",
   "metadata": {},
   "outputs": [],
   "source": []
  }
 ],
 "metadata": {
  "kernelspec": {
   "display_name": "Python 3 (ipykernel)",
   "language": "python",
   "name": "python3"
  },
  "language_info": {
   "codemirror_mode": {
    "name": "ipython",
    "version": 3
   },
   "file_extension": ".py",
   "mimetype": "text/x-python",
   "name": "python",
   "nbconvert_exporter": "python",
   "pygments_lexer": "ipython3",
   "version": "3.10.6"
  },
  "toc": {
   "base_numbering": 1,
   "nav_menu": {},
   "number_sections": true,
   "sideBar": true,
   "skip_h1_title": false,
   "title_cell": "Table of Contents",
   "title_sidebar": "Contents",
   "toc_cell": false,
   "toc_position": {},
   "toc_section_display": true,
   "toc_window_display": false
  }
 },
 "nbformat": 4,
 "nbformat_minor": 5
}
