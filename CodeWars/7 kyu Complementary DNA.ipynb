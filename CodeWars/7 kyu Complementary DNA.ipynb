{
 "cells": [
  {
   "cell_type": "code",
   "execution_count": null,
   "id": "afbd18b3",
   "metadata": {},
   "outputs": [],
   "source": [
    "Deoxyribonucleic acid (DNA) is a chemical found in the nucleus of cells and carries the \"instructions\" for the development and functioning of living organisms.\n",
    "\n",
    "If you want to know more: http://en.wikipedia.org/wiki/DNA\n",
    "\n",
    "In DNA strings, symbols \"A\" and \"T\" are complements of each other, as \"C\" and \"G\". Your function receives one side of the DNA (string, except for Haskell); you need to return the other complementary side. DNA strand is never empty or there is no DNA at all (again, except for Haskell).\n",
    "\n",
    "More similar exercise are found here: http://rosalind.info/problems/list-view/ (source)\n",
    "\n",
    "Example: (input --> output)\n",
    "\n",
    "\"ATTGC\" --> \"TAACG\"\n",
    "\"GTAT\" --> \"CATA\""
   ]
  },
  {
   "cell_type": "code",
   "execution_count": null,
   "id": "5b2ca059",
   "metadata": {},
   "outputs": [],
   "source": [
    "def DNA_strand(dna):\n",
    "    rna = {'A':'T', 'C':'G'}\n",
    "    ''.join(list(map(rna, dna)))"
   ]
  },
  {
   "cell_type": "code",
   "execution_count": null,
   "id": "db04b542",
   "metadata": {},
   "outputs": [],
   "source": [
    "def DNA_strand(dna):\n",
    "    rna = {'A':'T', 'C':'G', 'G':'C', 'T':'A'}\n",
    "    return [rna for i in dna]"
   ]
  },
  {
   "cell_type": "code",
   "execution_count": 17,
   "id": "877f0555",
   "metadata": {},
   "outputs": [
    {
     "data": {
      "text/plain": [
       "['T',\n",
       " None,\n",
       " None,\n",
       " 'G',\n",
       " 'G',\n",
       " 'T',\n",
       " None,\n",
       " 'G',\n",
       " 'T',\n",
       " None,\n",
       " None,\n",
       " None,\n",
       " None,\n",
       " 'T',\n",
       " None,\n",
       " 'T',\n",
       " 'G',\n",
       " 'G',\n",
       " 'G',\n",
       " 'G']"
      ]
     },
     "execution_count": 17,
     "metadata": {},
     "output_type": "execute_result"
    }
   ],
   "source": [
    "dna = list('AGTCCATCAGTGTATACCCC')\n",
    "rna = {'A':'T', 'C':'G', }\n",
    "# ''.join(list(map(rna, dna)))\n",
    "\n"
   ]
  },
  {
   "cell_type": "code",
   "execution_count": 22,
   "id": "7bc9edb4",
   "metadata": {},
   "outputs": [
    {
     "data": {
      "text/plain": [
       "'TCAGGTAGTCACATATGGGG'"
      ]
     },
     "execution_count": 22,
     "metadata": {},
     "output_type": "execute_result"
    }
   ],
   "source": [
    "rna = {'A':'T', 'C':'G', 'G':'C', 'T':'A'}\n",
    "''.join([rna[i] for i in dna])\n"
   ]
  },
  {
   "cell_type": "code",
   "execution_count": 21,
   "id": "dd06b5f9",
   "metadata": {},
   "outputs": [
    {
     "data": {
      "text/plain": [
       "'TCAGGTAGTCACATATGGGG'"
      ]
     },
     "execution_count": 21,
     "metadata": {},
     "output_type": "execute_result"
    }
   ],
   "source": [
    "rna = {'A':'T', 'C':'G', 'G':'C', 'T':'A'}\n",
    "''.join(list(map(rna.get, dna)))"
   ]
  },
  {
   "cell_type": "code",
   "execution_count": null,
   "id": "39979fe3",
   "metadata": {},
   "outputs": [],
   "source": []
  }
 ],
 "metadata": {
  "kernelspec": {
   "display_name": "Python 3 (ipykernel)",
   "language": "python",
   "name": "python3"
  },
  "language_info": {
   "codemirror_mode": {
    "name": "ipython",
    "version": 3
   },
   "file_extension": ".py",
   "mimetype": "text/x-python",
   "name": "python",
   "nbconvert_exporter": "python",
   "pygments_lexer": "ipython3",
   "version": "3.10.6"
  },
  "toc": {
   "base_numbering": 1,
   "nav_menu": {},
   "number_sections": true,
   "sideBar": true,
   "skip_h1_title": false,
   "title_cell": "Table of Contents",
   "title_sidebar": "Contents",
   "toc_cell": false,
   "toc_position": {},
   "toc_section_display": true,
   "toc_window_display": false
  }
 },
 "nbformat": 4,
 "nbformat_minor": 5
}
