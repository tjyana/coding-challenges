{
 "cells": [
  {
   "cell_type": "markdown",
   "id": "cba1a2f8",
   "metadata": {},
   "source": [
    "Story\n",
    "\n",
    "Ben has a very simple idea to make some profit: he buys something and sells it again. Of course, this wouldn't give him any profit at all if he was simply to buy and sell it at the same price. Instead, he's going to buy it for the lowest possible price and sell it at the highest.\n",
    "\n",
    "Task\n",
    "\n",
    "Write a function that returns both the minimum and maximum number of the given list/array.\n",
    "\n",
    "Examples (Input --> Output)\n",
    "\n",
    "[1,2,3,4,5] --> [1,5]\n",
    "\n",
    "[2334454,5] --> [5,2334454]\n",
    "\n",
    "[1]         --> [1,1]\n",
    "\n",
    "Remarks\n",
    "\n",
    "All arrays or lists will always have at least one element, so you don't need to check the length. Also, your function will always get an array or a list, you don't have to check for null, undefined or similar."
   ]
  },
  {
   "cell_type": "code",
   "execution_count": 2,
   "id": "a3c7034b",
   "metadata": {},
   "outputs": [
    {
     "data": {
      "text/plain": [
       "[1, 5]"
      ]
     },
     "execution_count": 2,
     "metadata": {},
     "output_type": "execute_result"
    }
   ],
   "source": [
    "def min_max(lst):\n",
    "    minimum = min(lst)\n",
    "    maximum = max(lst)\n",
    "    return [minimum, maximum]\n",
    "\n",
    "lst = [1,2,3,4,5]\n",
    "min_max(lst)"
   ]
  },
  {
   "cell_type": "code",
   "execution_count": 4,
   "id": "ce8add41",
   "metadata": {},
   "outputs": [
    {
     "data": {
      "text/plain": [
       "[1, 5]"
      ]
     },
     "execution_count": 4,
     "metadata": {},
     "output_type": "execute_result"
    }
   ],
   "source": [
    "def min_max(lst):\n",
    "    return [min(lst), max(lst)]\n",
    "\n",
    "lst = [1,2,3,4,5]\n",
    "min_max(lst)"
   ]
  },
  {
   "cell_type": "code",
   "execution_count": null,
   "id": "c93e058b",
   "metadata": {},
   "outputs": [],
   "source": []
  }
 ],
 "metadata": {
  "kernelspec": {
   "display_name": "Python 3 (ipykernel)",
   "language": "python",
   "name": "python3"
  },
  "language_info": {
   "codemirror_mode": {
    "name": "ipython",
    "version": 3
   },
   "file_extension": ".py",
   "mimetype": "text/x-python",
   "name": "python",
   "nbconvert_exporter": "python",
   "pygments_lexer": "ipython3",
   "version": "3.10.6"
  },
  "toc": {
   "base_numbering": 1,
   "nav_menu": {},
   "number_sections": true,
   "sideBar": true,
   "skip_h1_title": false,
   "title_cell": "Table of Contents",
   "title_sidebar": "Contents",
   "toc_cell": false,
   "toc_position": {},
   "toc_section_display": true,
   "toc_window_display": false
  }
 },
 "nbformat": 4,
 "nbformat_minor": 5
}
