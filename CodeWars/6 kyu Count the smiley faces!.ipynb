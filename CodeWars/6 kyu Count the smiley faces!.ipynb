{
 "cells": [
  {
   "cell_type": "markdown",
   "id": "2abe0d6f",
   "metadata": {},
   "source": [
    "Given an array (arr) as an argument complete the function countSmileys that should return the total number of smiling faces.\n",
    "\n",
    "Rules for a smiling face:\n",
    "\n",
    "Each smiley face must contain a valid pair of eyes. Eyes can be marked as : or ;\n",
    "A smiley face can have a nose but it does not have to. Valid characters for a nose are - or ~\n",
    "Every smiling face must have a smiling mouth that should be marked with either ) or D\n",
    "No additional characters are allowed except for those mentioned.\n",
    "\n",
    "Valid smiley face examples: :) :D ;-D :~)\n",
    "Invalid smiley faces: ;( :> :} :]\n",
    "\n",
    "Example\n",
    "countSmileys([':)', ';(', ';}', ':-D']);       // should return 2;\n",
    "countSmileys([';D', ':-(', ':-)', ';~)']);     // should return 3;\n",
    "countSmileys([';]', ':[', ';*', ':$', ';-D']); // should return 1;\n",
    "Note\n",
    "In case of an empty array return 0. You will not be tested with invalid input (input will always be an array). Order of the face (eyes, nose, mouth) elements will always be the same."
   ]
  },
  {
   "cell_type": "code",
   "execution_count": null,
   "id": "34a4e575",
   "metadata": {},
   "outputs": [],
   "source": [
    "def count_smileys(arr):\n",
    "    count = 0\n",
    "    eyes = [':', ';']\n",
    "    nose = ['-', '~']\n",
    "    mouth = [')', 'D']\n",
    "    for face in arr:\n",
    "        if len(face) == 2:\n",
    "            if face[0] in eyes and face[1] in mouth:\n",
    "                count += 1 \n",
    "        elif len(face) == 3:\n",
    "            if face[0] in eyes and face[1] in nose and face[2] in mouth:\n",
    "                count += 1\n",
    "    return count"
   ]
  },
  {
   "cell_type": "code",
   "execution_count": 1,
   "id": "107aa126",
   "metadata": {},
   "outputs": [],
   "source": [
    "eyes = [':', ';']\n",
    "nose = ['-', '~']\n",
    "mouth = [')', 'D']"
   ]
  },
  {
   "cell_type": "code",
   "execution_count": null,
   "id": "0caa30eb",
   "metadata": {},
   "outputs": [],
   "source": [
    "f'{eyes}{nose}{mouth}'\n",
    "f'{eyes}{mouth}'"
   ]
  },
  {
   "cell_type": "code",
   "execution_count": 20,
   "id": "b1b76e17",
   "metadata": {},
   "outputs": [
    {
     "data": {
      "text/plain": [
       "2"
      ]
     },
     "execution_count": 20,
     "metadata": {},
     "output_type": "execute_result"
    }
   ],
   "source": [
    "arr = [':)', ';(', ';}', ':-D']\n",
    "count = 0\n",
    "for face in arr:\n",
    "    if len(face) == 2:\n",
    "        if face[0] in eyes and face[1] in mouth:\n",
    "            count += 1 \n",
    "    elif len(face) == 3:\n",
    "        if face[0] in eyes and face[1] in nose and face[2] in mouth:\n",
    "            count += 1\n",
    "count"
   ]
  },
  {
   "cell_type": "code",
   "execution_count": 14,
   "id": "4e1c80ec",
   "metadata": {},
   "outputs": [
    {
     "data": {
      "text/plain": [
       "1"
      ]
     },
     "execution_count": 14,
     "metadata": {},
     "output_type": "execute_result"
    }
   ],
   "source": [
    "face = ':D'\n",
    "count = 0\n",
    "count += 1 if face[0] in eyes else False\n",
    "count"
   ]
  },
  {
   "cell_type": "code",
   "execution_count": null,
   "id": "f8de285c",
   "metadata": {},
   "outputs": [],
   "source": []
  }
 ],
 "metadata": {
  "kernelspec": {
   "display_name": "Python 3 (ipykernel)",
   "language": "python",
   "name": "python3"
  },
  "language_info": {
   "codemirror_mode": {
    "name": "ipython",
    "version": 3
   },
   "file_extension": ".py",
   "mimetype": "text/x-python",
   "name": "python",
   "nbconvert_exporter": "python",
   "pygments_lexer": "ipython3",
   "version": "3.10.6"
  },
  "toc": {
   "base_numbering": 1,
   "nav_menu": {},
   "number_sections": true,
   "sideBar": true,
   "skip_h1_title": false,
   "title_cell": "Table of Contents",
   "title_sidebar": "Contents",
   "toc_cell": false,
   "toc_position": {},
   "toc_section_display": true,
   "toc_window_display": false
  }
 },
 "nbformat": 4,
 "nbformat_minor": 5
}
