{
 "cells": [
  {
   "cell_type": "code",
   "execution_count": null,
   "id": "7ea17beb",
   "metadata": {},
   "outputs": [],
   "source": [
    "Your task is to sum the differences between consecutive pairs in the array in descending order.\n",
    "\n",
    "Example\n",
    "[2, 1, 10]  -->  9\n",
    "In descending order: [10, 2, 1]\n",
    "\n",
    "Sum: (10 - 2) + (2 - 1) = 8 + 1 = 9\n",
    "\n",
    "If the array is empty or the array has only one element the result should be 0 (Nothing in Haskell, None in Rust)."
   ]
  },
  {
   "cell_type": "code",
   "execution_count": null,
   "id": "c2d7a989",
   "metadata": {},
   "outputs": [],
   "source": [
    "def sum_of_differences(arr):\n",
    "    return 0"
   ]
  },
  {
   "cell_type": "code",
   "execution_count": 2,
   "id": "0fff5009",
   "metadata": {},
   "outputs": [
    {
     "data": {
      "text/plain": [
       "[10, 2, 1]"
      ]
     },
     "execution_count": 2,
     "metadata": {},
     "output_type": "execute_result"
    }
   ],
   "source": [
    "arr = [2, 1, 10]\n",
    "sorted(arr, reverse=True)"
   ]
  },
  {
   "cell_type": "code",
   "execution_count": 8,
   "id": "3deb95ae",
   "metadata": {},
   "outputs": [],
   "source": [
    "arr = [1, 4, 5, 6, 6]\n",
    "inorder = sorted(arr, reverse=True)"
   ]
  },
  {
   "cell_type": "code",
   "execution_count": 4,
   "id": "44808d97",
   "metadata": {},
   "outputs": [
    {
     "data": {
      "text/plain": [
       "<enumerate at 0x7f7a30b75240>"
      ]
     },
     "execution_count": 4,
     "metadata": {},
     "output_type": "execute_result"
    }
   ],
   "source": [
    "enumerate(arr)"
   ]
  },
  {
   "cell_type": "code",
   "execution_count": 7,
   "id": "e2887994",
   "metadata": {},
   "outputs": [
    {
     "data": {
      "text/plain": [
       "[(1, 1), (2, 4), (3, 5), (4, 6), (5, 6)]"
      ]
     },
     "execution_count": 7,
     "metadata": {},
     "output_type": "execute_result"
    }
   ],
   "source": [
    "list(enumerate(arr))"
   ]
  },
  {
   "cell_type": "code",
   "execution_count": null,
   "id": "199100fa",
   "metadata": {},
   "outputs": [],
   "source": [
    "for i, number in enumerate(arr):\n",
    "    "
   ]
  },
  {
   "cell_type": "code",
   "execution_count": 12,
   "id": "989dafa0",
   "metadata": {},
   "outputs": [
    {
     "data": {
      "text/plain": [
       "9"
      ]
     },
     "execution_count": 12,
     "metadata": {},
     "output_type": "execute_result"
    }
   ],
   "source": [
    "arr = [2, 1, 10]\n",
    "\n",
    "total = 0 \n",
    "for i in range(len(arr)-1):\n",
    "    total = arr[i+1] - arr[i]\n",
    "    \n",
    "total "
   ]
  },
  {
   "cell_type": "code",
   "execution_count": 13,
   "id": "7268897c",
   "metadata": {},
   "outputs": [
    {
     "data": {
      "text/plain": [
       "8"
      ]
     },
     "execution_count": 13,
     "metadata": {},
     "output_type": "execute_result"
    }
   ],
   "source": [
    "sum((arr[i+1] - arr[i]) for i in range(len(arr)-1))"
   ]
  },
  {
   "cell_type": "code",
   "execution_count": 16,
   "id": "0874fd90",
   "metadata": {},
   "outputs": [
    {
     "data": {
      "text/plain": [
       "[-1, 9]"
      ]
     },
     "execution_count": 16,
     "metadata": {},
     "output_type": "execute_result"
    }
   ],
   "source": [
    "[(arr[i+1] - arr[i]) for i in range(len(arr)-1)]"
   ]
  },
  {
   "cell_type": "code",
   "execution_count": 17,
   "id": "e0bb521f",
   "metadata": {},
   "outputs": [],
   "source": [
    "def sum_of_differences(arr):\n",
    "    total = 0 \n",
    "    arr = sorted(arr, reverse=True)\n",
    "    for i in range(len(arr)-1):\n",
    "        total += arr[i] - arr[i+1]\n",
    "    return total"
   ]
  },
  {
   "cell_type": "code",
   "execution_count": 19,
   "id": "40343316",
   "metadata": {},
   "outputs": [],
   "source": [
    "def sum_of_differences(arr):\n",
    "    arr = sorted(arr, reverse=True)\n",
    "    return sum((arr[i] - arr[i+1]) for i in range(len(arr)-1))"
   ]
  },
  {
   "cell_type": "code",
   "execution_count": null,
   "id": "28c3b6dd",
   "metadata": {},
   "outputs": [],
   "source": [
    "# best solution wtf\n",
    "\n",
    "def sum_of_differences(arr):\n",
    "    return max(arr) - min(arr) if arr else 0"
   ]
  }
 ],
 "metadata": {
  "kernelspec": {
   "display_name": "Python 3 (ipykernel)",
   "language": "python",
   "name": "python3"
  },
  "language_info": {
   "codemirror_mode": {
    "name": "ipython",
    "version": 3
   },
   "file_extension": ".py",
   "mimetype": "text/x-python",
   "name": "python",
   "nbconvert_exporter": "python",
   "pygments_lexer": "ipython3",
   "version": "3.10.6"
  },
  "toc": {
   "base_numbering": 1,
   "nav_menu": {},
   "number_sections": true,
   "sideBar": true,
   "skip_h1_title": false,
   "title_cell": "Table of Contents",
   "title_sidebar": "Contents",
   "toc_cell": false,
   "toc_position": {},
   "toc_section_display": true,
   "toc_window_display": false
  }
 },
 "nbformat": 4,
 "nbformat_minor": 5
}
