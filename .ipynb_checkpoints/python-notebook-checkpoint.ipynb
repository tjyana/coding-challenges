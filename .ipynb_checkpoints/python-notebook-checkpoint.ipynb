{
 "cells": [
  {
   "cell_type": "markdown",
   "id": "3c90a8c1",
   "metadata": {},
   "source": [
    "this will be used as main python note-taking resource!!! (better than notion which can't run code)\n",
    "to-dos:\n",
    "- decide how to section it out\n",
    "- decide on format for each section \n",
    "- reorganize everything and clean it up"
   ]
  },
  {
   "cell_type": "code",
   "execution_count": null,
   "id": "9a757285",
   "metadata": {},
   "outputs": [],
   "source": []
  },
  {
   "cell_type": "code",
   "execution_count": null,
   "id": "3e43c2b0",
   "metadata": {},
   "outputs": [],
   "source": []
  },
  {
   "cell_type": "code",
   "execution_count": null,
   "id": "778e9a83",
   "metadata": {},
   "outputs": [],
   "source": []
  },
  {
   "cell_type": "markdown",
   "id": "5ebf2f3e",
   "metadata": {},
   "source": [
    "# Basic Concepts:\n",
    "- Python Syntax and Structure\n",
    "- Comments and Documentation\n",
    "- Data Types\n",
    "  - Integers\n",
    "  - Floats\n",
    "  - Strings\n",
    "  - Booleans\n",
    "  - None\n",
    "- Variables and Assignment"
   ]
  },
  {
   "cell_type": "markdown",
   "id": "42338abe",
   "metadata": {},
   "source": [
    "## Data Types"
   ]
  },
  {
   "cell_type": "markdown",
   "id": "bcf3ddfa",
   "metadata": {},
   "source": [
    "### Checking Data Type"
   ]
  },
  {
   "cell_type": "code",
   "execution_count": 3,
   "id": "fd9208f7",
   "metadata": {},
   "outputs": [
    {
     "data": {
      "text/plain": [
       "str"
      ]
     },
     "execution_count": 3,
     "metadata": {},
     "output_type": "execute_result"
    }
   ],
   "source": [
    "# type(VALUE)\n",
    "# check what type a value is\n",
    "# returns data type\n",
    "\n",
    "testing = '12353'\n",
    "\n",
    "type(testing)\n"
   ]
  },
  {
   "cell_type": "code",
   "execution_count": 4,
   "id": "af951510",
   "metadata": {},
   "outputs": [
    {
     "name": "stdout",
     "output_type": "stream",
     "text": [
      "False\n",
      "True\n"
     ]
    }
   ],
   "source": [
    "# isinstance(VALUE, DATATYPE)\n",
    "# can check if a value is a data type\n",
    "# returns boolean\n",
    "\n",
    "test_string = 5\n",
    "\n",
    "res = isinstance(test_string, str)\n",
    "print(res)\n",
    "\n",
    "res2 = isinstance(test_string, int)\n",
    "print(res2)"
   ]
  },
  {
   "cell_type": "markdown",
   "id": "5a4b594f",
   "metadata": {},
   "source": [
    "## Variables and Assignment"
   ]
  },
  {
   "cell_type": "markdown",
   "id": "83045cb0",
   "metadata": {},
   "source": [
    "### do NOT assign to methods"
   ]
  },
  {
   "cell_type": "code",
   "execution_count": 9,
   "id": "ec0ac9b8",
   "metadata": {},
   "outputs": [],
   "source": [
    "# things like: list, int, str, dict, sum\n",
    "# this will effectively disable the methods\n",
    "\n",
    "# won't actually demo it here"
   ]
  },
  {
   "cell_type": "markdown",
   "id": "877bf68b",
   "metadata": {},
   "source": [
    "# Integers\n",
    "are NOT iterable"
   ]
  },
  {
   "cell_type": "code",
   "execution_count": 18,
   "id": "2d89391f",
   "metadata": {},
   "outputs": [
    {
     "data": {
      "text/plain": [
       "14234234"
      ]
     },
     "execution_count": 18,
     "metadata": {},
     "output_type": "execute_result"
    }
   ],
   "source": [
    "# creating\n",
    "# int()\n",
    "\n",
    "whatever = '14234234'\n",
    "int(whatever)"
   ]
  },
  {
   "cell_type": "code",
   "execution_count": null,
   "id": "f789ac87",
   "metadata": {},
   "outputs": [],
   "source": []
  },
  {
   "cell_type": "markdown",
   "id": "1d318653",
   "metadata": {},
   "source": [
    "### binary\n"
   ]
  },
  {
   "cell_type": "markdown",
   "id": "789906e9",
   "metadata": {},
   "source": [
    "#### converting decimal to binary"
   ]
  },
  {
   "cell_type": "code",
   "execution_count": 3,
   "id": "d1dc928d",
   "metadata": {},
   "outputs": [
    {
     "name": "stdout",
     "output_type": "stream",
     "text": [
      "0b111\n",
      "111\n"
     ]
    }
   ],
   "source": [
    "# bin(INTEGER)\n",
    "\n",
    "# returns binary STRING with 0b thing\n",
    "# integer to string\n",
    "# returns error for floats\n",
    "\n",
    "print(bin(7))\n",
    "\n",
    "# use indexing to pull out just the binary\n",
    "\n",
    "print(bin(7)[2:])"
   ]
  },
  {
   "cell_type": "code",
   "execution_count": 4,
   "id": "ea2e5927",
   "metadata": {},
   "outputs": [
    {
     "data": {
      "text/plain": [
       "'111'"
      ]
     },
     "execution_count": 4,
     "metadata": {},
     "output_type": "execute_result"
    }
   ],
   "source": [
    "# using FORMAT.format(VALUE)\n",
    "\n",
    "# '{0:b}'.format(a + b)\n",
    "a = 5\n",
    "b = 2\n",
    "\n",
    "'{0:b}'.format(a + b)"
   ]
  },
  {
   "cell_type": "code",
   "execution_count": null,
   "id": "36b88925",
   "metadata": {},
   "outputs": [],
   "source": []
  },
  {
   "cell_type": "markdown",
   "id": "52a970df",
   "metadata": {},
   "source": [
    "# Strings\n",
    "are iterable.\n",
    "\n",
    "1. Strings\n",
    "   - Create:\n",
    "     - Initializing a String\n",
    "   - Read:\n",
    "     - Accessing Characters by Index\n",
    "     - Slicing Strings\n",
    "     - Iterating Over Characters\n",
    "   - Update:\n",
    "     - Strings are Immutable (No direct update, create a new string)\n",
    "   - Delete:\n",
    "     - No direct deletion operation (strings are immutable)\n",
    "     - Deleting Entire String (Variable Deletion)\n",
    "\n"
   ]
  },
  {
   "cell_type": "markdown",
   "id": "d8280187",
   "metadata": {},
   "source": [
    "## Creating"
   ]
  },
  {
   "cell_type": "markdown",
   "id": "4510f84b",
   "metadata": {},
   "source": [
    "### Initializing a String"
   ]
  },
  {
   "cell_type": "code",
   "execution_count": 5,
   "id": "992500d1",
   "metadata": {},
   "outputs": [
    {
     "data": {
      "text/plain": [
       "'False and 3234234 and blahblahblah'"
      ]
     },
     "execution_count": 5,
     "metadata": {},
     "output_type": "execute_result"
    }
   ],
   "source": [
    "# f strings\n",
    "# f'{VARIABLE} stringstringstring {VARIABLE}'\n",
    "# can convert many things to strings, including booleans\n",
    "\n",
    "example_bool = 1 == 0 \n",
    "example_int = 3234234\n",
    "example_string = 'blahblahblah'\n",
    "\n",
    "new_string = f'{example_bool} and {example_int} and {example_string}'\n",
    "new_string\n",
    "# and then you can do string operations on this"
   ]
  },
  {
   "cell_type": "code",
   "execution_count": 15,
   "id": "b96b49bc",
   "metadata": {},
   "outputs": [
    {
     "data": {
      "text/plain": [
       "'14234234'"
      ]
     },
     "execution_count": 15,
     "metadata": {},
     "output_type": "execute_result"
    }
   ],
   "source": [
    "# convert to string\n",
    "# str(b)\n",
    "\n",
    "b = 14234234\n",
    "str(b)"
   ]
  },
  {
   "cell_type": "markdown",
   "id": "559c352c",
   "metadata": {},
   "source": [
    "#### using .format() to create\n",
    "<br>placeholder formatting types: https://www.w3schools.com/python/ref_string_format.asp"
   ]
  },
  {
   "cell_type": "code",
   "execution_count": 5,
   "id": "2e51a0dc",
   "metadata": {},
   "outputs": [
    {
     "name": "stdout",
     "output_type": "stream",
     "text": [
      "My name is John, I'm 36\n",
      "My name is John, I'm 36\n",
      "My name is John, I'm 36\n"
     ]
    }
   ],
   "source": [
    "# .format()\n",
    "# string.format(value1, value2...)\n",
    "# The placeholders can be identified using named indexes {price}, numbered indexes {0}, or even empty placeholders {}.\n",
    "\n",
    "txt1 = \"My name is {fname}, I'm {age}\".format(fname = \"John\", age = 36)\n",
    "print(txt1)\n",
    "\n",
    "txt2 = \"My name is {0}, I'm {1}\".format(\"John\",36)\n",
    "print(txt2)\n",
    "\n",
    "txt3 = \"My name is {}, I'm {}\".format(\"John\",36)\n",
    "print(txt3)"
   ]
  },
  {
   "cell_type": "code",
   "execution_count": null,
   "id": "5ae4921c",
   "metadata": {},
   "outputs": [],
   "source": []
  },
  {
   "cell_type": "code",
   "execution_count": null,
   "id": "3be5d910",
   "metadata": {},
   "outputs": [],
   "source": []
  },
  {
   "cell_type": "markdown",
   "id": "63e42efb",
   "metadata": {},
   "source": [
    "## Reading"
   ]
  },
  {
   "cell_type": "markdown",
   "id": "53f2409c",
   "metadata": {},
   "source": [
    "### Accessing Characters by Index"
   ]
  },
  {
   "cell_type": "code",
   "execution_count": 84,
   "id": "1c4490d0",
   "metadata": {},
   "outputs": [
    {
     "data": {
      "text/plain": [
       "'y'"
      ]
     },
     "execution_count": 84,
     "metadata": {},
     "output_type": "execute_result"
    }
   ],
   "source": [
    "# indexing\n",
    "a = \"xyaabbbccccdefww\"\n",
    "a[1]"
   ]
  },
  {
   "cell_type": "markdown",
   "id": "6db68fcd",
   "metadata": {},
   "source": [
    "### Slicing Strings"
   ]
  },
  {
   "cell_type": "markdown",
   "id": "38442ad9",
   "metadata": {},
   "source": [
    "### Iterating Over Characters"
   ]
  },
  {
   "cell_type": "markdown",
   "id": "9cbcb545",
   "metadata": {},
   "source": [
    "### Checking if it's a string"
   ]
  },
  {
   "cell_type": "code",
   "execution_count": null,
   "id": "a44f6cf9",
   "metadata": {},
   "outputs": [],
   "source": [
    "# "
   ]
  },
  {
   "cell_type": "code",
   "execution_count": null,
   "id": "3dc9a1af",
   "metadata": {},
   "outputs": [],
   "source": []
  },
  {
   "cell_type": "markdown",
   "id": "820f9c81",
   "metadata": {},
   "source": [
    "## Updating"
   ]
  },
  {
   "cell_type": "markdown",
   "id": "d58635cd",
   "metadata": {},
   "source": [
    "(Strings are immutable and cannot be updated. Must create new. String operations down below.)"
   ]
  },
  {
   "cell_type": "markdown",
   "id": "94197172",
   "metadata": {},
   "source": [
    "## Deleting"
   ]
  },
  {
   "cell_type": "markdown",
   "id": "d231733f",
   "metadata": {},
   "source": [
    "No direct deletion operation (strings are immutable)"
   ]
  },
  {
   "cell_type": "markdown",
   "id": "4fedd341",
   "metadata": {},
   "source": [
    "## String Operations\n",
    "   - Concatenation:\n",
    "     - Concatenating Strings\n",
    "     - Using the `+` Operator\n",
    "     - Using the `str.join()` Method\n",
    "   - Searching and Finding:\n",
    "     - Finding Substrings (e.g., `str.find()`, `str.index()`)\n",
    "     - Counting Occurrences (e.g., `str.count()`)\n",
    "     - Checking Substring Existence (e.g., `in` operator)\n",
    "   - Formatting and Interpolation:\n",
    "     - String Formatting (e.g., `%`, `str.format()`, f-strings)\n",
    "     - String Interpolation (f-strings)\n",
    "     - Template Strings (`string.Template`)\n",
    "   - Splitting and Joining:\n",
    "     - Splitting Strings (e.g., `str.split()`)\n",
    "     - Joining Strings (e.g., `str.join()`)\n",
    "     - Partitioning Strings (e.g., `str.partition()`)\n",
    "   - Case Conversion:\n",
    "     - Converting Case (e.g., `str.upper()`, `str.lower()`, `str.title()`)\n",
    "     - Swapping Case (e.g., `str.swapcase()`)\n",
    "   - Stripping and Cleaning:\n",
    "     - Removing Whitespace (e.g., `str.strip()`, `str.lstrip()`, `str.rstrip()`)\n",
    "     - Removing Specific Characters (e.g., `str.strip(chars)`)\n",
    "     - Replacing Characters (e.g., `str.replace()`)\n",
    "   - Other Operations:\n",
    "     - Checking String Properties (e.g., `str.isalnum()`, `str.isalpha()`, `str.isdigit()`)\n",
    "     - Formatting Strings (e.g., `str.center()`, `str.ljust()`, `str.rjust()`)\n",
    "     - Encoding and Decoding (e.g., `str.encode()`, `str.decode()`)\n",
    "     - String Length (e.g., `len(str)`)"
   ]
  },
  {
   "cell_type": "markdown",
   "id": "7285337c",
   "metadata": {},
   "source": [
    "### Concatenation"
   ]
  },
  {
   "cell_type": "code",
   "execution_count": 4,
   "id": "0825af34",
   "metadata": {},
   "outputs": [
    {
     "data": {
      "text/plain": [
       "'xyaabbbccccdefwwxxxxyyyyabklmopq'"
      ]
     },
     "execution_count": 4,
     "metadata": {},
     "output_type": "execute_result"
    }
   ],
   "source": [
    "# concactenation \n",
    "a = \"xyaabbbccccdefww\"\n",
    "b = \"xxxxyyyyabklmopq\"\n",
    "a+b"
   ]
  },
  {
   "cell_type": "code",
   "execution_count": 5,
   "id": "5b26e14b",
   "metadata": {},
   "outputs": [
    {
     "data": {
      "text/plain": [
       "'a a b b b c c c c d e f w w x y'"
      ]
     },
     "execution_count": 5,
     "metadata": {},
     "output_type": "execute_result"
    }
   ],
   "source": [
    "\n",
    "# list -> string: \n",
    "# 'DELIMITER'.join()\n",
    "# list to string\n",
    "\n",
    "a = \"xyaabbbccccdefww\"\n",
    "a_inorder = sorted(a) # this spits out a list\n",
    "' '.join(a_inorder) # join that list together"
   ]
  },
  {
   "cell_type": "markdown",
   "id": "c16a2247",
   "metadata": {},
   "source": [
    "### Searching and Finding"
   ]
  },
  {
   "cell_type": "markdown",
   "id": "35f5632b",
   "metadata": {},
   "source": [
    "#### .find()"
   ]
  },
  {
   "cell_type": "code",
   "execution_count": 11,
   "id": "aa0998ea",
   "metadata": {},
   "outputs": [
    {
     "data": {
      "text/plain": [
       "2"
      ]
     },
     "execution_count": 11,
     "metadata": {},
     "output_type": "execute_result"
    }
   ],
   "source": [
    "# STRING.find('SUBSTRING')\n",
    "# returns index position of first occurrence of that letter in the string\n",
    "# returns -1 if not found\n",
    "\n",
    "whatever = 'a;dlasfas;dfkla'\n",
    "whatever.find('d')\n"
   ]
  },
  {
   "cell_type": "markdown",
   "id": "c13be6b5",
   "metadata": {},
   "source": [
    "#### .index()"
   ]
  },
  {
   "cell_type": "code",
   "execution_count": 12,
   "id": "efc6a10d",
   "metadata": {},
   "outputs": [
    {
     "data": {
      "text/plain": [
       "0"
      ]
     },
     "execution_count": 12,
     "metadata": {},
     "output_type": "execute_result"
    }
   ],
   "source": [
    "# .index()\n",
    "# STRING.index('SUBSTRING')\n",
    "# returns index position of first occurrence of that letter in the string\n",
    "# returns error if not found\n",
    "# more commonly used with lists?\n",
    "\n",
    "whatever = 'a;dlasfas;dfkla'\n",
    "whatever.index('a;d')"
   ]
  },
  {
   "cell_type": "markdown",
   "id": "f3157524",
   "metadata": {},
   "source": [
    "#### .sub()\n",
    "\n",
    "import re\n",
    "<br>re.sub(pattern, repl, string, count=0, flags=0)\n",
    "\n",
    "- pattern – the pattern which is to be searched and substituted\n",
    "- repl – the string with which the pattern is to be replaced\n",
    "- string – the name of the variable in which the pattern is stored\n",
    "- count – number of characters up to which substitution will be performed\n",
    "- flags – it is used to modify the meaning of the regex pattern"
   ]
  },
  {
   "cell_type": "code",
   "execution_count": 15,
   "id": "f843b928",
   "metadata": {},
   "outputs": [
    {
     "name": "stdout",
     "output_type": "stream",
     "text": [
      "22 A0000 00 0000000000 00 E0000 D00.\n"
     ]
    }
   ],
   "source": [
    "# re.sub('characters to be subbed', 'character to replace with', STRING)\n",
    "# using regex\n",
    "\n",
    "import re\n",
    "sentence = \"22 April is celebrated as Earth Day.\"\n",
    "\n",
    "# replacing every lower case characters   \n",
    "# in the variable sentence with 0 and  \n",
    "# printing the modified string \n",
    "print(re.sub(r\"[a-z]\", \"0\", sentence)) "
   ]
  },
  {
   "cell_type": "code",
   "execution_count": null,
   "id": "4053cc8f",
   "metadata": {},
   "outputs": [],
   "source": []
  },
  {
   "cell_type": "code",
   "execution_count": null,
   "id": "41372323",
   "metadata": {},
   "outputs": [],
   "source": []
  },
  {
   "cell_type": "markdown",
   "id": "6a2b5190",
   "metadata": {},
   "source": [
    "#### Counting occurences"
   ]
  },
  {
   "cell_type": "code",
   "execution_count": 55,
   "id": "e8e34f10",
   "metadata": {},
   "outputs": [
    {
     "data": {
      "text/plain": [
       "1"
      ]
     },
     "execution_count": 55,
     "metadata": {},
     "output_type": "execute_result"
    }
   ],
   "source": [
    "# STRING.count()\n",
    "# STRING.count(substring, start= …., end= ….)\n",
    "\n",
    "my_string = \"Apple\"\n",
    "char_count = my_string.count('A')\n",
    "char_count"
   ]
  },
  {
   "cell_type": "code",
   "execution_count": null,
   "id": "6742b478",
   "metadata": {},
   "outputs": [],
   "source": [
    "strings = [\"Red\", \"Green\", \"orange\"]\n",
    "char_to_count = 'e'\n",
    "\n"
   ]
  },
  {
   "cell_type": "markdown",
   "id": "ce179bca",
   "metadata": {},
   "source": [
    "### Formatting and Interpolation\n",
    "- String Formatting (e.g., %, str.format(), f-strings)\n",
    "- String Interpolation (f-strings)\n",
    "- Template Strings (string.Template)"
   ]
  },
  {
   "cell_type": "code",
   "execution_count": 14,
   "id": "2f87638d",
   "metadata": {},
   "outputs": [
    {
     "data": {
      "text/plain": [
       "'i have 3244234 fish'"
      ]
     },
     "execution_count": 14,
     "metadata": {},
     "output_type": "execute_result"
    }
   ],
   "source": [
    "# f strings\n",
    "# f'{VARIABLE} stringstringstring {VARIABLE}'\n",
    "\n",
    "abc = '3244234'\n",
    "\n",
    "f'i have {abc} fish'"
   ]
  },
  {
   "cell_type": "markdown",
   "id": "f627d3fa",
   "metadata": {},
   "source": [
    "### Splitting and Joining"
   ]
  },
  {
   "cell_type": "markdown",
   "id": "65f71683",
   "metadata": {},
   "source": [
    "#### .split()"
   ]
  },
  {
   "cell_type": "code",
   "execution_count": 10,
   "id": "76e040aa",
   "metadata": {},
   "outputs": [],
   "source": [
    "# STRING.split(SEPARATOR, MAXSPLIT)\n",
    "\n",
    "# splits string into list\n",
    "# clears delimiter\n",
    "# whitespace is default separator\n",
    "# string to list"
   ]
  },
  {
   "cell_type": "code",
   "execution_count": 9,
   "id": "a1a49d9a",
   "metadata": {},
   "outputs": [
    {
     "name": "stdout",
     "output_type": "stream",
     "text": [
      "['geeks', 'for', 'geeks']\n"
     ]
    }
   ],
   "source": [
    "# Splits at space\n",
    "text = 'geeks for geeks'\n",
    "print(text.split())"
   ]
  },
  {
   "cell_type": "code",
   "execution_count": 6,
   "id": "6e087652",
   "metadata": {},
   "outputs": [
    {
     "name": "stdout",
     "output_type": "stream",
     "text": [
      "['geeks', ' for', ' geeks']\n"
     ]
    }
   ],
   "source": [
    "# Splits at ','\n",
    "word = 'geeks, for, geeks'\n",
    "print(word.split(','))"
   ]
  },
  {
   "cell_type": "code",
   "execution_count": 7,
   "id": "1b3b3644",
   "metadata": {},
   "outputs": [
    {
     "name": "stdout",
     "output_type": "stream",
     "text": [
      "['Ca', 'Ba', 'Sa', 'Fa', 'Or']\n"
     ]
    }
   ],
   "source": [
    "# Splitting at t\n",
    "word = 'CatBatSatFatOr'\n",
    "print(word.split('t'))"
   ]
  },
  {
   "cell_type": "code",
   "execution_count": 8,
   "id": "335e0449",
   "metadata": {},
   "outputs": [
    {
     "name": "stdout",
     "output_type": "stream",
     "text": [
      "['geeks', 'for, geeks, pawan']\n"
     ]
    }
   ],
   "source": [
    "# maxsplit: 1\n",
    "word = 'geeks, for, geeks, pawan'\n",
    "print(word.split(', ', 1))"
   ]
  },
  {
   "cell_type": "code",
   "execution_count": 11,
   "id": "73cc6deb",
   "metadata": {},
   "outputs": [
    {
     "data": {
      "text/plain": [
       "'www.codewars.com'"
      ]
     },
     "execution_count": 11,
     "metadata": {},
     "output_type": "execute_result"
    }
   ],
   "source": [
    "# split at a character, return everything before or after with indexing:\n",
    "\n",
    "url = \"www.codewars.com#about\"\n",
    "url.split('#')[0] # everything before"
   ]
  },
  {
   "cell_type": "markdown",
   "id": "73e8ff16",
   "metadata": {},
   "source": [
    "#### list(STRING)"
   ]
  },
  {
   "cell_type": "code",
   "execution_count": 53,
   "id": "ab1baa55",
   "metadata": {},
   "outputs": [
    {
     "data": {
      "text/plain": [
       "['g', 'e', 'e', 'k', 's', ' ', 'f', 'o', 'r', ' ', 'g', 'e', 'e', 'k', 's']"
      ]
     },
     "execution_count": 53,
     "metadata": {},
     "output_type": "execute_result"
    }
   ],
   "source": [
    "# split every letter\n",
    "# list(text)\n",
    "# string to list\n",
    "\n",
    "text = 'geeks for geeks'\n",
    "list(text)"
   ]
  },
  {
   "cell_type": "markdown",
   "id": "0ea6f2bf",
   "metadata": {},
   "source": [
    "#### .partition()"
   ]
  },
  {
   "cell_type": "code",
   "execution_count": 12,
   "id": "476f6784",
   "metadata": {},
   "outputs": [
    {
     "data": {
      "text/plain": [
       "('www.codewars.com', '#', 'about')"
      ]
     },
     "execution_count": 12,
     "metadata": {},
     "output_type": "execute_result"
    }
   ],
   "source": [
    "# STRING.partition(DELIMITER)\n",
    "# splits everything and includes delimiter\n",
    "\n",
    "url.partition('#')"
   ]
  },
  {
   "cell_type": "markdown",
   "id": "57f96ece",
   "metadata": {},
   "source": [
    "#### Joining a string"
   ]
  },
  {
   "cell_type": "code",
   "execution_count": 59,
   "id": "0463ab00",
   "metadata": {},
   "outputs": [
    {
     "data": {
      "text/plain": [
       "'geeks'"
      ]
     },
     "execution_count": 59,
     "metadata": {},
     "output_type": "execute_result"
    }
   ],
   "source": [
    "# .join()\n",
    "# 'DELIMITER'.join()\n",
    "\n",
    "# list to string\n",
    "list1 = ['g', 'e', 'e', 'k', 's']\n",
    "\"\".join(list1)"
   ]
  },
  {
   "cell_type": "code",
   "execution_count": 1,
   "id": "72754d62",
   "metadata": {},
   "outputs": [
    {
     "data": {
      "text/plain": [
       "['a',\n",
       " 'a',\n",
       " 'b',\n",
       " 'b',\n",
       " 'b',\n",
       " 'c',\n",
       " 'c',\n",
       " 'c',\n",
       " 'c',\n",
       " 'd',\n",
       " 'e',\n",
       " 'f',\n",
       " 'w',\n",
       " 'w',\n",
       " 'x',\n",
       " 'y']"
      ]
     },
     "execution_count": 1,
     "metadata": {},
     "output_type": "execute_result"
    }
   ],
   "source": [
    "# sorted(ITERABLE)\n",
    "# returns sorted list\n",
    "# string to list\n",
    "\n",
    "a = \"xyaabbbccccdefww\"\n",
    "a_inorder = sorted(a) # this spits out a list. string to list\n",
    "a_inorder"
   ]
  },
  {
   "cell_type": "code",
   "execution_count": 62,
   "id": "57862539",
   "metadata": {},
   "outputs": [
    {
     "data": {
      "text/plain": [
       "'aabbbccccdefwwxy'"
      ]
     },
     "execution_count": 62,
     "metadata": {},
     "output_type": "execute_result"
    }
   ],
   "source": [
    "# combine .join() and sorted() to alphabetize letters in a string\n",
    "\n",
    "a = \"xyaabbbccccdefww\"\n",
    "''.join(sorted(a))"
   ]
  },
  {
   "cell_type": "markdown",
   "id": "2bbba5d6",
   "metadata": {},
   "source": [
    "### Case Conversion"
   ]
  },
  {
   "cell_type": "code",
   "execution_count": null,
   "id": "214889b2",
   "metadata": {},
   "outputs": [],
   "source": [
    "# STRING.upper()\n",
    "\n"
   ]
  },
  {
   "cell_type": "code",
   "execution_count": null,
   "id": "b6abda56",
   "metadata": {},
   "outputs": [],
   "source": [
    "# STRING.lower()\n",
    "\n"
   ]
  },
  {
   "cell_type": "code",
   "execution_count": 3,
   "id": "d5f46ce7",
   "metadata": {},
   "outputs": [
    {
     "data": {
      "text/plain": [
       "'Aaashh:slkdjfwe;ajsd;fakjsdd:d'"
      ]
     },
     "execution_count": 3,
     "metadata": {},
     "output_type": "execute_result"
    }
   ],
   "source": [
    "# STRING.capitalize()\n",
    "\n",
    "whatever = 'aaashh:SLKDJFWE;ajsd;fakjsdD:D'\n",
    "whatever.capitalize()"
   ]
  },
  {
   "cell_type": "code",
   "execution_count": 5,
   "id": "17067b0c",
   "metadata": {},
   "outputs": [
    {
     "data": {
      "text/plain": [
       "'This Is A Book Title'"
      ]
     },
     "execution_count": 5,
     "metadata": {},
     "output_type": "execute_result"
    }
   ],
   "source": [
    "# STRING.title()\n",
    "\n",
    "whatever = 'this is a book title'\n",
    "whatever.title()"
   ]
  },
  {
   "cell_type": "code",
   "execution_count": 1,
   "id": "1102e2d0",
   "metadata": {},
   "outputs": [
    {
     "data": {
      "text/plain": [
       "'AAASHH:slkdjfwe;AJSD;FAKJSDd:d'"
      ]
     },
     "execution_count": 1,
     "metadata": {},
     "output_type": "execute_result"
    }
   ],
   "source": [
    "# STRING.swapcase()\n",
    "\n",
    "whatever = 'aaashh:SLKDJFWE;ajsd;fakjsdD:D'\n",
    "whatever.swapcase()"
   ]
  },
  {
   "cell_type": "markdown",
   "id": "bb787369",
   "metadata": {},
   "source": [
    "#### Checking lower case, upper case"
   ]
  },
  {
   "cell_type": "code",
   "execution_count": 11,
   "id": "2a10aa92",
   "metadata": {},
   "outputs": [
    {
     "data": {
      "text/plain": [
       "True"
      ]
     },
     "execution_count": 11,
     "metadata": {},
     "output_type": "execute_result"
    }
   ],
   "source": [
    "# STRING.islower()\n",
    "\n",
    "whatever = 'a'\n",
    "\n",
    "whatever.islower()"
   ]
  },
  {
   "cell_type": "code",
   "execution_count": 12,
   "id": "08f20aae",
   "metadata": {},
   "outputs": [
    {
     "data": {
      "text/plain": [
       "False"
      ]
     },
     "execution_count": 12,
     "metadata": {},
     "output_type": "execute_result"
    }
   ],
   "source": [
    "# STRING.isupper()\n",
    "# returns a boolean checking if entire string is upper or not\n",
    "\n",
    "whatever = 'a'\n",
    "\n",
    "whatever.isupper()"
   ]
  },
  {
   "cell_type": "code",
   "execution_count": 18,
   "id": "da6fec7b",
   "metadata": {},
   "outputs": [
    {
     "data": {
      "text/plain": [
       "'lksjSKJlskjSKJDlks'"
      ]
     },
     "execution_count": 18,
     "metadata": {},
     "output_type": "execute_result"
    }
   ],
   "source": [
    "# use it in a loop to check each letter in a string\n",
    "\n",
    "def convert_cases(string): \n",
    "    final_string = ''\n",
    "    for letter in whatever:\n",
    "        if letter.islower():\n",
    "            final_string += letter.upper()\n",
    "        elif letter.isupper():\n",
    "            final_string += letter.lower()\n",
    "    return final_string\n",
    "\n",
    "whatever = ';LKSJs;kjLSKJ;skjd;LKS121'\n",
    "convert_cases(whatever)"
   ]
  },
  {
   "cell_type": "markdown",
   "id": "e0b0a343",
   "metadata": {},
   "source": [
    "### Stripping and Cleaning\n",
    "- Removing Whitespace (e.g., `str.strip()`, `str.lstrip()`, `str.rstrip()`)\n",
    "- Removing Specific Characters (e.g., `str.strip(chars)`)\n",
    "- Replacing Characters (e.g., `str.replace()`)"
   ]
  },
  {
   "cell_type": "markdown",
   "id": "28eab9a4",
   "metadata": {},
   "source": [
    "#### .strip()"
   ]
  },
  {
   "cell_type": "code",
   "execution_count": null,
   "id": "650d6c07",
   "metadata": {},
   "outputs": [],
   "source": [
    "# STRING.strip([CHARS TO BE REMOVED])\n",
    "\n"
   ]
  },
  {
   "cell_type": "code",
   "execution_count": null,
   "id": "287afecc",
   "metadata": {},
   "outputs": [],
   "source": []
  },
  {
   "cell_type": "code",
   "execution_count": null,
   "id": "de4194de",
   "metadata": {},
   "outputs": [],
   "source": []
  },
  {
   "cell_type": "code",
   "execution_count": null,
   "id": "c2b865da",
   "metadata": {},
   "outputs": [],
   "source": []
  },
  {
   "cell_type": "markdown",
   "id": "34494d0e",
   "metadata": {},
   "source": [
    "### Other Operations"
   ]
  },
  {
   "cell_type": "markdown",
   "id": "9e220be9",
   "metadata": {},
   "source": [
    "#### Reversing a string (with indexing)"
   ]
  },
  {
   "cell_type": "code",
   "execution_count": 7,
   "id": "274765d7",
   "metadata": {},
   "outputs": [
    {
     "data": {
      "text/plain": [
       "'dlrow olleh'"
      ]
     },
     "execution_count": 7,
     "metadata": {},
     "output_type": "execute_result"
    }
   ],
   "source": [
    "hello = 'hello world'\n",
    "hello[::-1]"
   ]
  },
  {
   "cell_type": "code",
   "execution_count": 27,
   "id": "25ab9d58",
   "metadata": {},
   "outputs": [
    {
     "data": {
      "text/plain": [
       "['a',\n",
       " 'a',\n",
       " 'b',\n",
       " 'b',\n",
       " 'b',\n",
       " 'c',\n",
       " 'c',\n",
       " 'c',\n",
       " 'c',\n",
       " 'd',\n",
       " 'e',\n",
       " 'f',\n",
       " 'w',\n",
       " 'w',\n",
       " 'x',\n",
       " 'y']"
      ]
     },
     "execution_count": 27,
     "metadata": {},
     "output_type": "execute_result"
    }
   ],
   "source": [
    "# string -> list, sorted\n",
    "# sorted(STRING)\n",
    "# string to list\n",
    "\n",
    "a = \"xyaabbbccccdefww\"\n",
    "sorted(a)"
   ]
  },
  {
   "cell_type": "markdown",
   "id": "96d56659",
   "metadata": {},
   "source": [
    "#### Translating characters `.translate()`"
   ]
  },
  {
   "cell_type": "code",
   "execution_count": 82,
   "id": "a75b7ad8",
   "metadata": {},
   "outputs": [
    {
     "name": "stdout",
     "output_type": "stream",
     "text": [
      "Hello Pam!\n"
     ]
    }
   ],
   "source": [
    "# .translate() is used with a mapping function .maketrans()\n",
    "# similar to map()?\n",
    "\n",
    "txt = \"Hello Sam!\"\n",
    "\n",
    "mytable = str.maketrans(\"S\", \"P\")\n",
    "\n",
    "print(txt.translate(mytable))\n",
    "\n",
    "# take notes: https://www.geeksforgeeks.org/python-string-translate/"
   ]
  },
  {
   "cell_type": "code",
   "execution_count": 83,
   "id": "6df375a7",
   "metadata": {},
   "outputs": [
    {
     "data": {
      "text/plain": [
       "'xyaabbbccccdefww'"
      ]
     },
     "execution_count": 83,
     "metadata": {},
     "output_type": "execute_result"
    }
   ],
   "source": []
  },
  {
   "cell_type": "markdown",
   "id": "8cf10c4e",
   "metadata": {},
   "source": [
    "#### formatting"
   ]
  },
  {
   "cell_type": "code",
   "execution_count": 24,
   "id": "f3316266",
   "metadata": {},
   "outputs": [
    {
     "data": {
      "text/plain": [
       "'Xyaa bbbccc cdefww'"
      ]
     },
     "execution_count": 24,
     "metadata": {},
     "output_type": "execute_result"
    }
   ],
   "source": [
    "# capitalize first letter of string: .capitalize()\n",
    "a = \"xyaa bbbccc cdefww\"\n",
    "a.capitalize()"
   ]
  },
  {
   "cell_type": "code",
   "execution_count": 23,
   "id": "7a68946c",
   "metadata": {},
   "outputs": [
    {
     "data": {
      "text/plain": [
       "'Xyaabbb Ccccd Efww'"
      ]
     },
     "execution_count": 23,
     "metadata": {},
     "output_type": "execute_result"
    }
   ],
   "source": [
    "# capitalize every word: .title()\n",
    "a = \"xyaabbb ccccd efww\"\n",
    "a.title()"
   ]
  },
  {
   "cell_type": "code",
   "execution_count": 18,
   "id": "8faa164f",
   "metadata": {},
   "outputs": [
    {
     "data": {
      "text/plain": [
       "'a;slkkajdsa;kjwa;kj;k'"
      ]
     },
     "execution_count": 18,
     "metadata": {},
     "output_type": "execute_result"
    }
   ],
   "source": [
    "# lowercase everything: .lower()\n",
    "\n",
    "whatever = 'A;SLKkajdsa;kjwa;KJ;K'\n",
    "whatever.lower()"
   ]
  },
  {
   "cell_type": "markdown",
   "id": "ea797150",
   "metadata": {},
   "source": [
    "##### Checking String Properties (e.g., str.isalnum(), str.isalpha(), str.isdigit())"
   ]
  },
  {
   "cell_type": "code",
   "execution_count": 6,
   "id": "af59dec9",
   "metadata": {},
   "outputs": [
    {
     "data": {
      "text/plain": [
       "True"
      ]
     },
     "execution_count": 6,
     "metadata": {},
     "output_type": "execute_result"
    }
   ],
   "source": [
    "# .isdigit()\n",
    "# str.isdigit()\n",
    "\n",
    "example = '1928'\n",
    "example.isdigit()"
   ]
  },
  {
   "cell_type": "code",
   "execution_count": 9,
   "id": "8a62f171",
   "metadata": {},
   "outputs": [
    {
     "data": {
      "text/plain": [
       "False"
      ]
     },
     "execution_count": 9,
     "metadata": {},
     "output_type": "execute_result"
    }
   ],
   "source": [
    "# .isalpha()\n",
    "# str.isalpha()\n",
    "\n",
    "example = 'aaaa'\n",
    "example.isalpha()"
   ]
  },
  {
   "cell_type": "code",
   "execution_count": 12,
   "id": "18d52734",
   "metadata": {},
   "outputs": [
    {
     "name": "stdout",
     "output_type": "stream",
     "text": [
      "True\n",
      "False\n"
     ]
    }
   ],
   "source": [
    "# .isalnum()\n",
    "# str.isalnum()\n",
    "\n",
    "example = '11312asdfas'\n",
    "print(example.isalnum())\n",
    "\n",
    "example = ';;;;;'\n",
    "print(example.isalnum())"
   ]
  },
  {
   "cell_type": "markdown",
   "id": "31d39acb",
   "metadata": {},
   "source": [
    "#### sorting/alphabetizing"
   ]
  },
  {
   "cell_type": "code",
   "execution_count": 4,
   "id": "9d4e05ee",
   "metadata": {},
   "outputs": [
    {
     "data": {
      "text/plain": [
       "[' ',\n",
       " ' ',\n",
       " 'a',\n",
       " 'a',\n",
       " 'b',\n",
       " 'b',\n",
       " 'b',\n",
       " 'c',\n",
       " 'c',\n",
       " 'c',\n",
       " 'c',\n",
       " 'd',\n",
       " 'e',\n",
       " 'f',\n",
       " 'w',\n",
       " 'w',\n",
       " 'x',\n",
       " 'y']"
      ]
     },
     "execution_count": 4,
     "metadata": {},
     "output_type": "execute_result"
    }
   ],
   "source": [
    "# sorted(STRING)\n",
    "# good for sorting/alphabetizing a string.\n",
    "# string to list\n",
    "a = \"xyaabbb ccccd efww\"\n",
    "sorted(a)"
   ]
  },
  {
   "cell_type": "code",
   "execution_count": 9,
   "id": "cdd11c2d",
   "metadata": {},
   "outputs": [
    {
     "data": {
      "text/plain": [
       "'aabbbccccdefwwxy'"
      ]
     },
     "execution_count": 9,
     "metadata": {},
     "output_type": "execute_result"
    }
   ],
   "source": [
    "# sorting. sort and join\n",
    "\n",
    "a = \"xyaabbbccccdefww\"\n",
    "a_new = ''.join(sorted(a))\n",
    "a_new"
   ]
  },
  {
   "cell_type": "markdown",
   "id": "37ada7b9",
   "metadata": {},
   "source": [
    "#### ord()"
   ]
  },
  {
   "cell_type": "code",
   "execution_count": 6,
   "id": "ff539f5c",
   "metadata": {},
   "outputs": [
    {
     "data": {
      "text/plain": [
       "97"
      ]
     },
     "execution_count": 6,
     "metadata": {},
     "output_type": "execute_result"
    }
   ],
   "source": [
    "# returns the Unicode code from a given character\n",
    "# useful when you need to assign a value to alphabet etc\n",
    "# can only take one character strings\n",
    "\n",
    "ord('a')"
   ]
  },
  {
   "cell_type": "code",
   "execution_count": 8,
   "id": "91da3b64",
   "metadata": {},
   "outputs": [
    {
     "data": {
      "text/plain": [
       "3"
      ]
     },
     "execution_count": 8,
     "metadata": {},
     "output_type": "execute_result"
    }
   ],
   "source": [
    "# this function will assign values for each letter of the alphabet, since a=97\n",
    "# 1 for a, 2 for b, etc:\n",
    "# ord('LETTER') - 96\n",
    "\n",
    "ord('c') - 96"
   ]
  },
  {
   "cell_type": "code",
   "execution_count": null,
   "id": "0c1afb30",
   "metadata": {},
   "outputs": [],
   "source": []
  },
  {
   "cell_type": "code",
   "execution_count": null,
   "id": "e8d0b644",
   "metadata": {},
   "outputs": [],
   "source": []
  },
  {
   "cell_type": "markdown",
   "id": "2919b415",
   "metadata": {},
   "source": [
    "# Sets"
   ]
  },
  {
   "cell_type": "code",
   "execution_count": 13,
   "id": "6295508e",
   "metadata": {},
   "outputs": [
    {
     "data": {
      "text/plain": [
       "{'a', 'b', 'c', 'd', 'e', 'f', 'w', 'x', 'y'}"
      ]
     },
     "execution_count": 13,
     "metadata": {},
     "output_type": "execute_result"
    }
   ],
   "source": [
    "# unique values in a string = SET\n",
    "\n",
    "a = \"xyaabbbccccdefww\"\n",
    "b = \"xxxxyyyyabklmopq\"\n",
    "set(a)"
   ]
  },
  {
   "cell_type": "code",
   "execution_count": 20,
   "id": "ecf5af9b",
   "metadata": {},
   "outputs": [
    {
     "data": {
      "text/plain": [
       "['a', 'b', 'c', 'd', 'e', 'f', 'w', 'x', 'y']"
      ]
     },
     "execution_count": 20,
     "metadata": {},
     "output_type": "execute_result"
    }
   ],
   "source": [
    "# sorting (list???)\n",
    "sorted(set(a))"
   ]
  },
  {
   "cell_type": "code",
   "execution_count": 25,
   "id": "8200ccf8",
   "metadata": {},
   "outputs": [
    {
     "data": {
      "text/plain": [
       "'abcdefwxy'"
      ]
     },
     "execution_count": 25,
     "metadata": {},
     "output_type": "execute_result"
    }
   ],
   "source": [
    "# sort and join (back to string)\n",
    "a_sorted_unique = ''.join(sorted(set(a)))\n",
    "a_sorted_unique"
   ]
  },
  {
   "cell_type": "code",
   "execution_count": 27,
   "id": "43708459",
   "metadata": {},
   "outputs": [
    {
     "data": {
      "text/plain": [
       "'xyaabbbccccdefwwxxxxyyyyabklmopq'"
      ]
     },
     "execution_count": 27,
     "metadata": {},
     "output_type": "execute_result"
    }
   ],
   "source": [
    "def longest(a1, a2):\n",
    "    # merge strings\n",
    "    # return unique values, sorted\n",
    "    return ''.join(sorted(set(a1+a2)))"
   ]
  },
  {
   "cell_type": "markdown",
   "id": "a249a25d",
   "metadata": {},
   "source": [
    "# Lists\n",
    "\n",
    "\n",
    "\n"
   ]
  },
  {
   "cell_type": "markdown",
   "id": "0cbc79a2",
   "metadata": {},
   "source": [
    "## Creating\n",
    "   - Create:\n",
    "       - Initializing a List\n",
    "       - Appending Elements\n",
    "       - Inserting Elements\n",
    "       - List Comprehensions"
   ]
  },
  {
   "cell_type": "code",
   "execution_count": null,
   "id": "e237eba0",
   "metadata": {},
   "outputs": [],
   "source": [
    "# typical way with []\n",
    "whateverlist = [2, 4, '5343', 'heres a string']"
   ]
  },
  {
   "cell_type": "code",
   "execution_count": 2,
   "id": "223c85ea",
   "metadata": {},
   "outputs": [
    {
     "data": {
      "text/plain": [
       "['a', 'a', 'a', 'b', 'c', 'e', 'e', 'f', 'i', 'o', 'w', 'w']"
      ]
     },
     "execution_count": 2,
     "metadata": {},
     "output_type": "execute_result"
    }
   ],
   "source": [
    "# sorted(STRING)\n",
    "# string to list, but sorted\n",
    "\n",
    "example = 'abweacoiwaef'\n",
    "sorted(example)"
   ]
  },
  {
   "cell_type": "markdown",
   "id": "865791c1",
   "metadata": {},
   "source": [
    "### *list()* can convert many things to a list"
   ]
  },
  {
   "cell_type": "code",
   "execution_count": 15,
   "id": "93144a56",
   "metadata": {},
   "outputs": [
    {
     "data": {
      "text/plain": [
       "['a', 'w', 'j', 'e', 'f', 'a', 'i', 'p', 's', 'd', 'f']"
      ]
     },
     "execution_count": 15,
     "metadata": {},
     "output_type": "execute_result"
    }
   ],
   "source": [
    "# string\n",
    "example_string = 'awjefaipsdf' \n",
    "list(example_string)"
   ]
  },
  {
   "cell_type": "code",
   "execution_count": 18,
   "id": "16fac466",
   "metadata": {},
   "outputs": [
    {
     "data": {
      "text/plain": [
       "[1, 2, 3]"
      ]
     },
     "execution_count": 18,
     "metadata": {},
     "output_type": "execute_result"
    }
   ],
   "source": [
    "# tuple\n",
    "example_tuple = (1, 2, 3)\n",
    "list(example_tuple)"
   ]
  },
  {
   "cell_type": "code",
   "execution_count": 17,
   "id": "4b3e5ab1",
   "metadata": {},
   "outputs": [
    {
     "data": {
      "text/plain": [
       "[0, 1, 2, 3, 4]"
      ]
     },
     "execution_count": 17,
     "metadata": {},
     "output_type": "execute_result"
    }
   ],
   "source": [
    "# range()\n",
    "# range(start, stop, step)\n",
    "# (range by itself returns an object)\n",
    "\n",
    "list(range(5))"
   ]
  },
  {
   "cell_type": "markdown",
   "id": "f70d5a08",
   "metadata": {},
   "source": [
    "### Appending elements"
   ]
  },
  {
   "cell_type": "code",
   "execution_count": 19,
   "id": "40bc6419",
   "metadata": {},
   "outputs": [
    {
     "data": {
      "text/plain": [
       "['apple', 'banana', 'cherry', 'orange']"
      ]
     },
     "execution_count": 19,
     "metadata": {},
     "output_type": "execute_result"
    }
   ],
   "source": [
    "# LIST.append(VALUE)\n",
    "# add stuff to the end\n",
    "\n",
    "thislist = [\"apple\", \"banana\", \"cherry\"]\n",
    "thislist.append(\"orange\") # updates the list\n",
    "thislist"
   ]
  },
  {
   "cell_type": "code",
   "execution_count": 16,
   "id": "2c865eb2",
   "metadata": {},
   "outputs": [
    {
     "data": {
      "text/plain": [
       "[1.0, 2.0, 3.0, 4.0, 5.0, 6.0, 7.0, 8.0, 9.0]"
      ]
     },
     "execution_count": 16,
     "metadata": {},
     "output_type": "execute_result"
    }
   ],
   "source": [
    "# loop using LIST.append(VALUE)\n",
    "\n",
    "import math\n",
    "\n",
    "def square_root(numbers):\n",
    "    result = []\n",
    "    for number in numbers:\n",
    "        result.append(math.sqrt(number))\n",
    "    return result\n",
    "\n",
    "numbers = [1, 4, 9, 16, 25, 36, 49, 64, 81]\n",
    "square_root(numbers)\n"
   ]
  },
  {
   "cell_type": "code",
   "execution_count": 34,
   "id": "093ab0f6",
   "metadata": {},
   "outputs": [
    {
     "data": {
      "text/plain": [
       "[[0],\n",
       " [0, 1],\n",
       " [0, 1, 2],\n",
       " [0, 1, 2, 3],\n",
       " [0, 1, 2, 3, 4],\n",
       " [0, 1, 2, 3, 4, 5],\n",
       " [0, 1, 2, 3, 4, 5, 6],\n",
       " [0, 1, 2, 3, 4, 5, 6, 7],\n",
       " [0, 1, 2, 3, 4, 5, 6, 7, 8]]"
      ]
     },
     "execution_count": 34,
     "metadata": {},
     "output_type": "execute_result"
    }
   ],
   "source": [
    "# append lists into one list\n",
    "# list into list\n",
    "\n",
    "final_list = []\n",
    "def square_root(numbers):\n",
    "    for i in range(len(numbers)):\n",
    "        result = []\n",
    "        for j in range(i+1):\n",
    "            result.append(j)\n",
    "        final_list.append(result)\n",
    "    return final_list\n",
    "\n",
    "numbers = [1, 4, 9, 16, 25, 36, 49, 64, 81]\n",
    "square_root(numbers)"
   ]
  },
  {
   "cell_type": "markdown",
   "id": "2690f470",
   "metadata": {},
   "source": [
    "### Inserting elements"
   ]
  },
  {
   "cell_type": "code",
   "execution_count": 21,
   "id": "70d9c11b",
   "metadata": {},
   "outputs": [
    {
     "data": {
      "text/plain": [
       "['apple', 'orange', 'banana', 'cherry']"
      ]
     },
     "execution_count": 21,
     "metadata": {},
     "output_type": "execute_result"
    }
   ],
   "source": [
    "# LIST.insert(INDEX, VALUE)\n",
    "# inserting stuff\n",
    "\n",
    "thislist = [\"apple\", \"banana\", \"cherry\"]\n",
    "thislist.insert(1, \"orange\") # adds 'orange' at index 1\n",
    "thislist"
   ]
  },
  {
   "cell_type": "code",
   "execution_count": null,
   "id": "db3185f5",
   "metadata": {},
   "outputs": [],
   "source": []
  },
  {
   "cell_type": "markdown",
   "id": "b46bad4f",
   "metadata": {},
   "source": [
    "### List Comprehensions\n",
    "A Python list comprehension consists of brackets containing the expression, which is executed for each element along with the for loop to iterate over each element in the Python list. \n",
    "<br>Return:The return value of a list comprehension is a new list containing the modified elements that satisfy the given criteria.\n",
    "<br> https://www.geeksforgeeks.org/python-list-comprehension/"
   ]
  },
  {
   "cell_type": "code",
   "execution_count": null,
   "id": "c0bd80e4",
   "metadata": {},
   "outputs": [],
   "source": [
    "# NEW_LIST = [ EXPRESSION(ELEMENT) for ELEMENT in OLD_LIST if CONDITION ] "
   ]
  },
  {
   "cell_type": "code",
   "execution_count": 10,
   "id": "2715322d",
   "metadata": {},
   "outputs": [
    {
     "data": {
      "text/plain": [
       "['Ryan', 'Kieran', 'Jason', 'Yous']"
      ]
     },
     "execution_count": 10,
     "metadata": {},
     "output_type": "execute_result"
    }
   ],
   "source": [
    "# basic pattern creating a new list\n",
    "\n",
    "x = [\"Ryan\", \"Kieran\", \"Jason\", \"Yous\"]\n",
    "\n",
    "[friend for friend in x]"
   ]
  },
  {
   "cell_type": "code",
   "execution_count": 3,
   "id": "7e366f28",
   "metadata": {},
   "outputs": [
    {
     "name": "stdout",
     "output_type": "stream",
     "text": [
      "[24, 26, 28]\n"
     ]
    }
   ],
   "source": [
    "# simple\n",
    "\n",
    "numbers = [12, 13, 14,] \n",
    "doubled = [x *2  for x in numbers] \n",
    "print(doubled)"
   ]
  },
  {
   "cell_type": "code",
   "execution_count": 7,
   "id": "a08fe51b",
   "metadata": {},
   "outputs": [
    {
     "data": {
      "text/plain": [
       "[[0, 1, 2], [0, 1, 2], [0, 1, 2]]"
      ]
     },
     "execution_count": 7,
     "metadata": {},
     "output_type": "execute_result"
    }
   ],
   "source": [
    "# matrix\n",
    "\n",
    "matrix = [[j for j in range(3)] for i in range(3)] \n",
    "matrix"
   ]
  },
  {
   "cell_type": "markdown",
   "id": "a821bd5c",
   "metadata": {},
   "source": [
    "#### with math"
   ]
  },
  {
   "cell_type": "code",
   "execution_count": 15,
   "id": "2478905a",
   "metadata": {},
   "outputs": [
    {
     "name": "stdout",
     "output_type": "stream",
     "text": [
      "[10, 20, 30, 40, 50]\n"
     ]
    }
   ],
   "source": [
    "# print table of 10  \n",
    "# for loop\n",
    "numbers = [] \n",
    "for i in range(1, 6): \n",
    "    numbers.append(i*10) \n",
    "print(numbers) "
   ]
  },
  {
   "cell_type": "code",
   "execution_count": 16,
   "id": "de40ed65",
   "metadata": {},
   "outputs": [
    {
     "name": "stdout",
     "output_type": "stream",
     "text": [
      "[10, 20, 30, 40, 50]\n"
     ]
    }
   ],
   "source": [
    "# list comp\n",
    "numbers = [i*10 for i in range(1, 6)]  \n",
    "print(numbers) "
   ]
  },
  {
   "cell_type": "code",
   "execution_count": null,
   "id": "b24e0037",
   "metadata": {},
   "outputs": [],
   "source": [
    "# using lambda to print table of 10 \n",
    "\n",
    "numbers = list(map(lambda i: i*10, [i for i in range(1, 6)])) \n",
    "  \n",
    "print(numbers) "
   ]
  },
  {
   "cell_type": "code",
   "execution_count": null,
   "id": "ef2179d3",
   "metadata": {},
   "outputs": [],
   "source": []
  },
  {
   "cell_type": "markdown",
   "id": "71af998f",
   "metadata": {},
   "source": [
    "#### comparing for loops vs list comp"
   ]
  },
  {
   "cell_type": "code",
   "execution_count": 10,
   "id": "a0a3e0bb",
   "metadata": {},
   "outputs": [
    {
     "name": "stdout",
     "output_type": "stream",
     "text": [
      "['G', 'e', 'e', 'k', 's', ' ', '4', ' ', 'G', 'e', 'e', 'k', 's', '!']\n"
     ]
    }
   ],
   "source": [
    "# Traditional approach of iterating \n",
    "List = [] \n",
    "for character in 'Geeks 4 Geeks!': \n",
    "    List.append(character)\n",
    "print(List)"
   ]
  },
  {
   "cell_type": "code",
   "execution_count": 11,
   "id": "136c6c9f",
   "metadata": {},
   "outputs": [
    {
     "name": "stdout",
     "output_type": "stream",
     "text": [
      "['G', 'e', 'e', 'k', 's', ' ', '4', ' ', 'G', 'e', 'e', 'k', 's', '!']\n"
     ]
    }
   ],
   "source": [
    "# Using list comprehension to iterate through loop \n",
    "List = [character for character in 'Geeks 4 Geeks!'] \n",
    "print(List)"
   ]
  },
  {
   "cell_type": "markdown",
   "id": "f0f78bd4",
   "metadata": {},
   "source": [
    "#### Nested list comprehensions"
   ]
  },
  {
   "cell_type": "code",
   "execution_count": 12,
   "id": "29458bb1",
   "metadata": {},
   "outputs": [
    {
     "name": "stdout",
     "output_type": "stream",
     "text": [
      "[[0, 1, 2, 3, 4], [0, 1, 2, 3, 4], [0, 1, 2, 3, 4]]\n"
     ]
    }
   ],
   "source": [
    "# matrix\n",
    "# for loop way\n",
    "\n",
    "matrix = [] \n",
    "  \n",
    "for i in range(3): \n",
    "  \n",
    "    # Append an empty sublist inside the list \n",
    "    matrix.append([]) \n",
    "  \n",
    "    for j in range(5): \n",
    "        matrix[i].append(j) \n",
    "  \n",
    "print(matrix) "
   ]
  },
  {
   "cell_type": "code",
   "execution_count": 13,
   "id": "ac7b5665",
   "metadata": {},
   "outputs": [
    {
     "name": "stdout",
     "output_type": "stream",
     "text": [
      "[[0, 1, 2, 3, 4], [0, 1, 2, 3, 4], [0, 1, 2, 3, 4]]\n"
     ]
    }
   ],
   "source": [
    "# Nested list comprehension \n",
    "matrix = [[j for j in range(5)] for i in range(3)] \n",
    "  \n",
    "print(matrix) "
   ]
  },
  {
   "cell_type": "code",
   "execution_count": null,
   "id": "ab97521b",
   "metadata": {},
   "outputs": [],
   "source": []
  },
  {
   "cell_type": "code",
   "execution_count": null,
   "id": "41afd6c0",
   "metadata": {},
   "outputs": [],
   "source": []
  },
  {
   "cell_type": "code",
   "execution_count": null,
   "id": "ca4b9e73",
   "metadata": {},
   "outputs": [],
   "source": []
  },
  {
   "cell_type": "code",
   "execution_count": null,
   "id": "105f5feb",
   "metadata": {},
   "outputs": [],
   "source": [
    "# playing with enumerate and zip"
   ]
  },
  {
   "cell_type": "code",
   "execution_count": 19,
   "id": "9bf81574",
   "metadata": {},
   "outputs": [],
   "source": [
    "names = ['Mukesh', 'Roni', 'Chari']\n",
    "ages = [24, 50, 18]"
   ]
  },
  {
   "cell_type": "code",
   "execution_count": 48,
   "id": "82c916cc",
   "metadata": {},
   "outputs": [
    {
     "data": {
      "text/plain": [
       "[(1, 'Mukesh'), (2, 'Roni'), (3, 'Chari')]"
      ]
     },
     "execution_count": 48,
     "metadata": {},
     "output_type": "execute_result"
    }
   ],
   "source": [
    "list(enumerate(names, start=1))"
   ]
  },
  {
   "cell_type": "code",
   "execution_count": 46,
   "id": "2e27f7a3",
   "metadata": {},
   "outputs": [
    {
     "data": {
      "text/plain": [
       "{0: 'M', 1: 'u', 2: 'k', 3: 'e', 4: 's', 5: 'h'}"
      ]
     },
     "execution_count": 46,
     "metadata": {},
     "output_type": "execute_result"
    }
   ],
   "source": [
    "dict(enumerate(names[0]))"
   ]
  },
  {
   "cell_type": "code",
   "execution_count": 45,
   "id": "e713c9b9",
   "metadata": {},
   "outputs": [
    {
     "data": {
      "text/plain": [
       "{0: 'Mukesh', 1: 'Roni', 2: 'Chari'}"
      ]
     },
     "execution_count": 45,
     "metadata": {},
     "output_type": "execute_result"
    }
   ],
   "source": [
    "dict(enumerate(names))"
   ]
  },
  {
   "cell_type": "code",
   "execution_count": 29,
   "id": "a16e6bdb",
   "metadata": {},
   "outputs": [
    {
     "data": {
      "text/plain": [
       "<zip at 0x7f6c4844e940>"
      ]
     },
     "execution_count": 29,
     "metadata": {},
     "output_type": "execute_result"
    }
   ],
   "source": [
    "zip(names, ages)"
   ]
  },
  {
   "cell_type": "code",
   "execution_count": 28,
   "id": "51ab92c4",
   "metadata": {},
   "outputs": [
    {
     "data": {
      "text/plain": [
       "[(0, ('Mukesh', 24)), (1, ('Roni', 50)), (2, ('Chari', 18))]"
      ]
     },
     "execution_count": 28,
     "metadata": {},
     "output_type": "execute_result"
    }
   ],
   "source": [
    "list(enumerate(zip(names, ages)))"
   ]
  },
  {
   "cell_type": "code",
   "execution_count": 25,
   "id": "8b2cccea",
   "metadata": {},
   "outputs": [
    {
     "name": "stdout",
     "output_type": "stream",
     "text": [
      "0 Mukesh 24\n",
      "1 Roni 50\n",
      "2 Chari 18\n"
     ]
    }
   ],
   "source": [
    "for i, (name, age) in enumerate(zip(names, ages)):\n",
    "    print(i, name, age)"
   ]
  },
  {
   "cell_type": "markdown",
   "id": "87bbc0d7",
   "metadata": {},
   "source": [
    "### itertools.combinations()"
   ]
  },
  {
   "cell_type": "code",
   "execution_count": 2,
   "id": "7ab05301",
   "metadata": {},
   "outputs": [
    {
     "name": "stdout",
     "output_type": "stream",
     "text": [
      "[]\n",
      "['G e E', 'G e K', 'G e S', 'G E K', 'G E S', 'G K S', 'e E K', 'e E S', 'e K S', 'E K S']\n"
     ]
    }
   ],
   "source": [
    "# combinations(ITERATOR, R)\n",
    "\n",
    "from itertools import combinations\n",
    "\n",
    " \n",
    "letters =\"GeEKS\"\n",
    " \n",
    "# size of combination is set to 3\n",
    "a = combinations(letters, 3) \n",
    "y = [' '.join(i) for i in a]\n",
    "\n",
    "print(a) # itertools object\n",
    "print(y)"
   ]
  },
  {
   "cell_type": "code",
   "execution_count": null,
   "id": "e7aabf10",
   "metadata": {},
   "outputs": [],
   "source": []
  },
  {
   "cell_type": "code",
   "execution_count": null,
   "id": "cacca745",
   "metadata": {},
   "outputs": [],
   "source": []
  },
  {
   "cell_type": "code",
   "execution_count": null,
   "id": "2e4a27f1",
   "metadata": {},
   "outputs": [],
   "source": []
  },
  {
   "cell_type": "markdown",
   "id": "e51ce120",
   "metadata": {},
   "source": [
    "## Read\n",
    "   - Read:\n",
    "       - Accessing Elements by Index\n",
    "       - Slicing Lists\n",
    "       - Iterating Over Lists"
   ]
  },
  {
   "cell_type": "markdown",
   "id": "baedafac",
   "metadata": {},
   "source": [
    "### Accessing Elements by Index\n",
    "`my_list[start:end:step]`  # start is inclusive, end is exclusive"
   ]
  },
  {
   "cell_type": "markdown",
   "id": "957f71ff",
   "metadata": {},
   "source": [
    "### Slicing Lists"
   ]
  },
  {
   "cell_type": "code",
   "execution_count": 49,
   "id": "c9054f87",
   "metadata": {},
   "outputs": [
    {
     "data": {
      "text/plain": [
       "['bbb', 'ccc', 'ddd']"
      ]
     },
     "execution_count": 49,
     "metadata": {},
     "output_type": "execute_result"
    }
   ],
   "source": [
    "my_list = ['aaa', 'bbb', 'ccc', 'ddd']\n",
    "my_list[1:]"
   ]
  },
  {
   "cell_type": "code",
   "execution_count": 50,
   "id": "71ff705b",
   "metadata": {
    "scrolled": true
   },
   "outputs": [
    {
     "data": {
      "text/plain": [
       "['aaa', 'bbb', 'ccc']"
      ]
     },
     "execution_count": 50,
     "metadata": {},
     "output_type": "execute_result"
    }
   ],
   "source": [
    "# end before last one\n",
    "my_list[:-1] "
   ]
  },
  {
   "cell_type": "code",
   "execution_count": 51,
   "id": "410f51f2",
   "metadata": {},
   "outputs": [
    {
     "data": {
      "text/plain": [
       "['ccc', 'ddd']"
      ]
     },
     "execution_count": 51,
     "metadata": {},
     "output_type": "execute_result"
    }
   ],
   "source": [
    "# start at second to last one \n",
    "my_list[-2:]"
   ]
  },
  {
   "cell_type": "code",
   "execution_count": 52,
   "id": "bb4672c3",
   "metadata": {},
   "outputs": [
    {
     "data": {
      "text/plain": [
       "['bbb', 'ddd']"
      ]
     },
     "execution_count": 52,
     "metadata": {},
     "output_type": "execute_result"
    }
   ],
   "source": [
    "# step size: return every second element\n",
    "\n",
    "my_list = ['aaa', 'bbb', 'ccc', 'ddd']\n",
    "with_steps = my_list[1::2]\n",
    "with_steps"
   ]
  },
  {
   "cell_type": "markdown",
   "id": "36d54228",
   "metadata": {},
   "source": [
    "### Iterating Over Lists\n"
   ]
  },
  {
   "cell_type": "markdown",
   "id": "423bcf35",
   "metadata": {},
   "source": [
    "#### min()\n",
    " find minimum value in an iterable\n",
    " \n",
    " min(a, b, c, …, key=func)"
   ]
  },
  {
   "cell_type": "code",
   "execution_count": 2,
   "id": "4aee2ebe",
   "metadata": {},
   "outputs": [
    {
     "name": "stdout",
     "output_type": "stream",
     "text": [
      "21\n"
     ]
    }
   ],
   "source": [
    "numbers = [23,25,65,21,98]\n",
    "print(min(numbers))"
   ]
  },
  {
   "cell_type": "code",
   "execution_count": 9,
   "id": "d400f069",
   "metadata": {
    "scrolled": true
   },
   "outputs": [
    {
     "name": "stdout",
     "output_type": "stream",
     "text": [
      "The smallest string is: C Programming\n"
     ]
    }
   ],
   "source": [
    "languages = [\"Python\", \"C Programming\", \"Java\", \"JavaScript\",'PHP','Kotlin']\n",
    "small = min(languages)\n",
    "print(\"The smallest string is:\", small)\n",
    "# prints out lowest valued character in ascii. not sure how useful this is"
   ]
  },
  {
   "cell_type": "markdown",
   "id": "1e350845",
   "metadata": {},
   "source": [
    "#### max()\n",
    "find max value in iterable"
   ]
  },
  {
   "cell_type": "code",
   "execution_count": 1,
   "id": "fc6d5864",
   "metadata": {},
   "outputs": [
    {
     "name": "stdout",
     "output_type": "stream",
     "text": [
      "98\n"
     ]
    }
   ],
   "source": [
    "numbers = [23,25,65,21,98]\n",
    "print(max(numbers))"
   ]
  },
  {
   "cell_type": "markdown",
   "id": "9bbe2303",
   "metadata": {},
   "source": [
    "### Compare items in a list to each other"
   ]
  },
  {
   "cell_type": "code",
   "execution_count": 2,
   "id": "4f57b7d7",
   "metadata": {},
   "outputs": [
    {
     "data": {
      "text/plain": [
       "-134"
      ]
     },
     "execution_count": 2,
     "metadata": {},
     "output_type": "execute_result"
    }
   ],
   "source": [
    "# find minimum value by comparing values to each other\n",
    "\n",
    "def find_minimum(arr):    \n",
    "    tracker = arr[0] # set up a tracker variable, set for first item in list\n",
    "    for number in arr:\n",
    "        if number < tracker:\n",
    "            tracker = number\n",
    "        else: \n",
    "            tracker = tracker\n",
    "    return tracker\n",
    "\n",
    "find_minimum([4,6,2,1,9,63,-134,566])"
   ]
  },
  {
   "cell_type": "code",
   "execution_count": null,
   "id": "dc91798f",
   "metadata": {},
   "outputs": [],
   "source": [
    "# the way to do it with nested for loops\n",
    "# the nested range(len(LIST)) thing i keep thinking about\n",
    "# this one will grab an index i, and then all the values up to and including that index i\n",
    "\n",
    "# for i in range(len(mylist)):\n",
    "#     for j in range(i+1):\n",
    "        # some function for mylist[i] and mylist[j]"
   ]
  },
  {
   "cell_type": "code",
   "execution_count": null,
   "id": "b82dedb2",
   "metadata": {},
   "outputs": [],
   "source": [
    "mylist = [4,6,2,1,9,63,-134,566]"
   ]
  },
  {
   "cell_type": "code",
   "execution_count": 37,
   "id": "c135c503",
   "metadata": {},
   "outputs": [
    {
     "name": "stdout",
     "output_type": "stream",
     "text": [
      "0 0\n",
      "1 0\n",
      "1 1\n",
      "2 0\n",
      "2 1\n",
      "2 2\n",
      "3 0\n",
      "3 1\n",
      "3 2\n",
      "3 3\n",
      "4 0\n",
      "4 1\n",
      "4 2\n",
      "4 3\n",
      "4 4\n",
      "5 0\n",
      "5 1\n",
      "5 2\n",
      "5 3\n",
      "5 4\n",
      "5 5\n",
      "6 0\n",
      "6 1\n",
      "6 2\n",
      "6 3\n",
      "6 4\n",
      "6 5\n",
      "6 6\n",
      "7 0\n",
      "7 1\n",
      "7 2\n",
      "7 3\n",
      "7 4\n",
      "7 5\n",
      "7 6\n",
      "7 7\n"
     ]
    }
   ],
   "source": [
    "for i in range(len(mylist)): # iterate over index\n",
    "    for j in range(i+1): # iterate over each value up to that index\n",
    "        print(i, mylist[j])\n",
    "        \n",
    "# i = index numbers\n",
    "# j = all the indexes up to that index\n",
    "# mylist[j] = all the values up to that index\n",
    "\n",
    "\n",
    "# you need the +1 because it's acting on range, and range(0) doesn't return anything"
   ]
  },
  {
   "cell_type": "code",
   "execution_count": 38,
   "id": "dd4f14f8",
   "metadata": {},
   "outputs": [
    {
     "name": "stdout",
     "output_type": "stream",
     "text": [
      "[4]\n",
      "[4]\n",
      "[4, 6]\n",
      "[4]\n",
      "[4, 6]\n",
      "[4, 6, 2]\n",
      "[4]\n",
      "[4, 6]\n",
      "[4, 6, 2]\n",
      "[4, 6, 2, 1]\n",
      "[4]\n",
      "[4, 6]\n",
      "[4, 6, 2]\n",
      "[4, 6, 2, 1]\n",
      "[4, 6, 2, 1, 9]\n",
      "[4]\n",
      "[4, 6]\n",
      "[4, 6, 2]\n",
      "[4, 6, 2, 1]\n",
      "[4, 6, 2, 1, 9]\n",
      "[4, 6, 2, 1, 9, 63]\n",
      "[4]\n",
      "[4, 6]\n",
      "[4, 6, 2]\n",
      "[4, 6, 2, 1]\n",
      "[4, 6, 2, 1, 9]\n",
      "[4, 6, 2, 1, 9, 63]\n",
      "[4, 6, 2, 1, 9, 63, -134]\n",
      "[4]\n",
      "[4, 6]\n",
      "[4, 6, 2]\n",
      "[4, 6, 2, 1]\n",
      "[4, 6, 2, 1, 9]\n",
      "[4, 6, 2, 1, 9, 63]\n",
      "[4, 6, 2, 1, 9, 63, -134]\n",
      "[4, 6, 2, 1, 9, 63, -134, 566]\n"
     ]
    }
   ],
   "source": [
    "# create lists for each j\n",
    "\n",
    "for i in range(len(mylist)):\n",
    "    allnumbers = []\n",
    "    for j in range(i+1): \n",
    "        allnumbers.append(mylist[j])\n",
    "        print(allnumbers)"
   ]
  },
  {
   "cell_type": "code",
   "execution_count": 4,
   "id": "db255364",
   "metadata": {},
   "outputs": [
    {
     "name": "stdout",
     "output_type": "stream",
     "text": [
      "4 6\n",
      "4 2\n",
      "4 1\n",
      "4 9\n",
      "4 63\n",
      "4 -134\n",
      "4 566\n",
      "6 2\n",
      "6 1\n",
      "6 9\n",
      "6 63\n",
      "6 -134\n",
      "6 566\n",
      "2 1\n",
      "2 9\n",
      "2 63\n",
      "2 -134\n",
      "2 566\n",
      "1 9\n",
      "1 63\n",
      "1 -134\n",
      "1 566\n",
      "9 63\n",
      "9 -134\n",
      "9 566\n",
      "63 -134\n",
      "63 566\n",
      "-134 566\n"
     ]
    }
   ],
   "source": [
    "# function to output all combinations\n",
    "for i in range(len(mylist)):\n",
    "    for j in range(i + 1, len(mylist)):\n",
    "        print(mylist[i], mylist[j])"
   ]
  },
  {
   "cell_type": "code",
   "execution_count": null,
   "id": "83909f8a",
   "metadata": {},
   "outputs": [],
   "source": []
  },
  {
   "cell_type": "code",
   "execution_count": null,
   "id": "06455aa7",
   "metadata": {},
   "outputs": [],
   "source": []
  },
  {
   "cell_type": "code",
   "execution_count": null,
   "id": "c85130b9",
   "metadata": {},
   "outputs": [],
   "source": []
  },
  {
   "cell_type": "markdown",
   "id": "bf11463e",
   "metadata": {},
   "source": [
    "### Others"
   ]
  },
  {
   "cell_type": "code",
   "execution_count": 2,
   "id": "a3d9910f",
   "metadata": {},
   "outputs": [
    {
     "data": {
      "text/plain": [
       "4"
      ]
     },
     "execution_count": 2,
     "metadata": {},
     "output_type": "execute_result"
    }
   ],
   "source": [
    "# counting elements in a list: \n",
    "# LIST.count(OBJECT)\n",
    "\n",
    "numbers = [40, 45, 34, 12, -34, -5, 47, -28, -43, -25, -35, -43, 50, -15, -43, -47, 37, -42, 47, -1, 50, 9, -22, 50,\n",
    " -44, 22, -8, -10, -47, -34, 27, -29, 37, -49, -33, -35, -45, 6, 48, 48, 30, 1, -28, -12, 34, 1, 25, -43, -4,\n",
    " 24, 44, 29, -9, 19, -40, 46, -20, 36, 48, 13, 26, 12, -14, -25, -36, 1, -20, -33, 10, 15, 18, 11, 27, 39, 14,\n",
    " 23, -17, 33, -25, 9, 1, 16, -20, 38, 17, 14, -31, -14, -43, -34, 32, 32, 8, 5, -39, 23, 24, -43, -33, -30]\n",
    "\n",
    "numbers.count(1)"
   ]
  },
  {
   "cell_type": "code",
   "execution_count": 15,
   "id": "560ff415",
   "metadata": {},
   "outputs": [
    {
     "data": {
      "text/plain": [
       "1"
      ]
     },
     "execution_count": 15,
     "metadata": {},
     "output_type": "execute_result"
    }
   ],
   "source": [
    "# .index()\n",
    "# LIST.index(VALUE)\n",
    "# returns index of first occurrence of value\n",
    "\n",
    "numbers = [40, 45, 34, 12, -34, -5, 47, -28, -43, -25, -35, -43, 50, -15, -43, -47, 37, -42, 47, -1, 50, 9, -22, 50,\n",
    " -44, 22, -8, -10, -47, -34, 27, -29, 37, -49, -33, -35, -45, 6, 48, 48, 30, 1, -28, -12, 34, 1, 25, -43, -4,\n",
    " 24, 44, 29, -9, 19, -40, 46, -20, 36, 48, 13, 26, 12, -14, -25, -36, 1, -20, -33, 10, 15, 18, 11, 27, 39, 14,\n",
    " 23, -17, 33, -25, 9, 1, 16, -20, 38, 17, 14, -31, -14, -43, -34, 32, 32, 8, 5, -39, 23, 24, -43, -33, -30]\n",
    "\n",
    "numbers.index(45)"
   ]
  },
  {
   "cell_type": "markdown",
   "id": "3f6d3669",
   "metadata": {},
   "source": [
    "## Update\n",
    "   - Update:\n",
    "       - Modifying Elements by Index\n",
    "       - Slicing and Assigning\n",
    "       \n",
    "remember that list methods will run the method on the list and save it (most of the time) but won't print it out"
   ]
  },
  {
   "cell_type": "markdown",
   "id": "769ca640",
   "metadata": {},
   "source": [
    "### Modifying Elements by Index\n",
    "`my_list[start:end:step]`  # start is inclusive, end is exclusive"
   ]
  },
  {
   "cell_type": "code",
   "execution_count": 31,
   "id": "cf7ced39",
   "metadata": {},
   "outputs": [
    {
     "data": {
      "text/plain": [
       "['bbb', 'ccc', 'ddd']"
      ]
     },
     "execution_count": 31,
     "metadata": {},
     "output_type": "execute_result"
    }
   ],
   "source": []
  },
  {
   "cell_type": "code",
   "execution_count": 32,
   "id": "ea59c92e",
   "metadata": {},
   "outputs": [
    {
     "data": {
      "text/plain": [
       "['aaa', 'bbb', 'ccc']"
      ]
     },
     "execution_count": 32,
     "metadata": {},
     "output_type": "execute_result"
    }
   ],
   "source": []
  },
  {
   "cell_type": "code",
   "execution_count": 33,
   "id": "a98c697d",
   "metadata": {},
   "outputs": [
    {
     "data": {
      "text/plain": [
       "['ccc', 'ddd']"
      ]
     },
     "execution_count": 33,
     "metadata": {},
     "output_type": "execute_result"
    }
   ],
   "source": []
  },
  {
   "cell_type": "code",
   "execution_count": 36,
   "id": "61dd26e9",
   "metadata": {},
   "outputs": [
    {
     "data": {
      "text/plain": [
       "['bbb', 'ddd']"
      ]
     },
     "execution_count": 36,
     "metadata": {},
     "output_type": "execute_result"
    }
   ],
   "source": []
  },
  {
   "cell_type": "markdown",
   "id": "4b4e4e21",
   "metadata": {},
   "source": [
    "### Slicing and Assigning"
   ]
  },
  {
   "cell_type": "code",
   "execution_count": 32,
   "id": "76db24f9",
   "metadata": {},
   "outputs": [
    {
     "data": {
      "text/plain": [
       "['apple', 'banana', 'cherry', 'orange']"
      ]
     },
     "execution_count": 32,
     "metadata": {},
     "output_type": "execute_result"
    }
   ],
   "source": []
  },
  {
   "cell_type": "code",
   "execution_count": 37,
   "id": "73c6e5f7",
   "metadata": {},
   "outputs": [
    {
     "data": {
      "text/plain": [
       "['cherry', 'banana', 'apple']"
      ]
     },
     "execution_count": 37,
     "metadata": {},
     "output_type": "execute_result"
    }
   ],
   "source": [
    "# reverse a list\n",
    "# LIST.reverse() \n",
    "\n",
    "thislist = [\"apple\", \"banana\", \"cherry\"]\n",
    "thislist.reverse() # updates the list\n",
    "thislist"
   ]
  },
  {
   "cell_type": "code",
   "execution_count": 42,
   "id": "ea059be3",
   "metadata": {},
   "outputs": [
    {
     "data": {
      "text/plain": [
       "['cherry', 'banana', 'apple']"
      ]
     },
     "execution_count": 42,
     "metadata": {},
     "output_type": "execute_result"
    }
   ],
   "source": [
    "# reverse by index\n",
    "\n",
    "thislist = [\"apple\", \"banana\", \"cherry\"]\n",
    "thislist[::-1]"
   ]
  },
  {
   "cell_type": "code",
   "execution_count": null,
   "id": "072838d9",
   "metadata": {},
   "outputs": [],
   "source": []
  },
  {
   "cell_type": "markdown",
   "id": "eb623bb3",
   "metadata": {},
   "source": [
    "### Extending and appending"
   ]
  },
  {
   "cell_type": "code",
   "execution_count": 4,
   "id": "81d87853",
   "metadata": {},
   "outputs": [
    {
     "data": {
      "text/plain": [
       "['geeks', 'for', 6, 0, 4, 1]"
      ]
     },
     "execution_count": 4,
     "metadata": {},
     "output_type": "execute_result"
    }
   ],
   "source": [
    "# LIST.extend(ITERABLE)\n",
    "# join a list into another list\n",
    "\n",
    "my_list = ['geeks', 'for']\n",
    "another_list = [6, 0, 4, 1]\n",
    "my_list.extend(another_list)\n",
    "my_list"
   ]
  },
  {
   "cell_type": "code",
   "execution_count": 6,
   "id": "7ea323e3",
   "metadata": {},
   "outputs": [
    {
     "data": {
      "text/plain": [
       "['geeks', 'for', 'geeks', [6, 0, 4, 1]]"
      ]
     },
     "execution_count": 6,
     "metadata": {},
     "output_type": "execute_result"
    }
   ],
   "source": [
    "# LIST.append(ITEM)\n",
    "# add a list into another list\n",
    "# list into list\n",
    "\n",
    "my_list = ['geeks', 'for', 'geeks']\n",
    "another_list = [6, 0, 4, 1]\n",
    "my_list.append(another_list)\n",
    "my_list"
   ]
  },
  {
   "cell_type": "code",
   "execution_count": null,
   "id": "96450138",
   "metadata": {},
   "outputs": [],
   "source": [
    "# .join() is only for strings (can turn a list to a string tho)"
   ]
  },
  {
   "cell_type": "markdown",
   "id": "f8ed9569",
   "metadata": {},
   "source": []
  },
  {
   "cell_type": "code",
   "execution_count": null,
   "id": "2cba92c5",
   "metadata": {},
   "outputs": [],
   "source": []
  },
  {
   "cell_type": "markdown",
   "id": "d071ad24",
   "metadata": {},
   "source": [
    "### Inserting elements"
   ]
  },
  {
   "cell_type": "code",
   "execution_count": null,
   "id": "edec3640",
   "metadata": {},
   "outputs": [],
   "source": [
    "# LIST.insert(INDEX, VALUE)\n",
    "# inserting stuff\n",
    "\n",
    "thislist = [\"apple\", \"banana\", \"cherry\"]\n",
    "thislist.insert(1, \"orange\") # adds 'orange' at index 1\n",
    "thislist"
   ]
  },
  {
   "cell_type": "code",
   "execution_count": 44,
   "id": "751301ee",
   "metadata": {},
   "outputs": [
    {
     "data": {
      "text/plain": [
       "[6, 8, 1, 3, 4, 5, 7]"
      ]
     },
     "execution_count": 44,
     "metadata": {},
     "output_type": "execute_result"
    }
   ],
   "source": [
    "# another way of adding stuff\n",
    "# [] and + operator\n",
    "\n",
    "test_list = [1, 3, 4, 5, 7]\n",
    "[6, 8] + test_list"
   ]
  },
  {
   "cell_type": "code",
   "execution_count": 43,
   "id": "8a666be8",
   "metadata": {},
   "outputs": [
    {
     "data": {
      "text/plain": [
       "[6, 123, 1423, 1, 3, 4, 5, 7]"
      ]
     },
     "execution_count": 43,
     "metadata": {},
     "output_type": "execute_result"
    }
   ],
   "source": [
    "# using slicing to append at beginning. append 6\n",
    "\n",
    "test_list = [1, 3, 4, 5, 7]\n",
    " \n",
    "test_list[:0] = [6, 123, 1423]\n",
    "test_list"
   ]
  },
  {
   "cell_type": "markdown",
   "id": "78d37e25",
   "metadata": {},
   "source": [
    "### Reversing"
   ]
  },
  {
   "cell_type": "code",
   "execution_count": 10,
   "id": "1a5c15a3",
   "metadata": {},
   "outputs": [
    {
     "data": {
      "text/plain": [
       "[7, 5, 4, 3, 1]"
      ]
     },
     "execution_count": 10,
     "metadata": {},
     "output_type": "execute_result"
    }
   ],
   "source": [
    "# with index\n",
    "\n",
    "test_list = [1, 3, 4, 5, 7]\n",
    "test_list[::-1]"
   ]
  },
  {
   "cell_type": "code",
   "execution_count": 12,
   "id": "5aef7543",
   "metadata": {},
   "outputs": [
    {
     "data": {
      "text/plain": [
       "[7, 5, 4, 3, 1]"
      ]
     },
     "execution_count": 12,
     "metadata": {},
     "output_type": "execute_result"
    }
   ],
   "source": [
    "# with reversed() function\n",
    "\n",
    "test_list = [1, 3, 4, 5, 7]\n",
    "list(reversed(test_list))"
   ]
  },
  {
   "cell_type": "markdown",
   "id": "23c8302e",
   "metadata": {},
   "source": [
    "## Delete\n",
    "- Removing Elements by Value\n",
    "- Removing Elements by Index\n",
    "- Clearing the Entire List"
   ]
  },
  {
   "cell_type": "markdown",
   "id": "714eb481",
   "metadata": {},
   "source": [
    "### Removing Elements by Value"
   ]
  },
  {
   "cell_type": "code",
   "execution_count": 16,
   "id": "18f65a00",
   "metadata": {},
   "outputs": [
    {
     "data": {
      "text/plain": [
       "['banana', 'cherry']"
      ]
     },
     "execution_count": 16,
     "metadata": {},
     "output_type": "execute_result"
    }
   ],
   "source": [
    "# .remove()\n",
    "# LIST.remove(VALUE)\n",
    "# only remove the first item in the list. not that great\n",
    "\n",
    "thislist = [\"apple\", \"banana\", \"cherry\"]\n",
    "thislist.remove('apple')\n",
    "thislist"
   ]
  },
  {
   "cell_type": "markdown",
   "id": "69f49738",
   "metadata": {},
   "source": [
    "\n",
    "\n"
   ]
  },
  {
   "cell_type": "markdown",
   "id": "81a29fec",
   "metadata": {},
   "source": [
    "### Removing Elements by Index"
   ]
  },
  {
   "cell_type": "markdown",
   "id": "28408e91",
   "metadata": {},
   "source": [
    "#### del"
   ]
  },
  {
   "cell_type": "code",
   "execution_count": 65,
   "id": "ad25386b",
   "metadata": {},
   "outputs": [
    {
     "name": "stdout",
     "output_type": "stream",
     "text": [
      "[10, 20, 30, 40, 50]\n"
     ]
    }
   ],
   "source": [
    "# del \n",
    "\n",
    "l = [0, 10, 20, 30, 40, 50]\n",
    "\n",
    "del l[0]\n",
    "print(l)"
   ]
  },
  {
   "cell_type": "code",
   "execution_count": 66,
   "id": "76d2dd50",
   "metadata": {},
   "outputs": [
    {
     "name": "stdout",
     "output_type": "stream",
     "text": [
      "[0, 10, 20, 40, 50]\n"
     ]
    }
   ],
   "source": [
    "l = [0, 10, 20, 30, 40, 50]\n",
    "\n",
    "del l[3]\n",
    "print(l)"
   ]
  },
  {
   "cell_type": "code",
   "execution_count": 68,
   "id": "5c4dd02c",
   "metadata": {},
   "outputs": [
    {
     "name": "stdout",
     "output_type": "stream",
     "text": [
      "[0, 10, 20, 30, 40]\n"
     ]
    }
   ],
   "source": [
    "l = [0, 10, 20, 30, 40, 50]\n",
    "\n",
    "del l[-1]\n",
    "print(l)"
   ]
  },
  {
   "cell_type": "code",
   "execution_count": 64,
   "id": "467c4025",
   "metadata": {
    "scrolled": true
   },
   "outputs": [
    {
     "name": "stdout",
     "output_type": "stream",
     "text": [
      "[0, 10, 20, 30, 50]\n"
     ]
    }
   ],
   "source": [
    "l = [0, 10, 20, 30, 40, 50]\n",
    "del l[-2]\n",
    "print(l)"
   ]
  },
  {
   "cell_type": "markdown",
   "id": "fcb36b89",
   "metadata": {},
   "source": [
    "#### .pop()"
   ]
  },
  {
   "cell_type": "code",
   "execution_count": 70,
   "id": "11a2d914",
   "metadata": {},
   "outputs": [
    {
     "name": "stdout",
     "output_type": "stream",
     "text": [
      "0\n",
      "[10, 20, 30, 40, 50]\n"
     ]
    }
   ],
   "source": [
    "# .pop()\n",
    "# updates the list as well?\n",
    "\n",
    "l = [0, 10, 20, 30, 40, 50]\n",
    "\n",
    "popped_item = l.pop(0)\n",
    "print(popped_item)\n",
    "print(l)"
   ]
  },
  {
   "cell_type": "code",
   "execution_count": 71,
   "id": "ace9b09e",
   "metadata": {},
   "outputs": [
    {
     "name": "stdout",
     "output_type": "stream",
     "text": [
      "30\n",
      "[0, 10, 20, 40, 50]\n"
     ]
    }
   ],
   "source": [
    "l = [0, 10, 20, 30, 40, 50]\n",
    "\n",
    "popped_item = l.pop(3)\n",
    "print(popped_item)\n",
    "print(l)"
   ]
  },
  {
   "cell_type": "code",
   "execution_count": 72,
   "id": "dfa5971e",
   "metadata": {},
   "outputs": [
    {
     "name": "stdout",
     "output_type": "stream",
     "text": [
      "40\n",
      "[0, 10, 20, 50]\n"
     ]
    }
   ],
   "source": [
    "popped_item = l.pop(-2)\n",
    "print(popped_item)\n",
    "print(l)\n"
   ]
  },
  {
   "cell_type": "code",
   "execution_count": 74,
   "id": "e8740b0e",
   "metadata": {},
   "outputs": [
    {
     "name": "stdout",
     "output_type": "stream",
     "text": [
      "50\n"
     ]
    }
   ],
   "source": [
    "# not specifying an index -> last index is popped\n",
    "l = [0, 10, 20, 30, 40, 50]\n",
    "popped_item = l.pop()\n",
    "print(popped_item)"
   ]
  },
  {
   "cell_type": "markdown",
   "id": "785e8af5",
   "metadata": {},
   "source": [
    "### Clearing the Entire List"
   ]
  },
  {
   "cell_type": "markdown",
   "id": "eba17947",
   "metadata": {},
   "source": [
    "#### clear()"
   ]
  },
  {
   "cell_type": "code",
   "execution_count": 75,
   "id": "4d43908e",
   "metadata": {},
   "outputs": [
    {
     "name": "stdout",
     "output_type": "stream",
     "text": [
      "[]\n"
     ]
    }
   ],
   "source": [
    "l = [0, 1, 2]\n",
    "\n",
    "l.clear()\n",
    "print(l)"
   ]
  },
  {
   "cell_type": "code",
   "execution_count": null,
   "id": "a01e4755",
   "metadata": {},
   "outputs": [],
   "source": [
    "# conditions\n",
    "\n",
    "'''find next square root'''\n",
    "\n",
    "import math\n",
    "\n",
    "def find_next_square(sq):\n",
    "    # Return the next square if sq is a square, -1 otherwise\n",
    "    square_root = math.sqrt(sq)\n",
    "    # if square root is an integer\n",
    "    if square_root % 1 == 0:\n",
    "        return (square_root + 1) ** 2\n",
    "    # if argument is not a perf sq, return, -1, None, or null\n",
    "    else:\n",
    "        return -1"
   ]
  },
  {
   "cell_type": "code",
   "execution_count": null,
   "id": "595134d1",
   "metadata": {},
   "outputs": [],
   "source": []
  },
  {
   "cell_type": "code",
   "execution_count": null,
   "id": "1b9a7f3c",
   "metadata": {},
   "outputs": [],
   "source": []
  },
  {
   "cell_type": "code",
   "execution_count": null,
   "id": "2911121a",
   "metadata": {},
   "outputs": [],
   "source": []
  },
  {
   "cell_type": "markdown",
   "id": "cf4d41f5",
   "metadata": {},
   "source": [
    "remove the geese from birds list"
   ]
  },
  {
   "cell_type": "code",
   "execution_count": 16,
   "id": "cf119abd",
   "metadata": {},
   "outputs": [],
   "source": [
    "# comparing lists and filtering\n",
    "\n",
    "geese = [\"African\", \"Roman Tufted\", \"Toulouse\", \"Pilgrim\", \"Steinbacher\"]\n",
    "birds =  [\"Mallard\", \"Hook Bill\", \"African\", \"Crested\", \"Pilgrim\", \"Toulouse\", \"Blue Swedish\"]\n",
    "\n",
    "# remove the geese from birds list\n",
    "\n",
    "# old school loop\n",
    "def goose_filter(birds):\n",
    "    final = []\n",
    "    for bird in birds:\n",
    "        if bird not in geese:\n",
    "            final.append(bird)\n",
    "    return final    "
   ]
  },
  {
   "cell_type": "code",
   "execution_count": 17,
   "id": "e1c392fb",
   "metadata": {},
   "outputs": [
    {
     "data": {
      "text/plain": [
       "['Mallard', 'Hook Bill', 'Crested', 'Blue Swedish']"
      ]
     },
     "execution_count": 17,
     "metadata": {},
     "output_type": "execute_result"
    }
   ],
   "source": [
    "# LIST COMP\n",
    "def goose_filter(birds):\n",
    "    return [bird for bird in birds if bird not in geese]\n",
    "\n",
    "goose_filter(birds)"
   ]
  },
  {
   "cell_type": "markdown",
   "id": "9a99e182",
   "metadata": {},
   "source": [
    "label index of each list item:"
   ]
  },
  {
   "cell_type": "code",
   "execution_count": 62,
   "id": "b82932fe",
   "metadata": {},
   "outputs": [],
   "source": [
    "# for i in range(len(arr)):\n",
    "# then compare arr[i] to arr[i+1] or whatever\n",
    "\n",
    "# not sure if we can do this tho"
   ]
  },
  {
   "cell_type": "code",
   "execution_count": null,
   "id": "77d9a82b",
   "metadata": {},
   "outputs": [],
   "source": []
  },
  {
   "cell_type": "code",
   "execution_count": null,
   "id": "9e08e28e",
   "metadata": {},
   "outputs": [],
   "source": []
  },
  {
   "cell_type": "code",
   "execution_count": null,
   "id": "06252eff",
   "metadata": {},
   "outputs": [],
   "source": [
    "# list comprehension\n",
    "''' invert positives to negatives, negatives to positives'''\n",
    "def invert(lst):\n",
    "    return [-x for x in lst]"
   ]
  },
  {
   "cell_type": "code",
   "execution_count": null,
   "id": "4b247232",
   "metadata": {},
   "outputs": [],
   "source": []
  },
  {
   "cell_type": "code",
   "execution_count": null,
   "id": "bdd5f3ca",
   "metadata": {},
   "outputs": [],
   "source": []
  },
  {
   "cell_type": "code",
   "execution_count": null,
   "id": "384835e6",
   "metadata": {},
   "outputs": [],
   "source": []
  },
  {
   "cell_type": "code",
   "execution_count": null,
   "id": "280a73ef",
   "metadata": {},
   "outputs": [],
   "source": []
  },
  {
   "cell_type": "code",
   "execution_count": null,
   "id": "1c808b16",
   "metadata": {},
   "outputs": [],
   "source": []
  },
  {
   "cell_type": "markdown",
   "id": "cf351baf",
   "metadata": {},
   "source": [
    "# Dictionaries\n",
    "\n",
    "`person = {\"name\": \"Alice\", \"age\": 30, \"city\": \"London\"}`\n"
   ]
  },
  {
   "cell_type": "markdown",
   "id": "1675e9ac",
   "metadata": {},
   "source": [
    "## Creating\n",
    "   - Create:\n",
    "       - Initializing a Dictionary\n",
    "       - Adding Key-Value Pairs"
   ]
  },
  {
   "cell_type": "markdown",
   "id": "687fde3e",
   "metadata": {},
   "source": [
    "### Initializing a Dictionary"
   ]
  },
  {
   "cell_type": "code",
   "execution_count": 24,
   "id": "73b54549",
   "metadata": {
    "scrolled": true
   },
   "outputs": [
    {
     "data": {
      "text/plain": [
       "{'GEEKS': 2175, 'For': 1127, 'geeks': 2750}"
      ]
     },
     "execution_count": 24,
     "metadata": {},
     "output_type": "execute_result"
    }
   ],
   "source": [
    "# using zip() and dict comprehensions. omg\n",
    "# zip(ITERABLE)\n",
    "# returns a single iterator object (need to output using list() or set() etc)\n",
    "\n",
    "stocks = ['GEEKS', 'For', 'geeks']\n",
    "prices = [2175, 1127, 2750]\n",
    " \n",
    "new_dict = {stocks: prices for stocks,prices in zip(stocks, prices)} # this code won't run as a list comp\n",
    "new_dict"
   ]
  },
  {
   "cell_type": "code",
   "execution_count": 19,
   "id": "0cd2ebbc",
   "metadata": {},
   "outputs": [
    {
     "data": {
      "text/plain": [
       "{'GEEKS': 2175, 'For': 1127, 'geeks': 2750}"
      ]
     },
     "execution_count": 19,
     "metadata": {},
     "output_type": "execute_result"
    }
   ],
   "source": [
    "# zip()\n",
    "# take 2 lists and zip them into a dict\n",
    "# uhh much easier way to do it than above:\n",
    "\n",
    "dict(zip(stocks, prices))"
   ]
  },
  {
   "cell_type": "code",
   "execution_count": null,
   "id": "1607d5bf",
   "metadata": {},
   "outputs": [],
   "source": []
  },
  {
   "cell_type": "markdown",
   "id": "ba2a9b1f",
   "metadata": {},
   "source": [
    "### Adding Key-Value Pairs"
   ]
  },
  {
   "cell_type": "code",
   "execution_count": 14,
   "id": "43816405",
   "metadata": {},
   "outputs": [
    {
     "data": {
      "text/plain": [
       "'Alice'"
      ]
     },
     "execution_count": 14,
     "metadata": {},
     "output_type": "execute_result"
    }
   ],
   "source": [
    "# Adding a new key-value pair\n",
    "person = {\"name\": \"Alice\", \"age\": 30, \"city\": \"London\"}\n",
    "\n",
    "person[\"occupation\"] = \"Programmer\"  \n",
    "person\n",
    "\n"
   ]
  },
  {
   "cell_type": "code",
   "execution_count": 6,
   "id": "e2b3b736",
   "metadata": {},
   "outputs": [],
   "source": [
    "# indexing\n",
    "'''return the answer for how many petals'''\n",
    "\n",
    "def how_much_i_love_you(nb_petals):\n",
    "    return [\"I love you\", \"a little\", \"a lot\", \"passionately\", \"madly\", \"not at all\"][nb_petals % 6 - 1]"
   ]
  },
  {
   "cell_type": "markdown",
   "id": "da02279e",
   "metadata": {},
   "source": [
    "## Reading\n",
    "   - Read:\n",
    "       - Accessing Values by Key\n",
    "       - Checking Key Existence\n",
    "       - Iterating Over Keys or Values"
   ]
  },
  {
   "cell_type": "markdown",
   "id": "23808eee",
   "metadata": {},
   "source": [
    "### Basics"
   ]
  },
  {
   "cell_type": "code",
   "execution_count": null,
   "id": "64a6b8aa",
   "metadata": {},
   "outputs": [],
   "source": [
    "# list of all keys\n",
    "# DICT.keys()\n",
    "\n",
    "person = {\"name\": \"Alice\", \"age\": 30, \"city\": \"London\"}\n",
    "person.keys()"
   ]
  },
  {
   "cell_type": "code",
   "execution_count": 13,
   "id": "296d7b9a",
   "metadata": {},
   "outputs": [
    {
     "data": {
      "text/plain": [
       "dict_values(['Alice', 30, 'London'])"
      ]
     },
     "execution_count": 13,
     "metadata": {},
     "output_type": "execute_result"
    }
   ],
   "source": [
    "# list of all values\n",
    "# DICT.values()\n",
    "\n",
    "person = {\"name\": \"Alice\", \"age\": 30, \"city\": \"London\"}\n",
    "person.values()"
   ]
  },
  {
   "cell_type": "code",
   "execution_count": 2,
   "id": "052f7bf4",
   "metadata": {},
   "outputs": [
    {
     "data": {
      "text/plain": [
       "dict_items([('name', 'Alice'), ('age', 30), ('city', 'London')])"
      ]
     },
     "execution_count": 2,
     "metadata": {},
     "output_type": "execute_result"
    }
   ],
   "source": [
    "# list of all key-value pairs as tuple\n",
    "# DICT.items()\n",
    "\n",
    "person = {\"name\": \"Alice\", \"age\": 30, \"city\": \"London\"}\n",
    "person.items()"
   ]
  },
  {
   "cell_type": "code",
   "execution_count": 8,
   "id": "3955f097",
   "metadata": {},
   "outputs": [
    {
     "name": "stdout",
     "output_type": "stream",
     "text": [
      "Alice\n",
      "not there dumbass\n"
     ]
    }
   ],
   "source": [
    "# get value for specific key, return null is key doesn't exist\n",
    "# DICT.get(KEY, NULLVALUE) \n",
    "# nullvalue is default=None\n",
    "\n",
    "person = {\"name\": \"Alice\", \"age\": 30, \"city\": \"London\"}\n",
    "print(person.get('name'))\n",
    "print(person.get('waaa', 'not there dumbass'))"
   ]
  },
  {
   "cell_type": "code",
   "execution_count": null,
   "id": "0ab2bb9a",
   "metadata": {},
   "outputs": [],
   "source": []
  },
  {
   "cell_type": "markdown",
   "id": "8085fd4a",
   "metadata": {},
   "source": [
    "### Accessing Values by Key"
   ]
  },
  {
   "cell_type": "code",
   "execution_count": 11,
   "id": "c29d7083",
   "metadata": {},
   "outputs": [
    {
     "data": {
      "text/plain": [
       "dict_keys"
      ]
     },
     "execution_count": 11,
     "metadata": {},
     "output_type": "execute_result"
    }
   ],
   "source": []
  },
  {
   "cell_type": "code",
   "execution_count": 17,
   "id": "1571c1e6",
   "metadata": {},
   "outputs": [
    {
     "data": {
      "text/plain": [
       "'Alice'"
      ]
     },
     "execution_count": 17,
     "metadata": {},
     "output_type": "execute_result"
    }
   ],
   "source": [
    "# calling a value using a key\n",
    "# DICT['KEY']\n",
    "\n",
    "person = {\"name\": \"Alice\", \"age\": 30, \"city\": \"London\"}\n",
    "person['name']"
   ]
  },
  {
   "cell_type": "code",
   "execution_count": null,
   "id": "b4cd9417",
   "metadata": {},
   "outputs": [],
   "source": [
    "DICT.keys() #=> LIST of all keys\n",
    "DICT.values() #=> LIST of all values\n",
    "DICT.items() #=> LIST of all pairs as TUPLES\n",
    "\n",
    "\n",
    "len(DICT) #=> NUMBER of key-value pairs\n",
    "\n",
    "DICT[KEY] #=> VALUE\n",
    "DF['KEY1']['KEY2'] # nested. get key2 values inside key1?\n",
    "DICT[\n",
    "DICT.get(KEY, NULLVALUE) #=> VALUE, or NULLVALUE if not there"
   ]
  },
  {
   "cell_type": "markdown",
   "id": "3f49daa7",
   "metadata": {},
   "source": [
    "### Iterating Over Keys or Values"
   ]
  },
  {
   "cell_type": "code",
   "execution_count": 38,
   "id": "49809d84",
   "metadata": {},
   "outputs": [],
   "source": [
    "people = {\n",
    "    \"Alice\": {\"age\": 30, \"city\": \"London\"},\n",
    "    \"Bob\": {\"age\": 25, \"city\": \"New York\"},\n",
    "    \"Charlie\": {\"age\": 42, \"city\": \"Paris\"},\n",
    "}"
   ]
  },
  {
   "cell_type": "code",
   "execution_count": 39,
   "id": "4d9e65b4",
   "metadata": {},
   "outputs": [
    {
     "name": "stdout",
     "output_type": "stream",
     "text": [
      "Iterating over dictionary keys:\n",
      "Alice\n",
      "Bob\n",
      "Charlie\n"
     ]
    }
   ],
   "source": [
    "# Iterating over Keys:\n",
    "print(\"Iterating over dictionary keys:\")\n",
    "for name in people:\n",
    "    print(name)"
   ]
  },
  {
   "cell_type": "code",
   "execution_count": 41,
   "id": "3b107c64",
   "metadata": {},
   "outputs": [
    {
     "name": "stdout",
     "output_type": "stream",
     "text": [
      "\n",
      "Iterating over dictionary key-value pairs:\n",
      "Name: Alice\n",
      "Age: 30\n",
      "City: London\n",
      "\n",
      "Name: Bob\n",
      "Age: 25\n",
      "City: New York\n",
      "\n",
      "Name: Charlie\n",
      "Age: 42\n",
      "City: Paris\n",
      "\n"
     ]
    }
   ],
   "source": [
    "# Iterating over Key-Value Pairs:\n",
    "\n",
    "print(\"\\nIterating over dictionary key-value pairs:\")\n",
    "for name, info in people.items():\n",
    "    print(f\"Name: {name}\")\n",
    "    print(f\"Age: {info['age']}\")   # Accessing age within 'info'\n",
    "    print(f\"City: {info['city']}\\n\") # Accessing city within 'info'\n",
    "    \n",
    "# DICT.items() pulls out the key-value pairs as tuples: (key, value)\n",
    "# therefore, passing two variables (name, info) on the loop will assign to (key, value)"
   ]
  },
  {
   "cell_type": "markdown",
   "id": "39d67207",
   "metadata": {},
   "source": [
    "## Updating\n",
    "   - Update:\n",
    "       - Modifying Values by Key\n",
    "       - Adding New Key-Value Pairs"
   ]
  },
  {
   "cell_type": "code",
   "execution_count": null,
   "id": "e09bbd9c",
   "metadata": {},
   "outputs": [],
   "source": []
  },
  {
   "cell_type": "markdown",
   "id": "cf7039d5",
   "metadata": {},
   "source": [
    "## Deleting\n",
    "   - Delete:\n",
    "       - Removing Key-Value Pairs\n",
    "       - Clearing the Entire Dictionary"
   ]
  },
  {
   "cell_type": "markdown",
   "id": "c8c17e07",
   "metadata": {},
   "source": [
    "# Control Flow"
   ]
  },
  {
   "cell_type": "markdown",
   "id": "9a65bfdc",
   "metadata": {},
   "source": [
    "- Conditional Statements (if, elif, else)\n",
    "- Comparison Operators\n",
    "- Logical Operators\n",
    "- Truthiness and Falsiness\n",
    "- Ternary Operator"
   ]
  },
  {
   "cell_type": "markdown",
   "id": "b740898a",
   "metadata": {},
   "source": [
    "## Conditional Statements (if, elif, else)"
   ]
  },
  {
   "cell_type": "markdown",
   "id": "88f34f13",
   "metadata": {},
   "source": [
    "## Comparison Operators"
   ]
  },
  {
   "cell_type": "markdown",
   "id": "4ffc733a",
   "metadata": {},
   "source": [
    "## Logical Operators"
   ]
  },
  {
   "cell_type": "markdown",
   "id": "7937cb38",
   "metadata": {},
   "source": [
    "## Truthiness and Falsiness"
   ]
  },
  {
   "cell_type": "markdown",
   "id": "7409d483",
   "metadata": {},
   "source": [
    "## Ternary Operator\n",
    "the thing with the return statement containing if else statements"
   ]
  },
  {
   "cell_type": "code",
   "execution_count": 5,
   "id": "27e052e2",
   "metadata": {},
   "outputs": [
    {
     "data": {
      "text/plain": [
       "475"
      ]
     },
     "execution_count": 5,
     "metadata": {},
     "output_type": "execute_result"
    }
   ],
   "source": [
    "# return OUTPUT1 if CONDITION1 else OUTPUT2 if CONDITION2 else OUTPUT3\n",
    "\n",
    "# number of hotdogs\tprice per unit (cents)\n",
    "# n < 5\t100\n",
    "# n >= 5 and n < 10\t95\n",
    "# n >= 10\t90\n",
    "\n",
    "# # usual way\n",
    "# def sale_hotdogs(n):\n",
    "#     if n < 5:\n",
    "#         return n * 100\n",
    "#     if 5 <= n < 10:\n",
    "#         return n * 95\n",
    "#     else: \n",
    "#         return n * 90\n",
    "\n",
    "# ternary\n",
    "def sale_hotdogs(n):\n",
    "    return n*100 if n < 5 else n*95 if 5 <= n < 10 else n*90 \n",
    "\n",
    "sale_hotdogs(5)"
   ]
  },
  {
   "cell_type": "markdown",
   "id": "473edfb5",
   "metadata": {},
   "source": [
    "# Loops and Iteration"
   ]
  },
  {
   "cell_type": "markdown",
   "id": "3a7da37f",
   "metadata": {},
   "source": [
    "1. Loops\n",
    "   - for Loops:\n",
    "     - Iterating Over Elements\n",
    "     - Iterating Over Range of Numbers\n",
    "     - Iterating Over Iterable Objects\n",
    "     - Nested for Loops\n",
    "   - while Loops:\n",
    "     - Looping Until a Condition is Met\n",
    "     - Infinite Loops\n",
    "     - Exiting the Loop with `break` and `continue`\n",
    "   - Loop Control Statements:\n",
    "     - `break`: Exiting a Loop Prematurely\n",
    "     - `continue`: Skipping Current Iteration\n",
    "     - `pass`: Placeholder for Empty Loops\n",
    "   - Iterating Over Data Structures:\n",
    "     - Iterating Over Lists\n",
    "     - Iterating Over Tuples\n",
    "     - Iterating Over Dictionaries\n",
    "     - Iterating Over Sets\n",
    "   - Loop Patterns and Techniques:\n",
    "     - Looping with Index and Value (enumerate)\n",
    "     - Looping with Index Only (range)\n",
    "     - Looping Backwards (reversed)\n",
    "     - Looping with Condition (list comprehension)\n",
    "     - Looping with Accumulator Pattern\n"
   ]
  },
  {
   "cell_type": "markdown",
   "id": "9aa5acd1",
   "metadata": {},
   "source": [
    "## for loops"
   ]
  },
  {
   "cell_type": "markdown",
   "id": "bea7c4a7",
   "metadata": {},
   "source": [
    "`for ITEM in SEQUENCE: \n",
    "    CODE-FOR-EACH-ITEM`"
   ]
  },
  {
   "cell_type": "code",
   "execution_count": 1,
   "id": "a35448f0",
   "metadata": {},
   "outputs": [
    {
     "name": "stdout",
     "output_type": "stream",
     "text": [
      "I like to eat apple\n",
      "I like to eat banana\n",
      "I like to eat orange\n"
     ]
    }
   ],
   "source": [
    "fruits = [\"apple\", \"banana\", \"orange\"]\n",
    "for fruit in fruits:\n",
    "    print(\"I like to eat\", fruit) # Printing for each elements in the list"
   ]
  },
  {
   "cell_type": "code",
   "execution_count": null,
   "id": "b9e82981",
   "metadata": {},
   "outputs": [],
   "source": []
  },
  {
   "cell_type": "code",
   "execution_count": null,
   "id": "19180e8f",
   "metadata": {},
   "outputs": [],
   "source": []
  },
  {
   "cell_type": "markdown",
   "id": "67b3f752",
   "metadata": {},
   "source": [
    "### 'DUH' stuff"
   ]
  },
  {
   "cell_type": "markdown",
   "id": "ece1aa9a",
   "metadata": {},
   "source": [
    "#### Iterables (what can be looped)"
   ]
  },
  {
   "cell_type": "code",
   "execution_count": 2,
   "id": "03ee8152",
   "metadata": {},
   "outputs": [],
   "source": [
    "# dictionaries, lists, sets, tuples, string\n",
    "# NOT integers"
   ]
  },
  {
   "cell_type": "code",
   "execution_count": 4,
   "id": "e3bc4176",
   "metadata": {},
   "outputs": [
    {
     "name": "stdout",
     "output_type": "stream",
     "text": [
      "Alice\n",
      "Bob\n",
      "Charlie\n"
     ]
    }
   ],
   "source": [
    "random_dictionary = {\n",
    "    \"Alice\": {\"age\": 30, \"city\": \"London\"},\n",
    "    \"Bob\": {\"age\": 25, \"city\": \"New York\"},\n",
    "    \"Charlie\": {\"age\": 42, \"city\": \"Paris\"},\n",
    "}\n",
    "\n",
    "for item in random_dictionary:\n",
    "    print(item)"
   ]
  },
  {
   "cell_type": "code",
   "execution_count": 5,
   "id": "b7381034",
   "metadata": {},
   "outputs": [
    {
     "name": "stdout",
     "output_type": "stream",
     "text": [
      "40\n",
      "45\n",
      "34\n",
      "12\n",
      "-34\n"
     ]
    }
   ],
   "source": [
    "random_list = [40, 45, 34, 12, -34]\n",
    "\n",
    "for item in random_list:\n",
    "    print(item)"
   ]
  },
  {
   "cell_type": "code",
   "execution_count": 7,
   "id": "516ba172",
   "metadata": {},
   "outputs": [
    {
     "name": "stdout",
     "output_type": "stream",
     "text": [
      "a\n",
      "a\n",
      "a\n",
      "w\n",
      "e\n",
      "a\n",
      "f\n"
     ]
    }
   ],
   "source": [
    "random_string = 'aaaweaf'\n",
    "for item in random_string:\n",
    "    print(item)"
   ]
  },
  {
   "cell_type": "code",
   "execution_count": 8,
   "id": "ffab94d0",
   "metadata": {},
   "outputs": [
    {
     "ename": "TypeError",
     "evalue": "'int' object is not iterable",
     "output_type": "error",
     "traceback": [
      "\u001b[0;31m---------------------------------------------------------------------------\u001b[0m",
      "\u001b[0;31mTypeError\u001b[0m                                 Traceback (most recent call last)",
      "Cell \u001b[0;32mIn [8], line 3\u001b[0m\n\u001b[1;32m      1\u001b[0m random_integer \u001b[38;5;241m=\u001b[39m \u001b[38;5;241m14345423452345\u001b[39m\n\u001b[0;32m----> 3\u001b[0m \u001b[38;5;28;01mfor\u001b[39;00m item \u001b[38;5;129;01min\u001b[39;00m random_integer:\n\u001b[1;32m      4\u001b[0m     \u001b[38;5;28mprint\u001b[39m(item)\n",
      "\u001b[0;31mTypeError\u001b[0m: 'int' object is not iterable"
     ]
    }
   ],
   "source": [
    "random_integer = 14345423452345\n",
    "\n",
    "for item in random_integer:\n",
    "    print(item)"
   ]
  },
  {
   "cell_type": "markdown",
   "id": "1f30d066",
   "metadata": {},
   "source": [
    "####  Initializing empty integer (for calculations)"
   ]
  },
  {
   "cell_type": "code",
   "execution_count": 1,
   "id": "e2a9153f",
   "metadata": {},
   "outputs": [
    {
     "data": {
      "text/plain": [
       "77"
      ]
     },
     "execution_count": 1,
     "metadata": {},
     "output_type": "execute_result"
    }
   ],
   "source": [
    "numbers = [40, 45, 34, 12, -34, -5, 47, -28, -43, -25, -35, -43, 50, -15, -43, -47, 37, -42, 47, -1, 50, 9, -22, 50,\n",
    " -44, 22, -8, -10, -47, -34, 27, -29, 37, -49, -33, -35, -45, 6, 48, 48, 30, 1, -28, -12, 34, 1, 25, -43, -4,\n",
    " 24, 44, 29, -9, 19, -40, 46, -20, 36, 48, 13, 26, 12, -14, -25, -36, 1, -20, -33, 10, 15, 18, 11, 27, 39, 14,\n",
    " 23, -17, 33, -25, 9, 1, 16, -20, 38, 17, 14, -31, -14, -43, -34, 32, 32, 8, 5, -39, 23, 24, -43, -33, -30]\n",
    "\n",
    "sum(numbers) # correct total"
   ]
  },
  {
   "cell_type": "code",
   "execution_count": 3,
   "id": "ed8e1d01",
   "metadata": {},
   "outputs": [
    {
     "name": "stdout",
     "output_type": "stream",
     "text": [
      "77\n"
     ]
    }
   ],
   "source": [
    "# initialize OUTSIDE the for loop\n",
    "# 'total' gets updated each iteration\n",
    "# correct way\n",
    "\n",
    "total = 0\n",
    "for number in numbers:\n",
    "    total += number\n",
    "print(total)"
   ]
  },
  {
   "cell_type": "code",
   "execution_count": 4,
   "id": "6c669684",
   "metadata": {},
   "outputs": [
    {
     "name": "stdout",
     "output_type": "stream",
     "text": [
      "-30\n"
     ]
    }
   ],
   "source": [
    "# initialize INSIDE the for loop \n",
    "# 'total' reset to zero each iteration\n",
    "# final print statement ends up showing only last number\n",
    "\n",
    "for number in numbers:\n",
    "    total = 0\n",
    "    total += number\n",
    "print(total)"
   ]
  },
  {
   "cell_type": "markdown",
   "id": "ab1eca75",
   "metadata": {},
   "source": [
    "#### re-assigning to original variable vs new variable is giving a different output??"
   ]
  },
  {
   "cell_type": "code",
   "execution_count": 78,
   "id": "7dee44ae",
   "metadata": {},
   "outputs": [
    {
     "name": "stdout",
     "output_type": "stream",
     "text": [
      "hello a\n",
      "hllo e\n",
      "hllo i\n",
      "hll o\n",
      "hll u\n"
     ]
    },
    {
     "data": {
      "text/plain": [
       "'hll'"
      ]
     },
     "execution_count": 78,
     "metadata": {},
     "output_type": "execute_result"
    }
   ],
   "source": [
    "# re-assigning to original gives the output we want\n",
    "\n",
    "string = 'hello'\n",
    "vowels = ['a', 'e', 'i', 'o', 'u']\n",
    "\n",
    "for vowel in vowels:\n",
    "    string = string.replace(vowel, '')\n",
    "    print(string, vowel)\n",
    "    \n",
    "string"
   ]
  },
  {
   "cell_type": "code",
   "execution_count": 79,
   "id": "47056d82",
   "metadata": {},
   "outputs": [
    {
     "name": "stdout",
     "output_type": "stream",
     "text": [
      "hello a\n",
      "hllo e\n",
      "hello i\n",
      "hell o\n",
      "hello u\n"
     ]
    },
    {
     "data": {
      "text/plain": [
       "'hello'"
      ]
     },
     "execution_count": 79,
     "metadata": {},
     "output_type": "execute_result"
    }
   ],
   "source": [
    "# re-assigning to new variable gives something else\n",
    "# for each iteration: it's creating the new variable from scratch\n",
    "# final output ends up being the output for the last iteration ('u' in this case)\n",
    "\n",
    "string = 'hello'\n",
    "vowels = ['a', 'e', 'i', 'o', 'u']\n",
    "\n",
    "for vowel in vowels:\n",
    "    new_string = string.replace(vowel, '')\n",
    "    print(new_string, vowel)\n",
    "\n",
    "new_string"
   ]
  },
  {
   "cell_type": "markdown",
   "id": "7f3ed7f9",
   "metadata": {},
   "source": [
    "#### location of print() statement changes things"
   ]
  },
  {
   "cell_type": "code",
   "execution_count": 80,
   "id": "c49a3d71",
   "metadata": {},
   "outputs": [
    {
     "name": "stdout",
     "output_type": "stream",
     "text": [
      "hello a\n",
      "hllo e\n",
      "hllo i\n",
      "hll o\n",
      "hll u\n"
     ]
    }
   ],
   "source": [
    "string = 'hello'\n",
    "vowels = ['a', 'e', 'i', 'o', 'u']\n",
    "\n",
    "for vowel in vowels:\n",
    "    string = string.replace(vowel, '')\n",
    "    print(string, vowel)"
   ]
  },
  {
   "cell_type": "code",
   "execution_count": 81,
   "id": "4e55f764",
   "metadata": {},
   "outputs": [
    {
     "name": "stdout",
     "output_type": "stream",
     "text": [
      "hello a\n",
      "hello e\n",
      "hllo i\n",
      "hllo o\n",
      "hll u\n"
     ]
    }
   ],
   "source": [
    "string = 'hello'\n",
    "vowels = ['a', 'e', 'i', 'o', 'u']\n",
    "\n",
    "for vowel in vowels:\n",
    "    print(string, vowel)\n",
    "    string = string.replace(vowel, '')"
   ]
  },
  {
   "cell_type": "code",
   "execution_count": null,
   "id": "2115252c",
   "metadata": {},
   "outputs": [],
   "source": []
  },
  {
   "cell_type": "code",
   "execution_count": null,
   "id": "50f2adce",
   "metadata": {},
   "outputs": [],
   "source": [
    "# count vowels in a string\n",
    "\n",
    "def get_count(sentence):\n",
    "    vowels = 'aeiou'\n",
    "    count = 0\n",
    "    for letter in sentence:\n",
    "        if letter in vowels:\n",
    "            count += 1 \n",
    "    return count"
   ]
  },
  {
   "cell_type": "markdown",
   "id": "58e487b8",
   "metadata": {},
   "source": [
    "   - while Loops:\n",
    "     - Looping Until a Condition is Met\n",
    "     - Infinite Loops\n",
    "     - Exiting the Loop with `break` and `continue`"
   ]
  },
  {
   "cell_type": "markdown",
   "id": "7208b0cc",
   "metadata": {},
   "source": [
    "   - Loop Control Statements:\n",
    "     - `break`: Exiting a Loop Prematurely\n",
    "     - `continue`: Skipping Current Iteration\n",
    "     - `pass`: Placeholder for Empty Loops"
   ]
  },
  {
   "cell_type": "markdown",
   "id": "03f8e864",
   "metadata": {},
   "source": [
    "   - Iterating Over Data Structures:\n",
    "     - Iterating Over Lists\n",
    "     - Iterating Over Tuples\n",
    "     - Iterating Over Dictionaries\n",
    "     - Iterating Over Sets"
   ]
  },
  {
   "cell_type": "markdown",
   "id": "72e48772",
   "metadata": {},
   "source": [
    "## Loop Patterns and Techniques:\n",
    " - Looping with Index and Value (enumerate)\n",
    " - Looping with Index Only (range)\n",
    " - Looping Backwards (reversed)\n",
    " - Looping with Condition (list comprehension)\n",
    " - Looping with Accumulator Pattern"
   ]
  },
  {
   "cell_type": "markdown",
   "id": "b41f7e28",
   "metadata": {},
   "source": [
    "### Looping with Index and Value (enumerate)"
   ]
  },
  {
   "cell_type": "markdown",
   "id": "219a1c9e",
   "metadata": {},
   "source": [
    "### Looping with Index Only (range)"
   ]
  },
  {
   "cell_type": "code",
   "execution_count": 1,
   "id": "d4af7d0c",
   "metadata": {},
   "outputs": [
    {
     "data": {
      "text/plain": [
       "range(1, 20, 5)"
      ]
     },
     "execution_count": 1,
     "metadata": {},
     "output_type": "execute_result"
    }
   ],
   "source": [
    "# range()\n",
    "# range(start, stop, step)\n",
    "\n",
    "range(1, 20, 5)"
   ]
  },
  {
   "cell_type": "markdown",
   "id": "fdde68b8",
   "metadata": {},
   "source": [
    "#### # range(len(sequence))"
   ]
  },
  {
   "cell_type": "code",
   "execution_count": 2,
   "id": "388c3b51",
   "metadata": {},
   "outputs": [
    {
     "name": "stdout",
     "output_type": "stream",
     "text": [
      "Index: 0, Value: 10\n",
      "Index: 1, Value: 20\n",
      "Index: 2, Value: 30\n",
      "Index: 3, Value: 40\n",
      "Index: 4, Value: 50\n"
     ]
    }
   ],
   "source": [
    "# range(len(sequence))\n",
    "# this pattern is super useful: access both elements and their indices\n",
    "\n",
    "numbers = [10, 20, 30, 40, 50]\n",
    "for i in range(len(numbers)):\n",
    "    print(f\"Index: {i}, Value: {numbers[i]}\")"
   ]
  },
  {
   "cell_type": "markdown",
   "id": "89d369fe",
   "metadata": {},
   "source": [
    "##### examples"
   ]
  },
  {
   "cell_type": "code",
   "execution_count": null,
   "id": "878f7381",
   "metadata": {},
   "outputs": [],
   "source": [
    "# access even-indexed elements, and apply function\n",
    "\n",
    "numbers = [1, 2, 3, 4, 5]\n",
    "for i in range(len(numbers)):\n",
    "    if i % 2 == 0:\n",
    "        numbers[i] *= 2  # Double the even-indexed elements\n",
    "print(numbers)  # Output: [2, 2, 6, 4, 10]"
   ]
  },
  {
   "cell_type": "code",
   "execution_count": null,
   "id": "6b91ffed",
   "metadata": {},
   "outputs": [],
   "source": []
  },
  {
   "cell_type": "markdown",
   "id": "2f696214",
   "metadata": {},
   "source": [
    "### Looping Backwards (reversed)"
   ]
  },
  {
   "cell_type": "markdown",
   "id": "ea104d92",
   "metadata": {},
   "source": [
    "### Looping with Condition (list comprehension)"
   ]
  },
  {
   "cell_type": "markdown",
   "id": "27dbf1cd",
   "metadata": {},
   "source": [
    "##### finding numbers in a list that fit a condition"
   ]
  },
  {
   "cell_type": "code",
   "execution_count": null,
   "id": "93f68425",
   "metadata": {},
   "outputs": [],
   "source": [
    "# example: finding numbers that divide a certain number n without remainders\n",
    "\n",
    "def divisors(n):\n",
    "    return  len([l_div for l_div in range(1, n + 1) if n % l_div == 0]);"
   ]
  },
  {
   "cell_type": "code",
   "execution_count": null,
   "id": "9ff11849",
   "metadata": {},
   "outputs": [],
   "source": [
    "# make a list for each l_div in range(1, n+1)\n",
    "[l_div for l_div in range(1, n+1)]"
   ]
  },
  {
   "cell_type": "code",
   "execution_count": null,
   "id": "dc8527e1",
   "metadata": {},
   "outputs": [],
   "source": [
    "# make that list only for numbers that meet the condition (divides n without remainders)\n",
    "[l_div for l_div in range(1, n + 1) if n % l_div == 0]"
   ]
  },
  {
   "cell_type": "code",
   "execution_count": null,
   "id": "56cf1635",
   "metadata": {},
   "outputs": [],
   "source": []
  },
  {
   "cell_type": "code",
   "execution_count": null,
   "id": "8fc5c6be",
   "metadata": {},
   "outputs": [],
   "source": []
  },
  {
   "cell_type": "markdown",
   "id": "42fd9dda",
   "metadata": {},
   "source": [
    "### Looping with Accumulator Pattern\n",
    "\n",
    "1. Initialization: Start with an initial value for the accumulator variable (e.g., a number, list, string, etc.).\n",
    "2. Iteration: Use a loop to iterate over a collection of data.\n",
    "3. Accumulation: Modify the accumulator variable within the loop based on the current item in the iteration.\n",
    "4. Final Result: After the loop completes, the accumulator variable contains the final accumulated "
   ]
  },
  {
   "cell_type": "code",
   "execution_count": 39,
   "id": "ff34e657",
   "metadata": {},
   "outputs": [
    {
     "name": "stdout",
     "output_type": "stream",
     "text": [
      "Total Sum: 15\n"
     ]
    }
   ],
   "source": [
    "# summing numbers\n",
    "\n",
    "numbers = [1, 2, 3, 4, 5]\n",
    "total_sum = 0  # Initialization\n",
    "\n",
    "for number in numbers:  # Iteration\n",
    "    total_sum += number  # Accumulation\n",
    "\n",
    "print(\"Total Sum:\", total_sum)  # Final Result\n"
   ]
  },
  {
   "cell_type": "code",
   "execution_count": 40,
   "id": "b9978849",
   "metadata": {},
   "outputs": [
    {
     "name": "stdout",
     "output_type": "stream",
     "text": [
      "Squares: [1, 4, 9, 16, 25]\n"
     ]
    }
   ],
   "source": [
    "# collecting items in a list\n",
    "\n",
    "numbers = [1, 2, 3, 4, 5]\n",
    "squares = []  # Initialization\n",
    "\n",
    "for number in numbers:  # Iteration\n",
    "    squares.append(number ** 2)  # Accumulation\n",
    "\n",
    "print(\"Squares:\", squares)  # Final Result\n"
   ]
  },
  {
   "cell_type": "code",
   "execution_count": null,
   "id": "4958b10b",
   "metadata": {},
   "outputs": [],
   "source": [
    "# building a string\n",
    "\n",
    "words = [\"Hello\", \"world\", \"this\", \"is\", \"Python\"]\n",
    "sentence = \"\"  # Initialization\n",
    "\n",
    "for word in words:  # Iteration\n",
    "    sentence += word + \" \"  # Accumulation\n",
    "\n",
    "sentence = sentence.strip()  # Remove the trailing space\n",
    "print(\"Sentence:\", sentence)  # Final Result\n"
   ]
  },
  {
   "cell_type": "code",
   "execution_count": 41,
   "id": "f3f7c620",
   "metadata": {},
   "outputs": [
    {
     "name": "stdout",
     "output_type": "stream",
     "text": [
      "Number of apples: 3\n"
     ]
    }
   ],
   "source": [
    "# counting occurrences in a list\n",
    "\n",
    "items = ['apple', 'banana', 'apple', 'orange', 'banana', 'apple']\n",
    "count_apples = 0  # Initialization\n",
    "\n",
    "for item in items:  # Iteration\n",
    "    if item == 'apple':\n",
    "        count_apples += 1  # Accumulation\n",
    "\n",
    "print(\"Number of apples:\", count_apples)  # Final Result\n"
   ]
  },
  {
   "cell_type": "code",
   "execution_count": 43,
   "id": "42872299",
   "metadata": {},
   "outputs": [
    {
     "name": "stdout",
     "output_type": "stream",
     "text": [
      "1\n",
      "3\n",
      "6\n",
      "10\n",
      "Cumulative Sums: [1, 3, 6, 10]\n"
     ]
    }
   ],
   "source": [
    "# nested loop\n",
    "# cumulative sums\n",
    "\n",
    "mylist = [1, 2, 3, 4]\n",
    "cumulative_sums = []  # Initialization (outer accumulator)\n",
    "\n",
    "for i in range(len(mylist)):  # Outer Loop\n",
    "    sum_value = 0  # Initialization (inner accumulator)\n",
    "    for j in range(i + 1):  # Inner Loop\n",
    "        sum_value += mylist[j]  # Accumulation (inner): for each individual sum\n",
    "    print(sum_value) \n",
    "    cumulative_sums.append(sum_value)  # Accumulation (outer): gathers all the sums into a list\n",
    "\n",
    "print(\"Cumulative Sums:\", cumulative_sums)  # Final Result\n"
   ]
  },
  {
   "cell_type": "markdown",
   "id": "8ab49317",
   "metadata": {},
   "source": [
    "# Functions"
   ]
  },
  {
   "cell_type": "markdown",
   "id": "e2c73153",
   "metadata": {},
   "source": [
    "## Defining Functions"
   ]
  },
  {
   "cell_type": "markdown",
   "id": "adf98574",
   "metadata": {},
   "source": []
  },
  {
   "cell_type": "markdown",
   "id": "08e517f9",
   "metadata": {},
   "source": [
    "## Function Parameters"
   ]
  },
  {
   "cell_type": "markdown",
   "id": "eae89d0c",
   "metadata": {},
   "source": [
    "## Return Statement"
   ]
  },
  {
   "cell_type": "markdown",
   "id": "7b87ecf1",
   "metadata": {},
   "source": [
    "## Scope and Lifetime of Variables"
   ]
  },
  {
   "cell_type": "markdown",
   "id": "8b2a7dd2",
   "metadata": {},
   "source": [
    "## Lambda Functions"
   ]
  },
  {
   "cell_type": "markdown",
   "id": "e0498025",
   "metadata": {},
   "source": [
    "## Functional Programming\n",
    "\n",
    "Functional Programming\n",
    "- Introduction to Functional Programming:\n",
    "  - Overview of Functional Programming Paradigms\n",
    "  - Benefits of Functional Programming\n",
    "\n",
    "- First-Class Functions:\n",
    "  - Functions as Objects\n",
    "  - Passing Functions as Arguments\n",
    "  - Returning Functions from Functions\n",
    "\n",
    "- Higher-Order Functions:\n",
    "  - Definition and Examples\n",
    "  - Using Functions like `map()`, `filter()`, and `reduce()`\n",
    "\n",
    "- Pure Functions:\n",
    "  - Definition and Characteristics\n",
    "  - Examples of Pure Functions\n",
    "  - Benefits of Using Pure Functions\n",
    "\n",
    "- Anonymous Functions (Lambdas):\n",
    "  - Creating Lambda Functions\n",
    "  - Using Lambda Functions with Higher-Order Functions\n",
    "\n",
    "- Functional Programming Tools:\n",
    "  - `map()`: Applying a Function to All Elements in an Iterable\n",
    "    - Applying a Function to Elements of an Iterable\n",
    "    - Syntax and Usage\n",
    "    - Examples with Lists, Tuples, Sets, and Dictionaries\n",
    "    - Mapping Functions with Multiple Iterables (zip)\n",
    "    - Lambda Functions and map()\n",
    "  - `filter()`: Filtering Elements Based on a Function\n",
    "  - `reduce()`: Reducing an Iterable to a Single Value\n",
    "  - `functools.partial()`: Creating Partial Functions\n",
    "\n",
    "- Immutability:\n",
    "  - Importance of Immutability in Functional Programming\n",
    "  - Techniques for Achieving Immutability\n",
    "\n",
    "- Recursion:\n",
    "  - Definition and Examples\n",
    "  - Recursive vs. Iterative Solutions\n",
    "  - Tail Recursion\n",
    "\n",
    "- Comprehensions:\n",
    "  - List Comprehensions\n",
    "  - Dictionary Comprehensions\n",
    "  - Set Comprehensions\n",
    "\n",
    "- Generator Expressions:\n",
    "  - Creating Generators\n",
    "  - Differences Between Generators and Comprehensions\n",
    "  - Use Cases for Generators\n",
    "\n",
    "- Functional Libraries:\n",
    "  - Overview of Functional Libraries (e.g., `functools`, `itertools`)\n",
    "  - Key Functions and Their Uses\n",
    "\n",
    "- Decorators:\n",
    "  - Understanding Decorators\n",
    "  - Creating and Using Decorators\n",
    "  - Built-in Decorators (`@staticmethod`, `@classmethod`, `@property`)\n",
    "\n",
    "- Closures:\n",
    "  - Definition and Examples\n",
    "  - Use Cases for Closures\n",
    "  - Implementing Closures in Python\n",
    "\n",
    "- Currying:\n",
    "  - Definition and Examples\n",
    "  - Use Cases for Currying\n",
    "  - Implementing Currying in Python\n",
    "\n",
    "- Lazy Evaluation:\n",
    "  - Definition and Examples\n",
    "  - Benefits of Lazy Evaluation\n",
    "  - Implementing Lazy Evaluation in Python\n",
    "\n",
    "- Functional Error Handling:\n",
    "  - Handling Errors Functionally\n",
    "  - Using Monads for Error Handling (e.g., `Maybe`, `Either`)\n",
    "\n",
    "- Functional Data Structures:\n",
    "  - Overview of Immutable Data Structures\n",
    "  - Using Immutable Data Structures in Python (e.g., `tuple`, `frozenset`)\n",
    "\n",
    "- Functional Reactive Programming (FRP):\n",
    "  - Introduction to FRP\n",
    "  - Basic Concepts and Terminology\n",
    "  - Implementing FRP in Python\n",
    "\n",
    "- Performance Considerations:\n",
    "  - Performance Implications of Functional Programming\n",
    "  - Techniques for Optimizing Functional Code\n"
   ]
  },
  {
   "cell_type": "markdown",
   "id": "17f33687",
   "metadata": {},
   "source": [
    "#### Map Function"
   ]
  },
  {
   "cell_type": "code",
   "execution_count": 36,
   "id": "043cb354",
   "metadata": {},
   "outputs": [
    {
     "data": {
      "text/plain": [
       "[23423, 234234, 51323]"
      ]
     },
     "execution_count": 36,
     "metadata": {},
     "output_type": "execute_result"
    }
   ],
   "source": [
    "# Map function: can be used on various iterables (lists, sets, dictionary values, etc)\n",
    "# applies given function to each item of an iterable\n",
    "\n",
    "# map(FUNCTION, ITERABLE)\n",
    "\n",
    "arr = ['23423', '234234', '51323']\n",
    "new_arr = map(int, arr) # this returns a map object, which is NOT a list. it's an iterator.\n",
    "list(new_arr) # need to convert the map object back to a list \n"
   ]
  },
  {
   "cell_type": "code",
   "execution_count": 3,
   "id": "2e5b2ee6",
   "metadata": {},
   "outputs": [
    {
     "data": {
      "text/plain": [
       "'TCAGGTAGTCACATATGGGG'"
      ]
     },
     "execution_count": 3,
     "metadata": {},
     "output_type": "execute_result"
    }
   ],
   "source": [
    "# examples\n",
    "dna = 'AGTCCATCAGTGTATACCCC'\n",
    "rna = {'A':'T', 'C':'G', 'G':'C', 'T':'A'}\n",
    "''.join(list(map(rna.get, dna)))"
   ]
  },
  {
   "cell_type": "code",
   "execution_count": 6,
   "id": "bb599ed0",
   "metadata": {},
   "outputs": [
    {
     "data": {
      "text/plain": [
       "'TCAGGTAGTCACATATGGGG'"
      ]
     },
     "execution_count": 6,
     "metadata": {},
     "output_type": "execute_result"
    }
   ],
   "source": [
    "# doing same with list comp\n",
    "''.join([rna[i] for i in dna])"
   ]
  },
  {
   "cell_type": "markdown",
   "id": "abef1eed",
   "metadata": {},
   "source": [
    "### return Statements"
   ]
  },
  {
   "cell_type": "code",
   "execution_count": 11,
   "id": "6758c3ea",
   "metadata": {},
   "outputs": [
    {
     "name": "stdout",
     "output_type": "stream",
     "text": [
      "None\n",
      "hsi  etTi sats!\n",
      "hsi  etTi sats!\n",
      "hsi  etTi sats!\n"
     ]
    }
   ],
   "source": [
    "# for loops: beware of the return statement location!!\n",
    "# having return statement INSIDE the loop only returns the first iteration\n",
    "\n",
    "def encrypt(text, n):     \n",
    "    for number in range(n):\n",
    "        if text == '' or n < 0:\n",
    "            return text\n",
    "        else:\n",
    "            text = text[1::2] + text[0::2]\n",
    "            return text\n",
    "        \n",
    "print(encrypt(\"This is a test!\", 0))\n",
    "print(encrypt(\"This is a test!\", 1))\n",
    "print(encrypt(\"This is a test!\", 2))\n",
    "print(encrypt(\"This is a test!\", 7))"
   ]
  },
  {
   "cell_type": "code",
   "execution_count": 12,
   "id": "60bf0845",
   "metadata": {},
   "outputs": [
    {
     "name": "stdout",
     "output_type": "stream",
     "text": [
      "None\n",
      "hsi  etTi sats!\n",
      "hsi  etTi sats!\n",
      "hsi  etTi sats!\n"
     ]
    }
   ],
   "source": [
    "# having return statement INSIDE the loop only returns the first iteration\n",
    "# another example where it's outside the else statement, but still inside the for loop\n",
    "\n",
    "def encrypt(text, n):     \n",
    "    for number in range(n):\n",
    "        if text == '' or n < 0:\n",
    "            return text\n",
    "        else:\n",
    "            text = text[1::2] + text[0::2]\n",
    "        return text\n",
    "    \n",
    "print(encrypt(\"This is a test!\", 0))\n",
    "print(encrypt(\"This is a test!\", 1))\n",
    "print(encrypt(\"This is a test!\", 2))\n",
    "print(encrypt(\"This is a test!\", 7))"
   ]
  },
  {
   "cell_type": "code",
   "execution_count": 13,
   "id": "e2c3a3c9",
   "metadata": {},
   "outputs": [
    {
     "name": "stdout",
     "output_type": "stream",
     "text": [
      "This is a test!\n",
      "hsi  etTi sats!\n",
      "s eT ashi tist!\n",
      " Tah itse sits!\n"
     ]
    }
   ],
   "source": [
    "# this one is OUTSIDE the for loop and will do what you want it to\n",
    "# (btw this function itself isn't optimized and it's better to just move the for loop inside the else statement)\n",
    "\n",
    "def encrypt(text, n):     \n",
    "    for number in range(n):\n",
    "        if text == '' or n < 0:\n",
    "            return text\n",
    "        else:\n",
    "            text = text[1::2] + text[0::2]\n",
    "    return text\n",
    "    \n",
    "print(encrypt(\"This is a test!\", 0))\n",
    "print(encrypt(\"This is a test!\", 1))\n",
    "print(encrypt(\"This is a test!\", 2))\n",
    "print(encrypt(\"This is a test!\", 7))"
   ]
  },
  {
   "cell_type": "code",
   "execution_count": null,
   "id": "8e297cb7",
   "metadata": {},
   "outputs": [],
   "source": []
  },
  {
   "cell_type": "code",
   "execution_count": null,
   "id": "58b8fb9d",
   "metadata": {},
   "outputs": [],
   "source": [
    "# taking user input\n",
    "# input('TEXT TO BE DISPLAYED')"
   ]
  },
  {
   "cell_type": "code",
   "execution_count": null,
   "id": "803ea914",
   "metadata": {},
   "outputs": [],
   "source": []
  },
  {
   "cell_type": "code",
   "execution_count": null,
   "id": "6f79ec32",
   "metadata": {},
   "outputs": [],
   "source": [
    "# lambda is an an anonymous function\n",
    "\n",
    "# take notes: https://www.geeksforgeeks.org/python-lambda-anonymous-functions-filter-map-reduce/"
   ]
  },
  {
   "cell_type": "code",
   "execution_count": null,
   "id": "5a0746f4",
   "metadata": {},
   "outputs": [],
   "source": []
  },
  {
   "cell_type": "markdown",
   "id": "47a9310c",
   "metadata": {},
   "source": [
    "# Modules and Packages:\n",
    "- Importing Modules\n",
    "- Creating and Using Packages\n",
    "- Standard Library Overview"
   ]
  },
  {
   "cell_type": "markdown",
   "id": "9272d9da",
   "metadata": {},
   "source": [
    "## Importing Modules"
   ]
  },
  {
   "cell_type": "code",
   "execution_count": 1,
   "id": "02f3896e",
   "metadata": {},
   "outputs": [
    {
     "name": "stdout",
     "output_type": "stream",
     "text": [
      "4.0\n"
     ]
    }
   ],
   "source": [
    "# import entire model\n",
    "\n",
    "import math\n",
    "print(math.sqrt(16))  # Output: 4.0"
   ]
  },
  {
   "cell_type": "code",
   "execution_count": 2,
   "id": "4316991b",
   "metadata": {},
   "outputs": [
    {
     "name": "stdout",
     "output_type": "stream",
     "text": [
      "4.0\n",
      "3.141592653589793\n"
     ]
    }
   ],
   "source": [
    "# import specific functions or variables\n",
    "\n",
    "from math import sqrt, pi\n",
    "print(sqrt(16))  # Output: 4.0\n",
    "print(pi)        # Output: 3.141592653589793"
   ]
  },
  {
   "cell_type": "code",
   "execution_count": null,
   "id": "53343da3",
   "metadata": {},
   "outputs": [],
   "source": [
    "# import with alias\n",
    "# import MODULE as NAME\n",
    "\n",
    "import numpy as np\n",
    "print(np.array([1, 2, 3]))"
   ]
  },
  {
   "cell_type": "code",
   "execution_count": null,
   "id": "379debd4",
   "metadata": {},
   "outputs": [],
   "source": [
    "# import everything from a module\n",
    "\n",
    "from math import *\n",
    "print(sqrt(16))  # Output: 4.0\n",
    "print(pi)        # Output: 3.141592653589793"
   ]
  },
  {
   "cell_type": "code",
   "execution_count": null,
   "id": "c042ceff",
   "metadata": {},
   "outputs": [],
   "source": []
  },
  {
   "cell_type": "code",
   "execution_count": null,
   "id": "fff61302",
   "metadata": {},
   "outputs": [],
   "source": []
  },
  {
   "cell_type": "markdown",
   "id": "ceb6676e",
   "metadata": {},
   "source": [
    "## Creating and Using Packages"
   ]
  },
  {
   "cell_type": "markdown",
   "id": "8d3fa3c2",
   "metadata": {},
   "source": [
    "### Package\n",
    "- a package is a directory that contains a special file like `__init__.py `\n"
   ]
  },
  {
   "cell_type": "markdown",
   "id": "7a280ba0",
   "metadata": {},
   "source": [
    "#### Creating a package"
   ]
  },
  {
   "cell_type": "markdown",
   "id": "2f56aaee",
   "metadata": {},
   "source": [
    "##### 1. Create a directory\n",
    "- mypackage is the directory\n",
    "- module1, module2 are the modules"
   ]
  },
  {
   "cell_type": "code",
   "execution_count": 10,
   "id": "fa2bac89",
   "metadata": {},
   "outputs": [
    {
     "data": {
      "text/plain": [
       "'\\nmypackage/\\n    __init__.py\\n    module1.py\\n    module2.py\\n'"
      ]
     },
     "execution_count": 10,
     "metadata": {},
     "output_type": "execute_result"
    }
   ],
   "source": [
    "'''\n",
    "mypackage/\n",
    "    __init__.py\n",
    "    module1.py\n",
    "    module2.py\n",
    "'''"
   ]
  },
  {
   "cell_type": "markdown",
   "id": "fc37cf85",
   "metadata": {},
   "source": [
    "##### 2. Add code to your modules"
   ]
  },
  {
   "cell_type": "code",
   "execution_count": 11,
   "id": "5cb5b497",
   "metadata": {},
   "outputs": [
    {
     "data": {
      "text/plain": [
       "'module1.py\\ndef func1():\\n    print(\"Function 1\")\\n\\nmodule2.py\\ndef func2():\\n    print(\"Function 2\")\\n'"
      ]
     },
     "execution_count": 11,
     "metadata": {},
     "output_type": "execute_result"
    }
   ],
   "source": [
    "'''module1.py\n",
    "def func1():\n",
    "    print(\"Function 1\")\n",
    "\n",
    "module2.py\n",
    "def func2():\n",
    "    print(\"Function 2\")\n",
    "'''"
   ]
  },
  {
   "cell_type": "markdown",
   "id": "8c4ab0a0",
   "metadata": {},
   "source": [
    "##### 3. Use package in your code"
   ]
  },
  {
   "cell_type": "code",
   "execution_count": 13,
   "id": "87d96b9a",
   "metadata": {},
   "outputs": [
    {
     "data": {
      "text/plain": [
       "'\\nfrom mypackage import module1, module2\\n\\nmodule1.func1()  # Output: Function 1\\nmodule2.func2()  # Output: Function 2\\n'"
      ]
     },
     "execution_count": 13,
     "metadata": {},
     "output_type": "execute_result"
    }
   ],
   "source": [
    "# Importing the package\n",
    "'''\n",
    "from mypackage import module1, module2\n",
    "\n",
    "module1.func1()  # Output: Function 1\n",
    "module2.func2()  # Output: Function 2\n",
    "'''"
   ]
  },
  {
   "cell_type": "markdown",
   "id": "d68107c9",
   "metadata": {},
   "source": [
    "##### - `__init__.py `\n",
    "    - initializes the package\n",
    "    - can also include code you want to run when package is imported"
   ]
  },
  {
   "cell_type": "markdown",
   "id": "b4c4d400",
   "metadata": {},
   "source": [
    "##### within `__init__.py`"
   ]
  },
  {
   "cell_type": "code",
   "execution_count": 14,
   "id": "54a817d6",
   "metadata": {},
   "outputs": [
    {
     "data": {
      "text/plain": [
       "'\\nfrom .module1 import func1\\nfrom .module2 import func2\\n\\nfrom mypackage import func1, func2\\n\\nfunc1()  # Output: Function 1\\nfunc2()  # Output: Function 2\\n'"
      ]
     },
     "execution_count": 14,
     "metadata": {},
     "output_type": "execute_result"
    }
   ],
   "source": [
    "'''\n",
    "from .module1 import func1\n",
    "from .module2 import func2\n",
    "\n",
    "from mypackage import func1, func2\n",
    "\n",
    "func1()  # Output: Function 1\n",
    "func2()  # Output: Function 2\n",
    "'''"
   ]
  },
  {
   "cell_type": "markdown",
   "id": "754b0b6e",
   "metadata": {},
   "source": [
    "## Standard Library Overview\n",
    "- the libraries that come standard with python. examples:"
   ]
  },
  {
   "cell_type": "code",
   "execution_count": 15,
   "id": "d4ff97ac",
   "metadata": {},
   "outputs": [
    {
     "name": "stdout",
     "output_type": "stream",
     "text": [
      "3.10.6 (main, Oct  1 2023, 13:22:11) [GCC 11.4.0]\n"
     ]
    }
   ],
   "source": [
    "import sys\n",
    "print(sys.version)\n"
   ]
  },
  {
   "cell_type": "code",
   "execution_count": null,
   "id": "cc43324c",
   "metadata": {},
   "outputs": [],
   "source": [
    "import os\n",
    "print(os.getcwd())\n"
   ]
  },
  {
   "cell_type": "code",
   "execution_count": null,
   "id": "afb1987e",
   "metadata": {},
   "outputs": [],
   "source": [
    "import datetime\n",
    "print(datetime.datetime.now())\n"
   ]
  },
  {
   "cell_type": "code",
   "execution_count": null,
   "id": "b134eb9e",
   "metadata": {},
   "outputs": [],
   "source": [
    "import json\n",
    "data = {\"name\": \"Alice\", \"age\": 30}\n",
    "json_string = json.dumps(data)\n",
    "print(json_string)\n"
   ]
  },
  {
   "cell_type": "code",
   "execution_count": null,
   "id": "fc0a3dd9",
   "metadata": {},
   "outputs": [],
   "source": [
    "import re\n",
    "pattern = re.compile(r'\\b\\w+\\b')\n",
    "print(pattern.findall(\"Hello, World!\"))\n"
   ]
  },
  {
   "cell_type": "code",
   "execution_count": null,
   "id": "1b7b479d",
   "metadata": {},
   "outputs": [],
   "source": [
    "import random\n",
    "print(random.randint(1, 10))\n"
   ]
  },
  {
   "cell_type": "code",
   "execution_count": null,
   "id": "cb9a3801",
   "metadata": {},
   "outputs": [],
   "source": []
  },
  {
   "cell_type": "markdown",
   "id": "bdb094f4",
   "metadata": {},
   "source": [
    "# File Handling:\n",
    "- Opening and Closing Files\n",
    "- Reading from Files\n",
    "- Writing to Files\n",
    "- File Modes"
   ]
  },
  {
   "cell_type": "markdown",
   "id": "3d338c9e",
   "metadata": {},
   "source": [
    "## Opening and Closing Files\n",
    "## Reading from Files\n",
    "## Writing to Files\n",
    "## File Modes"
   ]
  },
  {
   "cell_type": "code",
   "execution_count": null,
   "id": "3b0504cb",
   "metadata": {},
   "outputs": [],
   "source": []
  },
  {
   "cell_type": "code",
   "execution_count": null,
   "id": "2cbcd1a5",
   "metadata": {},
   "outputs": [],
   "source": []
  },
  {
   "cell_type": "markdown",
   "id": "c153a131",
   "metadata": {},
   "source": [
    "# Exception Handling:\n",
    "- try, except, finally Blocks\n",
    "- Handling Different Types of Exceptions\n",
    "- Raising Exceptions"
   ]
  },
  {
   "cell_type": "markdown",
   "id": "2fc99a5d",
   "metadata": {},
   "source": [
    "## try, except, finally Blocks\n",
    "## Handling Different Types of Exceptions\n",
    "## Raising Exceptions"
   ]
  },
  {
   "cell_type": "code",
   "execution_count": null,
   "id": "b37fbe4f",
   "metadata": {},
   "outputs": [],
   "source": []
  },
  {
   "cell_type": "code",
   "execution_count": null,
   "id": "6f14b1a6",
   "metadata": {},
   "outputs": [],
   "source": []
  },
  {
   "cell_type": "code",
   "execution_count": null,
   "id": "4442b2a0",
   "metadata": {},
   "outputs": [],
   "source": []
  },
  {
   "cell_type": "markdown",
   "id": "9ec5cada",
   "metadata": {},
   "source": [
    "# Object-Oriented Programming (OOP):\n",
    "- Classes and Objects\n",
    "- Attributes and Methods\n",
    "- Inheritance\n",
    "- Polymorphism\n",
    "- Encapsulation"
   ]
  },
  {
   "cell_type": "markdown",
   "id": "a19ec68d",
   "metadata": {},
   "source": [
    "## Classes and Objects"
   ]
  },
  {
   "cell_type": "markdown",
   "id": "b7638dcd",
   "metadata": {},
   "source": [
    "## Attributes and Methods"
   ]
  },
  {
   "cell_type": "markdown",
   "id": "1c95f5ec",
   "metadata": {},
   "source": [
    "## Inheritance"
   ]
  },
  {
   "cell_type": "markdown",
   "id": "2600cce7",
   "metadata": {},
   "source": [
    "## Polymorphism"
   ]
  },
  {
   "cell_type": "markdown",
   "id": "6f2f2e9b",
   "metadata": {},
   "source": [
    "## Encapsulation"
   ]
  },
  {
   "cell_type": "code",
   "execution_count": null,
   "id": "36ca2bed",
   "metadata": {},
   "outputs": [],
   "source": []
  },
  {
   "cell_type": "code",
   "execution_count": null,
   "id": "dbc0fbb0",
   "metadata": {},
   "outputs": [],
   "source": []
  },
  {
   "cell_type": "markdown",
   "id": "635c2835",
   "metadata": {},
   "source": [
    "# Additional Topics:\n",
    "- List Comprehensions\n",
    "- Generators and Iterators\n",
    "- Decorators\n",
    "- Context Managers\n",
    "- Virtual Environments\n",
    "- Debugging Techniques\n",
    "- Testing and Test-Driven Development (TDD)\n",
    "- Regular Expressions\n",
    "- Parallel and Concurrent Programming\n",
    "- Memoization\n",
    "- Recursion"
   ]
  },
  {
   "cell_type": "markdown",
   "id": "e47e06b1",
   "metadata": {},
   "source": [
    "## List Comprehensions"
   ]
  },
  {
   "cell_type": "markdown",
   "id": "efd33a39",
   "metadata": {},
   "source": [
    "## Generators and Iterators"
   ]
  },
  {
   "cell_type": "markdown",
   "id": "6262bbfb",
   "metadata": {},
   "source": [
    "## Decorators"
   ]
  },
  {
   "cell_type": "markdown",
   "id": "0d006ca6",
   "metadata": {},
   "source": [
    "## Context Managers"
   ]
  },
  {
   "cell_type": "markdown",
   "id": "9c1bb795",
   "metadata": {},
   "source": [
    "## Virtual Environments"
   ]
  },
  {
   "cell_type": "markdown",
   "id": "b1a74707",
   "metadata": {},
   "source": [
    "## Debugging Techniques"
   ]
  },
  {
   "cell_type": "markdown",
   "id": "661ebd62",
   "metadata": {},
   "source": [
    "## Testing and Test-Driven Development (TDD)"
   ]
  },
  {
   "cell_type": "markdown",
   "id": "e19305dc",
   "metadata": {},
   "source": [
    "## Regular Expressions"
   ]
  },
  {
   "cell_type": "markdown",
   "id": "98b95df8",
   "metadata": {},
   "source": [
    "## Parallel and Concurrent Programming"
   ]
  },
  {
   "cell_type": "markdown",
   "id": "80cbc6a2",
   "metadata": {},
   "source": [
    "## Memoization"
   ]
  },
  {
   "cell_type": "markdown",
   "id": "bbf29466",
   "metadata": {},
   "source": [
    "## Recursion"
   ]
  },
  {
   "cell_type": "markdown",
   "id": "2f61fc44",
   "metadata": {},
   "source": []
  },
  {
   "cell_type": "code",
   "execution_count": null,
   "id": "8c2dd959",
   "metadata": {},
   "outputs": [],
   "source": []
  },
  {
   "cell_type": "code",
   "execution_count": null,
   "id": "8a18e632",
   "metadata": {},
   "outputs": [],
   "source": []
  },
  {
   "cell_type": "code",
   "execution_count": null,
   "id": "44111575",
   "metadata": {},
   "outputs": [],
   "source": []
  },
  {
   "cell_type": "code",
   "execution_count": null,
   "id": "a8fd4b52",
   "metadata": {},
   "outputs": [],
   "source": []
  },
  {
   "cell_type": "code",
   "execution_count": null,
   "id": "567a8c26",
   "metadata": {},
   "outputs": [],
   "source": []
  },
  {
   "cell_type": "code",
   "execution_count": null,
   "id": "90557ca2",
   "metadata": {},
   "outputs": [],
   "source": []
  },
  {
   "cell_type": "code",
   "execution_count": null,
   "id": "d285c9ec",
   "metadata": {},
   "outputs": [],
   "source": []
  },
  {
   "cell_type": "code",
   "execution_count": null,
   "id": "2431a73d",
   "metadata": {},
   "outputs": [],
   "source": []
  },
  {
   "cell_type": "markdown",
   "id": "b54e6a0c-9d62-4ca9-a53b-d1067e17f938",
   "metadata": {},
   "source": [
    "# Misc"
   ]
  },
  {
   "cell_type": "markdown",
   "id": "110c3f01",
   "metadata": {},
   "source": [
    "# Math   "
   ]
  },
  {
   "cell_type": "code",
   "execution_count": 49,
   "id": "72493af8",
   "metadata": {},
   "outputs": [
    {
     "data": {
      "text/plain": [
       "2"
      ]
     },
     "execution_count": 49,
     "metadata": {},
     "output_type": "execute_result"
    }
   ],
   "source": [
    "# modelo\n",
    "8 % 3"
   ]
  },
  {
   "cell_type": "code",
   "execution_count": null,
   "id": "dcee5317",
   "metadata": {},
   "outputs": [],
   "source": [
    "# check for perfect squares\n",
    "n*0.5 % 1 #???"
   ]
  },
  {
   "cell_type": "code",
   "execution_count": 26,
   "id": "ddf6be79",
   "metadata": {},
   "outputs": [
    {
     "ename": "TypeError",
     "evalue": "list indices must be integers or slices, not str",
     "output_type": "error",
     "traceback": [
      "\u001b[0;31m---------------------------------------------------------------------------\u001b[0m",
      "\u001b[0;31mTypeError\u001b[0m                                 Traceback (most recent call last)",
      "Cell \u001b[0;32mIn [26], line 6\u001b[0m\n\u001b[1;32m      3\u001b[0m longest \u001b[38;5;241m=\u001b[39m \u001b[38;5;124m'\u001b[39m\u001b[38;5;124m'\u001b[39m\n\u001b[1;32m      5\u001b[0m \u001b[38;5;28;01mfor\u001b[39;00m n \u001b[38;5;129;01min\u001b[39;00m stringlist:\n\u001b[0;32m----> 6\u001b[0m     \u001b[38;5;28;01mif\u001b[39;00m \u001b[38;5;28mlen\u001b[39m(\u001b[43mstringlist\u001b[49m\u001b[43m[\u001b[49m\u001b[43mn\u001b[49m\u001b[43m]\u001b[49m) \u001b[38;5;241m<\u001b[39m \u001b[38;5;28mlen\u001b[39m(stringlist[n\u001b[38;5;241m+\u001b[39m\u001b[38;5;241m1\u001b[39m]):\n\u001b[1;32m      7\u001b[0m         longest \u001b[38;5;241m=\u001b[39m stringlist[n\u001b[38;5;241m+\u001b[39m\u001b[38;5;241m1\u001b[39m]\n\u001b[1;32m      9\u001b[0m longest\n",
      "\u001b[0;31mTypeError\u001b[0m: list indices must be integers or slices, not str"
     ]
    }
   ],
   "source": [
    "string = \"bitcoin take over the world maybe who knows perhaps\"\n",
    "stringlist = string.split()\n",
    "longest = ''\n",
    "\n",
    "for n in stringlist:\n",
    "    if len(stringlist[n]) < len(stringlist[n+1]):\n",
    "        longest = stringlist[n+1]\n",
    "\n",
    "longest"
   ]
  },
  {
   "cell_type": "markdown",
   "id": "056f7d3e",
   "metadata": {},
   "source": [
    "### binary"
   ]
  },
  {
   "cell_type": "markdown",
   "id": "1752d49a",
   "metadata": {},
   "source": [
    "`s = s * 2 + digit`: For each digit in the binary number, multiply the current value of s by 2 (effectively shifting the bits to the left) and then add the current digit. This is a common technique for converting binary to decimal. For example, if s is 0 and the next digit is 1, then s * 2 + 1 equals 1. If the next digit is 0, then s * 2 + 0 equals 2. And so on."
   ]
  },
  {
   "cell_type": "markdown",
   "id": "442d68ed",
   "metadata": {
    "tags": []
   },
   "source": [
    "## Testing"
   ]
  },
  {
   "cell_type": "code",
   "execution_count": 59,
   "id": "26875e43",
   "metadata": {
    "scrolled": true
   },
   "outputs": [
    {
     "name": "stdout",
     "output_type": "stream",
     "text": [
      "['as;dlfkj', 'asdfadsf', 'asdfasdf', 'asdfas', 'ad']\n",
      "as;dlfkj\n"
     ]
    },
    {
     "data": {
      "text/plain": [
       "8"
      ]
     },
     "execution_count": 59,
     "metadata": {},
     "output_type": "execute_result"
    }
   ],
   "source": [
    "# strategic print statements\n",
    "def find_short(s):\n",
    "    stringlist = s.split()\n",
    "    print(stringlist)\n",
    "    shortest = 'aaaaaaaaa'\n",
    "    \n",
    "    for word in stringlist:\n",
    "        if len(word) < len(shortest):\n",
    "            shortest = word\n",
    "            print(shortest)\n",
    "        return len(shortest)\n",
    "\n",
    "find_short('as;dlfkj asdfadsf asdfasdf asdfas ad')\n",
    "\n",
    "\n"
   ]
  },
  {
   "cell_type": "code",
   "execution_count": null,
   "id": "3b5a89d1",
   "metadata": {},
   "outputs": [],
   "source": []
  },
  {
   "cell_type": "code",
   "execution_count": null,
   "id": "be97ba9e",
   "metadata": {},
   "outputs": [],
   "source": []
  },
  {
   "cell_type": "markdown",
   "id": "e576e1d1",
   "metadata": {},
   "source": [
    "### wtf is this?? (random snippets to figure out later)\n"
   ]
  },
  {
   "cell_type": "code",
   "execution_count": null,
   "id": "e79c0e4c",
   "metadata": {},
   "outputs": [],
   "source": [
    "return \"%i %i\" % (max(nn),min(nn))"
   ]
  },
  {
   "cell_type": "code",
   "execution_count": null,
   "id": "bc5a3b32",
   "metadata": {},
   "outputs": [],
   "source": [
    "def middleNode(self, head: Optional):\n",
    "    slow = fast = head\n",
    "    \n",
    "    while fast and fast.next:\n",
    "        slow = slow.next\n",
    "        fast = fast.next.next\n",
    "        \n",
    "    return slow"
   ]
  },
  {
   "cell_type": "code",
   "execution_count": null,
   "id": "71375965",
   "metadata": {},
   "outputs": [],
   "source": []
  },
  {
   "cell_type": "markdown",
   "id": "a54bdd58",
   "metadata": {},
   "source": [
    "# TOC\n",
    "\n",
    "### Basic Concepts:\n",
    "- Python Syntax and Structure\n",
    "- Comments and Documentation\n",
    "- Data Types\n",
    "  - Integers\n",
    "  - Floats\n",
    "  - Strings\n",
    "  - Booleans\n",
    "  - None\n",
    "- Variables and Assignment\n",
    "\n",
    "### Data Structures:\n",
    "- Lists\n",
    "   - Create:\n",
    "       - Initializing a List\n",
    "       - Appending Elements\n",
    "       - Inserting Elements\n",
    "       - List Comprehensions\n",
    "   - Read:\n",
    "       - Accessing Elements by Index\n",
    "       - Slicing Lists\n",
    "       - Iterating Over Lists\n",
    "   - Update:\n",
    "       - Modifying Elements by Index\n",
    "       - Slicing and Assigning\n",
    "   - Delete:\n",
    "       - Removing Elements by Value\n",
    "       - Removing Elements by Index\n",
    "       - Clearing the Entire List\n",
    "\n",
    "- Tuples\n",
    "   - Create:\n",
    "       - Initializing a Tuple\n",
    "   - Read:\n",
    "       - Accessing Elements by Index\n",
    "       - Tuple Unpacking\n",
    "   - Update:\n",
    "       - Tuples are Immutable (No direct update, create a new tuple)\n",
    "   - Delete:\n",
    "       - Deleting Entire Tuple\n",
    "\n",
    "- Dictionaries\n",
    "   - Create:\n",
    "       - Initializing a Dictionary\n",
    "       - Adding Key-Value Pairs\n",
    "   - Read:\n",
    "       - Accessing Values by Key\n",
    "       - Checking Key Existence\n",
    "       - Iterating Over Keys or Values\n",
    "   - Update:\n",
    "       - Modifying Values by Key\n",
    "       - Adding New Key-Value Pairs\n",
    "   - Delete:\n",
    "       - Removing Key-Value Pairs\n",
    "       - Clearing the Entire Dictionary\n",
    "\n",
    "- Sets\n",
    "   - Create:\n",
    "       - Initializing a Set\n",
    "       - Adding Elements to a Set\n",
    "   - Read:\n",
    "       - Iterating Over Set Elements\n",
    "       - Checking Set Membership\n",
    "   - Update:\n",
    "       - Adding Elements\n",
    "       - Removing Elements\n",
    "   - Delete:\n",
    "       - Removing Elements by Value\n",
    "       - Clearing the Entire Set\n",
    "\n",
    "- Advanced Data Structures (Optional)\n",
    "  - Stacks\n",
    "  - Queues\n",
    "  - Heaps\n",
    "  - Trees\n",
    "  - Graphs\n",
    "\n",
    "### Control Flow:\n",
    "- Conditional Statements (if, elif, else)\n",
    "- Comparison Operators\n",
    "- Logical Operators\n",
    "- Truthiness and Falsiness\n",
    "- Ternary Operator\n",
    "\n",
    "### Loops and Iteration:\n",
    "- for Loops\n",
    "- while Loops\n",
    "- Loop Control Statements (break, continue)\n",
    "- Iterating Over Data Structures\n",
    "\n",
    "### Functions:\n",
    "- Defining Functions\n",
    "- Function Parameters\n",
    "- Return Statement\n",
    "- Scope and Lifetime of Variables\n",
    "- Lambda Functions\n",
    "- Functional Programming\n",
    "  - map(), filter(), reduce()\n",
    "  - Partial Function Application\n",
    "  - Function Composition\n",
    "  - Immutable Data Structures\n",
    "\n",
    "### Modules and Packages:\n",
    "- Importing Modules\n",
    "- Creating and Using Packages\n",
    "- Standard Library Overview\n",
    "\n",
    "### File Handling:\n",
    "- Opening and Closing Files\n",
    "- Reading from Files\n",
    "- Writing to Files\n",
    "- File Modes\n",
    "\n",
    "### Exception Handling:\n",
    "- try, except, finally Blocks\n",
    "- Handling Different Types of Exceptions\n",
    "- Raising Exceptions\n",
    "\n",
    "### Object-Oriented Programming (OOP):\n",
    "- Classes and Objects\n",
    "- Attributes and Methods\n",
    "- Inheritance\n",
    "- Polymorphism\n",
    "- Encapsulation\n",
    "\n",
    "### Additional Topics:\n",
    "- List Comprehensions\n",
    "- Generators and Iterators\n",
    "- Decorators\n",
    "- Context Managers\n",
    "- Virtual Environments\n",
    "- Debugging Techniques\n",
    "- Testing and Test-Driven Development (TDD)\n",
    "- Regular Expressions\n",
    "- Parallel and Concurrent Programming\n",
    "- Memoization\n",
    "- Recursion\n"
   ]
  },
  {
   "cell_type": "code",
   "execution_count": null,
   "id": "05d176ed",
   "metadata": {},
   "outputs": [],
   "source": []
  }
 ],
 "metadata": {
  "kernelspec": {
   "display_name": "Python 3 (ipykernel)",
   "language": "python",
   "name": "python3"
  },
  "language_info": {
   "codemirror_mode": {
    "name": "ipython",
    "version": 3
   },
   "file_extension": ".py",
   "mimetype": "text/x-python",
   "name": "python",
   "nbconvert_exporter": "python",
   "pygments_lexer": "ipython3",
   "version": "3.10.6"
  },
  "toc": {
   "base_numbering": 1,
   "nav_menu": {},
   "number_sections": true,
   "sideBar": true,
   "skip_h1_title": false,
   "title_cell": "Table of Contents",
   "title_sidebar": "Contents",
   "toc_cell": false,
   "toc_position": {
    "height": "calc(100% - 180px)",
    "left": "10px",
    "top": "150px",
    "width": "349.08px"
   },
   "toc_section_display": true,
   "toc_window_display": true
  }
 },
 "nbformat": 4,
 "nbformat_minor": 5
}
