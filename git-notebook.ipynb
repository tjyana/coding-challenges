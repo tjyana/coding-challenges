{
 "cells": [
  {
   "cell_type": "markdown",
   "id": "dd9ac237",
   "metadata": {},
   "source": [
    "# Git commands\n",
    "(all markdown)"
   ]
  },
  {
   "cell_type": "markdown",
   "id": "292d1388",
   "metadata": {},
   "source": [
    "## pushing"
   ]
  },
  {
   "cell_type": "markdown",
   "id": "d085ae4b",
   "metadata": {},
   "source": [
    "##### standard push\n",
    "```bash\n",
    "git add FILENAME\n",
    "git commit -m 'MESSAGE'\n",
    "git push origin BRANCHNAME\n",
    "```"
   ]
  },
  {
   "cell_type": "markdown",
   "id": "9a36eb13",
   "metadata": {},
   "source": [
    "##### adding all files at once\n",
    "```bash\n",
    "git add .\n",
    "```\n",
    "- stages modifications and new files in current directory and subdirectories\n",
    "- does not stage deletions"
   ]
  },
  {
   "cell_type": "markdown",
   "id": "7e607818",
   "metadata": {},
   "source": [
    "##### shortcut \n",
    "```bash\n",
    "git commit -am 'MESSAGE'\n",
    "```\n",
    "- can stage AND commit all modified and deleted files, and then add a comment\n",
    "- if you need to add a longer more detailed comment, use `git commit -a` to open the text editor for commit message"
   ]
  },
  {
   "cell_type": "markdown",
   "id": "cdfbae58",
   "metadata": {},
   "source": [
    "## Undoing\n"
   ]
  },
  {
   "cell_type": "markdown",
   "id": "340f6544",
   "metadata": {},
   "source": [
    "#### discard changes\n",
    "`git restore FILENAME`\n",
    "discard changes, before you git add it"
   ]
  },
  {
   "cell_type": "markdown",
   "id": "5a8538ff",
   "metadata": {},
   "source": [
    "#### unstage something \n",
    "`git restore --staged FILENAME`\n",
    "take it back after you git add it"
   ]
  },
  {
   "cell_type": "markdown",
   "id": "6254493c",
   "metadata": {},
   "source": [
    "\n"
   ]
  },
  {
   "cell_type": "markdown",
   "id": "ec34ebb7",
   "metadata": {},
   "source": [
    "## Fork a repo"
   ]
  },
  {
   "cell_type": "markdown",
   "id": "86e4c071",
   "metadata": {},
   "source": [
    "https://docs.github.com/en/pull-requests/collaborating-with-pull-requests/working-with-forks/fork-a-repo"
   ]
  },
  {
   "cell_type": "markdown",
   "id": "5319cef3",
   "metadata": {},
   "source": [
    "Forking = create a copy of that repo on your Github."
   ]
  },
  {
   "cell_type": "markdown",
   "id": "f1cec37f",
   "metadata": {},
   "source": [
    "1. Navigate to repo\n",
    "2. Click 'Fork' on top right.\n",
    "3. Do the other settings.\n",
    "4. Click 'Create fork'."
   ]
  },
  {
   "cell_type": "markdown",
   "id": "5bda37a2",
   "metadata": {},
   "source": [
    "### After forking: Clone a repo"
   ]
  },
  {
   "cell_type": "markdown",
   "id": "bdfe26be",
   "metadata": {},
   "source": [
    "After you fork a repo: it's only on Github, so you need to connect the forked repo to your local directory.\n",
    "1. In CLI: Navigate to local directory where you want the forked repo files.\n",
    "2. On Github: go to your forked repo and get the SSH-URL.\n",
    "3. Use following command to clone: `git clone SSH-URL`"
   ]
  },
  {
   "cell_type": "markdown",
   "id": "179d3697",
   "metadata": {},
   "source": [
    "After this is done, it will be connected to your forked repo. Pulls will be from here.\n",
    "There's a way to configure it so you can push/pull from the original upstream repo, but we won't do it for MealMuse."
   ]
  },
  {
   "cell_type": "markdown",
   "id": "a94d304b",
   "metadata": {},
   "source": [
    "## Connect local directory to repo"
   ]
  },
  {
   "cell_type": "markdown",
   "id": "e733801d",
   "metadata": {},
   "source": [
    "1. Create GitHub repo\n",
    "    - standard: create new repo, set URL, public/private, etc\n",
    "2. Initialize git in local directory\n",
    "    - from CLI:\n",
    "        - navigate to appropriate directory\n",
    "        - run: `git init`\n",
    "3. Link directory to GitHub:\n",
    "    - from CLI: \n",
    "        - run: `git remote add origin SSH-URL`\n",
    "            (NOT the github URL like it says on many places)\n",
    "\n",
    "And now you can add files, commit, and push."
   ]
  },
  {
   "cell_type": "markdown",
   "id": "095f1f84",
   "metadata": {},
   "source": [
    "#### \"Remote origin already exists\" error\n",
    "- Remove the remote origin: `git remote remove origin`\n",
    "- Add again: `git remote add origin SSH-URL`\n",
    "\n",
    "OR\n",
    "- Just change the URL: `git remote set-url REMOTE-NAME NEW-URL` (remote name is usually 'origin')"
   ]
  },
  {
   "cell_type": "markdown",
   "id": "f6c71b02",
   "metadata": {},
   "source": [
    "## Random commands (sort later?)\n",
    "- `git remote`: list the remotes available\n",
    "- `git remote -v`: list the URLs of the remotes available\n",
    "- `git pull`: pull the updates from the repo\n",
    "- `git status`: what changed\n",
    "- `git log`: log of the commits\n"
   ]
  },
  {
   "cell_type": "code",
   "execution_count": null,
   "id": "475c037f",
   "metadata": {},
   "outputs": [],
   "source": []
  }
 ],
 "metadata": {
  "kernelspec": {
   "display_name": "Python 3 (ipykernel)",
   "language": "python",
   "name": "python3"
  },
  "language_info": {
   "codemirror_mode": {
    "name": "ipython",
    "version": 3
   },
   "file_extension": ".py",
   "mimetype": "text/x-python",
   "name": "python",
   "nbconvert_exporter": "python",
   "pygments_lexer": "ipython3",
   "version": "3.10.6"
  },
  "toc": {
   "base_numbering": 1,
   "nav_menu": {},
   "number_sections": true,
   "sideBar": true,
   "skip_h1_title": false,
   "title_cell": "Table of Contents",
   "title_sidebar": "Contents",
   "toc_cell": false,
   "toc_position": {},
   "toc_section_display": true,
   "toc_window_display": false
  }
 },
 "nbformat": 4,
 "nbformat_minor": 5
}
