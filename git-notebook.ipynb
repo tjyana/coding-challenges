{
 "cells": [
  {
   "cell_type": "markdown",
   "id": "dd9ac237",
   "metadata": {},
   "source": [
    "Git commands\n",
    "(all markdown)"
   ]
  },
  {
   "cell_type": "markdown",
   "id": "91cc4425",
   "metadata": {},
   "source": [
    "# Setup"
   ]
  },
  {
   "cell_type": "markdown",
   "id": "ec34ebb7",
   "metadata": {},
   "source": [
    "## Fork a repo\n",
    "Forking = create a copy of that repo on your Github.\n",
    "\n",
    "https://docs.github.com/en/pull-requests/collaborating-with-pull-requests/working-with-forks/fork-a-repo\n",
    "\n",
    "1. Navigate to repo\n",
    "2. Click 'Fork' on top right.\n",
    "3. Do the other settings.\n",
    "4. Click 'Create fork'."
   ]
  },
  {
   "cell_type": "markdown",
   "id": "5bda37a2",
   "metadata": {},
   "source": [
    "### After forking: Clone a repo\n",
    "\n",
    "After you fork a repo: it's only on Github, so you need to connect the forked repo to your local directory.\n",
    "1. In CLI: Navigate to local directory where you want the forked repo files.\n",
    "2. On Github: go to your forked repo and get the SSH-URL.\n",
    "3. Use following command to clone: `git clone SSH-URL`\n",
    "\n",
    "After this is done, it will be connected to your forked repo. Pulls will be from here.\n",
    "There's a way to configure it so you can push/pull from the original upstream repo, but we won't do it for MealMuse."
   ]
  },
  {
   "cell_type": "markdown",
   "id": "a94d304b",
   "metadata": {},
   "source": [
    "## Connect local directory to repo\n",
    "- if you have the local directory set up and want to connect to GitHub:\n",
    "1. Create GitHub repo\n",
    "    - standard: create new repo, set URL, public/private, etc\n",
    "2. Initialize git in local directory\n",
    "    - from terminal:\n",
    "        - navigate to appropriate directory\n",
    "        - run: `git init`\n",
    "3. Link directory to GitHub:\n",
    "    - from terminal: \n",
    "        - run: `git remote add origin SSH-URL`\n",
    "            (NOT the github URL like it says on many places)\n",
    "\n",
    "And now you can add files, commit, and push."
   ]
  },
  {
   "cell_type": "markdown",
   "id": "095f1f84",
   "metadata": {},
   "source": [
    "#### \"Remote origin already exists\" error\n",
    "- Remove the remote origin: `git remote remove origin`\n",
    "- Add again: `git remote add origin SSH-URL`\n",
    "\n",
    "OR\n",
    "- Just change the URL: `git remote set-url REMOTE-NAME NEW-URL` (remote name is usually 'origin')"
   ]
  },
  {
   "cell_type": "markdown",
   "id": "1e5b7f3c",
   "metadata": {},
   "source": [
    "## Connect repo to local directory\n",
    "when you have the github repo created and want to connect to local"
   ]
  },
  {
   "cell_type": "code",
   "execution_count": null,
   "id": "0679ff12",
   "metadata": {},
   "outputs": [],
   "source": [
    "# all in one command?? the one that github gives you\n",
    "\n",
    "echo \"# analysis-HR_data\" >> README.md\n",
    "git init\n",
    "git add README.md\n",
    "git commit -m \"first commit\"\n",
    "git branch -M main\n",
    "git remote add origin git@github.com:tjyana/analysis-HR_data.git\n",
    "git push -u origin main"
   ]
  },
  {
   "cell_type": "code",
   "execution_count": null,
   "id": "a31d2034",
   "metadata": {},
   "outputs": [],
   "source": [
    "\n",
    "\n"
   ]
  },
  {
   "cell_type": "markdown",
   "id": "68ba10d1",
   "metadata": {},
   "source": [
    "# Pushing\n"
   ]
  },
  {
   "cell_type": "markdown",
   "id": "0d101586",
   "metadata": {},
   "source": [
    "## standard push\n",
    "`\n",
    "git add FILENAME\n",
    "git commit -m 'MESSAGE'\n",
    "git push origin BRANCHNAME\n",
    "`"
   ]
  },
  {
   "cell_type": "markdown",
   "id": "809f96f9",
   "metadata": {},
   "source": [
    "## adding all files at once\n",
    "`\n",
    "git add .\n",
    "`\n",
    "- stages modifications and new files in current directory and subdirectories\n",
    "- does not stage deletions"
   ]
  },
  {
   "cell_type": "markdown",
   "id": "9e1dcd68",
   "metadata": {},
   "source": [
    "## shortcut \n",
    "`\n",
    "git commit -am 'MESSAGE'\n",
    "`\n",
    "- can stage AND commit all modified and deleted files, and then add a comment\n",
    "- if you need to add a longer more detailed comment, use `git commit -a` to open the text editor for commit message"
   ]
  },
  {
   "cell_type": "markdown",
   "id": "0cd1bc2c",
   "metadata": {},
   "source": [
    "# Pulling"
   ]
  },
  {
   "cell_type": "markdown",
   "id": "6d3e69e0",
   "metadata": {},
   "source": [
    "`git pull REMOTE BRANCH`"
   ]
  },
  {
   "cell_type": "markdown",
   "id": "8f42dfce",
   "metadata": {},
   "source": []
  },
  {
   "cell_type": "markdown",
   "id": "bb2925fa",
   "metadata": {},
   "source": []
  },
  {
   "cell_type": "markdown",
   "id": "e0c9cdbf",
   "metadata": {},
   "source": []
  },
  {
   "cell_type": "markdown",
   "id": "dc6b52b1",
   "metadata": {},
   "source": [
    "## Undoing stuff"
   ]
  },
  {
   "cell_type": "markdown",
   "id": "a4bf1a5a",
   "metadata": {},
   "source": [
    "#### discard changes\n",
    "`git restore FILENAME`\n",
    "discard changes, before you git add it"
   ]
  },
  {
   "cell_type": "markdown",
   "id": "17c924e1",
   "metadata": {},
   "source": [
    "#### unstage something \n",
    "`git restore --staged FILENAME`\n",
    "take it back after you git add it"
   ]
  },
  {
   "cell_type": "code",
   "execution_count": null,
   "id": "fe4eafce",
   "metadata": {},
   "outputs": [],
   "source": []
  },
  {
   "cell_type": "code",
   "execution_count": null,
   "id": "51df1abe",
   "metadata": {},
   "outputs": [],
   "source": []
  },
  {
   "cell_type": "code",
   "execution_count": null,
   "id": "58349323",
   "metadata": {},
   "outputs": [],
   "source": []
  },
  {
   "cell_type": "markdown",
   "id": "026a315f",
   "metadata": {},
   "source": [
    "## Creating a new branch"
   ]
  },
  {
   "cell_type": "markdown",
   "id": "cadbaa8b",
   "metadata": {},
   "source": [
    "### From existing one"
   ]
  },
  {
   "cell_type": "markdown",
   "id": "8edbccc4",
   "metadata": {},
   "source": [
    "#### Creating:\n",
    "you can do it from the repo page on github"
   ]
  },
  {
   "cell_type": "markdown",
   "id": "f8ce8cad",
   "metadata": {},
   "source": [
    "After creating:\n",
    "- you need to get the new branch from github. do this with:\n",
    "\n",
    "`git fetch` \n",
    "\n",
    "And now you can switch to it with `git switch BRANCHNAME`"
   ]
  },
  {
   "cell_type": "code",
   "execution_count": null,
   "id": "755909a1",
   "metadata": {},
   "outputs": [],
   "source": []
  },
  {
   "cell_type": "code",
   "execution_count": null,
   "id": "0f6f417c",
   "metadata": {},
   "outputs": [],
   "source": []
  },
  {
   "cell_type": "code",
   "execution_count": null,
   "id": "49191409",
   "metadata": {},
   "outputs": [],
   "source": []
  },
  {
   "cell_type": "code",
   "execution_count": null,
   "id": "56ac2022",
   "metadata": {},
   "outputs": [],
   "source": []
  },
  {
   "cell_type": "code",
   "execution_count": null,
   "id": "c8ba001d",
   "metadata": {},
   "outputs": [],
   "source": []
  },
  {
   "cell_type": "markdown",
   "id": "f6c71b02",
   "metadata": {},
   "source": [
    "## Random commands (sort later?)\n",
    "- `git remote`: list the remotes available\n",
    "- `git remote -v`: list the URLs of the remotes available\n",
    "- `git pull`: pull the updates from the repo\n",
    "- `git status`: what changed\n",
    "- `git log`: log of the commits\n"
   ]
  },
  {
   "cell_type": "code",
   "execution_count": null,
   "id": "475c037f",
   "metadata": {},
   "outputs": [],
   "source": [
    "git branch -m master main\n",
    "rename the 'master' branch to 'main'"
   ]
  },
  {
   "cell_type": "code",
   "execution_count": null,
   "id": "2ad11fb8",
   "metadata": {},
   "outputs": [],
   "source": [
    "git reset\n",
    "undo add for all files"
   ]
  },
  {
   "cell_type": "code",
   "execution_count": null,
   "id": "fa48830d",
   "metadata": {},
   "outputs": [],
   "source": []
  },
  {
   "cell_type": "code",
   "execution_count": null,
   "id": "0f90c860",
   "metadata": {},
   "outputs": [],
   "source": [
    " ! [rejected]        main -> main (non-fast-forward)\n",
    "error: failed to push some refs to 'github.com:tjyana/tell-me-what-to-eat.git'\n",
    "hint: Updates were rejected because the tip of your current branch is behind\n",
    "hint: its remote counterpart. Integrate the remote changes (e.g.\n",
    "hint: 'git pull ...') before pushing again.\n",
    "hint: See the 'Note about fast-forwards' in 'git push --help' for details."
   ]
  },
  {
   "cell_type": "code",
   "execution_count": null,
   "id": "bba680d2",
   "metadata": {},
   "outputs": [],
   "source": [
    "#for above error, you can force past with:\n",
    "git merge origin/main --allow-unrelated-histories"
   ]
  }
 ],
 "metadata": {
  "kernelspec": {
   "display_name": "Python 3 (ipykernel)",
   "language": "python",
   "name": "python3"
  },
  "language_info": {
   "codemirror_mode": {
    "name": "ipython",
    "version": 3
   },
   "file_extension": ".py",
   "mimetype": "text/x-python",
   "name": "python",
   "nbconvert_exporter": "python",
   "pygments_lexer": "ipython3",
   "version": "3.10.6"
  },
  "toc": {
   "base_numbering": 1,
   "nav_menu": {},
   "number_sections": true,
   "sideBar": true,
   "skip_h1_title": false,
   "title_cell": "Table of Contents",
   "title_sidebar": "Contents",
   "toc_cell": false,
   "toc_position": {},
   "toc_section_display": true,
   "toc_window_display": false
  }
 },
 "nbformat": 4,
 "nbformat_minor": 5
}
