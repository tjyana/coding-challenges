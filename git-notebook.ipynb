{
 "cells": [
  {
   "cell_type": "markdown",
   "id": "f7f27869",
   "metadata": {},
   "source": [
    "# Git commands\n",
    "(all markdown)"
   ]
  },
  {
   "cell_type": "markdown",
   "id": "97060d4a",
   "metadata": {},
   "source": [
    "## pushing"
   ]
  },
  {
   "cell_type": "markdown",
   "id": "3ba49f2a",
   "metadata": {},
   "source": [
    "##### standard push\n",
    "```bash\n",
    "git add FILENAME\n",
    "git commit -m 'MESSAGE'\n",
    "git push origin BRANCHNAME\n",
    "```"
   ]
  },
  {
   "cell_type": "markdown",
   "id": "0fe2a5b5",
   "metadata": {},
   "source": [
    "##### adding all files at once\n",
    "```bash\n",
    "git add .\n",
    "```"
   ]
  },
  {
   "cell_type": "markdown",
   "id": "13b042bc",
   "metadata": {},
   "source": [
    "## Fork a repo"
   ]
  },
  {
   "cell_type": "markdown",
   "id": "8d1c0ffb",
   "metadata": {},
   "source": [
    "```bash\n",
    "git clone https://github.com/YOUR-USERNAME/YOUR-REPOSITORY\n",
    "```"
   ]
  },
  {
   "cell_type": "markdown",
   "id": "ff1d2a30",
   "metadata": {},
   "source": [
    "## Clone a repo"
   ]
  },
  {
   "cell_type": "markdown",
   "id": "eab5c29c",
   "metadata": {},
   "source": [
    "`git clone "
   ]
  },
  {
   "cell_type": "markdown",
   "id": "4c7b9cbc",
   "metadata": {},
   "source": [
    "## Connect local directory to repo"
   ]
  },
  {
   "cell_type": "markdown",
   "id": "61b32ce0",
   "metadata": {},
   "source": [
    "1. Create GitHub repo\n",
    "    - standard: create new repo, set URL, public/private, etc\n",
    "2. Initialize git in local directory\n",
    "    - from CLI:\n",
    "        - navigate to appropriate directory\n",
    "        - run: `git init`\n",
    "3. Link directory to GitHub:\n",
    "    - from CLI: \n",
    "        - run: `git remote add origin SSH-URL`\n",
    "            (NOT the github URL like it says on many places)\n",
    "\n",
    "And now you can add files, commit, and push."
   ]
  },
  {
   "cell_type": "markdown",
   "id": "e1168683",
   "metadata": {},
   "source": [
    "#### \"Remote origin already exists\" error\n",
    "- Remove the remote origin: `git remote remove origin`\n",
    "- Add again: `git remote add origin SSH-URL`\n",
    "\n",
    "OR\n",
    "- Just change the URL: `git remote set-url REMOTE-NAME NEW-URL` (remote name is usually 'origin')"
   ]
  },
  {
   "cell_type": "markdown",
   "id": "10d3970f",
   "metadata": {},
   "source": [
    "## Random commands (sort later?)\n",
    "- `git remote`: list the remotes available\n",
    "- `git remote -v`: list the URLs of the remotes available\n",
    "- `git \n"
   ]
  },
  {
   "cell_type": "code",
   "execution_count": null,
   "id": "932ae9ca",
   "metadata": {},
   "outputs": [],
   "source": []
  }
 ],
 "metadata": {
  "kernelspec": {
   "display_name": "Python 3 (ipykernel)",
   "language": "python",
   "name": "python3"
  },
  "language_info": {
   "codemirror_mode": {
    "name": "ipython",
    "version": 3
   },
   "file_extension": ".py",
   "mimetype": "text/x-python",
   "name": "python",
   "nbconvert_exporter": "python",
   "pygments_lexer": "ipython3",
   "version": "3.10.6"
  },
  "toc": {
   "base_numbering": 1,
   "nav_menu": {},
   "number_sections": true,
   "sideBar": true,
   "skip_h1_title": false,
   "title_cell": "Table of Contents",
   "title_sidebar": "Contents",
   "toc_cell": false,
   "toc_position": {},
   "toc_section_display": true,
   "toc_window_display": false
  }
 },
 "nbformat": 4,
 "nbformat_minor": 5
}
