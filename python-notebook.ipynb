{
 "cells": [
  {
   "cell_type": "markdown",
   "id": "ad9f28df",
   "metadata": {},
   "source": [
    "this will be used as main python note-taking resource!!! (better than notion which can't run code)\n",
    "to-dos:\n",
    "- decide how to section it out\n",
    "- decide on format for each section \n",
    "- reorganize everything and clean it up"
   ]
  },
  {
   "cell_type": "markdown",
   "id": "442d68ed",
   "metadata": {},
   "source": [
    "# Testing"
   ]
  },
  {
   "cell_type": "code",
   "execution_count": 59,
   "id": "26875e43",
   "metadata": {},
   "outputs": [
    {
     "name": "stdout",
     "output_type": "stream",
     "text": [
      "['as;dlfkj', 'asdfadsf', 'asdfasdf', 'asdfas', 'ad']\n",
      "as;dlfkj\n"
     ]
    },
    {
     "data": {
      "text/plain": [
       "8"
      ]
     },
     "execution_count": 59,
     "metadata": {},
     "output_type": "execute_result"
    }
   ],
   "source": [
    "# strategic print statements\n",
    "def find_short(s):\n",
    "    stringlist = s.split()\n",
    "    print(stringlist)\n",
    "    shortest = 'aaaaaaaaa'\n",
    "    \n",
    "    for word in stringlist:\n",
    "        if len(word) < len(shortest):\n",
    "            shortest = word\n",
    "            print(shortest)\n",
    "        return len(shortest)\n",
    "\n",
    "find_short('as;dlfkj asdfadsf asdfasdf asdfas ad')\n",
    "\n",
    "\n"
   ]
  },
  {
   "cell_type": "code",
   "execution_count": 1,
   "id": "90011be3",
   "metadata": {},
   "outputs": [
    {
     "name": "stdout",
     "output_type": "stream",
     "text": [
      "hello world\n"
     ]
    }
   ],
   "source": [
    "print(\"hello world\")"
   ]
  },
  {
   "cell_type": "code",
   "execution_count": 2,
   "id": "44334b23",
   "metadata": {},
   "outputs": [
    {
     "ename": "SyntaxError",
     "evalue": "Missing parentheses in call to 'print'. Did you mean print(...)? (3923495743.py, line 1)",
     "output_type": "error",
     "traceback": [
      "\u001b[0;36m  Cell \u001b[0;32mIn [2], line 1\u001b[0;36m\u001b[0m\n\u001b[0;31m    print \"hello world\"\u001b[0m\n\u001b[0m    ^\u001b[0m\n\u001b[0;31mSyntaxError\u001b[0m\u001b[0;31m:\u001b[0m Missing parentheses in call to 'print'. Did you mean print(...)?\n"
     ]
    }
   ],
   "source": []
  },
  {
   "cell_type": "code",
   "execution_count": null,
   "id": "9a757285",
   "metadata": {},
   "outputs": [],
   "source": []
  },
  {
   "cell_type": "code",
   "execution_count": null,
   "id": "3e43c2b0",
   "metadata": {},
   "outputs": [],
   "source": []
  },
  {
   "cell_type": "markdown",
   "id": "110c3f01",
   "metadata": {},
   "source": [
    "   # Math\n",
    "    "
   ]
  },
  {
   "cell_type": "code",
   "execution_count": 49,
   "id": "72493af8",
   "metadata": {},
   "outputs": [
    {
     "data": {
      "text/plain": [
       "2"
      ]
     },
     "execution_count": 49,
     "metadata": {},
     "output_type": "execute_result"
    }
   ],
   "source": [
    "# modelo\n",
    "8 % 3"
   ]
  },
  {
   "cell_type": "code",
   "execution_count": null,
   "id": "dcee5317",
   "metadata": {},
   "outputs": [],
   "source": [
    "# check for perfect squares\n",
    "n*0.5 % 1 #???"
   ]
  },
  {
   "cell_type": "code",
   "execution_count": 54,
   "id": "ddf6be79",
   "metadata": {},
   "outputs": [
    {
     "ename": "SyntaxError",
     "evalue": "'return' outside function (1385157165.py, line 7)",
     "output_type": "error",
     "traceback": [
      "\u001b[0;36m  Cell \u001b[0;32mIn [54], line 7\u001b[0;36m\u001b[0m\n\u001b[0;31m    return longest\u001b[0m\n\u001b[0m    ^\u001b[0m\n\u001b[0;31mSyntaxError\u001b[0m\u001b[0;31m:\u001b[0m 'return' outside function\n"
     ]
    }
   ],
   "source": [
    "string = \"bitcoin take over the world maybe who knows perhaps\"\n",
    "stringlist = string.split()\n",
    "longest = ''\n",
    "\n",
    "for n in stringlist:\n",
    "    if len(stringlist[n]) < len(stringlist[n+1]):\n",
    "        longest = stringlist[n+1]\n",
    "    return longest"
   ]
  },
  {
   "cell_type": "code",
   "execution_count": null,
   "id": "b2d490a3",
   "metadata": {},
   "outputs": [],
   "source": []
  },
  {
   "cell_type": "code",
   "execution_count": null,
   "id": "ad4bd4a7",
   "metadata": {},
   "outputs": [],
   "source": []
  },
  {
   "cell_type": "code",
   "execution_count": null,
   "id": "778e9a83",
   "metadata": {},
   "outputs": [],
   "source": []
  },
  {
   "cell_type": "markdown",
   "id": "52a970df",
   "metadata": {},
   "source": [
    "## Strings"
   ]
  },
  {
   "cell_type": "code",
   "execution_count": 47,
   "id": "a75b7ad8",
   "metadata": {},
   "outputs": [
    {
     "data": {
      "text/plain": [
       "'xyaabbbccccdefwwxxxxyyyyabklmopq'"
      ]
     },
     "execution_count": 47,
     "metadata": {},
     "output_type": "execute_result"
    }
   ],
   "source": [
    "# concactenation \n",
    "a = \"xyaabbbccccdefww\"\n",
    "b = \"xxxxyyyyabklmopq\"\n",
    "a+b"
   ]
  },
  {
   "cell_type": "code",
   "execution_count": 48,
   "id": "6df375a7",
   "metadata": {},
   "outputs": [
    {
     "data": {
      "text/plain": [
       "'y'"
      ]
     },
     "execution_count": 48,
     "metadata": {},
     "output_type": "execute_result"
    }
   ],
   "source": [
    "# indexing\n",
    "a[1]"
   ]
  },
  {
   "cell_type": "markdown",
   "id": "8cf10c4e",
   "metadata": {},
   "source": [
    "#### formatting"
   ]
  },
  {
   "cell_type": "code",
   "execution_count": 42,
   "id": "f3316266",
   "metadata": {},
   "outputs": [
    {
     "data": {
      "text/plain": [
       "'Xyaabbbccccdefww'"
      ]
     },
     "execution_count": 42,
     "metadata": {},
     "output_type": "execute_result"
    }
   ],
   "source": [
    "# capitalize\n",
    "a.capitalize()"
   ]
  },
  {
   "cell_type": "code",
   "execution_count": 41,
   "id": "8faa164f",
   "metadata": {},
   "outputs": [
    {
     "data": {
      "text/plain": [
       "'Xyaabbbccccdefww'"
      ]
     },
     "execution_count": 41,
     "metadata": {},
     "output_type": "execute_result"
    }
   ],
   "source": [
    "# another way: title\n",
    "a.title()"
   ]
  },
  {
   "cell_type": "code",
   "execution_count": 44,
   "id": "18d52734",
   "metadata": {},
   "outputs": [
    {
     "data": {
      "text/plain": [
       "'E'"
      ]
     },
     "execution_count": 44,
     "metadata": {},
     "output_type": "execute_result"
    }
   ],
   "source": [
    "# wave problem\n",
    "example_string = 'hello'\n",
    "\n",
    "# indexing\n",
    "example_string[1]\n",
    "\n",
    "# capitalize\n",
    "example_string[1].capitalize()\n",
    "\n",
    "# joining\n",
    "''.join(example_string[1].capitalize())\n"
   ]
  },
  {
   "cell_type": "code",
   "execution_count": 64,
   "id": "217a7e9b",
   "metadata": {},
   "outputs": [
    {
     "ename": "TypeError",
     "evalue": "object of type 'int' has no len()",
     "output_type": "error",
     "traceback": [
      "\u001b[0;31m---------------------------------------------------------------------------\u001b[0m",
      "\u001b[0;31mTypeError\u001b[0m                                 Traceback (most recent call last)",
      "Cell \u001b[0;32mIn [64], line 2\u001b[0m\n\u001b[1;32m      1\u001b[0m blah \u001b[38;5;241m=\u001b[39m \u001b[38;5;241m54\u001b[39m\n\u001b[0;32m----> 2\u001b[0m \u001b[38;5;28;43mlen\u001b[39;49m\u001b[43m(\u001b[49m\u001b[43mblah\u001b[49m\u001b[43m)\u001b[49m\n",
      "\u001b[0;31mTypeError\u001b[0m: object of type 'int' has no len()"
     ]
    }
   ],
   "source": [
    "blah = 54\n",
    "len(blah)"
   ]
  },
  {
   "cell_type": "code",
   "execution_count": null,
   "id": "9d4e05ee",
   "metadata": {},
   "outputs": [],
   "source": []
  },
  {
   "cell_type": "code",
   "execution_count": 9,
   "id": "cdd11c2d",
   "metadata": {},
   "outputs": [
    {
     "data": {
      "text/plain": [
       "'aabbbccccdefwwxy'"
      ]
     },
     "execution_count": 9,
     "metadata": {},
     "output_type": "execute_result"
    }
   ],
   "source": [
    "# sorting. sort and join\n",
    "\n",
    "a = \"xyaabbbccccdefww\"\n",
    "a_new = ''.join(sorted(a))\n",
    "a_new"
   ]
  },
  {
   "cell_type": "code",
   "execution_count": 17,
   "id": "8984b008",
   "metadata": {},
   "outputs": [
    {
     "data": {
      "text/plain": [
       "['a',\n",
       " 'a',\n",
       " 'b',\n",
       " 'b',\n",
       " 'b',\n",
       " 'c',\n",
       " 'c',\n",
       " 'c',\n",
       " 'c',\n",
       " 'd',\n",
       " 'e',\n",
       " 'f',\n",
       " 'w',\n",
       " 'w',\n",
       " 'x',\n",
       " 'y']"
      ]
     },
     "execution_count": 17,
     "metadata": {},
     "output_type": "execute_result"
    }
   ],
   "source": [
    "# sorted. turns it into a list?\n",
    "\n",
    "sorted(a)"
   ]
  },
  {
   "cell_type": "markdown",
   "id": "2919b415",
   "metadata": {},
   "source": [
    "#### Sets"
   ]
  },
  {
   "cell_type": "code",
   "execution_count": 13,
   "id": "6295508e",
   "metadata": {},
   "outputs": [
    {
     "data": {
      "text/plain": [
       "{'a', 'b', 'c', 'd', 'e', 'f', 'w', 'x', 'y'}"
      ]
     },
     "execution_count": 13,
     "metadata": {},
     "output_type": "execute_result"
    }
   ],
   "source": [
    "# unique values in a string = SET\n",
    "\n",
    "a = \"xyaabbbccccdefww\"\n",
    "b = \"xxxxyyyyabklmopq\"\n",
    "set(a)"
   ]
  },
  {
   "cell_type": "code",
   "execution_count": 20,
   "id": "ecf5af9b",
   "metadata": {},
   "outputs": [
    {
     "data": {
      "text/plain": [
       "['a', 'b', 'c', 'd', 'e', 'f', 'w', 'x', 'y']"
      ]
     },
     "execution_count": 20,
     "metadata": {},
     "output_type": "execute_result"
    }
   ],
   "source": [
    "# sorting (list???)\n",
    "sorted(set(a))"
   ]
  },
  {
   "cell_type": "code",
   "execution_count": 25,
   "id": "8200ccf8",
   "metadata": {},
   "outputs": [
    {
     "data": {
      "text/plain": [
       "'abcdefwxy'"
      ]
     },
     "execution_count": 25,
     "metadata": {},
     "output_type": "execute_result"
    }
   ],
   "source": [
    "# sort and join (back to string)\n",
    "a_sorted_unique = ''.join(sorted(set(a)))\n",
    "a_sorted_unique"
   ]
  },
  {
   "cell_type": "code",
   "execution_count": 27,
   "id": "43708459",
   "metadata": {},
   "outputs": [
    {
     "data": {
      "text/plain": [
       "'xyaabbbccccdefwwxxxxyyyyabklmopq'"
      ]
     },
     "execution_count": 27,
     "metadata": {},
     "output_type": "execute_result"
    }
   ],
   "source": [
    "def longest(a1, a2):\n",
    "    # merge strings\n",
    "    # return unique values, sorted\n",
    "    return ''.join(sorted(set(a1+a2)))"
   ]
  },
  {
   "cell_type": "markdown",
   "id": "a249a25d",
   "metadata": {},
   "source": [
    "## Lists"
   ]
  },
  {
   "cell_type": "markdown",
   "id": "f10dcca0",
   "metadata": {},
   "source": [
    "### Methods\n",
    "remember that list methods will run the method on the list and save it (most of the time) but won't print it out"
   ]
  },
  {
   "cell_type": "code",
   "execution_count": 7,
   "id": "fb670bb9",
   "metadata": {},
   "outputs": [
    {
     "data": {
      "text/plain": [
       "['apple', 'orange', 'banana', 'cherry']"
      ]
     },
     "execution_count": 7,
     "metadata": {},
     "output_type": "execute_result"
    }
   ],
   "source": [
    "# inserting stuff\n",
    "# .insert(INDEX, VALUE)\n",
    "\n",
    "thislist = [\"apple\", \"banana\", \"cherry\"]\n",
    "thislist.insert(1, \"orange\")\n",
    "thislist"
   ]
  },
  {
   "cell_type": "code",
   "execution_count": 8,
   "id": "75001b6f",
   "metadata": {},
   "outputs": [
    {
     "data": {
      "text/plain": [
       "['apple', 'banana', 'cherry', 'orange']"
      ]
     },
     "execution_count": 8,
     "metadata": {},
     "output_type": "execute_result"
    }
   ],
   "source": [
    "# adding stuff to the end\n",
    "# .append(VALUE)\n",
    "\n",
    "thislist = [\"apple\", \"banana\", \"cherry\"]\n",
    "thislist.append(\"orange\")\n",
    "thislist"
   ]
  },
  {
   "cell_type": "code",
   "execution_count": 9,
   "id": "e28c39fd",
   "metadata": {},
   "outputs": [
    {
     "data": {
      "text/plain": [
       "['cherry', 'banana', 'apple']"
      ]
     },
     "execution_count": 9,
     "metadata": {},
     "output_type": "execute_result"
    }
   ],
   "source": [
    "# reversing\n",
    "# LIST.reverse() \n",
    "\n",
    "thislist = [\"apple\", \"banana\", \"cherry\"]\n",
    "thislist.reverse()\n",
    "thislist"
   ]
  },
  {
   "cell_type": "code",
   "execution_count": null,
   "id": "88c25016",
   "metadata": {},
   "outputs": [],
   "source": [
    "# removing\n",
    "# .remove(VALUE)\n",
    "\n"
   ]
  },
  {
   "cell_type": "markdown",
   "id": "0044b58c",
   "metadata": {},
   "source": [
    "### Indexing\n",
    "`my_list[start:end:step]`  # start is inclusive, end is exclusive"
   ]
  },
  {
   "cell_type": "code",
   "execution_count": 11,
   "id": "2ddc92fd",
   "metadata": {},
   "outputs": [
    {
     "data": {
      "text/plain": [
       "['bbb', 'ccc', 'ddd']"
      ]
     },
     "execution_count": 11,
     "metadata": {},
     "output_type": "execute_result"
    }
   ],
   "source": [
    "my_list = ['aaa', 'bbb', 'ccc', 'ddd']\n",
    "my_list[1:]"
   ]
  },
  {
   "cell_type": "code",
   "execution_count": 12,
   "id": "29769d06",
   "metadata": {},
   "outputs": [
    {
     "data": {
      "text/plain": [
       "['aaa', 'bbb', 'ccc']"
      ]
     },
     "execution_count": 12,
     "metadata": {},
     "output_type": "execute_result"
    }
   ],
   "source": [
    "# end before last one\n",
    "my_list[:-1] "
   ]
  },
  {
   "cell_type": "code",
   "execution_count": 13,
   "id": "e775fef1",
   "metadata": {},
   "outputs": [
    {
     "data": {
      "text/plain": [
       "['ccc', 'ddd']"
      ]
     },
     "execution_count": 13,
     "metadata": {},
     "output_type": "execute_result"
    }
   ],
   "source": [
    "# start at second to last one \n",
    "my_list[-2:]"
   ]
  },
  {
   "cell_type": "code",
   "execution_count": 1,
   "id": "dfa5971e",
   "metadata": {},
   "outputs": [
    {
     "data": {
      "text/plain": [
       "['aaa', 'ccc']"
      ]
     },
     "execution_count": 1,
     "metadata": {},
     "output_type": "execute_result"
    }
   ],
   "source": [
    "# step size\n",
    "'''return every second element'''\n",
    "\n",
    "my_list = ['aaa', 'bbb', 'ccc', 'ddd']\n",
    "with_steps = my_list[0::2]\n",
    "with_steps"
   ]
  },
  {
   "cell_type": "code",
   "execution_count": null,
   "id": "a01e4755",
   "metadata": {},
   "outputs": [],
   "source": [
    "# conditions\n",
    "\n",
    "'''find next square root'''\n",
    "\n",
    "import math\n",
    "\n",
    "def find_next_square(sq):\n",
    "    # Return the next square if sq is a square, -1 otherwise\n",
    "    square_root = math.sqrt(sq)\n",
    "    # if square root is an integer\n",
    "    if square_root % 1 == 0:\n",
    "        return (square_root + 1) ** 2\n",
    "    # if argument is not a perf sq, return, -1, None, or null\n",
    "    else:\n",
    "        return -1"
   ]
  },
  {
   "cell_type": "markdown",
   "id": "cf4d41f5",
   "metadata": {},
   "source": [
    "remove the geese from birds list"
   ]
  },
  {
   "cell_type": "code",
   "execution_count": null,
   "id": "cf119abd",
   "metadata": {},
   "outputs": [],
   "source": [
    "# comparing lists and filtering\n",
    "\n",
    "geese = [\"African\", \"Roman Tufted\", \"Toulouse\", \"Pilgrim\", \"Steinbacher\"]\n",
    "birds =  [\"Mallard\", \"Hook Bill\", \"African\", \"Crested\", \"Pilgrim\", \"Toulouse\", \"Blue Swedish\"]\n",
    "\n",
    "# remove the geese from birds list\n",
    "\n",
    "# old school loop\n",
    "def goose_filter(birds):\n",
    "    final = []\n",
    "    for bird in birds:\n",
    "        if bird not in geese:\n",
    "            final.append(bird)\n",
    "    return final    "
   ]
  },
  {
   "cell_type": "code",
   "execution_count": 61,
   "id": "e1c392fb",
   "metadata": {},
   "outputs": [
    {
     "data": {
      "text/plain": [
       "['Mallard', 'Hook Bill', 'Crested', 'Blue Swedish']"
      ]
     },
     "execution_count": 61,
     "metadata": {},
     "output_type": "execute_result"
    }
   ],
   "source": [
    "# LIST COMP\n",
    "def goose_filter(birds):\n",
    "    return [bird for bird in birds if bird not in geese]\n",
    "\n",
    "goose_filter(birds)"
   ]
  },
  {
   "cell_type": "markdown",
   "id": "9a99e182",
   "metadata": {},
   "source": [
    "label index of each list item:"
   ]
  },
  {
   "cell_type": "code",
   "execution_count": 62,
   "id": "b82932fe",
   "metadata": {},
   "outputs": [],
   "source": [
    "# for i in range(len(arr)):\n",
    "# then compare arr[i] to arr[i+1] or whatever"
   ]
  },
  {
   "cell_type": "code",
   "execution_count": null,
   "id": "77d9a82b",
   "metadata": {},
   "outputs": [],
   "source": []
  },
  {
   "cell_type": "code",
   "execution_count": null,
   "id": "9e08e28e",
   "metadata": {},
   "outputs": [],
   "source": []
  },
  {
   "cell_type": "code",
   "execution_count": null,
   "id": "06252eff",
   "metadata": {},
   "outputs": [],
   "source": [
    "# list comprehension\n",
    "''' invert positives to negatives, negatives to positives'''\n",
    "def invert(lst):\n",
    "    return [-x for x in lst]"
   ]
  },
  {
   "cell_type": "code",
   "execution_count": null,
   "id": "4b247232",
   "metadata": {},
   "outputs": [],
   "source": []
  },
  {
   "cell_type": "code",
   "execution_count": null,
   "id": "bdd5f3ca",
   "metadata": {},
   "outputs": [],
   "source": []
  },
  {
   "cell_type": "code",
   "execution_count": null,
   "id": "384835e6",
   "metadata": {},
   "outputs": [],
   "source": []
  },
  {
   "cell_type": "code",
   "execution_count": null,
   "id": "280a73ef",
   "metadata": {},
   "outputs": [],
   "source": []
  },
  {
   "cell_type": "code",
   "execution_count": null,
   "id": "1c808b16",
   "metadata": {},
   "outputs": [],
   "source": []
  },
  {
   "cell_type": "markdown",
   "id": "cf351baf",
   "metadata": {},
   "source": [
    "## Dictionaries\n",
    "`person = {\"name\": \"Alice\", \"age\": 30, \"city\": \"London\"}`\n"
   ]
  },
  {
   "cell_type": "code",
   "execution_count": 14,
   "id": "1a1a49e7",
   "metadata": {},
   "outputs": [
    {
     "data": {
      "text/plain": [
       "'Alice'"
      ]
     },
     "execution_count": 14,
     "metadata": {},
     "output_type": "execute_result"
    }
   ],
   "source": [
    "person = {\"name\": \"Alice\", \"age\": 30, \"city\": \"London\"}\n",
    "\n",
    "# calling a value using a key\n",
    "person['name']"
   ]
  },
  {
   "cell_type": "code",
   "execution_count": 15,
   "id": "a79bc5e5",
   "metadata": {},
   "outputs": [
    {
     "data": {
      "text/plain": [
       "{'name': 'Alice', 'age': 30, 'city': 'London', 'occupation': 'Programmer'}"
      ]
     },
     "execution_count": 15,
     "metadata": {},
     "output_type": "execute_result"
    }
   ],
   "source": [
    "# Adding a new key-value pair\n",
    "person[\"occupation\"] = \"Programmer\"  \n",
    "person"
   ]
  },
  {
   "cell_type": "code",
   "execution_count": 6,
   "id": "e2b3b736",
   "metadata": {},
   "outputs": [],
   "source": [
    "# indexing\n",
    "'''return the answer for how many petals'''\n",
    "\n",
    "def how_much_i_love_you(nb_petals):\n",
    "    return [\"I love you\", \"a little\", \"a lot\", \"passionately\", \"madly\", \"not at all\"][nb_petals % 6 - 1]"
   ]
  },
  {
   "cell_type": "code",
   "execution_count": null,
   "id": "2a94301c",
   "metadata": {},
   "outputs": [],
   "source": []
  },
  {
   "cell_type": "code",
   "execution_count": null,
   "id": "b4cd9417",
   "metadata": {},
   "outputs": [],
   "source": []
  },
  {
   "cell_type": "code",
   "execution_count": null,
   "id": "4d9e65b4",
   "metadata": {},
   "outputs": [],
   "source": []
  },
  {
   "cell_type": "code",
   "execution_count": null,
   "id": "3b107c64",
   "metadata": {},
   "outputs": [],
   "source": []
  },
  {
   "cell_type": "code",
   "execution_count": null,
   "id": "42175173",
   "metadata": {},
   "outputs": [],
   "source": []
  },
  {
   "cell_type": "code",
   "execution_count": null,
   "id": "e09bbd9c",
   "metadata": {},
   "outputs": [],
   "source": []
  },
  {
   "cell_type": "markdown",
   "id": "473edfb5",
   "metadata": {},
   "source": [
    "## Loops"
   ]
  },
  {
   "cell_type": "code",
   "execution_count": null,
   "id": "50f2adce",
   "metadata": {},
   "outputs": [],
   "source": [
    "# count vowels in a string\n",
    "\n",
    "def get_count(sentence):\n",
    "    vowels = 'aeiou'\n",
    "    count = 0\n",
    "    for letter in sentence:\n",
    "        if letter in vowels:\n",
    "            count += 1 \n",
    "    return count"
   ]
  }
 ],
 "metadata": {
  "kernelspec": {
   "display_name": "Python 3 (ipykernel)",
   "language": "python",
   "name": "python3"
  },
  "language_info": {
   "codemirror_mode": {
    "name": "ipython",
    "version": 3
   },
   "file_extension": ".py",
   "mimetype": "text/x-python",
   "name": "python",
   "nbconvert_exporter": "python",
   "pygments_lexer": "ipython3",
   "version": "3.10.6"
  },
  "toc": {
   "base_numbering": 1,
   "nav_menu": {},
   "number_sections": true,
   "sideBar": true,
   "skip_h1_title": false,
   "title_cell": "Table of Contents",
   "title_sidebar": "Contents",
   "toc_cell": false,
   "toc_position": {},
   "toc_section_display": true,
   "toc_window_display": false
  }
 },
 "nbformat": 4,
 "nbformat_minor": 5
}
