{
 "cells": [
  {
   "cell_type": "markdown",
   "id": "3c90a8c1",
   "metadata": {},
   "source": [
    "this will be used as main python note-taking resource!!! (better than notion which can't run code)\n",
    "to-dos:\n",
    "- decide how to section it out\n",
    "- decide on format for each section \n",
    "- reorganize everything and clean it up"
   ]
  },
  {
   "cell_type": "markdown",
   "id": "442d68ed",
   "metadata": {},
   "source": [
    "# Testing"
   ]
  },
  {
   "cell_type": "code",
   "execution_count": 59,
   "id": "26875e43",
   "metadata": {},
   "outputs": [
    {
     "name": "stdout",
     "output_type": "stream",
     "text": [
      "['as;dlfkj', 'asdfadsf', 'asdfasdf', 'asdfas', 'ad']\n",
      "as;dlfkj\n"
     ]
    },
    {
     "data": {
      "text/plain": [
       "8"
      ]
     },
     "execution_count": 59,
     "metadata": {},
     "output_type": "execute_result"
    }
   ],
   "source": [
    "# strategic print statements\n",
    "def find_short(s):\n",
    "    stringlist = s.split()\n",
    "    print(stringlist)\n",
    "    shortest = 'aaaaaaaaa'\n",
    "    \n",
    "    for word in stringlist:\n",
    "        if len(word) < len(shortest):\n",
    "            shortest = word\n",
    "            print(shortest)\n",
    "        return len(shortest)\n",
    "\n",
    "find_short('as;dlfkj asdfadsf asdfasdf asdfas ad')\n",
    "\n",
    "\n"
   ]
  },
  {
   "cell_type": "code",
   "execution_count": 1,
   "id": "90011be3",
   "metadata": {},
   "outputs": [
    {
     "name": "stdout",
     "output_type": "stream",
     "text": [
      "hello world\n"
     ]
    }
   ],
   "source": [
    "print(\"hello world\")"
   ]
  },
  {
   "cell_type": "code",
   "execution_count": 2,
   "id": "44334b23",
   "metadata": {},
   "outputs": [
    {
     "ename": "SyntaxError",
     "evalue": "Missing parentheses in call to 'print'. Did you mean print(...)? (3923495743.py, line 1)",
     "output_type": "error",
     "traceback": [
      "\u001b[0;36m  Cell \u001b[0;32mIn [2], line 1\u001b[0;36m\u001b[0m\n\u001b[0;31m    print \"hello world\"\u001b[0m\n\u001b[0m    ^\u001b[0m\n\u001b[0;31mSyntaxError\u001b[0m\u001b[0;31m:\u001b[0m Missing parentheses in call to 'print'. Did you mean print(...)?\n"
     ]
    }
   ],
   "source": []
  },
  {
   "cell_type": "code",
   "execution_count": null,
   "id": "9a757285",
   "metadata": {},
   "outputs": [],
   "source": []
  },
  {
   "cell_type": "code",
   "execution_count": null,
   "id": "3e43c2b0",
   "metadata": {},
   "outputs": [],
   "source": []
  },
  {
   "cell_type": "markdown",
   "id": "110c3f01",
   "metadata": {},
   "source": [
    "# Math   "
   ]
  },
  {
   "cell_type": "code",
   "execution_count": 49,
   "id": "72493af8",
   "metadata": {},
   "outputs": [
    {
     "data": {
      "text/plain": [
       "2"
      ]
     },
     "execution_count": 49,
     "metadata": {},
     "output_type": "execute_result"
    }
   ],
   "source": [
    "# modelo\n",
    "8 % 3"
   ]
  },
  {
   "cell_type": "code",
   "execution_count": null,
   "id": "dcee5317",
   "metadata": {},
   "outputs": [],
   "source": [
    "# check for perfect squares\n",
    "n*0.5 % 1 #???"
   ]
  },
  {
   "cell_type": "code",
   "execution_count": 26,
   "id": "ddf6be79",
   "metadata": {},
   "outputs": [
    {
     "ename": "TypeError",
     "evalue": "list indices must be integers or slices, not str",
     "output_type": "error",
     "traceback": [
      "\u001b[0;31m---------------------------------------------------------------------------\u001b[0m",
      "\u001b[0;31mTypeError\u001b[0m                                 Traceback (most recent call last)",
      "Cell \u001b[0;32mIn [26], line 6\u001b[0m\n\u001b[1;32m      3\u001b[0m longest \u001b[38;5;241m=\u001b[39m \u001b[38;5;124m'\u001b[39m\u001b[38;5;124m'\u001b[39m\n\u001b[1;32m      5\u001b[0m \u001b[38;5;28;01mfor\u001b[39;00m n \u001b[38;5;129;01min\u001b[39;00m stringlist:\n\u001b[0;32m----> 6\u001b[0m     \u001b[38;5;28;01mif\u001b[39;00m \u001b[38;5;28mlen\u001b[39m(\u001b[43mstringlist\u001b[49m\u001b[43m[\u001b[49m\u001b[43mn\u001b[49m\u001b[43m]\u001b[49m) \u001b[38;5;241m<\u001b[39m \u001b[38;5;28mlen\u001b[39m(stringlist[n\u001b[38;5;241m+\u001b[39m\u001b[38;5;241m1\u001b[39m]):\n\u001b[1;32m      7\u001b[0m         longest \u001b[38;5;241m=\u001b[39m stringlist[n\u001b[38;5;241m+\u001b[39m\u001b[38;5;241m1\u001b[39m]\n\u001b[1;32m      9\u001b[0m longest\n",
      "\u001b[0;31mTypeError\u001b[0m: list indices must be integers or slices, not str"
     ]
    }
   ],
   "source": [
    "string = \"bitcoin take over the world maybe who knows perhaps\"\n",
    "stringlist = string.split()\n",
    "longest = ''\n",
    "\n",
    "for n in stringlist:\n",
    "    if len(stringlist[n]) < len(stringlist[n+1]):\n",
    "        longest = stringlist[n+1]\n",
    "\n",
    "longest"
   ]
  },
  {
   "cell_type": "code",
   "execution_count": null,
   "id": "b2d490a3",
   "metadata": {},
   "outputs": [],
   "source": []
  },
  {
   "cell_type": "code",
   "execution_count": null,
   "id": "ad4bd4a7",
   "metadata": {},
   "outputs": [],
   "source": []
  },
  {
   "cell_type": "code",
   "execution_count": null,
   "id": "778e9a83",
   "metadata": {},
   "outputs": [],
   "source": []
  },
  {
   "cell_type": "markdown",
   "id": "52a970df",
   "metadata": {},
   "source": [
    "# Strings"
   ]
  },
  {
   "cell_type": "markdown",
   "id": "71507371",
   "metadata": {},
   "source": [
    "## Manipulation"
   ]
  },
  {
   "cell_type": "code",
   "execution_count": 27,
   "id": "25ab9d58",
   "metadata": {},
   "outputs": [
    {
     "data": {
      "text/plain": [
       "['a',\n",
       " 'a',\n",
       " 'b',\n",
       " 'b',\n",
       " 'b',\n",
       " 'c',\n",
       " 'c',\n",
       " 'c',\n",
       " 'c',\n",
       " 'd',\n",
       " 'e',\n",
       " 'f',\n",
       " 'w',\n",
       " 'w',\n",
       " 'x',\n",
       " 'y']"
      ]
     },
     "execution_count": 27,
     "metadata": {},
     "output_type": "execute_result"
    }
   ],
   "source": [
    "# string -> list, sorted\n",
    "# sorted(STRING)\n",
    "\n",
    "a = \"xyaabbbccccdefww\"\n",
    "sorted(a)"
   ]
  },
  {
   "cell_type": "code",
   "execution_count": 30,
   "id": "70c21067",
   "metadata": {},
   "outputs": [
    {
     "data": {
      "text/plain": [
       "'a a b b b c c c c d e f w w x y'"
      ]
     },
     "execution_count": 30,
     "metadata": {},
     "output_type": "execute_result"
    }
   ],
   "source": [
    "# list -> string: \n",
    "# 'DELIMITER'.join()\n",
    "\n",
    "a = \"xyaabbbccccdefww\"\n",
    "a_inorder = sorted(a)\n",
    "' '.join(a_inorder)"
   ]
  },
  {
   "cell_type": "code",
   "execution_count": 47,
   "id": "a75b7ad8",
   "metadata": {},
   "outputs": [
    {
     "data": {
      "text/plain": [
       "'xyaabbbccccdefwwxxxxyyyyabklmopq'"
      ]
     },
     "execution_count": 47,
     "metadata": {},
     "output_type": "execute_result"
    }
   ],
   "source": [
    "# concactenation \n",
    "a = \"xyaabbbccccdefww\"\n",
    "b = \"xxxxyyyyabklmopq\"\n",
    "a+b"
   ]
  },
  {
   "cell_type": "code",
   "execution_count": 48,
   "id": "6df375a7",
   "metadata": {},
   "outputs": [
    {
     "data": {
      "text/plain": [
       "'y'"
      ]
     },
     "execution_count": 48,
     "metadata": {},
     "output_type": "execute_result"
    }
   ],
   "source": [
    "# indexing\n",
    "a[1]"
   ]
  },
  {
   "cell_type": "markdown",
   "id": "8cf10c4e",
   "metadata": {},
   "source": [
    "#### formatting"
   ]
  },
  {
   "cell_type": "code",
   "execution_count": 24,
   "id": "f3316266",
   "metadata": {},
   "outputs": [
    {
     "data": {
      "text/plain": [
       "'Xyaa bbbccc cdefww'"
      ]
     },
     "execution_count": 24,
     "metadata": {},
     "output_type": "execute_result"
    }
   ],
   "source": [
    "# capitalize first letter of string: .capitalize()\n",
    "a = \"xyaa bbbccc cdefww\"\n",
    "a.capitalize()"
   ]
  },
  {
   "cell_type": "code",
   "execution_count": 23,
   "id": "7a68946c",
   "metadata": {},
   "outputs": [
    {
     "data": {
      "text/plain": [
       "'Xyaabbb Ccccd Efww'"
      ]
     },
     "execution_count": 23,
     "metadata": {},
     "output_type": "execute_result"
    }
   ],
   "source": [
    "# capitalize every word: .title()\n",
    "a = \"xyaabbb ccccd efww\"\n",
    "a.title()"
   ]
  },
  {
   "cell_type": "code",
   "execution_count": 18,
   "id": "8faa164f",
   "metadata": {},
   "outputs": [
    {
     "data": {
      "text/plain": [
       "'a;slkkajdsa;kjwa;kj;k'"
      ]
     },
     "execution_count": 18,
     "metadata": {},
     "output_type": "execute_result"
    }
   ],
   "source": [
    "# lowercase everything: .lower()\n",
    "\n",
    "whatever = 'A;SLKkajdsa;kjwa;KJ;K'\n",
    "whatever.lower()"
   ]
  },
  {
   "cell_type": "code",
   "execution_count": null,
   "id": "7b9bf440",
   "metadata": {},
   "outputs": [],
   "source": []
  },
  {
   "cell_type": "code",
   "execution_count": null,
   "id": "af59dec9",
   "metadata": {},
   "outputs": [],
   "source": []
  },
  {
   "cell_type": "code",
   "execution_count": null,
   "id": "8a62f171",
   "metadata": {},
   "outputs": [],
   "source": []
  },
  {
   "cell_type": "code",
   "execution_count": 44,
   "id": "18d52734",
   "metadata": {},
   "outputs": [
    {
     "data": {
      "text/plain": [
       "'E'"
      ]
     },
     "execution_count": 44,
     "metadata": {},
     "output_type": "execute_result"
    }
   ],
   "source": [
    "# wave problem\n",
    "example_string = 'hello'\n",
    "\n",
    "# indexing\n",
    "example_string[1]\n",
    "\n",
    "# capitalize\n",
    "example_string[1].capitalize()\n",
    "\n",
    "# joining\n",
    "''.join(example_string[1].capitalize())\n"
   ]
  },
  {
   "cell_type": "code",
   "execution_count": null,
   "id": "217a7e9b",
   "metadata": {},
   "outputs": [],
   "source": []
  },
  {
   "cell_type": "code",
   "execution_count": null,
   "id": "9d4e05ee",
   "metadata": {},
   "outputs": [],
   "source": []
  },
  {
   "cell_type": "code",
   "execution_count": 9,
   "id": "cdd11c2d",
   "metadata": {},
   "outputs": [
    {
     "data": {
      "text/plain": [
       "'aabbbccccdefwwxy'"
      ]
     },
     "execution_count": 9,
     "metadata": {},
     "output_type": "execute_result"
    }
   ],
   "source": [
    "# sorting. sort and join\n",
    "\n",
    "a = \"xyaabbbccccdefww\"\n",
    "a_new = ''.join(sorted(a))\n",
    "a_new"
   ]
  },
  {
   "cell_type": "code",
   "execution_count": 17,
   "id": "8984b008",
   "metadata": {},
   "outputs": [
    {
     "data": {
      "text/plain": [
       "['a',\n",
       " 'a',\n",
       " 'b',\n",
       " 'b',\n",
       " 'b',\n",
       " 'c',\n",
       " 'c',\n",
       " 'c',\n",
       " 'c',\n",
       " 'd',\n",
       " 'e',\n",
       " 'f',\n",
       " 'w',\n",
       " 'w',\n",
       " 'x',\n",
       " 'y']"
      ]
     },
     "execution_count": 17,
     "metadata": {},
     "output_type": "execute_result"
    }
   ],
   "source": [
    "# sorted. turns it into a list?\n",
    "\n",
    "sorted(a)"
   ]
  },
  {
   "cell_type": "markdown",
   "id": "2919b415",
   "metadata": {},
   "source": [
    "#### Sets"
   ]
  },
  {
   "cell_type": "code",
   "execution_count": 13,
   "id": "6295508e",
   "metadata": {},
   "outputs": [
    {
     "data": {
      "text/plain": [
       "{'a', 'b', 'c', 'd', 'e', 'f', 'w', 'x', 'y'}"
      ]
     },
     "execution_count": 13,
     "metadata": {},
     "output_type": "execute_result"
    }
   ],
   "source": [
    "# unique values in a string = SET\n",
    "\n",
    "a = \"xyaabbbccccdefww\"\n",
    "b = \"xxxxyyyyabklmopq\"\n",
    "set(a)"
   ]
  },
  {
   "cell_type": "code",
   "execution_count": 20,
   "id": "ecf5af9b",
   "metadata": {},
   "outputs": [
    {
     "data": {
      "text/plain": [
       "['a', 'b', 'c', 'd', 'e', 'f', 'w', 'x', 'y']"
      ]
     },
     "execution_count": 20,
     "metadata": {},
     "output_type": "execute_result"
    }
   ],
   "source": [
    "# sorting (list???)\n",
    "sorted(set(a))"
   ]
  },
  {
   "cell_type": "code",
   "execution_count": 25,
   "id": "8200ccf8",
   "metadata": {},
   "outputs": [
    {
     "data": {
      "text/plain": [
       "'abcdefwxy'"
      ]
     },
     "execution_count": 25,
     "metadata": {},
     "output_type": "execute_result"
    }
   ],
   "source": [
    "# sort and join (back to string)\n",
    "a_sorted_unique = ''.join(sorted(set(a)))\n",
    "a_sorted_unique"
   ]
  },
  {
   "cell_type": "code",
   "execution_count": 27,
   "id": "43708459",
   "metadata": {},
   "outputs": [
    {
     "data": {
      "text/plain": [
       "'xyaabbbccccdefwwxxxxyyyyabklmopq'"
      ]
     },
     "execution_count": 27,
     "metadata": {},
     "output_type": "execute_result"
    }
   ],
   "source": [
    "def longest(a1, a2):\n",
    "    # merge strings\n",
    "    # return unique values, sorted\n",
    "    return ''.join(sorted(set(a1+a2)))"
   ]
  },
  {
   "cell_type": "markdown",
   "id": "a249a25d",
   "metadata": {},
   "source": [
    "# Lists"
   ]
  },
  {
   "cell_type": "markdown",
   "id": "0cbc79a2",
   "metadata": {},
   "source": [
    "## Creating"
   ]
  },
  {
   "cell_type": "code",
   "execution_count": null,
   "id": "93144a56",
   "metadata": {},
   "outputs": [],
   "source": [
    "# Initializing a List\n"
   ]
  },
  {
   "cell_type": "code",
   "execution_count": null,
   "id": "70d9c11b",
   "metadata": {},
   "outputs": [],
   "source": [
    "# inserting stuff\n",
    "# LIST.insert(INDEX, VALUE)\n",
    "\n",
    "thislist = [\"apple\", \"banana\", \"cherry\"]\n",
    "thislist.insert(1, \"orange\")\n",
    "thislist"
   ]
  },
  {
   "cell_type": "code",
   "execution_count": null,
   "id": "db3185f5",
   "metadata": {},
   "outputs": [],
   "source": [
    "# adding stuff to the end\n",
    "# LIST.append(VALUE)\n",
    "\n",
    "thislist = [\"apple\", \"banana\", \"cherry\"]\n",
    "thislist.append(\"orange\") # updates the list\n",
    "thislist"
   ]
  },
  {
   "cell_type": "code",
   "execution_count": null,
   "id": "850a41ae",
   "metadata": {},
   "outputs": [],
   "source": [
    "# List Comprehensions"
   ]
  },
  {
   "cell_type": "markdown",
   "id": "e51ce120",
   "metadata": {},
   "source": [
    "## Read"
   ]
  },
  {
   "cell_type": "markdown",
   "id": "baedafac",
   "metadata": {},
   "source": [
    "Accessing Elements by Index\n"
   ]
  },
  {
   "cell_type": "markdown",
   "id": "957f71ff",
   "metadata": {},
   "source": [
    "Slicing Lists\n"
   ]
  },
  {
   "cell_type": "markdown",
   "id": "36d54228",
   "metadata": {},
   "source": [
    "Iterating Over Lists\n"
   ]
  },
  {
   "cell_type": "markdown",
   "id": "3f6d3669",
   "metadata": {},
   "source": [
    "## Update\n",
    "remember that list methods will run the method on the list and save it (most of the time) but won't print it out"
   ]
  },
  {
   "cell_type": "markdown",
   "id": "769ca640",
   "metadata": {},
   "source": [
    "Modifying Elements by Index\n",
    "Slicing and Assigning"
   ]
  },
  {
   "cell_type": "code",
   "execution_count": 32,
   "id": "76db24f9",
   "metadata": {},
   "outputs": [
    {
     "data": {
      "text/plain": [
       "['apple', 'banana', 'cherry', 'orange']"
      ]
     },
     "execution_count": 32,
     "metadata": {},
     "output_type": "execute_result"
    }
   ],
   "source": []
  },
  {
   "cell_type": "code",
   "execution_count": 9,
   "id": "ea059be3",
   "metadata": {},
   "outputs": [
    {
     "data": {
      "text/plain": [
       "['cherry', 'banana', 'apple']"
      ]
     },
     "execution_count": 9,
     "metadata": {},
     "output_type": "execute_result"
    }
   ],
   "source": [
    "# reversing\n",
    "# LIST.reverse() \n",
    "\n",
    "thislist = [\"apple\", \"banana\", \"cherry\"]\n",
    "thislist.reverse()\n",
    "thislist"
   ]
  },
  {
   "cell_type": "markdown",
   "id": "23c8302e",
   "metadata": {},
   "source": [
    "## Delete\n",
    "- Removing Elements by Value\n",
    "- Removing Elements by Index\n",
    "- Clearing the Entire List"
   ]
  },
  {
   "cell_type": "code",
   "execution_count": 16,
   "id": "18f65a00",
   "metadata": {},
   "outputs": [
    {
     "data": {
      "text/plain": [
       "['banana', 'cherry']"
      ]
     },
     "execution_count": 16,
     "metadata": {},
     "output_type": "execute_result"
    }
   ],
   "source": [
    "# removing\n",
    "# .remove(VALUE)\n",
    "\n",
    "thislist = [\"apple\", \"banana\", \"cherry\"]\n",
    "thislist.remove('apple')\n",
    "thislist"
   ]
  },
  {
   "cell_type": "markdown",
   "id": "69f49738",
   "metadata": {},
   "source": [
    "### Indexing\n",
    "`my_list[start:end:step]`  # start is inclusive, end is exclusive"
   ]
  },
  {
   "cell_type": "code",
   "execution_count": 11,
   "id": "2ddc92fd",
   "metadata": {},
   "outputs": [
    {
     "data": {
      "text/plain": [
       "['bbb', 'ccc', 'ddd']"
      ]
     },
     "execution_count": 11,
     "metadata": {},
     "output_type": "execute_result"
    }
   ],
   "source": [
    "my_list = ['aaa', 'bbb', 'ccc', 'ddd']\n",
    "my_list[1:]"
   ]
  },
  {
   "cell_type": "code",
   "execution_count": 12,
   "id": "467c4025",
   "metadata": {},
   "outputs": [
    {
     "data": {
      "text/plain": [
       "['aaa', 'bbb', 'ccc']"
      ]
     },
     "execution_count": 12,
     "metadata": {},
     "output_type": "execute_result"
    }
   ],
   "source": [
    "# end before last one\n",
    "my_list[:-1] "
   ]
  },
  {
   "cell_type": "code",
   "execution_count": 13,
   "id": "ace9b09e",
   "metadata": {},
   "outputs": [
    {
     "data": {
      "text/plain": [
       "['ccc', 'ddd']"
      ]
     },
     "execution_count": 13,
     "metadata": {},
     "output_type": "execute_result"
    }
   ],
   "source": [
    "# start at second to last one \n",
    "my_list[-2:]"
   ]
  },
  {
   "cell_type": "code",
   "execution_count": 1,
   "id": "dfa5971e",
   "metadata": {},
   "outputs": [
    {
     "data": {
      "text/plain": [
       "['aaa', 'ccc']"
      ]
     },
     "execution_count": 1,
     "metadata": {},
     "output_type": "execute_result"
    }
   ],
   "source": [
    "# step size\n",
    "'''return every second element'''\n",
    "\n",
    "my_list = ['aaa', 'bbb', 'ccc', 'ddd']\n",
    "with_steps = my_list[0::2]\n",
    "with_steps"
   ]
  },
  {
   "cell_type": "code",
   "execution_count": null,
   "id": "bc4d4a42",
   "metadata": {},
   "outputs": [],
   "source": []
  },
  {
   "cell_type": "code",
   "execution_count": null,
   "id": "3f987632",
   "metadata": {},
   "outputs": [],
   "source": []
  },
  {
   "cell_type": "code",
   "execution_count": null,
   "id": "a01e4755",
   "metadata": {},
   "outputs": [],
   "source": [
    "# conditions\n",
    "\n",
    "'''find next square root'''\n",
    "\n",
    "import math\n",
    "\n",
    "def find_next_square(sq):\n",
    "    # Return the next square if sq is a square, -1 otherwise\n",
    "    square_root = math.sqrt(sq)\n",
    "    # if square root is an integer\n",
    "    if square_root % 1 == 0:\n",
    "        return (square_root + 1) ** 2\n",
    "    # if argument is not a perf sq, return, -1, None, or null\n",
    "    else:\n",
    "        return -1"
   ]
  },
  {
   "cell_type": "markdown",
   "id": "cf4d41f5",
   "metadata": {},
   "source": [
    "remove the geese from birds list"
   ]
  },
  {
   "cell_type": "code",
   "execution_count": null,
   "id": "cf119abd",
   "metadata": {},
   "outputs": [],
   "source": [
    "# comparing lists and filtering\n",
    "\n",
    "geese = [\"African\", \"Roman Tufted\", \"Toulouse\", \"Pilgrim\", \"Steinbacher\"]\n",
    "birds =  [\"Mallard\", \"Hook Bill\", \"African\", \"Crested\", \"Pilgrim\", \"Toulouse\", \"Blue Swedish\"]\n",
    "\n",
    "# remove the geese from birds list\n",
    "\n",
    "# old school loop\n",
    "def goose_filter(birds):\n",
    "    final = []\n",
    "    for bird in birds:\n",
    "        if bird not in geese:\n",
    "            final.append(bird)\n",
    "    return final    "
   ]
  },
  {
   "cell_type": "code",
   "execution_count": 61,
   "id": "e1c392fb",
   "metadata": {},
   "outputs": [
    {
     "data": {
      "text/plain": [
       "['Mallard', 'Hook Bill', 'Crested', 'Blue Swedish']"
      ]
     },
     "execution_count": 61,
     "metadata": {},
     "output_type": "execute_result"
    }
   ],
   "source": [
    "# LIST COMP\n",
    "def goose_filter(birds):\n",
    "    return [bird for bird in birds if bird not in geese]\n",
    "\n",
    "goose_filter(birds)"
   ]
  },
  {
   "cell_type": "markdown",
   "id": "9a99e182",
   "metadata": {},
   "source": [
    "label index of each list item:"
   ]
  },
  {
   "cell_type": "code",
   "execution_count": 62,
   "id": "b82932fe",
   "metadata": {},
   "outputs": [],
   "source": [
    "# for i in range(len(arr)):\n",
    "# then compare arr[i] to arr[i+1] or whatever"
   ]
  },
  {
   "cell_type": "code",
   "execution_count": null,
   "id": "77d9a82b",
   "metadata": {},
   "outputs": [],
   "source": []
  },
  {
   "cell_type": "code",
   "execution_count": null,
   "id": "9e08e28e",
   "metadata": {},
   "outputs": [],
   "source": []
  },
  {
   "cell_type": "code",
   "execution_count": null,
   "id": "06252eff",
   "metadata": {},
   "outputs": [],
   "source": [
    "# list comprehension\n",
    "''' invert positives to negatives, negatives to positives'''\n",
    "def invert(lst):\n",
    "    return [-x for x in lst]"
   ]
  },
  {
   "cell_type": "code",
   "execution_count": null,
   "id": "4b247232",
   "metadata": {},
   "outputs": [],
   "source": []
  },
  {
   "cell_type": "code",
   "execution_count": null,
   "id": "bdd5f3ca",
   "metadata": {},
   "outputs": [],
   "source": []
  },
  {
   "cell_type": "code",
   "execution_count": null,
   "id": "384835e6",
   "metadata": {},
   "outputs": [],
   "source": []
  },
  {
   "cell_type": "code",
   "execution_count": null,
   "id": "280a73ef",
   "metadata": {},
   "outputs": [],
   "source": []
  },
  {
   "cell_type": "code",
   "execution_count": null,
   "id": "1c808b16",
   "metadata": {},
   "outputs": [],
   "source": []
  },
  {
   "cell_type": "markdown",
   "id": "cf351baf",
   "metadata": {},
   "source": [
    "# Dictionaries\n",
    "`person = {\"name\": \"Alice\", \"age\": 30, \"city\": \"London\"}`\n"
   ]
  },
  {
   "cell_type": "markdown",
   "id": "1675e9ac",
   "metadata": {},
   "source": [
    "## Creating"
   ]
  },
  {
   "cell_type": "code",
   "execution_count": 14,
   "id": "43816405",
   "metadata": {},
   "outputs": [
    {
     "data": {
      "text/plain": [
       "'Alice'"
      ]
     },
     "execution_count": 14,
     "metadata": {},
     "output_type": "execute_result"
    }
   ],
   "source": [
    "# Adding a new key-value pair\n",
    "person = {\"name\": \"Alice\", \"age\": 30, \"city\": \"London\"}\n",
    "\n",
    "person[\"occupation\"] = \"Programmer\"  \n",
    "person\n",
    "\n"
   ]
  },
  {
   "cell_type": "code",
   "execution_count": 6,
   "id": "e2b3b736",
   "metadata": {},
   "outputs": [],
   "source": [
    "# indexing\n",
    "'''return the answer for how many petals'''\n",
    "\n",
    "def how_much_i_love_you(nb_petals):\n",
    "    return [\"I love you\", \"a little\", \"a lot\", \"passionately\", \"madly\", \"not at all\"][nb_petals % 6 - 1]"
   ]
  },
  {
   "cell_type": "markdown",
   "id": "da02279e",
   "metadata": {},
   "source": [
    "## Reading"
   ]
  },
  {
   "cell_type": "code",
   "execution_count": 17,
   "id": "1571c1e6",
   "metadata": {},
   "outputs": [
    {
     "data": {
      "text/plain": [
       "'Alice'"
      ]
     },
     "execution_count": 17,
     "metadata": {},
     "output_type": "execute_result"
    }
   ],
   "source": [
    "# calling a value using a key\n",
    "person = {\"name\": \"Alice\", \"age\": 30, \"city\": \"London\"}\n",
    "person['name']"
   ]
  },
  {
   "cell_type": "code",
   "execution_count": null,
   "id": "b4cd9417",
   "metadata": {},
   "outputs": [],
   "source": [
    "DICT.keys() #=> LIST of all keys\n",
    "DICT.values() #=> LIST of all values\n",
    "DICT.items() #=> LIST of all pairs as TUPLES\n",
    "\n",
    "\n",
    "len(DICT) #=> NUMBER of key-value pairs\n",
    "\n",
    "DICT[KEY] #=> VALUE\n",
    "DF['KEY1']['KEY2'] # nested. get key2 values inside key1?\n",
    "DICT[\n",
    "DICT.get(KEY, NULLVALUE) #=> VALUE, or NULLVALUE if not there"
   ]
  },
  {
   "cell_type": "code",
   "execution_count": null,
   "id": "4d9e65b4",
   "metadata": {},
   "outputs": [],
   "source": []
  },
  {
   "cell_type": "code",
   "execution_count": null,
   "id": "3b107c64",
   "metadata": {},
   "outputs": [],
   "source": []
  },
  {
   "cell_type": "code",
   "execution_count": null,
   "id": "42175173",
   "metadata": {},
   "outputs": [],
   "source": []
  },
  {
   "cell_type": "code",
   "execution_count": null,
   "id": "e09bbd9c",
   "metadata": {},
   "outputs": [],
   "source": []
  },
  {
   "cell_type": "markdown",
   "id": "473edfb5",
   "metadata": {},
   "source": [
    "## Loops and Iteration"
   ]
  },
  {
   "cell_type": "code",
   "execution_count": null,
   "id": "2b123aed",
   "metadata": {},
   "outputs": [],
   "source": []
  },
  {
   "cell_type": "code",
   "execution_count": null,
   "id": "50f2adce",
   "metadata": {},
   "outputs": [],
   "source": [
    "# count vowels in a string\n",
    "\n",
    "def get_count(sentence):\n",
    "    vowels = 'aeiou'\n",
    "    count = 0\n",
    "    for letter in sentence:\n",
    "        if letter in vowels:\n",
    "            count += 1 \n",
    "    return count"
   ]
  },
  {
   "cell_type": "markdown",
   "id": "0aafa5d0",
   "metadata": {},
   "source": [
    "# Functions\n",
    "`def function_name(parameter1, parameter2, ...):\n",
    "    # Code using the parameters`"
   ]
  },
  {
   "cell_type": "markdown",
   "id": "e0498025",
   "metadata": {},
   "source": [
    "## Functional Programming\n",
    "- Map Function:\n",
    "- Applying a Function to Elements of an Iterable\n",
    "- Syntax and Usage\n",
    "- Examples with Lists, Tuples, Sets, and Dictionaries\n",
    "- Mapping Functions with Multiple Iterables (zip)\n",
    "- Lambda Functions and map()"
   ]
  },
  {
   "cell_type": "code",
   "execution_count": 36,
   "id": "043cb354",
   "metadata": {},
   "outputs": [
    {
     "data": {
      "text/plain": [
       "[23423, 234234, 51323]"
      ]
     },
     "execution_count": 36,
     "metadata": {},
     "output_type": "execute_result"
    }
   ],
   "source": [
    "# Map function: can be used on various iterables (lists, sets, dictionary values, etc)\n",
    "# applies given function to each item of an iterable\n",
    "\n",
    "# map(FUNCTION, ITERABLE)\n",
    "\n",
    "arr = ['23423', '234234', '51323']\n",
    "new_arr = map(int, arr) # this returns a map object, which is NOT a list. it's an iterator.\n",
    "list(new_arr) # need to convert the map object back to a list \n"
   ]
  },
  {
   "cell_type": "code",
   "execution_count": null,
   "id": "2e5b2ee6",
   "metadata": {},
   "outputs": [],
   "source": []
  },
  {
   "cell_type": "code",
   "execution_count": null,
   "id": "bb599ed0",
   "metadata": {},
   "outputs": [],
   "source": []
  },
  {
   "cell_type": "code",
   "execution_count": null,
   "id": "cd995c8c",
   "metadata": {},
   "outputs": [],
   "source": []
  },
  {
   "cell_type": "markdown",
   "id": "e0213a06",
   "metadata": {},
   "source": []
  },
  {
   "cell_type": "markdown",
   "id": "a54bdd58",
   "metadata": {},
   "source": [
    "### Basic Concepts:\n",
    "- Python Syntax and Structure\n",
    "- Comments and Documentation\n",
    "- Data Types\n",
    "  - Integers\n",
    "  - Floats\n",
    "  - Strings\n",
    "  - Booleans\n",
    "  - None\n",
    "- Variables and Assignment\n",
    "\n",
    "### Data Structures:\n",
    "- Lists\n",
    "   - Create:\n",
    "       - Initializing a List\n",
    "       - Appending Elements\n",
    "       - Inserting Elements\n",
    "       - List Comprehensions\n",
    "   - Read:\n",
    "       - Accessing Elements by Index\n",
    "       - Slicing Lists\n",
    "       - Iterating Over Lists\n",
    "   - Update:\n",
    "       - Modifying Elements by Index\n",
    "       - Slicing and Assigning\n",
    "   - Delete:\n",
    "       - Removing Elements by Value\n",
    "       - Removing Elements by Index\n",
    "       - Clearing the Entire List\n",
    "\n",
    "- Tuples\n",
    "   - Create:\n",
    "       - Initializing a Tuple\n",
    "   - Read:\n",
    "       - Accessing Elements by Index\n",
    "       - Tuple Unpacking\n",
    "   - Update:\n",
    "       - Tuples are Immutable (No direct update, create a new tuple)\n",
    "   - Delete:\n",
    "       - Deleting Entire Tuple\n",
    "\n",
    "- Dictionaries\n",
    "   - Create:\n",
    "       - Initializing a Dictionary\n",
    "       - Adding Key-Value Pairs\n",
    "   - Read:\n",
    "       - Accessing Values by Key\n",
    "       - Checking Key Existence\n",
    "       - Iterating Over Keys or Values\n",
    "   - Update:\n",
    "       - Modifying Values by Key\n",
    "       - Adding New Key-Value Pairs\n",
    "   - Delete:\n",
    "       - Removing Key-Value Pairs\n",
    "       - Clearing the Entire Dictionary\n",
    "\n",
    "- Sets\n",
    "   - Create:\n",
    "       - Initializing a Set\n",
    "       - Adding Elements to a Set\n",
    "   - Read:\n",
    "       - Iterating Over Set Elements\n",
    "       - Checking Set Membership\n",
    "   - Update:\n",
    "       - Adding Elements\n",
    "       - Removing Elements\n",
    "   - Delete:\n",
    "       - Removing Elements by Value\n",
    "       - Clearing the Entire Set\n",
    "\n",
    "- Advanced Data Structures (Optional)\n",
    "  - Stacks\n",
    "  - Queues\n",
    "  - Heaps\n",
    "  - Trees\n",
    "  - Graphs\n",
    "\n",
    "### Control Flow:\n",
    "- Conditional Statements (if, elif, else)\n",
    "- Comparison Operators\n",
    "- Logical Operators\n",
    "- Truthiness and Falsiness\n",
    "- Ternary Operator\n",
    "\n",
    "### Loops and Iteration:\n",
    "- for Loops\n",
    "- while Loops\n",
    "- Loop Control Statements (break, continue)\n",
    "- Iterating Over Data Structures\n",
    "\n",
    "### Functions:\n",
    "- Defining Functions\n",
    "- Function Parameters\n",
    "- Return Statement\n",
    "- Scope and Lifetime of Variables\n",
    "- Lambda Functions\n",
    "- Functional Programming\n",
    "  - map(), filter(), reduce()\n",
    "  - Partial Function Application\n",
    "  - Function Composition\n",
    "  - Immutable Data Structures\n",
    "\n",
    "### Modules and Packages:\n",
    "- Importing Modules\n",
    "- Creating and Using Packages\n",
    "- Standard Library Overview\n",
    "\n",
    "### File Handling:\n",
    "- Opening and Closing Files\n",
    "- Reading from Files\n",
    "- Writing to Files\n",
    "- File Modes\n",
    "\n",
    "### Exception Handling:\n",
    "- try, except, finally Blocks\n",
    "- Handling Different Types of Exceptions\n",
    "- Raising Exceptions\n",
    "\n",
    "### Object-Oriented Programming (OOP):\n",
    "- Classes and Objects\n",
    "- Attributes and Methods\n",
    "- Inheritance\n",
    "- Polymorphism\n",
    "- Encapsulation\n",
    "\n",
    "### Additional Topics:\n",
    "- List Comprehensions\n",
    "- Generators and Iterators\n",
    "- Decorators\n",
    "- Context Managers\n",
    "- Virtual Environments\n",
    "- Debugging Techniques\n",
    "- Testing and Test-Driven Development (TDD)\n",
    "- Regular Expressions\n",
    "- Parallel and Concurrent Programming\n",
    "- Memoization\n",
    "- Recursion\n"
   ]
  },
  {
   "cell_type": "code",
   "execution_count": null,
   "id": "68256e7c",
   "metadata": {},
   "outputs": [],
   "source": []
  }
 ],
 "metadata": {
  "kernelspec": {
   "display_name": "Python 3 (ipykernel)",
   "language": "python",
   "name": "python3"
  },
  "language_info": {
   "codemirror_mode": {
    "name": "ipython",
    "version": 3
   },
   "file_extension": ".py",
   "mimetype": "text/x-python",
   "name": "python",
   "nbconvert_exporter": "python",
   "pygments_lexer": "ipython3",
   "version": "3.10.6"
  },
  "toc": {
   "base_numbering": 1,
   "nav_menu": {},
   "number_sections": true,
   "sideBar": true,
   "skip_h1_title": false,
   "title_cell": "Table of Contents",
   "title_sidebar": "Contents",
   "toc_cell": false,
   "toc_position": {},
   "toc_section_display": true,
   "toc_window_display": false
  }
 },
 "nbformat": 4,
 "nbformat_minor": 5
}
