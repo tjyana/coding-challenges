{
 "cells": [
  {
   "cell_type": "markdown",
   "id": "945ab6c4",
   "metadata": {},
   "source": [
    "# CLI stuff"
   ]
  },
  {
   "cell_type": "markdown",
   "id": "6fea53d7",
   "metadata": {},
   "source": [
    "`pwd`: check present working directory"
   ]
  },
  {
   "cell_type": "markdown",
   "id": "0a4ed8c5",
   "metadata": {},
   "source": [
    "`cd DIRECTORY-NAME`: change directory"
   ]
  },
  {
   "cell_type": "markdown",
   "id": "7a4b832d",
   "metadata": {},
   "source": [
    "`ls`: list out directory contents"
   ]
  },
  {
   "cell_type": "markdown",
   "id": "a18a72c9",
   "metadata": {},
   "source": [
    "`mkdir DIRECTORY-NAME`: make directory\n"
   ]
  },
  {
   "cell_type": "markdown",
   "id": "5cb9f94a",
   "metadata": {},
   "source": [
    "`touch FILENAME`: create a file"
   ]
  },
  {
   "cell_type": "markdown",
   "id": "8d74055a",
   "metadata": {},
   "source": [
    "`mv FILE-YOU-WANT-TO-MOVE PATH-YOU-WANT-TO-MOVE-TO`: moving a file\n",
    "`mv -r DIRECTORY-YOU-WANT-TO-MOVE DIRECTORY-PATH-YOU-WANT-TO-MOVE-TO`: moving a directory. -r recursive command"
   ]
  },
  {
   "cell_type": "markdown",
   "id": "877f7038",
   "metadata": {},
   "source": []
  }
 ],
 "metadata": {
  "kernelspec": {
   "display_name": "Python 3 (ipykernel)",
   "language": "python",
   "name": "python3"
  },
  "language_info": {
   "codemirror_mode": {
    "name": "ipython",
    "version": 3
   },
   "file_extension": ".py",
   "mimetype": "text/x-python",
   "name": "python",
   "nbconvert_exporter": "python",
   "pygments_lexer": "ipython3",
   "version": "3.10.6"
  },
  "toc": {
   "base_numbering": 1,
   "nav_menu": {},
   "number_sections": true,
   "sideBar": true,
   "skip_h1_title": false,
   "title_cell": "Table of Contents",
   "title_sidebar": "Contents",
   "toc_cell": false,
   "toc_position": {},
   "toc_section_display": true,
   "toc_window_display": false
  }
 },
 "nbformat": 4,
 "nbformat_minor": 5
}
