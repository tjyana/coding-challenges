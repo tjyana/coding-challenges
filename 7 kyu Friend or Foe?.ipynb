{
 "cells": [
  {
   "cell_type": "code",
   "execution_count": null,
   "id": "564ab661",
   "metadata": {},
   "outputs": [],
   "source": [
    "Make a program that filters a list of strings and returns a list with only your friends name in it.\n",
    "\n",
    "If a name has exactly 4 letters in it, you can be sure that it has to be a friend of yours! Otherwise, you can be sure he's not...\n",
    "\n",
    "Ex: Input = [\"Ryan\", \"Kieran\", \"Jason\", \"Yous\"], Output = [\"Ryan\", \"Yous\"]\n",
    "\n",
    "i.e.\n",
    "\n",
    "friend [\"Ryan\", \"Kieran\", \"Mark\"] `shouldBe` [\"Ryan\", \"Mark\"]\n",
    "Note: keep the original order of the names in the output."
   ]
  },
  {
   "cell_type": "code",
   "execution_count": null,
   "id": "f1195142",
   "metadata": {},
   "outputs": [],
   "source": [
    "def friend(x):\n",
    "    counter = 0\n",
    "    for person in x:\n",
    "        "
   ]
  },
  {
   "cell_type": "code",
   "execution_count": 2,
   "id": "fc470776",
   "metadata": {},
   "outputs": [
    {
     "data": {
      "text/plain": [
       "0"
      ]
     },
     "execution_count": 2,
     "metadata": {},
     "output_type": "execute_result"
    }
   ],
   "source": [
    "# count number of letters \n",
    "# append only the 4 letter ones?\n",
    "x = [\"Ryan\", \"Kieran\", \"Jason\", \"Yous\"]\n",
    "\n",
    "\n",
    "x.count(str)"
   ]
  },
  {
   "cell_type": "code",
   "execution_count": 6,
   "id": "ad88d603",
   "metadata": {},
   "outputs": [
    {
     "name": "stdout",
     "output_type": "stream",
     "text": [
      "Ryan\n",
      "Kieran\n",
      "Jason\n",
      "Yous\n",
      "0\n"
     ]
    }
   ],
   "source": [
    "import re\n",
    "\n",
    "for friend in x:\n",
    "    print(friend)\n",
    "    letters = friend.count(r\"[a-z]\")\n",
    "\n",
    "print(letters)"
   ]
  },
  {
   "cell_type": "code",
   "execution_count": 11,
   "id": "acfcae9d",
   "metadata": {},
   "outputs": [
    {
     "data": {
      "text/plain": [
       "['Ryan', 'Yous']"
      ]
     },
     "execution_count": 11,
     "metadata": {},
     "output_type": "execute_result"
    }
   ],
   "source": [
    "# first solution that passed\n",
    "\n",
    "final_list = []\n",
    "for friend in x:\n",
    "    if range(len(friend)) == range(0, 4):\n",
    "        final_list.append(friend)\n",
    "        \n",
    "return final_list"
   ]
  },
  {
   "cell_type": "code",
   "execution_count": 10,
   "id": "813564ae",
   "metadata": {},
   "outputs": [
    {
     "name": "stdout",
     "output_type": "stream",
     "text": [
      "range(0, 4)\n",
      "range(0, 6)\n",
      "range(0, 5)\n",
      "range(0, 4)\n"
     ]
    }
   ],
   "source": [
    "for friend in x:\n",
    "    print(range(len(friend)))"
   ]
  },
  {
   "cell_type": "code",
   "execution_count": 14,
   "id": "4564fa78",
   "metadata": {},
   "outputs": [
    {
     "data": {
      "text/plain": [
       "['Ryan', 'Yous']"
      ]
     },
     "execution_count": 14,
     "metadata": {},
     "output_type": "execute_result"
    }
   ],
   "source": [
    "# refactoring\n",
    "\n",
    "def friend(x):\n",
    "    final_list = []\n",
    "    for friend in x:\n",
    "        if len(friend) == 4:\n",
    "            final_list.append(friend)\n",
    "\n",
    "    return final_list\n",
    "\n",
    "friend(x)"
   ]
  },
  {
   "cell_type": "code",
   "execution_count": 19,
   "id": "f59835bd",
   "metadata": {},
   "outputs": [
    {
     "data": {
      "text/plain": [
       "['Ryan', 'Yous']"
      ]
     },
     "execution_count": 19,
     "metadata": {},
     "output_type": "execute_result"
    }
   ],
   "source": [
    "# refactor with list comp\n",
    "\n",
    "def friend(x):\n",
    "    new_list = []\n",
    "    [new_list.append(friend) for friend in x if len(friend) == 4]\n",
    "    return new_list\n",
    "\n",
    "friend(x)"
   ]
  },
  {
   "cell_type": "code",
   "execution_count": 21,
   "id": "9d327e9c",
   "metadata": {},
   "outputs": [
    {
     "data": {
      "text/plain": [
       "['Ryan', 'Yous']"
      ]
     },
     "execution_count": 21,
     "metadata": {},
     "output_type": "execute_result"
    }
   ],
   "source": [
    "# refactoring list comp even more\n",
    "# same as above\n",
    "\n",
    "def friend(x):\n",
    "    return [friend for friend in x if len(friend) == 4]\n",
    "\n",
    "\n",
    "friend(x)"
   ]
  },
  {
   "cell_type": "code",
   "execution_count": null,
   "id": "6fe8b7d4",
   "metadata": {},
   "outputs": [],
   "source": []
  }
 ],
 "metadata": {
  "kernelspec": {
   "display_name": "Python 3 (ipykernel)",
   "language": "python",
   "name": "python3"
  },
  "language_info": {
   "codemirror_mode": {
    "name": "ipython",
    "version": 3
   },
   "file_extension": ".py",
   "mimetype": "text/x-python",
   "name": "python",
   "nbconvert_exporter": "python",
   "pygments_lexer": "ipython3",
   "version": "3.10.6"
  },
  "toc": {
   "base_numbering": 1,
   "nav_menu": {},
   "number_sections": true,
   "sideBar": true,
   "skip_h1_title": false,
   "title_cell": "Table of Contents",
   "title_sidebar": "Contents",
   "toc_cell": false,
   "toc_position": {},
   "toc_section_display": true,
   "toc_window_display": false
  }
 },
 "nbformat": 4,
 "nbformat_minor": 5
}
